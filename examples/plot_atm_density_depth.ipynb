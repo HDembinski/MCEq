{
 "metadata": {
  "name": "",
  "signature": "sha256:b507f8605a36e7f96ebb681ab7b93541a9d20bb6fcec82c5bab8daaaa3aa0498"
 },
 "nbformat": 3,
 "nbformat_minor": 0,
 "worksheets": [
  {
   "cells": [
    {
     "cell_type": "markdown",
     "metadata": {},
     "source": [
      "Atmospheres\n",
      "-----------\n",
      "\n",
      "This notebook demonstrates how to create objects and plot some the density-depth relation of atmospheres without using the cascade equation core code. The code will produce Figure 4 from the proceedings.\n",
      "\n",
      "If running for the first time, a cache file will be created to store the interpolation parameters for the integrated density profiles. The second run will use the cache and run much quicker. The integration itself can be optimized *in future* by using multiple cores or a different integrator.\n",
      "\n",
      "**Note**: When using the *native* Python interface to NRLMSISE-00, the depth integration is **extremely slow** (1-3 minutes). As soon as the lincese questions with the ctypes interface to the pure-C code are solved this will be not an issue."
     ]
    },
    {
     "cell_type": "code",
     "collapsed": false,
     "input": [
      "#standard imports\n",
      "%load_ext autoreload\n",
      "%autoreload 2\n",
      "%matplotlib inline\n",
      "import os\n",
      "import matplotlib.pyplot as plt\n",
      "os.chdir('..')\n",
      "#just import the density_profile module to test the classes\n",
      "from MCEq.density_profiles import *"
     ],
     "language": "python",
     "metadata": {},
     "outputs": [],
     "prompt_number": 1
    },
    {
     "cell_type": "markdown",
     "metadata": {},
     "source": [
      "Create instances of the atmospheric objects and plot."
     ]
    },
    {
     "cell_type": "code",
     "collapsed": false,
     "input": [
      "us_obj = CorsikaAtmosphere('BK_USStd', None)\n",
      "sps_obj = CorsikaAtmosphere('PL_SouthPole', 'January')\n",
      "spw_obj = CorsikaAtmosphere('PL_SouthPole', 'August')\n",
      "msps_obj = MSIS00Atmosphere('SouthPole', 'January')\n",
      "mspw_obj = MSIS00Atmosphere('SouthPole', 'August')"
     ],
     "language": "python",
     "metadata": {},
     "outputs": [],
     "prompt_number": 2
    },
    {
     "cell_type": "code",
     "collapsed": false,
     "input": [
      "fig = plt.figure(figsize=(4,3))\n",
      "ax = fig.add_subplot(111)\n",
      "# set_theta will trigger integration and cache look-up \n",
      "us_obj.set_theta(0.0)\n",
      "sps_obj.set_theta(0.0)\n",
      "spw_obj.set_theta(0.0)\n",
      "msps_obj.set_theta(0.0)\n",
      "mspw_obj.set_theta(0.0)\n",
      "\n",
      "# obtain the depth value corresponding to the surface from obj.X_surf \n",
      "x_vec = np.linspace(0, us_obj.X_surf, 10000) \n",
      "plt.plot(x_vec, 1e3 / us_obj.r_X2rho(x_vec),label='US Standard',lw=1.5,color='black')\n",
      "plt.plot(x_vec, 1e3 / spw_obj.r_X2rho(x_vec),label='CKA, SP/Aug',lw=1.5,color='red')\n",
      "plt.plot(x_vec, 1e3 / sps_obj.r_X2rho(x_vec),label='CKA, SP/Jan',lw=1.5,color='green')\n",
      "plt.plot(x_vec, 1e3 / mspw_obj.r_X2rho(x_vec),label='MSIS00, SP/Aug',lw=1.5,color='cyan')\n",
      "plt.plot(x_vec, 1e3 / msps_obj.r_X2rho(x_vec),label='MSIS00, SP/Jan',lw=1.5,color='blue')\n",
      "\n",
      "us_obj.set_theta(70.0)\n",
      "sps_obj.set_theta(70.0)\n",
      "spw_obj.set_theta(70.0)\n",
      "msps_obj.set_theta(70.0)\n",
      "mspw_obj.set_theta(70.0)\n",
      "x_vec = np.linspace(0, us_obj.X_surf, 10000)\n",
      "plt.plot(x_vec, 1e3 / us_obj.r_X2rho(x_vec),label='_nolabel_',lw=1.5, ls='--', color='black')\n",
      "plt.plot(x_vec, 1e3 / spw_obj.r_X2rho(x_vec),label='_nolabel_',lw=1.5, ls='--', color='red')\n",
      "plt.plot(x_vec, 1e3 / sps_obj.r_X2rho(x_vec),label='_nolabel_',lw=1.5, ls='--', color='green')\n",
      "plt.plot(x_vec, 1e3 / mspw_obj.r_X2rho(x_vec),label='_nolabel_',lw=1.5, ls='--', color='cyan')\n",
      "plt.plot(x_vec, 1e3 / msps_obj.r_X2rho(x_vec),label='_nolabel_',lw=1.5, ls='--', color='blue')\n",
      "plt.xlim([0,4000])\n",
      "plt.legend(loc='lower right', frameon=False)\n",
      "\n",
      "ax.spines['right'].set_visible(False)\n",
      "ax.spines['top'].set_visible(False)\n",
      "ax.xaxis.set_ticks_position('bottom')\n",
      "ax.yaxis.set_major_locator(plt.MaxNLocator(nbins=4))\n",
      "ax.yaxis.tick_left()\n",
      "plt.xlabel('slant depth $X$ in [g/cm$^2$]')\n",
      "plt.ylabel(r'mass density $\\rho$ in [10$^{-3}$g/cm$^3$]')\n",
      "plt.tight_layout()\n",
      "# plt.savefig('/Users/afedynitch/Desktop/rho_X.pdf')"
     ],
     "language": "python",
     "metadata": {},
     "outputs": [
      {
       "output_type": "stream",
       "stream": "stdout",
       "text": [
        "atmospheres::_load_cache(): loading cache.\n",
        "density_profiles::_load_cache(): creating new cache..\n",
        "CorsikaAtmosphere::calculate_density_spline(): Calculating spline of rho(X) for zenith 0.0 degrees."
       ]
      },
      {
       "output_type": "stream",
       "stream": "stdout",
       "text": [
        "\n",
        ".. took 7.01s"
       ]
      },
      {
       "output_type": "stream",
       "stream": "stdout",
       "text": [
        "\n",
        "Average spline error: "
       ]
      },
      {
       "output_type": "stream",
       "stream": "stdout",
       "text": [
        "2.02961401243e-16\n",
        "density_profiles::_dump_cache() dumping cache.\n",
        "./data/atm_cache.ppd\n",
        "atmospheres::_load_cache(): loading cache.\n",
        "CorsikaAtmosphere::calculate_density_spline(): Calculating spline of rho(X) for zenith 0.0 degrees.\n",
        ".. took 9.29s"
       ]
      },
      {
       "output_type": "stream",
       "stream": "stdout",
       "text": [
        "\n",
        "Average spline error: 2.02170362941e-16\n",
        "density_profiles::_dump_cache() dumping cache.\n",
        "./data/atm_cache.ppd\n",
        "atmospheres::_load_cache(): loading cache.\n",
        "CorsikaAtmosphere::calculate_density_spline(): Calculating spline of rho(X) for zenith 0.0 degrees."
       ]
      },
      {
       "output_type": "stream",
       "stream": "stdout",
       "text": [
        "\n",
        ".. took 6.96s"
       ]
      },
      {
       "output_type": "stream",
       "stream": "stdout",
       "text": [
        "\n",
        "Average spline error: "
       ]
      },
      {
       "output_type": "stream",
       "stream": "stdout",
       "text": [
        "1.96355740285e-16\n",
        "density_profiles::_dump_cache() dumping cache.\n",
        "./data/atm_cache.ppd\n",
        "atmospheres::_load_cache(): loading cache.\n",
        "MSIS00Atmosphere::calculate_density_spline(): Calculating spline of rho(X) for zenith 0.0 degrees.\n",
        ".. took 148.37s"
       ]
      },
      {
       "output_type": "stream",
       "stream": "stdout",
       "text": [
        "\n",
        "Average spline error:"
       ]
      },
      {
       "output_type": "stream",
       "stream": "stdout",
       "text": [
        " 1.99438827602e-16\n",
        "density_profiles::_dump_cache() dumping cache.\n",
        "./data/atm_cache.ppd\n",
        "atmospheres::_load_cache(): loading cache.\n",
        "MSIS00Atmosphere::calculate_density_spline(): Calculating spline of rho(X) for zenith 0.0 degrees.\n",
        ".. took 132.91s"
       ]
      },
      {
       "output_type": "stream",
       "stream": "stdout",
       "text": [
        "\n",
        "Average spline error:"
       ]
      },
      {
       "output_type": "stream",
       "stream": "stdout",
       "text": [
        " 2.03082825963e-16\n",
        "density_profiles::_dump_cache() dumping cache.\n",
        "./data/atm_cache.ppd\n",
        "atmospheres::_load_cache(): loading cache.\n",
        "CorsikaAtmosphere::calculate_density_spline(): Calculating spline of rho(X) for zenith 70.0 degrees.\n",
        ".. took 6.95s"
       ]
      },
      {
       "output_type": "stream",
       "stream": "stdout",
       "text": [
        "\n",
        "Average spline error: 1.98230002374e-16\n",
        "density_profiles::_dump_cache() dumping cache.\n",
        "./data/atm_cache.ppd\n",
        "atmospheres::_load_cache(): loading cache.\n",
        "CorsikaAtmosphere::calculate_density_spline(): Calculating spline of rho(X) for zenith 70.0 degrees."
       ]
      },
      {
       "output_type": "stream",
       "stream": "stdout",
       "text": [
        "\n",
        ".. took 6.91s"
       ]
      },
      {
       "output_type": "stream",
       "stream": "stdout",
       "text": [
        "\n",
        "Average spline error: "
       ]
      },
      {
       "output_type": "stream",
       "stream": "stdout",
       "text": [
        "2.01284383533e-16\n",
        "density_profiles::_dump_cache() dumping cache.\n",
        "./data/atm_cache.ppd\n",
        "atmospheres::_load_cache(): loading cache.\n",
        "CorsikaAtmosphere::calculate_density_spline(): Calculating spline of rho(X) for zenith 70.0 degrees.\n",
        ".. took 6.95s"
       ]
      },
      {
       "output_type": "stream",
       "stream": "stdout",
       "text": [
        "\n",
        "Average spline error: 2.08325888307e-16\n",
        "density_profiles::_dump_cache() dumping cache.\n",
        "./data/atm_cache.ppd\n",
        "atmospheres::_load_cache(): loading cache.\n",
        "MSIS00Atmosphere::calculate_density_spline(): Calculating spline of rho(X) for zenith 70.0 degrees."
       ]
      },
      {
       "output_type": "stream",
       "stream": "stdout",
       "text": [
        "\n",
        ".. took 143.39s"
       ]
      },
      {
       "output_type": "stream",
       "stream": "stdout",
       "text": [
        "\n",
        "Average spline error:"
       ]
      },
      {
       "output_type": "stream",
       "stream": "stdout",
       "text": [
        " 1.97295096979e-16\n",
        "density_profiles::_dump_cache() dumping cache.\n",
        "./data/atm_cache.ppd\n",
        "atmospheres::_load_cache(): loading cache.\n",
        "MSIS00Atmosphere::calculate_density_spline(): Calculating spline of rho(X) for zenith 70.0 degrees.\n",
        ".. took 130.89s"
       ]
      },
      {
       "output_type": "stream",
       "stream": "stdout",
       "text": [
        "\n",
        "Average spline error:"
       ]
      },
      {
       "output_type": "stream",
       "stream": "stdout",
       "text": [
        " 1.94653475062e-16\n",
        "density_profiles::_dump_cache() dumping cache.\n",
        "./data/atm_cache.ppd\n"
       ]
      },
      {
       "metadata": {},
       "output_type": "display_data",
       "png": "[encoded data removed]",
       "text": [
        "<matplotlib.figure.Figure at 0x106d5b050>"
       ]
      }
     ],
     "prompt_number": 3
    },
    {
     "cell_type": "code",
     "collapsed": false,
     "input": [],
     "language": "python",
     "metadata": {},
     "outputs": []
    }
   ],
   "metadata": {}
  }
 ]
}