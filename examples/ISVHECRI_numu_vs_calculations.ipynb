{
 "metadata": {
  "name": "",
  "signature": "sha256:85f6f7652599894348a0df6d433eb96327ed875b2edb9c9713dd8d1c49564cd9"
 },
 "nbformat": 3,
 "nbformat_minor": 0,
 "worksheets": [
  {
   "cells": [
    {
     "cell_type": "code",
     "collapsed": false,
     "input": [
      "#import the usual modules\n",
      "%load_ext autoreload\n",
      "%matplotlib inline\n",
      "%autoreload 2\n",
      "import os\n",
      "from os.path import join\n",
      "os.chdir('..')\n",
      "import matplotlib.pyplot as plt\n",
      "import numpy as np\n",
      "\n",
      "from MCEq.core import MCEqRun\n",
      "import CRFluxModels as pm\n",
      "from mceq_config import config, mceq_config_without"
     ],
     "language": "python",
     "metadata": {},
     "outputs": [
      {
       "output_type": "stream",
       "stream": "stderr",
       "text": [
        "Vendor:  Continuum Analytics, Inc.\n",
        "Package: mkl\n",
        "Message: trial mode expires in 18 days\n",
        "Vendor:  Continuum Analytics, Inc.\n",
        "Package: mkl\n",
        "Message: trial mode expires in 18 days\n"
       ]
      }
     ],
     "prompt_number": 1
    },
    {
     "cell_type": "code",
     "collapsed": false,
     "input": [
      "mceq_run = MCEqRun(\n",
      "\n",
      "interaction_model='SIBYLL2.3_rc1',\n",
      "\n",
      "primary_model=(pm.Thunman,None),\n",
      "#Do not provide any default values to avoid unnecessary initilizations\n",
      "theta_deg=60.,\n",
      "# Expand the rest of parameters\n",
      "**config\n",
      "\n",
      ")"
     ],
     "language": "python",
     "metadata": {},
     "outputs": [
      {
       "output_type": "stream",
       "stream": "stdout",
       "text": [
        "\n",
        "Hadrons:\n",
        "\n",
        "\"p-bar\", \"p\", \"n-bar\", \"n\", \"pi+\", \"pi-\", \"K0L\", \"K+\", \n",
        "\"K-\"\n",
        "\n",
        "Mixed:\n",
        "\n",
        "\"Lambda0-bar\", \"Lambda0\", \"Xi0-bar\", \"Xi0\", \"K0S\", \"Xi--bar\", \"Xi-\", \"Sigma--bar\", \n",
        "\"Sigma-\", \"Sigma+-bar\", \"Sigma+\", \"Omega--bar\", \"Omega-\", \"D+\", \"D-\", \"Ds+\", \n",
        "\"Ds-\", \"D0\", \"D0-bar\", \"XiC+-bar\", \"XiC+\", \"tau+\", \"tau-\", \"LambdaC+-bar\", \n",
        "\"LambdaC+\", \"XiC0-bar\", \"XiC0\", \"OmegaC0-bar\", \"OmegaC0\", \"pi0\"\n",
        "\n",
        "Resonances:\n",
        "\n",
        "\"eta\", \"Sigma0-bar\", \"Sigma0\", \"D*+\", \"D*-\", \"eta*\", \"jpsi\", \"phi\", \n",
        "\"SigmaC0-bar\", \"SigmaC0\", \"SigmaC+-bar\", \"SigmaC+\", \"SigmaC++-bar\", \"SigmaC++\", \"omega\", \"Xi*0-bar\", \n",
        "\"Xi*0\", \"Xi*--bar\", \"Xi*-\", \"SigmaC*0-bar\", \"SigmaC*0\", \"SigmaC*++-bar\", \"SigmaC*++\", \"SigmaC*+-bar\", \n",
        "\"SigmaC*+\", \"K*0\", \"K*0-bar\", \"K*+\", \"K*-\", \"Sigma*+-bar\", \"Sigma*+\", \"Sigma*0-bar\", \n",
        "\"Sigma*0\", \"Sigma*--bar\", \"Sigma*-\", \"etaC\", \"rho+\", \"rho-\", \"rho0\", \"Delta--bar\", \n",
        "\"Delta0-bar\", \"Delta+-bar\", \"Delta++-bar\", \"Delta++\", \"Delta+\", \"Delta0\", \"Delta-\", \"D*0\", \n",
        "\"D*0-bar\", \"XiC*0-bar\", \"XiC*+-bar\", \"XiC*+\", \"XiC*0\", \"Ds*+\", \"Ds*-\"\n",
        "\n",
        "Leptons:\n",
        "\n",
        "\"nue\", \"numu\", \"nutau\", \"antinue\", \"antinumu\", \"antinutau\", \"nue\", \"numu\", \n",
        "\"nutau\", \"antinue\", \"antinumu\", \"antinutau\", \"mu-\", \"mu+\", \"mu-\", \"mu+\"\n",
        "\n",
        "Aliases:\n",
        "\"pr_nue\", \"pr_numu\", \"pr_nutau\", \"pi_nue\", \"pi_numu\", \"pi_nutau\", \"k_nue\", \"k_numu\", \n",
        "\"k_nutau\", \"obs_nue\", \"obs_numu\", \"obs_nutau\", \"pr_antinue\", \"pr_antinumu\", \"pr_antinutau\", \"pi_antinue\", \n",
        "\"pi_antinumu\", \"pi_antinutau\", \"k_antinue\", \"k_antinumu\", \"k_antinutau\", \"obs_antinue\", \"obs_antinumu\", \"obs_antinutau\", \n",
        "\"pr_mu-\", \"pi_mu-\", \"k_mu-\", \"obs_mu-\", \"pr_mu+\", \"pi_mu+\", \"k_mu+\", \"obs_mu+\"\n",
        "\n",
        "Total number of species: 87\n",
        "MCEqRun::set_interaction_model():  SIBYLL2.3_rc1\n",
        "InteractionYields:set_interaction_model():: Model SIBYLL2.3_rc1 already loaded.\n",
        "MCEqRun::_init_default_matrices():Start filling matrices.\n",
        "MCEqRun::_convert_to_sparse():Converting to sparse (CSR) matrix format."
       ]
      },
      {
       "output_type": "stream",
       "stream": "stdout",
       "text": [
        "\n",
        "C Matrix info:"
       ]
      },
      {
       "output_type": "stream",
       "stream": "stdout",
       "text": [
        "\n",
        "    density    : 7.3207942769e-07\n",
        "    shape      : (6264, 6264)\n",
        "    nnz        : 1365972\n",
        "D Matrix info:\n",
        "    density    : 3.44531764106e-06\n",
        "    shape      : (6264, 6264)\n",
        "    nnz        : 290249\n",
        "MCEqRun::_init_default_matrices():Done filling matrices.\n",
        "MCEqRun::set_atm_model(): "
       ]
      },
      {
       "output_type": "stream",
       "stream": "stdout",
       "text": [
        " CORSIKA BK_USStd None\n",
        "MCEqRun::set_theta_deg():  60.0\n",
        "atmospheres::_load_cache(): loading cache.\n",
        "MCEqRun::set_primary_model():  Thunman None\n"
       ]
      }
     ],
     "prompt_number": 2
    },
    {
     "cell_type": "code",
     "collapsed": false,
     "input": [
      "iamodel_list = [('SIBYLL2.3_rc1',None,'SIBYLL2.3 RC1','black'),\n",
      "                ('SIBYLL2.3_rc1','sibyll23_pl','SIBYLL2.3 PL','magenta'),\n",
      "                ('SIBYLL2.3_rc1','MRS','SIBYLL + MRS','blue'),\n",
      "                ('DPMJET-2.55',None,'DPMJET-2.55','green')]"
     ],
     "language": "python",
     "metadata": {},
     "outputs": [],
     "prompt_number": 11
    },
    {
     "cell_type": "code",
     "collapsed": false,
     "input": [
      "mag = 3.\n",
      "mu = {}\n",
      "numu = {}\n",
      "nue = {}\n",
      "nutau = {}\n",
      "for iam, iaopts, title, col in iamodel_list:\n",
      "    mceq_run.set_interaction_model(iam,iaopts)\n",
      "    mceq_run.solve()\n",
      "    mu[title] = mceq_run.get_solution('pr_mu+', mag) + \\\n",
      "                mceq_run.get_solution('pr_mu-', mag)\n",
      "    numu[title] = mceq_run.get_solution('pr_numu', mag) + \\\n",
      "                  mceq_run.get_solution('pr_antinumu', mag)\n",
      "    nue[title] = mceq_run.get_solution('pr_nue', mag) + \\\n",
      "                 mceq_run.get_solution('pr_antinue', mag)\n",
      "    nutau[title] = mceq_run.get_solution('pr_nutau', mag) + \\\n",
      "                   mceq_run.get_solution('pr_antinutau', mag)\n",
      "\n",
      "e_grid = mceq_run.e_grid"
     ],
     "language": "python",
     "metadata": {},
     "outputs": [
      {
       "output_type": "stream",
       "stream": "stdout",
       "text": [
        "MCEqRun::set_interaction_model():  SIBYLL2.3_rc1\n",
        "MCEqRun::_init_default_matrices():Start filling matrices.\n",
        "MCEqRun::_convert_to_sparse():Converting to sparse (CSR) matrix format."
       ]
      },
      {
       "output_type": "stream",
       "stream": "stdout",
       "text": [
        "\n",
        "C Matrix info:"
       ]
      },
      {
       "output_type": "stream",
       "stream": "stderr",
       "text": [
        "  0% |                                                         | ETA:  --:--:--\r",
        "  1% |                                                          | ETA:  0:00:12\r"
       ]
      },
      {
       "output_type": "stream",
       "stream": "stderr",
       "text": [
        "  2% |#                                                         | ETA:  0:00:12\r",
        "  3% |#                                                         | ETA:  0:00:11\r"
       ]
      },
      {
       "output_type": "stream",
       "stream": "stderr",
       "text": [
        "  4% |##                                                        | ETA:  0:00:11\r",
        "  5% |##                                                        | ETA:  0:00:11\r"
       ]
      },
      {
       "output_type": "stream",
       "stream": "stderr",
       "text": [
        "  6% |###                                                       | ETA:  0:00:11\r",
        "  7% |####                                                      | ETA:  0:00:10\r"
       ]
      },
      {
       "output_type": "stream",
       "stream": "stderr",
       "text": [
        "  8% |####                                                      | ETA:  0:00:10\r",
        "  9% |#####                                                     | ETA:  0:00:10\r"
       ]
      },
      {
       "output_type": "stream",
       "stream": "stderr",
       "text": [
        " 10% |#####                                                     | ETA:  0:00:10\r",
        " 11% |######                                                    | ETA:  0:00:10\r"
       ]
      },
      {
       "output_type": "stream",
       "stream": "stderr",
       "text": [
        " 12% |#######                                                   | ETA:  0:00:10\r",
        " 13% |#######                                                   | ETA:  0:00:10\r"
       ]
      },
      {
       "output_type": "stream",
       "stream": "stderr",
       "text": [
        " 14% |########                                                  | ETA:  0:00:10\r",
        " 15% |########                                                  | ETA:  0:00:09\r"
       ]
      },
      {
       "output_type": "stream",
       "stream": "stderr",
       "text": [
        " 16% |#########                                                 | ETA:  0:00:09\r",
        " 17% |#########                                                 | ETA:  0:00:09\r"
       ]
      },
      {
       "output_type": "stream",
       "stream": "stderr",
       "text": [
        " 18% |##########                                                | ETA:  0:00:09\r",
        " 19% |###########                                               | ETA:  0:00:09\r"
       ]
      },
      {
       "output_type": "stream",
       "stream": "stderr",
       "text": [
        " 20% |###########                                               | ETA:  0:00:09\r",
        " 21% |############                                              | ETA:  0:00:09\r"
       ]
      },
      {
       "output_type": "stream",
       "stream": "stderr",
       "text": [
        " 22% |############                                              | ETA:  0:00:09\r",
        " 23% |#############                                             | ETA:  0:00:09\r"
       ]
      },
      {
       "output_type": "stream",
       "stream": "stderr",
       "text": [
        " 24% |##############                                            | ETA:  0:00:09\r",
        " 25% |##############                                            | ETA:  0:00:09\r"
       ]
      },
      {
       "output_type": "stream",
       "stream": "stderr",
       "text": [
        " 26% |###############                                           | ETA:  0:00:08\r",
        " 27% |###############                                           | ETA:  0:00:08\r"
       ]
      },
      {
       "output_type": "stream",
       "stream": "stderr",
       "text": [
        " 28% |################                                          | ETA:  0:00:08\r",
        " 29% |################                                          | ETA:  0:00:08\r"
       ]
      },
      {
       "output_type": "stream",
       "stream": "stderr",
       "text": [
        " 30% |#################                                         | ETA:  0:00:08\r",
        " 31% |##################                                        | ETA:  0:00:08\r"
       ]
      },
      {
       "output_type": "stream",
       "stream": "stderr",
       "text": [
        " 32% |##################                                        | ETA:  0:00:08\r",
        " 33% |###################                                       | ETA:  0:00:08\r"
       ]
      },
      {
       "output_type": "stream",
       "stream": "stderr",
       "text": [
        " 34% |###################                                       | ETA:  0:00:07\r",
        " 35% |####################                                      | ETA:  0:00:07\r"
       ]
      },
      {
       "output_type": "stream",
       "stream": "stderr",
       "text": [
        " 36% |#####################                                     | ETA:  0:00:07\r",
        " 37% |#####################                                     | ETA:  0:00:07\r"
       ]
      },
      {
       "output_type": "stream",
       "stream": "stderr",
       "text": [
        " 38% |######################                                    | ETA:  0:00:07\r",
        " 39% |######################                                    | ETA:  0:00:07\r"
       ]
      },
      {
       "output_type": "stream",
       "stream": "stderr",
       "text": [
        " 40% |#######################                                   | ETA:  0:00:07\r",
        " 41% |#######################                                   | ETA:  0:00:07\r"
       ]
      },
      {
       "output_type": "stream",
       "stream": "stderr",
       "text": [
        " 42% |########################                                  | ETA:  0:00:07\r",
        " 43% |#########################                                 | ETA:  0:00:06\r"
       ]
      },
      {
       "output_type": "stream",
       "stream": "stderr",
       "text": [
        " 44% |#########################                                 | ETA:  0:00:06\r",
        " 45% |##########################                                | ETA:  0:00:06\r"
       ]
      },
      {
       "output_type": "stream",
       "stream": "stderr",
       "text": [
        " 46% |##########################                                | ETA:  0:00:06\r",
        " 47% |###########################                               | ETA:  0:00:06\r"
       ]
      },
      {
       "output_type": "stream",
       "stream": "stderr",
       "text": [
        " 48% |############################                              | ETA:  0:00:06\r",
        " 49% |############################                              | ETA:  0:00:06\r"
       ]
      },
      {
       "output_type": "stream",
       "stream": "stderr",
       "text": [
        " 50% |#############################                             | ETA:  0:00:06\r",
        " 51% |#############################                             | ETA:  0:00:05\r"
       ]
      },
      {
       "output_type": "stream",
       "stream": "stderr",
       "text": [
        " 52% |##############################                            | ETA:  0:00:05\r",
        " 53% |###############################                           | ETA:  0:00:05\r"
       ]
      },
      {
       "output_type": "stream",
       "stream": "stderr",
       "text": [
        " 54% |###############################                           | ETA:  0:00:05\r",
        " 55% |################################                          | ETA:  0:00:05\r"
       ]
      },
      {
       "output_type": "stream",
       "stream": "stderr",
       "text": [
        " 56% |################################                          | ETA:  0:00:05\r",
        " 57% |#################################                         | ETA:  0:00:05\r"
       ]
      },
      {
       "output_type": "stream",
       "stream": "stderr",
       "text": [
        " 58% |#################################                         | ETA:  0:00:05\r",
        " 59% |##################################                        | ETA:  0:00:04\r"
       ]
      },
      {
       "output_type": "stream",
       "stream": "stderr",
       "text": [
        " 60% |###################################                       | ETA:  0:00:04\r",
        " 61% |###################################                       | ETA:  0:00:04\r"
       ]
      },
      {
       "output_type": "stream",
       "stream": "stderr",
       "text": [
        " 62% |####################################                      | ETA:  0:00:04\r",
        " 63% |####################################                      | ETA:  0:00:04\r"
       ]
      },
      {
       "output_type": "stream",
       "stream": "stderr",
       "text": [
        " 64% |#####################################                     | ETA:  0:00:04\r",
        " 65% |######################################                    | ETA:  0:00:04\r"
       ]
      },
      {
       "output_type": "stream",
       "stream": "stderr",
       "text": [
        " 66% |######################################                    | ETA:  0:00:04\r",
        " 67% |#######################################                   | ETA:  0:00:04\r"
       ]
      },
      {
       "output_type": "stream",
       "stream": "stderr",
       "text": [
        " 68% |#######################################                   | ETA:  0:00:03\r",
        " 69% |########################################                  | ETA:  0:00:03\r"
       ]
      },
      {
       "output_type": "stream",
       "stream": "stderr",
       "text": [
        " 70% |########################################                  | ETA:  0:00:03\r",
        " 71% |#########################################                 | ETA:  0:00:03\r"
       ]
      },
      {
       "output_type": "stream",
       "stream": "stderr",
       "text": [
        " 72% |##########################################                | ETA:  0:00:03\r",
        " 73% |##########################################                | ETA:  0:00:03\r"
       ]
      },
      {
       "output_type": "stream",
       "stream": "stderr",
       "text": [
        " 74% |###########################################               | ETA:  0:00:03\r",
        " 75% |###########################################               | ETA:  0:00:03\r"
       ]
      },
      {
       "output_type": "stream",
       "stream": "stderr",
       "text": [
        " 76% |############################################              | ETA:  0:00:02\r",
        " 77% |#############################################             | ETA:  0:00:02\r"
       ]
      },
      {
       "output_type": "stream",
       "stream": "stderr",
       "text": [
        " 78% |#############################################             | ETA:  0:00:02\r",
        " 79% |##############################################            | ETA:  0:00:02\r"
       ]
      },
      {
       "output_type": "stream",
       "stream": "stderr",
       "text": [
        " 80% |##############################################            | ETA:  0:00:02\r",
        " 81% |###############################################           | ETA:  0:00:02\r"
       ]
      },
      {
       "output_type": "stream",
       "stream": "stderr",
       "text": [
        " 82% |###############################################           | ETA:  0:00:02\r",
        " 83% |################################################          | ETA:  0:00:02\r"
       ]
      },
      {
       "output_type": "stream",
       "stream": "stderr",
       "text": [
        " 84% |#################################################         | ETA:  0:00:01\r",
        " 85% |#################################################         | ETA:  0:00:01\r"
       ]
      },
      {
       "output_type": "stream",
       "stream": "stderr",
       "text": [
        " 86% |##################################################        | ETA:  0:00:01\r",
        " 87% |##################################################        | ETA:  0:00:01\r"
       ]
      },
      {
       "output_type": "stream",
       "stream": "stderr",
       "text": [
        " 88% |###################################################       | ETA:  0:00:01\r",
        " 89% |####################################################      | ETA:  0:00:01\r"
       ]
      },
      {
       "output_type": "stream",
       "stream": "stderr",
       "text": [
        " 90% |####################################################      | ETA:  0:00:01\r",
        " 91% |#####################################################     | ETA:  0:00:01\r"
       ]
      },
      {
       "output_type": "stream",
       "stream": "stderr",
       "text": [
        " 92% |#####################################################     | ETA:  0:00:00\r",
        " 93% |######################################################    | ETA:  0:00:00\r"
       ]
      },
      {
       "output_type": "stream",
       "stream": "stderr",
       "text": [
        " 94% |#######################################################   | ETA:  0:00:00\r",
        " 95% |#######################################################   | ETA:  0:00:00\r"
       ]
      },
      {
       "output_type": "stream",
       "stream": "stderr",
       "text": [
        " 96% |########################################################  | ETA:  0:00:00\r",
        " 97% |########################################################  | ETA:  0:00:00\r"
       ]
      },
      {
       "output_type": "stream",
       "stream": "stderr",
       "text": [
        " 98% |######################################################### | ETA:  0:00:00\r",
        " 99% |######################################################### | ETA:  0:00:00\r"
       ]
      },
      {
       "output_type": "stream",
       "stream": "stdout",
       "text": [
        "\n",
        "    density    : 7.3207942769e-07\n",
        "    shape      : (6264, 6264)\n",
        "    nnz        : 1365972\n",
        "D Matrix info:\n",
        "    density    : 3.44531764106e-06\n",
        "    shape      : (6264, 6264)\n",
        "    nnz        : 290249\n",
        "MCEqRun::_init_default_matrices():Done filling matrices.\n",
        "MCEqRun::_calculate_integration_path():\n",
        "MCEqRun::_forward_euler(): Solver will perform 9215 integration steps.\n",
        "\n",
        "MCEqRun::_forward_euler(): time elapsed during integration: 12.4176471233 sec"
       ]
      },
      {
       "output_type": "stream",
       "stream": "stdout",
       "text": [
        "\n",
        "MCEqRun::set_interaction_model():  SIBYLL2.3_rc1\n",
        "InteractionYields:set_interaction_model():: Model SIBYLL2.3_rc1 already loaded.\n",
        "MCEqRun::_init_default_matrices():Start filling matrices."
       ]
      },
      {
       "output_type": "stream",
       "stream": "stdout",
       "text": [
        "\n",
        "MCEqRun::_convert_to_sparse():Converting to sparse (CSR) matrix format."
       ]
      },
      {
       "output_type": "stream",
       "stream": "stdout",
       "text": [
        "\n",
        "C Matrix info:"
       ]
      },
      {
       "output_type": "stream",
       "stream": "stderr",
       "text": [
        "100% |##########################################################| Time: 0:00:12\r\n",
        "  0% |                                                         | ETA:  --:--:--\r"
       ]
      },
      {
       "output_type": "stream",
       "stream": "stderr",
       "text": [
        "  1% |                                                          | ETA:  0:00:12\r",
        "  2% |#                                                         | ETA:  0:00:12\r"
       ]
      },
      {
       "output_type": "stream",
       "stream": "stderr",
       "text": [
        "  3% |#                                                         | ETA:  0:00:12\r",
        "  4% |##                                                        | ETA:  0:00:12\r"
       ]
      },
      {
       "output_type": "stream",
       "stream": "stderr",
       "text": [
        "  5% |##                                                        | ETA:  0:00:12\r",
        "  6% |###                                                       | ETA:  0:00:12\r"
       ]
      },
      {
       "output_type": "stream",
       "stream": "stderr",
       "text": [
        "  7% |####                                                      | ETA:  0:00:11\r",
        "  8% |####                                                      | ETA:  0:00:12\r"
       ]
      },
      {
       "output_type": "stream",
       "stream": "stderr",
       "text": [
        "  9% |#####                                                     | ETA:  0:00:12\r",
        " 10% |#####                                                     | ETA:  0:00:12\r"
       ]
      },
      {
       "output_type": "stream",
       "stream": "stderr",
       "text": [
        " 11% |######                                                    | ETA:  0:00:11\r",
        " 12% |#######                                                   | ETA:  0:00:11\r"
       ]
      },
      {
       "output_type": "stream",
       "stream": "stderr",
       "text": [
        " 13% |#######                                                   | ETA:  0:00:11\r",
        " 14% |########                                                  | ETA:  0:00:11\r"
       ]
      },
      {
       "output_type": "stream",
       "stream": "stderr",
       "text": [
        " 15% |########                                                  | ETA:  0:00:11\r",
        " 16% |#########                                                 | ETA:  0:00:11\r"
       ]
      },
      {
       "output_type": "stream",
       "stream": "stderr",
       "text": [
        " 17% |#########                                                 | ETA:  0:00:10\r",
        " 18% |##########                                                | ETA:  0:00:10\r"
       ]
      },
      {
       "output_type": "stream",
       "stream": "stderr",
       "text": [
        " 19% |###########                                               | ETA:  0:00:10\r",
        " 20% |###########                                               | ETA:  0:00:10\r"
       ]
      },
      {
       "output_type": "stream",
       "stream": "stderr",
       "text": [
        " 21% |############                                              | ETA:  0:00:10\r",
        " 22% |############                                              | ETA:  0:00:10\r"
       ]
      },
      {
       "output_type": "stream",
       "stream": "stderr",
       "text": [
        " 23% |#############                                             | ETA:  0:00:10\r",
        " 24% |##############                                            | ETA:  0:00:10\r"
       ]
      },
      {
       "output_type": "stream",
       "stream": "stderr",
       "text": [
        " 25% |##############                                            | ETA:  0:00:09\r",
        " 26% |###############                                           | ETA:  0:00:09\r"
       ]
      },
      {
       "output_type": "stream",
       "stream": "stderr",
       "text": [
        " 27% |###############                                           | ETA:  0:00:09\r",
        " 28% |################                                          | ETA:  0:00:09\r"
       ]
      },
      {
       "output_type": "stream",
       "stream": "stderr",
       "text": [
        " 29% |################                                          | ETA:  0:00:09\r",
        " 30% |#################                                         | ETA:  0:00:09\r"
       ]
      },
      {
       "output_type": "stream",
       "stream": "stderr",
       "text": [
        " 31% |##################                                        | ETA:  0:00:09\r",
        " 32% |##################                                        | ETA:  0:00:08\r"
       ]
      },
      {
       "output_type": "stream",
       "stream": "stderr",
       "text": [
        " 33% |###################                                       | ETA:  0:00:08\r",
        " 34% |###################                                       | ETA:  0:00:08\r"
       ]
      },
      {
       "output_type": "stream",
       "stream": "stderr",
       "text": [
        " 35% |####################                                      | ETA:  0:00:08\r",
        " 36% |#####################                                     | ETA:  0:00:08\r"
       ]
      },
      {
       "output_type": "stream",
       "stream": "stderr",
       "text": [
        " 37% |#####################                                     | ETA:  0:00:08\r",
        " 38% |######################                                    | ETA:  0:00:08\r"
       ]
      },
      {
       "output_type": "stream",
       "stream": "stderr",
       "text": [
        " 39% |######################                                    | ETA:  0:00:07\r",
        " 40% |#######################                                   | ETA:  0:00:07\r"
       ]
      },
      {
       "output_type": "stream",
       "stream": "stderr",
       "text": [
        " 41% |#######################                                   | ETA:  0:00:07\r",
        " 42% |########################                                  | ETA:  0:00:07\r"
       ]
      },
      {
       "output_type": "stream",
       "stream": "stderr",
       "text": [
        " 43% |#########################                                 | ETA:  0:00:07\r",
        " 44% |#########################                                 | ETA:  0:00:07\r"
       ]
      },
      {
       "output_type": "stream",
       "stream": "stderr",
       "text": [
        " 45% |##########################                                | ETA:  0:00:07\r",
        " 46% |##########################                                | ETA:  0:00:06\r"
       ]
      },
      {
       "output_type": "stream",
       "stream": "stderr",
       "text": [
        " 47% |###########################                               | ETA:  0:00:06\r",
        " 48% |############################                              | ETA:  0:00:06\r"
       ]
      },
      {
       "output_type": "stream",
       "stream": "stderr",
       "text": [
        " 49% |############################                              | ETA:  0:00:06\r",
        " 50% |#############################                             | ETA:  0:00:06\r"
       ]
      },
      {
       "output_type": "stream",
       "stream": "stderr",
       "text": [
        " 51% |#############################                             | ETA:  0:00:06\r",
        " 52% |##############################                            | ETA:  0:00:06\r"
       ]
      },
      {
       "output_type": "stream",
       "stream": "stderr",
       "text": [
        " 53% |###############################                           | ETA:  0:00:05\r",
        " 54% |###############################                           | ETA:  0:00:05\r"
       ]
      },
      {
       "output_type": "stream",
       "stream": "stderr",
       "text": [
        " 55% |################################                          | ETA:  0:00:05\r",
        " 56% |################################                          | ETA:  0:00:05\r"
       ]
      },
      {
       "output_type": "stream",
       "stream": "stderr",
       "text": [
        " 57% |#################################                         | ETA:  0:00:05\r",
        " 58% |#################################                         | ETA:  0:00:05\r"
       ]
      },
      {
       "output_type": "stream",
       "stream": "stderr",
       "text": [
        " 59% |##################################                        | ETA:  0:00:05\r",
        " 60% |###################################                       | ETA:  0:00:05\r"
       ]
      },
      {
       "output_type": "stream",
       "stream": "stderr",
       "text": [
        " 61% |###################################                       | ETA:  0:00:04\r",
        " 62% |####################################                      | ETA:  0:00:04\r"
       ]
      },
      {
       "output_type": "stream",
       "stream": "stderr",
       "text": [
        " 63% |####################################                      | ETA:  0:00:04\r",
        " 64% |#####################################                     | ETA:  0:00:04\r"
       ]
      },
      {
       "output_type": "stream",
       "stream": "stderr",
       "text": [
        " 65% |######################################                    | ETA:  0:00:04\r",
        " 66% |######################################                    | ETA:  0:00:04\r"
       ]
      },
      {
       "output_type": "stream",
       "stream": "stderr",
       "text": [
        " 67% |#######################################                   | ETA:  0:00:04\r",
        " 68% |#######################################                   | ETA:  0:00:03\r"
       ]
      },
      {
       "output_type": "stream",
       "stream": "stderr",
       "text": [
        " 69% |########################################                  | ETA:  0:00:03\r",
        " 70% |########################################                  | ETA:  0:00:03\r"
       ]
      },
      {
       "output_type": "stream",
       "stream": "stderr",
       "text": [
        " 71% |#########################################                 | ETA:  0:00:03\r",
        " 72% |##########################################                | ETA:  0:00:03\r"
       ]
      },
      {
       "output_type": "stream",
       "stream": "stderr",
       "text": [
        " 73% |##########################################                | ETA:  0:00:03\r",
        " 74% |###########################################               | ETA:  0:00:03\r"
       ]
      },
      {
       "output_type": "stream",
       "stream": "stderr",
       "text": [
        " 75% |###########################################               | ETA:  0:00:03\r",
        " 76% |############################################              | ETA:  0:00:02\r"
       ]
      },
      {
       "output_type": "stream",
       "stream": "stderr",
       "text": [
        " 77% |#############################################             | ETA:  0:00:02\r",
        " 78% |#############################################             | ETA:  0:00:02\r"
       ]
      },
      {
       "output_type": "stream",
       "stream": "stderr",
       "text": [
        " 79% |##############################################            | ETA:  0:00:02\r",
        " 80% |##############################################            | ETA:  0:00:02\r"
       ]
      },
      {
       "output_type": "stream",
       "stream": "stderr",
       "text": [
        " 81% |###############################################           | ETA:  0:00:02\r",
        " 82% |###############################################           | ETA:  0:00:02\r"
       ]
      },
      {
       "output_type": "stream",
       "stream": "stderr",
       "text": [
        " 83% |################################################          | ETA:  0:00:02\r",
        " 84% |#################################################         | ETA:  0:00:01\r"
       ]
      },
      {
       "output_type": "stream",
       "stream": "stderr",
       "text": [
        " 85% |#################################################         | ETA:  0:00:01\r",
        " 86% |##################################################        | ETA:  0:00:01\r"
       ]
      },
      {
       "output_type": "stream",
       "stream": "stderr",
       "text": [
        " 87% |##################################################        | ETA:  0:00:01\r",
        " 88% |###################################################       | ETA:  0:00:01\r"
       ]
      },
      {
       "output_type": "stream",
       "stream": "stderr",
       "text": [
        " 89% |####################################################      | ETA:  0:00:01\r",
        " 90% |####################################################      | ETA:  0:00:01\r"
       ]
      },
      {
       "output_type": "stream",
       "stream": "stderr",
       "text": [
        " 91% |#####################################################     | ETA:  0:00:01\r",
        " 92% |#####################################################     | ETA:  0:00:00\r"
       ]
      },
      {
       "output_type": "stream",
       "stream": "stderr",
       "text": [
        " 93% |######################################################    | ETA:  0:00:00\r",
        " 94% |#######################################################   | ETA:  0:00:00\r"
       ]
      },
      {
       "output_type": "stream",
       "stream": "stderr",
       "text": [
        " 95% |#######################################################   | ETA:  0:00:00\r",
        " 96% |########################################################  | ETA:  0:00:00\r"
       ]
      },
      {
       "output_type": "stream",
       "stream": "stderr",
       "text": [
        " 97% |########################################################  | ETA:  0:00:00\r",
        " 98% |######################################################### | ETA:  0:00:00\r"
       ]
      },
      {
       "output_type": "stream",
       "stream": "stdout",
       "text": [
        "\n",
        "    density    : 7.31494113301e-07\n",
        "    shape      : (6264, 6264)\n",
        "    nnz        : 1367065\n",
        "D Matrix info:\n",
        "    density    : 3.44531764106e-06\n",
        "    shape      : (6264, 6264)\n",
        "    nnz        : 290249\n",
        "MCEqRun::_init_default_matrices():Done filling matrices.\n",
        "MCEqRun::_calculate_integration_path():\n",
        "MCEqRun::_forward_euler(): Solver will perform 9215 integration steps.\n",
        "\n",
        "MCEqRun::_forward_euler(): time elapsed during integration: 12.6524989605 sec"
       ]
      },
      {
       "output_type": "stream",
       "stream": "stdout",
       "text": [
        "\n",
        "MCEqRun::set_interaction_model():  SIBYLL2.3_rc1\n",
        "InteractionYields:set_interaction_model():: Model SIBYLL2.3_rc1 already loaded.\n",
        "MCEqRun::_init_default_matrices():Start filling matrices."
       ]
      },
      {
       "output_type": "stream",
       "stream": "stdout",
       "text": [
        "\n",
        "MCEqRun::_convert_to_sparse():Converting to sparse (CSR) matrix format."
       ]
      },
      {
       "output_type": "stream",
       "stream": "stdout",
       "text": [
        "\n",
        "C Matrix info:"
       ]
      },
      {
       "output_type": "stream",
       "stream": "stderr",
       "text": [
        " 99% |######################################################### | ETA:  0:00:00\r",
        "100% |##########################################################| Time: 0:00:12\r\n",
        "  0% |                                                         | ETA:  --:--:--\r"
       ]
      },
      {
       "output_type": "stream",
       "stream": "stderr",
       "text": [
        "  1% |                                                          | ETA:  0:00:10\r",
        "  2% |#                                                         | ETA:  0:00:10\r"
       ]
      },
      {
       "output_type": "stream",
       "stream": "stderr",
       "text": [
        "  3% |#                                                         | ETA:  0:00:10\r",
        "  4% |##                                                        | ETA:  0:00:09\r"
       ]
      },
      {
       "output_type": "stream",
       "stream": "stderr",
       "text": [
        "  5% |##                                                        | ETA:  0:00:10\r",
        "  6% |###                                                       | ETA:  0:00:10\r"
       ]
      },
      {
       "output_type": "stream",
       "stream": "stderr",
       "text": [
        "  7% |####                                                      | ETA:  0:00:09\r",
        "  8% |####                                                      | ETA:  0:00:09\r"
       ]
      },
      {
       "output_type": "stream",
       "stream": "stderr",
       "text": [
        "  9% |#####                                                     | ETA:  0:00:09\r",
        " 10% |#####                                                     | ETA:  0:00:09\r"
       ]
      },
      {
       "output_type": "stream",
       "stream": "stderr",
       "text": [
        " 11% |######                                                    | ETA:  0:00:09\r",
        " 12% |#######                                                   | ETA:  0:00:09\r"
       ]
      },
      {
       "output_type": "stream",
       "stream": "stderr",
       "text": [
        " 13% |#######                                                   | ETA:  0:00:09\r",
        " 14% |########                                                  | ETA:  0:00:09\r"
       ]
      },
      {
       "output_type": "stream",
       "stream": "stderr",
       "text": [
        " 15% |########                                                  | ETA:  0:00:09\r",
        " 16% |#########                                                 | ETA:  0:00:09\r"
       ]
      },
      {
       "output_type": "stream",
       "stream": "stderr",
       "text": [
        " 17% |#########                                                 | ETA:  0:00:09\r",
        " 18% |##########                                                | ETA:  0:00:08\r"
       ]
      },
      {
       "output_type": "stream",
       "stream": "stderr",
       "text": [
        " 19% |###########                                               | ETA:  0:00:08\r",
        " 20% |###########                                               | ETA:  0:00:08\r"
       ]
      },
      {
       "output_type": "stream",
       "stream": "stderr",
       "text": [
        " 21% |############                                              | ETA:  0:00:08\r",
        " 22% |############                                              | ETA:  0:00:08\r"
       ]
      },
      {
       "output_type": "stream",
       "stream": "stderr",
       "text": [
        " 23% |#############                                             | ETA:  0:00:08\r",
        " 24% |##############                                            | ETA:  0:00:08\r"
       ]
      },
      {
       "output_type": "stream",
       "stream": "stderr",
       "text": [
        " 25% |##############                                            | ETA:  0:00:08\r",
        " 26% |###############                                           | ETA:  0:00:07\r"
       ]
      },
      {
       "output_type": "stream",
       "stream": "stderr",
       "text": [
        " 27% |###############                                           | ETA:  0:00:07\r",
        " 28% |################                                          | ETA:  0:00:07\r"
       ]
      },
      {
       "output_type": "stream",
       "stream": "stderr",
       "text": [
        " 29% |################                                          | ETA:  0:00:07\r",
        " 30% |#################                                         | ETA:  0:00:07\r"
       ]
      },
      {
       "output_type": "stream",
       "stream": "stderr",
       "text": [
        " 31% |##################                                        | ETA:  0:00:07\r",
        " 32% |##################                                        | ETA:  0:00:07\r"
       ]
      },
      {
       "output_type": "stream",
       "stream": "stderr",
       "text": [
        " 33% |###################                                       | ETA:  0:00:07\r",
        " 34% |###################                                       | ETA:  0:00:07\r"
       ]
      },
      {
       "output_type": "stream",
       "stream": "stderr",
       "text": [
        " 35% |####################                                      | ETA:  0:00:07\r",
        " 36% |#####################                                     | ETA:  0:00:06\r"
       ]
      },
      {
       "output_type": "stream",
       "stream": "stderr",
       "text": [
        " 37% |#####################                                     | ETA:  0:00:06\r",
        " 38% |######################                                    | ETA:  0:00:06\r"
       ]
      },
      {
       "output_type": "stream",
       "stream": "stderr",
       "text": [
        " 39% |######################                                    | ETA:  0:00:06\r",
        " 40% |#######################                                   | ETA:  0:00:06\r"
       ]
      },
      {
       "output_type": "stream",
       "stream": "stderr",
       "text": [
        " 41% |#######################                                   | ETA:  0:00:06\r",
        " 42% |########################                                  | ETA:  0:00:06\r"
       ]
      },
      {
       "output_type": "stream",
       "stream": "stderr",
       "text": [
        " 43% |#########################                                 | ETA:  0:00:06\r",
        " 44% |#########################                                 | ETA:  0:00:06\r"
       ]
      },
      {
       "output_type": "stream",
       "stream": "stderr",
       "text": [
        " 45% |##########################                                | ETA:  0:00:05\r",
        " 46% |##########################                                | ETA:  0:00:05\r"
       ]
      },
      {
       "output_type": "stream",
       "stream": "stderr",
       "text": [
        " 47% |###########################                               | ETA:  0:00:05\r",
        " 48% |############################                              | ETA:  0:00:05\r"
       ]
      },
      {
       "output_type": "stream",
       "stream": "stderr",
       "text": [
        " 49% |############################                              | ETA:  0:00:05\r",
        " 50% |#############################                             | ETA:  0:00:05\r"
       ]
      },
      {
       "output_type": "stream",
       "stream": "stderr",
       "text": [
        " 51% |#############################                             | ETA:  0:00:05\r",
        " 52% |##############################                            | ETA:  0:00:05\r"
       ]
      },
      {
       "output_type": "stream",
       "stream": "stderr",
       "text": [
        " 53% |###############################                           | ETA:  0:00:05\r",
        " 54% |###############################                           | ETA:  0:00:05\r"
       ]
      },
      {
       "output_type": "stream",
       "stream": "stderr",
       "text": [
        " 55% |################################                          | ETA:  0:00:04\r",
        " 56% |################################                          | ETA:  0:00:04\r"
       ]
      },
      {
       "output_type": "stream",
       "stream": "stderr",
       "text": [
        " 57% |#################################                         | ETA:  0:00:04\r",
        " 58% |#################################                         | ETA:  0:00:04\r"
       ]
      },
      {
       "output_type": "stream",
       "stream": "stderr",
       "text": [
        " 59% |##################################                        | ETA:  0:00:04\r",
        " 60% |###################################                       | ETA:  0:00:04\r"
       ]
      },
      {
       "output_type": "stream",
       "stream": "stderr",
       "text": [
        " 61% |###################################                       | ETA:  0:00:04\r",
        " 62% |####################################                      | ETA:  0:00:04\r"
       ]
      },
      {
       "output_type": "stream",
       "stream": "stderr",
       "text": [
        " 63% |####################################                      | ETA:  0:00:04\r",
        " 64% |#####################################                     | ETA:  0:00:03\r"
       ]
      },
      {
       "output_type": "stream",
       "stream": "stderr",
       "text": [
        " 65% |######################################                    | ETA:  0:00:03\r",
        " 66% |######################################                    | ETA:  0:00:03\r"
       ]
      },
      {
       "output_type": "stream",
       "stream": "stderr",
       "text": [
        " 67% |#######################################                   | ETA:  0:00:03\r",
        " 68% |#######################################                   | ETA:  0:00:03\r"
       ]
      },
      {
       "output_type": "stream",
       "stream": "stderr",
       "text": [
        " 69% |########################################                  | ETA:  0:00:03\r",
        " 70% |########################################                  | ETA:  0:00:03\r"
       ]
      },
      {
       "output_type": "stream",
       "stream": "stderr",
       "text": [
        " 71% |#########################################                 | ETA:  0:00:03\r",
        " 72% |##########################################                | ETA:  0:00:03\r"
       ]
      },
      {
       "output_type": "stream",
       "stream": "stderr",
       "text": [
        " 73% |##########################################                | ETA:  0:00:02\r",
        " 74% |###########################################               | ETA:  0:00:02\r"
       ]
      },
      {
       "output_type": "stream",
       "stream": "stderr",
       "text": [
        " 75% |###########################################               | ETA:  0:00:02\r",
        " 76% |############################################              | ETA:  0:00:02\r"
       ]
      },
      {
       "output_type": "stream",
       "stream": "stderr",
       "text": [
        " 77% |#############################################             | ETA:  0:00:02\r",
        " 78% |#############################################             | ETA:  0:00:02\r"
       ]
      },
      {
       "output_type": "stream",
       "stream": "stderr",
       "text": [
        " 79% |##############################################            | ETA:  0:00:02\r",
        " 80% |##############################################            | ETA:  0:00:02\r"
       ]
      },
      {
       "output_type": "stream",
       "stream": "stderr",
       "text": [
        " 81% |###############################################           | ETA:  0:00:02\r",
        " 82% |###############################################           | ETA:  0:00:01\r"
       ]
      },
      {
       "output_type": "stream",
       "stream": "stderr",
       "text": [
        " 83% |################################################          | ETA:  0:00:01\r",
        " 84% |#################################################         | ETA:  0:00:01\r"
       ]
      },
      {
       "output_type": "stream",
       "stream": "stderr",
       "text": [
        " 85% |#################################################         | ETA:  0:00:01\r",
        " 86% |##################################################        | ETA:  0:00:01\r"
       ]
      },
      {
       "output_type": "stream",
       "stream": "stderr",
       "text": [
        " 87% |##################################################        | ETA:  0:00:01\r",
        " 88% |###################################################       | ETA:  0:00:01\r"
       ]
      },
      {
       "output_type": "stream",
       "stream": "stderr",
       "text": [
        " 89% |####################################################      | ETA:  0:00:01\r",
        " 90% |####################################################      | ETA:  0:00:01\r"
       ]
      },
      {
       "output_type": "stream",
       "stream": "stderr",
       "text": [
        " 91% |#####################################################     | ETA:  0:00:00\r",
        " 92% |#####################################################     | ETA:  0:00:00\r"
       ]
      },
      {
       "output_type": "stream",
       "stream": "stderr",
       "text": [
        " 93% |######################################################    | ETA:  0:00:00\r",
        " 94% |#######################################################   | ETA:  0:00:00\r"
       ]
      },
      {
       "output_type": "stream",
       "stream": "stderr",
       "text": [
        " 95% |#######################################################   | ETA:  0:00:00\r",
        " 96% |########################################################  | ETA:  0:00:00\r"
       ]
      },
      {
       "output_type": "stream",
       "stream": "stderr",
       "text": [
        " 97% |########################################################  | ETA:  0:00:00\r",
        " 98% |######################################################### | ETA:  0:00:00\r"
       ]
      },
      {
       "output_type": "stream",
       "stream": "stdout",
       "text": [
        "\n",
        "    density    : 8.88357453719e-07\n",
        "    shape      : (6264, 6264)\n",
        "    nnz        : 1125673\n",
        "D Matrix info:\n",
        "    density    : 3.44531764106e-06\n",
        "    shape      : (6264, 6264)\n",
        "    nnz        : 290249\n",
        "MCEqRun::_init_default_matrices():Done filling matrices.\n",
        "MCEqRun::_calculate_integration_path():\n",
        "MCEqRun::_forward_euler(): Solver will perform 9215 integration steps.\n",
        "\n",
        "MCEqRun::_forward_euler(): time elapsed during integration: 11.4193139076 sec"
       ]
      },
      {
       "output_type": "stream",
       "stream": "stdout",
       "text": [
        "\n",
        "MCEqRun::set_interaction_model():  DPMJET-2.55\n",
        "MCEqRun::_init_default_matrices():Start filling matrices.\n",
        "MCEqRun::_convert_to_sparse():Converting to sparse (CSR) matrix format."
       ]
      },
      {
       "output_type": "stream",
       "stream": "stdout",
       "text": [
        "\n",
        "C Matrix info:"
       ]
      },
      {
       "output_type": "stream",
       "stream": "stderr",
       "text": [
        " 99% |######################################################### | ETA:  0:00:00\r",
        "100% |##########################################################| Time: 0:00:11\r\n",
        "  0% |                                                         | ETA:  --:--:--\r"
       ]
      },
      {
       "output_type": "stream",
       "stream": "stderr",
       "text": [
        "  1% |                                                          | ETA:  0:00:10\r",
        "  2% |#                                                         | ETA:  0:00:09\r"
       ]
      },
      {
       "output_type": "stream",
       "stream": "stderr",
       "text": [
        "  3% |#                                                         | ETA:  0:00:09\r",
        "  4% |##                                                        | ETA:  0:00:09\r"
       ]
      },
      {
       "output_type": "stream",
       "stream": "stderr",
       "text": [
        "  5% |##                                                        | ETA:  0:00:10\r",
        "  6% |###                                                       | ETA:  0:00:10\r"
       ]
      },
      {
       "output_type": "stream",
       "stream": "stderr",
       "text": [
        "  7% |####                                                      | ETA:  0:00:09\r",
        "  8% |####                                                      | ETA:  0:00:10\r"
       ]
      },
      {
       "output_type": "stream",
       "stream": "stderr",
       "text": [
        "  9% |#####                                                     | ETA:  0:00:10\r",
        " 10% |#####                                                     | ETA:  0:00:10\r"
       ]
      },
      {
       "output_type": "stream",
       "stream": "stderr",
       "text": [
        " 11% |######                                                    | ETA:  0:00:09\r",
        " 12% |#######                                                   | ETA:  0:00:09\r"
       ]
      },
      {
       "output_type": "stream",
       "stream": "stderr",
       "text": [
        " 13% |#######                                                   | ETA:  0:00:09\r",
        " 14% |########                                                  | ETA:  0:00:09\r"
       ]
      },
      {
       "output_type": "stream",
       "stream": "stderr",
       "text": [
        " 15% |########                                                  | ETA:  0:00:09\r",
        " 16% |#########                                                 | ETA:  0:00:09\r"
       ]
      },
      {
       "output_type": "stream",
       "stream": "stderr",
       "text": [
        " 17% |#########                                                 | ETA:  0:00:08\r",
        " 18% |##########                                                | ETA:  0:00:08\r"
       ]
      },
      {
       "output_type": "stream",
       "stream": "stderr",
       "text": [
        " 19% |###########                                               | ETA:  0:00:08\r",
        " 20% |###########                                               | ETA:  0:00:08\r"
       ]
      },
      {
       "output_type": "stream",
       "stream": "stderr",
       "text": [
        " 21% |############                                              | ETA:  0:00:08\r",
        " 22% |############                                              | ETA:  0:00:08\r"
       ]
      },
      {
       "output_type": "stream",
       "stream": "stderr",
       "text": [
        " 23% |#############                                             | ETA:  0:00:08\r",
        " 24% |##############                                            | ETA:  0:00:08\r"
       ]
      },
      {
       "output_type": "stream",
       "stream": "stderr",
       "text": [
        " 25% |##############                                            | ETA:  0:00:08\r",
        " 26% |###############                                           | ETA:  0:00:08\r"
       ]
      },
      {
       "output_type": "stream",
       "stream": "stderr",
       "text": [
        " 27% |###############                                           | ETA:  0:00:07\r",
        " 28% |################                                          | ETA:  0:00:07\r"
       ]
      },
      {
       "output_type": "stream",
       "stream": "stderr",
       "text": [
        " 29% |################                                          | ETA:  0:00:07\r",
        " 30% |#################                                         | ETA:  0:00:07\r"
       ]
      },
      {
       "output_type": "stream",
       "stream": "stderr",
       "text": [
        " 31% |##################                                        | ETA:  0:00:07\r",
        " 32% |##################                                        | ETA:  0:00:07\r"
       ]
      },
      {
       "output_type": "stream",
       "stream": "stderr",
       "text": [
        " 33% |###################                                       | ETA:  0:00:07\r",
        " 34% |###################                                       | ETA:  0:00:07\r"
       ]
      },
      {
       "output_type": "stream",
       "stream": "stderr",
       "text": [
        " 35% |####################                                      | ETA:  0:00:06\r",
        " 36% |#####################                                     | ETA:  0:00:06\r"
       ]
      },
      {
       "output_type": "stream",
       "stream": "stderr",
       "text": [
        " 37% |#####################                                     | ETA:  0:00:06\r",
        " 38% |######################                                    | ETA:  0:00:06\r"
       ]
      },
      {
       "output_type": "stream",
       "stream": "stderr",
       "text": [
        " 39% |######################                                    | ETA:  0:00:06\r",
        " 40% |#######################                                   | ETA:  0:00:06\r"
       ]
      },
      {
       "output_type": "stream",
       "stream": "stderr",
       "text": [
        " 41% |#######################                                   | ETA:  0:00:06\r",
        " 42% |########################                                  | ETA:  0:00:06\r"
       ]
      },
      {
       "output_type": "stream",
       "stream": "stderr",
       "text": [
        " 43% |#########################                                 | ETA:  0:00:06\r",
        " 44% |#########################                                 | ETA:  0:00:05\r"
       ]
      },
      {
       "output_type": "stream",
       "stream": "stderr",
       "text": [
        " 45% |##########################                                | ETA:  0:00:05\r",
        " 46% |##########################                                | ETA:  0:00:05\r"
       ]
      },
      {
       "output_type": "stream",
       "stream": "stderr",
       "text": [
        " 47% |###########################                               | ETA:  0:00:05\r",
        " 48% |############################                              | ETA:  0:00:05\r"
       ]
      },
      {
       "output_type": "stream",
       "stream": "stderr",
       "text": [
        " 49% |############################                              | ETA:  0:00:05\r",
        " 50% |#############################                             | ETA:  0:00:05\r"
       ]
      },
      {
       "output_type": "stream",
       "stream": "stderr",
       "text": [
        " 51% |#############################                             | ETA:  0:00:05\r",
        " 52% |##############################                            | ETA:  0:00:04\r"
       ]
      },
      {
       "output_type": "stream",
       "stream": "stderr",
       "text": [
        " 53% |###############################                           | ETA:  0:00:04\r",
        " 54% |###############################                           | ETA:  0:00:04\r"
       ]
      },
      {
       "output_type": "stream",
       "stream": "stderr",
       "text": [
        " 55% |################################                          | ETA:  0:00:04\r",
        " 56% |################################                          | ETA:  0:00:04\r"
       ]
      },
      {
       "output_type": "stream",
       "stream": "stderr",
       "text": [
        " 57% |#################################                         | ETA:  0:00:04\r",
        " 58% |#################################                         | ETA:  0:00:04\r"
       ]
      },
      {
       "output_type": "stream",
       "stream": "stderr",
       "text": [
        " 59% |##################################                        | ETA:  0:00:04\r",
        " 60% |###################################                       | ETA:  0:00:04\r"
       ]
      },
      {
       "output_type": "stream",
       "stream": "stderr",
       "text": [
        " 61% |###################################                       | ETA:  0:00:04\r",
        " 62% |####################################                      | ETA:  0:00:03\r"
       ]
      },
      {
       "output_type": "stream",
       "stream": "stderr",
       "text": [
        " 63% |####################################                      | ETA:  0:00:03\r",
        " 64% |#####################################                     | ETA:  0:00:03\r"
       ]
      },
      {
       "output_type": "stream",
       "stream": "stderr",
       "text": [
        " 65% |######################################                    | ETA:  0:00:03\r",
        " 66% |######################################                    | ETA:  0:00:03\r"
       ]
      },
      {
       "output_type": "stream",
       "stream": "stderr",
       "text": [
        " 67% |#######################################                   | ETA:  0:00:03\r",
        " 68% |#######################################                   | ETA:  0:00:03\r"
       ]
      },
      {
       "output_type": "stream",
       "stream": "stderr",
       "text": [
        " 69% |########################################                  | ETA:  0:00:03\r",
        " 70% |########################################                  | ETA:  0:00:03\r"
       ]
      },
      {
       "output_type": "stream",
       "stream": "stderr",
       "text": [
        " 71% |#########################################                 | ETA:  0:00:02\r",
        " 72% |##########################################                | ETA:  0:00:02\r"
       ]
      },
      {
       "output_type": "stream",
       "stream": "stderr",
       "text": [
        " 73% |##########################################                | ETA:  0:00:02\r",
        " 74% |###########################################               | ETA:  0:00:02\r"
       ]
      },
      {
       "output_type": "stream",
       "stream": "stderr",
       "text": [
        " 75% |###########################################               | ETA:  0:00:02\r",
        " 76% |############################################              | ETA:  0:00:02\r"
       ]
      },
      {
       "output_type": "stream",
       "stream": "stderr",
       "text": [
        " 77% |#############################################             | ETA:  0:00:02\r",
        " 78% |#############################################             | ETA:  0:00:02\r"
       ]
      },
      {
       "output_type": "stream",
       "stream": "stderr",
       "text": [
        " 79% |##############################################            | ETA:  0:00:02\r",
        " 80% |##############################################            | ETA:  0:00:01\r"
       ]
      },
      {
       "output_type": "stream",
       "stream": "stderr",
       "text": [
        " 81% |###############################################           | ETA:  0:00:01\r",
        " 82% |###############################################           | ETA:  0:00:01\r"
       ]
      },
      {
       "output_type": "stream",
       "stream": "stderr",
       "text": [
        " 83% |################################################          | ETA:  0:00:01\r",
        " 84% |#################################################         | ETA:  0:00:01\r"
       ]
      },
      {
       "output_type": "stream",
       "stream": "stderr",
       "text": [
        " 85% |#################################################         | ETA:  0:00:01\r",
        " 86% |##################################################        | ETA:  0:00:01\r"
       ]
      },
      {
       "output_type": "stream",
       "stream": "stderr",
       "text": [
        " 87% |##################################################        | ETA:  0:00:01\r",
        " 88% |###################################################       | ETA:  0:00:01\r"
       ]
      },
      {
       "output_type": "stream",
       "stream": "stderr",
       "text": [
        " 89% |####################################################      | ETA:  0:00:01\r",
        " 90% |####################################################      | ETA:  0:00:00\r"
       ]
      },
      {
       "output_type": "stream",
       "stream": "stderr",
       "text": [
        " 91% |#####################################################     | ETA:  0:00:00\r",
        " 92% |#####################################################     | ETA:  0:00:00\r"
       ]
      },
      {
       "output_type": "stream",
       "stream": "stderr",
       "text": [
        " 93% |######################################################    | ETA:  0:00:00\r",
        " 94% |#######################################################   | ETA:  0:00:00\r"
       ]
      },
      {
       "output_type": "stream",
       "stream": "stderr",
       "text": [
        " 95% |#######################################################   | ETA:  0:00:00\r",
        " 96% |########################################################  | ETA:  0:00:00\r"
       ]
      },
      {
       "output_type": "stream",
       "stream": "stderr",
       "text": [
        " 97% |########################################################  | ETA:  0:00:00\r",
        " 98% |######################################################### | ETA:  0:00:00\r"
       ]
      },
      {
       "output_type": "stream",
       "stream": "stdout",
       "text": [
        "\n",
        "    density    : 9.03273825654e-07\n",
        "    shape      : (6264, 6264)\n",
        "    nnz        : 1107084\n",
        "D Matrix info:\n",
        "    density    : 3.44531764106e-06\n",
        "    shape      : (6264, 6264)\n",
        "    nnz        : 290249\n",
        "MCEqRun::_init_default_matrices():Done filling matrices.\n",
        "MCEqRun::_calculate_integration_path():\n",
        "MCEqRun::_forward_euler(): Solver will perform 9215 integration steps.\n",
        "\n",
        "MCEqRun::_forward_euler(): time elapsed during integration: 10.2312791348 sec"
       ]
      },
      {
       "output_type": "stream",
       "stream": "stdout",
       "text": [
        "\n"
       ]
      },
      {
       "output_type": "stream",
       "stream": "stderr",
       "text": [
        " 99% |######################################################### | ETA:  0:00:00\r",
        "100% |##########################################################| Time: 0:00:10\r\n"
       ]
      }
     ],
     "prompt_number": 12
    },
    {
     "cell_type": "code",
     "collapsed": false,
     "input": [
      "plt.figure(figsize=(5,4))\n",
      "import MCEq.references as ref\n",
      "enberg = ref.Enberg2008()\n",
      "thunman = ref.Thunman1996()\n",
      "for iam, iaopts, title, col in iamodel_list:\n",
      "    plt.plot(e_grid, numu[title], color=col, ls='-', lw=1.5, label=title)\n",
      "plt.loglog()\n",
      "enberg.draw(mag=3)\n",
      "thunman.draw(mag=3)\n",
      "plt.ylabel(r\"$\\Phi_{\\nu_{\\mu}}$ (E/GeV)$^{\" + str(mag) + \"}$ (cm$^{2}$ s sr GeV)$^{-1}$\")\n",
      "plt.xlabel(r\"$E_{\\nu}$ [GeV]\")\n",
      "plt.xlim([1e4, 1e9])\n",
      "plt.ylim([1e-5, 1e-1])\n",
      "plt.legend(ncol=2, frameon=False, loc='upper right')\n",
      "plt.tight_layout()\n",
      "plt.savefig('sibyll_pl.pdf')"
     ],
     "language": "python",
     "metadata": {},
     "outputs": [
      {
       "metadata": {},
       "output_type": "display_data",
       "png": "[encoded data removed]",
       "text": [
        "<matplotlib.figure.Figure at 0x7f9b1024bfd0>"
       ]
      }
     ],
     "prompt_number": 17
    },
    {
     "cell_type": "code",
     "collapsed": false,
     "input": [],
     "language": "python",
     "metadata": {},
     "outputs": []
    }
   ],
   "metadata": {}
  }
 ]
}