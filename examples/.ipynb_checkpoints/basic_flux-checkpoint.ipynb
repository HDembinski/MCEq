{
 "metadata": {
  "name": "",
  "signature": "sha256:26f68694cb3396c8eafeba22ccb85c689730356db1b00e9cc754a9a398f3ffe9"
 },
 "nbformat": 3,
 "nbformat_minor": 0,
 "worksheets": [
  {
   "cells": [
    {
     "cell_type": "markdown",
     "metadata": {},
     "source": [
      "Simple muon and neutrino flux calculation\n",
      "-----------------------------------------\n",
      "\n",
      "This notebook demonstrates the basic use case of the solver. It calculates the atmospheric lepton flux, taking most of the configuration values from the 'global' config file `mceq_config.py`. The interaction model and the primary cosmic ray flux model are selected during initialization."
     ]
    },
    {
     "cell_type": "code",
     "collapsed": false,
     "input": [
      "#basic imports and ipython setup\n",
      "%load_ext autoreload\n",
      "%matplotlib inline\n",
      "%autoreload 2\n",
      "import os\n",
      "import matplotlib.pyplot as plt\n",
      "import numpy as np\n",
      "os.chdir('..')\n",
      "\n",
      "#import solver related modules\n",
      "from MCEq.core import MCEqRun\n",
      "from mceq_config import config\n",
      "#import primary model choices\n",
      "import CRFluxModels as pm"
     ],
     "language": "python",
     "metadata": {},
     "outputs": [
      {
       "output_type": "stream",
       "stream": "stderr",
       "text": [
        "Vendor:  Continuum Analytics, Inc.\n",
        "Package: mkl\n",
        "Message: trial mode expires in 19 days\n",
        "Vendor:  Continuum Analytics, Inc.\n",
        "Package: mkl\n",
        "Message: trial mode expires in 19 days\n"
       ]
      }
     ],
     "prompt_number": 1
    },
    {
     "cell_type": "markdown",
     "metadata": {},
     "source": [
      "Create an instance of an MCEqRun class. Most of its areguments are contained in the `config` dictionary from the `mceq_config` module. Look into or edit `mceq_config.py`.\n",
      "\n",
      "If the initialization succeeds it will print out some information according to the debug level. "
     ]
    },
    {
     "cell_type": "code",
     "collapsed": false,
     "input": [
      "mceq_run = MCEqRun(\n",
      "#provide the string of the interaction model\n",
      "interaction_model='SIBYLL2.3_rc1',\n",
      "#primary cosmic ray flux model\n",
      "#support a tuple (primary model class (not instance!), arguments)\n",
      "primary_model=(pm.HillasGaisser2012, \"H3a\"),\n",
      "# Zenith angle in degrees. 0=vertical, 90=horizontal\n",
      "theta_deg=0.0,\n",
      "#expand the rest of the options from mceq_config.py\n",
      "**config\n",
      ")"
     ],
     "language": "python",
     "metadata": {},
     "outputs": [
      {
       "output_type": "stream",
       "stream": "stdout",
       "text": [
        "\n",
        "Hadrons:\n",
        "\n",
        "\"p-bar\", \"p\", \"n-bar\", \"n\", \"pi+\", \"pi-\", \"K0L\", \"K+\", \n",
        "\"K-\"\n",
        "\n",
        "Mixed:\n",
        "\n",
        "\"Lambda0-bar\", \"Lambda0\", \"Xi0-bar\", \"Xi0\", \"K0S\", \"Xi--bar\", \"Xi-\", \"Sigma--bar\", \n",
        "\"Sigma-\", \"Sigma+-bar\", \"Sigma+\", \"Omega--bar\", \"Omega-\", \"D+\", \"D-\", \"Ds+\", \n",
        "\"Ds-\", \"D0\", \"D0-bar\", \"XiC+-bar\", \"XiC+\", \"tau+\", \"tau-\", \"LambdaC+-bar\", \n",
        "\"LambdaC+\", \"XiC0-bar\", \"XiC0\", \"OmegaC0-bar\", \"OmegaC0\", \"pi0\"\n",
        "\n",
        "Resonances:\n",
        "\n",
        "\"eta\", \"Sigma0-bar\", \"Sigma0\", \"D*+\", \"D*-\", \"eta*\", \"jpsi\", \"phi\", \n",
        "\"SigmaC0-bar\", \"SigmaC0\", \"SigmaC+-bar\", \"SigmaC+\", \"SigmaC++-bar\", \"SigmaC++\", \"omega\", \"Xi*0-bar\", \n",
        "\"Xi*0\", \"Xi*--bar\", \"Xi*-\", \"SigmaC*0-bar\", \"SigmaC*0\", \"SigmaC*++-bar\", \"SigmaC*++\", \"SigmaC*+-bar\", \n",
        "\"SigmaC*+\", \"K*0\", \"K*0-bar\", \"K*+\", \"K*-\", \"Sigma*+-bar\", \"Sigma*+\", \"Sigma*0-bar\", \n",
        "\"Sigma*0\", \"Sigma*--bar\", \"Sigma*-\", \"etaC\", \"rho+\", \"rho-\", \"rho0\", \"Delta--bar\", \n",
        "\"Delta0-bar\", \"Delta+-bar\", \"Delta++-bar\", \"Delta++\", \"Delta+\", \"Delta0\", \"Delta-\", \"D*0\", \n",
        "\"D*0-bar\", \"XiC*0-bar\", \"XiC*+-bar\", \"XiC*+\", \"XiC*0\", \"Ds*+\", \"Ds*-\"\n",
        "\n",
        "Leptons:\n",
        "\n",
        "\"nue\", \"numu\", \"nutau\", \"antinue\", \"antinumu\", \"antinutau\", \"nue\", \"numu\", \n",
        "\"nutau\", \"antinue\", \"antinumu\", \"antinutau\", \"mu-\", \"mu+\", \"mu-\", \"mu+\"\n",
        "\n",
        "Aliases:\n",
        "\"pr_nue\", \"pr_numu\", \"pr_nutau\", \"pi_nue\", \"pi_numu\", \"pi_nutau\", \"k_nue\", \"k_numu\", \n",
        "\"k_nutau\", \"obs_nue\", \"obs_numu\", \"obs_nutau\", \"pr_antinue\", \"pr_antinumu\", \"pr_antinutau\", \"pi_antinue\", \n",
        "\"pi_antinumu\", \"pi_antinutau\", \"k_antinue\", \"k_antinumu\", \"k_antinutau\", \"obs_antinue\", \"obs_antinumu\", \"obs_antinutau\", \n",
        "\"pr_mu-\", \"pi_mu-\", \"k_mu-\", \"obs_mu-\", \"pr_mu+\", \"pi_mu+\", \"k_mu+\", \"obs_mu+\"\n",
        "\n",
        "Total number of species: 87\n",
        "MCEqRun::set_interaction_model():  SIBYLL2.3_rc1\n",
        "InteractionYields:set_interaction_model():: Model SIBYLL2.3_rc1 already loaded.\n",
        "MCEqRun::_init_default_matrices():Start filling matrices.\n",
        "MCEqRun::_convert_to_sparse():Converting to sparse (CSR) matrix format."
       ]
      },
      {
       "output_type": "stream",
       "stream": "stdout",
       "text": [
        "\n",
        "C Matrix info:"
       ]
      },
      {
       "output_type": "stream",
       "stream": "stdout",
       "text": [
        "\n",
        "    density    : 7.3207942769e-07\n",
        "    shape      : (6264, 6264)\n",
        "    nnz        : 1365972\n",
        "D Matrix info:\n",
        "    density    : 3.44531764106e-06\n",
        "    shape      : (6264, 6264)\n",
        "    nnz        : 290249\n",
        "MCEqRun::_init_default_matrices():Done filling matrices.\n",
        "MCEqRun::set_atm_model(): "
       ]
      },
      {
       "output_type": "stream",
       "stream": "stdout",
       "text": [
        " CORSIKA BK_USStd None\n",
        "MCEqRun::set_theta_deg():  0.0\n",
        "atmospheres::_load_cache(): loading cache.\n",
        "density_profiles::_load_cache(): creating new cache..\n",
        "CorsikaAtmosphere::calculate_density_spline(): Calculating spline of rho(X) for zenith 0.0 degrees."
       ]
      },
      {
       "output_type": "stream",
       "stream": "stdout",
       "text": [
        "\n",
        ".. took 4.42s"
       ]
      },
      {
       "output_type": "stream",
       "stream": "stdout",
       "text": [
        "\n",
        "Average spline error: 2.02657521149e-16\n",
        "density_profiles::_dump_cache() dumping cache.\n",
        "./data/atm_cache.ppd\n",
        "MCEqRun::set_primary_model():  HillasGaisser2012 H3a\n"
       ]
      }
     ],
     "prompt_number": 2
    },
    {
     "cell_type": "markdown",
     "metadata": {},
     "source": [
      "__________\n",
      "\n",
      "If everything succeeds than the last message should be something like\n",
      "\n",
      "`MCEqRun::set_primary_model():  HillasGaisser2012 H3a`.\n",
      "\n",
      "The spline interpolating the depth-density relation of an atmosphere will be caluclated and cached during the first run. \n",
      "\n",
      "Integrate\n",
      "---------\n",
      "Now, run the solve command to integrate the cascade equations starting from the top of the atmosphere\n",
      "down to the observation level `h_obs` (see config)."
     ]
    },
    {
     "cell_type": "code",
     "collapsed": false,
     "input": [
      "mceq_run.solve()"
     ],
     "language": "python",
     "metadata": {},
     "outputs": [
      {
       "output_type": "stream",
       "stream": "stderr",
       "text": [
        "  0% |                                                         | ETA:  --:--:--\r",
        "  4% |##                                                        | ETA:  0:00:09\r"
       ]
      },
      {
       "output_type": "stream",
       "stream": "stderr",
       "text": [
        "  8% |####                                                      | ETA:  0:00:08\r",
        " 12% |#######                                                   | ETA:  0:00:08\r"
       ]
      },
      {
       "output_type": "stream",
       "stream": "stderr",
       "text": [
        " 16% |#########                                                 | ETA:  0:00:07\r",
        " 21% |############                                              | ETA:  0:00:07\r"
       ]
      },
      {
       "output_type": "stream",
       "stream": "stderr",
       "text": [
        " 25% |##############                                            | ETA:  0:00:07\r",
        " 29% |#################                                         | ETA:  0:00:06\r"
       ]
      },
      {
       "output_type": "stream",
       "stream": "stderr",
       "text": [
        " 33% |###################                                       | ETA:  0:00:06\r",
        " 38% |######################                                    | ETA:  0:00:05\r"
       ]
      },
      {
       "output_type": "stream",
       "stream": "stderr",
       "text": [
        " 42% |########################                                  | ETA:  0:00:05\r",
        " 46% |##########################                                | ETA:  0:00:05\r"
       ]
      },
      {
       "output_type": "stream",
       "stream": "stderr",
       "text": [
        " 50% |#############################                             | ETA:  0:00:04\r",
        " 54% |###############################                           | ETA:  0:00:04\r"
       ]
      },
      {
       "output_type": "stream",
       "stream": "stderr",
       "text": [
        " 59% |##################################                        | ETA:  0:00:03\r",
        " 63% |####################################                      | ETA:  0:00:03\r"
       ]
      },
      {
       "output_type": "stream",
       "stream": "stderr",
       "text": [
        " 67% |#######################################                   | ETA:  0:00:03\r",
        " 71% |#########################################                 | ETA:  0:00:02\r"
       ]
      },
      {
       "output_type": "stream",
       "stream": "stderr",
       "text": [
        " 76% |############################################              | ETA:  0:00:02\r",
        " 80% |##############################################            | ETA:  0:00:01\r"
       ]
      },
      {
       "output_type": "stream",
       "stream": "stderr",
       "text": [
        " 84% |#################################################         | ETA:  0:00:01\r",
        " 88% |###################################################       | ETA:  0:00:01\r"
       ]
      },
      {
       "output_type": "stream",
       "stream": "stderr",
       "text": [
        " 93% |#####################################################     | ETA:  0:00:00\r",
        " 97% |########################################################  | ETA:  0:00:00\r"
       ]
      },
      {
       "output_type": "stream",
       "stream": "stdout",
       "text": [
        "MCEqRun::_calculate_integration_path():\n",
        "MCEqRun::_forward_euler(): Solver will perform 4729 integration steps.\n",
        "\n",
        "MCEqRun::_forward_euler(): time elapsed during integration: 9.52062082291 sec"
       ]
      },
      {
       "output_type": "stream",
       "stream": "stdout",
       "text": [
        "\n"
       ]
      },
      {
       "output_type": "stream",
       "stream": "stderr",
       "text": [
        "100% |##########################################################| Time: 0:00:09\r\n"
       ]
      }
     ],
     "prompt_number": 7
    },
    {
     "cell_type": "markdown",
     "metadata": {},
     "source": [
      "Retrieve results\n",
      "----------------"
     ]
    },
    {
     "cell_type": "code",
     "collapsed": false,
     "input": [
      "#Power of energy to scale the flux\n",
      "mag = 3\n",
      "\n",
      "#obtain energy grid (nver changes) of the solution for the x-axis of the plots\n",
      "e_grid = mceq_run.e_grid\n",
      "\n",
      "#Retrieve the flux at the surface by using the aliases which were listed in the\n",
      "#output during the MCEqRun initialization. \n",
      "flux = {}\n",
      "#_conv means conventional (mostly pions and kaons)\n",
      "flux['mu_conv'] = (mceq_run.get_solution('conv_mu+', mag)\n",
      "                   + mceq_run.get_solution('conv_mu-', mag))\n",
      "\n",
      "# _pr means prompt (the mother of the muon had a critical energy\n",
      "# higher than a D meson. Includes all charm and direct resonance\n",
      "# contribution)\n",
      "flux['mu_pr'] = (mceq_run.get_solution('pr_mu+', mag)\n",
      "                 + mceq_run.get_solution('pr_mu-', mag))\n",
      "\n",
      "# total means conventional + prompt\n",
      "flux['mu_total'] = (mceq_run.get_solution('total_mu+', mag)\n",
      "                    + mceq_run.get_solution('total_mu-', mag))\n",
      "\n",
      "# same meaning of prefixes for muon neutrinos as for muons\n",
      "flux['numu_conv'] = (mceq_run.get_solution('conv_numu', mag)\n",
      "                     + mceq_run.get_solution('conv_antinumu', mag))\n",
      "\n",
      "flux['numu_pr'] = (mceq_run.get_solution('pr_numu', mag)\n",
      "                   + mceq_run.get_solution('pr_antinumu', mag))\n",
      "\n",
      "flux['numu_total'] = (mceq_run.get_solution('total_numu', mag)\n",
      "                      + mceq_run.get_solution('total_antinumu', mag))\n",
      "\n",
      "# same meaning of prefixes for electron neutrinos as for muons\n",
      "flux['nue_conv'] = (mceq_run.get_solution('conv_nue', mag)\n",
      "                    + mceq_run.get_solution('conv_antinue', mag))\n",
      "\n",
      "flux['nue_pr'] = (mceq_run.get_solution('pr_nue', mag)\n",
      "                  + mceq_run.get_solution('pr_antinue', mag))\n",
      "\n",
      "flux['nue_total'] = (mceq_run.get_solution('total_nue', mag)\n",
      "                     + mceq_run.get_solution('total_antinue', mag))\n",
      "\n",
      "\n",
      "# since there are no conventional tau neutrinos, prompt=total\n",
      "flux['nutau_pr'] = (mceq_run.get_solution('total_nutau', mag)\n",
      "                    + mceq_run.get_solution('total_antinutau', mag))"
     ],
     "language": "python",
     "metadata": {},
     "outputs": [],
     "prompt_number": 5
    },
    {
     "cell_type": "markdown",
     "metadata": {},
     "source": [
      "Plot with matplotlib\n",
      "--------------------"
     ]
    },
    {
     "cell_type": "code",
     "collapsed": false,
     "input": [
      "#get path of the home directory + Desktop\n",
      "save_pdf = False\n",
      "desktop = os.path.join(os.path.expanduser(\"~\"),'Desktop')\n",
      "\n",
      "for pref, lab in [('mu_',r'\\mu'), ('numu_',r'\\nu_\\mu'), ('nue_',r'\\nu_e')]:\n",
      "    plt.figure(figsize=(4., 3))\n",
      "    plt.loglog(e_grid, flux[pref + 'total'], color='k', ls='-', lw=1.5)\n",
      "    plt.loglog(e_grid, flux[pref + 'conv'], color='b', ls='-.', lw=1.5,\n",
      "               label=r'conventional ${0}$'.format(lab))\n",
      "    plt.loglog(e_grid, flux[pref + 'pr'], color='r',ls='--', lw=1.5, \n",
      "               label='prompt ${0}$'.format(lab))\n",
      "    plt.xlim(50,1e9)\n",
      "    plt.ylim(1e-6,1)\n",
      "    plt.xlabel(r\"$E_{{{0}}}$ [GeV]\".format(lab))\n",
      "    plt.ylabel(r\"$\\Phi_{\" + lab + \"}$ (E/GeV)$^{\" + str(mag) +\" }$\" + \n",
      "               \"(cm$^{2}$ s sr GeV)$^{-1}$\")\n",
      "    plt.legend(loc='upper right')\n",
      "    plt.tight_layout()\n",
      "    if save_pdf: plt.savefig(os.path.join(desktop, pref + 'flux.pdf'))\n",
      "\n",
      "pref = 'nutau'\n",
      "if np.any(flux[pref + '_pr']): #for models without prompt -> no nutau\n",
      "    plt.figure(figsize=(4., 3))\n",
      "    lab = r'\\nu_\\tau'\n",
      "    plt.loglog(e_grid, flux[pref + '_pr'], color='k', ls='-', lw=1.5,\n",
      "               label='prompt ${0}$'.format(lab))\n",
      "    plt.xlim(50,1e9)\n",
      "    plt.ylim(1e-8,1e-3)\n",
      "    plt.xlabel(r\"$E_{{{0}}}$ [GeV]\".format(lab))\n",
      "    plt.ylabel(r\"$\\Phi_{\" + lab + \"}$ (E/GeV)$^{\" + str(mag) +\" }$\" + \n",
      "               \"(cm$^{2}$ s sr GeV)$^{-1}$\")\n",
      "    plt.legend(loc='upper right')\n",
      "    plt.tight_layout()\n",
      "    if save_pdf: plt.savefig(os.path.join(desktop, pref + 'flux.pdf'))"
     ],
     "language": "python",
     "metadata": {},
     "outputs": [
      {
       "metadata": {},
       "output_type": "display_data",
       "png": "[encoded data removed]",
       "text": [
        "<matplotlib.figure.Figure at 0x7fcc0ffbd3d0>"
       ]
      },
      {
       "metadata": {},
       "output_type": "display_data",
       "png": "[encoded data removed]",
       "text": [
        "<matplotlib.figure.Figure at 0x7fcc0fdbc110>"
       ]
      },
      {
       "metadata": {},
       "output_type": "display_data",
       "png": "[encoded data removed]",
       "text": [
        "<matplotlib.figure.Figure at 0x7fcc100a3510>"
       ]
      },
      {
       "metadata": {},
       "output_type": "display_data",
       "png": "[encoded data removed]",
       "text": [
        "<matplotlib.figure.Figure at 0x7fcc0ffbd350>"
       ]
      }
     ],
     "prompt_number": 6
    },
    {
     "cell_type": "markdown",
     "metadata": {},
     "source": [
      "Save as in ASCII file for other types of processing\n",
      "---------------------------------------------------"
     ]
    },
    {
     "cell_type": "code",
     "collapsed": false,
     "input": [
      "np.savetxt(open(os.path.join(desktop, 'my_flux_calculation.txt'),'w'),\n",
      "zip(e_grid, \n",
      "    flux['mu_conv'],flux['mu_pr'],flux['mu_total'],\n",
      "    flux['numu_conv'],flux['numu_pr'],flux['numu_total'],\n",
      "    flux['nue_conv'],flux['nue_pr'],flux['nue_total'],\n",
      "    flux['nutau_pr']),\n",
      "fmt='%6.5E',\n",
      "header=('lepton flux in scaled with E**{0}. Order (E, mu_conv, mu_pr, mu_total, ' +\n",
      "        'numu_conv, numu_pr, numu_total, nue_conv, nue_pr, nue_total, ' +\n",
      "        'nutau_pr').format(mag)\n",
      ")"
     ],
     "language": "python",
     "metadata": {},
     "outputs": [],
     "prompt_number": 23
    }
   ],
   "metadata": {}
  }
 ]
}