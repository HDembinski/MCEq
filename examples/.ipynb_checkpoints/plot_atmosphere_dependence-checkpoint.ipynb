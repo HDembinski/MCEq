{
 "cells": [
  {
   "cell_type": "markdown",
   "metadata": {},
   "source": [
    "Calculate flux dependence on zenith and/or atmosphere\n",
    "-----------------------------------------------------\n",
    "\n",
    "This notebook creates *Figure 5* from the proceedings. Since there some more calculations involved it will take more time - up to tens of minutes depending on your hardware.\n",
    "\n",
    "If running for the first time, a cache file will be created to store the interpolation parameters for the integrated density profiles. The second run will use the cache and run much quicker.\n",
    "\n",
    "Note: When using the **native** Python interface to NRLMSISE-00, the depth integration is **extremely slow** (1-3 minutes). As soon as the lincese questions with the ctypes interface to the pure-C code are solved this will be not an issue."
   ]
  },
  {
   "cell_type": "code",
   "execution_count": null,
   "metadata": {
    "collapsed": false
   },
   "outputs": [],
   "source": [
    "#import the usual modules\n",
    "%load_ext autoreload\n",
    "%matplotlib inline\n",
    "%autoreload 2\n",
    "import os\n",
    "from os.path import join\n",
    "os.chdir('..')\n",
    "import matplotlib.pyplot as plt\n",
    "import numpy as np\n",
    "\n",
    "from MCEq.core import MCEqRun\n",
    "import CRFluxModels as pm\n",
    "from mceq_config import mceq_config_without"
   ]
  },
  {
   "cell_type": "markdown",
   "metadata": {},
   "source": [
    "Initialize the `mceq_run` object\n",
    "--------------------------------"
   ]
  },
  {
   "cell_type": "code",
   "execution_count": null,
   "metadata": {
    "collapsed": false
   },
   "outputs": [],
   "source": [
    "mceq_run = MCEqRun(\n",
    "\n",
    "interaction_model='SIBYLL2.3_rc1',\n",
    "\n",
    "primary_model=(pm.HillasGaisser2012, \"H3a\"),\n",
    "#Do not provide any default values to avoid unnecessary initilizations\n",
    "theta_deg=None,\n",
    "atm_model=None,\n",
    "\n",
    "#Exclude the atmopheric setting from the configuration file\n",
    "**mceq_config_without(['atm_model'])\n",
    "\n",
    ")"
   ]
  },
  {
   "cell_type": "markdown",
   "metadata": {},
   "source": [
    "Define what to calculate\n",
    "------------------------\n",
    "\n",
    "This example will calculate the flux for 5 different atmospheric profiles and 2 zenith angles. Zenith of 0 means vertical and 90 horizontal respectively. Note that the more inclide the shower trajectory is, the more integration steps *(read: calculation time)* are necessary. The total (conventional + prompt) fluxes will be stored in the `*_dict` dictionaries for plotting in the next step."
   ]
  },
  {
   "cell_type": "code",
   "execution_count": null,
   "metadata": {
    "collapsed": false
   },
   "outputs": [],
   "source": [
    "mup_dict, numu_dict, nue_dict = {}, {}, {}\n",
    "for atm_tup in [(('CORSIKA', 'PL_SouthPole', 'January'), 'green'),\n",
    "                (('CORSIKA', 'PL_SouthPole', 'August'), 'red'),\n",
    "                (('MSIS00', 'SouthPole', 'January'), 'blue'),\n",
    "                (('MSIS00', 'SouthPole', 'August'), 'cyan'),\n",
    "                (('CORSIKA', 'BK_USStd', None), 'black')]:\n",
    "\n",
    "\n",
    "    mceq_run.set_atm_model(atm_tup[0])\n",
    "    for theta in [0., 90.]:\n",
    "        \n",
    "        mceq_run.set_theta_deg(theta)\n",
    "        mceq_run.solve()\n",
    "\n",
    "        mag = 3\n",
    "\n",
    "        mup_dict[(theta, atm_tup)] = mceq_run.get_solution('total_mu+', mag) + \\\n",
    "                               mceq_run.get_solution('total_mu-', mag)\n",
    "\n",
    "        numu_dict[(theta, atm_tup)] = mceq_run.get_solution('total_numu', mag) + \\\n",
    "                                mceq_run.get_solution('total_antinumu', mag)\n",
    "\n",
    "        nue_dict[(theta, atm_tup)] = mceq_run.get_solution('total_nue', mag) + \\\n",
    "                               mceq_run.get_solution('total_antinue', mag)"
   ]
  },
  {
   "cell_type": "markdown",
   "metadata": {},
   "source": [
    "Plot with `matplotlib`\n",
    "----------------------"
   ]
  },
  {
   "cell_type": "code",
   "execution_count": null,
   "metadata": {
    "collapsed": false
   },
   "outputs": [],
   "source": [
    "color_spectrum = ['b', 'r', 'g', 'orange', 'cyan', 'violet',\n",
    "                  'brown', 'pink', 'yellow', 'lightblue']\n",
    "titles = {('CORSIKA', 'PL_SouthPole', 'January'): 'CKA SP/Jan',\n",
    "          ('CORSIKA', 'PL_SouthPole', 'August'): 'CKA SP/Aug',\n",
    "          ('MSIS00', 'SouthPole', 'January'): 'MSIS00 SP/Jan',\n",
    "          ('MSIS00', 'SouthPole', 'August'): 'MSIS00 SP/Aug',\n",
    "          ('CORSIKA', 'BK_USStd', None): 'USStd'}\n",
    "fig = plt.figure(figsize=(8.5, 3.5))\n",
    "fig.set_tight_layout(dict(rect=[0.01, 0.01, 0.99, 0.97]))\n",
    "e_grid = mceq_run.y.e_grid\n",
    "compare_to = (('CORSIKA', 'BK_USStd', None), 'black')\n",
    "\n",
    "for theta, atm_tup in mup_dict.keys():\n",
    "    mup_comp = mup_dict[(theta, compare_to)]\n",
    "    numu_comp = numu_dict[(theta, compare_to)]\n",
    "    nue_comp = nue_dict[(theta, compare_to)]\n",
    "    \n",
    "    atm_config, atm_col = atm_tup\n",
    "    if atm_config[1].startswith('BK'):\n",
    "        continue    \n",
    "    ls = '--'\n",
    "    atm_title = '_nolabel_'\n",
    "    if theta < 90.:\n",
    "        ls='-'\n",
    "        atm_title = titles[atm_config]\n",
    "\n",
    "     \n",
    "    plt.subplot(121)        \n",
    "    plt.plot(e_grid, mup_dict[(theta, atm_tup)] / mup_comp, ls=ls, lw=1.5,\n",
    "             color=atm_col, label=atm_title)\n",
    "    plt.semilogx()\n",
    "    plt.xlabel(r\"$E_{\\mu}$ [GeV]\")\n",
    "    plt.ylim([0.75, 1.1])\n",
    "\n",
    "    plt.subplot(122)\n",
    "    plt.plot(e_grid, numu_dict[(theta, atm_tup)] / numu_comp, ls=ls,  lw=1.5,\n",
    "             color=atm_col, label=atm_title)\n",
    "    plt.semilogx()\n",
    "    plt.xlabel(r\"$E_{\\nu}$ [GeV]\")\n",
    "\n",
    "\n",
    "plt.subplot(121)\n",
    "plt.title('Muons', fontsize=10)\n",
    "plt.xlabel(r\"$E_{\\mu}$ [GeV]\")\n",
    "plt.ylabel(r\"$\\Phi_{\\mu}($atm$)/\\Phi_{\\mu}($USStd)\")\n",
    "plt.xlim([50,1e9])\n",
    "plt.ylim([0.75, 1.13])\n",
    "plt.legend(loc='lower left', ncol=2, frameon=False, fontsize=10)\n",
    "\n",
    "plt.subplot(122)\n",
    "plt.title('Muon neutrinos', fontsize=10)\n",
    "plt.xlabel(r\"$E_{\\nu_\\mu}$ [GeV]\")\n",
    "plt.ylabel(r\"$\\Phi_{\\nu_\\mu}($atm$)/\\Phi_{\\nu_\\mu}($USStd)\")\n",
    "plt.xlim([50,1e9])\n",
    "plt.ylim([0.75, 1.13])\n",
    "plt.legend(loc='lower left', ncol=2, frameon=False, fontsize=10)\n",
    "plt.savefig('atm_flux.pdf')"
   ]
  },
  {
   "cell_type": "code",
   "execution_count": null,
   "metadata": {
    "collapsed": false
   },
   "outputs": [],
   "source": []
  }
 ],
 "metadata": {
  "kernelspec": {
   "display_name": "Python 2",
   "language": "python",
   "name": "python2"
  },
  "language_info": {
   "codemirror_mode": {
    "name": "ipython",
    "version": 2
   },
   "file_extension": ".py",
   "mimetype": "text/x-python",
   "name": "python",
   "nbconvert_exporter": "python",
   "pygments_lexer": "ipython2",
   "version": "2.7.9"
  }
 },
 "nbformat": 4,
 "nbformat_minor": 0
}
