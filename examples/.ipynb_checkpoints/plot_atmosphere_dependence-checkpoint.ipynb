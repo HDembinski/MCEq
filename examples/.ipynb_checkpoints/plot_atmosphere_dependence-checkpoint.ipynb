{
 "metadata": {
  "name": "",
  "signature": "sha256:c6b44655963ba22422960975976da75bde5f277f8062fab4fa4f2695e61c330e"
 },
 "nbformat": 3,
 "nbformat_minor": 0,
 "worksheets": [
  {
   "cells": [
    {
     "cell_type": "markdown",
     "metadata": {},
     "source": [
      "Calculate flux dependence on zenith and/or atmosphere\n",
      "-----------------------------------------------------\n",
      "\n",
      "This notebook creates *Figure 5* from the proceedings. Since there some more calculations involved it will take more time - up to tens of minutes depending on your hardware.\n",
      "\n",
      "If running for the first time, a cache file will be created to store the interpolation parameters for the integrated density profiles. The second run will use the cache and run much quicker.\n",
      "\n",
      "Note: When using the **native** Python interface to NRLMSISE-00, the depth integration is **extremely slow** (1-3 minutes). As soon as the lincese questions with the ctypes interface to the pure-C code are solved this will be not an issue."
     ]
    },
    {
     "cell_type": "code",
     "collapsed": false,
     "input": [
      "#import the usual modules\n",
      "%load_ext autoreload\n",
      "%matplotlib inline\n",
      "%autoreload 2\n",
      "import os\n",
      "from os.path import join\n",
      "os.chdir('..')\n",
      "import matplotlib.pyplot as plt\n",
      "import numpy as np\n",
      "\n",
      "from MCEq.core import MCEqRun\n",
      "import CRFluxModels as pm\n",
      "from mceq_config import mceq_config_without"
     ],
     "language": "python",
     "metadata": {},
     "outputs": [],
     "prompt_number": 1
    },
    {
     "cell_type": "markdown",
     "metadata": {},
     "source": [
      "Initialize the `mceq_run` object\n",
      "--------------------------------"
     ]
    },
    {
     "cell_type": "code",
     "collapsed": false,
     "input": [
      "mceq_run = MCEqRun(\n",
      "\n",
      "interaction_model='SIBYLL2.3_rc1',\n",
      "\n",
      "primary_model=(pm.HillasGaisser2012, \"H3a\"),\n",
      "#Do not provide any default values to avoid unnecessary initilizations\n",
      "theta_deg=None,\n",
      "atm_model=None,\n",
      "\n",
      "#Exclude the atmopheric setting from the configuration file\n",
      "**mceq_config_without(['atm_model'])\n",
      "\n",
      ")"
     ],
     "language": "python",
     "metadata": {},
     "outputs": [
      {
       "output_type": "stream",
       "stream": "stdout",
       "text": [
        "\n",
        "Hadrons:\n",
        "\n",
        "\"p-bar\", \"p\", \"n-bar\", \"n\", \"pi+\", \"pi-\", \"K0L\", \"K+\", \n",
        "\"K-\"\n",
        "\n",
        "Mixed:\n",
        "\n",
        "\"Lambda0-bar\", \"Lambda0\", \"Xi0-bar\", \"Xi0\", \"K0S\", \"Xi--bar\", \"Xi-\", \"Sigma--bar\", \n",
        "\"Sigma-\", \"Sigma+-bar\", \"Sigma+\", \"Omega--bar\", \"Omega-\", \"D+\", \"D-\", \"Ds+\", \n",
        "\"Ds-\", \"D0\", \"D0-bar\", \"XiC+-bar\", \"XiC+\", \"tau+\", \"tau-\", \"LambdaC+-bar\", \n",
        "\"LambdaC+\", \"XiC0-bar\", \"XiC0\", \"OmegaC0-bar\", \"OmegaC0\", \"pi0\"\n",
        "\n",
        "Resonances:\n",
        "\n",
        "\"eta\", \"Sigma0-bar\", \"Sigma0\", \"D*+\", \"D*-\", \"eta*\", \"jpsi\", \"phi\", \n",
        "\"SigmaC0-bar\", \"SigmaC0\", \"SigmaC+-bar\", \"SigmaC+\", \"SigmaC++-bar\", \"SigmaC++\", \"omega\", \"Xi*0-bar\", \n",
        "\"Xi*0\", \"Xi*--bar\", \"Xi*-\", \"SigmaC*0-bar\", \"SigmaC*0\", \"SigmaC*++-bar\", \"SigmaC*++\", \"SigmaC*+-bar\", \n",
        "\"SigmaC*+\", \"K*0\", \"K*0-bar\", \"K*+\", \"K*-\", \"Sigma*+-bar\", \"Sigma*+\", \"Sigma*0-bar\", \n",
        "\"Sigma*0\", \"Sigma*--bar\", \"Sigma*-\", \"etaC\", \"rho+\", \"rho-\", \"rho0\", \"Delta--bar\", \n",
        "\"Delta0-bar\", \"Delta+-bar\", \"Delta++-bar\", \"Delta++\", \"Delta+\", \"Delta0\", \"Delta-\", \"D*0\", \n",
        "\"D*0-bar\", \"XiC*0-bar\", \"XiC*+-bar\", \"XiC*+\", \"XiC*0\", \"Ds*+\", \"Ds*-\"\n",
        "\n",
        "Leptons:\n",
        "\n",
        "\"nue\", \"numu\", \"nutau\", \"antinue\", \"antinumu\", \"antinutau\", \"nue\", \"numu\", \n",
        "\"nutau\", \"antinue\", \"antinumu\", \"antinutau\", \"mu-\", \"mu+\", \"mu-\", \"mu+\"\n",
        "\n",
        "Aliases:\n",
        "\"pr_nue\", \"pr_numu\", \"pr_nutau\", \"pi_nue\", \"pi_numu\", \"pi_nutau\", \"k_nue\", \"k_numu\", \n",
        "\"k_nutau\", \"obs_nue\", \"obs_numu\", \"obs_nutau\", \"pr_antinue\", \"pr_antinumu\", \"pr_antinutau\", \"pi_antinue\", \n",
        "\"pi_antinumu\", \"pi_antinutau\", \"k_antinue\", \"k_antinumu\", \"k_antinutau\", \"obs_antinue\", \"obs_antinumu\", \"obs_antinutau\", \n",
        "\"pr_mu-\", \"pi_mu-\", \"k_mu-\", \"obs_mu-\", \"pr_mu+\", \"pi_mu+\", \"k_mu+\", \"obs_mu+\"\n",
        "\n",
        "Total number of species: 87\n",
        "MCEqRun::set_interaction_model():  SIBYLL2.3_rc1\n",
        "InteractionYields:set_interaction_model():: Model SIBYLL2.3_rc1 already loaded.\n",
        "MCEqRun::_init_default_matrices():Start filling matrices.\n",
        "MCEqRun::_convert_to_sparse():Converting to sparse (CSR) matrix format."
       ]
      },
      {
       "output_type": "stream",
       "stream": "stdout",
       "text": [
        "\n",
        "C Matrix info:"
       ]
      },
      {
       "output_type": "stream",
       "stream": "stdout",
       "text": [
        "\n",
        "    density    : 7.3207942769e-07\n",
        "    shape      : (6264, 6264)\n",
        "    nnz        : 1365972\n",
        "D Matrix info:\n",
        "    density    : 3.44531764106e-06\n",
        "    shape      : (6264, 6264)\n",
        "    nnz        : 290249\n",
        "MCEqRun::_init_default_matrices():Done filling matrices.\n",
        "MCEqRun::set_primary_model():  HillasGaisser2012 H3a\n"
       ]
      }
     ],
     "prompt_number": 2
    },
    {
     "cell_type": "markdown",
     "metadata": {},
     "source": [
      "Define what to calculate\n",
      "------------------------\n",
      "\n",
      "This example will calculate the flux for 5 different atmospheric profiles and 2 zenith angles. Zenith of 0 means vertical and 90 horizontal respectively. Note that the more inclide the shower trajectory is, the more integration steps *(read: calculation time)* are necessary. The total (conventional + prompt) fluxes will be stored in the `*_dict` dictionaries for plotting in the next step."
     ]
    },
    {
     "cell_type": "code",
     "collapsed": false,
     "input": [
      "mup_dict, numu_dict, nue_dict = {}, {}, {}\n",
      "for atm_tup in [(('CORSIKA', 'PL_SouthPole', 'January'), 'green'),\n",
      "                (('CORSIKA', 'PL_SouthPole', 'August'), 'red'),\n",
      "                (('MSIS00', 'SouthPole', 'January'), 'blue'),\n",
      "                (('MSIS00', 'SouthPole', 'August'), 'cyan'),\n",
      "                (('CORSIKA', 'BK_USStd', None), 'black')]:\n",
      "\n",
      "\n",
      "    mceq_run.set_atm_model(atm_tup[0])\n",
      "    for theta in [0., 90.]:\n",
      "        \n",
      "        mceq_run.set_theta_deg(theta)\n",
      "        mceq_run.solve()\n",
      "\n",
      "        mag = 3\n",
      "\n",
      "        mup_dict[(theta, atm_tup)] = mceq_run.get_solution('total_mu+', mag) + \\\n",
      "                               mceq_run.get_solution('total_mu-', mag)\n",
      "\n",
      "        numu_dict[(theta, atm_tup)] = mceq_run.get_solution('total_numu', mag) + \\\n",
      "                                mceq_run.get_solution('total_antinumu', mag)\n",
      "\n",
      "        nue_dict[(theta, atm_tup)] = mceq_run.get_solution('total_nue', mag) + \\\n",
      "                               mceq_run.get_solution('total_antinue', mag)"
     ],
     "language": "python",
     "metadata": {},
     "outputs": [
      {
       "output_type": "stream",
       "stream": "stdout",
       "text": [
        "MCEqRun::set_atm_model():  CORSIKA PL_SouthPole January\n",
        "MCEqRun::set_theta_deg():  0.0\n",
        "atmospheres::_load_cache(): loading cache.\n",
        "density_profiles::_load_cache(): creating new cache..\n",
        "CorsikaAtmosphere::calculate_density_spline(): Calculating spline of rho(X) for zenith 0.0 degrees.\n",
        ".. took 4.50s"
       ]
      },
      {
       "output_type": "stream",
       "stream": "stderr",
       "text": [
        "  0% |                                                         | ETA:  --:--:--\r",
        "  1% |                                                          | ETA:  0:00:09\r"
       ]
      },
      {
       "output_type": "stream",
       "stream": "stdout",
       "text": [
        "\n",
        "Average spline error: 2.01498597304e-16\n",
        "density_profiles::_dump_cache() dumping cache.\n",
        "./data/atm_cache.ppd\n",
        "MCEqRun::_calculate_integration_path():\n",
        "MCEqRun::_forward_euler(): Solver will perform 4729 integration steps."
       ]
      },
      {
       "output_type": "stream",
       "stream": "stderr",
       "text": [
        "  2% |#                                                         | ETA:  0:00:05\r",
        "  3% |#                                                         | ETA:  0:00:03\r",
        "  4% |##                                                        | ETA:  0:00:02\r",
        "  5% |##                                                        | ETA:  0:00:02\r",
        "  6% |###                                                       | ETA:  0:00:01\r",
        "  7% |####                                                      | ETA:  0:00:01\r",
        "  8% |####                                                      | ETA:  0:00:01\r",
        "  9% |#####                                                     | ETA:  0:00:01\r",
        " 10% |#####                                                     | ETA:  0:00:01\r",
        " 11% |######                                                    | ETA:  0:00:00\r",
        " 12% |#######                                                   | ETA:  0:00:00\r",
        " 13% |#######                                                   | ETA:  0:00:00\r",
        " 14% |########                                                  | ETA:  0:00:00\r",
        " 15% |########                                                  | ETA:  0:00:00\r",
        " 16% |#########                                                 | ETA:  0:00:00\r",
        " 17% |##########                                                | ETA:  0:00:00\r",
        " 18% |##########                                                | ETA:  0:00:00\r",
        " 19% |###########                                               | ETA:  0:00:00\r",
        " 20% |###########                                               | ETA:  0:00:00\r",
        " 21% |############                                              | ETA:  0:00:00\r",
        " 22% |#############                                             | ETA:  0:00:00\r",
        " 23% |#############                                             | ETA:  0:00:00\r",
        " 24% |##############                                            | ETA:  0:00:00\r",
        " 25% |##############                                            | ETA:  0:00:00\r",
        " 26% |###############                                           | ETA:  0:00:00\r",
        " 27% |################                                          | ETA:  0:00:00\r",
        " 28% |################                                          | ETA:  0:00:00\r",
        " 29% |#################                                         | ETA:  0:00:00\r",
        " 30% |#################                                         | ETA:  0:00:00\r",
        " 31% |##################                                        | ETA:  0:00:00\r",
        " 32% |###################                                       | ETA:  0:00:00\r",
        " 34% |###################                                       | ETA:  0:00:00\r",
        " 35% |####################                                      | ETA:  0:00:00\r",
        " 36% |#####################                                     | ETA:  0:00:00\r",
        " 37% |#####################                                     | ETA:  0:00:00\r",
        " 38% |######################                                    | ETA:  0:00:00\r",
        " 39% |######################                                    | ETA:  0:00:00\r",
        " 40% |#######################                                   | ETA:  0:00:00\r",
        " 41% |########################                                  | ETA:  0:00:00\r",
        " 42% |########################                                  | ETA:  0:00:00\r",
        " 43% |#########################                                 | ETA:  0:00:00\r",
        " 44% |#########################                                 | ETA:  0:00:00\r",
        " 45% |##########################                                | ETA:  0:00:00\r",
        " 46% |###########################                               | ETA:  0:00:00\r",
        " 47% |###########################                               | ETA:  0:00:00\r",
        " 49% |############################                              | ETA:  0:00:00\r",
        " 50% |#############################                             | ETA:  0:00:00\r",
        " 51% |#############################                             | ETA:  0:00:00\r",
        " 52% |##############################                            | ETA:  0:00:00\r",
        " 53% |##############################                            | ETA:  0:00:00\r",
        " 54% |###############################                           | ETA:  0:00:00\r",
        " 55% |################################                          | ETA:  0:00:00\r",
        " 56% |################################                          | ETA:  0:00:00\r",
        " 57% |#################################                         | ETA:  0:00:00\r",
        " 58% |##################################                        | ETA:  0:00:00\r",
        " 59% |##################################                        | ETA:  0:00:00\r",
        " 61% |###################################                       | ETA:  0:00:00\r",
        " 62% |####################################                      | ETA:  0:00:00\r",
        " 63% |####################################                      | ETA:  0:00:00\r",
        " 64% |#####################################                     | ETA:  0:00:00\r",
        " 65% |#####################################                     | ETA:  0:00:00\r",
        " 66% |######################################                    | ETA:  0:00:00\r",
        " 67% |#######################################                   | ETA:  0:00:00\r",
        " 68% |#######################################                   | ETA:  0:00:00\r",
        " 69% |########################################                  | ETA:  0:00:00\r",
        " 70% |#########################################                 | ETA:  0:00:00\r",
        " 71% |#########################################                 | ETA:  0:00:00\r",
        " 73% |##########################################                | ETA:  0:00:00\r",
        " 74% |###########################################               | ETA:  0:00:00\r",
        " 75% |###########################################               | ETA:  0:00:00\r",
        " 76% |############################################              | ETA:  0:00:00\r",
        " 77% |#############################################             | ETA:  0:00:00\r",
        " 79% |#############################################             | ETA:  0:00:00\r",
        " 80% |##############################################            | ETA:  0:00:00\r",
        " 81% |###############################################           | ETA:  0:00:00\r",
        " 82% |###############################################           | ETA:  0:00:00\r",
        " 83% |################################################          | ETA:  0:00:00\r",
        " 84% |################################################          | ETA:  0:00:00\r",
        " 85% |#################################################         | ETA:  0:00:00\r",
        " 86% |##################################################        | ETA:  0:00:00\r",
        " 87% |##################################################        | ETA:  0:00:00\r",
        " 88% |###################################################       | ETA:  0:00:00\r",
        " 89% |###################################################       | ETA:  0:00:00\r",
        " 90% |####################################################      | ETA:  0:00:00\r",
        " 91% |#####################################################     | ETA:  0:00:00\r",
        " 93% |#####################################################     | ETA:  0:00:00\r",
        " 94% |######################################################    | ETA:  0:00:00\r",
        " 95% |#######################################################   | ETA:  0:00:00\r",
        " 96% |#######################################################   | ETA:  0:00:00\r",
        " 97% |########################################################  | ETA:  0:00:00\r",
        " 98% |######################################################### | ETA:  0:00:00\r",
        "100% |##########################################################| Time: 0:00:00\r\n",
        "  0% |                                                         | ETA:  --:--:--\r",
        "  1% |                                                          | ETA:  0:00:06\r"
       ]
      },
      {
       "output_type": "stream",
       "stream": "stderr",
       "text": [
        "  2% |#                                                         | ETA:  0:00:06\r",
        "  3% |#                                                         | ETA:  0:00:06\r"
       ]
      },
      {
       "output_type": "stream",
       "stream": "stderr",
       "text": [
        "  4% |##                                                        | ETA:  0:00:06\r",
        "  5% |##                                                        | ETA:  0:00:05\r"
       ]
      },
      {
       "output_type": "stream",
       "stream": "stderr",
       "text": [
        "  6% |###                                                       | ETA:  0:00:05\r",
        "  7% |####                                                      | ETA:  0:00:05\r"
       ]
      },
      {
       "output_type": "stream",
       "stream": "stderr",
       "text": [
        "  8% |####                                                      | ETA:  0:00:05\r",
        "  9% |#####                                                     | ETA:  0:00:05\r"
       ]
      },
      {
       "output_type": "stream",
       "stream": "stderr",
       "text": [
        " 10% |#####                                                     | ETA:  0:00:05\r",
        " 11% |######                                                    | ETA:  0:00:05\r"
       ]
      },
      {
       "output_type": "stream",
       "stream": "stderr",
       "text": [
        " 12% |#######                                                   | ETA:  0:00:05\r",
        " 13% |#######                                                   | ETA:  0:00:05\r"
       ]
      },
      {
       "output_type": "stream",
       "stream": "stderr",
       "text": [
        " 14% |########                                                  | ETA:  0:00:05\r",
        " 15% |########                                                  | ETA:  0:00:05\r"
       ]
      },
      {
       "output_type": "stream",
       "stream": "stderr",
       "text": [
        " 16% |#########                                                 | ETA:  0:00:05\r",
        " 17% |##########                                                | ETA:  0:00:05\r"
       ]
      },
      {
       "output_type": "stream",
       "stream": "stderr",
       "text": [
        " 18% |##########                                                | ETA:  0:00:04\r",
        " 19% |###########                                               | ETA:  0:00:04\r"
       ]
      },
      {
       "output_type": "stream",
       "stream": "stderr",
       "text": [
        " 20% |###########                                               | ETA:  0:00:04\r",
        " 21% |############                                              | ETA:  0:00:04\r"
       ]
      },
      {
       "output_type": "stream",
       "stream": "stderr",
       "text": [
        " 22% |############                                              | ETA:  0:00:04\r",
        " 23% |#############                                             | ETA:  0:00:04\r"
       ]
      },
      {
       "output_type": "stream",
       "stream": "stderr",
       "text": [
        " 24% |##############                                            | ETA:  0:00:04\r",
        " 25% |##############                                            | ETA:  0:00:04\r"
       ]
      },
      {
       "output_type": "stream",
       "stream": "stderr",
       "text": [
        " 26% |###############                                           | ETA:  0:00:04\r",
        " 27% |###############                                           | ETA:  0:00:04\r"
       ]
      },
      {
       "output_type": "stream",
       "stream": "stderr",
       "text": [
        " 28% |################                                          | ETA:  0:00:04\r",
        " 29% |#################                                         | ETA:  0:00:04\r"
       ]
      },
      {
       "output_type": "stream",
       "stream": "stderr",
       "text": [
        " 30% |#################                                         | ETA:  0:00:04\r",
        " 31% |##################                                        | ETA:  0:00:04\r"
       ]
      },
      {
       "output_type": "stream",
       "stream": "stderr",
       "text": [
        " 32% |##################                                        | ETA:  0:00:04\r",
        " 33% |###################                                       | ETA:  0:00:04\r"
       ]
      },
      {
       "output_type": "stream",
       "stream": "stderr",
       "text": [
        " 34% |####################                                      | ETA:  0:00:04\r",
        " 35% |####################                                      | ETA:  0:00:04\r"
       ]
      },
      {
       "output_type": "stream",
       "stream": "stderr",
       "text": [
        " 36% |#####################                                     | ETA:  0:00:03\r",
        " 37% |#####################                                     | ETA:  0:00:03\r"
       ]
      },
      {
       "output_type": "stream",
       "stream": "stderr",
       "text": [
        " 38% |######################                                    | ETA:  0:00:03\r",
        " 39% |######################                                    | ETA:  0:00:03\r"
       ]
      },
      {
       "output_type": "stream",
       "stream": "stderr",
       "text": [
        " 40% |#######################                                   | ETA:  0:00:03\r",
        " 41% |########################                                  | ETA:  0:00:03\r"
       ]
      },
      {
       "output_type": "stream",
       "stream": "stderr",
       "text": [
        " 42% |########################                                  | ETA:  0:00:03\r",
        " 43% |#########################                                 | ETA:  0:00:03\r"
       ]
      },
      {
       "output_type": "stream",
       "stream": "stderr",
       "text": [
        " 44% |#########################                                 | ETA:  0:00:03\r",
        " 45% |##########################                                | ETA:  0:00:03\r"
       ]
      },
      {
       "output_type": "stream",
       "stream": "stderr",
       "text": [
        " 46% |###########################                               | ETA:  0:00:03\r",
        " 47% |###########################                               | ETA:  0:00:03\r"
       ]
      },
      {
       "output_type": "stream",
       "stream": "stderr",
       "text": [
        " 48% |############################                              | ETA:  0:00:03\r",
        " 49% |############################                              | ETA:  0:00:03\r"
       ]
      },
      {
       "output_type": "stream",
       "stream": "stderr",
       "text": [
        " 50% |#############################                             | ETA:  0:00:03\r",
        " 51% |##############################                            | ETA:  0:00:03\r"
       ]
      },
      {
       "output_type": "stream",
       "stream": "stderr",
       "text": [
        " 52% |##############################                            | ETA:  0:00:02\r",
        " 53% |###############################                           | ETA:  0:00:02\r"
       ]
      },
      {
       "output_type": "stream",
       "stream": "stderr",
       "text": [
        " 54% |###############################                           | ETA:  0:00:02\r",
        " 55% |################################                          | ETA:  0:00:02\r"
       ]
      },
      {
       "output_type": "stream",
       "stream": "stderr",
       "text": [
        " 56% |################################                          | ETA:  0:00:02\r",
        " 57% |#################################                         | ETA:  0:00:02\r"
       ]
      },
      {
       "output_type": "stream",
       "stream": "stderr",
       "text": [
        " 58% |##################################                        | ETA:  0:00:02\r",
        " 59% |##################################                        | ETA:  0:00:02\r"
       ]
      },
      {
       "output_type": "stream",
       "stream": "stderr",
       "text": [
        " 60% |###################################                       | ETA:  0:00:02\r",
        " 61% |###################################                       | ETA:  0:00:02\r"
       ]
      },
      {
       "output_type": "stream",
       "stream": "stderr",
       "text": [
        " 62% |####################################                      | ETA:  0:00:02\r",
        " 63% |#####################################                     | ETA:  0:00:02\r"
       ]
      },
      {
       "output_type": "stream",
       "stream": "stderr",
       "text": [
        " 64% |#####################################                     | ETA:  0:00:02\r",
        " 65% |######################################                    | ETA:  0:00:02\r"
       ]
      },
      {
       "output_type": "stream",
       "stream": "stderr",
       "text": [
        " 66% |######################################                    | ETA:  0:00:02\r",
        " 68% |#######################################                   | ETA:  0:00:02\r"
       ]
      },
      {
       "output_type": "stream",
       "stream": "stderr",
       "text": [
        " 69% |########################################                  | ETA:  0:00:01\r",
        " 70% |########################################                  | ETA:  0:00:01\r"
       ]
      },
      {
       "output_type": "stream",
       "stream": "stderr",
       "text": [
        " 71% |#########################################                 | ETA:  0:00:01\r",
        " 72% |#########################################                 | ETA:  0:00:01\r"
       ]
      },
      {
       "output_type": "stream",
       "stream": "stderr",
       "text": [
        " 73% |##########################################                | ETA:  0:00:01\r",
        " 74% |##########################################                | ETA:  0:00:01\r"
       ]
      },
      {
       "output_type": "stream",
       "stream": "stderr",
       "text": [
        " 75% |###########################################               | ETA:  0:00:01\r",
        " 76% |############################################              | ETA:  0:00:01\r"
       ]
      },
      {
       "output_type": "stream",
       "stream": "stderr",
       "text": [
        " 77% |############################################              | ETA:  0:00:01\r",
        " 78% |#############################################             | ETA:  0:00:01\r"
       ]
      },
      {
       "output_type": "stream",
       "stream": "stderr",
       "text": [
        " 79% |#############################################             | ETA:  0:00:01\r",
        " 80% |##############################################            | ETA:  0:00:01\r"
       ]
      },
      {
       "output_type": "stream",
       "stream": "stderr",
       "text": [
        " 81% |###############################################           | ETA:  0:00:01\r",
        " 82% |###############################################           | ETA:  0:00:01\r"
       ]
      },
      {
       "output_type": "stream",
       "stream": "stderr",
       "text": [
        " 83% |################################################          | ETA:  0:00:01\r",
        " 84% |################################################          | ETA:  0:00:01\r"
       ]
      },
      {
       "output_type": "stream",
       "stream": "stderr",
       "text": [
        " 85% |#################################################         | ETA:  0:00:00\r",
        " 86% |##################################################        | ETA:  0:00:00\r"
       ]
      },
      {
       "output_type": "stream",
       "stream": "stderr",
       "text": [
        " 87% |##################################################        | ETA:  0:00:00\r",
        " 88% |###################################################       | ETA:  0:00:00\r"
       ]
      },
      {
       "output_type": "stream",
       "stream": "stderr",
       "text": [
        " 89% |###################################################       | ETA:  0:00:00\r",
        " 90% |####################################################      | ETA:  0:00:00\r"
       ]
      },
      {
       "output_type": "stream",
       "stream": "stderr",
       "text": [
        " 91% |####################################################      | ETA:  0:00:00\r",
        " 92% |#####################################################     | ETA:  0:00:00\r"
       ]
      },
      {
       "output_type": "stream",
       "stream": "stderr",
       "text": [
        " 93% |######################################################    | ETA:  0:00:00\r",
        " 94% |######################################################    | ETA:  0:00:00\r"
       ]
      },
      {
       "output_type": "stream",
       "stream": "stderr",
       "text": [
        " 95% |#######################################################   | ETA:  0:00:00\r",
        " 96% |#######################################################   | ETA:  0:00:00\r"
       ]
      },
      {
       "output_type": "stream",
       "stream": "stderr",
       "text": [
        " 97% |########################################################  | ETA:  0:00:00\r",
        " 98% |######################################################### | ETA:  0:00:00\r"
       ]
      },
      {
       "output_type": "stream",
       "stream": "stdout",
       "text": [
        "\n",
        "\n",
        "MCEqRun::_forward_euler(): time elapsed during integration: 6.48146605492 sec"
       ]
      },
      {
       "output_type": "stream",
       "stream": "stdout",
       "text": [
        "\n",
        "MCEqRun::set_theta_deg():  90.0\n",
        "atmospheres::_load_cache(): loading cache.\n",
        "CorsikaAtmosphere::calculate_density_spline(): Calculating spline of rho(X) for zenith 90.0 degrees.\n",
        ".. took 3.99s"
       ]
      },
      {
       "output_type": "stream",
       "stream": "stderr",
       "text": [
        " 99% |######################################################### | ETA:  0:00:00\r",
        "100% |##########################################################| Time: 0:00:06\r\n",
        "  0% |                                                         | ETA:  --:--:--\r"
       ]
      },
      {
       "output_type": "stream",
       "stream": "stderr",
       "text": [
        "  1% |                                                          | ETA:  0:01:18\r",
        "  2% |#                                                         | ETA:  0:00:41\r"
       ]
      },
      {
       "output_type": "stream",
       "stream": "stderr",
       "text": [
        "  3% |#                                                         | ETA:  0:00:28\r",
        "  4% |##                                                        | ETA:  0:00:22\r",
        "  5% |##                                                        | ETA:  0:00:17\r"
       ]
      },
      {
       "output_type": "stream",
       "stream": "stderr",
       "text": [
        "  6% |###                                                       | ETA:  0:00:15\r",
        "  7% |####                                                      | ETA:  0:00:13\r",
        "  8% |####                                                      | ETA:  0:00:11\r",
        "  9% |#####                                                     | ETA:  0:00:10\r",
        " 10% |#####                                                     | ETA:  0:00:09\r"
       ]
      },
      {
       "output_type": "stream",
       "stream": "stderr",
       "text": [
        " 11% |######                                                    | ETA:  0:00:08\r",
        " 12% |######                                                    | ETA:  0:00:07\r",
        " 13% |#######                                                   | ETA:  0:00:07\r",
        " 14% |########                                                  | ETA:  0:00:06\r",
        " 15% |########                                                  | ETA:  0:00:06\r",
        " 16% |#########                                                 | ETA:  0:00:05\r",
        " 17% |#########                                                 | ETA:  0:00:05\r"
       ]
      },
      {
       "output_type": "stream",
       "stream": "stderr",
       "text": [
        " 18% |##########                                                | ETA:  0:00:05\r",
        " 19% |###########                                               | ETA:  0:00:04\r",
        " 20% |###########                                               | ETA:  0:00:04\r",
        " 21% |############                                              | ETA:  0:00:04\r",
        " 22% |############                                              | ETA:  0:00:04\r",
        " 23% |#############                                             | ETA:  0:00:03\r",
        " 24% |#############                                             | ETA:  0:00:03\r",
        " 25% |##############                                            | ETA:  0:00:03\r"
       ]
      },
      {
       "output_type": "stream",
       "stream": "stderr",
       "text": [
        " 26% |###############                                           | ETA:  0:00:03\r",
        " 27% |###############                                           | ETA:  0:00:03\r",
        " 28% |################                                          | ETA:  0:00:03\r",
        " 29% |################                                          | ETA:  0:00:02\r",
        " 30% |#################                                         | ETA:  0:00:02\r",
        " 31% |##################                                        | ETA:  0:00:02\r",
        " 32% |##################                                        | ETA:  0:00:02\r",
        " 33% |###################                                       | ETA:  0:00:02\r",
        " 34% |###################                                       | ETA:  0:00:02\r",
        " 35% |####################                                      | ETA:  0:00:02\r"
       ]
      },
      {
       "output_type": "stream",
       "stream": "stderr",
       "text": [
        " 36% |####################                                      | ETA:  0:00:02\r",
        " 37% |#####################                                     | ETA:  0:00:02\r",
        " 38% |######################                                    | ETA:  0:00:02\r",
        " 39% |######################                                    | ETA:  0:00:01\r",
        " 40% |#######################                                   | ETA:  0:00:01\r",
        " 41% |#######################                                   | ETA:  0:00:01\r",
        " 42% |########################                                  | ETA:  0:00:01\r",
        " 43% |########################                                  | ETA:  0:00:01\r",
        " 44% |#########################                                 | ETA:  0:00:01\r",
        " 45% |##########################                                | ETA:  0:00:01\r",
        " 46% |##########################                                | ETA:  0:00:01\r",
        " 47% |###########################                               | ETA:  0:00:01\r"
       ]
      },
      {
       "output_type": "stream",
       "stream": "stderr",
       "text": [
        " 48% |###########################                               | ETA:  0:00:01\r",
        " 49% |############################                              | ETA:  0:00:01\r",
        " 50% |#############################                             | ETA:  0:00:01\r",
        " 51% |#############################                             | ETA:  0:00:01\r",
        " 52% |##############################                            | ETA:  0:00:01\r",
        " 53% |##############################                            | ETA:  0:00:01\r",
        " 54% |###############################                           | ETA:  0:00:01\r",
        " 55% |###############################                           | ETA:  0:00:01\r",
        " 56% |################################                          | ETA:  0:00:01\r",
        " 57% |#################################                         | ETA:  0:00:00\r",
        " 58% |#################################                         | ETA:  0:00:00\r",
        " 59% |##################################                        | ETA:  0:00:00\r",
        " 60% |##################################                        | ETA:  0:00:00\r"
       ]
      },
      {
       "output_type": "stream",
       "stream": "stderr",
       "text": [
        " 61% |###################################                       | ETA:  0:00:00\r",
        " 62% |####################################                      | ETA:  0:00:00\r",
        " 63% |####################################                      | ETA:  0:00:00\r",
        " 64% |#####################################                     | ETA:  0:00:00\r",
        " 65% |#####################################                     | ETA:  0:00:00\r",
        " 66% |######################################                    | ETA:  0:00:00\r",
        " 67% |######################################                    | ETA:  0:00:00\r",
        " 68% |#######################################                   | ETA:  0:00:00\r",
        " 69% |########################################                  | ETA:  0:00:00\r",
        " 70% |########################################                  | ETA:  0:00:00\r",
        " 71% |#########################################                 | ETA:  0:00:00\r",
        " 72% |#########################################                 | ETA:  0:00:00\r",
        " 73% |##########################################                | ETA:  0:00:00\r",
        " 74% |###########################################               | ETA:  0:00:00\r"
       ]
      },
      {
       "output_type": "stream",
       "stream": "stderr",
       "text": [
        " 75% |###########################################               | ETA:  0:00:00\r",
        " 76% |############################################              | ETA:  0:00:00\r",
        " 77% |############################################              | ETA:  0:00:00\r",
        " 78% |#############################################             | ETA:  0:00:00\r",
        " 79% |#############################################             | ETA:  0:00:00\r",
        " 80% |##############################################            | ETA:  0:00:00\r",
        " 81% |###############################################           | ETA:  0:00:00\r",
        " 82% |###############################################           | ETA:  0:00:00\r",
        " 83% |################################################          | ETA:  0:00:00\r",
        " 84% |################################################          | ETA:  0:00:00\r",
        " 85% |#################################################         | ETA:  0:00:00\r",
        " 86% |##################################################        | ETA:  0:00:00\r",
        " 87% |##################################################        | ETA:  0:00:00\r",
        " 88% |###################################################       | ETA:  0:00:00\r",
        " 89% |###################################################       | ETA:  0:00:00\r"
       ]
      },
      {
       "output_type": "stream",
       "stream": "stdout",
       "text": [
        "\n",
        "Average spline error: 1.98292172676e-16\n",
        "density_profiles::_dump_cache() dumping cache.\n",
        "./data/atm_cache.ppd\n",
        "MCEqRun::_calculate_integration_path():\n",
        "MCEqRun::_forward_euler(): Solver will perform 50471 integration steps."
       ]
      },
      {
       "output_type": "stream",
       "stream": "stderr",
       "text": [
        " 90% |####################################################      | ETA:  0:00:00\r",
        " 91% |####################################################      | ETA:  0:00:00\r",
        " 92% |#####################################################     | ETA:  0:00:00\r",
        " 93% |######################################################    | ETA:  0:00:00\r",
        " 94% |######################################################    | ETA:  0:00:00\r",
        " 95% |#######################################################   | ETA:  0:00:00\r",
        " 96% |#######################################################   | ETA:  0:00:00\r",
        " 97% |########################################################  | ETA:  0:00:00\r",
        " 98% |######################################################### | ETA:  0:00:00\r",
        " 99% |######################################################### | ETA:  0:00:00\r",
        "100% |##########################################################| Time: 0:00:01\r\n",
        "  0% |                                                         | ETA:  --:--:--\r",
        "  1% |                                                          | ETA:  0:01:02\r"
       ]
      },
      {
       "output_type": "stream",
       "stream": "stderr",
       "text": [
        "  2% |#                                                         | ETA:  0:01:02\r",
        "  3% |#                                                         | ETA:  0:01:04\r"
       ]
      },
      {
       "output_type": "stream",
       "stream": "stderr",
       "text": [
        "  4% |##                                                        | ETA:  0:01:05\r",
        "  5% |##                                                        | ETA:  0:01:05\r"
       ]
      },
      {
       "output_type": "stream",
       "stream": "stderr",
       "text": [
        "  6% |###                                                       | ETA:  0:01:04\r",
        "  7% |####                                                      | ETA:  0:01:03\r"
       ]
      },
      {
       "output_type": "stream",
       "stream": "stderr",
       "text": [
        "  8% |####                                                      | ETA:  0:01:03\r",
        "  9% |#####                                                     | ETA:  0:01:02\r"
       ]
      },
      {
       "output_type": "stream",
       "stream": "stderr",
       "text": [
        " 10% |#####                                                     | ETA:  0:01:01\r",
        " 11% |######                                                    | ETA:  0:01:00\r"
       ]
      },
      {
       "output_type": "stream",
       "stream": "stderr",
       "text": [
        " 12% |######                                                    | ETA:  0:00:59\r",
        " 13% |#######                                                   | ETA:  0:00:58\r"
       ]
      },
      {
       "output_type": "stream",
       "stream": "stderr",
       "text": [
        " 14% |########                                                  | ETA:  0:00:57\r",
        " 15% |########                                                  | ETA:  0:00:56\r"
       ]
      },
      {
       "output_type": "stream",
       "stream": "stderr",
       "text": [
        " 16% |#########                                                 | ETA:  0:00:55\r",
        " 17% |#########                                                 | ETA:  0:00:54\r"
       ]
      },
      {
       "output_type": "stream",
       "stream": "stderr",
       "text": [
        " 18% |##########                                                | ETA:  0:00:54\r",
        " 19% |###########                                               | ETA:  0:00:53\r"
       ]
      },
      {
       "output_type": "stream",
       "stream": "stderr",
       "text": [
        " 20% |###########                                               | ETA:  0:00:52\r",
        " 21% |############                                              | ETA:  0:00:51\r"
       ]
      },
      {
       "output_type": "stream",
       "stream": "stderr",
       "text": [
        " 22% |############                                              | ETA:  0:00:50\r",
        " 23% |#############                                             | ETA:  0:00:50\r"
       ]
      },
      {
       "output_type": "stream",
       "stream": "stderr",
       "text": [
        " 24% |#############                                             | ETA:  0:00:49\r",
        " 25% |##############                                            | ETA:  0:00:48\r"
       ]
      },
      {
       "output_type": "stream",
       "stream": "stderr",
       "text": [
        " 26% |###############                                           | ETA:  0:00:48\r",
        " 27% |###############                                           | ETA:  0:00:47\r"
       ]
      },
      {
       "output_type": "stream",
       "stream": "stderr",
       "text": [
        " 28% |################                                          | ETA:  0:00:47\r",
        " 29% |################                                          | ETA:  0:00:46\r"
       ]
      },
      {
       "output_type": "stream",
       "stream": "stderr",
       "text": [
        " 30% |#################                                         | ETA:  0:00:46\r",
        " 31% |#################                                         | ETA:  0:00:45\r"
       ]
      },
      {
       "output_type": "stream",
       "stream": "stderr",
       "text": [
        " 32% |##################                                        | ETA:  0:00:44\r",
        " 33% |###################                                       | ETA:  0:00:44\r"
       ]
      },
      {
       "output_type": "stream",
       "stream": "stderr",
       "text": [
        " 34% |###################                                       | ETA:  0:00:43\r",
        " 35% |####################                                      | ETA:  0:00:42\r"
       ]
      },
      {
       "output_type": "stream",
       "stream": "stderr",
       "text": [
        " 36% |####################                                      | ETA:  0:00:42\r",
        " 37% |#####################                                     | ETA:  0:00:41\r"
       ]
      },
      {
       "output_type": "stream",
       "stream": "stderr",
       "text": [
        " 38% |######################                                    | ETA:  0:00:41\r",
        " 39% |######################                                    | ETA:  0:00:40\r"
       ]
      },
      {
       "output_type": "stream",
       "stream": "stderr",
       "text": [
        " 40% |#######################                                   | ETA:  0:00:39\r",
        " 41% |#######################                                   | ETA:  0:00:39\r"
       ]
      },
      {
       "output_type": "stream",
       "stream": "stderr",
       "text": [
        " 42% |########################                                  | ETA:  0:00:38\r",
        " 43% |########################                                  | ETA:  0:00:38\r"
       ]
      },
      {
       "output_type": "stream",
       "stream": "stderr",
       "text": [
        " 44% |#########################                                 | ETA:  0:00:37\r",
        " 45% |##########################                                | ETA:  0:00:36\r"
       ]
      },
      {
       "output_type": "stream",
       "stream": "stderr",
       "text": [
        " 46% |##########################                                | ETA:  0:00:35\r",
        " 47% |###########################                               | ETA:  0:00:35\r"
       ]
      },
      {
       "output_type": "stream",
       "stream": "stderr",
       "text": [
        " 48% |###########################                               | ETA:  0:00:34\r",
        " 49% |############################                              | ETA:  0:00:33\r"
       ]
      },
      {
       "output_type": "stream",
       "stream": "stderr",
       "text": [
        " 50% |#############################                             | ETA:  0:00:33\r",
        " 51% |#############################                             | ETA:  0:00:32\r"
       ]
      },
      {
       "output_type": "stream",
       "stream": "stderr",
       "text": [
        " 52% |##############################                            | ETA:  0:00:32\r",
        " 53% |##############################                            | ETA:  0:00:31\r"
       ]
      },
      {
       "output_type": "stream",
       "stream": "stderr",
       "text": [
        " 54% |###############################                           | ETA:  0:00:30\r",
        " 55% |###############################                           | ETA:  0:00:29\r"
       ]
      },
      {
       "output_type": "stream",
       "stream": "stderr",
       "text": [
        " 56% |################################                          | ETA:  0:00:29\r",
        " 57% |#################################                         | ETA:  0:00:28\r"
       ]
      },
      {
       "output_type": "stream",
       "stream": "stderr",
       "text": [
        " 58% |#################################                         | ETA:  0:00:27\r",
        " 59% |##################################                        | ETA:  0:00:27\r"
       ]
      },
      {
       "output_type": "stream",
       "stream": "stderr",
       "text": [
        " 60% |##################################                        | ETA:  0:00:26\r",
        " 61% |###################################                       | ETA:  0:00:25\r"
       ]
      },
      {
       "output_type": "stream",
       "stream": "stderr",
       "text": [
        " 62% |###################################                       | ETA:  0:00:25\r",
        " 63% |####################################                      | ETA:  0:00:24\r"
       ]
      },
      {
       "output_type": "stream",
       "stream": "stderr",
       "text": [
        " 64% |#####################################                     | ETA:  0:00:23\r",
        " 65% |#####################################                     | ETA:  0:00:23\r"
       ]
      },
      {
       "output_type": "stream",
       "stream": "stderr",
       "text": [
        " 66% |######################################                    | ETA:  0:00:22\r",
        " 67% |######################################                    | ETA:  0:00:21\r"
       ]
      },
      {
       "output_type": "stream",
       "stream": "stderr",
       "text": [
        " 68% |#######################################                   | ETA:  0:00:21\r",
        " 69% |########################################                  | ETA:  0:00:20\r"
       ]
      },
      {
       "output_type": "stream",
       "stream": "stderr",
       "text": [
        " 70% |########################################                  | ETA:  0:00:19\r",
        " 71% |#########################################                 | ETA:  0:00:19\r"
       ]
      },
      {
       "output_type": "stream",
       "stream": "stderr",
       "text": [
        " 72% |#########################################                 | ETA:  0:00:18\r",
        " 73% |##########################################                | ETA:  0:00:17\r"
       ]
      },
      {
       "output_type": "stream",
       "stream": "stderr",
       "text": [
        " 74% |##########################################                | ETA:  0:00:17\r",
        " 75% |###########################################               | ETA:  0:00:16\r"
       ]
      },
      {
       "output_type": "stream",
       "stream": "stderr",
       "text": [
        " 76% |############################################              | ETA:  0:00:15\r",
        " 77% |############################################              | ETA:  0:00:15\r"
       ]
      },
      {
       "output_type": "stream",
       "stream": "stderr",
       "text": [
        " 78% |#############################################             | ETA:  0:00:14\r",
        " 79% |#############################################             | ETA:  0:00:13\r"
       ]
      },
      {
       "output_type": "stream",
       "stream": "stderr",
       "text": [
        " 80% |##############################################            | ETA:  0:00:13\r",
        " 81% |###############################################           | ETA:  0:00:12\r"
       ]
      },
      {
       "output_type": "stream",
       "stream": "stderr",
       "text": [
        " 82% |###############################################           | ETA:  0:00:11\r",
        " 83% |################################################          | ETA:  0:00:11\r"
       ]
      },
      {
       "output_type": "stream",
       "stream": "stderr",
       "text": [
        " 84% |################################################          | ETA:  0:00:10\r",
        " 85% |#################################################         | ETA:  0:00:09\r"
       ]
      },
      {
       "output_type": "stream",
       "stream": "stderr",
       "text": [
        " 86% |#################################################         | ETA:  0:00:09\r",
        " 87% |##################################################        | ETA:  0:00:08\r"
       ]
      },
      {
       "output_type": "stream",
       "stream": "stderr",
       "text": [
        " 88% |###################################################       | ETA:  0:00:07\r",
        " 89% |###################################################       | ETA:  0:00:07\r"
       ]
      },
      {
       "output_type": "stream",
       "stream": "stderr",
       "text": [
        " 90% |####################################################      | ETA:  0:00:06\r",
        " 91% |####################################################      | ETA:  0:00:05\r"
       ]
      },
      {
       "output_type": "stream",
       "stream": "stderr",
       "text": [
        " 92% |#####################################################     | ETA:  0:00:05\r",
        " 93% |#####################################################     | ETA:  0:00:04\r"
       ]
      },
      {
       "output_type": "stream",
       "stream": "stderr",
       "text": [
        " 94% |######################################################    | ETA:  0:00:03\r",
        " 95% |#######################################################   | ETA:  0:00:03\r"
       ]
      },
      {
       "output_type": "stream",
       "stream": "stderr",
       "text": [
        " 96% |#######################################################   | ETA:  0:00:02\r",
        " 96% |########################################################  | ETA:  0:00:02\r"
       ]
      },
      {
       "output_type": "stream",
       "stream": "stderr",
       "text": [
        " 97% |########################################################  | ETA:  0:00:01\r",
        " 97% |########################################################  | ETA:  0:00:01\r"
       ]
      },
      {
       "output_type": "stream",
       "stream": "stderr",
       "text": [
        " 98% |######################################################### | ETA:  0:00:01\r",
        " 98% |######################################################### | ETA:  0:00:00\r"
       ]
      },
      {
       "output_type": "stream",
       "stream": "stderr",
       "text": [
        " 99% |######################################################### | ETA:  0:00:00\r",
        " 99% |######################################################### | ETA:  0:00:00\r"
       ]
      },
      {
       "output_type": "stream",
       "stream": "stdout",
       "text": [
        "\n",
        "\n",
        "MCEqRun::_forward_euler(): time elapsed during integration: 71.5291340351 sec"
       ]
      },
      {
       "output_type": "stream",
       "stream": "stdout",
       "text": [
        "\n",
        "MCEqRun::set_atm_model():  CORSIKA PL_SouthPole August\n",
        "MCEqRun::set_theta_deg():  0.0\n",
        "atmospheres::_load_cache(): loading cache.\n",
        "CorsikaAtmosphere::calculate_density_spline(): Calculating spline of rho(X) for zenith 0.0 degrees.\n",
        ".. took 4.57s"
       ]
      },
      {
       "output_type": "stream",
       "stream": "stderr",
       "text": [
        "100% |##########################################################| Time: 0:01:11\r\n",
        "  0% |                                                         | ETA:  --:--:--\r"
       ]
      },
      {
       "output_type": "stream",
       "stream": "stdout",
       "text": [
        "\n",
        "Average spline error: 1.95569496475e-16\n",
        "density_profiles::_dump_cache() dumping cache.\n",
        "./data/atm_cache.ppd\n",
        "MCEqRun::_calculate_integration_path():\n",
        "MCEqRun::_forward_euler(): Solver will perform 4731 integration steps."
       ]
      },
      {
       "output_type": "stream",
       "stream": "stderr",
       "text": [
        "  1% |                                                          | ETA:  0:00:10\r",
        "  2% |#                                                         | ETA:  0:00:05\r",
        "  3% |#                                                         | ETA:  0:00:03\r",
        "  4% |##                                                        | ETA:  0:00:02\r",
        "  5% |##                                                        | ETA:  0:00:02\r",
        "  6% |###                                                       | ETA:  0:00:01\r",
        "  7% |####                                                      | ETA:  0:00:01\r",
        "  8% |####                                                      | ETA:  0:00:01\r",
        "  9% |#####                                                     | ETA:  0:00:01\r",
        " 10% |#####                                                     | ETA:  0:00:01\r",
        " 11% |######                                                    | ETA:  0:00:00\r",
        " 12% |#######                                                   | ETA:  0:00:00\r",
        " 13% |#######                                                   | ETA:  0:00:00\r",
        " 14% |########                                                  | ETA:  0:00:00\r",
        " 15% |########                                                  | ETA:  0:00:00\r",
        " 16% |#########                                                 | ETA:  0:00:00\r",
        " 17% |##########                                                | ETA:  0:00:00\r",
        " 18% |##########                                                | ETA:  0:00:00\r",
        " 19% |###########                                               | ETA:  0:00:00\r",
        " 20% |###########                                               | ETA:  0:00:00\r",
        " 21% |############                                              | ETA:  0:00:00\r",
        " 22% |#############                                             | ETA:  0:00:00\r",
        " 23% |#############                                             | ETA:  0:00:00\r",
        " 24% |##############                                            | ETA:  0:00:00\r",
        " 25% |##############                                            | ETA:  0:00:00\r",
        " 26% |###############                                           | ETA:  0:00:00\r",
        " 27% |################                                          | ETA:  0:00:00\r",
        " 28% |################                                          | ETA:  0:00:00\r",
        " 29% |#################                                         | ETA:  0:00:00\r",
        " 30% |#################                                         | ETA:  0:00:00\r",
        " 31% |##################                                        | ETA:  0:00:00\r",
        " 33% |###################                                       | ETA:  0:00:00\r",
        " 34% |###################                                       | ETA:  0:00:00\r",
        " 35% |####################                                      | ETA:  0:00:00\r",
        " 36% |####################                                      | ETA:  0:00:00\r",
        " 37% |#####################                                     | ETA:  0:00:00\r",
        " 38% |######################                                    | ETA:  0:00:00\r",
        " 39% |######################                                    | ETA:  0:00:00\r",
        " 40% |#######################                                   | ETA:  0:00:00\r",
        " 41% |########################                                  | ETA:  0:00:00\r",
        " 42% |########################                                  | ETA:  0:00:00\r",
        " 43% |#########################                                 | ETA:  0:00:00\r",
        " 44% |#########################                                 | ETA:  0:00:00\r",
        " 45% |##########################                                | ETA:  0:00:00\r",
        " 47% |###########################                               | ETA:  0:00:00\r",
        " 48% |###########################                               | ETA:  0:00:00\r",
        " 49% |############################                              | ETA:  0:00:00\r",
        " 50% |#############################                             | ETA:  0:00:00\r",
        " 51% |#############################                             | ETA:  0:00:00\r",
        " 52% |##############################                            | ETA:  0:00:00\r",
        " 53% |###############################                           | ETA:  0:00:00\r",
        " 54% |###############################                           | ETA:  0:00:00\r",
        " 55% |################################                          | ETA:  0:00:00\r",
        " 56% |#################################                         | ETA:  0:00:00\r",
        " 58% |#################################                         | ETA:  0:00:00\r",
        " 59% |##################################                        | ETA:  0:00:00\r",
        " 60% |##################################                        | ETA:  0:00:00\r",
        " 61% |###################################                       | ETA:  0:00:00\r",
        " 62% |####################################                      | ETA:  0:00:00\r",
        " 63% |####################################                      | ETA:  0:00:00\r",
        " 64% |#####################################                     | ETA:  0:00:00\r",
        " 65% |######################################                    | ETA:  0:00:00\r",
        " 66% |######################################                    | ETA:  0:00:00\r",
        " 67% |#######################################                   | ETA:  0:00:00\r",
        " 68% |########################################                  | ETA:  0:00:00\r",
        " 70% |########################################                  | ETA:  0:00:00\r",
        " 71% |#########################################                 | ETA:  0:00:00\r",
        " 72% |##########################################                | ETA:  0:00:00\r",
        " 73% |##########################################                | ETA:  0:00:00\r",
        " 74% |###########################################               | ETA:  0:00:00\r",
        " 75% |###########################################               | ETA:  0:00:00\r",
        " 76% |############################################              | ETA:  0:00:00\r",
        " 77% |#############################################             | ETA:  0:00:00\r",
        " 78% |#############################################             | ETA:  0:00:00\r",
        " 79% |##############################################            | ETA:  0:00:00\r",
        " 81% |###############################################           | ETA:  0:00:00\r",
        " 82% |###############################################           | ETA:  0:00:00\r",
        " 83% |################################################          | ETA:  0:00:00\r",
        " 84% |################################################          | ETA:  0:00:00\r",
        " 85% |#################################################         | ETA:  0:00:00\r",
        " 86% |##################################################        | ETA:  0:00:00\r",
        " 87% |##################################################        | ETA:  0:00:00\r",
        " 89% |###################################################       | ETA:  0:00:00\r",
        " 90% |####################################################      | ETA:  0:00:00\r",
        " 91% |#####################################################     | ETA:  0:00:00\r",
        " 92% |#####################################################     | ETA:  0:00:00\r",
        " 93% |######################################################    | ETA:  0:00:00\r",
        " 95% |#######################################################   | ETA:  0:00:00\r",
        " 96% |#######################################################   | ETA:  0:00:00\r",
        " 97% |########################################################  | ETA:  0:00:00\r",
        " 98% |######################################################### | ETA:  0:00:00\r",
        "100% |##########################################################| Time: 0:00:00\r\n",
        "  0% |                                                         | ETA:  --:--:--\r",
        "  1% |                                                          | ETA:  0:00:06\r"
       ]
      },
      {
       "output_type": "stream",
       "stream": "stderr",
       "text": [
        "  2% |#                                                         | ETA:  0:00:06\r",
        "  3% |#                                                         | ETA:  0:00:06\r"
       ]
      },
      {
       "output_type": "stream",
       "stream": "stderr",
       "text": [
        "  4% |##                                                        | ETA:  0:00:06\r",
        "  5% |##                                                        | ETA:  0:00:06\r"
       ]
      },
      {
       "output_type": "stream",
       "stream": "stderr",
       "text": [
        "  6% |###                                                       | ETA:  0:00:06\r",
        "  7% |####                                                      | ETA:  0:00:06\r"
       ]
      },
      {
       "output_type": "stream",
       "stream": "stderr",
       "text": [
        "  8% |####                                                      | ETA:  0:00:05\r",
        "  9% |#####                                                     | ETA:  0:00:05\r"
       ]
      },
      {
       "output_type": "stream",
       "stream": "stderr",
       "text": [
        " 10% |#####                                                     | ETA:  0:00:05\r",
        " 11% |######                                                    | ETA:  0:00:05\r"
       ]
      },
      {
       "output_type": "stream",
       "stream": "stderr",
       "text": [
        " 12% |#######                                                   | ETA:  0:00:05\r",
        " 13% |#######                                                   | ETA:  0:00:05\r"
       ]
      },
      {
       "output_type": "stream",
       "stream": "stderr",
       "text": [
        " 14% |########                                                  | ETA:  0:00:05\r",
        " 15% |########                                                  | ETA:  0:00:05\r"
       ]
      },
      {
       "output_type": "stream",
       "stream": "stderr",
       "text": [
        " 16% |#########                                                 | ETA:  0:00:05\r",
        " 17% |##########                                                | ETA:  0:00:05\r"
       ]
      },
      {
       "output_type": "stream",
       "stream": "stderr",
       "text": [
        " 18% |##########                                                | ETA:  0:00:05\r",
        " 19% |###########                                               | ETA:  0:00:05\r"
       ]
      },
      {
       "output_type": "stream",
       "stream": "stderr",
       "text": [
        " 20% |###########                                               | ETA:  0:00:05\r",
        " 21% |############                                              | ETA:  0:00:05\r"
       ]
      },
      {
       "output_type": "stream",
       "stream": "stderr",
       "text": [
        " 22% |############                                              | ETA:  0:00:05\r",
        " 23% |#############                                             | ETA:  0:00:04\r"
       ]
      },
      {
       "output_type": "stream",
       "stream": "stderr",
       "text": [
        " 24% |##############                                            | ETA:  0:00:04\r",
        " 25% |##############                                            | ETA:  0:00:04\r"
       ]
      },
      {
       "output_type": "stream",
       "stream": "stderr",
       "text": [
        " 26% |###############                                           | ETA:  0:00:04\r",
        " 27% |###############                                           | ETA:  0:00:04\r"
       ]
      },
      {
       "output_type": "stream",
       "stream": "stderr",
       "text": [
        " 28% |################                                          | ETA:  0:00:04\r",
        " 29% |#################                                         | ETA:  0:00:04\r"
       ]
      },
      {
       "output_type": "stream",
       "stream": "stderr",
       "text": [
        " 30% |#################                                         | ETA:  0:00:04\r",
        " 31% |##################                                        | ETA:  0:00:04\r"
       ]
      },
      {
       "output_type": "stream",
       "stream": "stderr",
       "text": [
        " 32% |##################                                        | ETA:  0:00:04\r",
        " 33% |###################                                       | ETA:  0:00:04\r"
       ]
      },
      {
       "output_type": "stream",
       "stream": "stderr",
       "text": [
        " 34% |####################                                      | ETA:  0:00:04\r",
        " 35% |####################                                      | ETA:  0:00:04\r"
       ]
      },
      {
       "output_type": "stream",
       "stream": "stderr",
       "text": [
        " 36% |#####################                                     | ETA:  0:00:03\r",
        " 37% |#####################                                     | ETA:  0:00:03\r"
       ]
      },
      {
       "output_type": "stream",
       "stream": "stderr",
       "text": [
        " 38% |######################                                    | ETA:  0:00:03\r",
        " 39% |######################                                    | ETA:  0:00:03\r"
       ]
      },
      {
       "output_type": "stream",
       "stream": "stderr",
       "text": [
        " 40% |#######################                                   | ETA:  0:00:03\r",
        " 41% |########################                                  | ETA:  0:00:03\r"
       ]
      },
      {
       "output_type": "stream",
       "stream": "stderr",
       "text": [
        " 42% |########################                                  | ETA:  0:00:03\r",
        " 43% |#########################                                 | ETA:  0:00:03\r"
       ]
      },
      {
       "output_type": "stream",
       "stream": "stderr",
       "text": [
        " 44% |#########################                                 | ETA:  0:00:03\r",
        " 45% |##########################                                | ETA:  0:00:03\r"
       ]
      },
      {
       "output_type": "stream",
       "stream": "stderr",
       "text": [
        " 46% |###########################                               | ETA:  0:00:03\r",
        " 47% |###########################                               | ETA:  0:00:03\r"
       ]
      },
      {
       "output_type": "stream",
       "stream": "stderr",
       "text": [
        " 48% |############################                              | ETA:  0:00:03\r",
        " 49% |############################                              | ETA:  0:00:03\r"
       ]
      },
      {
       "output_type": "stream",
       "stream": "stderr",
       "text": [
        " 50% |#############################                             | ETA:  0:00:03\r",
        " 51% |##############################                            | ETA:  0:00:03\r"
       ]
      },
      {
       "output_type": "stream",
       "stream": "stderr",
       "text": [
        " 52% |##############################                            | ETA:  0:00:03\r",
        " 53% |###############################                           | ETA:  0:00:02\r"
       ]
      },
      {
       "output_type": "stream",
       "stream": "stderr",
       "text": [
        " 54% |###############################                           | ETA:  0:00:02\r",
        " 55% |################################                          | ETA:  0:00:02\r"
       ]
      },
      {
       "output_type": "stream",
       "stream": "stderr",
       "text": [
        " 56% |################################                          | ETA:  0:00:02\r",
        " 57% |#################################                         | ETA:  0:00:02\r"
       ]
      },
      {
       "output_type": "stream",
       "stream": "stderr",
       "text": [
        " 58% |##################################                        | ETA:  0:00:02\r",
        " 59% |##################################                        | ETA:  0:00:02\r"
       ]
      },
      {
       "output_type": "stream",
       "stream": "stderr",
       "text": [
        " 60% |###################################                       | ETA:  0:00:02\r",
        " 61% |###################################                       | ETA:  0:00:02\r"
       ]
      },
      {
       "output_type": "stream",
       "stream": "stderr",
       "text": [
        " 62% |####################################                      | ETA:  0:00:02\r",
        " 63% |#####################################                     | ETA:  0:00:02\r"
       ]
      },
      {
       "output_type": "stream",
       "stream": "stderr",
       "text": [
        " 64% |#####################################                     | ETA:  0:00:02\r",
        " 65% |######################################                    | ETA:  0:00:02\r"
       ]
      },
      {
       "output_type": "stream",
       "stream": "stderr",
       "text": [
        " 66% |######################################                    | ETA:  0:00:02\r",
        " 67% |#######################################                   | ETA:  0:00:02\r"
       ]
      },
      {
       "output_type": "stream",
       "stream": "stderr",
       "text": [
        " 68% |########################################                  | ETA:  0:00:01\r",
        " 70% |########################################                  | ETA:  0:00:01\r"
       ]
      },
      {
       "output_type": "stream",
       "stream": "stderr",
       "text": [
        " 71% |#########################################                 | ETA:  0:00:01\r",
        " 72% |#########################################                 | ETA:  0:00:01\r"
       ]
      },
      {
       "output_type": "stream",
       "stream": "stderr",
       "text": [
        " 73% |##########################################                | ETA:  0:00:01\r",
        " 74% |##########################################                | ETA:  0:00:01\r"
       ]
      },
      {
       "output_type": "stream",
       "stream": "stderr",
       "text": [
        " 75% |###########################################               | ETA:  0:00:01\r",
        " 76% |############################################              | ETA:  0:00:01\r"
       ]
      },
      {
       "output_type": "stream",
       "stream": "stderr",
       "text": [
        " 77% |############################################              | ETA:  0:00:01\r",
        " 78% |#############################################             | ETA:  0:00:01\r"
       ]
      },
      {
       "output_type": "stream",
       "stream": "stderr",
       "text": [
        " 79% |#############################################             | ETA:  0:00:01\r",
        " 80% |##############################################            | ETA:  0:00:01\r"
       ]
      },
      {
       "output_type": "stream",
       "stream": "stderr",
       "text": [
        " 81% |###############################################           | ETA:  0:00:01\r",
        " 82% |###############################################           | ETA:  0:00:01\r"
       ]
      },
      {
       "output_type": "stream",
       "stream": "stderr",
       "text": [
        " 83% |################################################          | ETA:  0:00:01\r",
        " 84% |################################################          | ETA:  0:00:01\r"
       ]
      },
      {
       "output_type": "stream",
       "stream": "stderr",
       "text": [
        " 85% |#################################################         | ETA:  0:00:00\r",
        " 86% |##################################################        | ETA:  0:00:00\r"
       ]
      },
      {
       "output_type": "stream",
       "stream": "stderr",
       "text": [
        " 87% |##################################################        | ETA:  0:00:00\r",
        " 88% |###################################################       | ETA:  0:00:00\r"
       ]
      },
      {
       "output_type": "stream",
       "stream": "stderr",
       "text": [
        " 89% |###################################################       | ETA:  0:00:00\r",
        " 90% |####################################################      | ETA:  0:00:00\r"
       ]
      },
      {
       "output_type": "stream",
       "stream": "stderr",
       "text": [
        " 91% |####################################################      | ETA:  0:00:00\r",
        " 92% |#####################################################     | ETA:  0:00:00\r"
       ]
      },
      {
       "output_type": "stream",
       "stream": "stderr",
       "text": [
        " 93% |######################################################    | ETA:  0:00:00\r",
        " 94% |######################################################    | ETA:  0:00:00\r"
       ]
      },
      {
       "output_type": "stream",
       "stream": "stderr",
       "text": [
        " 95% |#######################################################   | ETA:  0:00:00\r",
        " 96% |#######################################################   | ETA:  0:00:00\r"
       ]
      },
      {
       "output_type": "stream",
       "stream": "stderr",
       "text": [
        " 97% |########################################################  | ETA:  0:00:00\r",
        " 98% |######################################################### | ETA:  0:00:00\r"
       ]
      },
      {
       "output_type": "stream",
       "stream": "stdout",
       "text": [
        "\n",
        "\n",
        "MCEqRun::_forward_euler(): time elapsed during integration: 6.41403985023 sec"
       ]
      },
      {
       "output_type": "stream",
       "stream": "stdout",
       "text": [
        "\n",
        "MCEqRun::set_theta_deg():  90.0\n",
        "atmospheres::_load_cache(): loading cache.\n",
        "CorsikaAtmosphere::calculate_density_spline(): Calculating spline of rho(X) for zenith 90.0 degrees.\n",
        ".. took 4.55s"
       ]
      },
      {
       "output_type": "stream",
       "stream": "stderr",
       "text": [
        " 99% |######################################################### | ETA:  0:00:00\r",
        "100% |##########################################################| Time: 0:00:06\r\n",
        "  0% |                                                         | ETA:  --:--:--\r"
       ]
      },
      {
       "output_type": "stream",
       "stream": "stderr",
       "text": [
        "  1% |                                                          | ETA:  0:01:21\r",
        "  2% |#                                                         | ETA:  0:00:43\r"
       ]
      },
      {
       "output_type": "stream",
       "stream": "stderr",
       "text": [
        "  3% |#                                                         | ETA:  0:00:29\r",
        "  4% |##                                                        | ETA:  0:00:22\r",
        "  5% |##                                                        | ETA:  0:00:18\r"
       ]
      },
      {
       "output_type": "stream",
       "stream": "stderr",
       "text": [
        "  6% |###                                                       | ETA:  0:00:15\r",
        "  7% |####                                                      | ETA:  0:00:13\r",
        "  8% |####                                                      | ETA:  0:00:11\r",
        "  9% |#####                                                     | ETA:  0:00:10\r",
        " 10% |#####                                                     | ETA:  0:00:09\r"
       ]
      },
      {
       "output_type": "stream",
       "stream": "stderr",
       "text": [
        " 11% |######                                                    | ETA:  0:00:08\r",
        " 12% |######                                                    | ETA:  0:00:07\r",
        " 13% |#######                                                   | ETA:  0:00:07\r",
        " 14% |########                                                  | ETA:  0:00:06\r",
        " 15% |########                                                  | ETA:  0:00:06\r",
        " 16% |#########                                                 | ETA:  0:00:05\r"
       ]
      },
      {
       "output_type": "stream",
       "stream": "stderr",
       "text": [
        " 17% |#########                                                 | ETA:  0:00:05\r",
        " 18% |##########                                                | ETA:  0:00:05\r",
        " 19% |###########                                               | ETA:  0:00:04\r",
        " 20% |###########                                               | ETA:  0:00:04\r",
        " 21% |############                                              | ETA:  0:00:04\r",
        " 22% |############                                              | ETA:  0:00:04\r",
        " 23% |#############                                             | ETA:  0:00:03\r",
        " 24% |#############                                             | ETA:  0:00:03\r"
       ]
      },
      {
       "output_type": "stream",
       "stream": "stderr",
       "text": [
        " 25% |##############                                            | ETA:  0:00:03\r",
        " 26% |###############                                           | ETA:  0:00:03\r",
        " 27% |###############                                           | ETA:  0:00:03\r",
        " 28% |################                                          | ETA:  0:00:03\r",
        " 29% |################                                          | ETA:  0:00:02\r",
        " 30% |#################                                         | ETA:  0:00:02\r",
        " 31% |##################                                        | ETA:  0:00:02\r",
        " 32% |##################                                        | ETA:  0:00:02\r",
        " 33% |###################                                       | ETA:  0:00:02\r",
        " 34% |###################                                       | ETA:  0:00:02\r"
       ]
      },
      {
       "output_type": "stream",
       "stream": "stderr",
       "text": [
        " 35% |####################                                      | ETA:  0:00:02\r",
        " 36% |####################                                      | ETA:  0:00:02\r",
        " 37% |#####################                                     | ETA:  0:00:02\r",
        " 38% |######################                                    | ETA:  0:00:02\r",
        " 39% |######################                                    | ETA:  0:00:01\r",
        " 40% |#######################                                   | ETA:  0:00:01\r",
        " 41% |#######################                                   | ETA:  0:00:01\r",
        " 42% |########################                                  | ETA:  0:00:01\r",
        " 43% |########################                                  | ETA:  0:00:01\r",
        " 44% |#########################                                 | ETA:  0:00:01\r",
        " 45% |##########################                                | ETA:  0:00:01\r",
        " 46% |##########################                                | ETA:  0:00:01\r"
       ]
      },
      {
       "output_type": "stream",
       "stream": "stderr",
       "text": [
        " 47% |###########################                               | ETA:  0:00:01\r",
        " 48% |###########################                               | ETA:  0:00:01\r",
        " 49% |############################                              | ETA:  0:00:01\r",
        " 50% |#############################                             | ETA:  0:00:01\r",
        " 51% |#############################                             | ETA:  0:00:01\r",
        " 52% |##############################                            | ETA:  0:00:01\r",
        " 53% |##############################                            | ETA:  0:00:01\r",
        " 54% |###############################                           | ETA:  0:00:01\r",
        " 55% |###############################                           | ETA:  0:00:01\r",
        " 56% |################################                          | ETA:  0:00:01\r",
        " 57% |#################################                         | ETA:  0:00:01\r",
        " 58% |#################################                         | ETA:  0:00:00\r",
        " 59% |##################################                        | ETA:  0:00:00\r"
       ]
      },
      {
       "output_type": "stream",
       "stream": "stderr",
       "text": [
        " 60% |##################################                        | ETA:  0:00:00\r",
        " 61% |###################################                       | ETA:  0:00:00\r",
        " 62% |####################################                      | ETA:  0:00:00\r",
        " 63% |####################################                      | ETA:  0:00:00\r",
        " 64% |#####################################                     | ETA:  0:00:00\r",
        " 65% |#####################################                     | ETA:  0:00:00\r",
        " 66% |######################################                    | ETA:  0:00:00\r",
        " 67% |######################################                    | ETA:  0:00:00\r",
        " 68% |#######################################                   | ETA:  0:00:00\r",
        " 69% |########################################                  | ETA:  0:00:00\r",
        " 70% |########################################                  | ETA:  0:00:00\r",
        " 71% |#########################################                 | ETA:  0:00:00\r",
        " 72% |#########################################                 | ETA:  0:00:00\r",
        " 73% |##########################################                | ETA:  0:00:00\r",
        " 74% |###########################################               | ETA:  0:00:00\r"
       ]
      },
      {
       "output_type": "stream",
       "stream": "stderr",
       "text": [
        " 75% |###########################################               | ETA:  0:00:00\r",
        " 76% |############################################              | ETA:  0:00:00\r",
        " 77% |############################################              | ETA:  0:00:00\r",
        " 78% |#############################################             | ETA:  0:00:00\r",
        " 79% |#############################################             | ETA:  0:00:00\r",
        " 80% |##############################################            | ETA:  0:00:00\r",
        " 81% |###############################################           | ETA:  0:00:00\r",
        " 82% |###############################################           | ETA:  0:00:00\r",
        " 83% |################################################          | ETA:  0:00:00\r",
        " 84% |################################################          | ETA:  0:00:00\r",
        " 85% |#################################################         | ETA:  0:00:00\r",
        " 86% |##################################################        | ETA:  0:00:00\r",
        " 87% |##################################################        | ETA:  0:00:00\r",
        " 88% |###################################################       | ETA:  0:00:00\r",
        " 89% |###################################################       | ETA:  0:00:00\r"
       ]
      },
      {
       "output_type": "stream",
       "stream": "stdout",
       "text": [
        "\n",
        "Average spline error: 1.98043374369e-16\n",
        "density_profiles::_dump_cache() dumping cache.\n",
        "./data/atm_cache.ppd\n",
        "MCEqRun::_calculate_integration_path():\n",
        "MCEqRun::_forward_euler(): Solver will perform 50470 integration steps."
       ]
      },
      {
       "output_type": "stream",
       "stream": "stderr",
       "text": [
        " 90% |####################################################      | ETA:  0:00:00\r",
        " 91% |####################################################      | ETA:  0:00:00\r",
        " 92% |#####################################################     | ETA:  0:00:00\r",
        " 93% |######################################################    | ETA:  0:00:00\r",
        " 94% |######################################################    | ETA:  0:00:00\r",
        " 95% |#######################################################   | ETA:  0:00:00\r",
        " 96% |#######################################################   | ETA:  0:00:00\r",
        " 97% |########################################################  | ETA:  0:00:00\r",
        " 98% |######################################################### | ETA:  0:00:00\r",
        " 99% |######################################################### | ETA:  0:00:00\r",
        "100% |##########################################################| Time: 0:00:01\r\n",
        "  0% |                                                         | ETA:  --:--:--\r",
        "  1% |                                                          | ETA:  0:01:08\r"
       ]
      },
      {
       "output_type": "stream",
       "stream": "stderr",
       "text": [
        "  2% |#                                                         | ETA:  0:01:08\r",
        "  3% |#                                                         | ETA:  0:01:06\r"
       ]
      },
      {
       "output_type": "stream",
       "stream": "stderr",
       "text": [
        "  4% |##                                                        | ETA:  0:01:05\r",
        "  5% |##                                                        | ETA:  0:01:04\r"
       ]
      },
      {
       "output_type": "stream",
       "stream": "stderr",
       "text": [
        "  6% |###                                                       | ETA:  0:01:04\r",
        "  7% |####                                                      | ETA:  0:01:03\r"
       ]
      },
      {
       "output_type": "stream",
       "stream": "stderr",
       "text": [
        "  8% |####                                                      | ETA:  0:01:02\r",
        "  9% |#####                                                     | ETA:  0:01:01\r"
       ]
      },
      {
       "output_type": "stream",
       "stream": "stderr",
       "text": [
        " 10% |#####                                                     | ETA:  0:01:00\r",
        " 11% |######                                                    | ETA:  0:01:00\r"
       ]
      },
      {
       "output_type": "stream",
       "stream": "stderr",
       "text": [
        " 12% |######                                                    | ETA:  0:00:59\r",
        " 13% |#######                                                   | ETA:  0:00:59\r"
       ]
      },
      {
       "output_type": "stream",
       "stream": "stderr",
       "text": [
        " 14% |########                                                  | ETA:  0:00:58\r",
        " 15% |########                                                  | ETA:  0:00:57\r"
       ]
      },
      {
       "output_type": "stream",
       "stream": "stderr",
       "text": [
        " 16% |#########                                                 | ETA:  0:00:56\r",
        " 17% |#########                                                 | ETA:  0:00:55\r"
       ]
      },
      {
       "output_type": "stream",
       "stream": "stderr",
       "text": [
        " 18% |##########                                                | ETA:  0:00:54\r",
        " 19% |###########                                               | ETA:  0:00:53\r"
       ]
      },
      {
       "output_type": "stream",
       "stream": "stderr",
       "text": [
        " 20% |###########                                               | ETA:  0:00:53\r",
        " 21% |############                                              | ETA:  0:00:52\r"
       ]
      },
      {
       "output_type": "stream",
       "stream": "stderr",
       "text": [
        " 22% |############                                              | ETA:  0:00:51\r",
        " 23% |#############                                             | ETA:  0:00:50\r"
       ]
      },
      {
       "output_type": "stream",
       "stream": "stderr",
       "text": [
        " 24% |#############                                             | ETA:  0:00:50\r",
        " 25% |##############                                            | ETA:  0:00:49\r"
       ]
      },
      {
       "output_type": "stream",
       "stream": "stderr",
       "text": [
        " 26% |###############                                           | ETA:  0:00:48\r",
        " 27% |###############                                           | ETA:  0:00:47\r"
       ]
      },
      {
       "output_type": "stream",
       "stream": "stderr",
       "text": [
        " 28% |################                                          | ETA:  0:00:47\r",
        " 29% |################                                          | ETA:  0:00:46\r"
       ]
      },
      {
       "output_type": "stream",
       "stream": "stderr",
       "text": [
        " 30% |#################                                         | ETA:  0:00:45\r",
        " 31% |#################                                         | ETA:  0:00:45\r"
       ]
      },
      {
       "output_type": "stream",
       "stream": "stderr",
       "text": [
        " 32% |##################                                        | ETA:  0:00:44\r",
        " 33% |###################                                       | ETA:  0:00:43\r"
       ]
      },
      {
       "output_type": "stream",
       "stream": "stderr",
       "text": [
        " 34% |###################                                       | ETA:  0:00:43\r",
        " 35% |####################                                      | ETA:  0:00:42\r"
       ]
      },
      {
       "output_type": "stream",
       "stream": "stderr",
       "text": [
        " 36% |####################                                      | ETA:  0:00:41\r",
        " 37% |#####################                                     | ETA:  0:00:41\r"
       ]
      },
      {
       "output_type": "stream",
       "stream": "stderr",
       "text": [
        " 38% |######################                                    | ETA:  0:00:40\r",
        " 39% |######################                                    | ETA:  0:00:39\r"
       ]
      },
      {
       "output_type": "stream",
       "stream": "stderr",
       "text": [
        " 40% |#######################                                   | ETA:  0:00:39\r",
        " 41% |#######################                                   | ETA:  0:00:38\r"
       ]
      },
      {
       "output_type": "stream",
       "stream": "stderr",
       "text": [
        " 42% |########################                                  | ETA:  0:00:38\r",
        " 43% |########################                                  | ETA:  0:00:37\r"
       ]
      },
      {
       "output_type": "stream",
       "stream": "stderr",
       "text": [
        " 44% |#########################                                 | ETA:  0:00:36\r",
        " 45% |##########################                                | ETA:  0:00:36\r"
       ]
      },
      {
       "output_type": "stream",
       "stream": "stderr",
       "text": [
        " 46% |##########################                                | ETA:  0:00:35\r",
        " 47% |###########################                               | ETA:  0:00:34\r"
       ]
      },
      {
       "output_type": "stream",
       "stream": "stderr",
       "text": [
        " 48% |###########################                               | ETA:  0:00:34\r",
        " 49% |############################                              | ETA:  0:00:33\r"
       ]
      },
      {
       "output_type": "stream",
       "stream": "stderr",
       "text": [
        " 50% |#############################                             | ETA:  0:00:32\r",
        " 51% |#############################                             | ETA:  0:00:32\r"
       ]
      },
      {
       "output_type": "stream",
       "stream": "stderr",
       "text": [
        " 52% |##############################                            | ETA:  0:00:31\r",
        " 53% |##############################                            | ETA:  0:00:30\r"
       ]
      },
      {
       "output_type": "stream",
       "stream": "stderr",
       "text": [
        " 54% |###############################                           | ETA:  0:00:30\r",
        " 55% |###############################                           | ETA:  0:00:29\r"
       ]
      },
      {
       "output_type": "stream",
       "stream": "stderr",
       "text": [
        " 56% |################################                          | ETA:  0:00:28\r",
        " 57% |#################################                         | ETA:  0:00:28\r"
       ]
      },
      {
       "output_type": "stream",
       "stream": "stderr",
       "text": [
        " 58% |#################################                         | ETA:  0:00:27\r",
        " 59% |##################################                        | ETA:  0:00:26\r"
       ]
      },
      {
       "output_type": "stream",
       "stream": "stderr",
       "text": [
        " 60% |##################################                        | ETA:  0:00:26\r",
        " 61% |###################################                       | ETA:  0:00:25\r"
       ]
      },
      {
       "output_type": "stream",
       "stream": "stderr",
       "text": [
        " 62% |###################################                       | ETA:  0:00:24\r",
        " 63% |####################################                      | ETA:  0:00:24\r"
       ]
      },
      {
       "output_type": "stream",
       "stream": "stderr",
       "text": [
        " 64% |#####################################                     | ETA:  0:00:23\r",
        " 65% |#####################################                     | ETA:  0:00:22\r"
       ]
      },
      {
       "output_type": "stream",
       "stream": "stderr",
       "text": [
        " 66% |######################################                    | ETA:  0:00:22\r",
        " 67% |######################################                    | ETA:  0:00:21\r"
       ]
      },
      {
       "output_type": "stream",
       "stream": "stderr",
       "text": [
        " 68% |#######################################                   | ETA:  0:00:20\r",
        " 69% |########################################                  | ETA:  0:00:20\r"
       ]
      },
      {
       "output_type": "stream",
       "stream": "stderr",
       "text": [
        " 70% |########################################                  | ETA:  0:00:19\r",
        " 71% |#########################################                 | ETA:  0:00:18\r"
       ]
      },
      {
       "output_type": "stream",
       "stream": "stderr",
       "text": [
        " 72% |#########################################                 | ETA:  0:00:18\r",
        " 73% |##########################################                | ETA:  0:00:17\r"
       ]
      },
      {
       "output_type": "stream",
       "stream": "stderr",
       "text": [
        " 74% |##########################################                | ETA:  0:00:16\r",
        " 75% |###########################################               | ETA:  0:00:16\r"
       ]
      },
      {
       "output_type": "stream",
       "stream": "stderr",
       "text": [
        " 76% |############################################              | ETA:  0:00:15\r",
        " 77% |############################################              | ETA:  0:00:14\r"
       ]
      },
      {
       "output_type": "stream",
       "stream": "stderr",
       "text": [
        " 78% |#############################################             | ETA:  0:00:14\r",
        " 79% |#############################################             | ETA:  0:00:13\r"
       ]
      },
      {
       "output_type": "stream",
       "stream": "stderr",
       "text": [
        " 80% |##############################################            | ETA:  0:00:12\r",
        " 81% |###############################################           | ETA:  0:00:12\r"
       ]
      },
      {
       "output_type": "stream",
       "stream": "stderr",
       "text": [
        " 82% |###############################################           | ETA:  0:00:11\r",
        " 83% |################################################          | ETA:  0:00:11\r"
       ]
      },
      {
       "output_type": "stream",
       "stream": "stderr",
       "text": [
        " 84% |################################################          | ETA:  0:00:10\r",
        " 85% |#################################################         | ETA:  0:00:09\r"
       ]
      },
      {
       "output_type": "stream",
       "stream": "stderr",
       "text": [
        " 86% |#################################################         | ETA:  0:00:09\r",
        " 87% |##################################################        | ETA:  0:00:08\r"
       ]
      },
      {
       "output_type": "stream",
       "stream": "stderr",
       "text": [
        " 88% |###################################################       | ETA:  0:00:07\r",
        " 89% |###################################################       | ETA:  0:00:07\r"
       ]
      },
      {
       "output_type": "stream",
       "stream": "stderr",
       "text": [
        " 90% |####################################################      | ETA:  0:00:06\r",
        " 91% |####################################################      | ETA:  0:00:05\r"
       ]
      },
      {
       "output_type": "stream",
       "stream": "stderr",
       "text": [
        " 92% |#####################################################     | ETA:  0:00:05\r",
        " 93% |#####################################################     | ETA:  0:00:04\r"
       ]
      },
      {
       "output_type": "stream",
       "stream": "stderr",
       "text": [
        " 94% |######################################################    | ETA:  0:00:03\r",
        " 95% |#######################################################   | ETA:  0:00:03\r"
       ]
      },
      {
       "output_type": "stream",
       "stream": "stderr",
       "text": [
        " 95% |#######################################################   | ETA:  0:00:02\r",
        " 96% |########################################################  | ETA:  0:00:02\r"
       ]
      },
      {
       "output_type": "stream",
       "stream": "stderr",
       "text": [
        " 97% |########################################################  | ETA:  0:00:01\r",
        " 97% |########################################################  | ETA:  0:00:01\r"
       ]
      },
      {
       "output_type": "stream",
       "stream": "stderr",
       "text": [
        " 98% |########################################################  | ETA:  0:00:01\r",
        " 98% |######################################################### | ETA:  0:00:01\r"
       ]
      },
      {
       "output_type": "stream",
       "stream": "stderr",
       "text": [
        " 98% |######################################################### | ETA:  0:00:00\r",
        " 99% |######################################################### | ETA:  0:00:00\r"
       ]
      },
      {
       "output_type": "stream",
       "stream": "stderr",
       "text": [
        " 99% |######################################################### | ETA:  0:00:00\r",
        "100% |##########################################################| Time: 0:01:11\r"
       ]
      },
      {
       "output_type": "stream",
       "stream": "stdout",
       "text": [
        "\n",
        "\n",
        "MCEqRun::_forward_euler(): time elapsed during integration: 71.5120110512 sec"
       ]
      },
      {
       "output_type": "stream",
       "stream": "stdout",
       "text": [
        "\n",
        "MCEqRun::set_atm_model():  MSIS00 SouthPole January\n",
        "MCEqRun::set_theta_deg():  0.0\n",
        "atmospheres::_load_cache(): loading cache.\n",
        "MSIS00Atmosphere::calculate_density_spline(): Calculating spline of rho(X) for zenith 0.0 degrees.\n",
        ".. took 3.92s"
       ]
      },
      {
       "output_type": "stream",
       "stream": "stdout",
       "text": [
        "\n",
        "Average spline error: "
       ]
      },
      {
       "output_type": "stream",
       "stream": "stderr",
       "text": [
        "\n",
        "  0% |                                                         | ETA:  --:--:--\r"
       ]
      },
      {
       "output_type": "stream",
       "stream": "stderr",
       "text": [
        "  1% |                                                          | ETA:  0:00:09\r",
        "  2% |#                                                         | ETA:  0:00:05\r",
        "  3% |#                                                         | ETA:  0:00:03\r",
        "  4% |##                                                        | ETA:  0:00:02\r",
        "  5% |##                                                        | ETA:  0:00:02\r",
        "  6% |###                                                       | ETA:  0:00:01\r",
        "  7% |####                                                      | ETA:  0:00:01\r",
        "  8% |####                                                      | ETA:  0:00:01\r",
        "  9% |#####                                                     | ETA:  0:00:01\r",
        " 10% |#####                                                     | ETA:  0:00:01\r",
        " 11% |######                                                    | ETA:  0:00:00\r",
        " 12% |#######                                                   | ETA:  0:00:00\r",
        " 13% |#######                                                   | ETA:  0:00:00\r",
        " 14% |########                                                  | ETA:  0:00:00\r",
        " 15% |########                                                  | ETA:  0:00:00\r",
        " 16% |#########                                                 | ETA:  0:00:00\r",
        " 17% |#########                                                 | ETA:  0:00:00\r",
        " 18% |##########                                                | ETA:  0:00:00\r",
        " 19% |###########                                               | ETA:  0:00:00\r",
        " 20% |###########                                               | ETA:  0:00:00\r",
        " 21% |############                                              | ETA:  0:00:00\r",
        " 22% |############                                              | ETA:  0:00:00\r",
        " 23% |#############                                             | ETA:  0:00:00\r",
        " 24% |##############                                            | ETA:  0:00:00\r",
        " 25% |##############                                            | ETA:  0:00:00\r",
        " 26% |###############                                           | ETA:  0:00:00\r",
        " 27% |################                                          | ETA:  0:00:00\r",
        " 28% |################                                          | ETA:  0:00:00\r",
        " 29% |#################                                         | ETA:  0:00:00\r",
        " 30% |#################                                         | ETA:  0:00:00\r",
        " 31% |##################                                        | ETA:  0:00:00\r",
        " 32% |###################                                       | ETA:  0:00:00\r",
        " 33% |###################                                       | ETA:  0:00:00\r",
        " 35% |####################                                      | ETA:  0:00:00\r",
        " 36% |####################                                      | ETA:  0:00:00\r",
        " 37% |#####################                                     | ETA:  0:00:00\r",
        " 38% |######################                                    | ETA:  0:00:00\r",
        " 39% |######################                                    | ETA:  0:00:00\r",
        " 40% |#######################                                   | ETA:  0:00:00\r",
        " 41% |########################                                  | ETA:  0:00:00\r",
        " 42% |########################                                  | ETA:  0:00:00\r",
        " 43% |#########################                                 | ETA:  0:00:00\r",
        " 44% |#########################                                 | ETA:  0:00:00\r",
        " 45% |##########################                                | ETA:  0:00:00\r",
        " 46% |###########################                               | ETA:  0:00:00\r",
        " 48% |###########################                               | ETA:  0:00:00\r",
        " 49% |############################                              | ETA:  0:00:00\r",
        " 50% |#############################                             | ETA:  0:00:00\r",
        " 51% |#############################                             | ETA:  0:00:00\r",
        " 52% |##############################                            | ETA:  0:00:00\r",
        " 53% |##############################                            | ETA:  0:00:00\r",
        " 54% |###############################                           | ETA:  0:00:00\r",
        " 55% |################################                          | ETA:  0:00:00\r",
        " 56% |################################                          | ETA:  0:00:00\r",
        " 57% |#################################                         | ETA:  0:00:00\r",
        " 59% |##################################                        | ETA:  0:00:00\r",
        " 60% |##################################                        | ETA:  0:00:00\r",
        " 61% |###################################                       | ETA:  0:00:00\r",
        " 62% |####################################                      | ETA:  0:00:00\r",
        " 63% |####################################                      | ETA:  0:00:00\r",
        " 64% |#####################################                     | ETA:  0:00:00\r",
        " 65% |#####################################                     | ETA:  0:00:00\r",
        " 66% |######################################                    | ETA:  0:00:00\r",
        " 67% |#######################################                   | ETA:  0:00:00\r",
        " 68% |#######################################                   | ETA:  0:00:00\r",
        " 69% |########################################                  | ETA:  0:00:00\r",
        " 71% |#########################################                 | ETA:  0:00:00\r",
        " 72% |#########################################                 | ETA:  0:00:00\r",
        " 73% |##########################################                | ETA:  0:00:00\r",
        " 74% |###########################################               | ETA:  0:00:00\r",
        " 75% |###########################################               | ETA:  0:00:00\r",
        " 77% |############################################              | ETA:  0:00:00\r",
        " 78% |#############################################             | ETA:  0:00:00\r",
        " 79% |#############################################             | ETA:  0:00:00\r",
        " 80% |##############################################            | ETA:  0:00:00\r",
        " 81% |###############################################           | ETA:  0:00:00\r",
        " 82% |###############################################           | ETA:  0:00:00\r",
        " 83% |################################################          | ETA:  0:00:00\r",
        " 84% |#################################################         | ETA:  0:00:00\r",
        " 85% |#################################################         | ETA:  0:00:00\r",
        " 86% |##################################################        | ETA:  0:00:00\r",
        " 87% |##################################################        | ETA:  0:00:00\r",
        " 88% |###################################################       | ETA:  0:00:00\r"
       ]
      },
      {
       "output_type": "stream",
       "stream": "stdout",
       "text": [
        "2.01069941544e-16\n",
        "density_profiles::_dump_cache() dumping cache.\n",
        "./data/atm_cache.ppd\n",
        "MCEqRun::_calculate_integration_path():\n",
        "MCEqRun::_forward_euler(): Solver will perform 4730 integration steps."
       ]
      },
      {
       "output_type": "stream",
       "stream": "stderr",
       "text": [
        " 90% |####################################################      | ETA:  0:00:00\r",
        " 91% |####################################################      | ETA:  0:00:00\r",
        " 92% |#####################################################     | ETA:  0:00:00\r",
        " 93% |######################################################    | ETA:  0:00:00\r",
        " 94% |######################################################    | ETA:  0:00:00\r",
        " 95% |#######################################################   | ETA:  0:00:00\r",
        " 97% |########################################################  | ETA:  0:00:00\r",
        " 98% |######################################################### | ETA:  0:00:00\r",
        " 99% |######################################################### | ETA:  0:00:00\r",
        "100% |##########################################################| Time: 0:00:00\r\n",
        "  0% |                                                         | ETA:  --:--:--\r",
        "  1% |                                                          | ETA:  0:00:06\r"
       ]
      },
      {
       "output_type": "stream",
       "stream": "stderr",
       "text": [
        "  2% |#                                                         | ETA:  0:00:06\r",
        "  3% |#                                                         | ETA:  0:00:06\r"
       ]
      },
      {
       "output_type": "stream",
       "stream": "stderr",
       "text": [
        "  4% |##                                                        | ETA:  0:00:06\r",
        "  5% |##                                                        | ETA:  0:00:06\r"
       ]
      },
      {
       "output_type": "stream",
       "stream": "stderr",
       "text": [
        "  6% |###                                                       | ETA:  0:00:06\r",
        "  7% |####                                                      | ETA:  0:00:06\r"
       ]
      },
      {
       "output_type": "stream",
       "stream": "stderr",
       "text": [
        "  8% |####                                                      | ETA:  0:00:05\r",
        "  9% |#####                                                     | ETA:  0:00:06\r"
       ]
      },
      {
       "output_type": "stream",
       "stream": "stderr",
       "text": [
        " 10% |#####                                                     | ETA:  0:00:06\r",
        " 11% |######                                                    | ETA:  0:00:06\r"
       ]
      },
      {
       "output_type": "stream",
       "stream": "stderr",
       "text": [
        " 12% |#######                                                   | ETA:  0:00:06\r",
        " 13% |#######                                                   | ETA:  0:00:05\r"
       ]
      },
      {
       "output_type": "stream",
       "stream": "stderr",
       "text": [
        " 14% |########                                                  | ETA:  0:00:05\r",
        " 15% |########                                                  | ETA:  0:00:05\r"
       ]
      },
      {
       "output_type": "stream",
       "stream": "stderr",
       "text": [
        " 16% |#########                                                 | ETA:  0:00:05\r",
        " 17% |##########                                                | ETA:  0:00:05\r"
       ]
      },
      {
       "output_type": "stream",
       "stream": "stderr",
       "text": [
        " 18% |##########                                                | ETA:  0:00:05\r",
        " 19% |###########                                               | ETA:  0:00:05\r"
       ]
      },
      {
       "output_type": "stream",
       "stream": "stderr",
       "text": [
        " 20% |###########                                               | ETA:  0:00:05\r",
        " 21% |############                                              | ETA:  0:00:05\r"
       ]
      },
      {
       "output_type": "stream",
       "stream": "stderr",
       "text": [
        " 22% |############                                              | ETA:  0:00:05\r",
        " 23% |#############                                             | ETA:  0:00:05\r"
       ]
      },
      {
       "output_type": "stream",
       "stream": "stderr",
       "text": [
        " 24% |##############                                            | ETA:  0:00:05\r",
        " 25% |##############                                            | ETA:  0:00:04\r"
       ]
      },
      {
       "output_type": "stream",
       "stream": "stderr",
       "text": [
        " 26% |###############                                           | ETA:  0:00:04\r",
        " 27% |###############                                           | ETA:  0:00:04\r"
       ]
      },
      {
       "output_type": "stream",
       "stream": "stderr",
       "text": [
        " 28% |################                                          | ETA:  0:00:04\r",
        " 29% |#################                                         | ETA:  0:00:04\r"
       ]
      },
      {
       "output_type": "stream",
       "stream": "stderr",
       "text": [
        " 30% |#################                                         | ETA:  0:00:04\r",
        " 31% |##################                                        | ETA:  0:00:04\r"
       ]
      },
      {
       "output_type": "stream",
       "stream": "stderr",
       "text": [
        " 32% |##################                                        | ETA:  0:00:04\r",
        " 33% |###################                                       | ETA:  0:00:04\r"
       ]
      },
      {
       "output_type": "stream",
       "stream": "stderr",
       "text": [
        " 34% |####################                                      | ETA:  0:00:04\r",
        " 35% |####################                                      | ETA:  0:00:04\r"
       ]
      },
      {
       "output_type": "stream",
       "stream": "stderr",
       "text": [
        " 36% |#####################                                     | ETA:  0:00:04\r",
        " 37% |#####################                                     | ETA:  0:00:04\r"
       ]
      },
      {
       "output_type": "stream",
       "stream": "stderr",
       "text": [
        " 38% |######################                                    | ETA:  0:00:04\r",
        " 39% |######################                                    | ETA:  0:00:03\r"
       ]
      },
      {
       "output_type": "stream",
       "stream": "stderr",
       "text": [
        " 40% |#######################                                   | ETA:  0:00:03\r",
        " 41% |########################                                  | ETA:  0:00:03\r"
       ]
      },
      {
       "output_type": "stream",
       "stream": "stderr",
       "text": [
        " 42% |########################                                  | ETA:  0:00:03\r",
        " 43% |#########################                                 | ETA:  0:00:03\r"
       ]
      },
      {
       "output_type": "stream",
       "stream": "stderr",
       "text": [
        " 44% |#########################                                 | ETA:  0:00:03\r",
        " 45% |##########################                                | ETA:  0:00:03\r"
       ]
      },
      {
       "output_type": "stream",
       "stream": "stderr",
       "text": [
        " 46% |###########################                               | ETA:  0:00:03\r",
        " 47% |###########################                               | ETA:  0:00:03\r"
       ]
      },
      {
       "output_type": "stream",
       "stream": "stderr",
       "text": [
        " 48% |############################                              | ETA:  0:00:03\r",
        " 49% |############################                              | ETA:  0:00:03\r"
       ]
      },
      {
       "output_type": "stream",
       "stream": "stderr",
       "text": [
        " 50% |#############################                             | ETA:  0:00:03\r",
        " 51% |##############################                            | ETA:  0:00:03\r"
       ]
      },
      {
       "output_type": "stream",
       "stream": "stderr",
       "text": [
        " 52% |##############################                            | ETA:  0:00:03\r",
        " 53% |###############################                           | ETA:  0:00:03\r"
       ]
      },
      {
       "output_type": "stream",
       "stream": "stderr",
       "text": [
        " 54% |###############################                           | ETA:  0:00:02\r",
        " 55% |################################                          | ETA:  0:00:02\r"
       ]
      },
      {
       "output_type": "stream",
       "stream": "stderr",
       "text": [
        " 56% |################################                          | ETA:  0:00:02\r",
        " 57% |#################################                         | ETA:  0:00:02\r"
       ]
      },
      {
       "output_type": "stream",
       "stream": "stderr",
       "text": [
        " 58% |##################################                        | ETA:  0:00:02\r",
        " 59% |##################################                        | ETA:  0:00:02\r"
       ]
      },
      {
       "output_type": "stream",
       "stream": "stderr",
       "text": [
        " 60% |###################################                       | ETA:  0:00:02\r",
        " 61% |###################################                       | ETA:  0:00:02\r"
       ]
      },
      {
       "output_type": "stream",
       "stream": "stderr",
       "text": [
        " 62% |####################################                      | ETA:  0:00:02\r",
        " 63% |#####################################                     | ETA:  0:00:02\r"
       ]
      },
      {
       "output_type": "stream",
       "stream": "stderr",
       "text": [
        " 64% |#####################################                     | ETA:  0:00:02\r",
        " 65% |######################################                    | ETA:  0:00:02\r"
       ]
      },
      {
       "output_type": "stream",
       "stream": "stderr",
       "text": [
        " 66% |######################################                    | ETA:  0:00:02\r",
        " 67% |#######################################                   | ETA:  0:00:02\r"
       ]
      },
      {
       "output_type": "stream",
       "stream": "stderr",
       "text": [
        " 69% |########################################                  | ETA:  0:00:02\r",
        " 70% |########################################                  | ETA:  0:00:01\r"
       ]
      },
      {
       "output_type": "stream",
       "stream": "stderr",
       "text": [
        " 71% |#########################################                 | ETA:  0:00:01\r",
        " 72% |#########################################                 | ETA:  0:00:01\r"
       ]
      },
      {
       "output_type": "stream",
       "stream": "stderr",
       "text": [
        " 73% |##########################################                | ETA:  0:00:01\r",
        " 74% |##########################################                | ETA:  0:00:01\r"
       ]
      },
      {
       "output_type": "stream",
       "stream": "stderr",
       "text": [
        " 75% |###########################################               | ETA:  0:00:01\r",
        " 76% |############################################              | ETA:  0:00:01\r"
       ]
      },
      {
       "output_type": "stream",
       "stream": "stderr",
       "text": [
        " 77% |############################################              | ETA:  0:00:01\r",
        " 78% |#############################################             | ETA:  0:00:01\r"
       ]
      },
      {
       "output_type": "stream",
       "stream": "stderr",
       "text": [
        " 79% |#############################################             | ETA:  0:00:01\r",
        " 80% |##############################################            | ETA:  0:00:01\r"
       ]
      },
      {
       "output_type": "stream",
       "stream": "stderr",
       "text": [
        " 81% |###############################################           | ETA:  0:00:01\r",
        " 82% |###############################################           | ETA:  0:00:01\r"
       ]
      },
      {
       "output_type": "stream",
       "stream": "stderr",
       "text": [
        " 83% |################################################          | ETA:  0:00:01\r",
        " 84% |################################################          | ETA:  0:00:01\r"
       ]
      },
      {
       "output_type": "stream",
       "stream": "stderr",
       "text": [
        " 85% |#################################################         | ETA:  0:00:00\r",
        " 86% |##################################################        | ETA:  0:00:00\r"
       ]
      },
      {
       "output_type": "stream",
       "stream": "stderr",
       "text": [
        " 87% |##################################################        | ETA:  0:00:00\r",
        " 88% |###################################################       | ETA:  0:00:00\r"
       ]
      },
      {
       "output_type": "stream",
       "stream": "stderr",
       "text": [
        " 89% |###################################################       | ETA:  0:00:00\r",
        " 90% |####################################################      | ETA:  0:00:00\r"
       ]
      },
      {
       "output_type": "stream",
       "stream": "stderr",
       "text": [
        " 91% |####################################################      | ETA:  0:00:00\r",
        " 92% |#####################################################     | ETA:  0:00:00\r"
       ]
      },
      {
       "output_type": "stream",
       "stream": "stderr",
       "text": [
        " 93% |######################################################    | ETA:  0:00:00\r",
        " 94% |######################################################    | ETA:  0:00:00\r"
       ]
      },
      {
       "output_type": "stream",
       "stream": "stderr",
       "text": [
        " 95% |#######################################################   | ETA:  0:00:00\r",
        " 96% |#######################################################   | ETA:  0:00:00\r"
       ]
      },
      {
       "output_type": "stream",
       "stream": "stderr",
       "text": [
        " 97% |########################################################  | ETA:  0:00:00\r",
        " 98% |######################################################### | ETA:  0:00:00\r"
       ]
      },
      {
       "output_type": "stream",
       "stream": "stdout",
       "text": [
        "\n",
        "\n",
        "MCEqRun::_forward_euler(): time elapsed during integration: 6.36540007591 sec"
       ]
      },
      {
       "output_type": "stream",
       "stream": "stdout",
       "text": [
        "\n",
        "MCEqRun::set_theta_deg():  90.0\n",
        "atmospheres::_load_cache(): loading cache.\n",
        "MSIS00Atmosphere::calculate_density_spline(): Calculating spline of rho(X) for zenith 90.0 degrees.\n",
        ".. took 4.25s"
       ]
      },
      {
       "output_type": "stream",
       "stream": "stdout",
       "text": [
        "\n",
        "Average spline error:"
       ]
      },
      {
       "output_type": "stream",
       "stream": "stderr",
       "text": [
        " 99% |######################################################### | ETA:  0:00:00\r",
        "100% |##########################################################| Time: 0:00:06\r\n",
        "  0% |                                                         | ETA:  --:--:--\r"
       ]
      },
      {
       "output_type": "stream",
       "stream": "stderr",
       "text": [
        "  1% |                                                          | ETA:  0:01:27\r",
        "  2% |#                                                         | ETA:  0:00:46\r"
       ]
      },
      {
       "output_type": "stream",
       "stream": "stderr",
       "text": [
        "  3% |#                                                         | ETA:  0:00:32\r",
        "  4% |##                                                        | ETA:  0:00:24\r",
        "  5% |##                                                        | ETA:  0:00:19\r"
       ]
      },
      {
       "output_type": "stream",
       "stream": "stderr",
       "text": [
        "  6% |###                                                       | ETA:  0:00:16\r",
        "  7% |####                                                      | ETA:  0:00:14\r",
        "  8% |####                                                      | ETA:  0:00:12\r",
        "  9% |#####                                                     | ETA:  0:00:11\r",
        " 10% |#####                                                     | ETA:  0:00:10\r"
       ]
      },
      {
       "output_type": "stream",
       "stream": "stderr",
       "text": [
        " 11% |######                                                    | ETA:  0:00:09\r",
        " 12% |######                                                    | ETA:  0:00:08\r",
        " 13% |#######                                                   | ETA:  0:00:07\r",
        " 14% |########                                                  | ETA:  0:00:07\r",
        " 15% |########                                                  | ETA:  0:00:06\r",
        " 16% |#########                                                 | ETA:  0:00:06\r",
        " 17% |#########                                                 | ETA:  0:00:05\r"
       ]
      },
      {
       "output_type": "stream",
       "stream": "stderr",
       "text": [
        " 18% |##########                                                | ETA:  0:00:05\r",
        " 19% |###########                                               | ETA:  0:00:05\r",
        " 20% |###########                                               | ETA:  0:00:04\r",
        " 21% |############                                              | ETA:  0:00:04\r",
        " 22% |############                                              | ETA:  0:00:04\r",
        " 23% |#############                                             | ETA:  0:00:04\r",
        " 24% |#############                                             | ETA:  0:00:03\r",
        " 25% |##############                                            | ETA:  0:00:03\r",
        " 26% |###############                                           | ETA:  0:00:03\r"
       ]
      },
      {
       "output_type": "stream",
       "stream": "stderr",
       "text": [
        " 27% |###############                                           | ETA:  0:00:03\r",
        " 28% |################                                          | ETA:  0:00:03\r",
        " 29% |################                                          | ETA:  0:00:03\r",
        " 30% |#################                                         | ETA:  0:00:02\r",
        " 31% |##################                                        | ETA:  0:00:02\r",
        " 32% |##################                                        | ETA:  0:00:02\r",
        " 33% |###################                                       | ETA:  0:00:02\r",
        " 34% |###################                                       | ETA:  0:00:02\r",
        " 35% |####################                                      | ETA:  0:00:02\r",
        " 36% |####################                                      | ETA:  0:00:02\r"
       ]
      },
      {
       "output_type": "stream",
       "stream": "stderr",
       "text": [
        " 37% |#####################                                     | ETA:  0:00:02\r",
        " 38% |######################                                    | ETA:  0:00:02\r",
        " 39% |######################                                    | ETA:  0:00:02\r",
        " 40% |#######################                                   | ETA:  0:00:02\r",
        " 41% |#######################                                   | ETA:  0:00:01\r",
        " 42% |########################                                  | ETA:  0:00:01\r",
        " 43% |########################                                  | ETA:  0:00:01\r",
        " 44% |#########################                                 | ETA:  0:00:01\r",
        " 45% |##########################                                | ETA:  0:00:01\r",
        " 46% |##########################                                | ETA:  0:00:01\r",
        " 47% |###########################                               | ETA:  0:00:01\r",
        " 48% |###########################                               | ETA:  0:00:01\r"
       ]
      },
      {
       "output_type": "stream",
       "stream": "stderr",
       "text": [
        " 49% |############################                              | ETA:  0:00:01\r",
        " 50% |#############################                             | ETA:  0:00:01\r",
        " 51% |#############################                             | ETA:  0:00:01\r",
        " 52% |##############################                            | ETA:  0:00:01\r",
        " 53% |##############################                            | ETA:  0:00:01\r",
        " 54% |###############################                           | ETA:  0:00:01\r",
        " 55% |###############################                           | ETA:  0:00:01\r",
        " 56% |################################                          | ETA:  0:00:01\r",
        " 57% |#################################                         | ETA:  0:00:01\r",
        " 58% |#################################                         | ETA:  0:00:01\r",
        " 59% |##################################                        | ETA:  0:00:00\r",
        " 60% |##################################                        | ETA:  0:00:00\r",
        " 61% |###################################                       | ETA:  0:00:00\r"
       ]
      },
      {
       "output_type": "stream",
       "stream": "stderr",
       "text": [
        " 62% |####################################                      | ETA:  0:00:00\r",
        " 63% |####################################                      | ETA:  0:00:00\r",
        " 64% |#####################################                     | ETA:  0:00:00\r",
        " 65% |#####################################                     | ETA:  0:00:00\r",
        " 66% |######################################                    | ETA:  0:00:00\r",
        " 67% |######################################                    | ETA:  0:00:00\r",
        " 68% |#######################################                   | ETA:  0:00:00\r",
        " 69% |########################################                  | ETA:  0:00:00\r",
        " 70% |########################################                  | ETA:  0:00:00\r",
        " 71% |#########################################                 | ETA:  0:00:00\r",
        " 72% |#########################################                 | ETA:  0:00:00\r",
        " 73% |##########################################                | ETA:  0:00:00\r",
        " 74% |###########################################               | ETA:  0:00:00\r",
        " 75% |###########################################               | ETA:  0:00:00\r"
       ]
      },
      {
       "output_type": "stream",
       "stream": "stderr",
       "text": [
        " 76% |############################################              | ETA:  0:00:00\r",
        " 77% |############################################              | ETA:  0:00:00\r",
        " 78% |#############################################             | ETA:  0:00:00\r",
        " 79% |#############################################             | ETA:  0:00:00\r",
        " 80% |##############################################            | ETA:  0:00:00\r",
        " 81% |###############################################           | ETA:  0:00:00\r",
        " 82% |###############################################           | ETA:  0:00:00\r",
        " 83% |################################################          | ETA:  0:00:00\r",
        " 84% |################################################          | ETA:  0:00:00\r",
        " 85% |#################################################         | ETA:  0:00:00\r",
        " 86% |##################################################        | ETA:  0:00:00\r",
        " 87% |##################################################        | ETA:  0:00:00\r",
        " 88% |###################################################       | ETA:  0:00:00\r",
        " 89% |###################################################       | ETA:  0:00:00\r",
        " 90% |####################################################      | ETA:  0:00:00\r"
       ]
      },
      {
       "output_type": "stream",
       "stream": "stdout",
       "text": [
        " 2.02627108074e-16\n",
        "density_profiles::_dump_cache() dumping cache.\n",
        "./data/atm_cache.ppd\n",
        "MCEqRun::_calculate_integration_path():\n",
        "MCEqRun::_forward_euler(): Solver will perform 50483 integration steps."
       ]
      },
      {
       "output_type": "stream",
       "stream": "stderr",
       "text": [
        " 91% |####################################################      | ETA:  0:00:00\r",
        " 92% |#####################################################     | ETA:  0:00:00\r",
        " 93% |######################################################    | ETA:  0:00:00\r",
        " 94% |######################################################    | ETA:  0:00:00\r",
        " 95% |#######################################################   | ETA:  0:00:00\r",
        " 96% |#######################################################   | ETA:  0:00:00\r",
        " 97% |########################################################  | ETA:  0:00:00\r",
        " 98% |########################################################  | ETA:  0:00:00\r",
        " 99% |######################################################### | ETA:  0:00:00\r",
        "100% |##########################################################| Time: 0:00:01\r\n",
        "  0% |                                                         | ETA:  --:--:--\r",
        "  1% |                                                          | ETA:  0:01:06\r"
       ]
      },
      {
       "output_type": "stream",
       "stream": "stderr",
       "text": [
        "  2% |#                                                         | ETA:  0:01:08\r",
        "  3% |#                                                         | ETA:  0:01:07\r"
       ]
      },
      {
       "output_type": "stream",
       "stream": "stderr",
       "text": [
        "  4% |##                                                        | ETA:  0:01:08\r",
        "  5% |##                                                        | ETA:  0:01:07\r"
       ]
      },
      {
       "output_type": "stream",
       "stream": "stderr",
       "text": [
        "  6% |###                                                       | ETA:  0:01:06\r",
        "  7% |####                                                      | ETA:  0:01:04\r"
       ]
      },
      {
       "output_type": "stream",
       "stream": "stderr",
       "text": [
        "  8% |####                                                      | ETA:  0:01:04\r",
        "  9% |#####                                                     | ETA:  0:01:03\r"
       ]
      },
      {
       "output_type": "stream",
       "stream": "stderr",
       "text": [
        " 10% |#####                                                     | ETA:  0:01:02\r",
        " 11% |######                                                    | ETA:  0:01:02\r"
       ]
      },
      {
       "output_type": "stream",
       "stream": "stderr",
       "text": [
        " 12% |######                                                    | ETA:  0:01:01\r",
        " 13% |#######                                                   | ETA:  0:01:00\r"
       ]
      },
      {
       "output_type": "stream",
       "stream": "stderr",
       "text": [
        " 14% |########                                                  | ETA:  0:01:00\r",
        " 15% |########                                                  | ETA:  0:00:59\r"
       ]
      },
      {
       "output_type": "stream",
       "stream": "stderr",
       "text": [
        " 16% |#########                                                 | ETA:  0:00:59\r",
        " 17% |#########                                                 | ETA:  0:00:58\r"
       ]
      },
      {
       "output_type": "stream",
       "stream": "stderr",
       "text": [
        " 18% |##########                                                | ETA:  0:00:57\r",
        " 19% |###########                                               | ETA:  0:00:56\r"
       ]
      },
      {
       "output_type": "stream",
       "stream": "stderr",
       "text": [
        " 20% |###########                                               | ETA:  0:00:55\r",
        " 21% |############                                              | ETA:  0:00:54\r"
       ]
      },
      {
       "output_type": "stream",
       "stream": "stderr",
       "text": [
        " 22% |############                                              | ETA:  0:00:54\r",
        " 23% |#############                                             | ETA:  0:00:53\r"
       ]
      },
      {
       "output_type": "stream",
       "stream": "stderr",
       "text": [
        " 24% |#############                                             | ETA:  0:00:52\r",
        " 25% |##############                                            | ETA:  0:00:52\r"
       ]
      },
      {
       "output_type": "stream",
       "stream": "stderr",
       "text": [
        " 26% |###############                                           | ETA:  0:00:51\r",
        " 27% |###############                                           | ETA:  0:00:50\r"
       ]
      },
      {
       "output_type": "stream",
       "stream": "stderr",
       "text": [
        " 28% |################                                          | ETA:  0:00:50\r",
        " 29% |################                                          | ETA:  0:00:49\r"
       ]
      },
      {
       "output_type": "stream",
       "stream": "stderr",
       "text": [
        " 30% |#################                                         | ETA:  0:00:48\r",
        " 31% |#################                                         | ETA:  0:00:48\r"
       ]
      },
      {
       "output_type": "stream",
       "stream": "stderr",
       "text": [
        " 32% |##################                                        | ETA:  0:00:47\r",
        " 33% |###################                                       | ETA:  0:00:46\r"
       ]
      },
      {
       "output_type": "stream",
       "stream": "stderr",
       "text": [
        " 34% |###################                                       | ETA:  0:00:45\r",
        " 35% |####################                                      | ETA:  0:00:44\r"
       ]
      },
      {
       "output_type": "stream",
       "stream": "stderr",
       "text": [
        " 36% |####################                                      | ETA:  0:00:44\r",
        " 37% |#####################                                     | ETA:  0:00:43\r"
       ]
      },
      {
       "output_type": "stream",
       "stream": "stderr",
       "text": [
        " 38% |######################                                    | ETA:  0:00:42\r",
        " 39% |######################                                    | ETA:  0:00:41\r"
       ]
      },
      {
       "output_type": "stream",
       "stream": "stderr",
       "text": [
        " 40% |#######################                                   | ETA:  0:00:41\r",
        " 41% |#######################                                   | ETA:  0:00:40\r"
       ]
      },
      {
       "output_type": "stream",
       "stream": "stderr",
       "text": [
        " 42% |########################                                  | ETA:  0:00:39\r",
        " 43% |########################                                  | ETA:  0:00:39\r"
       ]
      },
      {
       "output_type": "stream",
       "stream": "stderr",
       "text": [
        " 44% |#########################                                 | ETA:  0:00:38\r",
        " 45% |##########################                                | ETA:  0:00:37\r"
       ]
      },
      {
       "output_type": "stream",
       "stream": "stderr",
       "text": [
        " 46% |##########################                                | ETA:  0:00:36\r",
        " 47% |###########################                               | ETA:  0:00:36\r"
       ]
      },
      {
       "output_type": "stream",
       "stream": "stderr",
       "text": [
        " 48% |###########################                               | ETA:  0:00:35\r",
        " 49% |############################                              | ETA:  0:00:34\r"
       ]
      },
      {
       "output_type": "stream",
       "stream": "stderr",
       "text": [
        " 50% |#############################                             | ETA:  0:00:34\r",
        " 51% |#############################                             | ETA:  0:00:33\r"
       ]
      },
      {
       "output_type": "stream",
       "stream": "stderr",
       "text": [
        " 52% |##############################                            | ETA:  0:00:32\r",
        " 53% |##############################                            | ETA:  0:00:32\r"
       ]
      },
      {
       "output_type": "stream",
       "stream": "stderr",
       "text": [
        " 54% |###############################                           | ETA:  0:00:31\r",
        " 55% |###############################                           | ETA:  0:00:30\r"
       ]
      },
      {
       "output_type": "stream",
       "stream": "stderr",
       "text": [
        " 56% |################################                          | ETA:  0:00:30\r",
        " 57% |#################################                         | ETA:  0:00:29\r"
       ]
      },
      {
       "output_type": "stream",
       "stream": "stderr",
       "text": [
        " 58% |#################################                         | ETA:  0:00:28\r",
        " 59% |##################################                        | ETA:  0:00:27\r"
       ]
      },
      {
       "output_type": "stream",
       "stream": "stderr",
       "text": [
        " 60% |##################################                        | ETA:  0:00:27\r",
        " 61% |###################################                       | ETA:  0:00:26\r"
       ]
      },
      {
       "output_type": "stream",
       "stream": "stderr",
       "text": [
        " 62% |###################################                       | ETA:  0:00:25\r",
        " 63% |####################################                      | ETA:  0:00:25\r"
       ]
      },
      {
       "output_type": "stream",
       "stream": "stderr",
       "text": [
        " 64% |#####################################                     | ETA:  0:00:24\r",
        " 65% |#####################################                     | ETA:  0:00:23\r"
       ]
      },
      {
       "output_type": "stream",
       "stream": "stderr",
       "text": [
        " 66% |######################################                    | ETA:  0:00:23\r",
        " 67% |######################################                    | ETA:  0:00:22\r"
       ]
      },
      {
       "output_type": "stream",
       "stream": "stderr",
       "text": [
        " 68% |#######################################                   | ETA:  0:00:21\r",
        " 69% |########################################                  | ETA:  0:00:21\r"
       ]
      },
      {
       "output_type": "stream",
       "stream": "stderr",
       "text": [
        " 70% |########################################                  | ETA:  0:00:20\r",
        " 71% |#########################################                 | ETA:  0:00:19\r"
       ]
      },
      {
       "output_type": "stream",
       "stream": "stderr",
       "text": [
        " 72% |#########################################                 | ETA:  0:00:19\r",
        " 73% |##########################################                | ETA:  0:00:18\r"
       ]
      },
      {
       "output_type": "stream",
       "stream": "stderr",
       "text": [
        " 74% |##########################################                | ETA:  0:00:17\r",
        " 75% |###########################################               | ETA:  0:00:16\r"
       ]
      },
      {
       "output_type": "stream",
       "stream": "stderr",
       "text": [
        " 76% |############################################              | ETA:  0:00:16\r",
        " 77% |############################################              | ETA:  0:00:15\r"
       ]
      },
      {
       "output_type": "stream",
       "stream": "stderr",
       "text": [
        " 78% |#############################################             | ETA:  0:00:14\r",
        " 79% |#############################################             | ETA:  0:00:14\r"
       ]
      },
      {
       "output_type": "stream",
       "stream": "stderr",
       "text": [
        " 80% |##############################################            | ETA:  0:00:13\r",
        " 81% |##############################################            | ETA:  0:00:12\r"
       ]
      },
      {
       "output_type": "stream",
       "stream": "stderr",
       "text": [
        " 82% |###############################################           | ETA:  0:00:12\r",
        " 83% |################################################          | ETA:  0:00:11\r"
       ]
      },
      {
       "output_type": "stream",
       "stream": "stderr",
       "text": [
        " 84% |################################################          | ETA:  0:00:10\r",
        " 85% |#################################################         | ETA:  0:00:10\r"
       ]
      },
      {
       "output_type": "stream",
       "stream": "stderr",
       "text": [
        " 86% |#################################################         | ETA:  0:00:09\r",
        " 87% |##################################################        | ETA:  0:00:08\r"
       ]
      },
      {
       "output_type": "stream",
       "stream": "stderr",
       "text": [
        " 88% |###################################################       | ETA:  0:00:08\r",
        " 89% |###################################################       | ETA:  0:00:07\r"
       ]
      },
      {
       "output_type": "stream",
       "stream": "stderr",
       "text": [
        " 90% |####################################################      | ETA:  0:00:06\r",
        " 91% |####################################################      | ETA:  0:00:06\r"
       ]
      },
      {
       "output_type": "stream",
       "stream": "stderr",
       "text": [
        " 92% |#####################################################     | ETA:  0:00:05\r",
        " 93% |#####################################################     | ETA:  0:00:04\r"
       ]
      },
      {
       "output_type": "stream",
       "stream": "stderr",
       "text": [
        " 94% |######################################################    | ETA:  0:00:04\r",
        " 95% |#######################################################   | ETA:  0:00:03\r"
       ]
      },
      {
       "output_type": "stream",
       "stream": "stderr",
       "text": [
        " 95% |#######################################################   | ETA:  0:00:02\r",
        " 96% |#######################################################   | ETA:  0:00:02\r"
       ]
      },
      {
       "output_type": "stream",
       "stream": "stderr",
       "text": [
        " 97% |########################################################  | ETA:  0:00:02\r",
        " 97% |########################################################  | ETA:  0:00:01\r"
       ]
      },
      {
       "output_type": "stream",
       "stream": "stderr",
       "text": [
        " 98% |########################################################  | ETA:  0:00:01\r",
        " 98% |######################################################### | ETA:  0:00:01\r"
       ]
      },
      {
       "output_type": "stream",
       "stream": "stderr",
       "text": [
        " 98% |######################################################### | ETA:  0:00:00\r",
        " 99% |######################################################### | ETA:  0:00:00\r"
       ]
      },
      {
       "output_type": "stream",
       "stream": "stderr",
       "text": [
        " 99% |######################################################### | ETA:  0:00:00\r",
        "100% |##########################################################| Time: 0:01:14\r"
       ]
      },
      {
       "output_type": "stream",
       "stream": "stdout",
       "text": [
        "\n",
        "\n",
        "MCEqRun::_forward_euler(): time elapsed during integration: 74.4045350552 sec"
       ]
      },
      {
       "output_type": "stream",
       "stream": "stdout",
       "text": [
        "\n",
        "MCEqRun::set_atm_model():  MSIS00 SouthPole August\n",
        "MCEqRun::set_theta_deg():  0.0\n",
        "atmospheres::_load_cache(): loading cache.\n",
        "MSIS00Atmosphere::calculate_density_spline(): Calculating spline of rho(X) for zenith 0.0 degrees.\n",
        ".. took 3.48s"
       ]
      },
      {
       "output_type": "stream",
       "stream": "stdout",
       "text": [
        "\n",
        "Average spline error: "
       ]
      },
      {
       "output_type": "stream",
       "stream": "stderr",
       "text": [
        "\n",
        "  0% |                                                         | ETA:  --:--:--\r"
       ]
      },
      {
       "output_type": "stream",
       "stream": "stdout",
       "text": [
        "2.05286211595e-16\n",
        "density_profiles::_dump_cache() dumping cache.\n",
        "./data/atm_cache.ppd\n",
        "MCEqRun::_calculate_integration_path():\n",
        "MCEqRun::_forward_euler(): Solver will perform 4730 integration steps."
       ]
      },
      {
       "output_type": "stream",
       "stream": "stderr",
       "text": [
        "  1% |                                                          | ETA:  0:00:10\r",
        "  2% |#                                                         | ETA:  0:00:05\r",
        "  3% |#                                                         | ETA:  0:00:03\r",
        "  4% |##                                                        | ETA:  0:00:02\r",
        "  5% |##                                                        | ETA:  0:00:02\r",
        "  6% |###                                                       | ETA:  0:00:01\r",
        "  7% |####                                                      | ETA:  0:00:01\r",
        "  8% |####                                                      | ETA:  0:00:01\r",
        "  9% |#####                                                     | ETA:  0:00:01\r",
        " 10% |#####                                                     | ETA:  0:00:01\r",
        " 11% |######                                                    | ETA:  0:00:00\r",
        " 12% |#######                                                   | ETA:  0:00:00\r",
        " 13% |#######                                                   | ETA:  0:00:00\r",
        " 14% |########                                                  | ETA:  0:00:00\r",
        " 15% |########                                                  | ETA:  0:00:00\r",
        " 16% |#########                                                 | ETA:  0:00:00\r",
        " 17% |##########                                                | ETA:  0:00:00\r",
        " 18% |##########                                                | ETA:  0:00:00\r",
        " 19% |###########                                               | ETA:  0:00:00\r",
        " 20% |###########                                               | ETA:  0:00:00\r",
        " 21% |############                                              | ETA:  0:00:00\r",
        " 22% |#############                                             | ETA:  0:00:00\r",
        " 23% |#############                                             | ETA:  0:00:00\r",
        " 24% |##############                                            | ETA:  0:00:00\r",
        " 25% |##############                                            | ETA:  0:00:00\r",
        " 26% |###############                                           | ETA:  0:00:00\r",
        " 27% |################                                          | ETA:  0:00:00\r",
        " 28% |################                                          | ETA:  0:00:00\r",
        " 29% |#################                                         | ETA:  0:00:00\r",
        " 31% |##################                                        | ETA:  0:00:00\r",
        " 32% |##################                                        | ETA:  0:00:00\r",
        " 33% |###################                                       | ETA:  0:00:00\r",
        " 34% |###################                                       | ETA:  0:00:00\r",
        " 35% |####################                                      | ETA:  0:00:00\r",
        " 36% |#####################                                     | ETA:  0:00:00\r",
        " 37% |#####################                                     | ETA:  0:00:00\r",
        " 38% |######################                                    | ETA:  0:00:00\r",
        " 39% |######################                                    | ETA:  0:00:00\r",
        " 40% |#######################                                   | ETA:  0:00:00\r",
        " 41% |########################                                  | ETA:  0:00:00\r",
        " 42% |########################                                  | ETA:  0:00:00\r",
        " 43% |#########################                                 | ETA:  0:00:00\r",
        " 45% |##########################                                | ETA:  0:00:00\r",
        " 46% |##########################                                | ETA:  0:00:00\r",
        " 47% |###########################                               | ETA:  0:00:00\r",
        " 48% |###########################                               | ETA:  0:00:00\r",
        " 49% |############################                              | ETA:  0:00:00\r",
        " 50% |#############################                             | ETA:  0:00:00\r",
        " 51% |#############################                             | ETA:  0:00:00\r",
        " 52% |##############################                            | ETA:  0:00:00\r",
        " 53% |###############################                           | ETA:  0:00:00\r",
        " 54% |###############################                           | ETA:  0:00:00\r",
        " 55% |################################                          | ETA:  0:00:00\r",
        " 57% |#################################                         | ETA:  0:00:00\r",
        " 58% |#################################                         | ETA:  0:00:00\r",
        " 59% |##################################                        | ETA:  0:00:00\r",
        " 60% |##################################                        | ETA:  0:00:00\r",
        " 61% |###################################                       | ETA:  0:00:00\r",
        " 62% |####################################                      | ETA:  0:00:00\r",
        " 63% |####################################                      | ETA:  0:00:00\r",
        " 64% |#####################################                     | ETA:  0:00:00\r",
        " 65% |######################################                    | ETA:  0:00:00\r",
        " 66% |######################################                    | ETA:  0:00:00\r",
        " 67% |#######################################                   | ETA:  0:00:00\r",
        " 68% |#######################################                   | ETA:  0:00:00\r",
        " 70% |########################################                  | ETA:  0:00:00\r",
        " 71% |#########################################                 | ETA:  0:00:00\r",
        " 72% |##########################################                | ETA:  0:00:00\r",
        " 73% |##########################################                | ETA:  0:00:00\r",
        " 74% |###########################################               | ETA:  0:00:00\r",
        " 76% |############################################              | ETA:  0:00:00\r",
        " 77% |############################################              | ETA:  0:00:00\r",
        " 78% |#############################################             | ETA:  0:00:00\r",
        " 79% |#############################################             | ETA:  0:00:00\r",
        " 80% |##############################################            | ETA:  0:00:00\r",
        " 81% |###############################################           | ETA:  0:00:00\r",
        " 82% |###############################################           | ETA:  0:00:00\r",
        " 83% |################################################          | ETA:  0:00:00\r",
        " 84% |#################################################         | ETA:  0:00:00\r",
        " 85% |#################################################         | ETA:  0:00:00\r",
        " 86% |##################################################        | ETA:  0:00:00\r",
        " 87% |##################################################        | ETA:  0:00:00\r",
        " 89% |###################################################       | ETA:  0:00:00\r",
        " 90% |####################################################      | ETA:  0:00:00\r",
        " 91% |####################################################      | ETA:  0:00:00\r",
        " 92% |#####################################################     | ETA:  0:00:00\r",
        " 93% |######################################################    | ETA:  0:00:00\r",
        " 94% |#######################################################   | ETA:  0:00:00\r",
        " 96% |#######################################################   | ETA:  0:00:00\r",
        " 97% |########################################################  | ETA:  0:00:00\r",
        " 98% |######################################################### | ETA:  0:00:00\r",
        " 99% |######################################################### | ETA:  0:00:00\r",
        "100% |##########################################################| Time: 0:00:00\r\n",
        "  0% |                                                         | ETA:  --:--:--\r",
        "  1% |                                                          | ETA:  0:00:06\r"
       ]
      },
      {
       "output_type": "stream",
       "stream": "stderr",
       "text": [
        "  2% |#                                                         | ETA:  0:00:06\r",
        "  3% |#                                                         | ETA:  0:00:06\r"
       ]
      },
      {
       "output_type": "stream",
       "stream": "stderr",
       "text": [
        "  4% |##                                                        | ETA:  0:00:06\r",
        "  5% |##                                                        | ETA:  0:00:06\r"
       ]
      },
      {
       "output_type": "stream",
       "stream": "stderr",
       "text": [
        "  6% |###                                                       | ETA:  0:00:06\r",
        "  7% |####                                                      | ETA:  0:00:06\r"
       ]
      },
      {
       "output_type": "stream",
       "stream": "stderr",
       "text": [
        "  8% |####                                                      | ETA:  0:00:06\r",
        "  9% |#####                                                     | ETA:  0:00:06\r"
       ]
      },
      {
       "output_type": "stream",
       "stream": "stderr",
       "text": [
        " 10% |#####                                                     | ETA:  0:00:05\r",
        " 11% |######                                                    | ETA:  0:00:05\r"
       ]
      },
      {
       "output_type": "stream",
       "stream": "stderr",
       "text": [
        " 12% |#######                                                   | ETA:  0:00:05\r",
        " 13% |#######                                                   | ETA:  0:00:05\r"
       ]
      },
      {
       "output_type": "stream",
       "stream": "stderr",
       "text": [
        " 14% |########                                                  | ETA:  0:00:05\r",
        " 15% |########                                                  | ETA:  0:00:05\r"
       ]
      },
      {
       "output_type": "stream",
       "stream": "stderr",
       "text": [
        " 16% |#########                                                 | ETA:  0:00:05\r",
        " 17% |##########                                                | ETA:  0:00:05\r"
       ]
      },
      {
       "output_type": "stream",
       "stream": "stderr",
       "text": [
        " 18% |##########                                                | ETA:  0:00:05\r",
        " 19% |###########                                               | ETA:  0:00:05\r"
       ]
      },
      {
       "output_type": "stream",
       "stream": "stderr",
       "text": [
        " 20% |###########                                               | ETA:  0:00:05\r",
        " 21% |############                                              | ETA:  0:00:05\r"
       ]
      },
      {
       "output_type": "stream",
       "stream": "stderr",
       "text": [
        " 22% |############                                              | ETA:  0:00:05\r",
        " 23% |#############                                             | ETA:  0:00:05\r"
       ]
      },
      {
       "output_type": "stream",
       "stream": "stderr",
       "text": [
        " 24% |##############                                            | ETA:  0:00:05\r",
        " 25% |##############                                            | ETA:  0:00:04\r"
       ]
      },
      {
       "output_type": "stream",
       "stream": "stderr",
       "text": [
        " 26% |###############                                           | ETA:  0:00:04\r",
        " 27% |###############                                           | ETA:  0:00:04\r"
       ]
      },
      {
       "output_type": "stream",
       "stream": "stderr",
       "text": [
        " 28% |################                                          | ETA:  0:00:04\r",
        " 29% |#################                                         | ETA:  0:00:04\r"
       ]
      },
      {
       "output_type": "stream",
       "stream": "stderr",
       "text": [
        " 30% |#################                                         | ETA:  0:00:04\r",
        " 31% |##################                                        | ETA:  0:00:04\r"
       ]
      },
      {
       "output_type": "stream",
       "stream": "stderr",
       "text": [
        " 32% |##################                                        | ETA:  0:00:04\r",
        " 33% |###################                                       | ETA:  0:00:04\r"
       ]
      },
      {
       "output_type": "stream",
       "stream": "stderr",
       "text": [
        " 34% |####################                                      | ETA:  0:00:04\r",
        " 35% |####################                                      | ETA:  0:00:04\r"
       ]
      },
      {
       "output_type": "stream",
       "stream": "stderr",
       "text": [
        " 36% |#####################                                     | ETA:  0:00:04\r",
        " 37% |#####################                                     | ETA:  0:00:04\r"
       ]
      },
      {
       "output_type": "stream",
       "stream": "stderr",
       "text": [
        " 38% |######################                                    | ETA:  0:00:04\r",
        " 39% |######################                                    | ETA:  0:00:03\r"
       ]
      },
      {
       "output_type": "stream",
       "stream": "stderr",
       "text": [
        " 40% |#######################                                   | ETA:  0:00:03\r",
        " 41% |########################                                  | ETA:  0:00:03\r"
       ]
      },
      {
       "output_type": "stream",
       "stream": "stderr",
       "text": [
        " 42% |########################                                  | ETA:  0:00:03\r",
        " 43% |#########################                                 | ETA:  0:00:03\r"
       ]
      },
      {
       "output_type": "stream",
       "stream": "stderr",
       "text": [
        " 44% |#########################                                 | ETA:  0:00:03\r",
        " 45% |##########################                                | ETA:  0:00:03\r"
       ]
      },
      {
       "output_type": "stream",
       "stream": "stderr",
       "text": [
        " 46% |###########################                               | ETA:  0:00:03\r",
        " 47% |###########################                               | ETA:  0:00:03\r"
       ]
      },
      {
       "output_type": "stream",
       "stream": "stderr",
       "text": [
        " 48% |############################                              | ETA:  0:00:03\r",
        " 49% |############################                              | ETA:  0:00:03\r"
       ]
      },
      {
       "output_type": "stream",
       "stream": "stderr",
       "text": [
        " 50% |#############################                             | ETA:  0:00:03\r",
        " 51% |##############################                            | ETA:  0:00:03\r"
       ]
      },
      {
       "output_type": "stream",
       "stream": "stderr",
       "text": [
        " 52% |##############################                            | ETA:  0:00:03\r",
        " 53% |###############################                           | ETA:  0:00:03\r"
       ]
      },
      {
       "output_type": "stream",
       "stream": "stderr",
       "text": [
        " 54% |###############################                           | ETA:  0:00:02\r",
        " 55% |################################                          | ETA:  0:00:02\r"
       ]
      },
      {
       "output_type": "stream",
       "stream": "stderr",
       "text": [
        " 56% |################################                          | ETA:  0:00:02\r",
        " 57% |#################################                         | ETA:  0:00:02\r"
       ]
      },
      {
       "output_type": "stream",
       "stream": "stderr",
       "text": [
        " 58% |##################################                        | ETA:  0:00:02\r",
        " 59% |##################################                        | ETA:  0:00:02\r"
       ]
      },
      {
       "output_type": "stream",
       "stream": "stderr",
       "text": [
        " 60% |###################################                       | ETA:  0:00:02\r",
        " 61% |###################################                       | ETA:  0:00:02\r"
       ]
      },
      {
       "output_type": "stream",
       "stream": "stderr",
       "text": [
        " 62% |####################################                      | ETA:  0:00:02\r",
        " 63% |#####################################                     | ETA:  0:00:02\r"
       ]
      },
      {
       "output_type": "stream",
       "stream": "stderr",
       "text": [
        " 64% |#####################################                     | ETA:  0:00:02\r",
        " 65% |######################################                    | ETA:  0:00:02\r"
       ]
      },
      {
       "output_type": "stream",
       "stream": "stderr",
       "text": [
        " 66% |######################################                    | ETA:  0:00:02\r",
        " 67% |#######################################                   | ETA:  0:00:02\r"
       ]
      },
      {
       "output_type": "stream",
       "stream": "stderr",
       "text": [
        " 69% |########################################                  | ETA:  0:00:01\r",
        " 70% |########################################                  | ETA:  0:00:01\r"
       ]
      },
      {
       "output_type": "stream",
       "stream": "stderr",
       "text": [
        " 71% |#########################################                 | ETA:  0:00:01\r",
        " 72% |#########################################                 | ETA:  0:00:01\r"
       ]
      },
      {
       "output_type": "stream",
       "stream": "stderr",
       "text": [
        " 73% |##########################################                | ETA:  0:00:01\r",
        " 74% |##########################################                | ETA:  0:00:01\r"
       ]
      },
      {
       "output_type": "stream",
       "stream": "stderr",
       "text": [
        " 75% |###########################################               | ETA:  0:00:01\r",
        " 76% |############################################              | ETA:  0:00:01\r"
       ]
      },
      {
       "output_type": "stream",
       "stream": "stderr",
       "text": [
        " 77% |############################################              | ETA:  0:00:01\r",
        " 78% |#############################################             | ETA:  0:00:01\r"
       ]
      },
      {
       "output_type": "stream",
       "stream": "stderr",
       "text": [
        " 79% |#############################################             | ETA:  0:00:01\r",
        " 80% |##############################################            | ETA:  0:00:01\r"
       ]
      },
      {
       "output_type": "stream",
       "stream": "stderr",
       "text": [
        " 81% |###############################################           | ETA:  0:00:01\r",
        " 82% |###############################################           | ETA:  0:00:01\r"
       ]
      },
      {
       "output_type": "stream",
       "stream": "stderr",
       "text": [
        " 83% |################################################          | ETA:  0:00:01\r",
        " 84% |################################################          | ETA:  0:00:01\r"
       ]
      },
      {
       "output_type": "stream",
       "stream": "stderr",
       "text": [
        " 85% |#################################################         | ETA:  0:00:00\r",
        " 86% |##################################################        | ETA:  0:00:00\r"
       ]
      },
      {
       "output_type": "stream",
       "stream": "stderr",
       "text": [
        " 87% |##################################################        | ETA:  0:00:00\r",
        " 88% |###################################################       | ETA:  0:00:00\r"
       ]
      },
      {
       "output_type": "stream",
       "stream": "stderr",
       "text": [
        " 89% |###################################################       | ETA:  0:00:00\r",
        " 90% |####################################################      | ETA:  0:00:00\r"
       ]
      },
      {
       "output_type": "stream",
       "stream": "stderr",
       "text": [
        " 91% |####################################################      | ETA:  0:00:00\r",
        " 92% |#####################################################     | ETA:  0:00:00\r"
       ]
      },
      {
       "output_type": "stream",
       "stream": "stderr",
       "text": [
        " 93% |######################################################    | ETA:  0:00:00\r",
        " 94% |######################################################    | ETA:  0:00:00\r"
       ]
      },
      {
       "output_type": "stream",
       "stream": "stderr",
       "text": [
        " 95% |#######################################################   | ETA:  0:00:00\r",
        " 96% |#######################################################   | ETA:  0:00:00\r"
       ]
      },
      {
       "output_type": "stream",
       "stream": "stderr",
       "text": [
        " 97% |########################################################  | ETA:  0:00:00\r",
        " 98% |######################################################### | ETA:  0:00:00\r"
       ]
      },
      {
       "output_type": "stream",
       "stream": "stdout",
       "text": [
        "\n",
        "\n",
        "MCEqRun::_forward_euler(): time elapsed during integration: 6.3258368969 sec"
       ]
      },
      {
       "output_type": "stream",
       "stream": "stdout",
       "text": [
        "\n",
        "MCEqRun::set_theta_deg():  90.0\n",
        "atmospheres::_load_cache(): loading cache.\n",
        "MSIS00Atmosphere::calculate_density_spline(): Calculating spline of rho(X) for zenith 90.0 degrees.\n",
        ".. took 3.76s"
       ]
      },
      {
       "output_type": "stream",
       "stream": "stdout",
       "text": [
        "\n",
        "Average spline error: "
       ]
      },
      {
       "output_type": "stream",
       "stream": "stderr",
       "text": [
        " 99% |######################################################### | ETA:  0:00:00\r",
        "100% |##########################################################| Time: 0:00:06\r\n",
        "  0% |                                                         | ETA:  --:--:--\r"
       ]
      },
      {
       "output_type": "stream",
       "stream": "stderr",
       "text": [
        "  1% |                                                          | ETA:  0:01:22\r",
        "  2% |#                                                         | ETA:  0:00:43\r"
       ]
      },
      {
       "output_type": "stream",
       "stream": "stderr",
       "text": [
        "  3% |#                                                         | ETA:  0:00:29\r",
        "  4% |##                                                        | ETA:  0:00:22\r",
        "  5% |##                                                        | ETA:  0:00:18\r",
        "  6% |###                                                       | ETA:  0:00:15\r"
       ]
      },
      {
       "output_type": "stream",
       "stream": "stderr",
       "text": [
        "  7% |####                                                      | ETA:  0:00:13\r",
        "  8% |####                                                      | ETA:  0:00:11\r",
        "  9% |#####                                                     | ETA:  0:00:10\r",
        " 10% |#####                                                     | ETA:  0:00:09\r",
        " 11% |######                                                    | ETA:  0:00:08\r",
        " 12% |######                                                    | ETA:  0:00:07\r"
       ]
      },
      {
       "output_type": "stream",
       "stream": "stderr",
       "text": [
        " 13% |#######                                                   | ETA:  0:00:07\r",
        " 14% |########                                                  | ETA:  0:00:06\r",
        " 15% |########                                                  | ETA:  0:00:06\r",
        " 16% |#########                                                 | ETA:  0:00:05\r",
        " 17% |#########                                                 | ETA:  0:00:05\r",
        " 18% |##########                                                | ETA:  0:00:05\r",
        " 19% |###########                                               | ETA:  0:00:04\r"
       ]
      },
      {
       "output_type": "stream",
       "stream": "stderr",
       "text": [
        " 20% |###########                                               | ETA:  0:00:04\r",
        " 21% |############                                              | ETA:  0:00:04\r",
        " 22% |############                                              | ETA:  0:00:04\r",
        " 23% |#############                                             | ETA:  0:00:03\r",
        " 24% |#############                                             | ETA:  0:00:03\r",
        " 25% |##############                                            | ETA:  0:00:03\r",
        " 26% |###############                                           | ETA:  0:00:03\r",
        " 27% |###############                                           | ETA:  0:00:03\r",
        " 28% |################                                          | ETA:  0:00:03\r"
       ]
      },
      {
       "output_type": "stream",
       "stream": "stderr",
       "text": [
        " 29% |################                                          | ETA:  0:00:02\r",
        " 30% |#################                                         | ETA:  0:00:02\r",
        " 31% |##################                                        | ETA:  0:00:02\r",
        " 32% |##################                                        | ETA:  0:00:02\r",
        " 33% |###################                                       | ETA:  0:00:02\r",
        " 34% |###################                                       | ETA:  0:00:02\r",
        " 35% |####################                                      | ETA:  0:00:02\r",
        " 36% |####################                                      | ETA:  0:00:02\r",
        " 37% |#####################                                     | ETA:  0:00:02\r",
        " 38% |######################                                    | ETA:  0:00:02\r",
        " 39% |######################                                    | ETA:  0:00:01\r"
       ]
      },
      {
       "output_type": "stream",
       "stream": "stderr",
       "text": [
        " 40% |#######################                                   | ETA:  0:00:01\r",
        " 41% |#######################                                   | ETA:  0:00:01\r",
        " 42% |########################                                  | ETA:  0:00:01\r",
        " 43% |########################                                  | ETA:  0:00:01\r",
        " 44% |#########################                                 | ETA:  0:00:01\r",
        " 45% |##########################                                | ETA:  0:00:01\r",
        " 46% |##########################                                | ETA:  0:00:01\r",
        " 47% |###########################                               | ETA:  0:00:01\r",
        " 48% |###########################                               | ETA:  0:00:01\r",
        " 49% |############################                              | ETA:  0:00:01\r",
        " 50% |#############################                             | ETA:  0:00:01\r",
        " 51% |#############################                             | ETA:  0:00:01\r",
        " 52% |##############################                            | ETA:  0:00:01\r"
       ]
      },
      {
       "output_type": "stream",
       "stream": "stderr",
       "text": [
        " 53% |##############################                            | ETA:  0:00:01\r",
        " 54% |###############################                           | ETA:  0:00:01\r",
        " 55% |###############################                           | ETA:  0:00:01\r",
        " 56% |################################                          | ETA:  0:00:01\r",
        " 57% |#################################                         | ETA:  0:00:00\r",
        " 58% |#################################                         | ETA:  0:00:00\r",
        " 59% |##################################                        | ETA:  0:00:00\r",
        " 60% |##################################                        | ETA:  0:00:00\r",
        " 61% |###################################                       | ETA:  0:00:00\r",
        " 62% |####################################                      | ETA:  0:00:00\r",
        " 63% |####################################                      | ETA:  0:00:00\r",
        " 64% |#####################################                     | ETA:  0:00:00\r",
        " 65% |#####################################                     | ETA:  0:00:00\r",
        " 66% |######################################                    | ETA:  0:00:00\r"
       ]
      },
      {
       "output_type": "stream",
       "stream": "stderr",
       "text": [
        " 67% |######################################                    | ETA:  0:00:00\r",
        " 68% |#######################################                   | ETA:  0:00:00\r",
        " 69% |########################################                  | ETA:  0:00:00\r",
        " 70% |########################################                  | ETA:  0:00:00\r",
        " 71% |#########################################                 | ETA:  0:00:00\r",
        " 72% |#########################################                 | ETA:  0:00:00\r",
        " 73% |##########################################                | ETA:  0:00:00\r",
        " 74% |###########################################               | ETA:  0:00:00\r",
        " 75% |###########################################               | ETA:  0:00:00\r",
        " 76% |############################################              | ETA:  0:00:00\r",
        " 77% |############################################              | ETA:  0:00:00\r",
        " 78% |#############################################             | ETA:  0:00:00\r",
        " 79% |#############################################             | ETA:  0:00:00\r",
        " 80% |##############################################            | ETA:  0:00:00\r"
       ]
      },
      {
       "output_type": "stream",
       "stream": "stderr",
       "text": [
        " 81% |###############################################           | ETA:  0:00:00\r",
        " 82% |###############################################           | ETA:  0:00:00\r",
        " 83% |################################################          | ETA:  0:00:00\r",
        " 84% |################################################          | ETA:  0:00:00\r",
        " 85% |#################################################         | ETA:  0:00:00\r",
        " 86% |##################################################        | ETA:  0:00:00\r",
        " 87% |##################################################        | ETA:  0:00:00\r",
        " 88% |###################################################       | ETA:  0:00:00\r",
        " 89% |###################################################       | ETA:  0:00:00\r",
        " 90% |####################################################      | ETA:  0:00:00\r",
        " 91% |####################################################      | ETA:  0:00:00\r",
        " 92% |#####################################################     | ETA:  0:00:00\r",
        " 93% |######################################################    | ETA:  0:00:00\r",
        " 94% |######################################################    | ETA:  0:00:00\r",
        " 95% |#######################################################   | ETA:  0:00:00\r"
       ]
      },
      {
       "output_type": "stream",
       "stream": "stdout",
       "text": [
        "1.99377014854e-16\n",
        "density_profiles::_dump_cache() dumping cache.\n",
        "./data/atm_cache.ppd\n",
        "MCEqRun::_calculate_integration_path():\n",
        "MCEqRun::_forward_euler(): Solver will perform 50483 integration steps."
       ]
      },
      {
       "output_type": "stream",
       "stream": "stderr",
       "text": [
        " 96% |#######################################################   | ETA:  0:00:00\r",
        " 97% |########################################################  | ETA:  0:00:00\r",
        " 98% |######################################################### | ETA:  0:00:00\r",
        " 99% |######################################################### | ETA:  0:00:00\r",
        "100% |##########################################################| Time: 0:00:01\r\n",
        "  0% |                                                         | ETA:  --:--:--\r",
        "  1% |                                                          | ETA:  0:01:04\r"
       ]
      },
      {
       "output_type": "stream",
       "stream": "stderr",
       "text": [
        "  2% |#                                                         | ETA:  0:01:03\r",
        "  3% |#                                                         | ETA:  0:01:03\r"
       ]
      },
      {
       "output_type": "stream",
       "stream": "stderr",
       "text": [
        "  4% |##                                                        | ETA:  0:01:02\r",
        "  5% |##                                                        | ETA:  0:01:02\r"
       ]
      },
      {
       "output_type": "stream",
       "stream": "stderr",
       "text": [
        "  6% |###                                                       | ETA:  0:01:01\r",
        "  7% |####                                                      | ETA:  0:01:00\r"
       ]
      },
      {
       "output_type": "stream",
       "stream": "stderr",
       "text": [
        "  8% |####                                                      | ETA:  0:00:59\r",
        "  9% |#####                                                     | ETA:  0:00:59\r"
       ]
      },
      {
       "output_type": "stream",
       "stream": "stderr",
       "text": [
        " 10% |#####                                                     | ETA:  0:00:59\r",
        " 11% |######                                                    | ETA:  0:00:58\r"
       ]
      },
      {
       "output_type": "stream",
       "stream": "stderr",
       "text": [
        " 12% |######                                                    | ETA:  0:00:58\r",
        " 13% |#######                                                   | ETA:  0:00:58\r"
       ]
      },
      {
       "output_type": "stream",
       "stream": "stderr",
       "text": [
        " 14% |########                                                  | ETA:  0:00:57\r",
        " 15% |########                                                  | ETA:  0:00:56\r"
       ]
      },
      {
       "output_type": "stream",
       "stream": "stderr",
       "text": [
        " 16% |#########                                                 | ETA:  0:00:56\r",
        " 17% |#########                                                 | ETA:  0:00:55\r"
       ]
      },
      {
       "output_type": "stream",
       "stream": "stderr",
       "text": [
        " 18% |##########                                                | ETA:  0:00:54\r",
        " 19% |###########                                               | ETA:  0:00:53\r"
       ]
      },
      {
       "output_type": "stream",
       "stream": "stderr",
       "text": [
        " 20% |###########                                               | ETA:  0:00:53\r",
        " 21% |############                                              | ETA:  0:00:52\r"
       ]
      },
      {
       "output_type": "stream",
       "stream": "stderr",
       "text": [
        " 22% |############                                              | ETA:  0:00:52\r",
        " 23% |#############                                             | ETA:  0:00:51\r"
       ]
      },
      {
       "output_type": "stream",
       "stream": "stderr",
       "text": [
        " 24% |#############                                             | ETA:  0:00:50\r",
        " 25% |##############                                            | ETA:  0:00:50\r"
       ]
      },
      {
       "output_type": "stream",
       "stream": "stderr",
       "text": [
        " 26% |###############                                           | ETA:  0:00:49\r",
        " 27% |###############                                           | ETA:  0:00:49\r"
       ]
      },
      {
       "output_type": "stream",
       "stream": "stderr",
       "text": [
        " 28% |################                                          | ETA:  0:00:48\r",
        " 29% |################                                          | ETA:  0:00:48\r"
       ]
      },
      {
       "output_type": "stream",
       "stream": "stderr",
       "text": [
        " 30% |#################                                         | ETA:  0:00:47\r",
        " 31% |#################                                         | ETA:  0:00:46\r"
       ]
      },
      {
       "output_type": "stream",
       "stream": "stderr",
       "text": [
        " 32% |##################                                        | ETA:  0:00:46\r",
        " 33% |###################                                       | ETA:  0:00:45\r"
       ]
      },
      {
       "output_type": "stream",
       "stream": "stderr",
       "text": [
        " 34% |###################                                       | ETA:  0:00:45\r",
        " 35% |####################                                      | ETA:  0:00:44\r"
       ]
      },
      {
       "output_type": "stream",
       "stream": "stderr",
       "text": [
        " 36% |####################                                      | ETA:  0:00:43\r",
        " 37% |#####################                                     | ETA:  0:00:43\r"
       ]
      },
      {
       "output_type": "stream",
       "stream": "stderr",
       "text": [
        " 38% |######################                                    | ETA:  0:00:42\r",
        " 39% |######################                                    | ETA:  0:00:41\r"
       ]
      },
      {
       "output_type": "stream",
       "stream": "stderr",
       "text": [
        " 40% |#######################                                   | ETA:  0:00:40\r",
        " 41% |#######################                                   | ETA:  0:00:40\r"
       ]
      },
      {
       "output_type": "stream",
       "stream": "stderr",
       "text": [
        " 42% |########################                                  | ETA:  0:00:39\r",
        " 43% |########################                                  | ETA:  0:00:38\r"
       ]
      },
      {
       "output_type": "stream",
       "stream": "stderr",
       "text": [
        " 44% |#########################                                 | ETA:  0:00:38\r",
        " 45% |##########################                                | ETA:  0:00:37\r"
       ]
      },
      {
       "output_type": "stream",
       "stream": "stderr",
       "text": [
        " 46% |##########################                                | ETA:  0:00:36\r",
        " 47% |###########################                               | ETA:  0:00:36\r"
       ]
      },
      {
       "output_type": "stream",
       "stream": "stderr",
       "text": [
        " 48% |###########################                               | ETA:  0:00:35\r",
        " 49% |############################                              | ETA:  0:00:34\r"
       ]
      },
      {
       "output_type": "stream",
       "stream": "stderr",
       "text": [
        " 50% |#############################                             | ETA:  0:00:34\r",
        " 51% |#############################                             | ETA:  0:00:33\r"
       ]
      },
      {
       "output_type": "stream",
       "stream": "stderr",
       "text": [
        " 52% |##############################                            | ETA:  0:00:32\r",
        " 53% |##############################                            | ETA:  0:00:32\r"
       ]
      },
      {
       "output_type": "stream",
       "stream": "stderr",
       "text": [
        " 54% |###############################                           | ETA:  0:00:31\r",
        " 55% |###############################                           | ETA:  0:00:30\r"
       ]
      },
      {
       "output_type": "stream",
       "stream": "stderr",
       "text": [
        " 56% |################################                          | ETA:  0:00:30\r",
        " 57% |#################################                         | ETA:  0:00:29\r"
       ]
      },
      {
       "output_type": "stream",
       "stream": "stderr",
       "text": [
        " 58% |#################################                         | ETA:  0:00:28\r",
        " 59% |##################################                        | ETA:  0:00:27\r"
       ]
      },
      {
       "output_type": "stream",
       "stream": "stderr",
       "text": [
        " 60% |##################################                        | ETA:  0:00:27\r",
        " 61% |###################################                       | ETA:  0:00:26\r"
       ]
      },
      {
       "output_type": "stream",
       "stream": "stderr",
       "text": [
        " 62% |###################################                       | ETA:  0:00:25\r",
        " 63% |####################################                      | ETA:  0:00:25\r"
       ]
      },
      {
       "output_type": "stream",
       "stream": "stderr",
       "text": [
        " 64% |#####################################                     | ETA:  0:00:24\r",
        " 65% |#####################################                     | ETA:  0:00:23\r"
       ]
      },
      {
       "output_type": "stream",
       "stream": "stderr",
       "text": [
        " 66% |######################################                    | ETA:  0:00:23\r",
        " 67% |######################################                    | ETA:  0:00:22\r"
       ]
      },
      {
       "output_type": "stream",
       "stream": "stderr",
       "text": [
        " 68% |#######################################                   | ETA:  0:00:21\r",
        " 69% |########################################                  | ETA:  0:00:20\r"
       ]
      },
      {
       "output_type": "stream",
       "stream": "stderr",
       "text": [
        " 70% |########################################                  | ETA:  0:00:20\r",
        " 71% |#########################################                 | ETA:  0:00:19\r"
       ]
      },
      {
       "output_type": "stream",
       "stream": "stderr",
       "text": [
        " 72% |#########################################                 | ETA:  0:00:18\r",
        " 73% |##########################################                | ETA:  0:00:18\r"
       ]
      },
      {
       "output_type": "stream",
       "stream": "stderr",
       "text": [
        " 74% |##########################################                | ETA:  0:00:17\r",
        " 75% |###########################################               | ETA:  0:00:16\r"
       ]
      },
      {
       "output_type": "stream",
       "stream": "stderr",
       "text": [
        " 76% |############################################              | ETA:  0:00:16\r",
        " 77% |############################################              | ETA:  0:00:15\r"
       ]
      },
      {
       "output_type": "stream",
       "stream": "stderr",
       "text": [
        " 78% |#############################################             | ETA:  0:00:14\r",
        " 79% |#############################################             | ETA:  0:00:14\r"
       ]
      },
      {
       "output_type": "stream",
       "stream": "stderr",
       "text": [
        " 80% |##############################################            | ETA:  0:00:13\r",
        " 81% |##############################################            | ETA:  0:00:12\r"
       ]
      },
      {
       "output_type": "stream",
       "stream": "stderr",
       "text": [
        " 82% |###############################################           | ETA:  0:00:12\r",
        " 83% |################################################          | ETA:  0:00:11\r"
       ]
      },
      {
       "output_type": "stream",
       "stream": "stderr",
       "text": [
        " 84% |################################################          | ETA:  0:00:10\r",
        " 85% |#################################################         | ETA:  0:00:10\r"
       ]
      },
      {
       "output_type": "stream",
       "stream": "stderr",
       "text": [
        " 86% |#################################################         | ETA:  0:00:09\r",
        " 87% |##################################################        | ETA:  0:00:08\r"
       ]
      },
      {
       "output_type": "stream",
       "stream": "stderr",
       "text": [
        " 88% |###################################################       | ETA:  0:00:08\r",
        " 89% |###################################################       | ETA:  0:00:07\r"
       ]
      },
      {
       "output_type": "stream",
       "stream": "stderr",
       "text": [
        " 90% |####################################################      | ETA:  0:00:06\r",
        " 91% |####################################################      | ETA:  0:00:06\r"
       ]
      },
      {
       "output_type": "stream",
       "stream": "stderr",
       "text": [
        " 92% |#####################################################     | ETA:  0:00:05\r",
        " 93% |#####################################################     | ETA:  0:00:04\r"
       ]
      },
      {
       "output_type": "stream",
       "stream": "stderr",
       "text": [
        " 94% |######################################################    | ETA:  0:00:04\r",
        " 95% |#######################################################   | ETA:  0:00:03\r"
       ]
      },
      {
       "output_type": "stream",
       "stream": "stderr",
       "text": [
        " 95% |#######################################################   | ETA:  0:00:02\r",
        " 96% |########################################################  | ETA:  0:00:02\r"
       ]
      },
      {
       "output_type": "stream",
       "stream": "stderr",
       "text": [
        " 97% |########################################################  | ETA:  0:00:01\r",
        " 97% |########################################################  | ETA:  0:00:01\r"
       ]
      },
      {
       "output_type": "stream",
       "stream": "stderr",
       "text": [
        " 98% |########################################################  | ETA:  0:00:01\r",
        " 98% |######################################################### | ETA:  0:00:01\r"
       ]
      },
      {
       "output_type": "stream",
       "stream": "stderr",
       "text": [
        " 98% |######################################################### | ETA:  0:00:00\r",
        " 99% |######################################################### | ETA:  0:00:00\r"
       ]
      },
      {
       "output_type": "stream",
       "stream": "stderr",
       "text": [
        " 99% |######################################################### | ETA:  0:00:00\r",
        "100% |##########################################################| Time: 0:01:13\r"
       ]
      },
      {
       "output_type": "stream",
       "stream": "stdout",
       "text": [
        "\n",
        "\n",
        "MCEqRun::_forward_euler(): time elapsed during integration: 73.9201898575 sec"
       ]
      },
      {
       "output_type": "stream",
       "stream": "stdout",
       "text": [
        "\n",
        "MCEqRun::set_atm_model():  CORSIKA BK_USStd None\n",
        "MCEqRun::set_theta_deg():  0.0\n",
        "atmospheres::_load_cache(): loading cache.\n",
        "CorsikaAtmosphere::calculate_density_spline(): Calculating spline of rho(X) for zenith 0.0 degrees.\n",
        ".. took 4.84s"
       ]
      },
      {
       "output_type": "stream",
       "stream": "stderr",
       "text": [
        "\n",
        "  0% |                                                         | ETA:  --:--:--\r"
       ]
      },
      {
       "output_type": "stream",
       "stream": "stdout",
       "text": [
        "\n",
        "Average spline error: 2.02657521149e-16\n",
        "density_profiles::_dump_cache() dumping cache.\n",
        "./data/atm_cache.ppd\n",
        "MCEqRun::_calculate_integration_path():\n",
        "MCEqRun::_forward_euler(): Solver will perform 4729 integration steps."
       ]
      },
      {
       "output_type": "stream",
       "stream": "stderr",
       "text": [
        "  1% |                                                          | ETA:  0:00:10\r",
        "  2% |#                                                         | ETA:  0:00:05\r",
        "  3% |#                                                         | ETA:  0:00:03\r",
        "  4% |##                                                        | ETA:  0:00:02\r",
        "  5% |##                                                        | ETA:  0:00:02\r",
        "  6% |###                                                       | ETA:  0:00:01\r",
        "  7% |####                                                      | ETA:  0:00:01\r",
        "  8% |####                                                      | ETA:  0:00:01\r",
        "  9% |#####                                                     | ETA:  0:00:01\r",
        " 10% |#####                                                     | ETA:  0:00:01\r",
        " 11% |######                                                    | ETA:  0:00:01\r",
        " 12% |#######                                                   | ETA:  0:00:00\r",
        " 13% |#######                                                   | ETA:  0:00:00\r",
        " 14% |########                                                  | ETA:  0:00:00\r",
        " 15% |########                                                  | ETA:  0:00:00\r",
        " 16% |#########                                                 | ETA:  0:00:00\r",
        " 17% |##########                                                | ETA:  0:00:00\r",
        " 18% |##########                                                | ETA:  0:00:00\r",
        " 19% |###########                                               | ETA:  0:00:00\r",
        " 20% |###########                                               | ETA:  0:00:00\r",
        " 21% |############                                              | ETA:  0:00:00\r",
        " 22% |#############                                             | ETA:  0:00:00\r",
        " 23% |#############                                             | ETA:  0:00:00\r",
        " 24% |##############                                            | ETA:  0:00:00\r",
        " 25% |##############                                            | ETA:  0:00:00\r",
        " 26% |###############                                           | ETA:  0:00:00\r",
        " 27% |################                                          | ETA:  0:00:00\r",
        " 28% |################                                          | ETA:  0:00:00\r",
        " 29% |#################                                         | ETA:  0:00:00\r",
        " 30% |#################                                         | ETA:  0:00:00\r",
        " 31% |##################                                        | ETA:  0:00:00\r",
        " 32% |###################                                       | ETA:  0:00:00\r",
        " 34% |###################                                       | ETA:  0:00:00\r",
        " 35% |####################                                      | ETA:  0:00:00\r",
        " 36% |####################                                      | ETA:  0:00:00\r",
        " 37% |#####################                                     | ETA:  0:00:00\r",
        " 38% |######################                                    | ETA:  0:00:00\r",
        " 39% |######################                                    | ETA:  0:00:00\r",
        " 40% |#######################                                   | ETA:  0:00:00\r",
        " 41% |########################                                  | ETA:  0:00:00\r",
        " 42% |########################                                  | ETA:  0:00:00\r",
        " 43% |#########################                                 | ETA:  0:00:00\r",
        " 44% |#########################                                 | ETA:  0:00:00\r",
        " 45% |##########################                                | ETA:  0:00:00\r",
        " 46% |###########################                               | ETA:  0:00:00\r",
        " 47% |###########################                               | ETA:  0:00:00\r",
        " 48% |############################                              | ETA:  0:00:00\r",
        " 50% |#############################                             | ETA:  0:00:00\r",
        " 51% |#############################                             | ETA:  0:00:00\r",
        " 52% |##############################                            | ETA:  0:00:00\r",
        " 53% |##############################                            | ETA:  0:00:00\r",
        " 54% |###############################                           | ETA:  0:00:00\r",
        " 55% |################################                          | ETA:  0:00:00\r",
        " 56% |################################                          | ETA:  0:00:00\r",
        " 57% |#################################                         | ETA:  0:00:00\r",
        " 58% |##################################                        | ETA:  0:00:00\r",
        " 59% |##################################                        | ETA:  0:00:00\r",
        " 60% |###################################                       | ETA:  0:00:00\r",
        " 62% |###################################                       | ETA:  0:00:00\r",
        " 63% |####################################                      | ETA:  0:00:00\r",
        " 64% |#####################################                     | ETA:  0:00:00\r",
        " 65% |######################################                    | ETA:  0:00:00\r",
        " 66% |######################################                    | ETA:  0:00:00\r",
        " 67% |#######################################                   | ETA:  0:00:00\r",
        " 68% |#######################################                   | ETA:  0:00:00\r",
        " 69% |########################################                  | ETA:  0:00:00\r",
        " 70% |#########################################                 | ETA:  0:00:00\r",
        " 71% |#########################################                 | ETA:  0:00:00\r",
        " 72% |##########################################                | ETA:  0:00:00\r",
        " 73% |##########################################                | ETA:  0:00:00\r",
        " 75% |###########################################               | ETA:  0:00:00\r",
        " 76% |############################################              | ETA:  0:00:00\r",
        " 77% |############################################              | ETA:  0:00:00\r",
        " 78% |#############################################             | ETA:  0:00:00\r",
        " 79% |##############################################            | ETA:  0:00:00\r",
        " 80% |##############################################            | ETA:  0:00:00\r",
        " 82% |###############################################           | ETA:  0:00:00\r",
        " 83% |################################################          | ETA:  0:00:00\r",
        " 84% |#################################################         | ETA:  0:00:00\r",
        " 85% |#################################################         | ETA:  0:00:00\r",
        " 86% |##################################################        | ETA:  0:00:00\r",
        " 87% |##################################################        | ETA:  0:00:00\r",
        " 88% |###################################################       | ETA:  0:00:00\r",
        " 89% |####################################################      | ETA:  0:00:00\r",
        " 90% |####################################################      | ETA:  0:00:00\r",
        " 91% |#####################################################     | ETA:  0:00:00\r",
        " 93% |#####################################################     | ETA:  0:00:00\r",
        " 94% |######################################################    | ETA:  0:00:00\r",
        " 95% |#######################################################   | ETA:  0:00:00\r",
        " 96% |#######################################################   | ETA:  0:00:00\r",
        " 97% |########################################################  | ETA:  0:00:00\r",
        " 98% |######################################################### | ETA:  0:00:00\r",
        " 99% |######################################################### | ETA:  0:00:00\r",
        "100% |##########################################################| Time: 0:00:00\r\n",
        "  0% |                                                         | ETA:  --:--:--\r",
        "  1% |                                                          | ETA:  0:00:06\r"
       ]
      },
      {
       "output_type": "stream",
       "stream": "stderr",
       "text": [
        "  2% |#                                                         | ETA:  0:00:06\r",
        "  3% |#                                                         | ETA:  0:00:06\r"
       ]
      },
      {
       "output_type": "stream",
       "stream": "stderr",
       "text": [
        "  4% |##                                                        | ETA:  0:00:06\r",
        "  5% |##                                                        | ETA:  0:00:06\r"
       ]
      },
      {
       "output_type": "stream",
       "stream": "stderr",
       "text": [
        "  6% |###                                                       | ETA:  0:00:06\r",
        "  7% |####                                                      | ETA:  0:00:05\r"
       ]
      },
      {
       "output_type": "stream",
       "stream": "stderr",
       "text": [
        "  8% |####                                                      | ETA:  0:00:05\r",
        "  9% |#####                                                     | ETA:  0:00:05\r"
       ]
      },
      {
       "output_type": "stream",
       "stream": "stderr",
       "text": [
        " 10% |#####                                                     | ETA:  0:00:05\r",
        " 11% |######                                                    | ETA:  0:00:05\r"
       ]
      },
      {
       "output_type": "stream",
       "stream": "stderr",
       "text": [
        " 12% |#######                                                   | ETA:  0:00:05\r",
        " 13% |#######                                                   | ETA:  0:00:05\r"
       ]
      },
      {
       "output_type": "stream",
       "stream": "stderr",
       "text": [
        " 14% |########                                                  | ETA:  0:00:05\r",
        " 15% |########                                                  | ETA:  0:00:05\r"
       ]
      },
      {
       "output_type": "stream",
       "stream": "stderr",
       "text": [
        " 16% |#########                                                 | ETA:  0:00:05\r",
        " 17% |##########                                                | ETA:  0:00:05\r"
       ]
      },
      {
       "output_type": "stream",
       "stream": "stderr",
       "text": [
        " 18% |##########                                                | ETA:  0:00:05\r",
        " 19% |###########                                               | ETA:  0:00:05\r"
       ]
      },
      {
       "output_type": "stream",
       "stream": "stderr",
       "text": [
        " 20% |###########                                               | ETA:  0:00:05\r",
        " 21% |############                                              | ETA:  0:00:05\r"
       ]
      },
      {
       "output_type": "stream",
       "stream": "stderr",
       "text": [
        " 22% |############                                              | ETA:  0:00:04\r",
        " 23% |#############                                             | ETA:  0:00:04\r"
       ]
      },
      {
       "output_type": "stream",
       "stream": "stderr",
       "text": [
        " 24% |##############                                            | ETA:  0:00:04\r",
        " 25% |##############                                            | ETA:  0:00:04\r"
       ]
      },
      {
       "output_type": "stream",
       "stream": "stderr",
       "text": [
        " 26% |###############                                           | ETA:  0:00:04\r",
        " 27% |###############                                           | ETA:  0:00:04\r"
       ]
      },
      {
       "output_type": "stream",
       "stream": "stderr",
       "text": [
        " 28% |################                                          | ETA:  0:00:04\r",
        " 29% |#################                                         | ETA:  0:00:04\r"
       ]
      },
      {
       "output_type": "stream",
       "stream": "stderr",
       "text": [
        " 30% |#################                                         | ETA:  0:00:04\r",
        " 31% |##################                                        | ETA:  0:00:04\r"
       ]
      },
      {
       "output_type": "stream",
       "stream": "stderr",
       "text": [
        " 32% |##################                                        | ETA:  0:00:04\r",
        " 33% |###################                                       | ETA:  0:00:04\r"
       ]
      },
      {
       "output_type": "stream",
       "stream": "stderr",
       "text": [
        " 34% |####################                                      | ETA:  0:00:04\r",
        " 35% |####################                                      | ETA:  0:00:04\r"
       ]
      },
      {
       "output_type": "stream",
       "stream": "stderr",
       "text": [
        " 36% |#####################                                     | ETA:  0:00:04\r",
        " 37% |#####################                                     | ETA:  0:00:04\r"
       ]
      },
      {
       "output_type": "stream",
       "stream": "stderr",
       "text": [
        " 38% |######################                                    | ETA:  0:00:03\r",
        " 39% |######################                                    | ETA:  0:00:03\r"
       ]
      },
      {
       "output_type": "stream",
       "stream": "stderr",
       "text": [
        " 40% |#######################                                   | ETA:  0:00:03\r",
        " 41% |########################                                  | ETA:  0:00:03\r"
       ]
      },
      {
       "output_type": "stream",
       "stream": "stderr",
       "text": [
        " 42% |########################                                  | ETA:  0:00:03\r",
        " 43% |#########################                                 | ETA:  0:00:03\r"
       ]
      },
      {
       "output_type": "stream",
       "stream": "stderr",
       "text": [
        " 44% |#########################                                 | ETA:  0:00:03\r",
        " 45% |##########################                                | ETA:  0:00:03\r"
       ]
      },
      {
       "output_type": "stream",
       "stream": "stderr",
       "text": [
        " 46% |###########################                               | ETA:  0:00:03\r",
        " 47% |###########################                               | ETA:  0:00:03\r"
       ]
      },
      {
       "output_type": "stream",
       "stream": "stderr",
       "text": [
        " 48% |############################                              | ETA:  0:00:03\r",
        " 49% |############################                              | ETA:  0:00:03\r"
       ]
      },
      {
       "output_type": "stream",
       "stream": "stderr",
       "text": [
        " 50% |#############################                             | ETA:  0:00:03\r",
        " 51% |##############################                            | ETA:  0:00:03\r"
       ]
      },
      {
       "output_type": "stream",
       "stream": "stderr",
       "text": [
        " 52% |##############################                            | ETA:  0:00:03\r",
        " 53% |###############################                           | ETA:  0:00:02\r"
       ]
      },
      {
       "output_type": "stream",
       "stream": "stderr",
       "text": [
        " 54% |###############################                           | ETA:  0:00:02\r",
        " 55% |################################                          | ETA:  0:00:02\r"
       ]
      },
      {
       "output_type": "stream",
       "stream": "stderr",
       "text": [
        " 56% |################################                          | ETA:  0:00:02\r",
        " 57% |#################################                         | ETA:  0:00:02\r"
       ]
      },
      {
       "output_type": "stream",
       "stream": "stderr",
       "text": [
        " 58% |##################################                        | ETA:  0:00:02\r",
        " 59% |##################################                        | ETA:  0:00:02\r"
       ]
      },
      {
       "output_type": "stream",
       "stream": "stderr",
       "text": [
        " 60% |###################################                       | ETA:  0:00:02\r",
        " 61% |###################################                       | ETA:  0:00:02\r"
       ]
      },
      {
       "output_type": "stream",
       "stream": "stderr",
       "text": [
        " 62% |####################################                      | ETA:  0:00:02\r",
        " 63% |#####################################                     | ETA:  0:00:02\r"
       ]
      },
      {
       "output_type": "stream",
       "stream": "stderr",
       "text": [
        " 64% |#####################################                     | ETA:  0:00:02\r",
        " 65% |######################################                    | ETA:  0:00:02\r"
       ]
      },
      {
       "output_type": "stream",
       "stream": "stderr",
       "text": [
        " 66% |######################################                    | ETA:  0:00:02\r",
        " 68% |#######################################                   | ETA:  0:00:02\r"
       ]
      },
      {
       "output_type": "stream",
       "stream": "stderr",
       "text": [
        " 69% |########################################                  | ETA:  0:00:01\r",
        " 70% |########################################                  | ETA:  0:00:01\r"
       ]
      },
      {
       "output_type": "stream",
       "stream": "stderr",
       "text": [
        " 71% |#########################################                 | ETA:  0:00:01\r",
        " 72% |#########################################                 | ETA:  0:00:01\r"
       ]
      },
      {
       "output_type": "stream",
       "stream": "stderr",
       "text": [
        " 73% |##########################################                | ETA:  0:00:01\r",
        " 74% |##########################################                | ETA:  0:00:01\r"
       ]
      },
      {
       "output_type": "stream",
       "stream": "stderr",
       "text": [
        " 75% |###########################################               | ETA:  0:00:01\r",
        " 76% |############################################              | ETA:  0:00:01\r"
       ]
      },
      {
       "output_type": "stream",
       "stream": "stderr",
       "text": [
        " 77% |############################################              | ETA:  0:00:01\r",
        " 78% |#############################################             | ETA:  0:00:01\r"
       ]
      },
      {
       "output_type": "stream",
       "stream": "stderr",
       "text": [
        " 79% |#############################################             | ETA:  0:00:01\r",
        " 80% |##############################################            | ETA:  0:00:01\r"
       ]
      },
      {
       "output_type": "stream",
       "stream": "stderr",
       "text": [
        " 81% |###############################################           | ETA:  0:00:01\r",
        " 82% |###############################################           | ETA:  0:00:01\r"
       ]
      },
      {
       "output_type": "stream",
       "stream": "stderr",
       "text": [
        " 83% |################################################          | ETA:  0:00:01\r",
        " 84% |################################################          | ETA:  0:00:01\r"
       ]
      },
      {
       "output_type": "stream",
       "stream": "stderr",
       "text": [
        " 85% |#################################################         | ETA:  0:00:00\r",
        " 86% |##################################################        | ETA:  0:00:00\r"
       ]
      },
      {
       "output_type": "stream",
       "stream": "stderr",
       "text": [
        " 87% |##################################################        | ETA:  0:00:00\r",
        " 88% |###################################################       | ETA:  0:00:00\r"
       ]
      },
      {
       "output_type": "stream",
       "stream": "stderr",
       "text": [
        " 89% |###################################################       | ETA:  0:00:00\r",
        " 90% |####################################################      | ETA:  0:00:00\r"
       ]
      },
      {
       "output_type": "stream",
       "stream": "stderr",
       "text": [
        " 91% |####################################################      | ETA:  0:00:00\r",
        " 92% |#####################################################     | ETA:  0:00:00\r"
       ]
      },
      {
       "output_type": "stream",
       "stream": "stderr",
       "text": [
        " 93% |######################################################    | ETA:  0:00:00\r",
        " 94% |######################################################    | ETA:  0:00:00\r"
       ]
      },
      {
       "output_type": "stream",
       "stream": "stderr",
       "text": [
        " 95% |#######################################################   | ETA:  0:00:00\r",
        " 96% |#######################################################   | ETA:  0:00:00\r"
       ]
      },
      {
       "output_type": "stream",
       "stream": "stderr",
       "text": [
        " 97% |########################################################  | ETA:  0:00:00\r",
        " 98% |######################################################### | ETA:  0:00:00\r"
       ]
      },
      {
       "output_type": "stream",
       "stream": "stdout",
       "text": [
        "\n",
        "\n",
        "MCEqRun::_forward_euler(): time elapsed during integration: 6.47408699989 sec"
       ]
      },
      {
       "output_type": "stream",
       "stream": "stdout",
       "text": [
        "\n",
        "MCEqRun::set_theta_deg():  90.0\n",
        "atmospheres::_load_cache(): loading cache.\n",
        "CorsikaAtmosphere::calculate_density_spline(): Calculating spline of rho(X) for zenith 90.0 degrees.\n",
        ".. took 4.95s"
       ]
      },
      {
       "output_type": "stream",
       "stream": "stderr",
       "text": [
        " 99% |######################################################### | ETA:  0:00:00\r",
        "100% |##########################################################| Time: 0:00:06\r\n",
        "  0% |                                                         | ETA:  --:--:--\r"
       ]
      },
      {
       "output_type": "stream",
       "stream": "stderr",
       "text": [
        "  1% |                                                          | ETA:  0:01:20\r",
        "  2% |#                                                         | ETA:  0:00:42\r"
       ]
      },
      {
       "output_type": "stream",
       "stream": "stderr",
       "text": [
        "  3% |#                                                         | ETA:  0:00:29\r",
        "  4% |##                                                        | ETA:  0:00:22\r",
        "  5% |##                                                        | ETA:  0:00:18\r"
       ]
      },
      {
       "output_type": "stream",
       "stream": "stderr",
       "text": [
        "  6% |###                                                       | ETA:  0:00:15\r",
        "  7% |####                                                      | ETA:  0:00:13\r",
        "  8% |####                                                      | ETA:  0:00:11\r",
        "  9% |#####                                                     | ETA:  0:00:10\r",
        " 10% |#####                                                     | ETA:  0:00:09\r"
       ]
      },
      {
       "output_type": "stream",
       "stream": "stderr",
       "text": [
        " 11% |######                                                    | ETA:  0:00:08\r",
        " 12% |######                                                    | ETA:  0:00:07\r",
        " 13% |#######                                                   | ETA:  0:00:07\r",
        " 14% |########                                                  | ETA:  0:00:06\r",
        " 15% |########                                                  | ETA:  0:00:06\r",
        " 16% |#########                                                 | ETA:  0:00:05\r",
        " 17% |#########                                                 | ETA:  0:00:05\r"
       ]
      },
      {
       "output_type": "stream",
       "stream": "stderr",
       "text": [
        " 18% |##########                                                | ETA:  0:00:05\r",
        " 19% |###########                                               | ETA:  0:00:04\r",
        " 20% |###########                                               | ETA:  0:00:04\r",
        " 21% |############                                              | ETA:  0:00:04\r",
        " 22% |############                                              | ETA:  0:00:04\r",
        " 23% |#############                                             | ETA:  0:00:03\r",
        " 24% |#############                                             | ETA:  0:00:03\r",
        " 25% |##############                                            | ETA:  0:00:03\r"
       ]
      },
      {
       "output_type": "stream",
       "stream": "stderr",
       "text": [
        " 26% |###############                                           | ETA:  0:00:03\r",
        " 27% |###############                                           | ETA:  0:00:03\r",
        " 28% |################                                          | ETA:  0:00:03\r",
        " 29% |################                                          | ETA:  0:00:02\r",
        " 30% |#################                                         | ETA:  0:00:02\r",
        " 31% |##################                                        | ETA:  0:00:02\r",
        " 32% |##################                                        | ETA:  0:00:02\r",
        " 33% |###################                                       | ETA:  0:00:02\r",
        " 34% |###################                                       | ETA:  0:00:02\r",
        " 35% |####################                                      | ETA:  0:00:02\r"
       ]
      },
      {
       "output_type": "stream",
       "stream": "stderr",
       "text": [
        " 36% |####################                                      | ETA:  0:00:02\r",
        " 37% |#####################                                     | ETA:  0:00:02\r",
        " 38% |######################                                    | ETA:  0:00:02\r",
        " 39% |######################                                    | ETA:  0:00:01\r",
        " 40% |#######################                                   | ETA:  0:00:01\r",
        " 41% |#######################                                   | ETA:  0:00:01\r",
        " 42% |########################                                  | ETA:  0:00:01\r",
        " 43% |########################                                  | ETA:  0:00:01\r",
        " 44% |#########################                                 | ETA:  0:00:01\r",
        " 45% |##########################                                | ETA:  0:00:01\r",
        " 46% |##########################                                | ETA:  0:00:01\r"
       ]
      },
      {
       "output_type": "stream",
       "stream": "stderr",
       "text": [
        " 47% |###########################                               | ETA:  0:00:01\r",
        " 48% |###########################                               | ETA:  0:00:01\r",
        " 49% |############################                              | ETA:  0:00:01\r",
        " 50% |#############################                             | ETA:  0:00:01\r",
        " 51% |#############################                             | ETA:  0:00:01\r",
        " 52% |##############################                            | ETA:  0:00:01\r",
        " 53% |##############################                            | ETA:  0:00:01\r",
        " 54% |###############################                           | ETA:  0:00:01\r",
        " 55% |###############################                           | ETA:  0:00:01\r",
        " 56% |################################                          | ETA:  0:00:01\r",
        " 57% |#################################                         | ETA:  0:00:01\r",
        " 58% |#################################                         | ETA:  0:00:00\r",
        " 59% |##################################                        | ETA:  0:00:00\r"
       ]
      },
      {
       "output_type": "stream",
       "stream": "stderr",
       "text": [
        " 60% |##################################                        | ETA:  0:00:00\r",
        " 61% |###################################                       | ETA:  0:00:00\r",
        " 62% |####################################                      | ETA:  0:00:00\r",
        " 63% |####################################                      | ETA:  0:00:00\r",
        " 64% |#####################################                     | ETA:  0:00:00\r",
        " 65% |#####################################                     | ETA:  0:00:00\r",
        " 66% |######################################                    | ETA:  0:00:00\r",
        " 67% |######################################                    | ETA:  0:00:00\r",
        " 68% |#######################################                   | ETA:  0:00:00\r",
        " 69% |########################################                  | ETA:  0:00:00\r",
        " 70% |########################################                  | ETA:  0:00:00\r",
        " 71% |#########################################                 | ETA:  0:00:00\r",
        " 72% |#########################################                 | ETA:  0:00:00\r"
       ]
      },
      {
       "output_type": "stream",
       "stream": "stderr",
       "text": [
        " 73% |##########################################                | ETA:  0:00:00\r",
        " 74% |###########################################               | ETA:  0:00:00\r",
        " 75% |###########################################               | ETA:  0:00:00\r",
        " 76% |############################################              | ETA:  0:00:00\r",
        " 77% |############################################              | ETA:  0:00:00\r",
        " 78% |#############################################             | ETA:  0:00:00\r",
        " 79% |#############################################             | ETA:  0:00:00\r",
        " 80% |##############################################            | ETA:  0:00:00\r",
        " 81% |###############################################           | ETA:  0:00:00\r",
        " 82% |###############################################           | ETA:  0:00:00\r",
        " 83% |################################################          | ETA:  0:00:00\r",
        " 84% |################################################          | ETA:  0:00:00\r",
        " 85% |#################################################         | ETA:  0:00:00\r",
        " 86% |##################################################        | ETA:  0:00:00\r"
       ]
      },
      {
       "output_type": "stream",
       "stream": "stdout",
       "text": [
        "\n",
        "Average spline error: 2.03840091719e-16\n",
        "density_profiles::_dump_cache() dumping cache.\n",
        "./data/atm_cache.ppd\n",
        "MCEqRun::_calculate_integration_path():\n",
        "MCEqRun::_forward_euler(): Solver will perform 50480 integration steps."
       ]
      },
      {
       "output_type": "stream",
       "stream": "stderr",
       "text": [
        " 87% |##################################################        | ETA:  0:00:00\r",
        " 88% |###################################################       | ETA:  0:00:00\r",
        " 89% |###################################################       | ETA:  0:00:00\r",
        " 90% |####################################################      | ETA:  0:00:00\r",
        " 91% |####################################################      | ETA:  0:00:00\r",
        " 92% |#####################################################     | ETA:  0:00:00\r",
        " 93% |######################################################    | ETA:  0:00:00\r",
        " 94% |######################################################    | ETA:  0:00:00\r",
        " 95% |#######################################################   | ETA:  0:00:00\r",
        " 96% |#######################################################   | ETA:  0:00:00\r",
        " 97% |########################################################  | ETA:  0:00:00\r",
        " 98% |######################################################### | ETA:  0:00:00\r",
        " 99% |######################################################### | ETA:  0:00:00\r",
        "100% |##########################################################| Time: 0:00:01\r\n",
        "  0% |                                                         | ETA:  --:--:--\r"
       ]
      },
      {
       "output_type": "stream",
       "stream": "stderr",
       "text": [
        "  1% |                                                          | ETA:  0:01:08\r",
        "  2% |#                                                         | ETA:  0:01:07\r"
       ]
      },
      {
       "output_type": "stream",
       "stream": "stderr",
       "text": [
        "  3% |#                                                         | ETA:  0:01:04\r",
        "  4% |##                                                        | ETA:  0:01:03\r"
       ]
      },
      {
       "output_type": "stream",
       "stream": "stderr",
       "text": [
        "  5% |##                                                        | ETA:  0:01:02\r",
        "  6% |###                                                       | ETA:  0:01:02\r"
       ]
      },
      {
       "output_type": "stream",
       "stream": "stderr",
       "text": [
        "  7% |####                                                      | ETA:  0:01:02\r",
        "  8% |####                                                      | ETA:  0:01:02\r"
       ]
      },
      {
       "output_type": "stream",
       "stream": "stderr",
       "text": [
        "  9% |#####                                                     | ETA:  0:01:02\r",
        " 10% |#####                                                     | ETA:  0:01:01\r"
       ]
      },
      {
       "output_type": "stream",
       "stream": "stderr",
       "text": [
        " 11% |######                                                    | ETA:  0:01:00\r",
        " 12% |######                                                    | ETA:  0:01:00\r"
       ]
      },
      {
       "output_type": "stream",
       "stream": "stderr",
       "text": [
        " 13% |#######                                                   | ETA:  0:00:59\r",
        " 14% |########                                                  | ETA:  0:00:58\r"
       ]
      },
      {
       "output_type": "stream",
       "stream": "stderr",
       "text": [
        " 15% |########                                                  | ETA:  0:00:58\r",
        " 16% |#########                                                 | ETA:  0:00:57\r"
       ]
      },
      {
       "output_type": "stream",
       "stream": "stderr",
       "text": [
        " 17% |#########                                                 | ETA:  0:00:56\r",
        " 18% |##########                                                | ETA:  0:00:55\r"
       ]
      },
      {
       "output_type": "stream",
       "stream": "stderr",
       "text": [
        " 19% |###########                                               | ETA:  0:00:55\r",
        " 20% |###########                                               | ETA:  0:00:54\r"
       ]
      },
      {
       "output_type": "stream",
       "stream": "stderr",
       "text": [
        " 21% |############                                              | ETA:  0:00:54\r",
        " 22% |############                                              | ETA:  0:00:53\r"
       ]
      },
      {
       "output_type": "stream",
       "stream": "stderr",
       "text": [
        " 23% |#############                                             | ETA:  0:00:52\r",
        " 24% |#############                                             | ETA:  0:00:51\r"
       ]
      },
      {
       "output_type": "stream",
       "stream": "stderr",
       "text": [
        " 25% |##############                                            | ETA:  0:00:51\r",
        " 26% |###############                                           | ETA:  0:00:50\r"
       ]
      },
      {
       "output_type": "stream",
       "stream": "stderr",
       "text": [
        " 27% |###############                                           | ETA:  0:00:49\r",
        " 28% |################                                          | ETA:  0:00:48\r"
       ]
      },
      {
       "output_type": "stream",
       "stream": "stderr",
       "text": [
        " 29% |################                                          | ETA:  0:00:47\r",
        " 30% |#################                                         | ETA:  0:00:47\r"
       ]
      },
      {
       "output_type": "stream",
       "stream": "stderr",
       "text": [
        " 31% |#################                                         | ETA:  0:00:46\r",
        " 32% |##################                                        | ETA:  0:00:45\r"
       ]
      },
      {
       "output_type": "stream",
       "stream": "stderr",
       "text": [
        " 33% |###################                                       | ETA:  0:00:44\r",
        " 34% |###################                                       | ETA:  0:00:44\r"
       ]
      },
      {
       "output_type": "stream",
       "stream": "stderr",
       "text": [
        " 35% |####################                                      | ETA:  0:00:43\r",
        " 36% |####################                                      | ETA:  0:00:42\r"
       ]
      },
      {
       "output_type": "stream",
       "stream": "stderr",
       "text": [
        " 37% |#####################                                     | ETA:  0:00:42\r",
        " 38% |######################                                    | ETA:  0:00:41\r"
       ]
      },
      {
       "output_type": "stream",
       "stream": "stderr",
       "text": [
        " 39% |######################                                    | ETA:  0:00:40\r",
        " 40% |#######################                                   | ETA:  0:00:40\r"
       ]
      },
      {
       "output_type": "stream",
       "stream": "stderr",
       "text": [
        " 41% |#######################                                   | ETA:  0:00:39\r",
        " 42% |########################                                  | ETA:  0:00:38\r"
       ]
      },
      {
       "output_type": "stream",
       "stream": "stderr",
       "text": [
        " 43% |########################                                  | ETA:  0:00:38\r",
        " 44% |#########################                                 | ETA:  0:00:37\r"
       ]
      },
      {
       "output_type": "stream",
       "stream": "stderr",
       "text": [
        " 45% |##########################                                | ETA:  0:00:36\r",
        " 46% |##########################                                | ETA:  0:00:36\r"
       ]
      },
      {
       "output_type": "stream",
       "stream": "stderr",
       "text": [
        " 47% |###########################                               | ETA:  0:00:35\r",
        " 48% |###########################                               | ETA:  0:00:34\r"
       ]
      },
      {
       "output_type": "stream",
       "stream": "stderr",
       "text": [
        " 49% |############################                              | ETA:  0:00:34\r",
        " 50% |#############################                             | ETA:  0:00:33\r"
       ]
      },
      {
       "output_type": "stream",
       "stream": "stderr",
       "text": [
        " 51% |#############################                             | ETA:  0:00:32\r",
        " 52% |##############################                            | ETA:  0:00:32\r"
       ]
      },
      {
       "output_type": "stream",
       "stream": "stderr",
       "text": [
        " 53% |##############################                            | ETA:  0:00:31\r",
        " 54% |###############################                           | ETA:  0:00:30\r"
       ]
      },
      {
       "output_type": "stream",
       "stream": "stderr",
       "text": [
        " 55% |###############################                           | ETA:  0:00:30\r",
        " 56% |################################                          | ETA:  0:00:29\r"
       ]
      },
      {
       "output_type": "stream",
       "stream": "stderr",
       "text": [
        " 57% |#################################                         | ETA:  0:00:29\r",
        " 58% |#################################                         | ETA:  0:00:28\r"
       ]
      },
      {
       "output_type": "stream",
       "stream": "stderr",
       "text": [
        " 59% |##################################                        | ETA:  0:00:27\r",
        " 60% |##################################                        | ETA:  0:00:27\r"
       ]
      },
      {
       "output_type": "stream",
       "stream": "stderr",
       "text": [
        " 61% |###################################                       | ETA:  0:00:26\r",
        " 62% |###################################                       | ETA:  0:00:25\r"
       ]
      },
      {
       "output_type": "stream",
       "stream": "stderr",
       "text": [
        " 63% |####################################                      | ETA:  0:00:25\r",
        " 64% |#####################################                     | ETA:  0:00:24\r"
       ]
      },
      {
       "output_type": "stream",
       "stream": "stderr",
       "text": [
        " 65% |#####################################                     | ETA:  0:00:23\r",
        " 66% |######################################                    | ETA:  0:00:23\r"
       ]
      },
      {
       "output_type": "stream",
       "stream": "stderr",
       "text": [
        " 67% |######################################                    | ETA:  0:00:22\r",
        " 68% |#######################################                   | ETA:  0:00:21\r"
       ]
      },
      {
       "output_type": "stream",
       "stream": "stderr",
       "text": [
        " 69% |########################################                  | ETA:  0:00:20\r",
        " 70% |########################################                  | ETA:  0:00:20\r"
       ]
      },
      {
       "output_type": "stream",
       "stream": "stderr",
       "text": [
        " 71% |#########################################                 | ETA:  0:00:19\r",
        " 72% |#########################################                 | ETA:  0:00:18\r"
       ]
      },
      {
       "output_type": "stream",
       "stream": "stderr",
       "text": [
        " 73% |##########################################                | ETA:  0:00:18\r",
        " 74% |##########################################                | ETA:  0:00:17\r"
       ]
      },
      {
       "output_type": "stream",
       "stream": "stderr",
       "text": [
        " 75% |###########################################               | ETA:  0:00:16\r",
        " 76% |############################################              | ETA:  0:00:16\r"
       ]
      },
      {
       "output_type": "stream",
       "stream": "stderr",
       "text": [
        " 77% |############################################              | ETA:  0:00:15\r",
        " 78% |#############################################             | ETA:  0:00:14\r"
       ]
      },
      {
       "output_type": "stream",
       "stream": "stderr",
       "text": [
        " 79% |#############################################             | ETA:  0:00:14\r",
        " 80% |##############################################            | ETA:  0:00:13\r"
       ]
      },
      {
       "output_type": "stream",
       "stream": "stderr",
       "text": [
        " 81% |##############################################            | ETA:  0:00:12\r",
        " 82% |###############################################           | ETA:  0:00:12\r"
       ]
      },
      {
       "output_type": "stream",
       "stream": "stderr",
       "text": [
        " 83% |################################################          | ETA:  0:00:11\r",
        " 84% |################################################          | ETA:  0:00:10\r"
       ]
      },
      {
       "output_type": "stream",
       "stream": "stderr",
       "text": [
        " 85% |#################################################         | ETA:  0:00:10\r",
        " 86% |#################################################         | ETA:  0:00:09\r"
       ]
      },
      {
       "output_type": "stream",
       "stream": "stderr",
       "text": [
        " 87% |##################################################        | ETA:  0:00:08\r",
        " 88% |###################################################       | ETA:  0:00:08\r"
       ]
      },
      {
       "output_type": "stream",
       "stream": "stderr",
       "text": [
        " 89% |###################################################       | ETA:  0:00:07\r",
        " 90% |####################################################      | ETA:  0:00:06\r"
       ]
      },
      {
       "output_type": "stream",
       "stream": "stderr",
       "text": [
        " 91% |####################################################      | ETA:  0:00:06\r",
        " 92% |#####################################################     | ETA:  0:00:05\r"
       ]
      },
      {
       "output_type": "stream",
       "stream": "stderr",
       "text": [
        " 93% |#####################################################     | ETA:  0:00:04\r",
        " 94% |######################################################    | ETA:  0:00:04\r"
       ]
      },
      {
       "output_type": "stream",
       "stream": "stderr",
       "text": [
        " 95% |#######################################################   | ETA:  0:00:03\r",
        " 95% |#######################################################   | ETA:  0:00:02\r"
       ]
      },
      {
       "output_type": "stream",
       "stream": "stderr",
       "text": [
        " 96% |########################################################  | ETA:  0:00:02\r",
        " 97% |########################################################  | ETA:  0:00:01\r"
       ]
      },
      {
       "output_type": "stream",
       "stream": "stderr",
       "text": [
        " 97% |########################################################  | ETA:  0:00:01\r",
        " 98% |######################################################### | ETA:  0:00:01\r"
       ]
      },
      {
       "output_type": "stream",
       "stream": "stderr",
       "text": [
        " 98% |######################################################### | ETA:  0:00:00\r",
        " 99% |######################################################### | ETA:  0:00:00\r"
       ]
      },
      {
       "output_type": "stream",
       "stream": "stderr",
       "text": [
        " 99% |######################################################### | ETA:  0:00:00\r",
        "100% |##########################################################| Time: 0:01:12\r"
       ]
      },
      {
       "output_type": "stream",
       "stream": "stdout",
       "text": [
        "\n",
        "\n",
        "MCEqRun::_forward_euler(): time elapsed during integration: 72.6020178795 sec"
       ]
      },
      {
       "output_type": "stream",
       "stream": "stdout",
       "text": [
        "\n"
       ]
      },
      {
       "output_type": "stream",
       "stream": "stderr",
       "text": [
        "\n"
       ]
      }
     ],
     "prompt_number": 3
    },
    {
     "cell_type": "markdown",
     "metadata": {},
     "source": [
      "Plot with `matplotlib`\n",
      "----------------------"
     ]
    },
    {
     "cell_type": "code",
     "collapsed": false,
     "input": [
      "color_spectrum = ['b', 'r', 'g', 'orange', 'cyan', 'violet',\n",
      "                  'brown', 'pink', 'yellow', 'lightblue']\n",
      "titles = {('CORSIKA', 'PL_SouthPole', 'January'): 'CKA SP/Jan',\n",
      "          ('CORSIKA', 'PL_SouthPole', 'August'): 'CKA SP/Aug',\n",
      "          ('MSIS00', 'SouthPole', 'January'): 'MSIS00 SP/Jan',\n",
      "          ('MSIS00', 'SouthPole', 'August'): 'MSIS00 SP/Aug',\n",
      "          ('CORSIKA', 'BK_USStd', None): 'USStd'}\n",
      "fig = plt.figure(figsize=(8.5, 3.5))\n",
      "fig.set_tight_layout(dict(rect=[0.01, 0.01, 0.99, 0.97]))\n",
      "e_grid = mceq_run.y.e_grid\n",
      "compare_to = (('CORSIKA', 'BK_USStd', None), 'black')\n",
      "\n",
      "for theta, atm_tup in mup_dict.keys():\n",
      "    mup_comp = mup_dict[(theta, compare_to)]\n",
      "    numu_comp = numu_dict[(theta, compare_to)]\n",
      "    nue_comp = nue_dict[(theta, compare_to)]\n",
      "    \n",
      "    atm_config, atm_col = atm_tup\n",
      "    if atm_config[1].startswith('BK'):\n",
      "        continue    \n",
      "    ls = '--'\n",
      "    atm_title = '_nolabel_'\n",
      "    if theta < 90.:\n",
      "        ls='-'\n",
      "        atm_title = titles[atm_config]\n",
      "\n",
      "     \n",
      "    plt.subplot(121)        \n",
      "    plt.plot(e_grid, mup_dict[(theta, atm_tup)] / mup_comp, ls=ls, lw=1.5,\n",
      "             color=atm_col, label=atm_title)\n",
      "    plt.semilogx()\n",
      "    plt.xlabel(r\"$E_{\\mu}$ [GeV]\")\n",
      "    plt.ylim([0.75, 1.1])\n",
      "\n",
      "    plt.subplot(122)\n",
      "    plt.plot(e_grid, numu_dict[(theta, atm_tup)] / numu_comp, ls=ls,  lw=1.5,\n",
      "             color=atm_col, label=atm_title)\n",
      "    plt.semilogx()\n",
      "    plt.xlabel(r\"$E_{\\nu}$ [GeV]\")\n",
      "\n",
      "\n",
      "plt.subplot(121)\n",
      "plt.title('Muons', fontsize=10)\n",
      "plt.xlabel(r\"$E_{\\mu}$ [GeV]\")\n",
      "plt.ylabel(r\"$\\Phi_{\\mu}($atm$)/\\Phi_{\\mu}($USStd)\")\n",
      "plt.xlim([50,1e9])\n",
      "plt.ylim([0.75, 1.1])\n",
      "plt.legend(loc='lower left', ncol=2, frameon=False, fontsize=10)\n",
      "\n",
      "plt.subplot(122)\n",
      "plt.title('Muon neutrinos', fontsize=10)\n",
      "plt.xlabel(r\"$E_{\\nu_\\mu}$ [GeV]\")\n",
      "plt.ylabel(r\"$\\Phi_{\\nu_\\mu}($atm$)/\\Phi_{\\nu_\\mu}($USStd)\")\n",
      "plt.xlim([50,1e9])\n",
      "plt.ylim([0.75, 1.1])\n",
      "plt.legend(loc='lower left', ncol=2, frameon=False, fontsize=10)\n",
      "plt.savefig('atm_flux.pdf')"
     ],
     "language": "python",
     "metadata": {},
     "outputs": [
      {
       "metadata": {},
       "output_type": "display_data",
       "png": "[encoded data removed]",
       "text": [
        "<matplotlib.figure.Figure at 0x7f26270b7d10>"
       ]
      }
     ],
     "prompt_number": 8
    },
    {
     "cell_type": "code",
     "collapsed": false,
     "input": [],
     "language": "python",
     "metadata": {},
     "outputs": [],
     "prompt_number": 4
    }
   ],
   "metadata": {}
  }
 ]
}