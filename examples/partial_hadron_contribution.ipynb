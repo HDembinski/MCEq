{
 "metadata": {
  "name": "",
  "signature": "sha256:143e14b0d9ba0b7117e64ddb9b449b5ffca910acc506c68365b3e3b755c1f6bb"
 },
 "nbformat": 3,
 "nbformat_minor": 0,
 "worksheets": [
  {
   "cells": [
    {
     "cell_type": "markdown",
     "metadata": {},
     "source": [
      "Determination of partial contributions of hadrons\n",
      "-------------------------------------------------\n",
      "\n",
      "This notebook reproduces Figure 9 from the proceedings arXiv:1503.00544.  "
     ]
    },
    {
     "cell_type": "code",
     "collapsed": false,
     "input": [
      "#basic imports and ipython setup\n",
      "%load_ext autoreload\n",
      "%matplotlib inline\n",
      "%autoreload 2\n",
      "import os\n",
      "import matplotlib.pyplot as plt\n",
      "import numpy as np\n",
      "os.chdir('..')\n",
      "\n",
      "#import solver related modules\n",
      "from MCEq.core import MCEqRun\n",
      "from mceq_config import config\n",
      "#import primary model choices\n",
      "import CRFluxModels as pm"
     ],
     "language": "python",
     "metadata": {},
     "outputs": [],
     "prompt_number": 1
    },
    {
     "cell_type": "code",
     "collapsed": false,
     "input": [
      "mceq_run = MCEqRun(\n",
      "#provide the string of the interaction model\n",
      "interaction_model='SIBYLL2.3_rc1',\n",
      "#primary cosmic ray flux model\n",
      "#support a tuple (primary model class (not instance!), arguments)\n",
      "primary_model=(pm.Thunman, None),\n",
      "# Zenith angle in degrees. 0=vertical, 90=horizontal\n",
      "theta_deg=0.0,\n",
      "#expand the rest of the options from mceq_config.py\n",
      "**config\n",
      ")"
     ],
     "language": "python",
     "metadata": {},
     "outputs": [
      {
       "output_type": "stream",
       "stream": "stdout",
       "text": [
        "\n",
        "Hadrons:\n",
        "\n",
        "\"p-bar\", \"p\", \"n-bar\", \"n\", \"pi+\", \"pi-\", \"K0L\", \"K+\", \n",
        "\"K-\"\n",
        "\n",
        "Mixed:\n",
        "\n",
        "\"Lambda0-bar\", \"Lambda0\", \"Xi0-bar\", \"Xi0\", \"K0S\", \"Xi--bar\", \"Xi-\", \"Sigma--bar\", \n",
        "\"Sigma-\", \"Sigma+-bar\", \"Sigma+\", \"Omega--bar\", \"Omega-\", \"D+\", \"D-\", \"Ds+\", \n",
        "\"Ds-\", \"D0\", \"D0-bar\", \"XiC+-bar\", \"XiC+\", \"tau+\", \"tau-\", \"LambdaC+-bar\", \n",
        "\"LambdaC+\", \"XiC0-bar\", \"XiC0\", \"OmegaC0-bar\", \"OmegaC0\", \"pi0\"\n",
        "\n",
        "Resonances:\n",
        "\n",
        "\"eta\", \"Sigma0-bar\", \"Sigma0\", \"D*+\", \"D*-\", \"eta*\", \"jpsi\", \"phi\", \n",
        "\"SigmaC0-bar\", \"SigmaC0\", \"SigmaC+-bar\", \"SigmaC+\", \"SigmaC++-bar\", \"SigmaC++\", \"omega\", \"Xi*0-bar\", \n",
        "\"Xi*0\", \"Xi*--bar\", \"Xi*-\", \"SigmaC*0-bar\", \"SigmaC*0\", \"SigmaC*++-bar\", \"SigmaC*++\", \"SigmaC*+-bar\", \n",
        "\"SigmaC*+\", \"K*0\", \"K*0-bar\", \"K*+\", \"K*-\", \"Sigma*+-bar\", \"Sigma*+\", \"Sigma*0-bar\", \n",
        "\"Sigma*0\", \"Sigma*--bar\", \"Sigma*-\", \"etaC\", \"rho+\", \"rho-\", \"rho0\", \"Delta--bar\", \n",
        "\"Delta0-bar\", \"Delta+-bar\", \"Delta++-bar\", \"Delta++\", \"Delta+\", \"Delta0\", \"Delta-\", \"D*0\", \n",
        "\"D*0-bar\", \"XiC*0-bar\", \"XiC*+-bar\", \"XiC*+\", \"XiC*0\", \"Ds*+\", \"Ds*-\"\n",
        "\n",
        "Leptons:\n",
        "\n",
        "\"nue\", \"numu\", \"nutau\", \"antinue\", \"antinumu\", \"antinutau\", \"nue\", \"numu\", \n",
        "\"nutau\", \"antinue\", \"antinumu\", \"antinutau\", \"mu-\", \"mu+\", \"mu-\", \"mu+\"\n",
        "\n",
        "Aliases:\n",
        "\"pr_nue\", \"pr_numu\", \"pr_nutau\", \"pi_nue\", \"pi_numu\", \"pi_nutau\", \"k_nue\", \"k_numu\", \n",
        "\"k_nutau\", \"obs_nue\", \"obs_numu\", \"obs_nutau\", \"pr_antinue\", \"pr_antinumu\", \"pr_antinutau\", \"pi_antinue\", \n",
        "\"pi_antinumu\", \"pi_antinutau\", \"k_antinue\", \"k_antinumu\", \"k_antinutau\", \"obs_antinue\", \"obs_antinumu\", \"obs_antinutau\", \n",
        "\"pr_mu-\", \"pi_mu-\", \"k_mu-\", \"obs_mu-\", \"pr_mu+\", \"pi_mu+\", \"k_mu+\", \"obs_mu+\"\n",
        "\n",
        "Total number of species: 87\n",
        "MCEqRun::set_interaction_model():  SIBYLL2.3_rc1\n",
        "InteractionYields:set_interaction_model():: Model SIBYLL2.3_rc1 already loaded.\n",
        "MCEqRun::_init_default_matrices():Start filling matrices.\n",
        "MCEqRun::_convert_to_sparse():Converting to sparse (CSR) matrix format."
       ]
      },
      {
       "output_type": "stream",
       "stream": "stdout",
       "text": [
        "\n",
        "C Matrix info:"
       ]
      },
      {
       "output_type": "stream",
       "stream": "stdout",
       "text": [
        "\n",
        "    density    : 7.3207942769e-07\n",
        "    shape      : (6264, 6264)\n",
        "    nnz        : 1365972\n",
        "D Matrix info:\n",
        "    density    : 3.44531764106e-06\n",
        "    shape      : (6264, 6264)\n",
        "    nnz        : 290249\n",
        "MCEqRun::_init_default_matrices():Done filling matrices.\n",
        "MCEqRun::set_atm_model(): "
       ]
      },
      {
       "output_type": "stream",
       "stream": "stdout",
       "text": [
        " CORSIKA BK_USStd None\n",
        "MCEqRun::set_theta_deg():  0.0\n",
        "atmospheres::_load_cache(): loading cache."
       ]
      },
      {
       "output_type": "stream",
       "stream": "stdout",
       "text": [
        "\n",
        "MCEqRun::set_primary_model(): "
       ]
      },
      {
       "output_type": "stream",
       "stream": "stdout",
       "text": [
        " Thunman None\n"
       ]
      }
     ],
     "prompt_number": 2
    },
    {
     "cell_type": "code",
     "collapsed": false,
     "input": [
      "res_groups = [\n",
      "    ([\"D+\", \"D-\", \"D0\", \"D0-bar\", \"D*+\", \"D*-\", \"D*0\", \"D*0-bar\"], r\"$D^\\pm + D^0$\"),\n",
      "    ([\"Ds+\", \"Ds-\"], r\"$D_s$\"),\n",
      "    ([\"K0S\"], r\"$K^0_s$\"),\n",
      "    ([\"K0L\"], r\"$K^0_L$\"),\n",
      "    ([\"LambdaC+\", \"LambdaC+-bar\"], r'$\\Lambda_C$'),\n",
      "    ([\"OmegaC0\", \"OmegaC0-bar\", \"XiC+\", \n",
      "      \"XiC+-bar\", \"XiC0\", \"XiC0-bar\", \n",
      "      \"SigmaC*+\", \"SigmaC*++\", \"tau+\", \"tau-\", \n",
      "      \"SigmaC*++-bar\", \"SigmaC*+-bar\", \"SigmaC*0\", \n",
      "      \"SigmaC*0-bar\", \"SigmaC+\", \"SigmaC++\", \n",
      "      \"SigmaC++-bar\", \"SigmaC+-bar\", \"SigmaC0\", \n",
      "      \"SigmaC0-bar\"], r\"other prompt\"),\n",
      "    ([\"K0S\", \"K0L\", \"n\", \"n-bar\", \"p\", \"p-bar\", \n",
      "      \"Lambda0\", \"Lambda0-bar\", \"Sigma-\", \n",
      "      \"Sigma--bar\", \"Xi-\", \"Xi--bar\", \"Xi0\", \n",
      "      \"Xi0-bar\", \"Delta-\", \"Delta--bar\", \"Delta0\", \n",
      "      \"Delta0-bar\", \"K*+\", \"K*-\", \"K*0\", \"K*0-bar\", \n",
      "      \"Omega-\", \"Omega--bar\", \"Sigma*+\", \"Sigma*+-bar\", \n",
      "      \"Sigma*-\", \"Sigma*--bar\", \"Sigma*0\", \"Sigma*0-bar\", \n",
      "      \"Sigma+\", \"Sigma+-bar\", \"Sigma0\", \"Sigma0-bar\", \n",
      "      \"Delta+\", \"Delta++\", \"Delta++-bar\", \"Delta+-bar\", \n",
      "      \"Xi*-\", \"Xi*--bar\", \"Xi*0\", \"Xi*0-bar\"],r\"other conv. mu\"),\n",
      "    ([\"K0S\", \"K0L\", \"n\", \"n-bar\", \"p\", \"p-bar\", \n",
      "      \"Lambda0\", \"Lambda0-bar\", \"Sigma-\", \"Sigma--bar\", \n",
      "      \"Xi-\", \"Xi--bar\", \"Xi0\", \"Xi0-bar\", \"Delta-\", \n",
      "      \"Delta--bar\", \"Delta0\", \"Delta0-bar\", \"K*+\", \n",
      "      \"K*-\", \"K*0\", \"K*0-bar\", \"Omega-\", \"Omega--bar\", \n",
      "      \"Sigma*+\", \"Sigma*+-bar\", \"Sigma*-\", \"Sigma*--bar\", \n",
      "      \"Sigma*0\", \"Sigma*0-bar\", \"Sigma+\", \"Sigma+-bar\", \n",
      "      \"Sigma0\", \"Sigma0-bar\", \"Delta+\", \"Delta++\", \n",
      "      \"Delta++-bar\", \"Delta+-bar\", \"Xi*-\", \"Xi*--bar\", \n",
      "      \"Xi*0\", \"Xi*0-bar\", \"eta\", \"eta*\", \"omega\", \n",
      "      \"phi\", \"pi0\", \"rho+\", \"rho-\", \"rho0\"],r\"other conv. numu\"),\n",
      "    ([\"n\", \"n-bar\", \"p\", \"p-bar\", \"Lambda0\", \n",
      "      \"Lambda0-bar\", \"Sigma-\", \"Sigma--bar\", \n",
      "      \"Xi-\", \"Xi--bar\", \"Xi0\", \"Xi0-bar\", \"Delta-\", \n",
      "      \"Delta--bar\", \"Delta0\", \"Delta0-bar\", \n",
      "      \"K*+\", \"K*-\", \"K*0\", \"K*0-bar\", \"Omega-\", \n",
      "      \"Omega--bar\", \"Sigma*+\", \"Sigma*+-bar\", \"Sigma*-\", \n",
      "      \"Sigma*--bar\", \"Sigma*0\", \"Sigma*0-bar\", \"Sigma+\", \n",
      "      \"Sigma+-bar\", \"Sigma0\", \"Sigma0-bar\", \"Delta+\", \n",
      "      \"Delta++\", \"Delta++-bar\", \"Delta+-bar\", \"Xi*-\", \n",
      "      \"Xi*--bar\", \"Xi*0\", \"Xi*0-bar\", \"eta\", \"eta*\", \n",
      "      \"omega\", \"phi\", \"pi0\", \"rho+\", \"rho-\", \"rho0\"],r\"other conv. nue\"),\n",
      "    ([\"eta\", \"eta*\", \"omega\", \"phi\", \n",
      "      \"pi0\", \"rho+\", \"rho-\", \"rho0\",\n",
      "      \"etaC\", \"jpsi\"], r\"unflavored\"),\n",
      "    ([\"tau+\",\"tau-\"], r\"tau decay\"),\n",
      "    ([\"mu+\", \"mu-\", \"pi_mu+\", \"pi_mu-\", \n",
      "      \"k_mu+\", \"k_mu-\", \"pr_mu+\", \"pr_mu-\"], r\"$\\mu$ decay\")]\n",
      "\n",
      "color_spectrum = ['b', 'r', 'g', 'orange', 'cyan', 'violet',\n",
      "                  'brown', 'pink', 'yellow', 'lightblue']"
     ],
     "language": "python",
     "metadata": {},
     "outputs": [],
     "prompt_number": 3
    },
    {
     "cell_type": "code",
     "collapsed": false,
     "input": [
      "mag = 3\n",
      "mu_obs = {}\n",
      "numu_obs = {}\n",
      "nue_obs = {}\n",
      "nutau_obs = {}\n",
      "for res_group, res_title in res_groups:\n",
      "    mceq_run.set_obs_particles(res_group)\n",
      "    mceq_run.solve()\n",
      "    mu_obs[res_title] = mceq_run.get_solution('obs_mu+', mag) + \\\n",
      "                        mceq_run.get_solution('obs_mu-', mag)\n",
      "    numu_obs[res_title] = mceq_run.get_solution('obs_numu', mag) + \\\n",
      "                          mceq_run.get_solution('obs_antinumu', mag)\n",
      "    nue_obs[res_title] = mceq_run.get_solution('obs_nue', mag) + \\\n",
      "                         mceq_run.get_solution('obs_antinue', mag)\n",
      "    nutau_obs[res_title] = mceq_run.get_solution('obs_nutau', mag) + \\\n",
      "                           mceq_run.get_solution('obs_antinutau', mag)"
     ],
     "language": "python",
     "metadata": {},
     "outputs": [
      {
       "output_type": "stream",
       "stream": "stdout",
       "text": [
        "MCEqRun::set_obs_particles(): Converted names:D+, D-, D0, D0-bar, D*+, D*-, D*0, D*0-bar\n",
        "to: 411, -411, 421, -421, 413, -413, 10421, -10421\n",
        "MCEqRun::_init_default_matrices():Start filling matrices.\n",
        "MCEqRun::_convert_to_sparse():Converting to sparse (CSR) matrix format."
       ]
      },
      {
       "output_type": "stream",
       "stream": "stdout",
       "text": [
        "\n",
        "C Matrix info:"
       ]
      },
      {
       "output_type": "stream",
       "stream": "stderr",
       "text": [
        "  0% |                                                         | ETA:  --:--:--\r",
        "  1% |                                                          | ETA:  0:00:18\r"
       ]
      },
      {
       "output_type": "stream",
       "stream": "stderr",
       "text": [
        "  2% |#                                                         | ETA:  0:00:09\r",
        "  3% |#                                                         | ETA:  0:00:06\r",
        "  4% |##                                                        | ETA:  0:00:04\r",
        "  5% |##                                                        | ETA:  0:00:03\r",
        "  6% |###                                                       | ETA:  0:00:03\r",
        "  7% |####                                                      | ETA:  0:00:02\r",
        "  8% |####                                                      | ETA:  0:00:02\r",
        "  9% |#####                                                     | ETA:  0:00:02\r",
        " 10% |#####                                                     | ETA:  0:00:01\r",
        " 11% |######                                                    | ETA:  0:00:01\r",
        " 12% |#######                                                   | ETA:  0:00:01\r",
        " 13% |#######                                                   | ETA:  0:00:01\r",
        " 14% |########                                                  | ETA:  0:00:01\r",
        " 15% |########                                                  | ETA:  0:00:01\r",
        " 16% |#########                                                 | ETA:  0:00:01\r",
        " 17% |##########                                                | ETA:  0:00:01\r",
        " 18% |##########                                                | ETA:  0:00:01\r",
        " 19% |###########                                               | ETA:  0:00:00\r",
        " 20% |###########                                               | ETA:  0:00:00\r",
        " 21% |############                                              | ETA:  0:00:00\r",
        " 22% |#############                                             | ETA:  0:00:00\r",
        " 23% |#############                                             | ETA:  0:00:00\r",
        " 24% |##############                                            | ETA:  0:00:00\r",
        " 25% |##############                                            | ETA:  0:00:00\r",
        " 26% |###############                                           | ETA:  0:00:00\r",
        " 27% |################                                          | ETA:  0:00:00\r",
        " 28% |################                                          | ETA:  0:00:00\r",
        " 29% |#################                                         | ETA:  0:00:00\r",
        " 30% |#################                                         | ETA:  0:00:00\r",
        " 31% |##################                                        | ETA:  0:00:00\r",
        " 32% |###################                                       | ETA:  0:00:00\r",
        " 34% |###################                                       | ETA:  0:00:00\r",
        " 35% |####################                                      | ETA:  0:00:00\r",
        " 36% |####################                                      | ETA:  0:00:00\r",
        " 37% |#####################                                     | ETA:  0:00:00\r",
        " 38% |######################                                    | ETA:  0:00:00\r",
        " 39% |######################                                    | ETA:  0:00:00\r",
        " 40% |#######################                                   | ETA:  0:00:00\r",
        " 41% |########################                                  | ETA:  0:00:00\r",
        " 42% |########################                                  | ETA:  0:00:00\r",
        " 43% |#########################                                 | ETA:  0:00:00\r",
        " 44% |#########################                                 | ETA:  0:00:00\r",
        " 45% |##########################                                | ETA:  0:00:00\r",
        " 46% |###########################                               | ETA:  0:00:00\r",
        " 47% |###########################                               | ETA:  0:00:00\r",
        " 48% |############################                              | ETA:  0:00:00\r",
        " 50% |#############################                             | ETA:  0:00:00\r",
        " 51% |#############################                             | ETA:  0:00:00\r",
        " 52% |##############################                            | ETA:  0:00:00\r",
        " 53% |##############################                            | ETA:  0:00:00\r",
        " 54% |###############################                           | ETA:  0:00:00\r",
        " 55% |################################                          | ETA:  0:00:00\r",
        " 56% |################################                          | ETA:  0:00:00\r",
        " 57% |#################################                         | ETA:  0:00:00\r",
        " 58% |##################################                        | ETA:  0:00:00\r",
        " 59% |##################################                        | ETA:  0:00:00\r",
        " 60% |###################################                       | ETA:  0:00:00\r"
       ]
      },
      {
       "output_type": "stream",
       "stream": "stdout",
       "text": [
        "\n",
        "    density    : 6.22238428076e-07\n",
        "    shape      : (6264, 6264)\n",
        "    nnz        : 1607101\n",
        "D Matrix info:\n",
        "    density    : 3.16873849352e-06\n",
        "    shape      : (6264, 6264)\n",
        "    nnz        : 315583\n",
        "MCEqRun::_init_default_matrices():Done filling matrices.\n",
        "MCEqRun::_calculate_integration_path():\n",
        "MCEqRun::_forward_euler(): Solver will perform 4729 integration steps."
       ]
      },
      {
       "output_type": "stream",
       "stream": "stderr",
       "text": [
        " 62% |###################################                       | ETA:  0:00:00\r",
        " 63% |####################################                      | ETA:  0:00:00\r",
        " 64% |#####################################                     | ETA:  0:00:00\r",
        " 65% |######################################                    | ETA:  0:00:00\r",
        " 66% |######################################                    | ETA:  0:00:00\r",
        " 67% |#######################################                   | ETA:  0:00:00\r",
        " 68% |#######################################                   | ETA:  0:00:00\r",
        " 69% |########################################                  | ETA:  0:00:00\r",
        " 70% |#########################################                 | ETA:  0:00:00\r",
        " 71% |#########################################                 | ETA:  0:00:00\r",
        " 72% |##########################################                | ETA:  0:00:00\r",
        " 73% |##########################################                | ETA:  0:00:00\r",
        " 75% |###########################################               | ETA:  0:00:00\r",
        " 76% |############################################              | ETA:  0:00:00\r",
        " 77% |############################################              | ETA:  0:00:00\r",
        " 78% |#############################################             | ETA:  0:00:00\r",
        " 79% |##############################################            | ETA:  0:00:00\r",
        " 80% |##############################################            | ETA:  0:00:00\r",
        " 82% |###############################################           | ETA:  0:00:00\r",
        " 83% |################################################          | ETA:  0:00:00\r",
        " 84% |#################################################         | ETA:  0:00:00\r",
        " 85% |#################################################         | ETA:  0:00:00\r",
        " 86% |##################################################        | ETA:  0:00:00\r",
        " 87% |##################################################        | ETA:  0:00:00\r",
        " 88% |###################################################       | ETA:  0:00:00\r",
        " 89% |####################################################      | ETA:  0:00:00\r",
        " 90% |####################################################      | ETA:  0:00:00\r",
        " 91% |#####################################################     | ETA:  0:00:00\r",
        " 93% |#####################################################     | ETA:  0:00:00\r",
        " 94% |######################################################    | ETA:  0:00:00\r",
        " 95% |#######################################################   | ETA:  0:00:00\r",
        " 96% |#######################################################   | ETA:  0:00:00\r",
        " 97% |########################################################  | ETA:  0:00:00\r",
        " 98% |######################################################### | ETA:  0:00:00\r",
        " 99% |######################################################### | ETA:  0:00:00\r",
        "100% |##########################################################| Time: 0:00:00\r\n",
        "  0% |                                                         | ETA:  --:--:--\r",
        "  1% |                                                          | ETA:  0:00:54\r"
       ]
      },
      {
       "output_type": "stream",
       "stream": "stderr",
       "text": [
        "  2% |#                                                         | ETA:  0:00:42\r",
        "  3% |#                                                         | ETA:  0:00:36\r"
       ]
      },
      {
       "output_type": "stream",
       "stream": "stderr",
       "text": [
        "  4% |##                                                        | ETA:  0:00:33\r",
        "  5% |##                                                        | ETA:  0:00:31\r"
       ]
      },
      {
       "output_type": "stream",
       "stream": "stderr",
       "text": [
        "  6% |###                                                       | ETA:  0:00:30\r",
        "  7% |####                                                      | ETA:  0:00:28\r"
       ]
      },
      {
       "output_type": "stream",
       "stream": "stderr",
       "text": [
        "  8% |####                                                      | ETA:  0:00:27\r",
        "  9% |#####                                                     | ETA:  0:00:26\r"
       ]
      },
      {
       "output_type": "stream",
       "stream": "stderr",
       "text": [
        " 10% |#####                                                     | ETA:  0:00:25\r",
        " 11% |######                                                    | ETA:  0:00:24\r"
       ]
      },
      {
       "output_type": "stream",
       "stream": "stderr",
       "text": [
        " 12% |#######                                                   | ETA:  0:00:24\r",
        " 13% |#######                                                   | ETA:  0:00:24\r"
       ]
      },
      {
       "output_type": "stream",
       "stream": "stderr",
       "text": [
        " 14% |########                                                  | ETA:  0:00:23\r",
        " 15% |########                                                  | ETA:  0:00:22\r"
       ]
      },
      {
       "output_type": "stream",
       "stream": "stderr",
       "text": [
        " 16% |#########                                                 | ETA:  0:00:22\r",
        " 17% |##########                                                | ETA:  0:00:22\r"
       ]
      },
      {
       "output_type": "stream",
       "stream": "stderr",
       "text": [
        " 18% |##########                                                | ETA:  0:00:21\r",
        " 19% |###########                                               | ETA:  0:00:21\r"
       ]
      },
      {
       "output_type": "stream",
       "stream": "stderr",
       "text": [
        " 20% |###########                                               | ETA:  0:00:20\r",
        " 21% |############                                              | ETA:  0:00:20\r"
       ]
      },
      {
       "output_type": "stream",
       "stream": "stderr",
       "text": [
        " 22% |############                                              | ETA:  0:00:20\r",
        " 23% |#############                                             | ETA:  0:00:19\r"
       ]
      },
      {
       "output_type": "stream",
       "stream": "stderr",
       "text": [
        " 24% |##############                                            | ETA:  0:00:19\r",
        " 25% |##############                                            | ETA:  0:00:19\r"
       ]
      },
      {
       "output_type": "stream",
       "stream": "stderr",
       "text": [
        " 26% |###############                                           | ETA:  0:00:18\r",
        " 27% |###############                                           | ETA:  0:00:18\r"
       ]
      },
      {
       "output_type": "stream",
       "stream": "stderr",
       "text": [
        " 28% |################                                          | ETA:  0:00:18\r",
        " 29% |#################                                         | ETA:  0:00:17\r"
       ]
      },
      {
       "output_type": "stream",
       "stream": "stderr",
       "text": [
        " 30% |#################                                         | ETA:  0:00:17\r",
        " 31% |##################                                        | ETA:  0:00:17\r"
       ]
      },
      {
       "output_type": "stream",
       "stream": "stderr",
       "text": [
        " 32% |##################                                        | ETA:  0:00:16\r",
        " 33% |###################                                       | ETA:  0:00:16\r"
       ]
      },
      {
       "output_type": "stream",
       "stream": "stderr",
       "text": [
        " 34% |####################                                      | ETA:  0:00:16\r",
        " 35% |####################                                      | ETA:  0:00:16\r"
       ]
      },
      {
       "output_type": "stream",
       "stream": "stderr",
       "text": [
        " 36% |#####################                                     | ETA:  0:00:15\r",
        " 37% |#####################                                     | ETA:  0:00:15\r"
       ]
      },
      {
       "output_type": "stream",
       "stream": "stderr",
       "text": [
        " 38% |######################                                    | ETA:  0:00:15\r",
        " 39% |######################                                    | ETA:  0:00:14\r"
       ]
      },
      {
       "output_type": "stream",
       "stream": "stderr",
       "text": [
        " 40% |#######################                                   | ETA:  0:00:14\r",
        " 41% |########################                                  | ETA:  0:00:14\r"
       ]
      },
      {
       "output_type": "stream",
       "stream": "stderr",
       "text": [
        " 42% |########################                                  | ETA:  0:00:14\r",
        " 43% |#########################                                 | ETA:  0:00:13\r"
       ]
      },
      {
       "output_type": "stream",
       "stream": "stderr",
       "text": [
        " 44% |#########################                                 | ETA:  0:00:13\r",
        " 45% |##########################                                | ETA:  0:00:13\r"
       ]
      },
      {
       "output_type": "stream",
       "stream": "stderr",
       "text": [
        " 46% |###########################                               | ETA:  0:00:13\r",
        " 47% |###########################                               | ETA:  0:00:12\r"
       ]
      },
      {
       "output_type": "stream",
       "stream": "stderr",
       "text": [
        " 48% |############################                              | ETA:  0:00:12\r",
        " 49% |############################                              | ETA:  0:00:12\r"
       ]
      },
      {
       "output_type": "stream",
       "stream": "stderr",
       "text": [
        " 50% |#############################                             | ETA:  0:00:12\r",
        " 51% |##############################                            | ETA:  0:00:11\r"
       ]
      },
      {
       "output_type": "stream",
       "stream": "stderr",
       "text": [
        " 52% |##############################                            | ETA:  0:00:11\r",
        " 53% |###############################                           | ETA:  0:00:11\r"
       ]
      },
      {
       "output_type": "stream",
       "stream": "stderr",
       "text": [
        " 54% |###############################                           | ETA:  0:00:10\r",
        " 55% |################################                          | ETA:  0:00:10\r"
       ]
      },
      {
       "output_type": "stream",
       "stream": "stderr",
       "text": [
        " 56% |################################                          | ETA:  0:00:10\r",
        " 57% |#################################                         | ETA:  0:00:10\r"
       ]
      },
      {
       "output_type": "stream",
       "stream": "stderr",
       "text": [
        " 58% |##################################                        | ETA:  0:00:09\r",
        " 59% |##################################                        | ETA:  0:00:09\r"
       ]
      },
      {
       "output_type": "stream",
       "stream": "stderr",
       "text": [
        " 60% |###################################                       | ETA:  0:00:09\r",
        " 61% |###################################                       | ETA:  0:00:09\r"
       ]
      },
      {
       "output_type": "stream",
       "stream": "stderr",
       "text": [
        " 62% |####################################                      | ETA:  0:00:08\r",
        " 63% |#####################################                     | ETA:  0:00:08\r"
       ]
      },
      {
       "output_type": "stream",
       "stream": "stderr",
       "text": [
        " 64% |#####################################                     | ETA:  0:00:08\r",
        " 65% |######################################                    | ETA:  0:00:08\r"
       ]
      },
      {
       "output_type": "stream",
       "stream": "stderr",
       "text": [
        " 66% |######################################                    | ETA:  0:00:08\r",
        " 68% |#######################################                   | ETA:  0:00:07\r"
       ]
      },
      {
       "output_type": "stream",
       "stream": "stderr",
       "text": [
        " 69% |########################################                  | ETA:  0:00:07\r",
        " 70% |########################################                  | ETA:  0:00:07\r"
       ]
      },
      {
       "output_type": "stream",
       "stream": "stderr",
       "text": [
        " 71% |#########################################                 | ETA:  0:00:07\r",
        " 72% |#########################################                 | ETA:  0:00:06\r"
       ]
      },
      {
       "output_type": "stream",
       "stream": "stderr",
       "text": [
        " 73% |##########################################                | ETA:  0:00:06\r",
        " 74% |##########################################                | ETA:  0:00:06\r"
       ]
      },
      {
       "output_type": "stream",
       "stream": "stderr",
       "text": [
        " 75% |###########################################               | ETA:  0:00:06\r",
        " 76% |############################################              | ETA:  0:00:05\r"
       ]
      },
      {
       "output_type": "stream",
       "stream": "stderr",
       "text": [
        " 77% |############################################              | ETA:  0:00:05\r",
        " 78% |#############################################             | ETA:  0:00:05\r"
       ]
      },
      {
       "output_type": "stream",
       "stream": "stderr",
       "text": [
        " 79% |#############################################             | ETA:  0:00:05\r",
        " 80% |##############################################            | ETA:  0:00:04\r"
       ]
      },
      {
       "output_type": "stream",
       "stream": "stderr",
       "text": [
        " 81% |###############################################           | ETA:  0:00:04\r",
        " 82% |###############################################           | ETA:  0:00:04\r"
       ]
      },
      {
       "output_type": "stream",
       "stream": "stderr",
       "text": [
        " 83% |################################################          | ETA:  0:00:04\r",
        " 84% |################################################          | ETA:  0:00:03\r"
       ]
      },
      {
       "output_type": "stream",
       "stream": "stderr",
       "text": [
        " 85% |#################################################         | ETA:  0:00:03\r",
        " 86% |##################################################        | ETA:  0:00:03\r"
       ]
      },
      {
       "output_type": "stream",
       "stream": "stderr",
       "text": [
        " 87% |##################################################        | ETA:  0:00:03\r",
        " 88% |###################################################       | ETA:  0:00:02\r"
       ]
      },
      {
       "output_type": "stream",
       "stream": "stderr",
       "text": [
        " 89% |###################################################       | ETA:  0:00:02\r",
        " 90% |####################################################      | ETA:  0:00:02\r"
       ]
      },
      {
       "output_type": "stream",
       "stream": "stderr",
       "text": [
        " 91% |####################################################      | ETA:  0:00:02\r",
        " 92% |#####################################################     | ETA:  0:00:01\r"
       ]
      },
      {
       "output_type": "stream",
       "stream": "stderr",
       "text": [
        " 93% |######################################################    | ETA:  0:00:01\r",
        " 94% |######################################################    | ETA:  0:00:01\r"
       ]
      },
      {
       "output_type": "stream",
       "stream": "stderr",
       "text": [
        " 95% |#######################################################   | ETA:  0:00:01\r",
        " 96% |#######################################################   | ETA:  0:00:00\r"
       ]
      },
      {
       "output_type": "stream",
       "stream": "stderr",
       "text": [
        " 97% |########################################################  | ETA:  0:00:00\r",
        " 98% |######################################################### | ETA:  0:00:00\r"
       ]
      },
      {
       "output_type": "stream",
       "stream": "stderr",
       "text": [
        " 99% |######################################################### | ETA:  0:00:00\r",
        "100% |##########################################################| Time: 0:00:24\r"
       ]
      },
      {
       "output_type": "stream",
       "stream": "stdout",
       "text": [
        "\n",
        "\n",
        "MCEqRun::_forward_euler(): time elapsed during integration: 24.6081418991 sec"
       ]
      },
      {
       "output_type": "stream",
       "stream": "stdout",
       "text": [
        "\n",
        "MCEqRun::set_obs_particles(): Converted names:Ds+, Ds-\n",
        "to: 431, -431\n",
        "MCEqRun::_init_default_matrices():Start filling matrices.\n",
        "MCEqRun::_convert_to_sparse():Converting to sparse (CSR) matrix format."
       ]
      },
      {
       "output_type": "stream",
       "stream": "stdout",
       "text": [
        "\n",
        "C Matrix info:"
       ]
      },
      {
       "output_type": "stream",
       "stream": "stderr",
       "text": [
        "\n",
        "  0% |                                                         | ETA:  --:--:--\r"
       ]
      },
      {
       "output_type": "stream",
       "stream": "stderr",
       "text": [
        "  1% |                                                          | ETA:  0:00:23\r",
        "  2% |#                                                         | ETA:  0:00:22\r"
       ]
      },
      {
       "output_type": "stream",
       "stream": "stderr",
       "text": [
        "  3% |#                                                         | ETA:  0:00:21\r",
        "  4% |##                                                        | ETA:  0:00:21\r"
       ]
      },
      {
       "output_type": "stream",
       "stream": "stderr",
       "text": [
        "  5% |##                                                        | ETA:  0:00:21\r",
        "  6% |###                                                       | ETA:  0:00:20\r"
       ]
      },
      {
       "output_type": "stream",
       "stream": "stderr",
       "text": [
        "  7% |####                                                      | ETA:  0:00:20\r",
        "  8% |####                                                      | ETA:  0:00:20\r"
       ]
      },
      {
       "output_type": "stream",
       "stream": "stderr",
       "text": [
        "  9% |#####                                                     | ETA:  0:00:20\r",
        " 10% |#####                                                     | ETA:  0:00:19\r"
       ]
      },
      {
       "output_type": "stream",
       "stream": "stderr",
       "text": [
        " 11% |######                                                    | ETA:  0:00:19\r",
        " 12% |#######                                                   | ETA:  0:00:19\r"
       ]
      },
      {
       "output_type": "stream",
       "stream": "stderr",
       "text": [
        " 13% |#######                                                   | ETA:  0:00:19\r",
        " 14% |########                                                  | ETA:  0:00:18\r"
       ]
      },
      {
       "output_type": "stream",
       "stream": "stderr",
       "text": [
        " 15% |########                                                  | ETA:  0:00:18\r",
        " 16% |#########                                                 | ETA:  0:00:18\r"
       ]
      },
      {
       "output_type": "stream",
       "stream": "stderr",
       "text": [
        " 17% |##########                                                | ETA:  0:00:18\r",
        " 18% |##########                                                | ETA:  0:00:18\r"
       ]
      },
      {
       "output_type": "stream",
       "stream": "stderr",
       "text": [
        " 19% |###########                                               | ETA:  0:00:17\r",
        " 20% |###########                                               | ETA:  0:00:17\r"
       ]
      },
      {
       "output_type": "stream",
       "stream": "stderr",
       "text": [
        " 21% |############                                              | ETA:  0:00:17\r",
        " 22% |############                                              | ETA:  0:00:17\r"
       ]
      },
      {
       "output_type": "stream",
       "stream": "stderr",
       "text": [
        " 23% |#############                                             | ETA:  0:00:16\r",
        " 24% |##############                                            | ETA:  0:00:16\r"
       ]
      },
      {
       "output_type": "stream",
       "stream": "stderr",
       "text": [
        " 25% |##############                                            | ETA:  0:00:16\r",
        " 26% |###############                                           | ETA:  0:00:16\r"
       ]
      },
      {
       "output_type": "stream",
       "stream": "stderr",
       "text": [
        " 27% |###############                                           | ETA:  0:00:16\r",
        " 28% |################                                          | ETA:  0:00:15\r"
       ]
      },
      {
       "output_type": "stream",
       "stream": "stderr",
       "text": [
        " 29% |#################                                         | ETA:  0:00:15\r",
        " 30% |#################                                         | ETA:  0:00:15\r"
       ]
      },
      {
       "output_type": "stream",
       "stream": "stderr",
       "text": [
        " 31% |##################                                        | ETA:  0:00:15\r",
        " 32% |##################                                        | ETA:  0:00:15\r"
       ]
      },
      {
       "output_type": "stream",
       "stream": "stderr",
       "text": [
        " 33% |###################                                       | ETA:  0:00:14\r",
        " 34% |####################                                      | ETA:  0:00:14\r"
       ]
      },
      {
       "output_type": "stream",
       "stream": "stderr",
       "text": [
        " 35% |####################                                      | ETA:  0:00:14\r",
        " 36% |#####################                                     | ETA:  0:00:14\r"
       ]
      },
      {
       "output_type": "stream",
       "stream": "stderr",
       "text": [
        " 37% |#####################                                     | ETA:  0:00:13\r",
        " 38% |######################                                    | ETA:  0:00:13\r"
       ]
      },
      {
       "output_type": "stream",
       "stream": "stderr",
       "text": [
        " 39% |######################                                    | ETA:  0:00:13\r",
        " 40% |#######################                                   | ETA:  0:00:13\r"
       ]
      },
      {
       "output_type": "stream",
       "stream": "stderr",
       "text": [
        " 41% |########################                                  | ETA:  0:00:12\r",
        " 42% |########################                                  | ETA:  0:00:12\r"
       ]
      },
      {
       "output_type": "stream",
       "stream": "stderr",
       "text": [
        " 43% |#########################                                 | ETA:  0:00:12\r",
        " 44% |#########################                                 | ETA:  0:00:12\r"
       ]
      },
      {
       "output_type": "stream",
       "stream": "stderr",
       "text": [
        " 45% |##########################                                | ETA:  0:00:12\r",
        " 46% |###########################                               | ETA:  0:00:11\r"
       ]
      },
      {
       "output_type": "stream",
       "stream": "stderr",
       "text": [
        " 47% |###########################                               | ETA:  0:00:11\r",
        " 48% |############################                              | ETA:  0:00:11\r"
       ]
      },
      {
       "output_type": "stream",
       "stream": "stderr",
       "text": [
        " 49% |############################                              | ETA:  0:00:11\r",
        " 50% |#############################                             | ETA:  0:00:10\r"
       ]
      },
      {
       "output_type": "stream",
       "stream": "stderr",
       "text": [
        " 51% |##############################                            | ETA:  0:00:10\r",
        " 52% |##############################                            | ETA:  0:00:10\r"
       ]
      },
      {
       "output_type": "stream",
       "stream": "stderr",
       "text": [
        " 53% |###############################                           | ETA:  0:00:10\r",
        " 54% |###############################                           | ETA:  0:00:10\r"
       ]
      },
      {
       "output_type": "stream",
       "stream": "stderr",
       "text": [
        " 55% |################################                          | ETA:  0:00:09\r",
        " 56% |################################                          | ETA:  0:00:09\r"
       ]
      },
      {
       "output_type": "stream",
       "stream": "stderr",
       "text": [
        " 57% |#################################                         | ETA:  0:00:09\r",
        " 58% |##################################                        | ETA:  0:00:09\r"
       ]
      },
      {
       "output_type": "stream",
       "stream": "stderr",
       "text": [
        " 59% |##################################                        | ETA:  0:00:08\r",
        " 60% |###################################                       | ETA:  0:00:08\r"
       ]
      },
      {
       "output_type": "stream",
       "stream": "stderr",
       "text": [
        " 61% |###################################                       | ETA:  0:00:08\r",
        " 62% |####################################                      | ETA:  0:00:08\r"
       ]
      },
      {
       "output_type": "stream",
       "stream": "stderr",
       "text": [
        " 63% |#####################################                     | ETA:  0:00:07\r",
        " 64% |#####################################                     | ETA:  0:00:07\r"
       ]
      },
      {
       "output_type": "stream",
       "stream": "stderr",
       "text": [
        " 65% |######################################                    | ETA:  0:00:07\r",
        " 66% |######################################                    | ETA:  0:00:07\r"
       ]
      },
      {
       "output_type": "stream",
       "stream": "stderr",
       "text": [
        " 68% |#######################################                   | ETA:  0:00:07\r",
        " 69% |########################################                  | ETA:  0:00:06\r"
       ]
      },
      {
       "output_type": "stream",
       "stream": "stderr",
       "text": [
        " 70% |########################################                  | ETA:  0:00:06\r",
        " 71% |#########################################                 | ETA:  0:00:06\r"
       ]
      },
      {
       "output_type": "stream",
       "stream": "stderr",
       "text": [
        " 72% |#########################################                 | ETA:  0:00:06\r",
        " 73% |##########################################                | ETA:  0:00:05\r"
       ]
      },
      {
       "output_type": "stream",
       "stream": "stderr",
       "text": [
        " 74% |##########################################                | ETA:  0:00:05\r",
        " 75% |###########################################               | ETA:  0:00:05\r"
       ]
      },
      {
       "output_type": "stream",
       "stream": "stderr",
       "text": [
        " 76% |############################################              | ETA:  0:00:05\r",
        " 77% |############################################              | ETA:  0:00:05\r"
       ]
      },
      {
       "output_type": "stream",
       "stream": "stderr",
       "text": [
        " 78% |#############################################             | ETA:  0:00:04\r",
        " 79% |#############################################             | ETA:  0:00:04\r"
       ]
      },
      {
       "output_type": "stream",
       "stream": "stderr",
       "text": [
        " 80% |##############################################            | ETA:  0:00:04\r",
        " 81% |###############################################           | ETA:  0:00:04\r"
       ]
      },
      {
       "output_type": "stream",
       "stream": "stderr",
       "text": [
        " 82% |###############################################           | ETA:  0:00:03\r",
        " 83% |################################################          | ETA:  0:00:03\r"
       ]
      },
      {
       "output_type": "stream",
       "stream": "stderr",
       "text": [
        " 84% |################################################          | ETA:  0:00:03\r",
        " 85% |#################################################         | ETA:  0:00:03\r"
       ]
      },
      {
       "output_type": "stream",
       "stream": "stderr",
       "text": [
        " 86% |##################################################        | ETA:  0:00:03\r",
        " 87% |##################################################        | ETA:  0:00:02\r"
       ]
      },
      {
       "output_type": "stream",
       "stream": "stderr",
       "text": [
        " 88% |###################################################       | ETA:  0:00:02\r",
        " 89% |###################################################       | ETA:  0:00:02\r"
       ]
      },
      {
       "output_type": "stream",
       "stream": "stderr",
       "text": [
        " 90% |####################################################      | ETA:  0:00:02\r",
        " 91% |####################################################      | ETA:  0:00:01\r"
       ]
      },
      {
       "output_type": "stream",
       "stream": "stderr",
       "text": [
        " 92% |#####################################################     | ETA:  0:00:01\r",
        " 93% |######################################################    | ETA:  0:00:01\r"
       ]
      },
      {
       "output_type": "stream",
       "stream": "stderr",
       "text": [
        " 94% |######################################################    | ETA:  0:00:01\r",
        " 95% |#######################################################   | ETA:  0:00:01\r"
       ]
      },
      {
       "output_type": "stream",
       "stream": "stderr",
       "text": [
        " 96% |#######################################################   | ETA:  0:00:00\r",
        " 97% |########################################################  | ETA:  0:00:00\r"
       ]
      },
      {
       "output_type": "stream",
       "stream": "stderr",
       "text": [
        " 98% |######################################################### | ETA:  0:00:00\r",
        " 99% |######################################################### | ETA:  0:00:00\r"
       ]
      },
      {
       "output_type": "stream",
       "stream": "stdout",
       "text": [
        "\n",
        "    density    : 6.20752501012e-07\n",
        "    shape      : (6264, 6264)\n",
        "    nnz        : 1610948\n",
        "D Matrix info:\n",
        "    density    : 3.27981764214e-06\n",
        "    shape      : (6264, 6264)\n",
        "    nnz        : 304895\n",
        "MCEqRun::_init_default_matrices():Done filling matrices.\n",
        "MCEqRun::_calculate_integration_path():\n",
        "MCEqRun::_forward_euler(): Solver will perform 4729 integration steps.\n",
        "\n",
        "MCEqRun::_forward_euler(): time elapsed during integration: 22.2145161629 sec"
       ]
      },
      {
       "output_type": "stream",
       "stream": "stdout",
       "text": [
        "\n",
        "MCEqRun::set_obs_particles(): Converted names:K0S\n",
        "to: 310\n",
        "MCEqRun::_init_default_matrices():Start filling matrices.\n",
        "MCEqRun::_convert_to_sparse():Converting to sparse (CSR) matrix format."
       ]
      },
      {
       "output_type": "stream",
       "stream": "stdout",
       "text": [
        "\n",
        "C Matrix info:"
       ]
      },
      {
       "output_type": "stream",
       "stream": "stderr",
       "text": [
        "100% |##########################################################| Time: 0:00:22\r\n",
        "  0% |                                                         | ETA:  --:--:--\r"
       ]
      },
      {
       "output_type": "stream",
       "stream": "stderr",
       "text": [
        "  1% |                                                          | ETA:  0:00:21\r",
        "  2% |#                                                         | ETA:  0:00:20\r"
       ]
      },
      {
       "output_type": "stream",
       "stream": "stderr",
       "text": [
        "  3% |#                                                         | ETA:  0:00:19\r",
        "  4% |##                                                        | ETA:  0:00:19\r"
       ]
      },
      {
       "output_type": "stream",
       "stream": "stderr",
       "text": [
        "  5% |##                                                        | ETA:  0:00:19\r",
        "  6% |###                                                       | ETA:  0:00:18\r"
       ]
      },
      {
       "output_type": "stream",
       "stream": "stderr",
       "text": [
        "  7% |####                                                      | ETA:  0:00:18\r",
        "  8% |####                                                      | ETA:  0:00:18\r"
       ]
      },
      {
       "output_type": "stream",
       "stream": "stderr",
       "text": [
        "  9% |#####                                                     | ETA:  0:00:18\r",
        " 10% |#####                                                     | ETA:  0:00:18\r"
       ]
      },
      {
       "output_type": "stream",
       "stream": "stderr",
       "text": [
        " 11% |######                                                    | ETA:  0:00:18\r",
        " 12% |#######                                                   | ETA:  0:00:18\r"
       ]
      },
      {
       "output_type": "stream",
       "stream": "stderr",
       "text": [
        " 13% |#######                                                   | ETA:  0:00:17\r",
        " 14% |########                                                  | ETA:  0:00:17\r"
       ]
      },
      {
       "output_type": "stream",
       "stream": "stderr",
       "text": [
        " 15% |########                                                  | ETA:  0:00:17\r",
        " 16% |#########                                                 | ETA:  0:00:17\r"
       ]
      },
      {
       "output_type": "stream",
       "stream": "stderr",
       "text": [
        " 17% |##########                                                | ETA:  0:00:16\r",
        " 18% |##########                                                | ETA:  0:00:16\r"
       ]
      },
      {
       "output_type": "stream",
       "stream": "stderr",
       "text": [
        " 19% |###########                                               | ETA:  0:00:16\r",
        " 20% |###########                                               | ETA:  0:00:16\r"
       ]
      },
      {
       "output_type": "stream",
       "stream": "stderr",
       "text": [
        " 21% |############                                              | ETA:  0:00:16\r",
        " 22% |############                                              | ETA:  0:00:15\r"
       ]
      },
      {
       "output_type": "stream",
       "stream": "stderr",
       "text": [
        " 23% |#############                                             | ETA:  0:00:15\r",
        " 24% |##############                                            | ETA:  0:00:15\r"
       ]
      },
      {
       "output_type": "stream",
       "stream": "stderr",
       "text": [
        " 25% |##############                                            | ETA:  0:00:15\r",
        " 26% |###############                                           | ETA:  0:00:15\r"
       ]
      },
      {
       "output_type": "stream",
       "stream": "stderr",
       "text": [
        " 27% |###############                                           | ETA:  0:00:15\r",
        " 28% |################                                          | ETA:  0:00:14\r"
       ]
      },
      {
       "output_type": "stream",
       "stream": "stderr",
       "text": [
        " 29% |#################                                         | ETA:  0:00:14\r",
        " 30% |#################                                         | ETA:  0:00:14\r"
       ]
      },
      {
       "output_type": "stream",
       "stream": "stderr",
       "text": [
        " 31% |##################                                        | ETA:  0:00:14\r",
        " 32% |##################                                        | ETA:  0:00:14\r"
       ]
      },
      {
       "output_type": "stream",
       "stream": "stderr",
       "text": [
        " 33% |###################                                       | ETA:  0:00:13\r",
        " 34% |####################                                      | ETA:  0:00:13\r"
       ]
      },
      {
       "output_type": "stream",
       "stream": "stderr",
       "text": [
        " 35% |####################                                      | ETA:  0:00:13\r",
        " 36% |#####################                                     | ETA:  0:00:13\r"
       ]
      },
      {
       "output_type": "stream",
       "stream": "stderr",
       "text": [
        " 37% |#####################                                     | ETA:  0:00:13\r",
        " 38% |######################                                    | ETA:  0:00:12\r"
       ]
      },
      {
       "output_type": "stream",
       "stream": "stderr",
       "text": [
        " 39% |######################                                    | ETA:  0:00:12\r",
        " 40% |#######################                                   | ETA:  0:00:12\r"
       ]
      },
      {
       "output_type": "stream",
       "stream": "stderr",
       "text": [
        " 41% |########################                                  | ETA:  0:00:12\r",
        " 42% |########################                                  | ETA:  0:00:11\r"
       ]
      },
      {
       "output_type": "stream",
       "stream": "stderr",
       "text": [
        " 43% |#########################                                 | ETA:  0:00:11\r",
        " 44% |#########################                                 | ETA:  0:00:11\r"
       ]
      },
      {
       "output_type": "stream",
       "stream": "stderr",
       "text": [
        " 45% |##########################                                | ETA:  0:00:11\r",
        " 46% |###########################                               | ETA:  0:00:11\r"
       ]
      },
      {
       "output_type": "stream",
       "stream": "stderr",
       "text": [
        " 47% |###########################                               | ETA:  0:00:10\r",
        " 48% |############################                              | ETA:  0:00:10\r"
       ]
      },
      {
       "output_type": "stream",
       "stream": "stderr",
       "text": [
        " 49% |############################                              | ETA:  0:00:10\r",
        " 50% |#############################                             | ETA:  0:00:10\r"
       ]
      },
      {
       "output_type": "stream",
       "stream": "stderr",
       "text": [
        " 51% |##############################                            | ETA:  0:00:09\r",
        " 52% |##############################                            | ETA:  0:00:09\r"
       ]
      },
      {
       "output_type": "stream",
       "stream": "stderr",
       "text": [
        " 53% |###############################                           | ETA:  0:00:09\r",
        " 54% |###############################                           | ETA:  0:00:09\r"
       ]
      },
      {
       "output_type": "stream",
       "stream": "stderr",
       "text": [
        " 55% |################################                          | ETA:  0:00:09\r",
        " 56% |################################                          | ETA:  0:00:08\r"
       ]
      },
      {
       "output_type": "stream",
       "stream": "stderr",
       "text": [
        " 57% |#################################                         | ETA:  0:00:08\r",
        " 58% |##################################                        | ETA:  0:00:08\r"
       ]
      },
      {
       "output_type": "stream",
       "stream": "stderr",
       "text": [
        " 59% |##################################                        | ETA:  0:00:08\r",
        " 60% |###################################                       | ETA:  0:00:08\r"
       ]
      },
      {
       "output_type": "stream",
       "stream": "stderr",
       "text": [
        " 61% |###################################                       | ETA:  0:00:07\r",
        " 62% |####################################                      | ETA:  0:00:07\r"
       ]
      },
      {
       "output_type": "stream",
       "stream": "stderr",
       "text": [
        " 63% |#####################################                     | ETA:  0:00:07\r",
        " 64% |#####################################                     | ETA:  0:00:07\r"
       ]
      },
      {
       "output_type": "stream",
       "stream": "stderr",
       "text": [
        " 65% |######################################                    | ETA:  0:00:06\r",
        " 66% |######################################                    | ETA:  0:00:06\r"
       ]
      },
      {
       "output_type": "stream",
       "stream": "stderr",
       "text": [
        " 68% |#######################################                   | ETA:  0:00:06\r",
        " 69% |########################################                  | ETA:  0:00:06\r"
       ]
      },
      {
       "output_type": "stream",
       "stream": "stderr",
       "text": [
        " 70% |########################################                  | ETA:  0:00:06\r",
        " 71% |#########################################                 | ETA:  0:00:05\r"
       ]
      },
      {
       "output_type": "stream",
       "stream": "stderr",
       "text": [
        " 72% |#########################################                 | ETA:  0:00:05\r",
        " 73% |##########################################                | ETA:  0:00:05\r"
       ]
      },
      {
       "output_type": "stream",
       "stream": "stderr",
       "text": [
        " 74% |##########################################                | ETA:  0:00:05\r",
        " 75% |###########################################               | ETA:  0:00:05\r"
       ]
      },
      {
       "output_type": "stream",
       "stream": "stderr",
       "text": [
        " 76% |############################################              | ETA:  0:00:04\r",
        " 77% |############################################              | ETA:  0:00:04\r"
       ]
      },
      {
       "output_type": "stream",
       "stream": "stderr",
       "text": [
        " 78% |#############################################             | ETA:  0:00:04\r",
        " 79% |#############################################             | ETA:  0:00:04\r"
       ]
      },
      {
       "output_type": "stream",
       "stream": "stderr",
       "text": [
        " 80% |##############################################            | ETA:  0:00:04\r",
        " 81% |###############################################           | ETA:  0:00:03\r"
       ]
      },
      {
       "output_type": "stream",
       "stream": "stderr",
       "text": [
        " 82% |###############################################           | ETA:  0:00:03\r",
        " 83% |################################################          | ETA:  0:00:03\r"
       ]
      },
      {
       "output_type": "stream",
       "stream": "stderr",
       "text": [
        " 84% |################################################          | ETA:  0:00:03\r",
        " 85% |#################################################         | ETA:  0:00:03\r"
       ]
      },
      {
       "output_type": "stream",
       "stream": "stderr",
       "text": [
        " 86% |##################################################        | ETA:  0:00:02\r",
        " 87% |##################################################        | ETA:  0:00:02\r"
       ]
      },
      {
       "output_type": "stream",
       "stream": "stderr",
       "text": [
        " 88% |###################################################       | ETA:  0:00:02\r",
        " 89% |###################################################       | ETA:  0:00:02\r"
       ]
      },
      {
       "output_type": "stream",
       "stream": "stderr",
       "text": [
        " 90% |####################################################      | ETA:  0:00:01\r",
        " 91% |####################################################      | ETA:  0:00:01\r"
       ]
      },
      {
       "output_type": "stream",
       "stream": "stderr",
       "text": [
        " 92% |#####################################################     | ETA:  0:00:01\r",
        " 93% |######################################################    | ETA:  0:00:01\r"
       ]
      },
      {
       "output_type": "stream",
       "stream": "stderr",
       "text": [
        " 94% |######################################################    | ETA:  0:00:01\r",
        " 95% |#######################################################   | ETA:  0:00:00\r"
       ]
      },
      {
       "output_type": "stream",
       "stream": "stderr",
       "text": [
        " 96% |#######################################################   | ETA:  0:00:00\r",
        " 97% |########################################################  | ETA:  0:00:00\r"
       ]
      },
      {
       "output_type": "stream",
       "stream": "stderr",
       "text": [
        " 98% |######################################################### | ETA:  0:00:00\r",
        " 99% |######################################################### | ETA:  0:00:00\r"
       ]
      },
      {
       "output_type": "stream",
       "stream": "stdout",
       "text": [
        "\n",
        "    density    : 7.18662368107e-07\n",
        "    shape      : (6264, 6264)\n",
        "    nnz        : 1391474\n",
        "D Matrix info:\n",
        "    density    : 3.39743154175e-06\n",
        "    shape      : (6264, 6264)\n",
        "    nnz        : 294340\n",
        "MCEqRun::_init_default_matrices():Done filling matrices.\n",
        "MCEqRun::_calculate_integration_path():\n",
        "MCEqRun::_forward_euler(): Solver will perform 4729 integration steps.\n",
        "\n",
        "MCEqRun::_forward_euler(): time elapsed during integration: 20.2925429344 sec"
       ]
      },
      {
       "output_type": "stream",
       "stream": "stdout",
       "text": [
        "\n",
        "MCEqRun::set_obs_particles(): Converted names:K0L\n",
        "to: 130\n",
        "MCEqRun::_init_default_matrices():Start filling matrices.\n",
        "MCEqRun::_convert_to_sparse():Converting to sparse (CSR) matrix format."
       ]
      },
      {
       "output_type": "stream",
       "stream": "stdout",
       "text": [
        "\n",
        "C Matrix info:"
       ]
      },
      {
       "output_type": "stream",
       "stream": "stderr",
       "text": [
        "100% |##########################################################| Time: 0:00:20\r\n",
        "  0% |                                                         | ETA:  --:--:--\r"
       ]
      },
      {
       "output_type": "stream",
       "stream": "stderr",
       "text": [
        "  1% |                                                          | ETA:  0:00:20\r",
        "  2% |#                                                         | ETA:  0:00:20\r"
       ]
      },
      {
       "output_type": "stream",
       "stream": "stderr",
       "text": [
        "  3% |#                                                         | ETA:  0:00:19\r",
        "  4% |##                                                        | ETA:  0:00:19\r"
       ]
      },
      {
       "output_type": "stream",
       "stream": "stderr",
       "text": [
        "  5% |##                                                        | ETA:  0:00:19\r",
        "  6% |###                                                       | ETA:  0:00:18\r"
       ]
      },
      {
       "output_type": "stream",
       "stream": "stderr",
       "text": [
        "  7% |####                                                      | ETA:  0:00:18\r",
        "  8% |####                                                      | ETA:  0:00:18\r"
       ]
      },
      {
       "output_type": "stream",
       "stream": "stderr",
       "text": [
        "  9% |#####                                                     | ETA:  0:00:18\r",
        " 10% |#####                                                     | ETA:  0:00:18\r"
       ]
      },
      {
       "output_type": "stream",
       "stream": "stderr",
       "text": [
        " 11% |######                                                    | ETA:  0:00:17\r",
        " 12% |#######                                                   | ETA:  0:00:17\r"
       ]
      },
      {
       "output_type": "stream",
       "stream": "stderr",
       "text": [
        " 13% |#######                                                   | ETA:  0:00:17\r",
        " 14% |########                                                  | ETA:  0:00:17\r"
       ]
      },
      {
       "output_type": "stream",
       "stream": "stderr",
       "text": [
        " 15% |########                                                  | ETA:  0:00:16\r",
        " 16% |#########                                                 | ETA:  0:00:16\r"
       ]
      },
      {
       "output_type": "stream",
       "stream": "stderr",
       "text": [
        " 17% |##########                                                | ETA:  0:00:16\r",
        " 18% |##########                                                | ETA:  0:00:16\r"
       ]
      },
      {
       "output_type": "stream",
       "stream": "stderr",
       "text": [
        " 19% |###########                                               | ETA:  0:00:16\r",
        " 20% |###########                                               | ETA:  0:00:15\r"
       ]
      },
      {
       "output_type": "stream",
       "stream": "stderr",
       "text": [
        " 21% |############                                              | ETA:  0:00:15\r",
        " 22% |############                                              | ETA:  0:00:15\r"
       ]
      },
      {
       "output_type": "stream",
       "stream": "stderr",
       "text": [
        " 23% |#############                                             | ETA:  0:00:15\r",
        " 24% |##############                                            | ETA:  0:00:15\r"
       ]
      },
      {
       "output_type": "stream",
       "stream": "stderr",
       "text": [
        " 25% |##############                                            | ETA:  0:00:14\r",
        " 26% |###############                                           | ETA:  0:00:14\r"
       ]
      },
      {
       "output_type": "stream",
       "stream": "stderr",
       "text": [
        " 27% |###############                                           | ETA:  0:00:14\r",
        " 28% |################                                          | ETA:  0:00:14\r"
       ]
      },
      {
       "output_type": "stream",
       "stream": "stderr",
       "text": [
        " 29% |#################                                         | ETA:  0:00:14\r",
        " 30% |#################                                         | ETA:  0:00:13\r"
       ]
      },
      {
       "output_type": "stream",
       "stream": "stderr",
       "text": [
        " 31% |##################                                        | ETA:  0:00:13\r",
        " 32% |##################                                        | ETA:  0:00:13\r"
       ]
      },
      {
       "output_type": "stream",
       "stream": "stderr",
       "text": [
        " 33% |###################                                       | ETA:  0:00:13\r",
        " 34% |####################                                      | ETA:  0:00:13\r"
       ]
      },
      {
       "output_type": "stream",
       "stream": "stderr",
       "text": [
        " 35% |####################                                      | ETA:  0:00:12\r",
        " 36% |#####################                                     | ETA:  0:00:12\r"
       ]
      },
      {
       "output_type": "stream",
       "stream": "stderr",
       "text": [
        " 37% |#####################                                     | ETA:  0:00:12\r",
        " 38% |######################                                    | ETA:  0:00:12\r"
       ]
      },
      {
       "output_type": "stream",
       "stream": "stderr",
       "text": [
        " 39% |######################                                    | ETA:  0:00:12\r",
        " 40% |#######################                                   | ETA:  0:00:11\r"
       ]
      },
      {
       "output_type": "stream",
       "stream": "stderr",
       "text": [
        " 41% |########################                                  | ETA:  0:00:11\r",
        " 42% |########################                                  | ETA:  0:00:11\r"
       ]
      },
      {
       "output_type": "stream",
       "stream": "stderr",
       "text": [
        " 43% |#########################                                 | ETA:  0:00:11\r",
        " 44% |#########################                                 | ETA:  0:00:11\r"
       ]
      },
      {
       "output_type": "stream",
       "stream": "stderr",
       "text": [
        " 45% |##########################                                | ETA:  0:00:10\r",
        " 46% |###########################                               | ETA:  0:00:10\r"
       ]
      },
      {
       "output_type": "stream",
       "stream": "stderr",
       "text": [
        " 47% |###########################                               | ETA:  0:00:10\r",
        " 48% |############################                              | ETA:  0:00:10\r"
       ]
      },
      {
       "output_type": "stream",
       "stream": "stderr",
       "text": [
        " 49% |############################                              | ETA:  0:00:09\r",
        " 50% |#############################                             | ETA:  0:00:09\r"
       ]
      },
      {
       "output_type": "stream",
       "stream": "stderr",
       "text": [
        " 51% |##############################                            | ETA:  0:00:09\r",
        " 52% |##############################                            | ETA:  0:00:09\r"
       ]
      },
      {
       "output_type": "stream",
       "stream": "stderr",
       "text": [
        " 53% |###############################                           | ETA:  0:00:09\r",
        " 54% |###############################                           | ETA:  0:00:08\r"
       ]
      },
      {
       "output_type": "stream",
       "stream": "stderr",
       "text": [
        " 55% |################################                          | ETA:  0:00:08\r",
        " 56% |################################                          | ETA:  0:00:08\r"
       ]
      },
      {
       "output_type": "stream",
       "stream": "stderr",
       "text": [
        " 57% |#################################                         | ETA:  0:00:08\r",
        " 58% |##################################                        | ETA:  0:00:08\r"
       ]
      },
      {
       "output_type": "stream",
       "stream": "stderr",
       "text": [
        " 59% |##################################                        | ETA:  0:00:08\r",
        " 60% |###################################                       | ETA:  0:00:07\r"
       ]
      },
      {
       "output_type": "stream",
       "stream": "stderr",
       "text": [
        " 61% |###################################                       | ETA:  0:00:07\r",
        " 62% |####################################                      | ETA:  0:00:07\r"
       ]
      },
      {
       "output_type": "stream",
       "stream": "stderr",
       "text": [
        " 63% |#####################################                     | ETA:  0:00:07\r",
        " 64% |#####################################                     | ETA:  0:00:07\r"
       ]
      },
      {
       "output_type": "stream",
       "stream": "stderr",
       "text": [
        " 65% |######################################                    | ETA:  0:00:06\r",
        " 66% |######################################                    | ETA:  0:00:06\r"
       ]
      },
      {
       "output_type": "stream",
       "stream": "stderr",
       "text": [
        " 68% |#######################################                   | ETA:  0:00:06\r",
        " 69% |########################################                  | ETA:  0:00:06\r"
       ]
      },
      {
       "output_type": "stream",
       "stream": "stderr",
       "text": [
        " 70% |########################################                  | ETA:  0:00:06\r",
        " 71% |#########################################                 | ETA:  0:00:05\r"
       ]
      },
      {
       "output_type": "stream",
       "stream": "stderr",
       "text": [
        " 72% |#########################################                 | ETA:  0:00:05\r",
        " 73% |##########################################                | ETA:  0:00:05\r"
       ]
      },
      {
       "output_type": "stream",
       "stream": "stderr",
       "text": [
        " 74% |##########################################                | ETA:  0:00:05\r",
        " 75% |###########################################               | ETA:  0:00:05\r"
       ]
      },
      {
       "output_type": "stream",
       "stream": "stderr",
       "text": [
        " 76% |############################################              | ETA:  0:00:04\r",
        " 77% |############################################              | ETA:  0:00:04\r"
       ]
      },
      {
       "output_type": "stream",
       "stream": "stderr",
       "text": [
        " 78% |#############################################             | ETA:  0:00:04\r",
        " 79% |#############################################             | ETA:  0:00:04\r"
       ]
      },
      {
       "output_type": "stream",
       "stream": "stderr",
       "text": [
        " 80% |##############################################            | ETA:  0:00:04\r",
        " 81% |###############################################           | ETA:  0:00:03\r"
       ]
      },
      {
       "output_type": "stream",
       "stream": "stderr",
       "text": [
        " 82% |###############################################           | ETA:  0:00:03\r",
        " 83% |################################################          | ETA:  0:00:03\r"
       ]
      },
      {
       "output_type": "stream",
       "stream": "stderr",
       "text": [
        " 84% |################################################          | ETA:  0:00:03\r",
        " 85% |#################################################         | ETA:  0:00:03\r"
       ]
      },
      {
       "output_type": "stream",
       "stream": "stderr",
       "text": [
        " 86% |##################################################        | ETA:  0:00:02\r",
        " 87% |##################################################        | ETA:  0:00:02\r"
       ]
      },
      {
       "output_type": "stream",
       "stream": "stderr",
       "text": [
        " 88% |###################################################       | ETA:  0:00:02\r",
        " 89% |###################################################       | ETA:  0:00:02\r"
       ]
      },
      {
       "output_type": "stream",
       "stream": "stderr",
       "text": [
        " 90% |####################################################      | ETA:  0:00:01\r",
        " 91% |####################################################      | ETA:  0:00:01\r"
       ]
      },
      {
       "output_type": "stream",
       "stream": "stderr",
       "text": [
        " 92% |#####################################################     | ETA:  0:00:01\r",
        " 93% |######################################################    | ETA:  0:00:01\r"
       ]
      },
      {
       "output_type": "stream",
       "stream": "stderr",
       "text": [
        " 94% |######################################################    | ETA:  0:00:01\r",
        " 95% |#######################################################   | ETA:  0:00:00\r"
       ]
      },
      {
       "output_type": "stream",
       "stream": "stderr",
       "text": [
        " 96% |#######################################################   | ETA:  0:00:00\r",
        " 97% |########################################################  | ETA:  0:00:00\r"
       ]
      },
      {
       "output_type": "stream",
       "stream": "stderr",
       "text": [
        " 98% |######################################################### | ETA:  0:00:00\r",
        " 99% |######################################################### | ETA:  0:00:00\r"
       ]
      },
      {
       "output_type": "stream",
       "stream": "stdout",
       "text": [
        "\n",
        "    density    : 7.3207942769e-07\n",
        "    shape      : (6264, 6264)\n",
        "    nnz        : 1365972\n",
        "D Matrix info:\n",
        "    density    : 3.31188336872e-06\n",
        "    shape      : (6264, 6264)\n",
        "    nnz        : 301943\n",
        "MCEqRun::_init_default_matrices():Done filling matrices.\n",
        "MCEqRun::_calculate_integration_path():\n",
        "MCEqRun::_forward_euler(): Solver will perform 4729 integration steps.\n",
        "\n",
        "MCEqRun::_forward_euler(): time elapsed during integration: 20.468670845 sec"
       ]
      },
      {
       "output_type": "stream",
       "stream": "stdout",
       "text": [
        "\n",
        "MCEqRun::set_obs_particles(): Converted names:LambdaC+, LambdaC+-bar\n",
        "to: 4122, -4122\n",
        "MCEqRun::_init_default_matrices():Start filling matrices.\n",
        "MCEqRun::_convert_to_sparse():Converting to sparse (CSR) matrix format."
       ]
      },
      {
       "output_type": "stream",
       "stream": "stdout",
       "text": [
        "\n",
        "C Matrix info:"
       ]
      },
      {
       "output_type": "stream",
       "stream": "stderr",
       "text": [
        "100% |##########################################################| Time: 0:00:20\r\n",
        "  0% |                                                         | ETA:  --:--:--\r"
       ]
      },
      {
       "output_type": "stream",
       "stream": "stderr",
       "text": [
        "  1% |                                                          | ETA:  0:00:22\r",
        "  2% |#                                                         | ETA:  0:00:22\r"
       ]
      },
      {
       "output_type": "stream",
       "stream": "stderr",
       "text": [
        "  3% |#                                                         | ETA:  0:00:21\r",
        "  4% |##                                                        | ETA:  0:00:21\r"
       ]
      },
      {
       "output_type": "stream",
       "stream": "stderr",
       "text": [
        "  5% |##                                                        | ETA:  0:00:21\r",
        "  6% |###                                                       | ETA:  0:00:21\r"
       ]
      },
      {
       "output_type": "stream",
       "stream": "stderr",
       "text": [
        "  7% |####                                                      | ETA:  0:00:21\r",
        "  8% |####                                                      | ETA:  0:00:20\r"
       ]
      },
      {
       "output_type": "stream",
       "stream": "stderr",
       "text": [
        "  9% |#####                                                     | ETA:  0:00:20\r",
        " 10% |#####                                                     | ETA:  0:00:20\r"
       ]
      },
      {
       "output_type": "stream",
       "stream": "stderr",
       "text": [
        " 11% |######                                                    | ETA:  0:00:20\r",
        " 12% |#######                                                   | ETA:  0:00:19\r"
       ]
      },
      {
       "output_type": "stream",
       "stream": "stderr",
       "text": [
        " 13% |#######                                                   | ETA:  0:00:19\r",
        " 14% |########                                                  | ETA:  0:00:19\r"
       ]
      },
      {
       "output_type": "stream",
       "stream": "stderr",
       "text": [
        " 15% |########                                                  | ETA:  0:00:19\r",
        " 16% |#########                                                 | ETA:  0:00:19\r"
       ]
      },
      {
       "output_type": "stream",
       "stream": "stderr",
       "text": [
        " 17% |##########                                                | ETA:  0:00:18\r",
        " 18% |##########                                                | ETA:  0:00:18\r"
       ]
      },
      {
       "output_type": "stream",
       "stream": "stderr",
       "text": [
        " 19% |###########                                               | ETA:  0:00:18\r",
        " 20% |###########                                               | ETA:  0:00:18\r"
       ]
      },
      {
       "output_type": "stream",
       "stream": "stderr",
       "text": [
        " 21% |############                                              | ETA:  0:00:17\r",
        " 22% |############                                              | ETA:  0:00:17\r"
       ]
      },
      {
       "output_type": "stream",
       "stream": "stderr",
       "text": [
        " 23% |#############                                             | ETA:  0:00:17\r",
        " 24% |##############                                            | ETA:  0:00:17\r"
       ]
      },
      {
       "output_type": "stream",
       "stream": "stderr",
       "text": [
        " 25% |##############                                            | ETA:  0:00:16\r",
        " 26% |###############                                           | ETA:  0:00:16\r"
       ]
      },
      {
       "output_type": "stream",
       "stream": "stderr",
       "text": [
        " 27% |###############                                           | ETA:  0:00:16\r",
        " 28% |################                                          | ETA:  0:00:16\r"
       ]
      },
      {
       "output_type": "stream",
       "stream": "stderr",
       "text": [
        " 29% |#################                                         | ETA:  0:00:16\r",
        " 30% |#################                                         | ETA:  0:00:15\r"
       ]
      },
      {
       "output_type": "stream",
       "stream": "stderr",
       "text": [
        " 31% |##################                                        | ETA:  0:00:15\r",
        " 32% |##################                                        | ETA:  0:00:15\r"
       ]
      },
      {
       "output_type": "stream",
       "stream": "stderr",
       "text": [
        " 33% |###################                                       | ETA:  0:00:15\r",
        " 34% |####################                                      | ETA:  0:00:14\r"
       ]
      },
      {
       "output_type": "stream",
       "stream": "stderr",
       "text": [
        " 35% |####################                                      | ETA:  0:00:14\r",
        " 36% |#####################                                     | ETA:  0:00:14\r"
       ]
      },
      {
       "output_type": "stream",
       "stream": "stderr",
       "text": [
        " 37% |#####################                                     | ETA:  0:00:14\r",
        " 38% |######################                                    | ETA:  0:00:14\r"
       ]
      },
      {
       "output_type": "stream",
       "stream": "stderr",
       "text": [
        " 39% |######################                                    | ETA:  0:00:13\r",
        " 40% |#######################                                   | ETA:  0:00:13\r"
       ]
      },
      {
       "output_type": "stream",
       "stream": "stderr",
       "text": [
        " 41% |########################                                  | ETA:  0:00:13\r",
        " 42% |########################                                  | ETA:  0:00:13\r"
       ]
      },
      {
       "output_type": "stream",
       "stream": "stderr",
       "text": [
        " 43% |#########################                                 | ETA:  0:00:12\r",
        " 44% |#########################                                 | ETA:  0:00:12\r"
       ]
      },
      {
       "output_type": "stream",
       "stream": "stderr",
       "text": [
        " 45% |##########################                                | ETA:  0:00:12\r",
        " 46% |###########################                               | ETA:  0:00:12\r"
       ]
      },
      {
       "output_type": "stream",
       "stream": "stderr",
       "text": [
        " 47% |###########################                               | ETA:  0:00:11\r",
        " 48% |############################                              | ETA:  0:00:11\r"
       ]
      },
      {
       "output_type": "stream",
       "stream": "stderr",
       "text": [
        " 49% |############################                              | ETA:  0:00:11\r",
        " 50% |#############################                             | ETA:  0:00:11\r"
       ]
      },
      {
       "output_type": "stream",
       "stream": "stderr",
       "text": [
        " 51% |##############################                            | ETA:  0:00:10\r",
        " 52% |##############################                            | ETA:  0:00:10\r"
       ]
      },
      {
       "output_type": "stream",
       "stream": "stderr",
       "text": [
        " 53% |###############################                           | ETA:  0:00:10\r",
        " 54% |###############################                           | ETA:  0:00:10\r"
       ]
      },
      {
       "output_type": "stream",
       "stream": "stderr",
       "text": [
        " 55% |################################                          | ETA:  0:00:10\r",
        " 56% |################################                          | ETA:  0:00:09\r"
       ]
      },
      {
       "output_type": "stream",
       "stream": "stderr",
       "text": [
        " 57% |#################################                         | ETA:  0:00:09\r",
        " 58% |##################################                        | ETA:  0:00:09\r"
       ]
      },
      {
       "output_type": "stream",
       "stream": "stderr",
       "text": [
        " 59% |##################################                        | ETA:  0:00:09\r",
        " 60% |###################################                       | ETA:  0:00:08\r"
       ]
      },
      {
       "output_type": "stream",
       "stream": "stderr",
       "text": [
        " 61% |###################################                       | ETA:  0:00:08\r",
        " 62% |####################################                      | ETA:  0:00:08\r"
       ]
      },
      {
       "output_type": "stream",
       "stream": "stderr",
       "text": [
        " 63% |#####################################                     | ETA:  0:00:08\r",
        " 64% |#####################################                     | ETA:  0:00:07\r"
       ]
      },
      {
       "output_type": "stream",
       "stream": "stderr",
       "text": [
        " 65% |######################################                    | ETA:  0:00:07\r",
        " 66% |######################################                    | ETA:  0:00:07\r"
       ]
      },
      {
       "output_type": "stream",
       "stream": "stderr",
       "text": [
        " 68% |#######################################                   | ETA:  0:00:07\r",
        " 69% |########################################                  | ETA:  0:00:07\r"
       ]
      },
      {
       "output_type": "stream",
       "stream": "stderr",
       "text": [
        " 70% |########################################                  | ETA:  0:00:06\r",
        " 71% |#########################################                 | ETA:  0:00:06\r"
       ]
      },
      {
       "output_type": "stream",
       "stream": "stderr",
       "text": [
        " 72% |#########################################                 | ETA:  0:00:06\r",
        " 73% |##########################################                | ETA:  0:00:06\r"
       ]
      },
      {
       "output_type": "stream",
       "stream": "stderr",
       "text": [
        " 74% |##########################################                | ETA:  0:00:05\r",
        " 75% |###########################################               | ETA:  0:00:05\r"
       ]
      },
      {
       "output_type": "stream",
       "stream": "stderr",
       "text": [
        " 76% |############################################              | ETA:  0:00:05\r",
        " 77% |############################################              | ETA:  0:00:05\r"
       ]
      },
      {
       "output_type": "stream",
       "stream": "stderr",
       "text": [
        " 78% |#############################################             | ETA:  0:00:04\r",
        " 79% |#############################################             | ETA:  0:00:04\r"
       ]
      },
      {
       "output_type": "stream",
       "stream": "stderr",
       "text": [
        " 80% |##############################################            | ETA:  0:00:04\r",
        " 81% |###############################################           | ETA:  0:00:04\r"
       ]
      },
      {
       "output_type": "stream",
       "stream": "stderr",
       "text": [
        " 82% |###############################################           | ETA:  0:00:04\r",
        " 83% |################################################          | ETA:  0:00:03\r"
       ]
      },
      {
       "output_type": "stream",
       "stream": "stderr",
       "text": [
        " 84% |################################################          | ETA:  0:00:03\r",
        " 85% |#################################################         | ETA:  0:00:03\r"
       ]
      },
      {
       "output_type": "stream",
       "stream": "stderr",
       "text": [
        " 86% |##################################################        | ETA:  0:00:03\r",
        " 87% |##################################################        | ETA:  0:00:02\r"
       ]
      },
      {
       "output_type": "stream",
       "stream": "stderr",
       "text": [
        " 88% |###################################################       | ETA:  0:00:02\r",
        " 89% |###################################################       | ETA:  0:00:02\r"
       ]
      },
      {
       "output_type": "stream",
       "stream": "stderr",
       "text": [
        " 90% |####################################################      | ETA:  0:00:02\r",
        " 91% |####################################################      | ETA:  0:00:01\r"
       ]
      },
      {
       "output_type": "stream",
       "stream": "stderr",
       "text": [
        " 92% |#####################################################     | ETA:  0:00:01\r",
        " 93% |######################################################    | ETA:  0:00:01\r"
       ]
      },
      {
       "output_type": "stream",
       "stream": "stderr",
       "text": [
        " 94% |######################################################    | ETA:  0:00:01\r",
        " 95% |#######################################################   | ETA:  0:00:01\r"
       ]
      },
      {
       "output_type": "stream",
       "stream": "stderr",
       "text": [
        " 96% |#######################################################   | ETA:  0:00:00\r",
        " 97% |########################################################  | ETA:  0:00:00\r"
       ]
      },
      {
       "output_type": "stream",
       "stream": "stderr",
       "text": [
        " 98% |######################################################### | ETA:  0:00:00\r",
        " 99% |######################################################### | ETA:  0:00:00\r"
       ]
      },
      {
       "output_type": "stream",
       "stream": "stdout",
       "text": [
        "\n",
        "    density    : 6.38311996691e-07\n",
        "    shape      : (6264, 6264)\n",
        "    nnz        : 1566632\n",
        "D Matrix info:\n",
        "    density    : 3.33091286998e-06\n",
        "    shape      : (6264, 6264)\n",
        "    nnz        : 300218\n",
        "MCEqRun::_init_default_matrices():Done filling matrices.\n",
        "MCEqRun::_calculate_integration_path():\n",
        "MCEqRun::_forward_euler(): Solver will perform 4729 integration steps.\n",
        "\n",
        "MCEqRun::_forward_euler(): time elapsed during integration: 22.5123269558 sec"
       ]
      },
      {
       "output_type": "stream",
       "stream": "stdout",
       "text": [
        "\n",
        "MCEqRun::set_obs_particles(): Converted names:OmegaC0, OmegaC0-bar, XiC+, XiC+-bar, XiC0, XiC0-bar, SigmaC*+, SigmaC*++, tau+, tau-, SigmaC*++-bar, SigmaC*+-bar, SigmaC*0, SigmaC*0-bar, SigmaC+, SigmaC++, SigmaC++-bar, SigmaC+-bar, SigmaC0, SigmaC0-bar\n",
        "to: 4332, -4332, 4232, -4232, 4132, -4132, 4214, 4224, -15, 15, -4224, -4214, 4114, -4114, 4212, 4222, -4222, -4212, 4112, -4112\n",
        "MCEqRun::_init_default_matrices():Start filling matrices.\n",
        "MCEqRun::_convert_to_sparse():Converting to sparse (CSR) matrix format."
       ]
      },
      {
       "output_type": "stream",
       "stream": "stdout",
       "text": [
        "\n",
        "C Matrix info:"
       ]
      },
      {
       "output_type": "stream",
       "stream": "stderr",
       "text": [
        "100% |##########################################################| Time: 0:00:22\r\n",
        "  0% |                                                         | ETA:  --:--:--\r"
       ]
      },
      {
       "output_type": "stream",
       "stream": "stderr",
       "text": [
        "  1% |                                                          | ETA:  0:00:24\r",
        "  2% |#                                                         | ETA:  0:00:23\r"
       ]
      },
      {
       "output_type": "stream",
       "stream": "stderr",
       "text": [
        "  3% |#                                                         | ETA:  0:00:23\r",
        "  4% |##                                                        | ETA:  0:00:22\r"
       ]
      },
      {
       "output_type": "stream",
       "stream": "stderr",
       "text": [
        "  5% |##                                                        | ETA:  0:00:22\r",
        "  6% |###                                                       | ETA:  0:00:22\r"
       ]
      },
      {
       "output_type": "stream",
       "stream": "stderr",
       "text": [
        "  7% |####                                                      | ETA:  0:00:22\r",
        "  8% |####                                                      | ETA:  0:00:22\r"
       ]
      },
      {
       "output_type": "stream",
       "stream": "stderr",
       "text": [
        "  9% |#####                                                     | ETA:  0:00:22\r",
        " 10% |#####                                                     | ETA:  0:00:21\r"
       ]
      },
      {
       "output_type": "stream",
       "stream": "stderr",
       "text": [
        " 11% |######                                                    | ETA:  0:00:21\r",
        " 12% |#######                                                   | ETA:  0:00:21\r"
       ]
      },
      {
       "output_type": "stream",
       "stream": "stderr",
       "text": [
        " 13% |#######                                                   | ETA:  0:00:21\r",
        " 14% |########                                                  | ETA:  0:00:20\r"
       ]
      },
      {
       "output_type": "stream",
       "stream": "stderr",
       "text": [
        " 15% |########                                                  | ETA:  0:00:20\r",
        " 16% |#########                                                 | ETA:  0:00:20\r"
       ]
      },
      {
       "output_type": "stream",
       "stream": "stderr",
       "text": [
        " 17% |##########                                                | ETA:  0:00:19\r",
        " 18% |##########                                                | ETA:  0:00:19\r"
       ]
      },
      {
       "output_type": "stream",
       "stream": "stderr",
       "text": [
        " 19% |###########                                               | ETA:  0:00:19\r",
        " 20% |###########                                               | ETA:  0:00:19\r"
       ]
      },
      {
       "output_type": "stream",
       "stream": "stderr",
       "text": [
        " 21% |############                                              | ETA:  0:00:18\r",
        " 22% |############                                              | ETA:  0:00:18\r"
       ]
      },
      {
       "output_type": "stream",
       "stream": "stderr",
       "text": [
        " 23% |#############                                             | ETA:  0:00:18\r",
        " 24% |##############                                            | ETA:  0:00:18\r"
       ]
      },
      {
       "output_type": "stream",
       "stream": "stderr",
       "text": [
        " 25% |##############                                            | ETA:  0:00:17\r",
        " 26% |###############                                           | ETA:  0:00:17\r"
       ]
      },
      {
       "output_type": "stream",
       "stream": "stderr",
       "text": [
        " 27% |###############                                           | ETA:  0:00:17\r",
        " 28% |################                                          | ETA:  0:00:17\r"
       ]
      },
      {
       "output_type": "stream",
       "stream": "stderr",
       "text": [
        " 29% |#################                                         | ETA:  0:00:16\r",
        " 30% |#################                                         | ETA:  0:00:16\r"
       ]
      },
      {
       "output_type": "stream",
       "stream": "stderr",
       "text": [
        " 31% |##################                                        | ETA:  0:00:16\r",
        " 32% |##################                                        | ETA:  0:00:16\r"
       ]
      },
      {
       "output_type": "stream",
       "stream": "stderr",
       "text": [
        " 33% |###################                                       | ETA:  0:00:15\r",
        " 34% |####################                                      | ETA:  0:00:15\r"
       ]
      },
      {
       "output_type": "stream",
       "stream": "stderr",
       "text": [
        " 35% |####################                                      | ETA:  0:00:15\r",
        " 36% |#####################                                     | ETA:  0:00:15\r"
       ]
      },
      {
       "output_type": "stream",
       "stream": "stderr",
       "text": [
        " 37% |#####################                                     | ETA:  0:00:14\r",
        " 38% |######################                                    | ETA:  0:00:14\r"
       ]
      },
      {
       "output_type": "stream",
       "stream": "stderr",
       "text": [
        " 39% |######################                                    | ETA:  0:00:14\r",
        " 40% |#######################                                   | ETA:  0:00:14\r"
       ]
      },
      {
       "output_type": "stream",
       "stream": "stderr",
       "text": [
        " 41% |########################                                  | ETA:  0:00:13\r",
        " 42% |########################                                  | ETA:  0:00:13\r"
       ]
      },
      {
       "output_type": "stream",
       "stream": "stderr",
       "text": [
        " 43% |#########################                                 | ETA:  0:00:13\r",
        " 44% |#########################                                 | ETA:  0:00:13\r"
       ]
      },
      {
       "output_type": "stream",
       "stream": "stderr",
       "text": [
        " 45% |##########################                                | ETA:  0:00:12\r",
        " 46% |###########################                               | ETA:  0:00:12\r"
       ]
      },
      {
       "output_type": "stream",
       "stream": "stderr",
       "text": [
        " 47% |###########################                               | ETA:  0:00:12\r",
        " 48% |############################                              | ETA:  0:00:12\r"
       ]
      },
      {
       "output_type": "stream",
       "stream": "stderr",
       "text": [
        " 49% |############################                              | ETA:  0:00:12\r",
        " 50% |#############################                             | ETA:  0:00:11\r"
       ]
      },
      {
       "output_type": "stream",
       "stream": "stderr",
       "text": [
        " 51% |##############################                            | ETA:  0:00:11\r",
        " 52% |##############################                            | ETA:  0:00:11\r"
       ]
      },
      {
       "output_type": "stream",
       "stream": "stderr",
       "text": [
        " 53% |###############################                           | ETA:  0:00:11\r",
        " 54% |###############################                           | ETA:  0:00:10\r"
       ]
      },
      {
       "output_type": "stream",
       "stream": "stderr",
       "text": [
        " 55% |################################                          | ETA:  0:00:10\r",
        " 56% |################################                          | ETA:  0:00:10\r"
       ]
      },
      {
       "output_type": "stream",
       "stream": "stderr",
       "text": [
        " 57% |#################################                         | ETA:  0:00:10\r",
        " 58% |##################################                        | ETA:  0:00:09\r"
       ]
      },
      {
       "output_type": "stream",
       "stream": "stderr",
       "text": [
        " 59% |##################################                        | ETA:  0:00:09\r",
        " 60% |###################################                       | ETA:  0:00:09\r"
       ]
      },
      {
       "output_type": "stream",
       "stream": "stderr",
       "text": [
        " 61% |###################################                       | ETA:  0:00:09\r",
        " 62% |####################################                      | ETA:  0:00:08\r"
       ]
      },
      {
       "output_type": "stream",
       "stream": "stderr",
       "text": [
        " 63% |#####################################                     | ETA:  0:00:08\r",
        " 64% |#####################################                     | ETA:  0:00:08\r"
       ]
      },
      {
       "output_type": "stream",
       "stream": "stderr",
       "text": [
        " 65% |######################################                    | ETA:  0:00:08\r",
        " 66% |######################################                    | ETA:  0:00:07\r"
       ]
      },
      {
       "output_type": "stream",
       "stream": "stderr",
       "text": [
        " 68% |#######################################                   | ETA:  0:00:07\r",
        " 69% |########################################                  | ETA:  0:00:07\r"
       ]
      },
      {
       "output_type": "stream",
       "stream": "stderr",
       "text": [
        " 70% |########################################                  | ETA:  0:00:07\r",
        " 71% |#########################################                 | ETA:  0:00:06\r"
       ]
      },
      {
       "output_type": "stream",
       "stream": "stderr",
       "text": [
        " 72% |#########################################                 | ETA:  0:00:06\r",
        " 73% |##########################################                | ETA:  0:00:06\r"
       ]
      },
      {
       "output_type": "stream",
       "stream": "stderr",
       "text": [
        " 74% |##########################################                | ETA:  0:00:06\r",
        " 75% |###########################################               | ETA:  0:00:05\r"
       ]
      },
      {
       "output_type": "stream",
       "stream": "stderr",
       "text": [
        " 76% |############################################              | ETA:  0:00:05\r",
        " 77% |############################################              | ETA:  0:00:05\r"
       ]
      },
      {
       "output_type": "stream",
       "stream": "stderr",
       "text": [
        " 78% |#############################################             | ETA:  0:00:05\r",
        " 79% |#############################################             | ETA:  0:00:04\r"
       ]
      },
      {
       "output_type": "stream",
       "stream": "stderr",
       "text": [
        " 80% |##############################################            | ETA:  0:00:04\r",
        " 81% |###############################################           | ETA:  0:00:04\r"
       ]
      },
      {
       "output_type": "stream",
       "stream": "stderr",
       "text": [
        " 82% |###############################################           | ETA:  0:00:04\r",
        " 83% |################################################          | ETA:  0:00:03\r"
       ]
      },
      {
       "output_type": "stream",
       "stream": "stderr",
       "text": [
        " 84% |################################################          | ETA:  0:00:03\r",
        " 85% |#################################################         | ETA:  0:00:03\r"
       ]
      },
      {
       "output_type": "stream",
       "stream": "stderr",
       "text": [
        " 86% |##################################################        | ETA:  0:00:03\r",
        " 87% |##################################################        | ETA:  0:00:03\r"
       ]
      },
      {
       "output_type": "stream",
       "stream": "stderr",
       "text": [
        " 88% |###################################################       | ETA:  0:00:02\r",
        " 89% |###################################################       | ETA:  0:00:02\r"
       ]
      },
      {
       "output_type": "stream",
       "stream": "stderr",
       "text": [
        " 90% |####################################################      | ETA:  0:00:02\r",
        " 91% |####################################################      | ETA:  0:00:02\r"
       ]
      },
      {
       "output_type": "stream",
       "stream": "stderr",
       "text": [
        " 92% |#####################################################     | ETA:  0:00:01\r",
        " 93% |######################################################    | ETA:  0:00:01\r"
       ]
      },
      {
       "output_type": "stream",
       "stream": "stderr",
       "text": [
        " 94% |######################################################    | ETA:  0:00:01\r",
        " 95% |#######################################################   | ETA:  0:00:01\r"
       ]
      },
      {
       "output_type": "stream",
       "stream": "stderr",
       "text": [
        " 96% |#######################################################   | ETA:  0:00:00\r",
        " 97% |########################################################  | ETA:  0:00:00\r"
       ]
      },
      {
       "output_type": "stream",
       "stream": "stderr",
       "text": [
        " 98% |######################################################### | ETA:  0:00:00\r",
        " 99% |######################################################### | ETA:  0:00:00\r"
       ]
      },
      {
       "output_type": "stream",
       "stream": "stdout",
       "text": [
        "\n",
        "    density    : 6.06776234274e-07\n",
        "    shape      : (6264, 6264)\n",
        "    nnz        : 1648054\n",
        "D Matrix info:\n",
        "    density    : 2.95229969385e-06\n",
        "    shape      : (6264, 6264)\n",
        "    nnz        : 338719\n",
        "MCEqRun::_init_default_matrices():Done filling matrices.\n",
        "MCEqRun::_calculate_integration_path():\n",
        "MCEqRun::_forward_euler(): Solver will perform 4729 integration steps.\n",
        "\n",
        "MCEqRun::_forward_euler(): time elapsed during integration: 23.7578699589 sec"
       ]
      },
      {
       "output_type": "stream",
       "stream": "stdout",
       "text": [
        "\n",
        "MCEqRun::set_obs_particles(): Converted names:K0S, K0L, n, n-bar, p, p-bar, Lambda0, Lambda0-bar, Sigma-, Sigma--bar, Xi-, Xi--bar, Xi0, Xi0-bar, Delta-, Delta--bar, Delta0, Delta0-bar, K*+, K*-, K*0, K*0-bar, Omega-, Omega--bar, Sigma*+, Sigma*+-bar, Sigma*-, Sigma*--bar, Sigma*0, Sigma*0-bar, Sigma+, Sigma+-bar, Sigma0, Sigma0-bar, Delta+, Delta++, Delta++-bar, Delta+-bar, Xi*-, Xi*--bar, Xi*0, Xi*0-bar\n",
        "to: 310, 130, 2112, -2112, 2212, -2212, 3122, -3122, 3112, -3112, 3312, -3312, 3322, -3322, 1114, -1114, 2114, -2114, 323, -323, 313, -313, 3334, -3334, 3224, -3224, 3114, -3114, 3214, -3214, 3222, -3222, 3212, -3212, 2214, 2224, -2224, -2214, 3314, -3314, 3324, -3324\n",
        "MCEqRun::_init_default_matrices():Start filling matrices.\n",
        "MCEqRun::_convert_to_sparse():Converting to sparse (CSR) matrix format."
       ]
      },
      {
       "output_type": "stream",
       "stream": "stdout",
       "text": [
        "\n",
        "C Matrix info:"
       ]
      },
      {
       "output_type": "stream",
       "stream": "stderr",
       "text": [
        "100% |##########################################################| Time: 0:00:23\r\n",
        "  0% |                                                         | ETA:  --:--:--\r"
       ]
      },
      {
       "output_type": "stream",
       "stream": "stderr",
       "text": [
        "  1% |                                                          | ETA:  0:00:23\r",
        "  2% |#                                                         | ETA:  0:00:21\r"
       ]
      },
      {
       "output_type": "stream",
       "stream": "stderr",
       "text": [
        "  3% |#                                                         | ETA:  0:00:21\r",
        "  4% |##                                                        | ETA:  0:00:21\r"
       ]
      },
      {
       "output_type": "stream",
       "stream": "stderr",
       "text": [
        "  5% |##                                                        | ETA:  0:00:20\r",
        "  6% |###                                                       | ETA:  0:00:20\r"
       ]
      },
      {
       "output_type": "stream",
       "stream": "stderr",
       "text": [
        "  7% |####                                                      | ETA:  0:00:20\r",
        "  8% |####                                                      | ETA:  0:00:20\r"
       ]
      },
      {
       "output_type": "stream",
       "stream": "stderr",
       "text": [
        "  9% |#####                                                     | ETA:  0:00:20\r",
        " 10% |#####                                                     | ETA:  0:00:19\r"
       ]
      },
      {
       "output_type": "stream",
       "stream": "stderr",
       "text": [
        " 11% |######                                                    | ETA:  0:00:19\r",
        " 12% |#######                                                   | ETA:  0:00:19\r"
       ]
      },
      {
       "output_type": "stream",
       "stream": "stderr",
       "text": [
        " 13% |#######                                                   | ETA:  0:00:18\r",
        " 14% |########                                                  | ETA:  0:00:18\r"
       ]
      },
      {
       "output_type": "stream",
       "stream": "stderr",
       "text": [
        " 15% |########                                                  | ETA:  0:00:18\r",
        " 16% |#########                                                 | ETA:  0:00:18\r"
       ]
      },
      {
       "output_type": "stream",
       "stream": "stderr",
       "text": [
        " 17% |##########                                                | ETA:  0:00:17\r",
        " 18% |##########                                                | ETA:  0:00:17\r"
       ]
      },
      {
       "output_type": "stream",
       "stream": "stderr",
       "text": [
        " 19% |###########                                               | ETA:  0:00:17\r",
        " 20% |###########                                               | ETA:  0:00:17\r"
       ]
      },
      {
       "output_type": "stream",
       "stream": "stderr",
       "text": [
        " 21% |############                                              | ETA:  0:00:17\r",
        " 22% |############                                              | ETA:  0:00:16\r"
       ]
      },
      {
       "output_type": "stream",
       "stream": "stderr",
       "text": [
        " 23% |#############                                             | ETA:  0:00:16\r",
        " 24% |##############                                            | ETA:  0:00:16\r"
       ]
      },
      {
       "output_type": "stream",
       "stream": "stderr",
       "text": [
        " 25% |##############                                            | ETA:  0:00:16\r",
        " 26% |###############                                           | ETA:  0:00:15\r"
       ]
      },
      {
       "output_type": "stream",
       "stream": "stderr",
       "text": [
        " 27% |###############                                           | ETA:  0:00:15\r",
        " 28% |################                                          | ETA:  0:00:15\r"
       ]
      },
      {
       "output_type": "stream",
       "stream": "stderr",
       "text": [
        " 29% |#################                                         | ETA:  0:00:15\r",
        " 30% |#################                                         | ETA:  0:00:14\r"
       ]
      },
      {
       "output_type": "stream",
       "stream": "stderr",
       "text": [
        " 31% |##################                                        | ETA:  0:00:14\r",
        " 32% |##################                                        | ETA:  0:00:14\r"
       ]
      },
      {
       "output_type": "stream",
       "stream": "stderr",
       "text": [
        " 33% |###################                                       | ETA:  0:00:14\r",
        " 34% |####################                                      | ETA:  0:00:14\r"
       ]
      },
      {
       "output_type": "stream",
       "stream": "stderr",
       "text": [
        " 35% |####################                                      | ETA:  0:00:13\r",
        " 36% |#####################                                     | ETA:  0:00:13\r"
       ]
      },
      {
       "output_type": "stream",
       "stream": "stderr",
       "text": [
        " 37% |#####################                                     | ETA:  0:00:13\r",
        " 38% |######################                                    | ETA:  0:00:13\r"
       ]
      },
      {
       "output_type": "stream",
       "stream": "stderr",
       "text": [
        " 39% |######################                                    | ETA:  0:00:12\r",
        " 40% |#######################                                   | ETA:  0:00:12\r"
       ]
      },
      {
       "output_type": "stream",
       "stream": "stderr",
       "text": [
        " 41% |########################                                  | ETA:  0:00:12\r",
        " 42% |########################                                  | ETA:  0:00:12\r"
       ]
      },
      {
       "output_type": "stream",
       "stream": "stderr",
       "text": [
        " 43% |#########################                                 | ETA:  0:00:12\r",
        " 44% |#########################                                 | ETA:  0:00:11\r"
       ]
      },
      {
       "output_type": "stream",
       "stream": "stderr",
       "text": [
        " 45% |##########################                                | ETA:  0:00:11\r",
        " 46% |###########################                               | ETA:  0:00:11\r"
       ]
      },
      {
       "output_type": "stream",
       "stream": "stderr",
       "text": [
        " 47% |###########################                               | ETA:  0:00:11\r",
        " 48% |############################                              | ETA:  0:00:10\r"
       ]
      },
      {
       "output_type": "stream",
       "stream": "stderr",
       "text": [
        " 49% |############################                              | ETA:  0:00:10\r",
        " 50% |#############################                             | ETA:  0:00:10\r"
       ]
      },
      {
       "output_type": "stream",
       "stream": "stderr",
       "text": [
        " 51% |##############################                            | ETA:  0:00:10\r",
        " 52% |##############################                            | ETA:  0:00:10\r"
       ]
      },
      {
       "output_type": "stream",
       "stream": "stderr",
       "text": [
        " 53% |###############################                           | ETA:  0:00:09\r",
        " 54% |###############################                           | ETA:  0:00:09\r"
       ]
      },
      {
       "output_type": "stream",
       "stream": "stderr",
       "text": [
        " 55% |################################                          | ETA:  0:00:09\r",
        " 56% |################################                          | ETA:  0:00:09\r"
       ]
      },
      {
       "output_type": "stream",
       "stream": "stderr",
       "text": [
        " 57% |#################################                         | ETA:  0:00:09\r",
        " 58% |##################################                        | ETA:  0:00:08\r"
       ]
      },
      {
       "output_type": "stream",
       "stream": "stderr",
       "text": [
        " 59% |##################################                        | ETA:  0:00:08\r",
        " 60% |###################################                       | ETA:  0:00:08\r"
       ]
      },
      {
       "output_type": "stream",
       "stream": "stderr",
       "text": [
        " 61% |###################################                       | ETA:  0:00:08\r",
        " 62% |####################################                      | ETA:  0:00:07\r"
       ]
      },
      {
       "output_type": "stream",
       "stream": "stderr",
       "text": [
        " 63% |#####################################                     | ETA:  0:00:07\r",
        " 64% |#####################################                     | ETA:  0:00:07\r"
       ]
      },
      {
       "output_type": "stream",
       "stream": "stderr",
       "text": [
        " 65% |######################################                    | ETA:  0:00:07\r",
        " 66% |######################################                    | ETA:  0:00:07\r"
       ]
      },
      {
       "output_type": "stream",
       "stream": "stderr",
       "text": [
        " 68% |#######################################                   | ETA:  0:00:06\r",
        " 69% |########################################                  | ETA:  0:00:06\r"
       ]
      },
      {
       "output_type": "stream",
       "stream": "stderr",
       "text": [
        " 70% |########################################                  | ETA:  0:00:06\r",
        " 71% |#########################################                 | ETA:  0:00:06\r"
       ]
      },
      {
       "output_type": "stream",
       "stream": "stderr",
       "text": [
        " 72% |#########################################                 | ETA:  0:00:06\r",
        " 73% |##########################################                | ETA:  0:00:05\r"
       ]
      },
      {
       "output_type": "stream",
       "stream": "stderr",
       "text": [
        " 74% |##########################################                | ETA:  0:00:05\r",
        " 75% |###########################################               | ETA:  0:00:05\r"
       ]
      },
      {
       "output_type": "stream",
       "stream": "stderr",
       "text": [
        " 76% |############################################              | ETA:  0:00:05\r",
        " 77% |############################################              | ETA:  0:00:04\r"
       ]
      },
      {
       "output_type": "stream",
       "stream": "stderr",
       "text": [
        " 78% |#############################################             | ETA:  0:00:04\r",
        " 79% |#############################################             | ETA:  0:00:04\r"
       ]
      },
      {
       "output_type": "stream",
       "stream": "stderr",
       "text": [
        " 80% |##############################################            | ETA:  0:00:04\r",
        " 81% |###############################################           | ETA:  0:00:04\r"
       ]
      },
      {
       "output_type": "stream",
       "stream": "stderr",
       "text": [
        " 82% |###############################################           | ETA:  0:00:03\r",
        " 83% |################################################          | ETA:  0:00:03\r"
       ]
      },
      {
       "output_type": "stream",
       "stream": "stderr",
       "text": [
        " 84% |################################################          | ETA:  0:00:03\r",
        " 85% |#################################################         | ETA:  0:00:03\r"
       ]
      },
      {
       "output_type": "stream",
       "stream": "stderr",
       "text": [
        " 86% |##################################################        | ETA:  0:00:02\r",
        " 87% |##################################################        | ETA:  0:00:02\r"
       ]
      },
      {
       "output_type": "stream",
       "stream": "stderr",
       "text": [
        " 88% |###################################################       | ETA:  0:00:02\r",
        " 89% |###################################################       | ETA:  0:00:02\r"
       ]
      },
      {
       "output_type": "stream",
       "stream": "stderr",
       "text": [
        " 90% |####################################################      | ETA:  0:00:02\r",
        " 91% |####################################################      | ETA:  0:00:01\r"
       ]
      },
      {
       "output_type": "stream",
       "stream": "stderr",
       "text": [
        " 92% |#####################################################     | ETA:  0:00:01\r",
        " 93% |######################################################    | ETA:  0:00:01\r"
       ]
      },
      {
       "output_type": "stream",
       "stream": "stderr",
       "text": [
        " 94% |######################################################    | ETA:  0:00:01\r",
        " 95% |#######################################################   | ETA:  0:00:00\r"
       ]
      },
      {
       "output_type": "stream",
       "stream": "stderr",
       "text": [
        " 96% |#######################################################   | ETA:  0:00:00\r",
        " 97% |########################################################  | ETA:  0:00:00\r"
       ]
      },
      {
       "output_type": "stream",
       "stream": "stderr",
       "text": [
        " 98% |######################################################### | ETA:  0:00:00\r",
        " 99% |######################################################### | ETA:  0:00:00\r"
       ]
      },
      {
       "output_type": "stream",
       "stream": "stdout",
       "text": [
        "\n",
        "    density    : 6.80768560474e-07\n",
        "    shape      : (6264, 6264)\n",
        "    nnz        : 1468928\n",
        "D Matrix info:\n",
        "    density    : 2.89817270211e-06\n",
        "    shape      : (6264, 6264)\n",
        "    nnz        : 345045\n",
        "MCEqRun::_init_default_matrices():Done filling matrices.\n",
        "MCEqRun::_calculate_integration_path():\n",
        "MCEqRun::_forward_euler(): Solver will perform 4729 integration steps.\n",
        "\n",
        "MCEqRun::_forward_euler(): time elapsed during integration: 21.4532580376 sec"
       ]
      },
      {
       "output_type": "stream",
       "stream": "stdout",
       "text": [
        "\n",
        "MCEqRun::set_obs_particles(): Converted names:K0S, K0L, n, n-bar, p, p-bar, Lambda0, Lambda0-bar, Sigma-, Sigma--bar, Xi-, Xi--bar, Xi0, Xi0-bar, Delta-, Delta--bar, Delta0, Delta0-bar, K*+, K*-, K*0, K*0-bar, Omega-, Omega--bar, Sigma*+, Sigma*+-bar, Sigma*-, Sigma*--bar, Sigma*0, Sigma*0-bar, Sigma+, Sigma+-bar, Sigma0, Sigma0-bar, Delta+, Delta++, Delta++-bar, Delta+-bar, Xi*-, Xi*--bar, Xi*0, Xi*0-bar, eta, eta*, omega, phi, pi0, rho+, rho-, rho0\n",
        "to: 310, 130, 2112, -2112, 2212, -2212, 3122, -3122, 3112, -3112, 3312, -3312, 3322, -3322, 1114, -1114, 2114, -2114, 323, -323, 313, -313, 3334, -3334, 3224, -3224, 3114, -3114, 3214, -3214, 3222, -3222, 3212, -3212, 2214, 2224, -2224, -2214, 3314, -3314, 3324, -3324, 221, 331, 223, 333, 111, 213, -213, 113\n",
        "MCEqRun::_init_default_matrices():Start filling matrices.\n",
        "MCEqRun::_convert_to_sparse():Converting to sparse (CSR) matrix format."
       ]
      },
      {
       "output_type": "stream",
       "stream": "stdout",
       "text": [
        "\n",
        "C Matrix info:"
       ]
      },
      {
       "output_type": "stream",
       "stream": "stderr",
       "text": [
        "100% |##########################################################| Time: 0:00:21\r\n",
        "  0% |                                                         | ETA:  --:--:--\r"
       ]
      },
      {
       "output_type": "stream",
       "stream": "stderr",
       "text": [
        "  1% |                                                          | ETA:  0:00:24\r",
        "  2% |#                                                         | ETA:  0:00:22\r"
       ]
      },
      {
       "output_type": "stream",
       "stream": "stderr",
       "text": [
        "  3% |#                                                         | ETA:  0:00:22\r",
        "  4% |##                                                        | ETA:  0:00:21\r"
       ]
      },
      {
       "output_type": "stream",
       "stream": "stderr",
       "text": [
        "  5% |##                                                        | ETA:  0:00:21\r",
        "  6% |###                                                       | ETA:  0:00:21\r"
       ]
      },
      {
       "output_type": "stream",
       "stream": "stderr",
       "text": [
        "  7% |####                                                      | ETA:  0:00:21\r",
        "  8% |####                                                      | ETA:  0:00:20\r"
       ]
      },
      {
       "output_type": "stream",
       "stream": "stderr",
       "text": [
        "  9% |#####                                                     | ETA:  0:00:20\r",
        " 10% |#####                                                     | ETA:  0:00:20\r"
       ]
      },
      {
       "output_type": "stream",
       "stream": "stderr",
       "text": [
        " 11% |######                                                    | ETA:  0:00:19\r",
        " 12% |#######                                                   | ETA:  0:00:19\r"
       ]
      },
      {
       "output_type": "stream",
       "stream": "stderr",
       "text": [
        " 13% |#######                                                   | ETA:  0:00:19\r",
        " 14% |########                                                  | ETA:  0:00:19\r"
       ]
      },
      {
       "output_type": "stream",
       "stream": "stderr",
       "text": [
        " 15% |########                                                  | ETA:  0:00:19\r",
        " 16% |#########                                                 | ETA:  0:00:18\r"
       ]
      },
      {
       "output_type": "stream",
       "stream": "stderr",
       "text": [
        " 17% |##########                                                | ETA:  0:00:18\r",
        " 18% |##########                                                | ETA:  0:00:18\r"
       ]
      },
      {
       "output_type": "stream",
       "stream": "stderr",
       "text": [
        " 19% |###########                                               | ETA:  0:00:18\r",
        " 20% |###########                                               | ETA:  0:00:17\r"
       ]
      },
      {
       "output_type": "stream",
       "stream": "stderr",
       "text": [
        " 21% |############                                              | ETA:  0:00:17\r",
        " 22% |############                                              | ETA:  0:00:17\r"
       ]
      },
      {
       "output_type": "stream",
       "stream": "stderr",
       "text": [
        " 23% |#############                                             | ETA:  0:00:17\r",
        " 24% |##############                                            | ETA:  0:00:16\r"
       ]
      },
      {
       "output_type": "stream",
       "stream": "stderr",
       "text": [
        " 25% |##############                                            | ETA:  0:00:16\r",
        " 26% |###############                                           | ETA:  0:00:16\r"
       ]
      },
      {
       "output_type": "stream",
       "stream": "stderr",
       "text": [
        " 27% |###############                                           | ETA:  0:00:16\r",
        " 28% |################                                          | ETA:  0:00:16\r"
       ]
      },
      {
       "output_type": "stream",
       "stream": "stderr",
       "text": [
        " 29% |#################                                         | ETA:  0:00:15\r",
        " 30% |#################                                         | ETA:  0:00:15\r"
       ]
      },
      {
       "output_type": "stream",
       "stream": "stderr",
       "text": [
        " 31% |##################                                        | ETA:  0:00:15\r",
        " 32% |##################                                        | ETA:  0:00:15\r"
       ]
      },
      {
       "output_type": "stream",
       "stream": "stderr",
       "text": [
        " 33% |###################                                       | ETA:  0:00:14\r",
        " 34% |####################                                      | ETA:  0:00:14\r"
       ]
      },
      {
       "output_type": "stream",
       "stream": "stderr",
       "text": [
        " 35% |####################                                      | ETA:  0:00:14\r",
        " 36% |#####################                                     | ETA:  0:00:14\r"
       ]
      },
      {
       "output_type": "stream",
       "stream": "stderr",
       "text": [
        " 37% |#####################                                     | ETA:  0:00:13\r",
        " 38% |######################                                    | ETA:  0:00:13\r"
       ]
      },
      {
       "output_type": "stream",
       "stream": "stderr",
       "text": [
        " 39% |######################                                    | ETA:  0:00:13\r",
        " 40% |#######################                                   | ETA:  0:00:13\r"
       ]
      },
      {
       "output_type": "stream",
       "stream": "stderr",
       "text": [
        " 41% |########################                                  | ETA:  0:00:12\r",
        " 42% |########################                                  | ETA:  0:00:12\r"
       ]
      },
      {
       "output_type": "stream",
       "stream": "stderr",
       "text": [
        " 43% |#########################                                 | ETA:  0:00:12\r",
        " 44% |#########################                                 | ETA:  0:00:12\r"
       ]
      },
      {
       "output_type": "stream",
       "stream": "stderr",
       "text": [
        " 45% |##########################                                | ETA:  0:00:12\r",
        " 46% |###########################                               | ETA:  0:00:11\r"
       ]
      },
      {
       "output_type": "stream",
       "stream": "stderr",
       "text": [
        " 47% |###########################                               | ETA:  0:00:11\r",
        " 48% |############################                              | ETA:  0:00:11\r"
       ]
      },
      {
       "output_type": "stream",
       "stream": "stderr",
       "text": [
        " 49% |############################                              | ETA:  0:00:11\r",
        " 50% |#############################                             | ETA:  0:00:10\r"
       ]
      },
      {
       "output_type": "stream",
       "stream": "stderr",
       "text": [
        " 51% |##############################                            | ETA:  0:00:10\r",
        " 52% |##############################                            | ETA:  0:00:10\r"
       ]
      },
      {
       "output_type": "stream",
       "stream": "stderr",
       "text": [
        " 53% |###############################                           | ETA:  0:00:10\r",
        " 54% |###############################                           | ETA:  0:00:10\r"
       ]
      },
      {
       "output_type": "stream",
       "stream": "stderr",
       "text": [
        " 55% |################################                          | ETA:  0:00:09\r",
        " 56% |################################                          | ETA:  0:00:09\r"
       ]
      },
      {
       "output_type": "stream",
       "stream": "stderr",
       "text": [
        " 57% |#################################                         | ETA:  0:00:09\r",
        " 58% |##################################                        | ETA:  0:00:09\r"
       ]
      },
      {
       "output_type": "stream",
       "stream": "stderr",
       "text": [
        " 59% |##################################                        | ETA:  0:00:08\r",
        " 60% |###################################                       | ETA:  0:00:08\r"
       ]
      },
      {
       "output_type": "stream",
       "stream": "stderr",
       "text": [
        " 61% |###################################                       | ETA:  0:00:08\r",
        " 62% |####################################                      | ETA:  0:00:08\r"
       ]
      },
      {
       "output_type": "stream",
       "stream": "stderr",
       "text": [
        " 63% |#####################################                     | ETA:  0:00:08\r",
        " 64% |#####################################                     | ETA:  0:00:07\r"
       ]
      },
      {
       "output_type": "stream",
       "stream": "stderr",
       "text": [
        " 65% |######################################                    | ETA:  0:00:07\r",
        " 66% |######################################                    | ETA:  0:00:07\r"
       ]
      },
      {
       "output_type": "stream",
       "stream": "stderr",
       "text": [
        " 68% |#######################################                   | ETA:  0:00:07\r",
        " 69% |########################################                  | ETA:  0:00:06\r"
       ]
      },
      {
       "output_type": "stream",
       "stream": "stderr",
       "text": [
        " 70% |########################################                  | ETA:  0:00:06\r",
        " 71% |#########################################                 | ETA:  0:00:06\r"
       ]
      },
      {
       "output_type": "stream",
       "stream": "stderr",
       "text": [
        " 72% |#########################################                 | ETA:  0:00:06\r",
        " 73% |##########################################                | ETA:  0:00:05\r"
       ]
      },
      {
       "output_type": "stream",
       "stream": "stderr",
       "text": [
        " 74% |##########################################                | ETA:  0:00:05\r",
        " 75% |###########################################               | ETA:  0:00:05\r"
       ]
      },
      {
       "output_type": "stream",
       "stream": "stderr",
       "text": [
        " 76% |############################################              | ETA:  0:00:05\r",
        " 77% |############################################              | ETA:  0:00:05\r"
       ]
      },
      {
       "output_type": "stream",
       "stream": "stderr",
       "text": [
        " 78% |#############################################             | ETA:  0:00:04\r",
        " 79% |#############################################             | ETA:  0:00:04\r"
       ]
      },
      {
       "output_type": "stream",
       "stream": "stderr",
       "text": [
        " 80% |##############################################            | ETA:  0:00:04\r",
        " 81% |###############################################           | ETA:  0:00:04\r"
       ]
      },
      {
       "output_type": "stream",
       "stream": "stderr",
       "text": [
        " 82% |###############################################           | ETA:  0:00:03\r",
        " 83% |################################################          | ETA:  0:00:03\r"
       ]
      },
      {
       "output_type": "stream",
       "stream": "stderr",
       "text": [
        " 84% |################################################          | ETA:  0:00:03\r",
        " 85% |#################################################         | ETA:  0:00:03\r"
       ]
      },
      {
       "output_type": "stream",
       "stream": "stderr",
       "text": [
        " 86% |##################################################        | ETA:  0:00:03\r",
        " 87% |##################################################        | ETA:  0:00:02\r"
       ]
      },
      {
       "output_type": "stream",
       "stream": "stderr",
       "text": [
        " 88% |###################################################       | ETA:  0:00:02\r",
        " 89% |###################################################       | ETA:  0:00:02\r"
       ]
      },
      {
       "output_type": "stream",
       "stream": "stderr",
       "text": [
        " 90% |####################################################      | ETA:  0:00:02\r",
        " 91% |####################################################      | ETA:  0:00:01\r"
       ]
      },
      {
       "output_type": "stream",
       "stream": "stderr",
       "text": [
        " 92% |#####################################################     | ETA:  0:00:01\r",
        " 93% |######################################################    | ETA:  0:00:01\r"
       ]
      },
      {
       "output_type": "stream",
       "stream": "stderr",
       "text": [
        " 94% |######################################################    | ETA:  0:00:01\r",
        " 95% |#######################################################   | ETA:  0:00:01\r"
       ]
      },
      {
       "output_type": "stream",
       "stream": "stderr",
       "text": [
        " 96% |#######################################################   | ETA:  0:00:00\r",
        " 97% |########################################################  | ETA:  0:00:00\r"
       ]
      },
      {
       "output_type": "stream",
       "stream": "stderr",
       "text": [
        " 98% |######################################################### | ETA:  0:00:00\r",
        " 99% |######################################################### | ETA:  0:00:00\r"
       ]
      },
      {
       "output_type": "stream",
       "stream": "stdout",
       "text": [
        "\n",
        "    density    : 6.46585864986e-07\n",
        "    shape      : (6264, 6264)\n",
        "    nnz        : 1546585\n",
        "D Matrix info:\n",
        "    density    : 2.89817270211e-06\n",
        "    shape      : (6264, 6264)\n",
        "    nnz        : 345045\n",
        "MCEqRun::_init_default_matrices():Done filling matrices.\n",
        "MCEqRun::_calculate_integration_path():\n",
        "MCEqRun::_forward_euler(): Solver will perform 4729 integration steps.\n",
        "\n",
        "MCEqRun::_forward_euler(): time elapsed during integration: 22.3060231209 sec"
       ]
      },
      {
       "output_type": "stream",
       "stream": "stdout",
       "text": [
        "\n",
        "MCEqRun::set_obs_particles(): Converted names:n, n-bar, p, p-bar, Lambda0, Lambda0-bar, Sigma-, Sigma--bar, Xi-, Xi--bar, Xi0, Xi0-bar, Delta-, Delta--bar, Delta0, Delta0-bar, K*+, K*-, K*0, K*0-bar, Omega-, Omega--bar, Sigma*+, Sigma*+-bar, Sigma*-, Sigma*--bar, Sigma*0, Sigma*0-bar, Sigma+, Sigma+-bar, Sigma0, Sigma0-bar, Delta+, Delta++, Delta++-bar, Delta+-bar, Xi*-, Xi*--bar, Xi*0, Xi*0-bar, eta, eta*, omega, phi, pi0, rho+, rho-, rho0\n",
        "to: 2112, -2112, 2212, -2212, 3122, -3122, 3112, -3112, 3312, -3312, 3322, -3322, 1114, -1114, 2114, -2114, 323, -323, 313, -313, 3334, -3334, 3224, -3224, 3114, -3114, 3214, -3214, 3222, -3222, 3212, -3212, 2214, 2224, -2224, -2214, 3314, -3314, 3324, -3324, 221, 331, 223, 333, 111, 213, -213, 113\n",
        "MCEqRun::_init_default_matrices():Start filling matrices.\n",
        "MCEqRun::_convert_to_sparse():Converting to sparse (CSR) matrix format."
       ]
      },
      {
       "output_type": "stream",
       "stream": "stdout",
       "text": [
        "\n",
        "C Matrix info:"
       ]
      },
      {
       "output_type": "stream",
       "stream": "stderr",
       "text": [
        "100% |##########################################################| Time: 0:00:22\r\n",
        "  0% |                                                         | ETA:  --:--:--\r"
       ]
      },
      {
       "output_type": "stream",
       "stream": "stderr",
       "text": [
        "  1% |                                                          | ETA:  0:00:23\r",
        "  2% |#                                                         | ETA:  0:00:22\r"
       ]
      },
      {
       "output_type": "stream",
       "stream": "stderr",
       "text": [
        "  3% |#                                                         | ETA:  0:00:21\r",
        "  4% |##                                                        | ETA:  0:00:21\r"
       ]
      },
      {
       "output_type": "stream",
       "stream": "stderr",
       "text": [
        "  5% |##                                                        | ETA:  0:00:21\r",
        "  6% |###                                                       | ETA:  0:00:21\r"
       ]
      },
      {
       "output_type": "stream",
       "stream": "stderr",
       "text": [
        "  7% |####                                                      | ETA:  0:00:20\r",
        "  8% |####                                                      | ETA:  0:00:20\r"
       ]
      },
      {
       "output_type": "stream",
       "stream": "stderr",
       "text": [
        "  9% |#####                                                     | ETA:  0:00:20\r",
        " 10% |#####                                                     | ETA:  0:00:19\r"
       ]
      },
      {
       "output_type": "stream",
       "stream": "stderr",
       "text": [
        " 11% |######                                                    | ETA:  0:00:19\r",
        " 12% |#######                                                   | ETA:  0:00:19\r"
       ]
      },
      {
       "output_type": "stream",
       "stream": "stderr",
       "text": [
        " 13% |#######                                                   | ETA:  0:00:19\r",
        " 14% |########                                                  | ETA:  0:00:18\r"
       ]
      },
      {
       "output_type": "stream",
       "stream": "stderr",
       "text": [
        " 15% |########                                                  | ETA:  0:00:18\r",
        " 16% |#########                                                 | ETA:  0:00:18\r"
       ]
      },
      {
       "output_type": "stream",
       "stream": "stderr",
       "text": [
        " 17% |##########                                                | ETA:  0:00:18\r",
        " 18% |##########                                                | ETA:  0:00:18\r"
       ]
      },
      {
       "output_type": "stream",
       "stream": "stderr",
       "text": [
        " 19% |###########                                               | ETA:  0:00:17\r",
        " 20% |###########                                               | ETA:  0:00:17\r"
       ]
      },
      {
       "output_type": "stream",
       "stream": "stderr",
       "text": [
        " 21% |############                                              | ETA:  0:00:17\r",
        " 22% |############                                              | ETA:  0:00:17\r"
       ]
      },
      {
       "output_type": "stream",
       "stream": "stderr",
       "text": [
        " 23% |#############                                             | ETA:  0:00:16\r",
        " 24% |##############                                            | ETA:  0:00:16\r"
       ]
      },
      {
       "output_type": "stream",
       "stream": "stderr",
       "text": [
        " 25% |##############                                            | ETA:  0:00:16\r",
        " 26% |###############                                           | ETA:  0:00:16\r"
       ]
      },
      {
       "output_type": "stream",
       "stream": "stderr",
       "text": [
        " 27% |###############                                           | ETA:  0:00:15\r",
        " 28% |################                                          | ETA:  0:00:15\r"
       ]
      },
      {
       "output_type": "stream",
       "stream": "stderr",
       "text": [
        " 29% |#################                                         | ETA:  0:00:15\r",
        " 30% |#################                                         | ETA:  0:00:15\r"
       ]
      },
      {
       "output_type": "stream",
       "stream": "stderr",
       "text": [
        " 31% |##################                                        | ETA:  0:00:14\r",
        " 32% |##################                                        | ETA:  0:00:14\r"
       ]
      },
      {
       "output_type": "stream",
       "stream": "stderr",
       "text": [
        " 33% |###################                                       | ETA:  0:00:14\r",
        " 34% |####################                                      | ETA:  0:00:14\r"
       ]
      },
      {
       "output_type": "stream",
       "stream": "stderr",
       "text": [
        " 35% |####################                                      | ETA:  0:00:14\r",
        " 36% |#####################                                     | ETA:  0:00:13\r"
       ]
      },
      {
       "output_type": "stream",
       "stream": "stderr",
       "text": [
        " 37% |#####################                                     | ETA:  0:00:13\r",
        " 38% |######################                                    | ETA:  0:00:13\r"
       ]
      },
      {
       "output_type": "stream",
       "stream": "stderr",
       "text": [
        " 39% |######################                                    | ETA:  0:00:13\r",
        " 40% |#######################                                   | ETA:  0:00:12\r"
       ]
      },
      {
       "output_type": "stream",
       "stream": "stderr",
       "text": [
        " 41% |########################                                  | ETA:  0:00:12\r",
        " 42% |########################                                  | ETA:  0:00:12\r"
       ]
      },
      {
       "output_type": "stream",
       "stream": "stderr",
       "text": [
        " 43% |#########################                                 | ETA:  0:00:12\r",
        " 44% |#########################                                 | ETA:  0:00:12\r"
       ]
      },
      {
       "output_type": "stream",
       "stream": "stderr",
       "text": [
        " 45% |##########################                                | ETA:  0:00:11\r",
        " 46% |###########################                               | ETA:  0:00:11\r"
       ]
      },
      {
       "output_type": "stream",
       "stream": "stderr",
       "text": [
        " 47% |###########################                               | ETA:  0:00:11\r",
        " 48% |############################                              | ETA:  0:00:11\r"
       ]
      },
      {
       "output_type": "stream",
       "stream": "stderr",
       "text": [
        " 49% |############################                              | ETA:  0:00:10\r",
        " 50% |#############################                             | ETA:  0:00:10\r"
       ]
      },
      {
       "output_type": "stream",
       "stream": "stderr",
       "text": [
        " 51% |##############################                            | ETA:  0:00:10\r",
        " 52% |##############################                            | ETA:  0:00:10\r"
       ]
      },
      {
       "output_type": "stream",
       "stream": "stderr",
       "text": [
        " 53% |###############################                           | ETA:  0:00:10\r",
        " 54% |###############################                           | ETA:  0:00:09\r"
       ]
      },
      {
       "output_type": "stream",
       "stream": "stderr",
       "text": [
        " 55% |################################                          | ETA:  0:00:09\r",
        " 56% |################################                          | ETA:  0:00:09\r"
       ]
      },
      {
       "output_type": "stream",
       "stream": "stderr",
       "text": [
        " 57% |#################################                         | ETA:  0:00:09\r",
        " 58% |##################################                        | ETA:  0:00:08\r"
       ]
      },
      {
       "output_type": "stream",
       "stream": "stderr",
       "text": [
        " 59% |##################################                        | ETA:  0:00:08\r",
        " 60% |###################################                       | ETA:  0:00:08\r"
       ]
      },
      {
       "output_type": "stream",
       "stream": "stderr",
       "text": [
        " 61% |###################################                       | ETA:  0:00:08\r",
        " 62% |####################################                      | ETA:  0:00:08\r"
       ]
      },
      {
       "output_type": "stream",
       "stream": "stderr",
       "text": [
        " 63% |#####################################                     | ETA:  0:00:07\r",
        " 64% |#####################################                     | ETA:  0:00:07\r"
       ]
      },
      {
       "output_type": "stream",
       "stream": "stderr",
       "text": [
        " 65% |######################################                    | ETA:  0:00:07\r",
        " 66% |######################################                    | ETA:  0:00:07\r"
       ]
      },
      {
       "output_type": "stream",
       "stream": "stderr",
       "text": [
        " 68% |#######################################                   | ETA:  0:00:06\r",
        " 69% |########################################                  | ETA:  0:00:06\r"
       ]
      },
      {
       "output_type": "stream",
       "stream": "stderr",
       "text": [
        " 70% |########################################                  | ETA:  0:00:06\r",
        " 71% |#########################################                 | ETA:  0:00:06\r"
       ]
      },
      {
       "output_type": "stream",
       "stream": "stderr",
       "text": [
        " 72% |#########################################                 | ETA:  0:00:06\r",
        " 73% |##########################################                | ETA:  0:00:05\r"
       ]
      },
      {
       "output_type": "stream",
       "stream": "stderr",
       "text": [
        " 74% |##########################################                | ETA:  0:00:05\r",
        " 75% |###########################################               | ETA:  0:00:05\r"
       ]
      },
      {
       "output_type": "stream",
       "stream": "stderr",
       "text": [
        " 76% |############################################              | ETA:  0:00:05\r",
        " 77% |############################################              | ETA:  0:00:04\r"
       ]
      },
      {
       "output_type": "stream",
       "stream": "stderr",
       "text": [
        " 78% |#############################################             | ETA:  0:00:04\r",
        " 79% |#############################################             | ETA:  0:00:04\r"
       ]
      },
      {
       "output_type": "stream",
       "stream": "stderr",
       "text": [
        " 80% |##############################################            | ETA:  0:00:04\r",
        " 81% |###############################################           | ETA:  0:00:04\r"
       ]
      },
      {
       "output_type": "stream",
       "stream": "stderr",
       "text": [
        " 82% |###############################################           | ETA:  0:00:03\r",
        " 83% |################################################          | ETA:  0:00:03\r"
       ]
      },
      {
       "output_type": "stream",
       "stream": "stderr",
       "text": [
        " 84% |################################################          | ETA:  0:00:03\r",
        " 85% |#################################################         | ETA:  0:00:03\r"
       ]
      },
      {
       "output_type": "stream",
       "stream": "stderr",
       "text": [
        " 86% |##################################################        | ETA:  0:00:02\r",
        " 87% |##################################################        | ETA:  0:00:02\r"
       ]
      },
      {
       "output_type": "stream",
       "stream": "stderr",
       "text": [
        " 88% |###################################################       | ETA:  0:00:02\r",
        " 89% |###################################################       | ETA:  0:00:02\r"
       ]
      },
      {
       "output_type": "stream",
       "stream": "stderr",
       "text": [
        " 90% |####################################################      | ETA:  0:00:02\r",
        " 91% |####################################################      | ETA:  0:00:01\r"
       ]
      },
      {
       "output_type": "stream",
       "stream": "stderr",
       "text": [
        " 92% |#####################################################     | ETA:  0:00:01\r",
        " 93% |######################################################    | ETA:  0:00:01\r"
       ]
      },
      {
       "output_type": "stream",
       "stream": "stderr",
       "text": [
        " 94% |######################################################    | ETA:  0:00:01\r",
        " 95% |#######################################################   | ETA:  0:00:00\r"
       ]
      },
      {
       "output_type": "stream",
       "stream": "stderr",
       "text": [
        " 96% |#######################################################   | ETA:  0:00:00\r",
        " 97% |########################################################  | ETA:  0:00:00\r"
       ]
      },
      {
       "output_type": "stream",
       "stream": "stderr",
       "text": [
        " 98% |######################################################### | ETA:  0:00:00\r",
        " 99% |######################################################### | ETA:  0:00:00\r"
       ]
      },
      {
       "output_type": "stream",
       "stream": "stdout",
       "text": [
        "\n",
        "    density    : 6.4724332595e-07\n",
        "    shape      : (6264, 6264)\n",
        "    nnz        : 1545014\n",
        "D Matrix info:\n",
        "    density    : 3.0371135273e-06\n",
        "    shape      : (6264, 6264)\n",
        "    nnz        : 329260\n",
        "MCEqRun::_init_default_matrices():Done filling matrices.\n",
        "MCEqRun::_calculate_integration_path():\n",
        "MCEqRun::_forward_euler(): Solver will perform 4729 integration steps.\n",
        "\n",
        "MCEqRun::_forward_euler(): time elapsed during integration: 21.7172820568 sec"
       ]
      },
      {
       "output_type": "stream",
       "stream": "stdout",
       "text": [
        "\n",
        "MCEqRun::set_obs_particles(): Converted names:eta, eta*, omega, phi, pi0, rho+, rho-, rho0, etaC, jpsi\n",
        "to: 221, 331, 223, 333, 111, 213, -213, 113, 441, 443\n",
        "MCEqRun::_init_default_matrices():Start filling matrices.\n",
        "MCEqRun::_convert_to_sparse():Converting to sparse (CSR) matrix format."
       ]
      },
      {
       "output_type": "stream",
       "stream": "stdout",
       "text": [
        "\n",
        "C Matrix info:"
       ]
      },
      {
       "output_type": "stream",
       "stream": "stderr",
       "text": [
        "100% |##########################################################| Time: 0:00:21\r\n",
        "  0% |                                                         | ETA:  --:--:--\r"
       ]
      },
      {
       "output_type": "stream",
       "stream": "stderr",
       "text": [
        "  1% |                                                          | ETA:  0:00:23\r",
        "  2% |#                                                         | ETA:  0:00:21\r"
       ]
      },
      {
       "output_type": "stream",
       "stream": "stderr",
       "text": [
        "  3% |#                                                         | ETA:  0:00:21\r",
        "  4% |##                                                        | ETA:  0:00:21\r"
       ]
      },
      {
       "output_type": "stream",
       "stream": "stderr",
       "text": [
        "  5% |##                                                        | ETA:  0:00:20\r",
        "  6% |###                                                       | ETA:  0:00:20\r"
       ]
      },
      {
       "output_type": "stream",
       "stream": "stderr",
       "text": [
        "  7% |####                                                      | ETA:  0:00:20\r",
        "  8% |####                                                      | ETA:  0:00:19\r"
       ]
      },
      {
       "output_type": "stream",
       "stream": "stderr",
       "text": [
        "  9% |#####                                                     | ETA:  0:00:19\r",
        " 10% |#####                                                     | ETA:  0:00:19\r"
       ]
      },
      {
       "output_type": "stream",
       "stream": "stderr",
       "text": [
        " 11% |######                                                    | ETA:  0:00:19\r",
        " 12% |#######                                                   | ETA:  0:00:18\r"
       ]
      },
      {
       "output_type": "stream",
       "stream": "stderr",
       "text": [
        " 13% |#######                                                   | ETA:  0:00:18\r",
        " 14% |########                                                  | ETA:  0:00:18\r"
       ]
      },
      {
       "output_type": "stream",
       "stream": "stderr",
       "text": [
        " 15% |########                                                  | ETA:  0:00:18\r",
        " 16% |#########                                                 | ETA:  0:00:17\r"
       ]
      },
      {
       "output_type": "stream",
       "stream": "stderr",
       "text": [
        " 17% |##########                                                | ETA:  0:00:17\r",
        " 18% |##########                                                | ETA:  0:00:17\r"
       ]
      },
      {
       "output_type": "stream",
       "stream": "stderr",
       "text": [
        " 19% |###########                                               | ETA:  0:00:17\r",
        " 20% |###########                                               | ETA:  0:00:17\r"
       ]
      },
      {
       "output_type": "stream",
       "stream": "stderr",
       "text": [
        " 21% |############                                              | ETA:  0:00:16\r",
        " 22% |############                                              | ETA:  0:00:16\r"
       ]
      },
      {
       "output_type": "stream",
       "stream": "stderr",
       "text": [
        " 23% |#############                                             | ETA:  0:00:16\r",
        " 24% |##############                                            | ETA:  0:00:16\r"
       ]
      },
      {
       "output_type": "stream",
       "stream": "stderr",
       "text": [
        " 25% |##############                                            | ETA:  0:00:15\r",
        " 26% |###############                                           | ETA:  0:00:15\r"
       ]
      },
      {
       "output_type": "stream",
       "stream": "stderr",
       "text": [
        " 27% |###############                                           | ETA:  0:00:15\r",
        " 28% |################                                          | ETA:  0:00:15\r"
       ]
      },
      {
       "output_type": "stream",
       "stream": "stderr",
       "text": [
        " 29% |#################                                         | ETA:  0:00:15\r",
        " 30% |#################                                         | ETA:  0:00:14\r"
       ]
      },
      {
       "output_type": "stream",
       "stream": "stderr",
       "text": [
        " 31% |##################                                        | ETA:  0:00:14\r",
        " 32% |##################                                        | ETA:  0:00:14\r"
       ]
      },
      {
       "output_type": "stream",
       "stream": "stderr",
       "text": [
        " 33% |###################                                       | ETA:  0:00:14\r",
        " 34% |####################                                      | ETA:  0:00:13\r"
       ]
      },
      {
       "output_type": "stream",
       "stream": "stderr",
       "text": [
        " 35% |####################                                      | ETA:  0:00:13\r",
        " 36% |#####################                                     | ETA:  0:00:13\r"
       ]
      },
      {
       "output_type": "stream",
       "stream": "stderr",
       "text": [
        " 37% |#####################                                     | ETA:  0:00:13\r",
        " 38% |######################                                    | ETA:  0:00:13\r"
       ]
      },
      {
       "output_type": "stream",
       "stream": "stderr",
       "text": [
        " 39% |######################                                    | ETA:  0:00:12\r",
        " 40% |#######################                                   | ETA:  0:00:12\r"
       ]
      },
      {
       "output_type": "stream",
       "stream": "stderr",
       "text": [
        " 41% |########################                                  | ETA:  0:00:12\r",
        " 42% |########################                                  | ETA:  0:00:12\r"
       ]
      },
      {
       "output_type": "stream",
       "stream": "stderr",
       "text": [
        " 43% |#########################                                 | ETA:  0:00:11\r",
        " 44% |#########################                                 | ETA:  0:00:11\r"
       ]
      },
      {
       "output_type": "stream",
       "stream": "stderr",
       "text": [
        " 45% |##########################                                | ETA:  0:00:11\r",
        " 46% |###########################                               | ETA:  0:00:11\r"
       ]
      },
      {
       "output_type": "stream",
       "stream": "stderr",
       "text": [
        " 47% |###########################                               | ETA:  0:00:11\r",
        " 48% |############################                              | ETA:  0:00:10\r"
       ]
      },
      {
       "output_type": "stream",
       "stream": "stderr",
       "text": [
        " 49% |############################                              | ETA:  0:00:10\r",
        " 50% |#############################                             | ETA:  0:00:10\r"
       ]
      },
      {
       "output_type": "stream",
       "stream": "stderr",
       "text": [
        " 51% |##############################                            | ETA:  0:00:10\r",
        " 52% |##############################                            | ETA:  0:00:09\r"
       ]
      },
      {
       "output_type": "stream",
       "stream": "stderr",
       "text": [
        " 53% |###############################                           | ETA:  0:00:09\r",
        " 54% |###############################                           | ETA:  0:00:09\r"
       ]
      },
      {
       "output_type": "stream",
       "stream": "stderr",
       "text": [
        " 55% |################################                          | ETA:  0:00:09\r",
        " 56% |################################                          | ETA:  0:00:09\r"
       ]
      },
      {
       "output_type": "stream",
       "stream": "stderr",
       "text": [
        " 57% |#################################                         | ETA:  0:00:08\r",
        " 58% |##################################                        | ETA:  0:00:08\r"
       ]
      },
      {
       "output_type": "stream",
       "stream": "stderr",
       "text": [
        " 59% |##################################                        | ETA:  0:00:08\r",
        " 60% |###################################                       | ETA:  0:00:08\r"
       ]
      },
      {
       "output_type": "stream",
       "stream": "stderr",
       "text": [
        " 61% |###################################                       | ETA:  0:00:08\r",
        " 62% |####################################                      | ETA:  0:00:07\r"
       ]
      },
      {
       "output_type": "stream",
       "stream": "stderr",
       "text": [
        " 63% |#####################################                     | ETA:  0:00:07\r",
        " 64% |#####################################                     | ETA:  0:00:07\r"
       ]
      },
      {
       "output_type": "stream",
       "stream": "stderr",
       "text": [
        " 65% |######################################                    | ETA:  0:00:07\r",
        " 66% |######################################                    | ETA:  0:00:06\r"
       ]
      },
      {
       "output_type": "stream",
       "stream": "stderr",
       "text": [
        " 68% |#######################################                   | ETA:  0:00:06\r",
        " 69% |########################################                  | ETA:  0:00:06\r"
       ]
      },
      {
       "output_type": "stream",
       "stream": "stderr",
       "text": [
        " 70% |########################################                  | ETA:  0:00:06\r",
        " 71% |#########################################                 | ETA:  0:00:06\r"
       ]
      },
      {
       "output_type": "stream",
       "stream": "stderr",
       "text": [
        " 72% |#########################################                 | ETA:  0:00:05\r",
        " 73% |##########################################                | ETA:  0:00:05\r"
       ]
      },
      {
       "output_type": "stream",
       "stream": "stderr",
       "text": [
        " 74% |##########################################                | ETA:  0:00:05\r",
        " 75% |###########################################               | ETA:  0:00:05\r"
       ]
      },
      {
       "output_type": "stream",
       "stream": "stderr",
       "text": [
        " 76% |############################################              | ETA:  0:00:05\r",
        " 77% |############################################              | ETA:  0:00:04\r"
       ]
      },
      {
       "output_type": "stream",
       "stream": "stderr",
       "text": [
        " 78% |#############################################             | ETA:  0:00:04\r",
        " 79% |#############################################             | ETA:  0:00:04\r"
       ]
      },
      {
       "output_type": "stream",
       "stream": "stderr",
       "text": [
        " 80% |##############################################            | ETA:  0:00:04\r",
        " 81% |###############################################           | ETA:  0:00:03\r"
       ]
      },
      {
       "output_type": "stream",
       "stream": "stderr",
       "text": [
        " 82% |###############################################           | ETA:  0:00:03\r",
        " 83% |################################################          | ETA:  0:00:03\r"
       ]
      },
      {
       "output_type": "stream",
       "stream": "stderr",
       "text": [
        " 84% |################################################          | ETA:  0:00:03\r",
        " 85% |#################################################         | ETA:  0:00:03\r"
       ]
      },
      {
       "output_type": "stream",
       "stream": "stderr",
       "text": [
        " 86% |##################################################        | ETA:  0:00:02\r",
        " 87% |##################################################        | ETA:  0:00:02\r"
       ]
      },
      {
       "output_type": "stream",
       "stream": "stderr",
       "text": [
        " 88% |###################################################       | ETA:  0:00:02\r",
        " 89% |###################################################       | ETA:  0:00:02\r"
       ]
      },
      {
       "output_type": "stream",
       "stream": "stderr",
       "text": [
        " 90% |####################################################      | ETA:  0:00:02\r",
        " 91% |####################################################      | ETA:  0:00:01\r"
       ]
      },
      {
       "output_type": "stream",
       "stream": "stderr",
       "text": [
        " 92% |#####################################################     | ETA:  0:00:01\r",
        " 93% |######################################################    | ETA:  0:00:01\r"
       ]
      },
      {
       "output_type": "stream",
       "stream": "stderr",
       "text": [
        " 94% |######################################################    | ETA:  0:00:01\r",
        " 95% |#######################################################   | ETA:  0:00:00\r"
       ]
      },
      {
       "output_type": "stream",
       "stream": "stderr",
       "text": [
        " 96% |#######################################################   | ETA:  0:00:00\r",
        " 97% |########################################################  | ETA:  0:00:00\r"
       ]
      },
      {
       "output_type": "stream",
       "stream": "stderr",
       "text": [
        " 98% |######################################################### | ETA:  0:00:00\r",
        " 99% |######################################################### | ETA:  0:00:00\r"
       ]
      },
      {
       "output_type": "stream",
       "stream": "stdout",
       "text": [
        "\n",
        "    density    : 6.61094084266e-07\n",
        "    shape      : (6264, 6264)\n",
        "    nnz        : 1512644\n",
        "D Matrix info:\n",
        "    density    : 3.44531764106e-06\n",
        "    shape      : (6264, 6264)\n",
        "    nnz        : 290249\n",
        "MCEqRun::_init_default_matrices():Done filling matrices.\n",
        "MCEqRun::_calculate_integration_path():\n",
        "MCEqRun::_forward_euler(): Solver will perform 4729 integration steps.\n",
        "\n",
        "MCEqRun::_forward_euler(): time elapsed during integration: 21.164618969 sec"
       ]
      },
      {
       "output_type": "stream",
       "stream": "stdout",
       "text": [
        "\n",
        "MCEqRun::set_obs_particles(): Converted names:tau+, tau-\n",
        "to: -15, 15\n",
        "MCEqRun::_init_default_matrices():Start filling matrices.\n",
        "MCEqRun::_convert_to_sparse():Converting to sparse (CSR) matrix format."
       ]
      },
      {
       "output_type": "stream",
       "stream": "stdout",
       "text": [
        "\n",
        "C Matrix info:"
       ]
      },
      {
       "output_type": "stream",
       "stream": "stderr",
       "text": [
        "100% |##########################################################| Time: 0:00:21\r\n",
        "  0% |                                                         | ETA:  --:--:--\r"
       ]
      },
      {
       "output_type": "stream",
       "stream": "stderr",
       "text": [
        "  1% |                                                          | ETA:  0:00:24\r",
        "  2% |#                                                         | ETA:  0:00:23\r"
       ]
      },
      {
       "output_type": "stream",
       "stream": "stderr",
       "text": [
        "  3% |#                                                         | ETA:  0:00:22\r",
        "  4% |##                                                        | ETA:  0:00:22\r"
       ]
      },
      {
       "output_type": "stream",
       "stream": "stderr",
       "text": [
        "  5% |##                                                        | ETA:  0:00:21\r",
        "  6% |###                                                       | ETA:  0:00:21\r"
       ]
      },
      {
       "output_type": "stream",
       "stream": "stderr",
       "text": [
        "  7% |####                                                      | ETA:  0:00:21\r",
        "  8% |####                                                      | ETA:  0:00:21\r"
       ]
      },
      {
       "output_type": "stream",
       "stream": "stderr",
       "text": [
        "  9% |#####                                                     | ETA:  0:00:20\r",
        " 10% |#####                                                     | ETA:  0:00:20\r"
       ]
      },
      {
       "output_type": "stream",
       "stream": "stderr",
       "text": [
        " 11% |######                                                    | ETA:  0:00:20\r",
        " 12% |#######                                                   | ETA:  0:00:20\r"
       ]
      },
      {
       "output_type": "stream",
       "stream": "stderr",
       "text": [
        " 13% |#######                                                   | ETA:  0:00:20\r",
        " 14% |########                                                  | ETA:  0:00:19\r"
       ]
      },
      {
       "output_type": "stream",
       "stream": "stderr",
       "text": [
        " 15% |########                                                  | ETA:  0:00:19\r",
        " 16% |#########                                                 | ETA:  0:00:19\r"
       ]
      },
      {
       "output_type": "stream",
       "stream": "stderr",
       "text": [
        " 17% |##########                                                | ETA:  0:00:19\r",
        " 18% |##########                                                | ETA:  0:00:18\r"
       ]
      },
      {
       "output_type": "stream",
       "stream": "stderr",
       "text": [
        " 19% |###########                                               | ETA:  0:00:18\r",
        " 20% |###########                                               | ETA:  0:00:18\r"
       ]
      },
      {
       "output_type": "stream",
       "stream": "stderr",
       "text": [
        " 21% |############                                              | ETA:  0:00:18\r",
        " 22% |############                                              | ETA:  0:00:17\r"
       ]
      },
      {
       "output_type": "stream",
       "stream": "stderr",
       "text": [
        " 23% |#############                                             | ETA:  0:00:17\r",
        " 24% |##############                                            | ETA:  0:00:17\r"
       ]
      },
      {
       "output_type": "stream",
       "stream": "stderr",
       "text": [
        " 25% |##############                                            | ETA:  0:00:17\r",
        " 26% |###############                                           | ETA:  0:00:16\r"
       ]
      },
      {
       "output_type": "stream",
       "stream": "stderr",
       "text": [
        " 27% |###############                                           | ETA:  0:00:16\r",
        " 28% |################                                          | ETA:  0:00:16\r"
       ]
      },
      {
       "output_type": "stream",
       "stream": "stderr",
       "text": [
        " 29% |#################                                         | ETA:  0:00:16\r",
        " 30% |#################                                         | ETA:  0:00:15\r"
       ]
      },
      {
       "output_type": "stream",
       "stream": "stderr",
       "text": [
        " 31% |##################                                        | ETA:  0:00:15\r",
        " 32% |##################                                        | ETA:  0:00:15\r"
       ]
      },
      {
       "output_type": "stream",
       "stream": "stderr",
       "text": [
        " 33% |###################                                       | ETA:  0:00:15\r",
        " 34% |####################                                      | ETA:  0:00:14\r"
       ]
      },
      {
       "output_type": "stream",
       "stream": "stderr",
       "text": [
        " 35% |####################                                      | ETA:  0:00:14\r",
        " 36% |#####################                                     | ETA:  0:00:14\r"
       ]
      },
      {
       "output_type": "stream",
       "stream": "stderr",
       "text": [
        " 37% |#####################                                     | ETA:  0:00:14\r",
        " 38% |######################                                    | ETA:  0:00:13\r"
       ]
      },
      {
       "output_type": "stream",
       "stream": "stderr",
       "text": [
        " 39% |######################                                    | ETA:  0:00:13\r",
        " 40% |#######################                                   | ETA:  0:00:13\r"
       ]
      },
      {
       "output_type": "stream",
       "stream": "stderr",
       "text": [
        " 41% |########################                                  | ETA:  0:00:13\r",
        " 42% |########################                                  | ETA:  0:00:13\r"
       ]
      },
      {
       "output_type": "stream",
       "stream": "stderr",
       "text": [
        " 43% |#########################                                 | ETA:  0:00:12\r",
        " 44% |#########################                                 | ETA:  0:00:12\r"
       ]
      },
      {
       "output_type": "stream",
       "stream": "stderr",
       "text": [
        " 45% |##########################                                | ETA:  0:00:12\r",
        " 46% |###########################                               | ETA:  0:00:12\r"
       ]
      },
      {
       "output_type": "stream",
       "stream": "stderr",
       "text": [
        " 47% |###########################                               | ETA:  0:00:11\r",
        " 48% |############################                              | ETA:  0:00:11\r"
       ]
      },
      {
       "output_type": "stream",
       "stream": "stderr",
       "text": [
        " 49% |############################                              | ETA:  0:00:11\r",
        " 50% |#############################                             | ETA:  0:00:11\r"
       ]
      },
      {
       "output_type": "stream",
       "stream": "stderr",
       "text": [
        " 51% |##############################                            | ETA:  0:00:10\r",
        " 52% |##############################                            | ETA:  0:00:10\r"
       ]
      },
      {
       "output_type": "stream",
       "stream": "stderr",
       "text": [
        " 53% |###############################                           | ETA:  0:00:10\r",
        " 54% |###############################                           | ETA:  0:00:10\r"
       ]
      },
      {
       "output_type": "stream",
       "stream": "stderr",
       "text": [
        " 55% |################################                          | ETA:  0:00:10\r",
        " 56% |################################                          | ETA:  0:00:09\r"
       ]
      },
      {
       "output_type": "stream",
       "stream": "stderr",
       "text": [
        " 57% |#################################                         | ETA:  0:00:09\r",
        " 58% |##################################                        | ETA:  0:00:09\r"
       ]
      },
      {
       "output_type": "stream",
       "stream": "stderr",
       "text": [
        " 59% |##################################                        | ETA:  0:00:09\r",
        " 60% |###################################                       | ETA:  0:00:08\r"
       ]
      },
      {
       "output_type": "stream",
       "stream": "stderr",
       "text": [
        " 61% |###################################                       | ETA:  0:00:08\r",
        " 62% |####################################                      | ETA:  0:00:08\r"
       ]
      },
      {
       "output_type": "stream",
       "stream": "stderr",
       "text": [
        " 63% |#####################################                     | ETA:  0:00:08\r",
        " 64% |#####################################                     | ETA:  0:00:07\r"
       ]
      },
      {
       "output_type": "stream",
       "stream": "stderr",
       "text": [
        " 65% |######################################                    | ETA:  0:00:07\r",
        " 66% |######################################                    | ETA:  0:00:07\r"
       ]
      },
      {
       "output_type": "stream",
       "stream": "stderr",
       "text": [
        " 68% |#######################################                   | ETA:  0:00:07\r",
        " 69% |########################################                  | ETA:  0:00:07\r"
       ]
      },
      {
       "output_type": "stream",
       "stream": "stderr",
       "text": [
        " 70% |########################################                  | ETA:  0:00:06\r",
        " 71% |#########################################                 | ETA:  0:00:06\r"
       ]
      },
      {
       "output_type": "stream",
       "stream": "stderr",
       "text": [
        " 72% |#########################################                 | ETA:  0:00:06\r",
        " 73% |##########################################                | ETA:  0:00:06\r"
       ]
      },
      {
       "output_type": "stream",
       "stream": "stderr",
       "text": [
        " 74% |##########################################                | ETA:  0:00:05\r",
        " 75% |###########################################               | ETA:  0:00:05\r"
       ]
      },
      {
       "output_type": "stream",
       "stream": "stderr",
       "text": [
        " 76% |############################################              | ETA:  0:00:05\r",
        " 77% |############################################              | ETA:  0:00:05\r"
       ]
      },
      {
       "output_type": "stream",
       "stream": "stderr",
       "text": [
        " 78% |#############################################             | ETA:  0:00:04\r",
        " 79% |#############################################             | ETA:  0:00:04\r"
       ]
      },
      {
       "output_type": "stream",
       "stream": "stderr",
       "text": [
        " 80% |##############################################            | ETA:  0:00:04\r",
        " 81% |###############################################           | ETA:  0:00:04\r"
       ]
      },
      {
       "output_type": "stream",
       "stream": "stderr",
       "text": [
        " 82% |###############################################           | ETA:  0:00:04\r",
        " 83% |################################################          | ETA:  0:00:03\r"
       ]
      },
      {
       "output_type": "stream",
       "stream": "stderr",
       "text": [
        " 84% |################################################          | ETA:  0:00:03\r",
        " 85% |#################################################         | ETA:  0:00:03\r"
       ]
      },
      {
       "output_type": "stream",
       "stream": "stderr",
       "text": [
        " 86% |##################################################        | ETA:  0:00:03\r",
        " 87% |##################################################        | ETA:  0:00:02\r"
       ]
      },
      {
       "output_type": "stream",
       "stream": "stderr",
       "text": [
        " 88% |###################################################       | ETA:  0:00:02\r",
        " 89% |###################################################       | ETA:  0:00:02\r"
       ]
      },
      {
       "output_type": "stream",
       "stream": "stderr",
       "text": [
        " 90% |####################################################      | ETA:  0:00:02\r",
        " 91% |####################################################      | ETA:  0:00:01\r"
       ]
      },
      {
       "output_type": "stream",
       "stream": "stderr",
       "text": [
        " 92% |#####################################################     | ETA:  0:00:01\r",
        " 93% |######################################################    | ETA:  0:00:01\r"
       ]
      },
      {
       "output_type": "stream",
       "stream": "stderr",
       "text": [
        " 94% |######################################################    | ETA:  0:00:01\r",
        " 95% |#######################################################   | ETA:  0:00:01\r"
       ]
      },
      {
       "output_type": "stream",
       "stream": "stderr",
       "text": [
        " 96% |#######################################################   | ETA:  0:00:00\r",
        " 97% |########################################################  | ETA:  0:00:00\r"
       ]
      },
      {
       "output_type": "stream",
       "stream": "stderr",
       "text": [
        " 98% |######################################################### | ETA:  0:00:00\r",
        " 99% |######################################################### | ETA:  0:00:00\r"
       ]
      },
      {
       "output_type": "stream",
       "stream": "stdout",
       "text": [
        "\n",
        "    density    : 6.14486897296e-07\n",
        "    shape      : (6264, 6264)\n",
        "    nnz        : 1627374\n",
        "D Matrix info:\n",
        "    density    : 3.26312182865e-06\n",
        "    shape      : (6264, 6264)\n",
        "    nnz        : 306455\n",
        "MCEqRun::_init_default_matrices():Done filling matrices.\n",
        "MCEqRun::_calculate_integration_path():\n",
        "MCEqRun::_forward_euler(): Solver will perform 4729 integration steps.\n",
        "\n",
        "MCEqRun::_forward_euler(): time elapsed during integration: 22.9195230007 sec"
       ]
      },
      {
       "output_type": "stream",
       "stream": "stdout",
       "text": [
        "\n",
        "MCEqRun::set_obs_particles(): Converted names:mu+, mu-, pi_mu+, pi_mu-, k_mu+, k_mu-, pr_mu+, pr_mu-\n",
        "to: -13, 13, -7113, 7113, -7213, 7213, -7013, 7013\n",
        "MCEqRun::_init_default_matrices():Start filling matrices.\n",
        "MCEqRun::_convert_to_sparse():Converting to sparse (CSR) matrix format."
       ]
      },
      {
       "output_type": "stream",
       "stream": "stdout",
       "text": [
        "\n",
        "C Matrix info:"
       ]
      },
      {
       "output_type": "stream",
       "stream": "stderr",
       "text": [
        "100% |##########################################################| Time: 0:00:22\r\n",
        "  0% |                                                         | ETA:  --:--:--\r"
       ]
      },
      {
       "output_type": "stream",
       "stream": "stderr",
       "text": [
        "  1% |                                                          | ETA:  0:00:22\r",
        "  2% |#                                                         | ETA:  0:00:20\r"
       ]
      },
      {
       "output_type": "stream",
       "stream": "stderr",
       "text": [
        "  3% |#                                                         | ETA:  0:00:20\r",
        "  4% |##                                                        | ETA:  0:00:20\r"
       ]
      },
      {
       "output_type": "stream",
       "stream": "stderr",
       "text": [
        "  5% |##                                                        | ETA:  0:00:19\r",
        "  6% |###                                                       | ETA:  0:00:19\r"
       ]
      },
      {
       "output_type": "stream",
       "stream": "stderr",
       "text": [
        "  7% |####                                                      | ETA:  0:00:19\r",
        "  8% |####                                                      | ETA:  0:00:19\r"
       ]
      },
      {
       "output_type": "stream",
       "stream": "stderr",
       "text": [
        "  9% |#####                                                     | ETA:  0:00:18\r",
        " 10% |#####                                                     | ETA:  0:00:18\r"
       ]
      },
      {
       "output_type": "stream",
       "stream": "stderr",
       "text": [
        " 11% |######                                                    | ETA:  0:00:18\r",
        " 12% |#######                                                   | ETA:  0:00:18\r"
       ]
      },
      {
       "output_type": "stream",
       "stream": "stderr",
       "text": [
        " 13% |#######                                                   | ETA:  0:00:17\r",
        " 14% |########                                                  | ETA:  0:00:17\r"
       ]
      },
      {
       "output_type": "stream",
       "stream": "stderr",
       "text": [
        " 15% |########                                                  | ETA:  0:00:17\r",
        " 16% |#########                                                 | ETA:  0:00:17\r"
       ]
      },
      {
       "output_type": "stream",
       "stream": "stderr",
       "text": [
        " 17% |##########                                                | ETA:  0:00:16\r",
        " 18% |##########                                                | ETA:  0:00:16\r"
       ]
      },
      {
       "output_type": "stream",
       "stream": "stderr",
       "text": [
        " 19% |###########                                               | ETA:  0:00:16\r",
        " 20% |###########                                               | ETA:  0:00:16\r"
       ]
      },
      {
       "output_type": "stream",
       "stream": "stderr",
       "text": [
        " 21% |############                                              | ETA:  0:00:16\r",
        " 22% |############                                              | ETA:  0:00:15\r"
       ]
      },
      {
       "output_type": "stream",
       "stream": "stderr",
       "text": [
        " 23% |#############                                             | ETA:  0:00:15\r",
        " 24% |##############                                            | ETA:  0:00:15\r"
       ]
      },
      {
       "output_type": "stream",
       "stream": "stderr",
       "text": [
        " 25% |##############                                            | ETA:  0:00:15\r",
        " 26% |###############                                           | ETA:  0:00:15\r"
       ]
      },
      {
       "output_type": "stream",
       "stream": "stderr",
       "text": [
        " 27% |###############                                           | ETA:  0:00:14\r",
        " 28% |################                                          | ETA:  0:00:14\r"
       ]
      },
      {
       "output_type": "stream",
       "stream": "stderr",
       "text": [
        " 29% |#################                                         | ETA:  0:00:14\r",
        " 30% |#################                                         | ETA:  0:00:14\r"
       ]
      },
      {
       "output_type": "stream",
       "stream": "stderr",
       "text": [
        " 31% |##################                                        | ETA:  0:00:14\r",
        " 32% |##################                                        | ETA:  0:00:13\r"
       ]
      },
      {
       "output_type": "stream",
       "stream": "stderr",
       "text": [
        " 33% |###################                                       | ETA:  0:00:13\r",
        " 34% |####################                                      | ETA:  0:00:13\r"
       ]
      },
      {
       "output_type": "stream",
       "stream": "stderr",
       "text": [
        " 35% |####################                                      | ETA:  0:00:13\r",
        " 36% |#####################                                     | ETA:  0:00:12\r"
       ]
      },
      {
       "output_type": "stream",
       "stream": "stderr",
       "text": [
        " 37% |#####################                                     | ETA:  0:00:12\r",
        " 38% |######################                                    | ETA:  0:00:12\r"
       ]
      },
      {
       "output_type": "stream",
       "stream": "stderr",
       "text": [
        " 39% |######################                                    | ETA:  0:00:12\r",
        " 40% |#######################                                   | ETA:  0:00:12\r"
       ]
      },
      {
       "output_type": "stream",
       "stream": "stderr",
       "text": [
        " 41% |########################                                  | ETA:  0:00:11\r",
        " 42% |########################                                  | ETA:  0:00:11\r"
       ]
      },
      {
       "output_type": "stream",
       "stream": "stderr",
       "text": [
        " 43% |#########################                                 | ETA:  0:00:11\r",
        " 44% |#########################                                 | ETA:  0:00:11\r"
       ]
      },
      {
       "output_type": "stream",
       "stream": "stderr",
       "text": [
        " 45% |##########################                                | ETA:  0:00:11\r",
        " 46% |###########################                               | ETA:  0:00:10\r"
       ]
      },
      {
       "output_type": "stream",
       "stream": "stderr",
       "text": [
        " 47% |###########################                               | ETA:  0:00:10\r",
        " 48% |############################                              | ETA:  0:00:10\r"
       ]
      },
      {
       "output_type": "stream",
       "stream": "stderr",
       "text": [
        " 49% |############################                              | ETA:  0:00:10\r",
        " 50% |#############################                             | ETA:  0:00:10\r"
       ]
      },
      {
       "output_type": "stream",
       "stream": "stderr",
       "text": [
        " 51% |##############################                            | ETA:  0:00:09\r",
        " 52% |##############################                            | ETA:  0:00:09\r"
       ]
      },
      {
       "output_type": "stream",
       "stream": "stderr",
       "text": [
        " 53% |###############################                           | ETA:  0:00:09\r",
        " 54% |###############################                           | ETA:  0:00:09\r"
       ]
      },
      {
       "output_type": "stream",
       "stream": "stderr",
       "text": [
        " 55% |################################                          | ETA:  0:00:09\r",
        " 56% |################################                          | ETA:  0:00:08\r"
       ]
      },
      {
       "output_type": "stream",
       "stream": "stderr",
       "text": [
        " 57% |#################################                         | ETA:  0:00:08\r",
        " 58% |##################################                        | ETA:  0:00:08\r"
       ]
      },
      {
       "output_type": "stream",
       "stream": "stderr",
       "text": [
        " 59% |##################################                        | ETA:  0:00:08\r",
        " 60% |###################################                       | ETA:  0:00:07\r"
       ]
      },
      {
       "output_type": "stream",
       "stream": "stderr",
       "text": [
        " 61% |###################################                       | ETA:  0:00:07\r",
        " 62% |####################################                      | ETA:  0:00:07\r"
       ]
      },
      {
       "output_type": "stream",
       "stream": "stderr",
       "text": [
        " 63% |#####################################                     | ETA:  0:00:07\r",
        " 64% |#####################################                     | ETA:  0:00:07\r"
       ]
      },
      {
       "output_type": "stream",
       "stream": "stderr",
       "text": [
        " 65% |######################################                    | ETA:  0:00:06\r",
        " 66% |######################################                    | ETA:  0:00:06\r"
       ]
      },
      {
       "output_type": "stream",
       "stream": "stderr",
       "text": [
        " 68% |#######################################                   | ETA:  0:00:06\r",
        " 69% |########################################                  | ETA:  0:00:06\r"
       ]
      },
      {
       "output_type": "stream",
       "stream": "stderr",
       "text": [
        " 70% |########################################                  | ETA:  0:00:06\r",
        " 71% |#########################################                 | ETA:  0:00:05\r"
       ]
      },
      {
       "output_type": "stream",
       "stream": "stderr",
       "text": [
        " 72% |#########################################                 | ETA:  0:00:05\r",
        " 73% |##########################################                | ETA:  0:00:05\r"
       ]
      },
      {
       "output_type": "stream",
       "stream": "stderr",
       "text": [
        " 74% |##########################################                | ETA:  0:00:05\r",
        " 75% |###########################################               | ETA:  0:00:05\r"
       ]
      },
      {
       "output_type": "stream",
       "stream": "stderr",
       "text": [
        " 76% |############################################              | ETA:  0:00:04\r",
        " 77% |############################################              | ETA:  0:00:04\r"
       ]
      },
      {
       "output_type": "stream",
       "stream": "stderr",
       "text": [
        " 78% |#############################################             | ETA:  0:00:04\r",
        " 79% |#############################################             | ETA:  0:00:04\r"
       ]
      },
      {
       "output_type": "stream",
       "stream": "stderr",
       "text": [
        " 80% |##############################################            | ETA:  0:00:04\r",
        " 81% |###############################################           | ETA:  0:00:03\r"
       ]
      },
      {
       "output_type": "stream",
       "stream": "stderr",
       "text": [
        " 82% |###############################################           | ETA:  0:00:03\r",
        " 83% |################################################          | ETA:  0:00:03\r"
       ]
      },
      {
       "output_type": "stream",
       "stream": "stderr",
       "text": [
        " 84% |################################################          | ETA:  0:00:03\r",
        " 85% |#################################################         | ETA:  0:00:03\r"
       ]
      },
      {
       "output_type": "stream",
       "stream": "stderr",
       "text": [
        " 86% |##################################################        | ETA:  0:00:02\r",
        " 87% |##################################################        | ETA:  0:00:02\r"
       ]
      },
      {
       "output_type": "stream",
       "stream": "stderr",
       "text": [
        " 88% |###################################################       | ETA:  0:00:02\r",
        " 89% |###################################################       | ETA:  0:00:02\r"
       ]
      },
      {
       "output_type": "stream",
       "stream": "stderr",
       "text": [
        " 90% |####################################################      | ETA:  0:00:01\r",
        " 91% |####################################################      | ETA:  0:00:01\r"
       ]
      },
      {
       "output_type": "stream",
       "stream": "stderr",
       "text": [
        " 92% |#####################################################     | ETA:  0:00:01\r",
        " 93% |######################################################    | ETA:  0:00:01\r"
       ]
      },
      {
       "output_type": "stream",
       "stream": "stderr",
       "text": [
        " 94% |######################################################    | ETA:  0:00:01\r",
        " 95% |#######################################################   | ETA:  0:00:00\r"
       ]
      },
      {
       "output_type": "stream",
       "stream": "stderr",
       "text": [
        " 96% |#######################################################   | ETA:  0:00:00\r",
        " 97% |########################################################  | ETA:  0:00:00\r"
       ]
      },
      {
       "output_type": "stream",
       "stream": "stderr",
       "text": [
        " 98% |######################################################### | ETA:  0:00:00\r",
        " 99% |######################################################### | ETA:  0:00:00\r"
       ]
      },
      {
       "output_type": "stream",
       "stream": "stdout",
       "text": [
        "\n",
        "    density    : 7.3207942769e-07\n",
        "    shape      : (6264, 6264)\n",
        "    nnz        : 1365972\n",
        "D Matrix info:\n",
        "    density    : 3.01127723324e-06\n",
        "    shape      : (6264, 6264)\n",
        "    nnz        : 332085\n",
        "MCEqRun::_init_default_matrices():Done filling matrices.\n",
        "MCEqRun::_calculate_integration_path():\n",
        "MCEqRun::_forward_euler(): Solver will perform 4729 integration steps.\n",
        "\n",
        "MCEqRun::_forward_euler(): time elapsed during integration: 20.3628120422 sec"
       ]
      },
      {
       "output_type": "stream",
       "stream": "stdout",
       "text": [
        "\n"
       ]
      },
      {
       "output_type": "stream",
       "stream": "stderr",
       "text": [
        "100% |##########################################################| Time: 0:00:20\r\n"
       ]
      }
     ],
     "prompt_number": 5
    },
    {
     "cell_type": "code",
     "collapsed": false,
     "input": [
      "mu_conv = mceq_run.get_solution('conv_mu+', mag) + \\\n",
      "          mceq_run.get_solution('conv_mu-', mag)\n",
      "\n",
      "numu_conv = mceq_run.get_solution('conv_numu', mag) + \\\n",
      "            mceq_run.get_solution('conv_antinumu', mag)\n",
      "\n",
      "nue_conv = mceq_run.get_solution('conv_nue', mag) + \\\n",
      "           mceq_run.get_solution('conv_antinue', mag)\n",
      "\n",
      "mu_prompt = mceq_run.get_solution('pr_mu+', mag) + \\\n",
      "          mceq_run.get_solution('pr_mu-', mag)\n",
      "\n",
      "numu_prompt = mceq_run.get_solution('pr_numu', mag) + \\\n",
      "            mceq_run.get_solution('pr_antinumu', mag)\n",
      "\n",
      "nue_prompt = mceq_run.get_solution('pr_nue', mag) + \\\n",
      "           mceq_run.get_solution('pr_antinue', mag)\n",
      "\n",
      "\n",
      "mu_total = mceq_run.get_solution('total_mu+', mag) + \\\n",
      "           mceq_run.get_solution('total_mu-', mag)\n",
      "\n",
      "numu_total = mceq_run.get_solution('total_numu', mag) + \\\n",
      "            mceq_run.get_solution('total_antinumu', mag)\n",
      "\n",
      "nue_total = mceq_run.get_solution('total_nue', mag) + \\\n",
      "            mceq_run.get_solution('total_antinue', mag)\n",
      "\n",
      "nutau_total = mceq_run.get_solution('total_nutau', mag) + \\\n",
      "              mceq_run.get_solution('total_antinutau', mag)\n",
      "\n",
      "mu_pi = mceq_run.get_solution('pi_mu+', mag) + \\\n",
      "           mceq_run.get_solution('pi_mu-', mag)\n",
      "\n",
      "numu_pi = mceq_run.get_solution('pi_numu', mag) + \\\n",
      "            mceq_run.get_solution('pi_antinumu', mag)\n",
      "\n",
      "nue_pi = mceq_run.get_solution('pi_nue', mag) + \\\n",
      "            mceq_run.get_solution('pi_antinue', mag)\n",
      "\n",
      "mu_k = mceq_run.get_solution('k_mu+', mag) + \\\n",
      "           mceq_run.get_solution('k_mu-', mag)\n",
      "\n",
      "numu_k = mceq_run.get_solution('k_numu', mag) + \\\n",
      "            mceq_run.get_solution('k_antinumu', mag)\n",
      "\n",
      "nue_k = mceq_run.get_solution('k_nue', mag) + \\\n",
      "            mceq_run.get_solution('k_antinue', mag)"
     ],
     "language": "python",
     "metadata": {},
     "outputs": [],
     "prompt_number": 6
    },
    {
     "cell_type": "code",
     "collapsed": false,
     "input": [
      "color_spectrum = ['b', 'r', 'g', 'orange', 'cyan', 'violet',\n",
      "                  'brown', 'pink', 'yellow', 'lightblue']\n",
      "fig = plt.figure(figsize=(11, 7.5))\n",
      "fig.set_tight_layout(dict(rect=[0.01, 0.01, 0.97, 0.95]))\n",
      "e_grid = mceq_run.e_grid\n",
      "plt.suptitle('{0} atmospheric lepton fluxes, {1} primary flux model.'.format(mceq_run.iamodel_name,\n",
      "                                                                             mceq_run.pmodel.sname))\n",
      "plt.subplot(221)        \n",
      "plt.plot(e_grid, mu_total, ls='-', lw=2, color='black', label='total')\n",
      "plt.plot(e_grid, mu_conv, ls='dotted', lw=2, color='black', label=r'total conv.')\n",
      "plt.plot(e_grid, mu_prompt, ls='--', lw=2, color='black', label='total prompt')\n",
      "plt.plot(e_grid, mu_obs['other prompt'], ls='--', lw=1.5, color='lightblue', label=r'other prompt')\n",
      "plt.plot(e_grid, mu_obs['other conv. mu'], ls='--', lw=1.5, color='grey', label=r'other conv.')\n",
      "plt.plot(e_grid, mu_pi, ls='-', lw=1.5, color='red', label=r'$\\pi$')\n",
      "plt.plot(e_grid, mu_k, ls='-', lw=1.5, color='green', label=r'$K$')\n",
      "plt.plot(e_grid, mu_obs['$D^\\\\pm + D^0$'], ls='-', lw=1.5, color='orange', label=r'$D^\\pm, D^0$')\n",
      "plt.plot(e_grid, mu_obs['$D_s$'], ls='-', lw=1.5, color='cyan', label=r'$D_s$')\n",
      "plt.plot(e_grid, mu_obs['$\\\\Lambda_C$'], ls='-', lw=1.5, color='violet', label=r'$\\Lambda_C$')\n",
      "plt.plot(e_grid, mu_obs['unflavored'], ls='-', lw=1.5, color='pink', label=r'unflavored')\n",
      "\n",
      "plt.loglog()\n",
      "plt.xlabel(r\"$E_{\\mu}$ [GeV]\")\n",
      "plt.ylabel(r\"$\\Phi_{\\mu}$ (E/GeV)$^{\" + str(mag) + \"}$ (cm$^{2}$ s sr GeV)$^{-1}$\")\n",
      "plt.xlim([50, 1e9])\n",
      "plt.ylim([1e-6, 1e3])\n",
      "plt.legend(loc='upper right', frameon=False, numpoints=1, ncol=2)\n",
      "\n",
      "plt.subplot(222)\n",
      "plt.plot(e_grid, numu_total, ls='-', lw=2, color='black', label='total')\n",
      "plt.plot(e_grid, numu_conv, ls='dotted', lw=2, color='black', label=r'total conv.')\n",
      "plt.plot(e_grid, numu_prompt, ls='--', lw=2, color='black', label='total prompt')\n",
      "plt.plot(e_grid, numu_obs['other conv. numu'], ls='--', lw=1.5, color='grey', label=r'other conv.')\n",
      "plt.plot(e_grid, numu_obs['other prompt'], ls='--', lw=1.5, color='lightblue', label=r'other prompt')\n",
      "plt.plot(e_grid, numu_pi, ls='-', lw=1.5, color='red', label=r'$\\pi$')\n",
      "plt.plot(e_grid, numu_k, ls='-', lw=1.5, color='green', label=r'$K$')\n",
      "plt.plot(e_grid, numu_obs['$D^\\\\pm + D^0$'], ls='-', lw=1.5, color='orange', label=r'$D^\\pm, D^0$')\n",
      "plt.plot(e_grid, numu_obs['$D_s$'], ls='-', lw=1.5, color='cyan', label=r'$D_s$')\n",
      "plt.plot(e_grid, numu_obs['$\\\\Lambda_C$'], ls='-', lw=1.5, color='violet', label=r'$\\Lambda_C$')\n",
      "plt.loglog()\n",
      "plt.xlabel(r\"$E_{\\nu_{\\mu}}$ [GeV]\")\n",
      "plt.ylabel(r\"$\\Phi_{\\nu_{\\mu}}$ (E/GeV)$^{\" + str(mag) + \"}$ (cm$^{2}$ s sr GeV)$^{-1}$\")\n",
      "plt.xlim([50, 1e9])\n",
      "plt.ylim([1e-7, 1e1])\n",
      "plt.legend(loc='upper right', frameon=False, numpoints=1, ncol=2)\n",
      "\n",
      "plt.subplot(223)\n",
      "plt.plot(e_grid, nue_total, ls='-', lw=2, color='black', label='total')\n",
      "plt.plot(e_grid, nue_conv, ls='dotted', lw=2, color='black', label=r'total conv.')\n",
      "plt.plot(e_grid, nue_prompt, ls='--', lw=2, color='black', label='total prompt')\n",
      "plt.plot(e_grid, nue_obs['other conv. nue'], ls='--', lw=1.5, color='grey', label=r'other conv.')\n",
      "plt.plot(e_grid, nue_obs['other prompt'], ls='--', lw=1.5, color='lightblue', label=r'other prompt')\n",
      "plt.plot(e_grid, nue_pi, ls='-', lw=1.5, color='red', label=r'$\\pi$')\n",
      "plt.plot(e_grid, nue_k, ls='-', lw=1.5, color='green', label=r'$K$')\n",
      "plt.plot(e_grid, nue_obs['$K^0_s$'], ls='-', lw=1.5, color='brown', label=r'$K^0_S$')\n",
      "plt.plot(e_grid, nue_obs['$K^0_L$'], ls='-', lw=1.5, color='blue', label=r'$K^0_L$')\n",
      "# plt.plot(e_grid, nue_obs['$\\\\mu$ decay'], ls='-', lw=1.5, color='pink', label=r'$\\mu$ decay')\n",
      "plt.plot(e_grid, nue_obs['$D^\\\\pm + D^0$'], ls='-', lw=1.5, color='orange', label=r'$D^\\pm, D^0$')\n",
      "plt.plot(e_grid, nue_obs['$D_s$'], ls='-', lw=1.5, color='cyan', label=r'$D_s$')\n",
      "plt.plot(e_grid, nue_obs['$\\\\Lambda_C$'], ls='-', lw=1.5, color='violet', label=r'$\\Lambda_C$')\n",
      "plt.plot(e_grid, nue_obs[\"tau decay\"], ls='-', lw=1.5, color='darkblue', label=r'$\\tau$')\n",
      "\n",
      "plt.loglog()\n",
      "plt.xlabel(r\"$E_{\\nu_{e}}$ [GeV]\")\n",
      "plt.ylabel(r\"$\\Phi_{\\nu_{e}}$ (E/GeV)$^{\" + str(mag) + \"}$ (cm$^{2}$ s sr GeV)$^{-1}$\")\n",
      "plt.xlim([50, 1e9])\n",
      "plt.ylim([1e-7, 1e1])\n",
      "plt.legend(loc=1, frameon=False, numpoints=1, ncol=3)\n",
      "\n",
      "plt.subplot(224)\n",
      "plt.plot(e_grid, nutau_total, ls='-', lw=2, color='black', alpha=0.6, label='total')\n",
      "plt.plot(e_grid, nutau_obs[\"tau decay\"], ls='-', lw=1.5, color='darkblue', label=r'$\\tau$')\n",
      "plt.plot(e_grid, nutau_obs['$D^\\\\pm + D^0$'], ls='-', lw=1.5, color='orange', label=r'$D^\\pm, D^0$')\n",
      "plt.plot(e_grid, nutau_obs['$D_s$'], ls='-', lw=1.5, color='cyan', label=r'$D_s$')\n",
      "\n",
      "\n",
      "plt.loglog()\n",
      "plt.xlabel(r\"$E_{\\nu_{\\tau}}$ [GeV]\")\n",
      "plt.ylabel(r\"$\\Phi_{\\nu_{\\tau}}$ (E/GeV)$^{\" + str(mag) + \"}$ (cm$^{2}$ s sr GeV)$^{-1}$\")\n",
      "plt.xlim([50, 1e9])\n",
      "plt.ylim([1e-9, 1e-2])\n",
      "plt.legend(loc=1, frameon=False, numpoints=1, ncol=2)\n",
      "\n",
      "# plt.savefig('detailed_flux.pdf')\n"
     ],
     "language": "python",
     "metadata": {},
     "outputs": [
      {
       "metadata": {},
       "output_type": "pyout",
       "prompt_number": 9,
       "text": [
        "<matplotlib.legend.Legend at 0x13b9f3750>"
       ]
      },
      {
       "output_type": "stream",
       "stream": "stderr",
       "text": [
        "/Users/afedynitch/anaconda/lib/python2.7/site-packages/matplotlib/figure.py:1644: UserWarning: This figure includes Axes that are not compatible with tight_layout, so its results might be incorrect.\n",
        "  warnings.warn(\"This figure includes Axes that are not \"\n"
       ]
      },
      {
       "metadata": {},
       "output_type": "display_data",
       "png": "[encoded data removed]",
       "text": [
        "<matplotlib.figure.Figure at 0x13e4a6a10>"
       ]
      }
     ],
     "prompt_number": 9
    },
    {
     "cell_type": "code",
     "collapsed": false,
     "input": [],
     "language": "python",
     "metadata": {},
     "outputs": [],
     "prompt_number": 8
    }
   ],
   "metadata": {}
  }
 ]
}