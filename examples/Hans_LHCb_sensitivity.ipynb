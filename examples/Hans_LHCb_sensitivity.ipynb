{
 "cells": [
  {
   "cell_type": "markdown",
   "metadata": {
    "collapsed": false,
    "deletable": true,
    "editable": true
   },
   "source": [
    "This example illustrates how to compute inclusive and air-shower muons\n",
    "---------------------------------------------------------------------------------\n",
    "\n",
    "Part of the ingredients is a modification function, which in principle, can have an arbitrary number of parameters.\n",
    "We start with a simple one, just a linear up-/down-scaling, using one parameter for each particle species.\n",
    "\n",
    "The particles, which we try to rescale are $\\pi^+$, $\\pi^-$, K$^+$ and K$^-$. We will fit the muon spectrum\n",
    "in all accesible zenith bins and the muon charge ratio.\n",
    "\n",
    "Only protons shall be modified, since particle production by neutrons will be adjusted according\n",
    "to isospin symmetries."
   ]
  },
  {
   "cell_type": "code",
   "execution_count": 1,
   "metadata": {
    "collapsed": false,
    "deletable": true,
    "editable": true
   },
   "outputs": [],
   "source": [
    "#basic imports and jupyter setup\n",
    "%load_ext autoreload\n",
    "%matplotlib inline\n",
    "%autoreload 2\n",
    "import os\n",
    "import matplotlib.pyplot as plt\n",
    "import numpy as np\n",
    "import sys\n",
    "#path to MCEq (it makes sense to put it in the same base directory as this project)\n",
    "sys.path.append('../MCEq')\n",
    "os.chdir('..')\n",
    "\n",
    "#import solver related modules\n",
    "from MCEq.core import MCEqRun\n",
    "from mceq_config import config\n",
    "#import primary model choices\n",
    "import CRFluxModels as pm"
   ]
  },
  {
   "cell_type": "code",
   "execution_count": 2,
   "metadata": {
    "collapsed": true
   },
   "outputs": [],
   "source": [
    "import matplotlib as mpl\n",
    "\n",
    "mpl.rc('font', family='serif', serif=['Times'])\n",
    "mpl.rc('text', usetex=True)\n",
    "mpl.rc('legend', frameon=False, numpoints=1,fontsize='medium')\n",
    "mpl.rc('figure', figsize=(6,4))\n",
    "mpl.rc('errorbar', capsize=0)\n",
    "mpl.rc('lines', markersize=6)\n",
    "mpl.rc('markers', fillstyle='full')\n",
    "\n",
    "mpl.rcParams['ytick.major.size'] = 5\n",
    "mpl.rcParams['xtick.major.size'] = 5\n",
    "mpl.rcParams['ytick.minor.size'] = 2\n",
    "mpl.rcParams['xtick.minor.size'] = 2\n",
    "mpl.rcParams['ytick.right'] = True\n",
    "mpl.rcParams['xtick.top'] = True"
   ]
  },
  {
   "cell_type": "code",
   "execution_count": 3,
   "metadata": {
    "collapsed": false,
    "deletable": true,
    "editable": true
   },
   "outputs": [],
   "source": [
    "config['FP_precision'] = 64\n",
    "config['kernel_config'] = 'MKL'\n",
    "# Speed-up of computation. The precision loss from these options is small ~2%\n",
    "config[\"hybrid_crossover\"] = 0.5\n",
    "config[\"vetos\"][\"allowed_projectiles\"] = [2212, 2112, 211, 321, 130]\n",
    "# cache of atmospheric profiles saves 3-4 seconds for each zenith bins and it needs\n",
    "# should be used. If used in parallel computations, it has to be complete, otherwise\n",
    "# multiple nodes will try to write to the same time concurrently.\n",
    "config[\"use_atm_cache\"] = True\n",
    "# Use isospin symmetries to derive neutron modifications from protons\n",
    "config[\"use_isospin_sym\"] = True"
   ]
  },
  {
   "cell_type": "code",
   "execution_count": 4,
   "metadata": {
    "collapsed": false,
    "deletable": true,
    "editable": true
   },
   "outputs": [
    {
     "name": "stdout",
     "output_type": "stream",
     "text": [
      "DecayYields::_load(): Warning: no decay distributions for 2112 found.\n",
      "DecayYields::_load(): Warning: no decay distributions for -2112 found.\n",
      "\n",
      "Hadrons and stable particles:\n",
      "\n",
      "\"gamma\", \"p\", \"p-bar\", \"n\", \"n-bar\"\n",
      "\n",
      "Mixed:\n",
      "\n",
      "\"pi+\", \"pi-\", \"K0L\", \"K-\", \"K+\", \"Lambda0\", \"Lambda0-bar\", \"Xi0-bar\", \n",
      "\"Xi0\", \"K0S\", \"Xi-\", \"Xi--bar\", \"Sigma-\", \"Sigma--bar\", \"Sigma+\", \"Sigma+-bar\", \n",
      "\"Omega-\", \"Omega--bar\", \"D-\", \"D+\", \"Ds-\", \"Ds+\", \"D0-bar\", \"D0\", \n",
      "\"XiC+\", \"XiC+-bar\", \"tau-\", \"tau+\", \"LambdaC+\", \"LambdaC+-bar\", \"XiC0\", \"XiC0-bar\", \n",
      "\"OmegaC0\", \"OmegaC0-bar\", \"pi0\"\n",
      "\n",
      "Resonances:\n",
      "\n",
      "\"eta\", \"Sigma0\", \"Sigma0-bar\", \"D*-\", \"D*+\", \"eta*\", \"jpsi\", \"phi\", \n",
      "\"SigmaC0\", \"SigmaC0-bar\", \"SigmaC+\", \"SigmaC+-bar\", \"SigmaC++\", \"SigmaC++-bar\", \"omega\", \"Xi*0\", \n",
      "\"Xi*0-bar\", \"Xi*-\", \"Xi*--bar\", \"SigmaC*0\", \"SigmaC*0-bar\", \"SigmaC*++\", \"SigmaC*++-bar\", \"SigmaC*+\", \n",
      "\"SigmaC*+-bar\", \"K*0-bar\", \"K*0\", \"K*-\", \"K*+\", \"Sigma*+\", \"Sigma*+-bar\", \"Sigma*0\", \n",
      "\"Sigma*0-bar\", \"Sigma*-\", \"Sigma*--bar\", \"etaC\", \"rho0\", \"rho+\", \"rho-\", \"Delta0\", \n",
      "\"Delta-\", \"Delta+\", \"Delta++\", \"Delta++-bar\", \"Delta+-bar\", \"Delta--bar\", \"Delta0-bar\", \"D*0\", \n",
      "\"D*0-bar\", \"Ds*-\", \"XiC*0\", \"XiC*+\", \"XiC*+-bar\", \"XiC*0-bar\", \"Ds*+\"\n",
      "\n",
      "Leptons:\n",
      "\n",
      "\"e-\", \"nue\", \"numu\", \"nutau\", \"antinutau\", \"antinumu\", \"antinue\", \"e+\", \n",
      "\"mu-\", \"mu+\"\n",
      "\n",
      "Aliases:\n",
      "\"k_nue\", \"k_numu\", \"k_nutau\", \"pi_antinutau\", \"pi_antinumu\", \"pi_antinue\", \"obs_nue\", \"obs_numu\", \n",
      "\"obs_nutau\", \"pr_antinumu\", \"pr_antinue\", \"pr_nutau\", \"pr_nue\", \"pr_numu\", \"obs_antinutau\", \"obs_antinumu\", \n",
      "\"obs_antinue\", \"pr_antinutau\", \"pi_nue\", \"pi_numu\", \"pi_nutau\", \"k_antinutau\", \"k_antinumu\", \"k_antinue\", \n",
      "\"k_mu-\", \"pi_mu+\", \"obs_mu-\", \"pr_mu+\", \"pr_mu-\", \"obs_mu+\", \"pi_mu-\", \"k_mu+\"\n",
      "\n",
      "Total number of species: 82\n",
      "MCEqRun::set_interaction_model():  SIBYLL2.3\n",
      "InteractionYields:set_interaction_model():: Model SIBYLL2.3 already loaded.\n",
      "InteractionYields:set_interaction_model():: Model SIBYLL2.3 already loaded.\n",
      "MCEqRun::_init_default_matrices():Start filling matrices. Skip_D_matrix = False\n",
      "MCEqRun::_convert_to_sparse():Converting to sparse (CSR) matrix format.\n",
      "C Matrix info:\n",
      "    density    : 2.05%\n",
      "    shape      : 7216 x 7216\n",
      "    nnz        : 1064892\n",
      "D Matrix info:\n",
      "    density    : 1.01%\n",
      "    shape      : 7216 x 7216\n",
      "    nnz        : 523616\n",
      "MCEqRun::_init_default_matrices():Done filling matrices.\n",
      "MCEqRun::set_density_model():  CORSIKA ('BK_USStd', None)\n",
      "MCEqRun::set_theta_deg():  16.0\n",
      "atmospheres::_load_cache(): loading cache.\n",
      "CorsikaAtmosphere::calculate_density_spline(): Calculating spline of rho(X) for zenith 16.0 degrees.\n",
      ".. took 0.75s\n",
      "Average spline error: 1.96575325014e-16\n",
      "density_profiles::_dump_cache() dumping cache.\n",
      "/Users/hdembins/miniconda2/MCEq/data/atm_cache.ppd\n",
      "MCEqRun::set_primary_model():  HillasGaisser2012 H3a\n"
     ]
    }
   ],
   "source": [
    "mceq_run = MCEqRun(\n",
    "# Choose the best interaction mode (we can repeat the fit for SIBYLL 2.1 for consistency as well)\n",
    "interaction_model='SIBYLL2.3',\n",
    "#primary cosmic ray flux model\n",
    "#support a tuple (primary model class (not instance!), arguments)\n",
    "primary_model=(pm.HillasGaisser2012, 'H3a'),\n",
    "# Zenith angle in degrees. 0=vertical, 90=horizontal\n",
    "theta_deg=16.,\n",
    "#expand the rest of the options from mceq_config.py\n",
    "**config\n",
    ")"
   ]
  },
  {
   "cell_type": "code",
   "execution_count": 6,
   "metadata": {
    "collapsed": false,
    "deletable": true,
    "editable": true
   },
   "outputs": [],
   "source": [
    "# This is the simplest modification function for inclusive secondary particle distributions\n",
    "\n",
    "# Particle production matrices will be multiplied elementwise\n",
    "def mod_linear(xmat, e_grid, a, *args):\n",
    "    return (1. + a)*np.ones_like(xmat)\n",
    "\n",
    "# Here is a more complete modification 'value' as a scale factor.\n",
    "# The phase-space patch is defined by minimum and maximum x_Lab values (minx, maxx)\n",
    "# and the lab energy range (mine, maxe)\n",
    "\n",
    "def phase_space_mod(xmat, egrid, value, minx, maxx, mine, maxe, \n",
    "                    energy_dependent_scaling=False):\n",
    "    \"\"\"A more complete modification function for secondary particle production.\n",
    "    \n",
    "    The variable 'value' is a scale factor. The phase-space patch is defined by \n",
    "    minimum and maximum x_Lab values (minx, maxx) and the lab energy range of\n",
    "    the projectile nucleon (mine, maxe).\n",
    "    \"\"\"\n",
    "    \n",
    "    print \"phase_space_mod():\", value, (minx, maxx), (mine, maxe)\n",
    "    \n",
    "    # If the scale/fudge factor has a (primary/projectile-)energy dependence\n",
    "    u = lambda E: 0.122*np.log10(E/500.)\n",
    "\n",
    "    #Create and 1-valued modification matrix \n",
    "    modmat = np.ones_like(xmat)\n",
    "    \n",
    "    # No lower-triangular factors involved (energy conservation, E_sec > E_prim)\n",
    "    modmat[np.tril_indices(xmat.shape[0],-1)] = 0.\n",
    "    \n",
    "    # Select energy range \n",
    "    eidcs = np.where((mine < egrid) & (egrid <= maxe))[0]\n",
    "    for eidx in eidcs:\n",
    "        xsel = np.where((xmat[:eidx + 1,eidx] >= minx) & \n",
    "                        (xmat[:eidx + 1,eidx] <= maxx))[0]\n",
    "        \n",
    "        if not np.any(xsel): continue\n",
    "        \n",
    "        if energy_dependent_scaling:\n",
    "            modmat[xsel,eidx] *= (1 + value + u(egrid[eidx]))\n",
    "        else:\n",
    "            modmat[xsel,eidx] *= (1 + value)\n",
    "                    \n",
    "    return modmat"
   ]
  },
  {
   "cell_type": "code",
   "execution_count": 7,
   "metadata": {
    "collapsed": false,
    "deletable": true,
    "editable": true
   },
   "outputs": [
    {
     "name": "stdout",
     "output_type": "stream",
     "text": [
      "MCEqRun::set_theta_deg():  16.0\n",
      "Theta selection correponds to cached value, skipping calc.\n"
     ]
    }
   ],
   "source": [
    "def apply_mod(fac_pi_pl, fac_pi_mi, fac_k_pl, fac_k_mi):\n",
    "    \"\"\"A function to modify production for the most important particles\n",
    "    simultaneuosly.\n",
    "    \"\"\"\n",
    "    # Delay re-initialization until all modifications are set\n",
    "    r = mceq_run.set_mod_pprod(2212,  211, mod_linear, (fac_pi_pl,), delay_init=True)\n",
    "    r += mceq_run.set_mod_pprod(2212, -211, mod_linear, (fac_pi_mi,), delay_init=True)\n",
    "    r += mceq_run.set_mod_pprod(2212,  321, mod_linear, (fac_k_pl,), delay_init=True)\n",
    "    r += mceq_run.set_mod_pprod(2212, -321, mod_linear, (fac_k_mi,), delay_init=True)\n",
    "    if r > 0:\n",
    "        mceq_run._init_default_matrices(skip_D_matrix=True)\n",
    "\n",
    "\n",
    "flux = {}\n",
    "ratio = {}\n",
    "\n",
    "# This is a good angle for L3+c and Bess TeV (at the same time)\n",
    "mceq_run.set_theta_deg(16.)\n",
    "\n"
   ]
  },
  {
   "cell_type": "markdown",
   "metadata": {
    "deletable": true,
    "editable": true
   },
   "source": [
    "Below is an example how to compute a central 'original' prediction and then one with some modification factors applied."
   ]
  },
  {
   "cell_type": "code",
   "execution_count": 8,
   "metadata": {
    "collapsed": false,
    "deletable": true,
    "editable": true,
    "scrolled": true
   },
   "outputs": [
    {
     "name": "stdout",
     "output_type": "stream",
     "text": [
      "InteractionYields::set_mod_pprod(): modifying modify particle production matrix of 2212/211.\n",
      "InteractionYields::init_mod_matrix(): mod_linear (0.0,)\n",
      "InteractionYields::set_mod_pprod(): modifying modify particle production matrix of 2212/-211.\n",
      "InteractionYields::init_mod_matrix(): mod_linear (0.0,)\n",
      "InteractionYields::set_mod_pprod(): modifying modify particle production matrix of 2212/321.\n",
      "InteractionYields::init_mod_matrix(): mod_linear (0.0,)\n",
      "InteractionYields::init_mod_matrix(): mod_linear (0.0,)\n",
      "InteractionYields::set_mod_pprod(): modifying modify particle production matrix of 2212/-321.\n",
      "InteractionYields::init_mod_matrix(): mod_linear (0.0,)\n",
      "InteractionYields::init_mod_matrix(): mod_linear (0.0,)\n",
      "MCEqRun::_init_default_matrices():Start filling matrices. Skip_D_matrix = True\n",
      "MCEqRun::_convert_to_sparse():Converting to sparse (CSR) matrix format.\n",
      "C Matrix info:\n",
      "    density    : 2.05%\n",
      "    shape      : 7216 x 7216\n",
      "    nnz        : 1064892\n",
      "D Matrix info:\n",
      "    density    : 1.01%\n",
      "    shape      : 7216 x 7216\n",
      "    nnz        : 523616\n",
      "MCEqRun::_init_default_matrices():Done filling matrices.\n",
      "0: 2112 -> -321, func: isospin, arg: (0.0,)\n",
      "1: 2112 -> -211, func: isospin, arg: (0.0,)\n",
      "2: 2112 -> 130, func: isospin, arg: (0.0,)\n",
      "3: 2112 -> 211, func: isospin, arg: (0.0,)\n",
      "4: 2112 -> 310, func: isospin, arg: (0.0,)\n",
      "5: 2112 -> 321, func: isospin, arg: (0.0,)\n",
      "6: 2212 -> -321, func: mod_linear, arg: (0.0,)\n",
      "7: 2212 -> -211, func: mod_linear, arg: (0.0,)\n",
      "8: 2212 -> 130, func: isospin, arg: (0.0,)\n",
      "9: 2212 -> 211, func: mod_linear, arg: (0.0,)\n",
      "10: 2212 -> 310, func: isospin, arg: (0.0,)\n",
      "11: 2212 -> 321, func: mod_linear, arg: (0.0,)\n",
      "MCEqRun::_calculate_integration_path(): X_surface = 1075.3664107\n",
      "MCEqRun::_forward_euler(): Solver will perform 539 integration steps.\n",
      "Performance:   1.42ms/iteration\n",
      "\n",
      "MCEqRun::_forward_euler(): time elapsed during integration: 0.805882930756 sec\n",
      "InteractionYields::set_mod_pprod(): modifying modify particle production matrix of 2212/211.\n",
      "InteractionYields::init_mod_matrix(): mod_linear (0.15,)\n",
      "InteractionYields::set_mod_pprod(): modifying modify particle production matrix of 2212/-211.\n",
      "InteractionYields::init_mod_matrix(): mod_linear (0.15,)\n",
      "InteractionYields::set_mod_pprod(): modifying modify particle production matrix of 2212/321.\n",
      "InteractionYields::init_mod_matrix(): mod_linear (-0.25,)\n",
      "InteractionYields::init_mod_matrix(): mod_linear (-0.125,)\n",
      "MCEqRun::_init_default_matrices():Start filling matrices. Skip_D_matrix = True\n",
      "MCEqRun::_convert_to_sparse():Converting to sparse (CSR) matrix format.\n",
      "C Matrix info:\n",
      "    density    : 2.05%\n",
      "    shape      : 7216 x 7216\n",
      "    nnz        : 1064892\n",
      "D Matrix info:\n",
      "    density    : 1.01%\n",
      "    shape      : 7216 x 7216\n",
      "    nnz        : 523616\n",
      "MCEqRun::_init_default_matrices():Done filling matrices.\n",
      "0: 2112 -> -321, func: isospin, arg: (0.0,)\n",
      "1: 2112 -> -211, func: isospin, arg: (0.15,)\n",
      "2: 2112 -> 130, func: isospin, arg: (-0.125,)\n",
      "3: 2112 -> 211, func: isospin, arg: (0.15,)\n",
      "4: 2112 -> 310, func: isospin, arg: (-0.125,)\n",
      "5: 2112 -> 321, func: isospin, arg: (-0.25,)\n",
      "6: 2212 -> -321, func: mod_linear, arg: (0.0,)\n",
      "7: 2212 -> -211, func: mod_linear, arg: (0.15,)\n",
      "8: 2212 -> 130, func: isospin, arg: (-0.125,)\n",
      "9: 2212 -> 211, func: mod_linear, arg: (0.15,)\n",
      "10: 2212 -> 310, func: isospin, arg: (-0.125,)\n",
      "11: 2212 -> 321, func: mod_linear, arg: (-0.25,)\n",
      "MCEqRun::_forward_euler(): Solver will perform 539 integration steps.\n",
      "Performance:   1.38ms/iteration\n",
      "\n",
      "MCEqRun::_forward_euler(): time elapsed during integration: 0.742731809616 sec\n"
     ]
    }
   ],
   "source": [
    "mag = 3.\n",
    "\n",
    "tot_mu, pi_mu, k_mu= {}, {}, {}\n",
    "\n",
    "e_grid = mceq_run.y.e_grid\n",
    "\n",
    "mod_0 = (0.0,0.0,0.0,0.0)\n",
    "apply_mod(*mod_0)\n",
    "mceq_run.y.print_mod_pprod()\n",
    "mceq_run.solve()\n",
    "tot_mu[mod_0] = np.vstack([mceq_run.get_solution('total_mu+', mag),mceq_run.get_solution('total_mu-', mag)])\n",
    "pi_mu[mod_0] = np.vstack([mceq_run.get_solution('pi_mu+', mag),mceq_run.get_solution('pi_mu-', mag)])\n",
    "k_mu[mod_0] = np.vstack([mceq_run.get_solution('k_mu+', mag),mceq_run.get_solution('k_mu-', mag)])\n",
    "\n",
    "# pi+, pi-, K+, K- mod function arguments\n",
    "mod_1 = (0.15,0.15,-0.25,0.00)\n",
    "apply_mod(*mod_1)\n",
    "mceq_run.y.print_mod_pprod()\n",
    "mceq_run.solve()\n",
    "tot_mu[mod_1] = np.vstack([mceq_run.get_solution('total_mu+', mag),mceq_run.get_solution('total_mu-', mag)])\n",
    "pi_mu[mod_1] = np.vstack([mceq_run.get_solution('pi_mu+', mag),mceq_run.get_solution('pi_mu-', mag)])\n",
    "k_mu[mod_1] = np.vstack([mceq_run.get_solution('k_mu+', mag),mceq_run.get_solution('k_mu-', mag)])\n"
   ]
  },
  {
   "cell_type": "code",
   "execution_count": 18,
   "metadata": {
    "collapsed": false,
    "deletable": true,
    "editable": true
   },
   "outputs": [
    {
     "data": {
      "image/png": "[encoded data removed]",
      "text/plain": [
       "<matplotlib.figure.Figure at 0x12378ee10>"
      ]
     },
     "metadata": {},
     "output_type": "display_data"
    }
   ],
   "source": [
    "fig, ax = plt.subplots(1,1,figsize=(7,6))\n",
    "\n",
    "sel = np.where(e_grid > 1.)\n",
    "ax.semilogx(e_grid[sel], np.sum(tot_mu[mod_0],axis=0)[sel], \n",
    "            label='original', color='k')\n",
    "ax.semilogx(e_grid[sel], np.sum(k_mu[mod_0],axis=0)[sel], \n",
    "            color='k',ls='--')\n",
    "ax.semilogx(e_grid[sel], np.sum(tot_mu[mod_1],axis=0)[sel], \n",
    "            label='modified', color='r')\n",
    "ax.semilogx(e_grid[sel], np.sum(k_mu[mod_1],axis=0)[sel], \n",
    "            color='r',ls='--')\n",
    "\n",
    "ax.fill_between((1,30.),(0.45,0.45),color='grey',alpha=0.15,lw=0.)\n",
    "ax.set_ylabel(r\"$\\Phi_\\mu$ (E/GeV)$^{\" + str(mag) + \"}$ (cm$^{2}$ s sr GeV)$^{-1}$\")\n",
    "ax.set_xlim(1,1e5)\n",
    "ax.set_ylim(0,0.45)\n",
    "ax.legend(ncol=2)\n",
    "\n",
    "plt.xlabel(r\"$E_{\\mu}$ (GeV)\")\n",
    "\n",
    "plt.tight_layout()\n",
    "# nbu.save('vert_muons_' + model_str)"
   ]
  },
  {
   "cell_type": "code",
   "execution_count": 12,
   "metadata": {
    "collapsed": false,
    "deletable": true,
    "editable": true
   },
   "outputs": [
    {
     "data": {
      "image/png": "[encoded data removed]",
      "text/plain": [
       "<matplotlib.figure.Figure at 0x123269c50>"
      ]
     },
     "metadata": {},
     "output_type": "display_data"
    }
   ],
   "source": [
    "fig, ax = plt.subplots(1,1,figsize=(7,6))\n",
    "\n",
    "ax.semilogx(e_grid[sel], (tot_mu[mod_0][0]/tot_mu[mod_0][1])[sel], \n",
    "            label='original', color='k')\n",
    "ax.semilogx(e_grid[sel], (pi_mu[mod_0][0]/pi_mu[mod_0][1])[sel], \n",
    "            ls='--', color='k')\n",
    "ax.semilogx(e_grid[sel], (tot_mu[mod_1][0]/tot_mu[mod_1][1])[sel], \n",
    "            label='modified', color='r')\n",
    "ax.semilogx(e_grid[sel], (pi_mu[mod_1][0]/pi_mu[mod_1][1])[sel], \n",
    "            ls='--', color='r')\n",
    "\n",
    "ax.fill_between((1,30.),(5.,5.),color='grey',alpha=0.15,lw=0.)\n",
    "ax.set_ylabel(r\"Muon charge ratio $R$\")\n",
    "ax.set_xlim(1,1e5)\n",
    "ax.set_ylim(1.1,1.9)\n",
    "ax.legend(ncol=2)\n",
    "\n",
    "plt.xlabel(r\"$E_{\\mu}$ (GeV)\")\n",
    "plt.tight_layout()\n",
    "# nbu.save('vert_muons_' + model_str)"
   ]
  },
  {
   "cell_type": "markdown",
   "metadata": {},
   "source": [
    "The same exercise for muon spectra in air-showers using a more complex modification\n",
    "------------------------------------------------------------------------------------------------\n",
    "\n",
    "First we will compute the original muon spectrum, using an unmodified interaction model\n",
    "and then we will modify particle production in an energy range similar that of the SMOG/LHCb."
   ]
  },
  {
   "cell_type": "code",
   "execution_count": 13,
   "metadata": {
    "collapsed": false
   },
   "outputs": [
    {
     "name": "stdout",
     "output_type": "stream",
     "text": [
      "MCEqRun::set_single_primary_particle(): corsika_id=14, particle energy=1e+06 GeV\n",
      "MCEqRununset_mod_pprod(): modifications removed\n",
      "MCEqRun::_init_default_matrices():Start filling matrices. Skip_D_matrix = True\n",
      "MCEqRun::_convert_to_sparse():Converting to sparse (CSR) matrix format.\n",
      "C Matrix info:\n",
      "    density    : 2.05%\n",
      "    shape      : 7216 x 7216\n",
      "    nnz        : 1064892\n",
      "D Matrix info:\n",
      "    density    : 1.01%\n",
      "    shape      : 7216 x 7216\n",
      "    nnz        : 523616\n",
      "MCEqRun::_init_default_matrices():Done filling matrices.\n",
      "MCEqRun::_forward_euler(): Solver will perform 539 integration steps.\n",
      "Performance:   1.60ms/iteration\n",
      "\n",
      "MCEqRun::_forward_euler(): time elapsed during integration: 0.863515853882 sec\n"
     ]
    }
   ],
   "source": [
    "mceq_run.set_single_primary_particle(1e6, 14) #proton shower at 1 PeV/nucleus\n",
    "\n",
    "# Don't multiply spectrum with E**mag\n",
    "mag = 0.\n",
    "\n",
    "mceq_run.unset_mod_pprod()\n",
    "mceq_run.y.print_mod_pprod()\n",
    "mceq_run.solve()\n",
    "mu_yield_default = np.vstack([mceq_run.get_solution('total_mu+', mag),mceq_run.get_solution('total_mu-', mag)])\n",
    "mupl_matrix = mceq_run.y.get_y_matrix(2212,211)"
   ]
  },
  {
   "cell_type": "code",
   "execution_count": 15,
   "metadata": {
    "collapsed": false
   },
   "outputs": [
    {
     "name": "stdout",
     "output_type": "stream",
     "text": [
      "MCEqRun::set_single_primary_particle(): corsika_id=14, particle energy=1e+06 GeV\n",
      "InteractionYields::set_mod_pprod(): modifying modify particle production matrix of 2212/211.\n",
      "InteractionYields::init_mod_matrix(): phase_space_mod (0.5, 1e-09, 0.1, 900.0, 7000.0)\n",
      "phase_space_mod(): 0.5 (1e-09, 0.1) (900.0, 7000.0)\n",
      "InteractionYields::set_mod_pprod(): modifying modify particle production matrix of 2212/-211.\n",
      "InteractionYields::init_mod_matrix(): phase_space_mod (0.5, 1e-09, 0.1, 900.0, 7000.0)\n",
      "phase_space_mod(): 0.5 (1e-09, 0.1) (900.0, 7000.0)\n",
      "MCEqRun::_init_default_matrices():Start filling matrices. Skip_D_matrix = True\n",
      "MCEqRun::_convert_to_sparse():Converting to sparse (CSR) matrix format.\n",
      "C Matrix info:\n",
      "    density    : 2.05%\n",
      "    shape      : 7216 x 7216\n",
      "    nnz        : 1064892\n",
      "D Matrix info:\n",
      "    density    : 1.01%\n",
      "    shape      : 7216 x 7216\n",
      "    nnz        : 523616\n",
      "MCEqRun::_init_default_matrices():Done filling matrices.\n",
      "0: 2112 -> -211, func: isospin, arg: (0.5, 1e-09, 0.1, 900.0, 7000.0)\n",
      "1: 2112 -> 211, func: isospin, arg: (0.5, 1e-09, 0.1, 900.0, 7000.0)\n",
      "2: 2212 -> -211, func: phase_space_mod, arg: (0.5, 1e-09, 0.1, 900.0, 7000.0)\n",
      "3: 2212 -> 211, func: phase_space_mod, arg: (0.5, 1e-09, 0.1, 900.0, 7000.0)\n",
      "MCEqRun::_forward_euler(): Solver will perform 539 integration steps.\n",
      "Performance:   1.39ms/iteration\n",
      "\n",
      "MCEqRun::_forward_euler(): time elapsed during integration: 0.748094081879 sec\n"
     ]
    }
   ],
   "source": [
    "mceq_run.set_single_primary_particle(1e6, 14) #Proton shower at 1 PeV/nucleus\n",
    "\n",
    "# Increase pion production in proton and neutron interactions by 30% in the\n",
    "# x_L interval 1e-9 to 1e-1 and in the projectile energy range 900. GeV to 7 TeV\n",
    "\n",
    "mceq_run.set_mod_pprod(2212, 211, phase_space_mod, (0.5, 1e-9,1e-1,900.,7000.))\n",
    "mceq_run.set_mod_pprod(2212, -211, phase_space_mod, (0.5, 1e-9,1e-1,900.,7000.))\n",
    "mceq_run._init_default_matrices(skip_D_matrix=True)\n",
    "\n",
    "# See what's set\n",
    "mceq_run.y.print_mod_pprod()\n",
    "mceq_run.solve()\n",
    "\n",
    "mu_yield_modified = np.vstack([mceq_run.get_solution('total_mu+', mag),mceq_run.get_solution('total_mu-', mag)])\n",
    "mupl_matrix_mod = mceq_run.y.get_y_matrix(2212,211)"
   ]
  },
  {
   "cell_type": "code",
   "execution_count": 16,
   "metadata": {
    "collapsed": false
   },
   "outputs": [
    {
     "name": "stdout",
     "output_type": "stream",
     "text": [
      "at projectile energy 2766.82568292 GeV\n"
     ]
    },
    {
     "data": {
      "text/plain": [
       "<matplotlib.text.Text at 0x123752650>"
      ]
     },
     "execution_count": 16,
     "metadata": {},
     "output_type": "execute_result"
    },
    {
     "data": {
      "image/png": "[encoded data removed]",
      "text/plain": [
       "<matplotlib.figure.Figure at 0x122fb0c10>"
      ]
     },
     "metadata": {},
     "output_type": "display_data"
    }
   ],
   "source": [
    "fig, ax = plt.subplots(1,1, sharex=True, figsize=(7,7))\n",
    "proj_eidx = 27 \n",
    "print 'at projectile energy', e_grid[proj_eidx], 'GeV'\n",
    "xgrid = e_grid[:proj_eidx + 1]/e_grid[proj_eidx]\n",
    "plt.loglog(xgrid, mupl_matrix[:proj_eidx + 1,proj_eidx],label='original')\n",
    "plt.loglog(xgrid, mupl_matrix_mod[:proj_eidx + 1,proj_eidx],label='modified')\n",
    "plt.xlabel(r'$x_{\\rm L}$',fontsize='large')\n",
    "plt.ylabel(r'$dN/dx_{\\rm L}$ ($\\times \\Delta E_{\\rm proj}$)',fontsize='large')"
   ]
  },
  {
   "cell_type": "code",
   "execution_count": 17,
   "metadata": {
    "collapsed": false
   },
   "outputs": [
    {
     "name": "stderr",
     "output_type": "stream",
     "text": [
      "/Users/hdembins/miniconda2/lib/python2.7/site-packages/ipykernel_launcher.py:7: RuntimeWarning: invalid value encountered in divide\n",
      "  import sys\n"
     ]
    },
    {
     "data": {
      "text/plain": [
       "<matplotlib.text.Text at 0x122ffb710>"
      ]
     },
     "execution_count": 17,
     "metadata": {},
     "output_type": "execute_result"
    },
    {
     "data": {
      "image/png": "[encoded data removed]",
      "text/plain": [
       "<matplotlib.figure.Figure at 0x118df4a50>"
      ]
     },
     "metadata": {},
     "output_type": "display_data"
    }
   ],
   "source": [
    "fig, ax = plt.subplots(2,1, sharex=True, figsize=(4.5,3.5))\n",
    "\n",
    "ax[0].loglog(e_grid, np.sum(mu_yield_default, axis=0), color='k', label='default')\n",
    "ax[0].loglog(e_grid, np.sum(mu_yield_modified, axis=0), color='r', label='modified')\n",
    "ax[0].set_ylabel(r'd$N_\\mu$/d$E_\\mu$')\n",
    "ax[0].legend()\n",
    "ax[1].semilogx(e_grid, np.sum(mu_yield_modified, axis=0)/np.sum(mu_yield_default, axis=0), \n",
    "             label='ratio')\n",
    "\n",
    "ax[1].set_ylim(0.99, 1.01)\n",
    "ax[1].set_xlim(1.,100e6)\n",
    "\n",
    "ax[1].set_ylabel(r'ratio mod./orig.')\n",
    "ax[1].set_xlabel(r'$E_\\mu$ (GeV)')\n"
   ]
  },
  {
   "cell_type": "code",
   "execution_count": null,
   "metadata": {
    "collapsed": true
   },
   "outputs": [],
   "source": []
  }
 ],
 "metadata": {
  "kernelspec": {
   "display_name": "Python 2",
   "language": "python",
   "name": "python2"
  },
  "language_info": {
   "codemirror_mode": {
    "name": "ipython",
    "version": 2
   },
   "file_extension": ".py",
   "mimetype": "text/x-python",
   "name": "python",
   "nbconvert_exporter": "python",
   "pygments_lexer": "ipython2",
   "version": "2.7.13"
  }
 },
 "nbformat": 4,
 "nbformat_minor": 0
}
