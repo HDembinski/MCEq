{
 "metadata": {
  "name": "",
  "signature": "sha256:f0ef3b1b11dd6393325452f00a147f51107dfa8e010e5f987071346e03e57963"
 },
 "nbformat": 3,
 "nbformat_minor": 0,
 "worksheets": [
  {
   "cells": [
    {
     "cell_type": "code",
     "collapsed": false,
     "input": [
      "%load_ext autoreload\n",
      "%matplotlib inline\n",
      "import os\n",
      "os.chdir('..')"
     ],
     "language": "python",
     "metadata": {},
     "outputs": [],
     "prompt_number": 1
    },
    {
     "cell_type": "code",
     "collapsed": false,
     "input": [
      "%autoreload 2\n",
      "from NCE.core import NCERun\n",
      "import CRFluxModels as pm\n",
      "from NCE.misc import set_ticks_y, cornertext\n",
      "import matplotlib.pyplot as plt\n",
      "import matplotlib\n",
      "import numpy as np\n",
      "import cPickle as pickle\n",
      "from os.path import join\n",
      "\n",
      "data_dir = '/Users/afedynitch/Documents/KIT/artifacts/matrix_method/data_files'\n",
      "\n",
      "global_config = {\n",
      " # Debug flag for verbose printing\n",
      " \"debug\":False,\n",
      " \n",
      " # Zenith angle in degrees. 0 means vertical, 90 is horizontal\n",
      " \"theta_deg\":0.,\n",
      " \n",
      " # File name where the particle production yields are stored\n",
      " \"yield_fname\":\"yield_dict.ppd\",\n",
      " \n",
      " # Atmospheric model in the format: (model, parametrise ation, options)\n",
      " \"atm_model\":('CORSIKA', 'BK_USStd', None),\n",
      " \n",
      " # Selection of the solver type: MKL (sparse/dense), CUDA etc.\n",
      " \"solver_config\":(\"MKL\", True),\n",
      " \n",
      " # Directory where the data files for the claculation are stored\n",
      " \"data_dir\":data_dir,\n",
      " \n",
      " # Lepton species which should be accounted for. Usually no \n",
      " # change by user is necessary here \n",
      " \"lepton_species\":['mu+', 'mu-', 'pr_mu+', 'pr_mu-',\n",
      "                   'pi_mu+', 'pi_mu-', 'k_mu+', 'k_mu-',\n",
      "                   'obs_mu+', 'obs_mu-',\n",
      "                   'numu', 'antinumu', 'pr_numu', 'pr_antinumu',\n",
      "                   'pi_numu', 'pi_antinumu', 'k_numu', 'k_antinumu',\n",
      "                   'obs_numu', 'obs_antinumu',\n",
      "                   'nue', 'antinue', 'pr_nue', 'pr_antinue',\n",
      "                   'pi_nue', 'pi_antinue', 'k_nue', 'k_antinue',\n",
      "                   'obs_nue', 'obs_antinue',\n",
      "                   'nutau', 'antinutau', 'pr_nutau', 'pr_antinutau',\n",
      "                   'pi_nutau', 'pi_antinutau', 'k_nutau', 'k_antinutau',\n",
      "                   'obs_nutau', 'obs_antinutau'],\n",
      " \n",
      " # List of particles which decay products will be scored \n",
      " # in a 'obs_' category\n",
      " \"obs_ids\":None,  #  Example [\"eta\", \"eta*\", \"etaC\", \"omega\", \"phi\"],\n",
      " \n",
      " # Particles with critical energy [GeV] higher than this value will \n",
      " # be treated in a hybrid way\n",
      " \"hybrid_threshold\": 1e4,\n",
      "\n",
      " # Ratio of decay_length/interaction_length where particle interactions\n",
      " # are neglected and the resonance approximation is used\n",
      " \"hybrid_crossover\": 0.1,\n",
      " \n",
      " # If None the hadron species will be defined according to promptness_threshold\n",
      " \"hadr_species\":None,\n",
      " \n",
      " # Defines which mesons/baryons are propagated in the cascade \n",
      " # and which are treated as resonance \n",
      " \"promptness_threshold\":\"1e8 GeV\",  # Either particle name or decay length in cm\n",
      " \n",
      " # Possibilities to control the solver\n",
      " \"vetos\":{\"veto_sec_interactions\":False,  # inhibit coupling/secondary production of mesons\n",
      "          \"veto_resonance_decay\":False,  # Disable resonance/prompt contribution \n",
      "          \"veto_hadrons\":[],\n",
      "          \"veto_resonances\":[],\n",
      "          \"allow_resonances\":[]}}\n",
      "\n",
      "\n",
      "iam_colors = {'SIBYLL2.2_j14':'black',\n",
      "              'SIBYLL2.2_j14_mC':'red',\n",
      "              'SIBYLL2.2_june14':'blue',\n",
      "              'SIBYLL2.2_icrc':'blue',\n",
      "              'SIBYLL2.1':'cyan',\n",
      "              'SIBYLL2.2_hyp':'violet',\n",
      "              'DPMJET-2.55':'green',\n",
      "              'QGSJET-II-04':'lightblue',\n",
      "              'QGSJET-II-03':'orange',\n",
      "              'QGSJET-01':'yellow'}\n",
      "matplotlib.rcParams.update({'font.size': 12})"
     ],
     "language": "python",
     "metadata": {},
     "outputs": [],
     "prompt_number": 2
    },
    {
     "cell_type": "code",
     "collapsed": false,
     "input": [
      "pmodel = (pm.HillasGaisser2012, \"HGm\")  #  (pm.Thunman, None)   # (pm.GaisserStanevTilav, \"3-gen\") # (PolyGonato, False)\n",
      "nce_run = NCERun(**dict(interaction_model='SIBYLL2.2_june14',\n",
      "                        primary_model=pmodel,\n",
      "                        **global_config))\n",
      "\n",
      "nce_run.solve()\n",
      "e_grid = nce_run.e_grid\n",
      "mag = 0"
     ],
     "language": "python",
     "metadata": {},
     "outputs": [
      {
       "output_type": "stream",
       "stream": "stdout",
       "text": [
        "NCERun::init(): Hybridization threshold set to 1.000e+04 GeV\n",
        "\n",
        "Hadrons:\n",
        "\"K+\", \"K-\", \"K0L\", \"n\", \"n-bar\", \"p\", \"p-bar\", \"pi+\", \n",
        "\"pi-\", \n",
        "\n",
        "Hybrids:\n",
        "\"D+\", \"D-\", \"D0\", \"D0-bar\", \"Ds+\", \"Ds-\", \"K0S\", \"Lambda0\", \n",
        "\"Lambda0-bar\", \"Sigma-\", \"Sigma--bar\", \"Xi-\", \"Xi--bar\", \"Xi0\", \"Xi0-bar\", \n",
        "\n",
        "Leptons:\n",
        "\"antinue\", \"antinumu\", \"antinutau\", \"k_antinue\", \"k_antinumu\", \"k_antinutau\", \"k_mu+\", \"k_mu-\", \n",
        "\"k_nue\", \"k_numu\", \"k_nutau\", \"mu+\", \"mu-\", \"nue\", \"numu\", \"nutau\", \n",
        "\"obs_antinue\", \"obs_antinumu\", \"obs_antinutau\", \"obs_mu+\", \"obs_mu-\", \"obs_nue\", \"obs_numu\", \"obs_nutau\", \n",
        "\"pi_antinue\", \"pi_antinumu\", \"pi_antinutau\", \"pi_mu+\", \"pi_mu-\", \"pi_nue\", \"pi_numu\", \"pi_nutau\", \n",
        "\"pr_antinue\", \"pr_antinumu\", \"pr_antinutau\", \"pr_mu+\", \"pr_mu-\", \"pr_nue\", \"pr_numu\", \"pr_nutau\", \n",
        "\n",
        "\n",
        "Total number of species: 64\n",
        "\n",
        "Resonances:\n",
        "\n",
        "\"D*+\", \"D*-\", \"D*0\", \"D*0-bar\", \"Delta+\", \"Delta++\", \"Delta++-bar\", \"Delta+-bar\", \n",
        "\"Delta-\", \"Delta--bar\", \"Delta0\", \"Delta0-bar\", \"K*+\", \"K*-\", \"K*0\", \"K*0-bar\", \n",
        "\"LambdaC+\", \"LambdaC+-bar\", \"Omega-\", \"Omega--bar\", \"OmegaC0\", \"OmegaC0-bar\", \"Sigma*+\", \"Sigma*+-bar\", \n",
        "\"Sigma*-\", \"Sigma*--bar\", \"Sigma*0\", \"Sigma*0-bar\", \"Sigma+\", \"Sigma+-bar\", \"Sigma0\", \"Sigma0-bar\", \n",
        "\"SigmaC*+\", \"SigmaC*++\", \"SigmaC*++-bar\", \"SigmaC*+-bar\", \"SigmaC*0\", \"SigmaC*0-bar\", \"SigmaC+\", \"SigmaC++\", \n",
        "\"SigmaC++-bar\", \"SigmaC+-bar\", \"SigmaC0\", \"SigmaC0-bar\", \"Xi*-\", \"Xi*--bar\", \"Xi*0\", \"Xi*0-bar\", \n",
        "\"XiC+\", \"XiC+-bar\", \"XiC0\", \"XiC0-bar\", \"eta\", \"eta*\", \"etaC\", \"jpsi\", \n",
        "\"omega\", \"phi\", \"pi0\", \"rho+\", \"rho-\", \"rho0\", \"tau+\", \"tau-\", \n",
        "\n",
        "Start filling matrices."
       ]
      },
      {
       "output_type": "stream",
       "stream": "stdout",
       "text": [
        "\n",
        "Done filling matrices."
       ]
      },
      {
       "output_type": "stream",
       "stream": "stdout",
       "text": [
        "\n",
        "load cache."
       ]
      },
      {
       "output_type": "stream",
       "stream": "stdout",
       "text": [
        "\n",
        "NCERun::calculate_integration_path():"
       ]
      },
      {
       "output_type": "stream",
       "stream": "stderr",
       "text": [
        "  0% |                                                         | ETA:  --:--:--\r",
        "  1% |                                                          | ETA:  0:00:03\r",
        "  2% |#                                                         | ETA:  0:00:01\r",
        "  3% |#                                                         | ETA:  0:00:01\r",
        "  4% |##                                                        | ETA:  0:00:01\r",
        "  5% |##                                                        | ETA:  0:00:00\r",
        "  6% |###                                                       | ETA:  0:00:00\r",
        "  7% |####                                                      | ETA:  0:00:00\r",
        "  8% |####                                                      | ETA:  0:00:00\r",
        "  9% |#####                                                     | ETA:  0:00:00\r",
        " 10% |#####                                                     | ETA:  0:00:00\r",
        " 11% |######                                                    | ETA:  0:00:00\r",
        " 12% |#######                                                   | ETA:  0:00:00\r",
        " 13% |#######                                                   | ETA:  0:00:00\r",
        " 14% |########                                                  | ETA:  0:00:00\r",
        " 15% |#########                                                 | ETA:  0:00:00\r",
        " 16% |#########                                                 | ETA:  0:00:00\r",
        " 17% |##########                                                | ETA:  0:00:00\r",
        " 18% |##########                                                | ETA:  0:00:00\r",
        " 19% |###########                                               | ETA:  0:00:00\r",
        " 21% |############                                              | ETA:  0:00:00\r",
        " 22% |############                                              | ETA:  0:00:00\r",
        " 23% |#############                                             | ETA:  0:00:00\r",
        " 24% |##############                                            | ETA:  0:00:00\r",
        " 25% |##############                                            | ETA:  0:00:00\r"
       ]
      },
      {
       "output_type": "stream",
       "stream": "stderr",
       "text": [
        " 26% |###############                                           | ETA:  0:00:00\r",
        " 27% |################                                          | ETA:  0:00:00\r",
        " 28% |################                                          | ETA:  0:00:00\r",
        " 30% |#################                                         | ETA:  0:00:00\r",
        " 31% |##################                                        | ETA:  0:00:00\r",
        " 32% |##################                                        | ETA:  0:00:00\r",
        " 33% |###################                                       | ETA:  0:00:00\r",
        " 34% |####################                                      | ETA:  0:00:00\r",
        " 35% |####################                                      | ETA:  0:00:00\r",
        " 37% |#####################                                     | ETA:  0:00:00\r",
        " 38% |######################                                    | ETA:  0:00:00\r",
        " 39% |######################                                    | ETA:  0:00:00\r",
        " 40% |#######################                                   | ETA:  0:00:00\r",
        " 41% |########################                                  | ETA:  0:00:00\r",
        " 42% |########################                                  | ETA:  0:00:00\r",
        " 43% |#########################                                 | ETA:  0:00:00\r",
        " 45% |##########################                                | ETA:  0:00:00\r",
        " 46% |##########################                                | ETA:  0:00:00\r",
        " 47% |###########################                               | ETA:  0:00:00\r",
        " 49% |############################                              | ETA:  0:00:00\r",
        " 50% |#############################                             | ETA:  0:00:00\r",
        " 51% |##############################                            | ETA:  0:00:00\r",
        " 53% |##############################                            | ETA:  0:00:00\r",
        " 54% |###############################                           | ETA:  0:00:00\r",
        " 56% |################################                          | ETA:  0:00:00\r",
        " 57% |#################################                         | ETA:  0:00:00\r",
        " 58% |##################################                        | ETA:  0:00:00\r",
        " 59% |##################################                        | ETA:  0:00:00\r",
        " 60% |###################################                       | ETA:  0:00:00\r",
        " 61% |###################################                       | ETA:  0:00:00\r",
        " 62% |####################################                      | ETA:  0:00:00\r",
        " 63% |#####################################                     | ETA:  0:00:00\r",
        " 65% |#####################################                     | ETA:  0:00:00\r",
        " 66% |######################################                    | ETA:  0:00:00\r",
        " 67% |#######################################                   | ETA:  0:00:00\r",
        " 68% |#######################################                   | ETA:  0:00:00\r",
        " 69% |########################################                  | ETA:  0:00:00\r",
        " 70% |#########################################                 | ETA:  0:00:00\r",
        " 72% |#########################################                 | ETA:  0:00:00\r",
        " 73% |##########################################                | ETA:  0:00:00\r",
        " 74% |###########################################               | ETA:  0:00:00\r",
        " 75% |###########################################               | ETA:  0:00:00\r",
        " 77% |############################################              | ETA:  0:00:00\r",
        " 78% |#############################################             | ETA:  0:00:00\r",
        " 79% |##############################################            | ETA:  0:00:00\r",
        " 81% |###############################################           | ETA:  0:00:00\r",
        " 82% |###############################################           | ETA:  0:00:00\r",
        " 83% |################################################          | ETA:  0:00:00\r",
        " 85% |#################################################         | ETA:  0:00:00\r",
        " 86% |##################################################        | ETA:  0:00:00\r",
        " 88% |###################################################       | ETA:  0:00:00\r",
        " 89% |###################################################       | ETA:  0:00:00\r",
        " 90% |####################################################      | ETA:  0:00:00\r",
        " 92% |#####################################################     | ETA:  0:00:00\r",
        " 93% |######################################################    | ETA:  0:00:00\r",
        " 95% |#######################################################   | ETA:  0:00:00\r",
        " 97% |########################################################  | ETA:  0:00:00\r",
        " 98% |######################################################### | ETA:  0:00:00\r",
        "100% |##########################################################| Time: 0:00:00\r\n",
        "  0% |                                                         | ETA:  --:--:--\r",
        "  1% |                                                          | ETA:  0:00:02\r",
        "  2% |#                                                         | ETA:  0:00:02\r"
       ]
      },
      {
       "output_type": "stream",
       "stream": "stderr",
       "text": [
        "  3% |#                                                         | ETA:  0:00:02\r",
        "  4% |##                                                        | ETA:  0:00:02\r",
        "  5% |###                                                       | ETA:  0:00:02\r",
        "  6% |###                                                       | ETA:  0:00:02\r"
       ]
      },
      {
       "output_type": "stream",
       "stream": "stderr",
       "text": [
        "  7% |####                                                      | ETA:  0:00:02\r",
        "  8% |####                                                      | ETA:  0:00:02\r",
        "  9% |#####                                                     | ETA:  0:00:02\r"
       ]
      },
      {
       "output_type": "stream",
       "stream": "stderr",
       "text": [
        " 10% |######                                                    | ETA:  0:00:02\r",
        " 11% |######                                                    | ETA:  0:00:02\r",
        " 12% |#######                                                   | ETA:  0:00:02\r"
       ]
      },
      {
       "output_type": "stream",
       "stream": "stderr",
       "text": [
        " 13% |#######                                                   | ETA:  0:00:02\r",
        " 14% |########                                                  | ETA:  0:00:02\r",
        " 15% |#########                                                 | ETA:  0:00:02\r",
        " 16% |#########                                                 | ETA:  0:00:02\r"
       ]
      },
      {
       "output_type": "stream",
       "stream": "stderr",
       "text": [
        " 17% |##########                                                | ETA:  0:00:02\r",
        " 18% |##########                                                | ETA:  0:00:02\r",
        " 19% |###########                                               | ETA:  0:00:02\r",
        " 20% |############                                              | ETA:  0:00:02\r"
       ]
      },
      {
       "output_type": "stream",
       "stream": "stderr",
       "text": [
        " 22% |############                                              | ETA:  0:00:01\r",
        " 23% |#############                                             | ETA:  0:00:01\r",
        " 24% |#############                                             | ETA:  0:00:01\r",
        " 25% |##############                                            | ETA:  0:00:01\r"
       ]
      },
      {
       "output_type": "stream",
       "stream": "stderr",
       "text": [
        " 26% |###############                                           | ETA:  0:00:01\r",
        " 27% |###############                                           | ETA:  0:00:01\r",
        " 28% |################                                          | ETA:  0:00:01\r",
        " 29% |#################                                         | ETA:  0:00:01\r"
       ]
      },
      {
       "output_type": "stream",
       "stream": "stderr",
       "text": [
        " 30% |#################                                         | ETA:  0:00:01\r",
        " 31% |##################                                        | ETA:  0:00:01\r",
        " 32% |##################                                        | ETA:  0:00:01\r",
        " 33% |###################                                       | ETA:  0:00:01\r"
       ]
      },
      {
       "output_type": "stream",
       "stream": "stderr",
       "text": [
        " 34% |####################                                      | ETA:  0:00:01\r",
        " 35% |####################                                      | ETA:  0:00:01\r",
        " 36% |#####################                                     | ETA:  0:00:01\r",
        " 37% |#####################                                     | ETA:  0:00:01\r"
       ]
      },
      {
       "output_type": "stream",
       "stream": "stderr",
       "text": [
        " 38% |######################                                    | ETA:  0:00:01\r",
        " 39% |#######################                                   | ETA:  0:00:01\r",
        " 40% |#######################                                   | ETA:  0:00:01\r",
        " 41% |########################                                  | ETA:  0:00:01\r"
       ]
      },
      {
       "output_type": "stream",
       "stream": "stderr",
       "text": [
        " 42% |########################                                  | ETA:  0:00:01\r",
        " 44% |#########################                                 | ETA:  0:00:01\r",
        " 45% |##########################                                | ETA:  0:00:01\r",
        " 46% |##########################                                | ETA:  0:00:01\r"
       ]
      },
      {
       "output_type": "stream",
       "stream": "stderr",
       "text": [
        " 47% |###########################                               | ETA:  0:00:01\r",
        " 48% |###########################                               | ETA:  0:00:01\r",
        " 49% |############################                              | ETA:  0:00:01\r",
        " 50% |#############################                             | ETA:  0:00:01\r"
       ]
      },
      {
       "output_type": "stream",
       "stream": "stderr",
       "text": [
        " 51% |#############################                             | ETA:  0:00:01\r",
        " 52% |##############################                            | ETA:  0:00:01\r",
        " 53% |###############################                           | ETA:  0:00:00\r",
        " 54% |###############################                           | ETA:  0:00:00\r"
       ]
      },
      {
       "output_type": "stream",
       "stream": "stderr",
       "text": [
        " 55% |################################                          | ETA:  0:00:00\r",
        " 56% |################################                          | ETA:  0:00:00\r",
        " 57% |#################################                         | ETA:  0:00:00\r",
        " 58% |##################################                        | ETA:  0:00:00\r"
       ]
      },
      {
       "output_type": "stream",
       "stream": "stderr",
       "text": [
        " 59% |##################################                        | ETA:  0:00:00\r",
        " 60% |###################################                       | ETA:  0:00:00\r",
        " 61% |###################################                       | ETA:  0:00:00\r",
        " 62% |####################################                      | ETA:  0:00:00\r"
       ]
      },
      {
       "output_type": "stream",
       "stream": "stderr",
       "text": [
        " 63% |#####################################                     | ETA:  0:00:00\r",
        " 64% |#####################################                     | ETA:  0:00:00\r",
        " 66% |######################################                    | ETA:  0:00:00\r",
        " 67% |######################################                    | ETA:  0:00:00\r"
       ]
      },
      {
       "output_type": "stream",
       "stream": "stderr",
       "text": [
        " 68% |#######################################                   | ETA:  0:00:00\r",
        " 69% |########################################                  | ETA:  0:00:00\r",
        " 70% |########################################                  | ETA:  0:00:00\r",
        " 71% |#########################################                 | ETA:  0:00:00\r"
       ]
      },
      {
       "output_type": "stream",
       "stream": "stderr",
       "text": [
        " 72% |#########################################                 | ETA:  0:00:00\r",
        " 73% |##########################################                | ETA:  0:00:00\r",
        " 74% |###########################################               | ETA:  0:00:00\r",
        " 75% |###########################################               | ETA:  0:00:00\r"
       ]
      },
      {
       "output_type": "stream",
       "stream": "stderr",
       "text": [
        " 76% |############################################              | ETA:  0:00:00\r",
        " 77% |############################################              | ETA:  0:00:00\r",
        " 78% |#############################################             | ETA:  0:00:00\r",
        " 79% |##############################################            | ETA:  0:00:00\r"
       ]
      },
      {
       "output_type": "stream",
       "stream": "stderr",
       "text": [
        " 80% |##############################################            | ETA:  0:00:00\r",
        " 81% |###############################################           | ETA:  0:00:00\r",
        " 82% |################################################          | ETA:  0:00:00\r",
        " 83% |################################################          | ETA:  0:00:00\r"
       ]
      },
      {
       "output_type": "stream",
       "stream": "stderr",
       "text": [
        " 84% |#################################################         | ETA:  0:00:00\r",
        " 85% |#################################################         | ETA:  0:00:00\r",
        " 87% |##################################################        | ETA:  0:00:00\r",
        " 88% |###################################################       | ETA:  0:00:00\r"
       ]
      },
      {
       "output_type": "stream",
       "stream": "stderr",
       "text": [
        " 89% |###################################################       | ETA:  0:00:00\r",
        " 90% |####################################################      | ETA:  0:00:00\r",
        " 91% |####################################################      | ETA:  0:00:00\r",
        " 92% |#####################################################     | ETA:  0:00:00\r"
       ]
      },
      {
       "output_type": "stream",
       "stream": "stderr",
       "text": [
        " 93% |######################################################    | ETA:  0:00:00\r",
        " 94% |######################################################    | ETA:  0:00:00\r",
        " 95% |#######################################################   | ETA:  0:00:00\r",
        " 96% |#######################################################   | ETA:  0:00:00\r"
       ]
      },
      {
       "output_type": "stream",
       "stream": "stdout",
       "text": [
        "\n",
        "\n"
       ]
      },
      {
       "output_type": "stream",
       "stream": "stdout",
       "text": [
        "Time elapsed during integration: 1.95119690895\n"
       ]
      },
      {
       "output_type": "stream",
       "stream": "stderr",
       "text": [
        " 97% |########################################################  | ETA:  0:00:00\r",
        " 98% |######################################################### | ETA:  0:00:00\r",
        " 99% |######################################################### | ETA:  0:00:00\r",
        "100% |##########################################################| Time: 0:00:01\r\n"
       ]
      }
     ],
     "prompt_number": 3
    },
    {
     "cell_type": "code",
     "collapsed": false,
     "input": [
      "mag=0\n",
      "mu_pl_conv = nce_run.get_lepton_flux('conv_mu+', mag)\n",
      "mu_mi_conv = nce_run.get_lepton_flux('conv_mu-', mag)\n",
      "\n",
      "mu_pl_pi = nce_run.get_lepton_flux('pi_mu+', mag)\n",
      "mu_mi_pi = nce_run.get_lepton_flux('pi_mu-', mag)\n",
      "\n",
      "mu_pl_K = nce_run.get_lepton_flux('k_mu+', mag)\n",
      "mu_mi_K = nce_run.get_lepton_flux('k_mu-', mag)\n",
      "\n",
      "mu_pl_pr = nce_run.get_lepton_flux('pr_mu+', mag)\n",
      "mu_mi_pr = nce_run.get_lepton_flux('pr_mu-', mag)\n",
      "\n",
      "#     mu_pl_obs = nce_run.get_lepton_flux('obs_mu+', mag)\n",
      "#     mu_mi_obs = nce_run.get_lepton_flux('obs_mu-', mag)\n",
      "\n",
      "mu_pl_total = nce_run.get_lepton_flux('total_mu+', mag)\n",
      "mu_mi_total = nce_run.get_lepton_flux('total_mu-', mag)\n",
      "    "
     ],
     "language": "python",
     "metadata": {},
     "outputs": [],
     "prompt_number": 4
    },
    {
     "cell_type": "code",
     "collapsed": false,
     "input": [
      "from NCE.references import L3_C\n",
      "from NCE.geometry import cos_th_star\n",
      "l3_c = L3_C()"
     ],
     "language": "python",
     "metadata": {},
     "outputs": [],
     "prompt_number": 5
    },
    {
     "cell_type": "code",
     "collapsed": false,
     "input": [
      "plt.figure(figsize=(7, 6))\n",
      "#=======================================================================\n",
      "# Plotting\n",
      "#=======================================================================\n",
      "pf = 1.0\n",
      "k_fac = 1.0\n",
      "kpf = k_fac * 1.0\n",
      "kmf = k_fac * 1.0\n",
      "esc = e_grid# * cos_th_star(40.)\n",
      "\n",
      "wsum = (kpf * mu_pl_K + kmf * mu_mi_K + \\\n",
      "        pf * mu_pl_pi + pf * mu_mi_pi)\n",
      "kpi = (kpf * mu_pl_K + kmf * mu_mi_K) / \\\n",
      "      (pf * mu_pl_pi + pf * mu_mi_pi)# - \\\n",
      "       #kpf * mu_pl_K - kmf * mu_mi_K)\n",
      "kch = kpf * mu_pl_K / (kmf * mu_mi_K)\n",
      "pich = pf * mu_pl_pi / (pf * mu_mi_pi)\n",
      "frac_pi = (pf * mu_pl_pi + pf * mu_mi_pi) / wsum\n",
      "frac_K = (kpf * mu_pl_K + kmf * mu_mi_K) / wsum\n",
      "much_ratio = (kpf * mu_pl_K + pf * mu_pl_pi) / (pf * mu_mi_pi + kmf * mu_mi_K)\n",
      "\n",
      "plt.suptitle(r\"Muon charge ratio at the surface for $\\theta=40^o$.\")\n",
      "gs = plt.GridSpec(2,1,height_ratios=[3,1])\n",
      "ax = plt.subplot(gs[0])\n",
      "plt.plot(esc, pich, ls='--', color='red', label=r'$\\pi^\\pm$ charge ratio')\n",
      "\n",
      "plt.plot(esc, kch, ls='--', color='blue', label=r'$K^\\pm$ charge ratio')\n",
      "plt.plot(esc, much_ratio, ls='-', color='black', label=r'total')\n",
      "plt.semilogx()\n",
      "l3_c.draw(4,obs='ratio',plottext=False,label='L3+C',Ecosth_star=True)\n",
      "#plt.legend(bbox_to_anchor=(1.45, 1.05))\n",
      "plt.ylabel(r\"Muon charge ratio\")\n",
      "plt.xlim([50,1e6])\n",
      "plt.ylim([0.0, 6.0])\n",
      "set_ticks_y()\n",
      "# ax = plt.gca()\n",
      "plt.setp(ax.get_xticklabels(), visible=False)\n",
      "box = ax.get_position()\n",
      "# ax.set_position([box.x0, box.y0, box.width * 0.85, box.height])\n",
      "ax.legend(loc='center left', bbox_to_anchor=(1, 0.82),\n",
      "          fancybox=True, shadow=True, frameon=True)\n",
      "plt.grid(axis='both')\n",
      "plt.subplot(gs[1])\n",
      "gs.update(hspace=0.0,right=0.7)\n",
      "plt.plot(esc, (1 - kpi), ls='-', color='red',\n",
      "         label=r'$1- K/\\pi$')\n",
      "plt.plot(esc, kpi, ls='-', color='blue', label=r'$K/\\pi$')\n",
      "plt.semilogx()\n",
      "ax = plt.gca()\n",
      "box = ax.get_position()\n",
      "#ax.set_position([box.x0, box.y0, box.width * 0.8, box.height])\n",
      "plt.legend(loc='upper left', bbox_to_anchor=(1, 1.),\n",
      "          fancybox=True, shadow=True, frameon=True)\n",
      "plt.xlim([50,1e6])\n",
      "plt.ylim([0,1])\n",
      "plt.ylabel(r\"K/$\\pi$ ratio\")\n",
      "plt.xlabel(r\"$E_{\\mu}\\cos{\\ \\theta^*}$ [GeV]\")\n",
      "#plt.grid()\n",
      "plt.savefig(\"/Users/afedynitch/Documents/KIT/Talks/by me/atm_neutrinos_skype/17.07/mucharge_details_zoom.pdf\")"
     ],
     "language": "python",
     "metadata": {},
     "outputs": [
      {
       "output_type": "stream",
       "stream": "stdout",
       "text": [
        "MuonCharge_L3_C::draw(): Drawing ratio for cos(theta) range (0.75, 0.825)\n"
       ]
      },
      {
       "metadata": {},
       "output_type": "display_data",
       "png": "[encoded data removed]",
       "text": [
        "<matplotlib.figure.Figure at 0x126e88750>"
       ]
      }
     ],
     "prompt_number": 11
    },
    {
     "cell_type": "code",
     "collapsed": false,
     "input": [
      "plt.figure(figsize=(7, 5))\n",
      "plt.title(\"Ratio of kaons to pions derived from muons at the surface.\")\n",
      "plt.plot(e_grid, (mu_pl_K + mu_mi_K) / \n",
      "         (mu_pl_pi + mu_mi_pi - mu_pl_K - mu_mi_K), ls='-', color='black', label=r'k/pi')\n",
      "plt.plot(e_grid, frac_K, ls='-', color='green', label=r'k frac')\n",
      "plt.plot(e_grid, frac_pi, ls='-', color='red', label=r'pi frac')\n",
      "plt.semilogx()\n",
      "box = plt.gca().get_position()\n",
      "ax.set_position([box.x0, box.y0, box.width * 0.8, box.height])\n",
      "plt.legend(loc='upper left', bbox_to_anchor=(1, 0.5),\n",
      "          fancybox=True, shadow=True, frameon=True)\n",
      "plt.xlabel(r\"$E_{\\mu}$ [GeV]\")\n",
      "plt.ylabel(r\"pi/K ratio\")\n",
      "plt.xlim([50, 1e8])\n",
      "plt.ylim([0.0, 1.1])\n",
      "set_ticks_y()"
     ],
     "language": "python",
     "metadata": {},
     "outputs": [
      {
       "metadata": {},
       "output_type": "display_data",
       "png": "[encoded data removed]",
       "text": [
        "<matplotlib.figure.Figure at 0x1268ca850>"
       ]
      }
     ],
     "prompt_number": 12
    },
    {
     "cell_type": "code",
     "collapsed": false,
     "input": [],
     "language": "python",
     "metadata": {},
     "outputs": []
    }
   ],
   "metadata": {}
  }
 ]
}