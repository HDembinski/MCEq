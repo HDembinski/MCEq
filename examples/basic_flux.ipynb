{
 "metadata": {
  "name": "",
  "signature": "sha256:92c510713f6ffc44b6d7108c772f85d052a7b0b9588e9f3780f6764bc02f553e"
 },
 "nbformat": 3,
 "nbformat_minor": 0,
 "worksheets": [
  {
   "cells": [
    {
     "cell_type": "markdown",
     "metadata": {},
     "source": [
      "Simple muon and neutrino flux calculation\n",
      "-----------------------------------------\n",
      "\n",
      "This notebook demonstrates the basic use case of the solver. It calculates the atmospheric lepton flux, taking most of the configuration values from the 'global' config file `mceq_config.py`. The interaction model and the primary cosmic ray flux model are selected during initialization."
     ]
    },
    {
     "cell_type": "code",
     "collapsed": false,
     "input": [
      "#basic imports and ipython setup\n",
      "%load_ext autoreload\n",
      "%matplotlib inline\n",
      "%autoreload 2\n",
      "import os\n",
      "import matplotlib.pyplot as plt\n",
      "import numpy as np\n",
      "os.chdir('..')\n",
      "\n",
      "#import solver related modules\n",
      "from MCEq.core import MCEqRun\n",
      "from mceq_config import config\n",
      "#import primary model choices\n",
      "import CRFluxModels as pm"
     ],
     "language": "python",
     "metadata": {},
     "outputs": [
      {
       "output_type": "stream",
       "stream": "stderr",
       "text": [
        "Vendor:  Continuum Analytics, Inc.\n",
        "Package: mkl\n",
        "Message: trial mode expires in 19 days\n",
        "Vendor:  Continuum Analytics, Inc.\n",
        "Package: mkl\n",
        "Message: trial mode expires in 19 days\n"
       ]
      }
     ],
     "prompt_number": 1
    },
    {
     "cell_type": "markdown",
     "metadata": {},
     "source": [
      "Create an instance of an MCEqRun class. Most of its areguments are contained in the `config` dictionary from the `mceq_config` module. Look into or edit `mceq_config.py`.\n",
      "\n",
      "If the initialization succeeds it will print out some information according to the debug level. "
     ]
    },
    {
     "cell_type": "code",
     "collapsed": false,
     "input": [
      "mceq_run = MCEqRun(\n",
      "#provide the string of the interaction model\n",
      "interaction_model='SIBYLL2.3_rc1',\n",
      "#primary cosmic ray flux model\n",
      "#support a tuple (primary model class (not instance!), arguments)\n",
      "primary_model=(pm.HillasGaisser2012, \"H3a\"),\n",
      "# Zenith angle in degrees. 0=vertical, 90=horizontal\n",
      "theta_deg=90.0,\n",
      "#expand the rest of the options from mceq_config.py\n",
      "**config\n",
      ")"
     ],
     "language": "python",
     "metadata": {},
     "outputs": [
      {
       "output_type": "stream",
       "stream": "stdout",
       "text": [
        "\n",
        "Hadrons:\n",
        "\n",
        "\"p-bar\", \"p\", \"n-bar\", \"n\", \"pi+\", \"pi-\", \"K0L\", \"K+\", \n",
        "\"K-\"\n",
        "\n",
        "Mixed:\n",
        "\n",
        "\"Lambda0-bar\", \"Lambda0\", \"Xi0-bar\", \"Xi0\", \"K0S\", \"Xi--bar\", \"Xi-\", \"Sigma--bar\", \n",
        "\"Sigma-\", \"Sigma+-bar\", \"Sigma+\", \"Omega--bar\", \"Omega-\", \"D+\", \"D-\", \"Ds+\", \n",
        "\"Ds-\", \"D0\", \"D0-bar\", \"XiC+-bar\", \"XiC+\", \"tau+\", \"tau-\", \"LambdaC+-bar\", \n",
        "\"LambdaC+\", \"XiC0-bar\", \"XiC0\", \"OmegaC0-bar\", \"OmegaC0\", \"pi0\"\n",
        "\n",
        "Resonances:\n",
        "\n",
        "\"eta\", \"Sigma0-bar\", \"Sigma0\", \"D*+\", \"D*-\", \"eta*\", \"jpsi\", \"phi\", \n",
        "\"SigmaC0-bar\", \"SigmaC0\", \"SigmaC+-bar\", \"SigmaC+\", \"SigmaC++-bar\", \"SigmaC++\", \"omega\", \"Xi*0-bar\", \n",
        "\"Xi*0\", \"Xi*--bar\", \"Xi*-\", \"SigmaC*0-bar\", \"SigmaC*0\", \"SigmaC*++-bar\", \"SigmaC*++\", \"SigmaC*+-bar\", \n",
        "\"SigmaC*+\", \"K*0\", \"K*0-bar\", \"K*+\", \"K*-\", \"Sigma*+-bar\", \"Sigma*+\", \"Sigma*0-bar\", \n",
        "\"Sigma*0\", \"Sigma*--bar\", \"Sigma*-\", \"etaC\", \"rho+\", \"rho-\", \"rho0\", \"Delta--bar\", \n",
        "\"Delta0-bar\", \"Delta+-bar\", \"Delta++-bar\", \"Delta++\", \"Delta+\", \"Delta0\", \"Delta-\", \"D*0\", \n",
        "\"D*0-bar\", \"XiC*0-bar\", \"XiC*+-bar\", \"XiC*+\", \"XiC*0\", \"Ds*+\", \"Ds*-\"\n",
        "\n",
        "Leptons:\n",
        "\n",
        "\"nue\", \"numu\", \"nutau\", \"antinue\", \"antinumu\", \"antinutau\", \"nue\", \"numu\", \n",
        "\"nutau\", \"antinue\", \"antinumu\", \"antinutau\", \"mu-\", \"mu+\", \"mu-\", \"mu+\"\n",
        "\n",
        "Aliases:\n",
        "\"pr_nue\", \"pr_numu\", \"pr_nutau\", \"pi_nue\", \"pi_numu\", \"pi_nutau\", \"k_nue\", \"k_numu\", \n",
        "\"k_nutau\", \"obs_nue\", \"obs_numu\", \"obs_nutau\", \"pr_antinue\", \"pr_antinumu\", \"pr_antinutau\", \"pi_antinue\", \n",
        "\"pi_antinumu\", \"pi_antinutau\", \"k_antinue\", \"k_antinumu\", \"k_antinutau\", \"obs_antinue\", \"obs_antinumu\", \"obs_antinutau\", \n",
        "\"pr_mu-\", \"pi_mu-\", \"k_mu-\", \"obs_mu-\", \"pr_mu+\", \"pi_mu+\", \"k_mu+\", \"obs_mu+\"\n",
        "\n",
        "Total number of species: 87\n",
        "MCEqRun::set_interaction_model():  SIBYLL2.3_rc1\n",
        "InteractionYields:set_interaction_model():: Model SIBYLL2.3_rc1 already loaded.\n",
        "MCEqRun::_init_default_matrices():Start filling matrices.\n",
        "MCEqRun::_convert_to_sparse():Converting to sparse (CSR) matrix format."
       ]
      },
      {
       "output_type": "stream",
       "stream": "stdout",
       "text": [
        "\n",
        "C Matrix info:"
       ]
      },
      {
       "output_type": "stream",
       "stream": "stdout",
       "text": [
        "\n",
        "    density    : 7.3207942769e-07\n",
        "    shape      : (6264, 6264)\n",
        "    nnz        : 1365972\n",
        "D Matrix info:\n",
        "    density    : 3.44531764106e-06\n",
        "    shape      : (6264, 6264)\n",
        "    nnz        : 290249\n",
        "MCEqRun::_init_default_matrices():Done filling matrices.\n",
        "MCEqRun::set_atm_model():  CORSIKA BK_USStd None\n",
        "MCEqRun::set_theta_deg():  90.0\n",
        "atmospheres::_load_cache(): loading cache.\n",
        "CorsikaAtmosphere::calculate_density_spline(): Calculating spline of rho(X) for zenith 90.0 degrees.\n",
        ".. took 4.68s"
       ]
      },
      {
       "output_type": "stream",
       "stream": "stdout",
       "text": [
        "\n",
        "Average spline error: 2.03840091719e-16\n",
        "density_profiles::_dump_cache() dumping cache.\n",
        "./data/atm_cache.ppd\n",
        "MCEqRun::set_primary_model(): "
       ]
      },
      {
       "output_type": "stream",
       "stream": "stdout",
       "text": [
        " HillasGaisser2012 H3a\n"
       ]
      }
     ],
     "prompt_number": 5
    },
    {
     "cell_type": "markdown",
     "metadata": {},
     "source": [
      "__________\n",
      "\n",
      "If everything succeeds than the last message should be something like\n",
      "\n",
      "`MCEqRun::set_primary_model():  HillasGaisser2012 H3a`.\n",
      "\n",
      "The spline interpolating the depth-density relation of an atmosphere will be caluclated and cached during the first run. \n",
      "\n",
      "Integrate\n",
      "---------\n",
      "Now, run the solve command to integrate the cascade equations starting from the top of the atmosphere\n",
      "down to the observation level `h_obs` (see config)."
     ]
    },
    {
     "cell_type": "code",
     "collapsed": false,
     "input": [
      "mceq_run.solve()"
     ],
     "language": "python",
     "metadata": {},
     "outputs": [
      {
       "output_type": "stream",
       "stream": "stderr",
       "text": [
        "  0% |                                                         | ETA:  --:--:--\r",
        "  1% |                                                          | ETA:  0:01:20\r"
       ]
      },
      {
       "output_type": "stream",
       "stream": "stderr",
       "text": [
        "  2% |#                                                         | ETA:  0:00:42\r",
        "  3% |#                                                         | ETA:  0:00:29\r",
        "  4% |##                                                        | ETA:  0:00:22\r"
       ]
      },
      {
       "output_type": "stream",
       "stream": "stderr",
       "text": [
        "  5% |##                                                        | ETA:  0:00:18\r",
        "  6% |###                                                       | ETA:  0:00:15\r",
        "  7% |####                                                      | ETA:  0:00:13\r",
        "  8% |####                                                      | ETA:  0:00:11\r",
        "  9% |#####                                                     | ETA:  0:00:10\r"
       ]
      },
      {
       "output_type": "stream",
       "stream": "stderr",
       "text": [
        " 10% |#####                                                     | ETA:  0:00:09\r",
        " 11% |######                                                    | ETA:  0:00:08\r",
        " 12% |######                                                    | ETA:  0:00:07\r",
        " 13% |#######                                                   | ETA:  0:00:07\r",
        " 14% |########                                                  | ETA:  0:00:06\r",
        " 15% |########                                                  | ETA:  0:00:06\r",
        " 16% |#########                                                 | ETA:  0:00:05\r"
       ]
      },
      {
       "output_type": "stream",
       "stream": "stderr",
       "text": [
        " 17% |#########                                                 | ETA:  0:00:05\r",
        " 18% |##########                                                | ETA:  0:00:05\r",
        " 19% |###########                                               | ETA:  0:00:04\r",
        " 20% |###########                                               | ETA:  0:00:04\r",
        " 21% |############                                              | ETA:  0:00:04\r",
        " 22% |############                                              | ETA:  0:00:04\r",
        " 23% |#############                                             | ETA:  0:00:03\r",
        " 24% |#############                                             | ETA:  0:00:03\r"
       ]
      },
      {
       "output_type": "stream",
       "stream": "stderr",
       "text": [
        " 25% |##############                                            | ETA:  0:00:03\r",
        " 26% |###############                                           | ETA:  0:00:03\r",
        " 27% |###############                                           | ETA:  0:00:03\r",
        " 28% |################                                          | ETA:  0:00:03\r",
        " 29% |################                                          | ETA:  0:00:02\r",
        " 30% |#################                                         | ETA:  0:00:02\r",
        " 31% |##################                                        | ETA:  0:00:02\r",
        " 32% |##################                                        | ETA:  0:00:02\r",
        " 33% |###################                                       | ETA:  0:00:02\r",
        " 34% |###################                                       | ETA:  0:00:02\r"
       ]
      },
      {
       "output_type": "stream",
       "stream": "stderr",
       "text": [
        " 35% |####################                                      | ETA:  0:00:02\r",
        " 36% |####################                                      | ETA:  0:00:02\r",
        " 37% |#####################                                     | ETA:  0:00:02\r",
        " 38% |######################                                    | ETA:  0:00:02\r",
        " 39% |######################                                    | ETA:  0:00:01\r",
        " 40% |#######################                                   | ETA:  0:00:01\r",
        " 41% |#######################                                   | ETA:  0:00:01\r",
        " 42% |########################                                  | ETA:  0:00:01\r",
        " 43% |########################                                  | ETA:  0:00:01\r",
        " 44% |#########################                                 | ETA:  0:00:01\r",
        " 45% |##########################                                | ETA:  0:00:01\r"
       ]
      },
      {
       "output_type": "stream",
       "stream": "stderr",
       "text": [
        " 46% |##########################                                | ETA:  0:00:01\r",
        " 47% |###########################                               | ETA:  0:00:01\r",
        " 48% |###########################                               | ETA:  0:00:01\r",
        " 49% |############################                              | ETA:  0:00:01\r",
        " 50% |#############################                             | ETA:  0:00:01\r",
        " 51% |#############################                             | ETA:  0:00:01\r",
        " 52% |##############################                            | ETA:  0:00:01\r",
        " 53% |##############################                            | ETA:  0:00:01\r",
        " 54% |###############################                           | ETA:  0:00:01\r",
        " 55% |###############################                           | ETA:  0:00:01\r",
        " 56% |################################                          | ETA:  0:00:01\r",
        " 57% |#################################                         | ETA:  0:00:00\r",
        " 58% |#################################                         | ETA:  0:00:00\r"
       ]
      },
      {
       "output_type": "stream",
       "stream": "stderr",
       "text": [
        " 59% |##################################                        | ETA:  0:00:00\r",
        " 60% |##################################                        | ETA:  0:00:00\r",
        " 61% |###################################                       | ETA:  0:00:00\r",
        " 62% |####################################                      | ETA:  0:00:00\r",
        " 63% |####################################                      | ETA:  0:00:00\r",
        " 64% |#####################################                     | ETA:  0:00:00\r",
        " 65% |#####################################                     | ETA:  0:00:00\r",
        " 66% |######################################                    | ETA:  0:00:00\r",
        " 67% |######################################                    | ETA:  0:00:00\r",
        " 68% |#######################################                   | ETA:  0:00:00\r",
        " 69% |########################################                  | ETA:  0:00:00\r",
        " 70% |########################################                  | ETA:  0:00:00\r",
        " 71% |#########################################                 | ETA:  0:00:00\r",
        " 72% |#########################################                 | ETA:  0:00:00\r"
       ]
      },
      {
       "output_type": "stream",
       "stream": "stderr",
       "text": [
        " 73% |##########################################                | ETA:  0:00:00\r",
        " 74% |###########################################               | ETA:  0:00:00\r",
        " 75% |###########################################               | ETA:  0:00:00\r",
        " 76% |############################################              | ETA:  0:00:00\r",
        " 77% |############################################              | ETA:  0:00:00\r",
        " 78% |#############################################             | ETA:  0:00:00\r",
        " 79% |#############################################             | ETA:  0:00:00\r",
        " 80% |##############################################            | ETA:  0:00:00\r",
        " 81% |###############################################           | ETA:  0:00:00\r",
        " 82% |###############################################           | ETA:  0:00:00\r",
        " 83% |################################################          | ETA:  0:00:00\r",
        " 84% |################################################          | ETA:  0:00:00\r",
        " 85% |#################################################         | ETA:  0:00:00\r",
        " 86% |##################################################        | ETA:  0:00:00\r"
       ]
      },
      {
       "output_type": "stream",
       "stream": "stdout",
       "text": [
        "MCEqRun::_calculate_integration_path():\n",
        "MCEqRun::_forward_euler(): Solver will perform 50480 integration steps."
       ]
      },
      {
       "output_type": "stream",
       "stream": "stderr",
       "text": [
        " 87% |##################################################        | ETA:  0:00:00\r",
        " 88% |###################################################       | ETA:  0:00:00\r",
        " 89% |###################################################       | ETA:  0:00:00\r",
        " 90% |####################################################      | ETA:  0:00:00\r",
        " 91% |####################################################      | ETA:  0:00:00\r",
        " 92% |#####################################################     | ETA:  0:00:00\r",
        " 93% |######################################################    | ETA:  0:00:00\r",
        " 94% |######################################################    | ETA:  0:00:00\r",
        " 95% |#######################################################   | ETA:  0:00:00\r",
        " 96% |#######################################################   | ETA:  0:00:00\r",
        " 97% |########################################################  | ETA:  0:00:00\r",
        " 98% |######################################################### | ETA:  0:00:00\r",
        " 99% |######################################################### | ETA:  0:00:00\r",
        "100% |##########################################################| Time: 0:00:01\r\n",
        "  0% |                                                         | ETA:  --:--:--\r"
       ]
      },
      {
       "output_type": "stream",
       "stream": "stderr",
       "text": [
        "  1% |                                                          | ETA:  0:01:05\r",
        "  2% |#                                                         | ETA:  0:01:07\r"
       ]
      },
      {
       "output_type": "stream",
       "stream": "stderr",
       "text": [
        "  3% |#                                                         | ETA:  0:01:05\r",
        "  4% |##                                                        | ETA:  0:01:04\r"
       ]
      },
      {
       "output_type": "stream",
       "stream": "stderr",
       "text": [
        "  5% |##                                                        | ETA:  0:01:03\r",
        "  6% |###                                                       | ETA:  0:01:02\r"
       ]
      },
      {
       "output_type": "stream",
       "stream": "stderr",
       "text": [
        "  7% |####                                                      | ETA:  0:01:01\r",
        "  8% |####                                                      | ETA:  0:01:01\r"
       ]
      },
      {
       "output_type": "stream",
       "stream": "stderr",
       "text": [
        "  9% |#####                                                     | ETA:  0:01:01\r",
        " 10% |#####                                                     | ETA:  0:01:00\r"
       ]
      },
      {
       "output_type": "stream",
       "stream": "stderr",
       "text": [
        " 11% |######                                                    | ETA:  0:00:59\r",
        " 12% |######                                                    | ETA:  0:00:58\r"
       ]
      },
      {
       "output_type": "stream",
       "stream": "stderr",
       "text": [
        " 13% |#######                                                   | ETA:  0:00:57\r",
        " 14% |########                                                  | ETA:  0:00:57\r"
       ]
      },
      {
       "output_type": "stream",
       "stream": "stderr",
       "text": [
        " 15% |########                                                  | ETA:  0:00:56\r",
        " 16% |#########                                                 | ETA:  0:00:56\r"
       ]
      },
      {
       "output_type": "stream",
       "stream": "stderr",
       "text": [
        " 17% |#########                                                 | ETA:  0:00:55\r",
        " 18% |##########                                                | ETA:  0:00:54\r"
       ]
      },
      {
       "output_type": "stream",
       "stream": "stderr",
       "text": [
        " 19% |###########                                               | ETA:  0:00:54\r",
        " 20% |###########                                               | ETA:  0:00:54\r"
       ]
      },
      {
       "output_type": "stream",
       "stream": "stderr",
       "text": [
        " 21% |############                                              | ETA:  0:00:53\r",
        " 22% |############                                              | ETA:  0:00:52\r"
       ]
      },
      {
       "output_type": "stream",
       "stream": "stderr",
       "text": [
        " 23% |#############                                             | ETA:  0:00:52\r",
        " 24% |#############                                             | ETA:  0:00:51\r"
       ]
      },
      {
       "output_type": "stream",
       "stream": "stderr",
       "text": [
        " 25% |##############                                            | ETA:  0:00:50\r",
        " 26% |###############                                           | ETA:  0:00:50\r"
       ]
      },
      {
       "output_type": "stream",
       "stream": "stderr",
       "text": [
        " 27% |###############                                           | ETA:  0:00:49\r",
        " 28% |################                                          | ETA:  0:00:48\r"
       ]
      },
      {
       "output_type": "stream",
       "stream": "stderr",
       "text": [
        " 29% |################                                          | ETA:  0:00:48\r",
        " 30% |#################                                         | ETA:  0:00:47\r"
       ]
      },
      {
       "output_type": "stream",
       "stream": "stderr",
       "text": [
        " 31% |#################                                         | ETA:  0:00:46\r",
        " 32% |##################                                        | ETA:  0:00:46\r"
       ]
      },
      {
       "output_type": "stream",
       "stream": "stderr",
       "text": [
        " 33% |###################                                       | ETA:  0:00:45\r",
        " 34% |###################                                       | ETA:  0:00:44\r"
       ]
      },
      {
       "output_type": "stream",
       "stream": "stderr",
       "text": [
        " 35% |####################                                      | ETA:  0:00:43\r",
        " 36% |####################                                      | ETA:  0:00:43\r"
       ]
      },
      {
       "output_type": "stream",
       "stream": "stderr",
       "text": [
        " 37% |#####################                                     | ETA:  0:00:42\r",
        " 38% |######################                                    | ETA:  0:00:41\r"
       ]
      },
      {
       "output_type": "stream",
       "stream": "stderr",
       "text": [
        " 39% |######################                                    | ETA:  0:00:41\r",
        " 40% |#######################                                   | ETA:  0:00:40\r"
       ]
      },
      {
       "output_type": "stream",
       "stream": "stderr",
       "text": [
        " 41% |#######################                                   | ETA:  0:00:39\r",
        " 42% |########################                                  | ETA:  0:00:39\r"
       ]
      },
      {
       "output_type": "stream",
       "stream": "stderr",
       "text": [
        " 43% |########################                                  | ETA:  0:00:38\r",
        " 44% |#########################                                 | ETA:  0:00:37\r"
       ]
      },
      {
       "output_type": "stream",
       "stream": "stderr",
       "text": [
        " 45% |##########################                                | ETA:  0:00:36\r",
        " 46% |##########################                                | ETA:  0:00:36\r"
       ]
      },
      {
       "output_type": "stream",
       "stream": "stderr",
       "text": [
        " 47% |###########################                               | ETA:  0:00:35\r",
        " 48% |###########################                               | ETA:  0:00:34\r"
       ]
      },
      {
       "output_type": "stream",
       "stream": "stderr",
       "text": [
        " 49% |############################                              | ETA:  0:00:34\r",
        " 50% |#############################                             | ETA:  0:00:33\r"
       ]
      },
      {
       "output_type": "stream",
       "stream": "stderr",
       "text": [
        " 51% |#############################                             | ETA:  0:00:32\r",
        " 52% |##############################                            | ETA:  0:00:32\r"
       ]
      },
      {
       "output_type": "stream",
       "stream": "stderr",
       "text": [
        " 53% |##############################                            | ETA:  0:00:31\r",
        " 54% |###############################                           | ETA:  0:00:30\r"
       ]
      },
      {
       "output_type": "stream",
       "stream": "stderr",
       "text": [
        " 55% |###############################                           | ETA:  0:00:29\r",
        " 56% |################################                          | ETA:  0:00:29\r"
       ]
      },
      {
       "output_type": "stream",
       "stream": "stderr",
       "text": [
        " 57% |#################################                         | ETA:  0:00:28\r",
        " 58% |#################################                         | ETA:  0:00:28\r"
       ]
      },
      {
       "output_type": "stream",
       "stream": "stderr",
       "text": [
        " 59% |##################################                        | ETA:  0:00:27\r",
        " 60% |##################################                        | ETA:  0:00:26\r"
       ]
      },
      {
       "output_type": "stream",
       "stream": "stderr",
       "text": [
        " 61% |###################################                       | ETA:  0:00:26\r",
        " 62% |###################################                       | ETA:  0:00:25\r"
       ]
      },
      {
       "output_type": "stream",
       "stream": "stderr",
       "text": [
        " 63% |####################################                      | ETA:  0:00:24\r",
        " 64% |#####################################                     | ETA:  0:00:24\r"
       ]
      },
      {
       "output_type": "stream",
       "stream": "stderr",
       "text": [
        " 65% |#####################################                     | ETA:  0:00:23\r",
        " 66% |######################################                    | ETA:  0:00:22\r"
       ]
      },
      {
       "output_type": "stream",
       "stream": "stderr",
       "text": [
        " 67% |######################################                    | ETA:  0:00:22\r",
        " 68% |#######################################                   | ETA:  0:00:21\r"
       ]
      },
      {
       "output_type": "stream",
       "stream": "stderr",
       "text": [
        " 69% |########################################                  | ETA:  0:00:20\r",
        " 70% |########################################                  | ETA:  0:00:20\r"
       ]
      },
      {
       "output_type": "stream",
       "stream": "stderr",
       "text": [
        " 71% |#########################################                 | ETA:  0:00:19\r",
        " 72% |#########################################                 | ETA:  0:00:18\r"
       ]
      },
      {
       "output_type": "stream",
       "stream": "stderr",
       "text": [
        " 73% |##########################################                | ETA:  0:00:18\r",
        " 74% |##########################################                | ETA:  0:00:17\r"
       ]
      },
      {
       "output_type": "stream",
       "stream": "stderr",
       "text": [
        " 75% |###########################################               | ETA:  0:00:16\r",
        " 76% |############################################              | ETA:  0:00:16\r"
       ]
      },
      {
       "output_type": "stream",
       "stream": "stderr",
       "text": [
        " 77% |############################################              | ETA:  0:00:15\r",
        " 78% |#############################################             | ETA:  0:00:14\r"
       ]
      },
      {
       "output_type": "stream",
       "stream": "stderr",
       "text": [
        " 79% |#############################################             | ETA:  0:00:14\r",
        " 80% |##############################################            | ETA:  0:00:13\r"
       ]
      },
      {
       "output_type": "stream",
       "stream": "stderr",
       "text": [
        " 81% |##############################################            | ETA:  0:00:12\r",
        " 82% |###############################################           | ETA:  0:00:12\r"
       ]
      },
      {
       "output_type": "stream",
       "stream": "stderr",
       "text": [
        " 83% |################################################          | ETA:  0:00:11\r",
        " 84% |################################################          | ETA:  0:00:10\r"
       ]
      },
      {
       "output_type": "stream",
       "stream": "stderr",
       "text": [
        " 85% |#################################################         | ETA:  0:00:10\r",
        " 86% |#################################################         | ETA:  0:00:09\r"
       ]
      },
      {
       "output_type": "stream",
       "stream": "stderr",
       "text": [
        " 87% |##################################################        | ETA:  0:00:08\r",
        " 88% |###################################################       | ETA:  0:00:08\r"
       ]
      },
      {
       "output_type": "stream",
       "stream": "stderr",
       "text": [
        " 89% |###################################################       | ETA:  0:00:07\r",
        " 90% |####################################################      | ETA:  0:00:06\r"
       ]
      },
      {
       "output_type": "stream",
       "stream": "stderr",
       "text": [
        " 91% |####################################################      | ETA:  0:00:06\r",
        " 92% |#####################################################     | ETA:  0:00:05\r"
       ]
      },
      {
       "output_type": "stream",
       "stream": "stderr",
       "text": [
        " 93% |#####################################################     | ETA:  0:00:04\r",
        " 94% |######################################################    | ETA:  0:00:03\r"
       ]
      },
      {
       "output_type": "stream",
       "stream": "stderr",
       "text": [
        " 95% |#######################################################   | ETA:  0:00:03\r",
        " 96% |#######################################################   | ETA:  0:00:02\r"
       ]
      },
      {
       "output_type": "stream",
       "stream": "stderr",
       "text": [
        " 96% |########################################################  | ETA:  0:00:02\r",
        " 97% |########################################################  | ETA:  0:00:01\r"
       ]
      },
      {
       "output_type": "stream",
       "stream": "stderr",
       "text": [
        " 98% |########################################################  | ETA:  0:00:01\r",
        " 98% |######################################################### | ETA:  0:00:01\r"
       ]
      },
      {
       "output_type": "stream",
       "stream": "stderr",
       "text": [
        " 98% |######################################################### | ETA:  0:00:00\r",
        " 99% |######################################################### | ETA:  0:00:00\r"
       ]
      },
      {
       "output_type": "stream",
       "stream": "stderr",
       "text": [
        " 99% |######################################################### | ETA:  0:00:00\r",
        "100% |##########################################################| Time: 0:01:12\r"
       ]
      },
      {
       "output_type": "stream",
       "stream": "stdout",
       "text": [
        "\n",
        "\n",
        "MCEqRun::_forward_euler(): time elapsed during integration: 72.1733789444 sec"
       ]
      },
      {
       "output_type": "stream",
       "stream": "stdout",
       "text": [
        "\n"
       ]
      },
      {
       "output_type": "stream",
       "stream": "stderr",
       "text": [
        "\n"
       ]
      }
     ],
     "prompt_number": 6
    },
    {
     "cell_type": "markdown",
     "metadata": {},
     "source": [
      "Retrieve results\n",
      "----------------"
     ]
    },
    {
     "cell_type": "code",
     "collapsed": false,
     "input": [
      "#Power of energy to scale the flux\n",
      "mag = 3\n",
      "\n",
      "#obtain energy grid (nver changes) of the solution for the x-axis of the plots\n",
      "e_grid = mceq_run.e_grid\n",
      "\n",
      "#Retrieve the flux at the surface by using the aliases which were listed in the\n",
      "#output during the MCEqRun initialization. \n",
      "flux = {}\n",
      "#_conv means conventional (mostly pions and kaons)\n",
      "flux['mu_conv'] = (mceq_run.get_solution('conv_mu+', mag)\n",
      "                   + mceq_run.get_solution('conv_mu-', mag))\n",
      "\n",
      "# _pr means prompt (the mother of the muon had a critical energy\n",
      "# higher than a D meson. Includes all charm and direct resonance\n",
      "# contribution)\n",
      "flux['mu_pr'] = (mceq_run.get_solution('pr_mu+', mag)\n",
      "                 + mceq_run.get_solution('pr_mu-', mag))\n",
      "\n",
      "# total means conventional + prompt\n",
      "flux['mu_total'] = (mceq_run.get_solution('total_mu+', mag)\n",
      "                    + mceq_run.get_solution('total_mu-', mag))\n",
      "\n",
      "# same meaning of prefixes for muon neutrinos as for muons\n",
      "flux['numu_conv'] = (mceq_run.get_solution('conv_numu', mag)\n",
      "                     + mceq_run.get_solution('conv_antinumu', mag))\n",
      "\n",
      "flux['numu_pr'] = (mceq_run.get_solution('pr_numu', mag)\n",
      "                   + mceq_run.get_solution('pr_antinumu', mag))\n",
      "\n",
      "flux['numu_total'] = (mceq_run.get_solution('total_numu', mag)\n",
      "                      + mceq_run.get_solution('total_antinumu', mag))\n",
      "\n",
      "# same meaning of prefixes for electron neutrinos as for muons\n",
      "flux['nue_conv'] = (mceq_run.get_solution('conv_nue', mag)\n",
      "                    + mceq_run.get_solution('conv_antinue', mag))\n",
      "\n",
      "flux['nue_pr'] = (mceq_run.get_solution('pr_nue', mag)\n",
      "                  + mceq_run.get_solution('pr_antinue', mag))\n",
      "\n",
      "flux['nue_total'] = (mceq_run.get_solution('total_nue', mag)\n",
      "                     + mceq_run.get_solution('total_antinue', mag))\n",
      "\n",
      "\n",
      "# since there are no conventional tau neutrinos, prompt=total\n",
      "flux['nutau_pr'] = (mceq_run.get_solution('total_nutau', mag)\n",
      "                    + mceq_run.get_solution('total_antinutau', mag))"
     ],
     "language": "python",
     "metadata": {},
     "outputs": [],
     "prompt_number": 7
    },
    {
     "cell_type": "markdown",
     "metadata": {},
     "source": [
      "Plot with matplotlib\n",
      "--------------------"
     ]
    },
    {
     "cell_type": "code",
     "collapsed": false,
     "input": [
      "#get path of the home directory + Desktop\n",
      "save_pdf = False\n",
      "desktop = os.path.join(os.path.expanduser(\"~\"),'Desktop')\n",
      "\n",
      "for pref, lab in [('mu_',r'\\mu'), ('numu_',r'\\nu_\\mu'), ('nue_',r'\\nu_e')]:\n",
      "    plt.figure(figsize=(4., 3))\n",
      "    plt.loglog(e_grid, flux[pref + 'total'], color='k', ls='-', lw=1.5)\n",
      "    plt.loglog(e_grid, flux[pref + 'conv'], color='b', ls='-.', lw=1.5,\n",
      "               label=r'conventional ${0}$'.format(lab))\n",
      "    plt.loglog(e_grid, flux[pref + 'pr'], color='r',ls='--', lw=1.5, \n",
      "               label='prompt ${0}$'.format(lab))\n",
      "    plt.xlim(50,1e9)\n",
      "    plt.ylim(1e-6,1)\n",
      "    plt.xlabel(r\"$E_{{{0}}}$ [GeV]\".format(lab))\n",
      "    plt.ylabel(r\"$\\Phi_{\" + lab + \"}$ (E/GeV)$^{\" + str(mag) +\" }$\" + \n",
      "               \"(cm$^{2}$ s sr GeV)$^{-1}$\")\n",
      "    plt.legend(loc='upper right')\n",
      "    plt.tight_layout()\n",
      "    if save_pdf: plt.savefig(os.path.join(desktop, pref + 'flux.pdf'))\n",
      "\n",
      "pref = 'nutau'\n",
      "if np.any(flux[pref + '_pr']): #for models without prompt -> no nutau\n",
      "    plt.figure(figsize=(4., 3))\n",
      "    lab = r'\\nu_\\tau'\n",
      "    plt.loglog(e_grid, flux[pref + '_pr'], color='k', ls='-', lw=1.5,\n",
      "               label='prompt ${0}$'.format(lab))\n",
      "    plt.xlim(50,1e9)\n",
      "    plt.ylim(1e-8,1e-3)\n",
      "    plt.xlabel(r\"$E_{{{0}}}$ [GeV]\".format(lab))\n",
      "    plt.ylabel(r\"$\\Phi_{\" + lab + \"}$ (E/GeV)$^{\" + str(mag) +\" }$\" + \n",
      "               \"(cm$^{2}$ s sr GeV)$^{-1}$\")\n",
      "    plt.legend(loc='upper right')\n",
      "    plt.tight_layout()\n",
      "    if save_pdf: plt.savefig(os.path.join(desktop, pref + 'flux.pdf'))"
     ],
     "language": "python",
     "metadata": {},
     "outputs": [
      {
       "metadata": {},
       "output_type": "display_data",
       "png": "[encoded data removed]",
       "text": [
        "<matplotlib.figure.Figure at 0x7f6b9a213990>"
       ]
      },
      {
       "metadata": {},
       "output_type": "display_data",
       "png": "[encoded data removed]",
       "text": [
        "<matplotlib.figure.Figure at 0x7f6bb18cc4d0>"
       ]
      },
      {
       "metadata": {},
       "output_type": "display_data",
       "png": "[encoded data removed]",
       "text": [
        "<matplotlib.figure.Figure at 0x7f6bb1623950>"
       ]
      },
      {
       "metadata": {},
       "output_type": "display_data",
       "png": "[encoded data removed]",
       "text": [
        "<matplotlib.figure.Figure at 0x7f6b9a213790>"
       ]
      }
     ],
     "prompt_number": 8
    },
    {
     "cell_type": "markdown",
     "metadata": {},
     "source": [
      "Save as in ASCII file for other types of processing\n",
      "---------------------------------------------------"
     ]
    },
    {
     "cell_type": "code",
     "collapsed": false,
     "input": [
      "np.savetxt(open(os.path.join(desktop, 'my_flux_calculation.txt'),'w'),\n",
      "zip(e_grid, \n",
      "    flux['mu_conv'],flux['mu_pr'],flux['mu_total'],\n",
      "    flux['numu_conv'],flux['numu_pr'],flux['numu_total'],\n",
      "    flux['nue_conv'],flux['nue_pr'],flux['nue_total'],\n",
      "    flux['nutau_pr']),\n",
      "fmt='%6.5E',\n",
      "header=('lepton flux in scaled with E**{0}. Order (E, mu_conv, mu_pr, mu_total, ' +\n",
      "        'numu_conv, numu_pr, numu_total, nue_conv, nue_pr, nue_total, ' +\n",
      "        'nutau_pr').format(mag)\n",
      ")"
     ],
     "language": "python",
     "metadata": {},
     "outputs": [],
     "prompt_number": 23
    }
   ],
   "metadata": {}
  }
 ]
}