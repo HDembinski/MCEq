{
 "cells": [
  {
   "cell_type": "markdown",
   "metadata": {},
   "source": [
    "Simple muon and neutrino flux calculation\n",
    "-----------------------------------------\n",
    "\n",
    "This notebook demonstrates the basic use case of the solver. It calculates the atmospheric lepton flux, taking most of the configuration values from the 'global' config file `mceq_config.py`. The interaction model and the primary cosmic ray flux model are selected during initialization."
   ]
  },
  {
   "cell_type": "code",
   "execution_count": 1,
   "metadata": {
    "collapsed": false
   },
   "outputs": [],
   "source": [
    "#basic imports and ipython setup\n",
    "%load_ext autoreload\n",
    "%matplotlib inline\n",
    "%autoreload 2\n",
    "import os\n",
    "import matplotlib.pyplot as plt\n",
    "import numpy as np\n",
    "os.chdir('..')\n",
    "\n",
    "#import solver related modules\n",
    "from MCEq.core import MCEqRun\n",
    "from mceq_config import config\n",
    "#import primary model choices\n",
    "import CRFluxModels as pm"
   ]
  },
  {
   "cell_type": "markdown",
   "metadata": {},
   "source": [
    "Create an instance of an MCEqRun class. Most of its areguments are contained in the `config` dictionary from the `mceq_config` module. Look into or edit `mceq_config.py`.\n",
    "\n",
    "If the initialization succeeds it will print out some information according to the debug level. "
   ]
  },
  {
   "cell_type": "code",
   "execution_count": 2,
   "metadata": {
    "collapsed": false
   },
   "outputs": [
    {
     "name": "stdout",
     "output_type": "stream",
     "text": [
      "InteractionYields::_load(): entering..\n",
      "/afs/ifh.de/group/that/work-af/git/MCEq/data/SIBYLL21_yields.ppd\n",
      "InteractionYields::_gen_index(): entering..\n",
      "SIBYLL2.1 SIBYLL2.1\n",
      "InteractionYields:set_interaction_model():: Model SIBYLL2.1 already loaded.\n",
      "MCEqRun::_gen_list_of_particles():Generating particle list.\n",
      "MCEqRun::_init_alias_tables():Initializing links to alias IDs.\n",
      "\n",
      "Hadrons:\n",
      "\n",
      "\"p-bar\", \"p\", \"gamma\", \"n-bar\", \"n\", \"pi+\", \"pi-\"\n",
      "\n",
      "Mixed:\n",
      "\n",
      "\"K0L\", \"K+\", \"K-\", \"Lambda0-bar\", \"Lambda0\", \"Xi0-bar\", \"Xi0\", \"K0S\", \n",
      "\"Xi--bar\", \"Xi-\", \"Sigma--bar\", \"Sigma-\", \"Sigma+-bar\", \"Sigma+\", \"Omega--bar\", \"Omega-\", \n",
      "\"D+\", \"D-\", \"Ds+\", \"Ds-\", \"D0\", \"D0-bar\", \"XiC+-bar\", \"XiC+\", \n",
      "\"tau+\", \"tau-\", \"LambdaC+-bar\", \"LambdaC+\", \"XiC0-bar\", \"XiC0\", \"OmegaC0-bar\", \"OmegaC0\", \n",
      "\"pi0\", \"eta\"\n",
      "\n",
      "Resonances:\n",
      "\n",
      "\"Sigma0-bar\", \"Sigma0\", \"D*+\", \"D*-\", \"eta*\", \"jpsi\", \"phi\", \"SigmaC0-bar\", \n",
      "\"SigmaC0\", \"SigmaC+-bar\", \"SigmaC+\", \"SigmaC++-bar\", \"SigmaC++\", \"omega\", \"Xi*0-bar\", \"Xi*0\", \n",
      "\"Xi*--bar\", \"Xi*-\", \"SigmaC*0-bar\", \"SigmaC*0\", \"SigmaC*++-bar\", \"SigmaC*++\", \"SigmaC*+-bar\", \"SigmaC*+\", \n",
      "\"K*0\", \"K*0-bar\", \"K*+\", \"K*-\", \"Sigma*+-bar\", \"Sigma*+\", \"Sigma*0-bar\", \"Sigma*0\", \n",
      "\"Sigma*--bar\", \"Sigma*-\", \"etaC\", \"rho+\", \"rho-\", \"rho0\", \"Delta--bar\", \"Delta0-bar\", \n",
      "\"Delta+-bar\", \"Delta++-bar\", \"Delta++\", \"Delta+\", \"Delta0\", \"Delta-\", \"D*0\", \"D*0-bar\", \n",
      "\"XiC*0-bar\", \"XiC*+-bar\", \"XiC*+\", \"XiC*0\", \"Ds*+\", \"Ds*-\"\n",
      "\n",
      "Leptons:\n",
      "\n",
      "\"e-\", \"nue\", \"numu\", \"nutau\", \"e+\", \"antinue\", \"antinumu\", \"antinutau\", \n",
      "\"mu-\", \"mu+\"\n",
      "\n",
      "Aliases:\n",
      "\"pr_e-\", \"pr_nue\", \"pr_numu\", \"pr_nutau\", \"pi_e-\", \"pi_nue\", \"pi_numu\", \"pi_nutau\", \n",
      "\"k_e-\", \"k_nue\", \"k_numu\", \"k_nutau\", \"obs_e-\", \"obs_nue\", \"obs_numu\", \"obs_nutau\", \n",
      "\"pr_e+\", \"pr_antinue\", \"pr_antinumu\", \"pr_antinutau\", \"pi_e+\", \"pi_antinue\", \"pi_antinumu\", \"pi_antinutau\", \n",
      "\"k_e+\", \"k_antinue\", \"k_antinumu\", \"k_antinutau\", \"obs_e+\", \"obs_antinue\", \"obs_antinumu\", \"obs_antinutau\", \n",
      "\"pr_mu-\", \"pi_mu-\", \"k_mu-\", \"obs_mu-\", \"pr_mu+\", \"pi_mu+\", \"k_mu+\", \"obs_mu+\"\n",
      "\n",
      "Total number of species: 91\n",
      "MCEqRun::set_interaction_model():  SIBYLL2.1\n",
      "SIBYLL2.1 SIBYLL2.1\n",
      "InteractionYields:set_interaction_model():: Model SIBYLL2.1 already loaded.\n",
      "InteractionYields:set_interaction_model():: Model SIBYLL2.1 already loaded.\n",
      "MCEqRun::_init_default_matrices():Start filling matrices.\n",
      "MCEqRun::_convert_to_sparse():Converting to sparse (CSR) matrix format.\n",
      "C Matrix info:\n",
      "    density    : 1.19%\n",
      "    shape      : 8008 x 8008\n",
      "    nnz        : 762520\n",
      "    sum        : 398280839859.0\n",
      "D Matrix info:\n",
      "    density    : 0.92%\n",
      "    shape      : 8008 x 8008\n",
      "    nnz        : 588236\n",
      "    sum        : 5.12601599926\n",
      "MCEqRun::_init_default_matrices():Done filling matrices.\n",
      "MCEqRun::set_density_model():  CORSIKA ('BK_USStd', None)\n",
      "MCEqRun::set_theta_deg():  80.0\n",
      "CorsikaAtmosphere::calculate_density_spline(): Calculating spline of rho(X) for zenith 80.0 degrees.\n",
      ".. took 4.87s\n",
      "Average spline error: 1.98136710345e-16\n",
      "MCEqRun::_gen_list_of_particles():Generating particle list.\n",
      "MCEqRun::set_primary_model():  Thunman None\n"
     ]
    }
   ],
   "source": [
    "mceq_run = MCEqRun(\n",
    "#provide the string of the interaction model\n",
    "interaction_model='SIBYLL2.1',\n",
    "#primary cosmic ray flux model\n",
    "#support a tuple (primary model class (not instance!), arguments)\n",
    "primary_model=(pm.Thunman,None),#(pm.HillasGaisser2012, \"H3a\"),\n",
    "# Zenith angle in degrees. 0=vertical, 90=horizontal\n",
    "theta_deg=80.0,\n",
    "#expand the rest of the options from mceq_config.py\n",
    "**config\n",
    ")"
   ]
  },
  {
   "cell_type": "markdown",
   "metadata": {},
   "source": [
    "__________\n",
    "\n",
    "If everything succeeds than the last message should be something like\n",
    "\n",
    "`MCEqRun::set_primary_model():  HillasGaisser2012 H3a`.\n",
    "\n",
    "The spline interpolating the depth-density relation of an atmosphere will be caluclated and cached during the first run. \n",
    "\n",
    "Integrate\n",
    "---------\n",
    "Now, run the solve command to integrate the cascade equations starting from the top of the atmosphere\n",
    "down to the observation level `h_obs` (see config)."
   ]
  },
  {
   "cell_type": "code",
   "execution_count": 3,
   "metadata": {
    "collapsed": false
   },
   "outputs": [
    {
     "name": "stdout",
     "output_type": "stream",
     "text": [
      "MCEqRun::solve(): solver=euler and sparse=True\n",
      "MCEqRun::_calculate_integration_path():\n",
      "MCEqRun::_forward_euler(): Solver will perform 29342 integration steps.\n",
      "\n",
      "MCEqRun::_forward_euler(): time elapsed during integration: 18.0652019978 sec\n"
     ]
    }
   ],
   "source": [
    "mceq_run.solve()"
   ]
  },
  {
   "cell_type": "markdown",
   "metadata": {},
   "source": [
    "Retrieve results\n",
    "----------------"
   ]
  },
  {
   "cell_type": "code",
   "execution_count": 4,
   "metadata": {
    "collapsed": false
   },
   "outputs": [],
   "source": [
    "#Power of energy to scale the flux\n",
    "mag = 3\n",
    "\n",
    "#obtain energy grid (nver changes) of the solution for the x-axis of the plots\n",
    "e_grid = mceq_run.e_grid\n",
    "\n",
    "#Retrieve the flux at the surface by using the aliases which were listed in the\n",
    "#output during the MCEqRun initialization. \n",
    "flux = {}\n",
    "#_conv means conventional (mostly pions and kaons)\n",
    "flux['mu_conv'] = (mceq_run.get_solution('conv_mu+', mag)\n",
    "                   + mceq_run.get_solution('conv_mu-', mag))\n",
    "\n",
    "# _pr means prompt (the mother of the muon had a critical energy\n",
    "# higher than a D meson. Includes all charm and direct resonance\n",
    "# contribution)\n",
    "flux['mu_pr'] = (mceq_run.get_solution('pr_mu+', mag)\n",
    "                 + mceq_run.get_solution('pr_mu-', mag))\n",
    "\n",
    "# total means conventional + prompt\n",
    "flux['mu_total'] = (mceq_run.get_solution('total_mu+', mag)\n",
    "                    + mceq_run.get_solution('total_mu-', mag))\n",
    "\n",
    "# same meaning of prefixes for muon neutrinos as for muons\n",
    "flux['numu_conv'] = (mceq_run.get_solution('conv_numu', mag)\n",
    "                     + mceq_run.get_solution('conv_antinumu', mag))\n",
    "\n",
    "flux['numu_pr'] = (mceq_run.get_solution('pr_numu', mag)\n",
    "                   + mceq_run.get_solution('pr_antinumu', mag))\n",
    "\n",
    "flux['numu_total'] = (mceq_run.get_solution('total_numu', mag)\n",
    "                      + mceq_run.get_solution('total_antinumu', mag))\n",
    "\n",
    "# same meaning of prefixes for electron neutrinos as for muons\n",
    "flux['nue_conv'] = (mceq_run.get_solution('conv_nue', mag)\n",
    "                    + mceq_run.get_solution('conv_antinue', mag))\n",
    "\n",
    "flux['nue_pr'] = (mceq_run.get_solution('pr_nue', mag)\n",
    "                  + mceq_run.get_solution('pr_antinue', mag))\n",
    "\n",
    "flux['nue_total'] = (mceq_run.get_solution('total_nue', mag)\n",
    "                     + mceq_run.get_solution('total_antinue', mag))\n",
    "\n",
    "\n",
    "# since there are no conventional tau neutrinos, prompt=total\n",
    "flux['nutau_pr'] = (mceq_run.get_solution('total_nutau', mag)\n",
    "                    + mceq_run.get_solution('total_antinutau', mag))"
   ]
  },
  {
   "cell_type": "markdown",
   "metadata": {},
   "source": [
    "Plot with matplotlib\n",
    "--------------------"
   ]
  },
  {
   "cell_type": "code",
   "execution_count": 5,
   "metadata": {
    "collapsed": false
   },
   "outputs": [
    {
     "data": {
      "image/png": "[encoded data removed]",
      "text/plain": [
       "<matplotlib.figure.Figure at 0x7fbf8f473e90>"
      ]
     },
     "metadata": {},
     "output_type": "display_data"
    },
    {
     "data": {
      "image/png": "[encoded data removed]",
      "text/plain": [
       "<matplotlib.figure.Figure at 0x7fbf8b269990>"
      ]
     },
     "metadata": {},
     "output_type": "display_data"
    },
    {
     "data": {
      "image/png": "[encoded data removed]",
      "text/plain": [
       "<matplotlib.figure.Figure at 0x7fbf8adc6810>"
      ]
     },
     "metadata": {},
     "output_type": "display_data"
    }
   ],
   "source": [
    "#get path of the home directory + Desktop\n",
    "save_pdf = False\n",
    "desktop = os.path.join(os.path.expanduser(\"~\"),'Desktop')\n",
    "\n",
    "for pref, lab in [('mu_',r'\\mu'), ('numu_',r'\\nu_\\mu'), ('nue_',r'\\nu_e')]:\n",
    "    plt.figure(figsize=(4., 3))\n",
    "    plt.loglog(e_grid, flux[pref + 'total'], color='k', ls='-', lw=1.5)\n",
    "    plt.loglog(e_grid, flux[pref + 'conv'], color='b', ls='-.', lw=1.5,\n",
    "               label=r'conventional ${0}$'.format(lab))\n",
    "    plt.loglog(e_grid, flux[pref + 'pr'], color='r',ls='--', lw=1.5, \n",
    "               label='prompt ${0}$'.format(lab))\n",
    "    plt.xlim(1,1e9)\n",
    "    plt.ylim(1e-6,1)\n",
    "    plt.xlabel(r\"$E_{{{0}}}$ [GeV]\".format(lab))\n",
    "    plt.ylabel(r\"$\\Phi_{\" + lab + \"}$ (E/GeV)$^{\" + str(mag) +\" }$\" + \n",
    "               \"(cm$^{2}$ s sr GeV)$^{-1}$\")\n",
    "    plt.legend(loc='upper right')\n",
    "    plt.tight_layout()\n",
    "    if save_pdf: plt.savefig(os.path.join(desktop, pref + 'flux.eps'))\n",
    "\n",
    "pref = 'nutau'\n",
    "if np.any(flux[pref + '_pr']): #for models without prompt -> no nutau\n",
    "    plt.figure(figsize=(4., 3))\n",
    "    lab = r'\\nu_\\tau'\n",
    "    plt.loglog(e_grid, flux[pref + '_pr'], color='k', ls='-', lw=1.5,\n",
    "               label='prompt ${0}$'.format(lab))\n",
    "    plt.xlim(1,1e9)\n",
    "    plt.ylim(1e-8,1e-3)\n",
    "    plt.xlabel(r\"$E_{{{0}}}$ [GeV]\".format(lab))\n",
    "    plt.ylabel(r\"$\\Phi_{\" + lab + \"}$ (E/GeV)$^{\" + str(mag) +\" }$\" + \n",
    "               \"(cm$^{2}$ s sr GeV)$^{-1}$\")\n",
    "    plt.legend(loc='upper right')\n",
    "    plt.tight_layout()\n",
    "    if save_pdf: plt.savefig(os.path.join(desktop, pref + 'flux.eps'))"
   ]
  },
  {
   "cell_type": "markdown",
   "metadata": {},
   "source": [
    "Save as in ASCII file for other types of processing\n",
    "---------------------------------------------------"
   ]
  },
  {
   "cell_type": "code",
   "execution_count": null,
   "metadata": {
    "collapsed": false
   },
   "outputs": [],
   "source": [
    "np.savetxt(open(os.path.join(desktop, 'my_flux_calculation_decon.txt'),'w'),\n",
    "zip(e_grid, \n",
    "    flux['mu_conv'],flux['mu_pr'],flux['mu_total'],\n",
    "    flux['numu_conv'],flux['numu_pr'],flux['numu_total'],\n",
    "    flux['nue_conv'],flux['nue_pr'],flux['nue_total'],\n",
    "    flux['nutau_pr']),\n",
    "fmt='%6.5E',\n",
    "header=('lepton flux scaled with E**{0}. Order (E, mu_conv, mu_pr, mu_total, ' +\n",
    "        'numu_conv, numu_pr, numu_total, nue_conv, nue_pr, nue_total, ' +\n",
    "        'nutau_pr').format(mag)\n",
    ")"
   ]
  },
  {
   "cell_type": "code",
   "execution_count": 7,
   "metadata": {
    "collapsed": false
   },
   "outputs": [
    {
     "data": {
      "text/plain": [
       "array([ 0.,  0.,  0.,  0.,  0.,  0.,  0.,  0.,  0.,  0.,  0.,  0.,  0.,\n",
       "        0.,  0.,  0.,  0.,  0.,  0.,  0.,  0.,  0.,  0.,  0.,  0.,  0.,\n",
       "        0.,  0.,  0.,  0.,  0.,  0.,  0.,  0.,  0.,  0.,  0.,  0.,  0.,\n",
       "        0.,  0.,  0.,  0.,  0.,  0.,  0.,  0.,  0.,  0.,  0.,  0.,  0.,\n",
       "        0.,  0.,  0.,  0.,  0.,  0.,  0.,  0.,  0.,  0.,  0.,  0.,  0.,\n",
       "        0.,  0.,  0.,  0.,  0.,  0.,  0.,  0.,  0.,  0.,  0.,  0.,  0.,\n",
       "        0.,  0.,  0.,  0.,  0.,  0.,  0.,  0.,  0.,  0.])"
      ]
     },
     "execution_count": 7,
     "metadata": {},
     "output_type": "execute_result"
    }
   ],
   "source": [
    "mceq_run.pdg2pref[7213].inverse_decay_length(mceq_run.e_grid)"
   ]
  },
  {
   "cell_type": "code",
   "execution_count": null,
   "metadata": {
    "collapsed": false
   },
   "outputs": [],
   "source": [
    "np.sign(-13)"
   ]
  },
  {
   "cell_type": "code",
   "execution_count": null,
   "metadata": {
    "collapsed": true
   },
   "outputs": [],
   "source": []
  }
 ],
 "metadata": {
  "kernelspec": {
   "display_name": "Python 2",
   "language": "python",
   "name": "python2"
  },
  "language_info": {
   "codemirror_mode": {
    "name": "ipython",
    "version": 2
   },
   "file_extension": ".py",
   "mimetype": "text/x-python",
   "name": "python",
   "nbconvert_exporter": "python",
   "pygments_lexer": "ipython2",
   "version": "2.7.11"
  }
 },
 "nbformat": 4,
 "nbformat_minor": 0
}
