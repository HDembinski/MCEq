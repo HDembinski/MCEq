{
 "metadata": {
  "name": "",
  "signature": "sha256:ce200f55d2503bdcc14543935ee9620cc8b17db32f53e3c39e28fe08bd427df7"
 },
 "nbformat": 3,
 "nbformat_minor": 0,
 "worksheets": [
  {
   "cells": [
    {
     "cell_type": "code",
     "collapsed": false,
     "input": [
      "%load_ext autoreload\n",
      "%matplotlib inline"
     ],
     "language": "python",
     "metadata": {},
     "outputs": [],
     "prompt_number": 1
    },
    {
     "cell_type": "code",
     "collapsed": false,
     "input": [
      "%autoreload 2\n",
      "import os\n",
      "os.chdir('..')\n",
      "from NCE.core import NCERun\n",
      "from start import global_config_without\n",
      "import CRFluxModels as pm\n",
      "from NCE.misc import set_ticks_y, cornertext\n",
      "import matplotlib.pyplot as plt\n",
      "import numpy as np\n",
      "import cPickle as pickle\n",
      "from os.path import join\n",
      "from ParticleDataTool import SibyllParticleTable, PYTHIAParticleData\n",
      "\n",
      "data_dir = '/Users/afedynitch/Documents/KIT/artifacts/matrix_method/data_files'"
     ],
     "language": "python",
     "metadata": {},
     "outputs": [],
     "prompt_number": 2
    },
    {
     "cell_type": "code",
     "collapsed": false,
     "input": [
      "data_dir = '/Users/afedynitch/Documents/KIT/artifacts/matrix_method/data_files'\n",
      "\n",
      "global_config = {\n",
      " # Debug flag for verbose printing\n",
      " \"debug\":False,\n",
      " \n",
      " # Zenith angle in degrees. 0 means vertical, 90 is horizontal\n",
      " \"theta_deg\":0.,\n",
      " \n",
      " # File name where the particle production yields are stored\n",
      " \"yield_fname\":\"yield_dict.ppd\",\n",
      "\n",
      " # File name where the particle decay spectra are stored\n",
      " \"decay_fname\":\"decay_dict.ppd\",\n",
      " \n",
      " # Atmospheric model in the format: (model, parametrise ation, options)\n",
      " \"atm_model\":('CORSIKA', 'BK_USStd', None),\n",
      " \n",
      " # Selection of the solver type: MKL (sparse/dense), CUDA etc.\n",
      " \"solver_config\":(\"MKL\", True),\n",
      " \n",
      " # Directory where the data files for the claculation are stored\n",
      " \"data_dir\":data_dir,\n",
      " \n",
      " # Lepton species which should be accounted for. Usually no \n",
      " # change by user is necessary here \n",
      " \"lepton_species\":['mu+', 'mu-', 'pr_mu+', 'pr_mu-',\n",
      "                   'pi_mu+', 'pi_mu-', 'k_mu+', 'k_mu-',\n",
      "                   'obs_mu+', 'obs_mu-',\n",
      "                   'numu', 'antinumu', 'pr_numu', 'pr_antinumu',\n",
      "                   'pi_numu', 'pi_antinumu', 'k_numu', 'k_antinumu',\n",
      "                   'obs_numu', 'obs_antinumu',\n",
      "                   'nue', 'antinue', 'pr_nue', 'pr_antinue',\n",
      "                   'pi_nue', 'pi_antinue', 'k_nue', 'k_antinue',\n",
      "                   'obs_nue', 'obs_antinue',\n",
      "                   'nutau', 'antinutau', 'pr_nutau', 'pr_antinutau',\n",
      "                   'pi_nutau', 'pi_antinutau', 'k_nutau', 'k_antinutau',\n",
      "                   'obs_nutau', 'obs_antinutau'],\n",
      " \n",
      " # List of particles which decay products will be scored \n",
      " # in a 'obs_' category\n",
      " \"obs_ids\":None,  #  Example [\"eta\", \"eta*\", \"etaC\", \"omega\", \"phi\"],\n",
      "\n",
      " # Ratio of decay_length/interaction_length where particle interactions\n",
      " # are neglected and the resonance approximation is used\n",
      " \"hybrid_crossover\": 0.01,\n",
      " \n",
      " # If None the hadron species will be defined according to promptness_threshold\n",
      " \"hadr_species\":None,\n",
      " \n",
      " # Possibilities to control the solver\n",
      " \"vetos\":{\"veto_sec_interactions\":False,  # inhibit coupling/secondary production of mesons\n",
      "          \"veto_resonance_decay\":False,  # Disable resonance/prompt contribution \n",
      "          \"veto_hadrons\":[],\n",
      "          \"veto_resonances\":[],\n",
      "          \"allow_resonances\":[],\n",
      "          \"no_mixing\":False}}\n",
      "\n",
      "\n",
      "iam_colors = {'SIBYLL2.2_j14':'black',\n",
      "              'SIBYLL2.2_j14_mC':'red',\n",
      "              'SIBYLL2.2_june14':'blue',\n",
      "              'SIBYLL2.2_july14':'violet',\n",
      "              'SIBYLL2.2_july14_mC':'orange',\n",
      "              'SIBYLL2.2_aug14':'brown',\n",
      "              'SIBYLL2.3_rc1':'blue',\n",
      "              'SIBYLL2.2_icrc':'blue',\n",
      "              'SIBYLL2.1':'cyan',\n",
      "              'SIBYLL2.2_hyp':'violet',\n",
      "              'DPMJET-2.55':'green',\n",
      "              'QGSJET-II-04':'lightblue',\n",
      "              'QGSJET-II-03':'orange',\n",
      "              'QGSJET-01':'yellow'}\n",
      "\n",
      "\n",
      "#===============================================================================\n",
      "# global_config_without\n",
      "#===============================================================================\n",
      "def global_config_without(key_list):\n",
      "    r = dict(global_config)\n",
      "    for key in key_list:\n",
      "        del r[key]\n",
      "    return r"
     ],
     "language": "python",
     "metadata": {},
     "outputs": [],
     "prompt_number": 3
    },
    {
     "cell_type": "code",
     "collapsed": false,
     "input": [
      "nce_run = NCERun(**dict(interaction_model='SIBYLL2.3_rc1',\n",
      "                        primary_model=(pm.Thunman,None),\n",
      "                        **global_config))"
     ],
     "language": "python",
     "metadata": {},
     "outputs": [
      {
       "output_type": "stream",
       "stream": "stdout",
       "text": [
        "p 0 0\n",
        "p-bar 0 0\n",
        "n 0 0\n",
        "n-bar 0 0\n",
        "pi- 0 0\n",
        "pi+ 0 0\n",
        "K0L 0 0\n",
        "K- 0 0\n",
        "K+ 0 0\n",
        "Lambda0-bar 3 127.734124397\n",
        "Lambda0 3 127.734124397\n",
        "Xi0-bar 3 127.734124397\n",
        "Xi0 3 127.734124397\n",
        "K0S 5 217.215644829\n",
        "Xi--bar 5 217.215644829\n",
        "Xi- 5 217.215644829\n",
        "Sigma--bar 5 217.215644829\n",
        "Sigma- 5 217.215644829\n",
        "Sigma+-bar 7 369.381608723\n",
        "Sigma+ 7 369.381608723\n",
        "Omega--bar 8 481.689690904\n",
        "Omega- 8 481.689690904\n",
        "D- 26 57282.8807646\n",
        "D+ 26 57282.8807646\n",
        "Ds- 29 127028.4797\n",
        "Ds+ 29 127028.4797\n",
        "D0-bar 29 127028.4797\n",
        "D0 29 127028.4797\n",
        "XiC+-bar 29 127028.4797\n",
        "XiC+ 29 127028.4797\n",
        "tau+ 30 165650.664997\n",
        "tau- 30 165650.664997\n",
        "LambdaC+-bar 31 216015.675215\n",
        "LambdaC+ 31 216015.675215\n",
        "XiC0-bar 34 479028.680952\n",
        "XiC0 34 479028.680952\n",
        "OmegaC0-bar 36 814602.396313\n",
        "OmegaC0 36 814602.396313\n",
        "pi0 49 25688737.7918\n",
        "mu+ 0 0\n",
        "mu- 0 0\n",
        "pr_mu+ 0 0\n",
        "pr_mu- 0 0\n",
        "pi_mu+ 0 0\n",
        "pi_mu- 0 0\n",
        "k_mu+ 0 0\n",
        "k_mu- 0 0\n",
        "obs_mu+ 0 0\n",
        "obs_mu- 0 0\n",
        "numu 0 0\n",
        "antinumu 0 0\n",
        "pr_numu 0 0\n",
        "pr_antinumu 0 0\n",
        "pi_numu 0 0\n",
        "pi_antinumu 0 0\n",
        "k_numu 0 0\n",
        "k_antinumu 0 0\n",
        "obs_numu 0 0\n",
        "obs_antinumu 0 0\n",
        "nue 0 0\n",
        "antinue 0 0\n",
        "pr_nue 0 0\n",
        "pr_antinue 0 0\n",
        "pi_nue 0 0\n",
        "pi_antinue 0 0\n",
        "k_nue 0 0\n",
        "k_antinue 0 0\n",
        "obs_nue 0 0\n",
        "obs_antinue 0 0\n",
        "nutau 0 0\n",
        "antinutau 0 0\n",
        "pr_nutau 0 0\n",
        "pr_antinutau 0 0\n",
        "pi_nutau 0 0\n",
        "pi_antinutau 0 0\n",
        "k_nutau 0 0\n",
        "k_antinutau 0 0\n",
        "obs_nutau 0 0\n",
        "obs_antinutau 0 0\n",
        "eta 71 8834227882.58\n",
        "Sigma0-bar 71 8834227882.58\n",
        "Sigma0 71 8834227882.58\n",
        "D*- 71 8834227882.58\n",
        "D*+ 71 8834227882.58\n",
        "eta* 71 8834227882.58\n",
        "jpsi 71 8834227882.58\n",
        "phi 71 8834227882.58\n",
        "SigmaC0-bar 71 8834227882.58\n",
        "SigmaC0 71 8834227882.58\n",
        "SigmaC+-bar 71 8834227882.58\n",
        "SigmaC+ 71 8834227882.58\n",
        "SigmaC++-bar 71 8834227882.58\n",
        "SigmaC++ 71 8834227882.58\n",
        "omega 71 8834227882.58\n",
        "Xi*0-bar 71 8834227882.58\n",
        "Xi*0 71 8834227882.58\n",
        "Xi*--bar 71 8834227882.58\n",
        "Xi*- 71 8834227882.58\n",
        "SigmaC*0-bar 71 8834227882.58\n",
        "SigmaC*0 71 8834227882.58\n",
        "SigmaC*++-bar 71 8834227882.58\n",
        "SigmaC*++ 71 8834227882.58\n",
        "SigmaC*+-bar 71 8834227882.58\n",
        "SigmaC*+ 71 8834227882.58\n",
        "K*0-bar 71 8834227882.58\n",
        "K*0 71 8834227882.58\n",
        "K*- 71 8834227882.58\n",
        "K*+ 71 8834227882.58\n",
        "Sigma*+-bar 71 8834227882.58\n",
        "Sigma*+ 71 8834227882.58\n",
        "Sigma*0-bar 71 8834227882.58\n",
        "Sigma*0 71 8834227882.58\n",
        "Sigma*--bar 71 8834227882.58\n",
        "Sigma*- 71 8834227882.58\n",
        "etaC 71 8834227882.58\n",
        "rho- 71 8834227882.58\n",
        "rho0 71 8834227882.58\n",
        "rho+ 71 8834227882.58\n",
        "Delta++-bar 71 8834227882.58\n",
        "Delta+-bar 71 8834227882.58\n",
        "Delta0-bar 71 8834227882.58\n",
        "Delta--bar 71 8834227882.58\n",
        "Delta- 71 8834227882.58\n",
        "Delta0 71 8834227882.58\n",
        "Delta+ 71 8834227882.58\n",
        "Delta++ 71 8834227882.58\n",
        "D*0-bar 71 8834227882.58\n",
        "D*0 71 8834227882.58\n",
        "XiC*+-bar 71 8834227882.58\n",
        "XiC*0-bar 71 8834227882.58\n",
        "Ds*- 71 8834227882.58\n",
        "Ds*+ 71 8834227882.58\n",
        "XiC*0 71 8834227882.58\n",
        "XiC*+ 71 8834227882.58\n",
        "\n",
        "Hadrons:\n",
        "\"p\", \"p-bar\", \"n\", \"n-bar\", \"pi-\", \"pi+\", \"K0L\", \"K-\", \n",
        "\"K+\", \n",
        "\n",
        "Mixed:\n",
        "\"Lambda0-bar\", \"Lambda0\", \"Xi0-bar\", \"Xi0\", \"K0S\", \"Xi--bar\", \"Xi-\", \"Sigma--bar\", \n",
        "\"Sigma-\", \"Sigma+-bar\", \"Sigma+\", \"Omega--bar\", \"Omega-\", \"D-\", \"D+\", \"Ds-\", \n",
        "\"Ds+\", \"D0-bar\", \"D0\", \"XiC+-bar\", \"XiC+\", \"tau+\", \"tau-\", \"LambdaC+-bar\", \n",
        "\"LambdaC+\", \"XiC0-bar\", \"XiC0\", \"OmegaC0-bar\", \"OmegaC0\", \"pi0\", \n",
        "\n",
        "Resonances:\n",
        "\"eta\", \"Sigma0-bar\", \"Sigma0\", \"D*-\", \"D*+\", \"eta*\", \"jpsi\", \"phi\", \n",
        "\"SigmaC0-bar\", \"SigmaC0\", \"SigmaC+-bar\", \"SigmaC+\", \"SigmaC++-bar\", \"SigmaC++\", \"omega\", \"Xi*0-bar\", \n",
        "\"Xi*0\", \"Xi*--bar\", \"Xi*-\", \"SigmaC*0-bar\", \"SigmaC*0\", \"SigmaC*++-bar\", \"SigmaC*++\", \"SigmaC*+-bar\", \n",
        "\"SigmaC*+\", \"K*0-bar\", \"K*0\", \"K*-\", \"K*+\", \"Sigma*+-bar\", \"Sigma*+\", \"Sigma*0-bar\", \n",
        "\"Sigma*0\", \"Sigma*--bar\", \"Sigma*-\", \"etaC\", \"rho-\", \"rho0\", \"rho+\", \"Delta++-bar\", \n",
        "\"Delta+-bar\", \"Delta0-bar\", \"Delta--bar\", \"Delta-\", \"Delta0\", \"Delta+\", \"Delta++\", \"D*0-bar\", \n",
        "\"D*0\", \"XiC*+-bar\", \"XiC*0-bar\", \"Ds*-\", \"Ds*+\", \"XiC*0\", \"XiC*+\", \n",
        "\n",
        "Leptons:\n",
        "\"mu+\", \"mu-\", \"numu\", \"antinumu\", \"nue\", \"antinue\", \"nutau\", \"antinutau\", \n",
        "\n",
        "\n",
        "Aliases:\n",
        "\"pr_mu+\", \"pr_mu-\", \"pi_mu+\", \"pi_mu-\", \"k_mu+\", \"k_mu-\", \"obs_mu+\", \"obs_mu-\", \n",
        "\"pr_numu\", \"pr_antinumu\", \"pi_numu\", \"pi_antinumu\", \"k_numu\", \"k_antinumu\", \"obs_numu\", \"obs_antinumu\", \n",
        "\"pr_nue\", \"pr_antinue\", \"pi_nue\", \"pi_antinue\", \"k_nue\", \"k_antinue\", \"obs_nue\", \"obs_antinue\", \n",
        "\"pr_nutau\", \"pr_antinutau\", \"pi_nutau\", \"pi_antinutau\", \"k_nutau\", \"k_antinutau\", \"obs_nutau\", \"obs_antinutau\", \n",
        "\n",
        "\n",
        "Total number of species: 79\n",
        "Yields:set_interaction_model():: Model SIBYLL2.3_rc1 already loaded.\n",
        "Start filling matrices.\n",
        "Done filling matrices."
       ]
      },
      {
       "output_type": "stream",
       "stream": "stdout",
       "text": [
        "\n",
        "load cache."
       ]
      },
      {
       "output_type": "stream",
       "stream": "stdout",
       "text": [
        "\n"
       ]
      }
     ],
     "prompt_number": 4
    },
    {
     "cell_type": "code",
     "collapsed": false,
     "input": [
      "res_groups = [\n",
      "    ([\"D+\", \"D-\", \"D0\", \"D0-bar\", \"D*+\", \"D*-\", \"D*0\", \"D*0-bar\"], r\"$D^\\pm + D^0$\"),\n",
      "    ([\"Ds+\", \"Ds-\"], r\"$D_s$\"),\n",
      "    ([\"K0S\"], r\"$K^0_s$\"),\n",
      "    ([\"K0L\"], r\"$K^0_L$\"),\n",
      "    ([\"LambdaC+\", \"LambdaC+-bar\"], r'$\\Lambda_C$'),\n",
      "    ([\"OmegaC0\", \"OmegaC0-bar\", \"XiC+\", \n",
      "      \"XiC+-bar\", \"XiC0\", \"XiC0-bar\", \n",
      "      \"SigmaC*+\", \"SigmaC*++\", \"tau+\", \"tau-\", \n",
      "      \"SigmaC*++-bar\", \"SigmaC*+-bar\", \"SigmaC*0\", \n",
      "      \"SigmaC*0-bar\", \"SigmaC+\", \"SigmaC++\", \n",
      "      \"SigmaC++-bar\", \"SigmaC+-bar\", \"SigmaC0\", \n",
      "      \"SigmaC0-bar\"], r\"other prompt\"),\n",
      "    ([\"K0S\", \"K0L\", \"n\", \"n-bar\", \"p\", \"p-bar\", \n",
      "      \"Lambda0\", \"Lambda0-bar\", \"Sigma-\", \n",
      "      \"Sigma--bar\", \"Xi-\", \"Xi--bar\", \"Xi0\", \n",
      "      \"Xi0-bar\", \"Delta-\", \"Delta--bar\", \"Delta0\", \n",
      "      \"Delta0-bar\", \"K*+\", \"K*-\", \"K*0\", \"K*0-bar\", \n",
      "      \"Omega-\", \"Omega--bar\", \"Sigma*+\", \"Sigma*+-bar\", \n",
      "      \"Sigma*-\", \"Sigma*--bar\", \"Sigma*0\", \"Sigma*0-bar\", \n",
      "      \"Sigma+\", \"Sigma+-bar\", \"Sigma0\", \"Sigma0-bar\", \n",
      "      \"Delta+\", \"Delta++\", \"Delta++-bar\", \"Delta+-bar\", \n",
      "      \"Xi*-\", \"Xi*--bar\", \"Xi*0\", \"Xi*0-bar\"],r\"other conv. mu\"),\n",
      "    ([\"K0S\", \"K0L\", \"n\", \"n-bar\", \"p\", \"p-bar\", \n",
      "      \"Lambda0\", \"Lambda0-bar\", \"Sigma-\", \"Sigma--bar\", \n",
      "      \"Xi-\", \"Xi--bar\", \"Xi0\", \"Xi0-bar\", \"Delta-\", \n",
      "      \"Delta--bar\", \"Delta0\", \"Delta0-bar\", \"K*+\", \n",
      "      \"K*-\", \"K*0\", \"K*0-bar\", \"Omega-\", \"Omega--bar\", \n",
      "      \"Sigma*+\", \"Sigma*+-bar\", \"Sigma*-\", \"Sigma*--bar\", \n",
      "      \"Sigma*0\", \"Sigma*0-bar\", \"Sigma+\", \"Sigma+-bar\", \n",
      "      \"Sigma0\", \"Sigma0-bar\", \"Delta+\", \"Delta++\", \n",
      "      \"Delta++-bar\", \"Delta+-bar\", \"Xi*-\", \"Xi*--bar\", \n",
      "      \"Xi*0\", \"Xi*0-bar\", \"eta\", \"eta*\", \"omega\", \n",
      "      \"phi\", \"pi0\", \"rho+\", \"rho-\", \"rho0\"],r\"other conv. numu\"),\n",
      "    ([\"n\", \"n-bar\", \"p\", \"p-bar\", \"Lambda0\", \n",
      "      \"Lambda0-bar\", \"Sigma-\", \"Sigma--bar\", \n",
      "      \"Xi-\", \"Xi--bar\", \"Xi0\", \"Xi0-bar\", \"Delta-\", \n",
      "      \"Delta--bar\", \"Delta0\", \"Delta0-bar\", \n",
      "      \"K*+\", \"K*-\", \"K*0\", \"K*0-bar\", \"Omega-\", \n",
      "      \"Omega--bar\", \"Sigma*+\", \"Sigma*+-bar\", \"Sigma*-\", \n",
      "      \"Sigma*--bar\", \"Sigma*0\", \"Sigma*0-bar\", \"Sigma+\", \n",
      "      \"Sigma+-bar\", \"Sigma0\", \"Sigma0-bar\", \"Delta+\", \n",
      "      \"Delta++\", \"Delta++-bar\", \"Delta+-bar\", \"Xi*-\", \n",
      "      \"Xi*--bar\", \"Xi*0\", \"Xi*0-bar\", \"eta\", \"eta*\", \n",
      "      \"omega\", \"phi\", \"pi0\", \"rho+\", \"rho-\", \"rho0\"],r\"other conv. nue\"),\n",
      "    ([\"eta\", \"eta*\", \"omega\", \"phi\", \n",
      "      \"pi0\", \"rho+\", \"rho-\", \"rho0\",\n",
      "      \"etaC\", \"jpsi\"], r\"unflavored\"),\n",
      "    ([\"tau+\",\"tau-\"], r\"tau decay\"),\n",
      "    ([\"mu+\", \"mu-\", \"pi_mu+\", \"pi_mu-\", \n",
      "      \"k_mu+\", \"k_mu-\", \"pr_mu+\", \"pr_mu-\"], r\"$\\mu$ decay\")]\n",
      "\n",
      "color_spectrum = ['b', 'r', 'g', 'orange', 'cyan', 'violet',\n",
      "                  'brown', 'pink', 'yellow', 'lightblue']"
     ],
     "language": "python",
     "metadata": {},
     "outputs": [],
     "prompt_number": 5
    },
    {
     "cell_type": "code",
     "collapsed": false,
     "input": [
      "mag = 3\n",
      "mu_obs = {}\n",
      "numu_obs = {}\n",
      "nue_obs = {}\n",
      "nutau_obs = {}\n",
      "for res_group, res_title in res_groups:\n",
      "    nce_run.set_obs_particles(res_group)\n",
      "    nce_run.solve()\n",
      "    mu_obs[res_title] = nce_run.get_lepton_flux('obs_mu+', mag) + \\\n",
      "                        nce_run.get_lepton_flux('obs_mu-', mag)\n",
      "    numu_obs[res_title] = nce_run.get_lepton_flux('obs_numu', mag) + \\\n",
      "                          nce_run.get_lepton_flux('obs_antinumu', mag)\n",
      "    nue_obs[res_title] = nce_run.get_lepton_flux('obs_nue', mag) + \\\n",
      "                         nce_run.get_lepton_flux('obs_antinue', mag)\n",
      "    nutau_obs[res_title] = nce_run.get_lepton_flux('obs_nutau', mag) + \\\n",
      "                           nce_run.get_lepton_flux('obs_antinutau', mag)"
     ],
     "language": "python",
     "metadata": {},
     "outputs": [
      {
       "output_type": "stream",
       "stream": "stdout",
       "text": [
        "Start filling matrices.\n",
        "Done filling matrices."
       ]
      },
      {
       "output_type": "stream",
       "stream": "stderr",
       "text": [
        "  0% |                                                         | ETA:  --:--:--\r",
        "  1% |                                                          | ETA:  0:00:43\r"
       ]
      },
      {
       "output_type": "stream",
       "stream": "stderr",
       "text": [
        "  2% |#                                                         | ETA:  0:00:23\r",
        "  3% |#                                                         | ETA:  0:00:15\r",
        "  4% |##                                                        | ETA:  0:00:11\r",
        "  5% |##                                                        | ETA:  0:00:09\r",
        "  6% |###                                                       | ETA:  0:00:08\r",
        "  7% |####                                                      | ETA:  0:00:06\r",
        "  8% |####                                                      | ETA:  0:00:06\r"
       ]
      },
      {
       "output_type": "stream",
       "stream": "stderr",
       "text": [
        "  9% |#####                                                     | ETA:  0:00:05\r",
        " 10% |#####                                                     | ETA:  0:00:04\r",
        " 11% |######                                                    | ETA:  0:00:04\r",
        " 12% |######                                                    | ETA:  0:00:03\r",
        " 13% |#######                                                   | ETA:  0:00:03\r",
        " 14% |########                                                  | ETA:  0:00:03\r",
        " 15% |########                                                  | ETA:  0:00:03\r",
        " 16% |#########                                                 | ETA:  0:00:02\r",
        " 17% |#########                                                 | ETA:  0:00:02\r",
        " 18% |##########                                                | ETA:  0:00:02\r",
        " 19% |###########                                               | ETA:  0:00:02\r",
        " 20% |###########                                               | ETA:  0:00:02\r",
        " 21% |############                                              | ETA:  0:00:02\r",
        " 22% |############                                              | ETA:  0:00:01\r",
        " 23% |#############                                             | ETA:  0:00:01\r",
        " 24% |##############                                            | ETA:  0:00:01\r",
        " 25% |##############                                            | ETA:  0:00:01\r",
        " 26% |###############                                           | ETA:  0:00:01\r",
        " 27% |###############                                           | ETA:  0:00:01\r",
        " 28% |################                                          | ETA:  0:00:01\r",
        " 29% |################                                          | ETA:  0:00:01\r",
        " 30% |#################                                         | ETA:  0:00:01\r",
        " 31% |##################                                        | ETA:  0:00:01\r",
        " 32% |##################                                        | ETA:  0:00:01\r",
        " 33% |###################                                       | ETA:  0:00:01\r"
       ]
      },
      {
       "output_type": "stream",
       "stream": "stderr",
       "text": [
        " 34% |###################                                       | ETA:  0:00:01\r",
        " 35% |####################                                      | ETA:  0:00:01\r",
        " 36% |#####################                                     | ETA:  0:00:01\r",
        " 37% |#####################                                     | ETA:  0:00:00\r",
        " 38% |######################                                    | ETA:  0:00:00\r",
        " 39% |######################                                    | ETA:  0:00:00\r",
        " 40% |#######################                                   | ETA:  0:00:00\r",
        " 41% |#######################                                   | ETA:  0:00:00\r",
        " 42% |########################                                  | ETA:  0:00:00\r",
        " 43% |#########################                                 | ETA:  0:00:00\r",
        " 44% |#########################                                 | ETA:  0:00:00\r",
        " 45% |##########################                                | ETA:  0:00:00\r",
        " 46% |##########################                                | ETA:  0:00:00\r",
        " 47% |###########################                               | ETA:  0:00:00\r",
        " 48% |############################                              | ETA:  0:00:00\r",
        " 49% |############################                              | ETA:  0:00:00\r",
        " 50% |#############################                             | ETA:  0:00:00\r",
        " 51% |#############################                             | ETA:  0:00:00\r",
        " 52% |##############################                            | ETA:  0:00:00\r",
        " 53% |###############################                           | ETA:  0:00:00\r",
        " 54% |###############################                           | ETA:  0:00:00\r",
        " 55% |################################                          | ETA:  0:00:00\r",
        " 56% |################################                          | ETA:  0:00:00\r",
        " 57% |#################################                         | ETA:  0:00:00\r",
        " 58% |##################################                        | ETA:  0:00:00\r",
        " 59% |##################################                        | ETA:  0:00:00\r",
        " 60% |###################################                       | ETA:  0:00:00\r",
        " 61% |###################################                       | ETA:  0:00:00\r",
        " 62% |####################################                      | ETA:  0:00:00\r",
        " 63% |####################################                      | ETA:  0:00:00\r",
        " 64% |#####################################                     | ETA:  0:00:00\r",
        " 65% |######################################                    | ETA:  0:00:00\r",
        " 66% |######################################                    | ETA:  0:00:00\r",
        " 67% |#######################################                   | ETA:  0:00:00\r",
        " 68% |#######################################                   | ETA:  0:00:00\r",
        " 69% |########################################                  | ETA:  0:00:00\r",
        " 70% |#########################################                 | ETA:  0:00:00\r",
        " 71% |#########################################                 | ETA:  0:00:00\r",
        " 72% |##########################################                | ETA:  0:00:00\r",
        " 73% |##########################################                | ETA:  0:00:00\r",
        " 74% |###########################################               | ETA:  0:00:00\r",
        " 75% |############################################              | ETA:  0:00:00\r",
        " 77% |############################################              | ETA:  0:00:00\r",
        " 78% |#############################################             | ETA:  0:00:00\r",
        " 79% |#############################################             | ETA:  0:00:00\r",
        " 80% |##############################################            | ETA:  0:00:00\r",
        " 81% |###############################################           | ETA:  0:00:00\r",
        " 82% |###############################################           | ETA:  0:00:00\r",
        " 83% |################################################          | ETA:  0:00:00\r",
        " 84% |################################################          | ETA:  0:00:00\r",
        " 85% |#################################################         | ETA:  0:00:00\r",
        " 86% |##################################################        | ETA:  0:00:00\r",
        " 87% |##################################################        | ETA:  0:00:00\r",
        " 88% |###################################################       | ETA:  0:00:00\r",
        " 89% |###################################################       | ETA:  0:00:00\r",
        " 90% |####################################################      | ETA:  0:00:00\r",
        " 91% |#####################################################     | ETA:  0:00:00\r",
        " 92% |#####################################################     | ETA:  0:00:00\r",
        " 93% |######################################################    | ETA:  0:00:00\r",
        " 94% |######################################################    | ETA:  0:00:00\r",
        " 95% |#######################################################   | ETA:  0:00:00\r",
        " 96% |#######################################################   | ETA:  0:00:00\r"
       ]
      },
      {
       "output_type": "stream",
       "stream": "stdout",
       "text": [
        "\n",
        "NCERun::calculate_integration_path():\n",
        "23223"
       ]
      },
      {
       "output_type": "stream",
       "stream": "stderr",
       "text": [
        " 97% |########################################################  | ETA:  0:00:00\r",
        " 98% |######################################################### | ETA:  0:00:00\r",
        " 99% |######################################################### | ETA:  0:00:00\r",
        "100% |##########################################################| Time: 0:00:00\r\n",
        "  0% |                                                         | ETA:  --:--:--\r",
        "  1% |                                                          | ETA:  0:00:41\r"
       ]
      },
      {
       "output_type": "stream",
       "stream": "stderr",
       "text": [
        "  2% |#                                                         | ETA:  0:00:38\r",
        "  3% |#                                                         | ETA:  0:00:37\r"
       ]
      },
      {
       "output_type": "stream",
       "stream": "stderr",
       "text": [
        "  4% |##                                                        | ETA:  0:00:36\r",
        "  5% |##                                                        | ETA:  0:00:36\r"
       ]
      },
      {
       "output_type": "stream",
       "stream": "stderr",
       "text": [
        "  6% |###                                                       | ETA:  0:00:35\r",
        "  7% |####                                                      | ETA:  0:00:35\r"
       ]
      },
      {
       "output_type": "stream",
       "stream": "stderr",
       "text": [
        "  8% |####                                                      | ETA:  0:00:35\r",
        "  9% |#####                                                     | ETA:  0:00:35\r"
       ]
      },
      {
       "output_type": "stream",
       "stream": "stderr",
       "text": [
        " 10% |#####                                                     | ETA:  0:00:34\r",
        " 11% |######                                                    | ETA:  0:00:34\r"
       ]
      },
      {
       "output_type": "stream",
       "stream": "stderr",
       "text": [
        " 12% |######                                                    | ETA:  0:00:34\r",
        " 13% |#######                                                   | ETA:  0:00:33\r"
       ]
      },
      {
       "output_type": "stream",
       "stream": "stderr",
       "text": [
        " 14% |########                                                  | ETA:  0:00:33\r",
        " 15% |########                                                  | ETA:  0:00:32\r"
       ]
      },
      {
       "output_type": "stream",
       "stream": "stderr",
       "text": [
        " 16% |#########                                                 | ETA:  0:00:32\r",
        " 17% |#########                                                 | ETA:  0:00:32\r"
       ]
      },
      {
       "output_type": "stream",
       "stream": "stderr",
       "text": [
        " 18% |##########                                                | ETA:  0:00:31\r",
        " 19% |###########                                               | ETA:  0:00:31\r"
       ]
      },
      {
       "output_type": "stream",
       "stream": "stderr",
       "text": [
        " 20% |###########                                               | ETA:  0:00:31\r",
        " 21% |############                                              | ETA:  0:00:30\r"
       ]
      },
      {
       "output_type": "stream",
       "stream": "stderr",
       "text": [
        " 22% |############                                              | ETA:  0:00:30\r",
        " 23% |#############                                             | ETA:  0:00:29\r"
       ]
      },
      {
       "output_type": "stream",
       "stream": "stderr",
       "text": [
        " 24% |#############                                             | ETA:  0:00:29\r",
        " 25% |##############                                            | ETA:  0:00:29\r"
       ]
      },
      {
       "output_type": "stream",
       "stream": "stderr",
       "text": [
        " 26% |###############                                           | ETA:  0:00:28\r",
        " 27% |###############                                           | ETA:  0:00:28\r"
       ]
      },
      {
       "output_type": "stream",
       "stream": "stderr",
       "text": [
        " 28% |################                                          | ETA:  0:00:28\r",
        " 29% |################                                          | ETA:  0:00:27\r"
       ]
      },
      {
       "output_type": "stream",
       "stream": "stderr",
       "text": [
        " 30% |#################                                         | ETA:  0:00:27\r",
        " 31% |##################                                        | ETA:  0:00:26\r"
       ]
      },
      {
       "output_type": "stream",
       "stream": "stderr",
       "text": [
        " 32% |##################                                        | ETA:  0:00:26\r",
        " 33% |###################                                       | ETA:  0:00:26\r"
       ]
      },
      {
       "output_type": "stream",
       "stream": "stderr",
       "text": [
        " 34% |###################                                       | ETA:  0:00:25\r",
        " 35% |####################                                      | ETA:  0:00:25\r"
       ]
      },
      {
       "output_type": "stream",
       "stream": "stderr",
       "text": [
        " 36% |####################                                      | ETA:  0:00:24\r",
        " 37% |#####################                                     | ETA:  0:00:24\r"
       ]
      },
      {
       "output_type": "stream",
       "stream": "stderr",
       "text": [
        " 38% |######################                                    | ETA:  0:00:24\r",
        " 39% |######################                                    | ETA:  0:00:23\r"
       ]
      },
      {
       "output_type": "stream",
       "stream": "stderr",
       "text": [
        " 40% |#######################                                   | ETA:  0:00:23\r",
        " 41% |#######################                                   | ETA:  0:00:22\r"
       ]
      },
      {
       "output_type": "stream",
       "stream": "stderr",
       "text": [
        " 42% |########################                                  | ETA:  0:00:22\r",
        " 43% |#########################                                 | ETA:  0:00:22\r"
       ]
      },
      {
       "output_type": "stream",
       "stream": "stderr",
       "text": [
        " 44% |#########################                                 | ETA:  0:00:21\r",
        " 45% |##########################                                | ETA:  0:00:21\r"
       ]
      },
      {
       "output_type": "stream",
       "stream": "stderr",
       "text": [
        " 46% |##########################                                | ETA:  0:00:20\r",
        " 47% |###########################                               | ETA:  0:00:20\r"
       ]
      },
      {
       "output_type": "stream",
       "stream": "stderr",
       "text": [
        " 48% |###########################                               | ETA:  0:00:20\r",
        " 49% |############################                              | ETA:  0:00:19\r"
       ]
      },
      {
       "output_type": "stream",
       "stream": "stderr",
       "text": [
        " 50% |#############################                             | ETA:  0:00:19\r",
        " 51% |#############################                             | ETA:  0:00:19\r"
       ]
      },
      {
       "output_type": "stream",
       "stream": "stderr",
       "text": [
        " 52% |##############################                            | ETA:  0:00:18\r",
        " 53% |##############################                            | ETA:  0:00:18\r"
       ]
      },
      {
       "output_type": "stream",
       "stream": "stderr",
       "text": [
        " 54% |###############################                           | ETA:  0:00:17\r",
        " 55% |################################                          | ETA:  0:00:17\r"
       ]
      },
      {
       "output_type": "stream",
       "stream": "stderr",
       "text": [
        " 56% |################################                          | ETA:  0:00:17\r",
        " 57% |#################################                         | ETA:  0:00:16\r"
       ]
      },
      {
       "output_type": "stream",
       "stream": "stderr",
       "text": [
        " 58% |#################################                         | ETA:  0:00:16\r",
        " 59% |##################################                        | ETA:  0:00:15\r"
       ]
      },
      {
       "output_type": "stream",
       "stream": "stderr",
       "text": [
        " 60% |##################################                        | ETA:  0:00:15\r",
        " 61% |###################################                       | ETA:  0:00:15\r"
       ]
      },
      {
       "output_type": "stream",
       "stream": "stderr",
       "text": [
        " 62% |####################################                      | ETA:  0:00:14\r",
        " 63% |####################################                      | ETA:  0:00:14\r"
       ]
      },
      {
       "output_type": "stream",
       "stream": "stderr",
       "text": [
        " 64% |#####################################                     | ETA:  0:00:13\r",
        " 65% |#####################################                     | ETA:  0:00:13\r"
       ]
      },
      {
       "output_type": "stream",
       "stream": "stderr",
       "text": [
        " 66% |######################################                    | ETA:  0:00:13\r",
        " 67% |######################################                    | ETA:  0:00:12\r"
       ]
      },
      {
       "output_type": "stream",
       "stream": "stderr",
       "text": [
        " 68% |#######################################                   | ETA:  0:00:12\r",
        " 69% |########################################                  | ETA:  0:00:12\r"
       ]
      },
      {
       "output_type": "stream",
       "stream": "stderr",
       "text": [
        " 70% |########################################                  | ETA:  0:00:11\r",
        " 71% |#########################################                 | ETA:  0:00:11\r"
       ]
      },
      {
       "output_type": "stream",
       "stream": "stderr",
       "text": [
        " 72% |#########################################                 | ETA:  0:00:10\r",
        " 73% |##########################################                | ETA:  0:00:10\r"
       ]
      },
      {
       "output_type": "stream",
       "stream": "stderr",
       "text": [
        " 74% |###########################################               | ETA:  0:00:10\r",
        " 75% |###########################################               | ETA:  0:00:09\r"
       ]
      },
      {
       "output_type": "stream",
       "stream": "stderr",
       "text": [
        " 76% |############################################              | ETA:  0:00:09\r",
        " 77% |############################################              | ETA:  0:00:08\r"
       ]
      },
      {
       "output_type": "stream",
       "stream": "stderr",
       "text": [
        " 78% |#############################################             | ETA:  0:00:08\r",
        " 79% |#############################################             | ETA:  0:00:08\r"
       ]
      },
      {
       "output_type": "stream",
       "stream": "stderr",
       "text": [
        " 80% |##############################################            | ETA:  0:00:07\r",
        " 81% |###############################################           | ETA:  0:00:07\r"
       ]
      },
      {
       "output_type": "stream",
       "stream": "stderr",
       "text": [
        " 82% |###############################################           | ETA:  0:00:06\r",
        " 83% |################################################          | ETA:  0:00:06\r"
       ]
      },
      {
       "output_type": "stream",
       "stream": "stderr",
       "text": [
        " 84% |################################################          | ETA:  0:00:06\r",
        " 85% |#################################################         | ETA:  0:00:05\r"
       ]
      },
      {
       "output_type": "stream",
       "stream": "stderr",
       "text": [
        " 86% |##################################################        | ETA:  0:00:05\r",
        " 87% |##################################################        | ETA:  0:00:04\r"
       ]
      },
      {
       "output_type": "stream",
       "stream": "stderr",
       "text": [
        " 88% |###################################################       | ETA:  0:00:04\r",
        " 89% |###################################################       | ETA:  0:00:04\r"
       ]
      },
      {
       "output_type": "stream",
       "stream": "stderr",
       "text": [
        " 90% |####################################################      | ETA:  0:00:03\r",
        " 91% |####################################################      | ETA:  0:00:03\r"
       ]
      },
      {
       "output_type": "stream",
       "stream": "stderr",
       "text": [
        " 92% |#####################################################     | ETA:  0:00:03\r",
        " 93% |######################################################    | ETA:  0:00:02\r"
       ]
      },
      {
       "output_type": "stream",
       "stream": "stderr",
       "text": [
        " 94% |######################################################    | ETA:  0:00:02\r",
        " 95% |#######################################################   | ETA:  0:00:01\r"
       ]
      },
      {
       "output_type": "stream",
       "stream": "stderr",
       "text": [
        " 96% |#######################################################   | ETA:  0:00:01\r",
        " 97% |########################################################  | ETA:  0:00:01\r"
       ]
      },
      {
       "output_type": "stream",
       "stream": "stderr",
       "text": [
        " 98% |######################################################### | ETA:  0:00:00\r",
        " 99% |######################################################### | ETA:  0:00:00\r"
       ]
      },
      {
       "output_type": "stream",
       "stream": "stdout",
       "text": [
        " 23223 23223 1668827 350293\n",
        "\n"
       ]
      },
      {
       "output_type": "stream",
       "stream": "stdout",
       "text": [
        "Time elapsed during integration: 39.2635920048\n",
        "Start filling matrices.\n",
        "Done filling matrices."
       ]
      },
      {
       "output_type": "stream",
       "stream": "stderr",
       "text": [
        "100% |##########################################################| Time: 0:00:39\r\n",
        "  0% |                                                         | ETA:  --:--:--\r"
       ]
      },
      {
       "output_type": "stream",
       "stream": "stderr",
       "text": [
        "  1% |                                                          | ETA:  0:00:38\r",
        "  2% |#                                                         | ETA:  0:00:37\r"
       ]
      },
      {
       "output_type": "stream",
       "stream": "stderr",
       "text": [
        "  3% |#                                                         | ETA:  0:00:37\r",
        "  4% |##                                                        | ETA:  0:00:36\r"
       ]
      },
      {
       "output_type": "stream",
       "stream": "stderr",
       "text": [
        "  5% |##                                                        | ETA:  0:00:36\r",
        "  6% |###                                                       | ETA:  0:00:35\r"
       ]
      },
      {
       "output_type": "stream",
       "stream": "stderr",
       "text": [
        "  7% |####                                                      | ETA:  0:00:35\r",
        "  8% |####                                                      | ETA:  0:00:34\r"
       ]
      },
      {
       "output_type": "stream",
       "stream": "stderr",
       "text": [
        "  9% |#####                                                     | ETA:  0:00:34\r",
        " 10% |#####                                                     | ETA:  0:00:34\r"
       ]
      },
      {
       "output_type": "stream",
       "stream": "stderr",
       "text": [
        " 11% |######                                                    | ETA:  0:00:33\r",
        " 12% |######                                                    | ETA:  0:00:33\r"
       ]
      },
      {
       "output_type": "stream",
       "stream": "stderr",
       "text": [
        " 13% |#######                                                   | ETA:  0:00:33\r",
        " 14% |########                                                  | ETA:  0:00:32\r"
       ]
      },
      {
       "output_type": "stream",
       "stream": "stderr",
       "text": [
        " 15% |########                                                  | ETA:  0:00:32\r",
        " 16% |#########                                                 | ETA:  0:00:31\r"
       ]
      },
      {
       "output_type": "stream",
       "stream": "stderr",
       "text": [
        " 17% |#########                                                 | ETA:  0:00:31\r",
        " 18% |##########                                                | ETA:  0:00:31\r"
       ]
      },
      {
       "output_type": "stream",
       "stream": "stderr",
       "text": [
        " 19% |###########                                               | ETA:  0:00:30\r",
        " 20% |###########                                               | ETA:  0:00:30\r"
       ]
      },
      {
       "output_type": "stream",
       "stream": "stderr",
       "text": [
        " 21% |############                                              | ETA:  0:00:29\r",
        " 22% |############                                              | ETA:  0:00:29\r"
       ]
      },
      {
       "output_type": "stream",
       "stream": "stderr",
       "text": [
        " 23% |#############                                             | ETA:  0:00:29\r",
        " 24% |#############                                             | ETA:  0:00:28\r"
       ]
      },
      {
       "output_type": "stream",
       "stream": "stderr",
       "text": [
        " 25% |##############                                            | ETA:  0:00:28\r",
        " 26% |###############                                           | ETA:  0:00:28\r"
       ]
      },
      {
       "output_type": "stream",
       "stream": "stderr",
       "text": [
        " 27% |###############                                           | ETA:  0:00:27\r",
        " 28% |################                                          | ETA:  0:00:27\r"
       ]
      },
      {
       "output_type": "stream",
       "stream": "stderr",
       "text": [
        " 29% |################                                          | ETA:  0:00:26\r",
        " 30% |#################                                         | ETA:  0:00:26\r"
       ]
      },
      {
       "output_type": "stream",
       "stream": "stderr",
       "text": [
        " 31% |##################                                        | ETA:  0:00:26\r",
        " 32% |##################                                        | ETA:  0:00:25\r"
       ]
      },
      {
       "output_type": "stream",
       "stream": "stderr",
       "text": [
        " 33% |###################                                       | ETA:  0:00:25\r",
        " 34% |###################                                       | ETA:  0:00:24\r"
       ]
      },
      {
       "output_type": "stream",
       "stream": "stderr",
       "text": [
        " 35% |####################                                      | ETA:  0:00:24\r",
        " 36% |####################                                      | ETA:  0:00:24\r"
       ]
      },
      {
       "output_type": "stream",
       "stream": "stderr",
       "text": [
        " 37% |#####################                                     | ETA:  0:00:24\r",
        " 38% |######################                                    | ETA:  0:00:23\r"
       ]
      },
      {
       "output_type": "stream",
       "stream": "stderr",
       "text": [
        " 39% |######################                                    | ETA:  0:00:23\r",
        " 40% |#######################                                   | ETA:  0:00:22\r"
       ]
      },
      {
       "output_type": "stream",
       "stream": "stderr",
       "text": [
        " 41% |#######################                                   | ETA:  0:00:22\r",
        " 42% |########################                                  | ETA:  0:00:22\r"
       ]
      },
      {
       "output_type": "stream",
       "stream": "stderr",
       "text": [
        " 43% |#########################                                 | ETA:  0:00:21\r",
        " 44% |#########################                                 | ETA:  0:00:21\r"
       ]
      },
      {
       "output_type": "stream",
       "stream": "stderr",
       "text": [
        " 45% |##########################                                | ETA:  0:00:20\r",
        " 46% |##########################                                | ETA:  0:00:20\r"
       ]
      },
      {
       "output_type": "stream",
       "stream": "stderr",
       "text": [
        " 47% |###########################                               | ETA:  0:00:20\r",
        " 48% |###########################                               | ETA:  0:00:19\r"
       ]
      },
      {
       "output_type": "stream",
       "stream": "stderr",
       "text": [
        " 49% |############################                              | ETA:  0:00:19\r",
        " 50% |#############################                             | ETA:  0:00:19\r"
       ]
      },
      {
       "output_type": "stream",
       "stream": "stderr",
       "text": [
        " 51% |#############################                             | ETA:  0:00:18\r",
        " 52% |##############################                            | ETA:  0:00:18\r"
       ]
      },
      {
       "output_type": "stream",
       "stream": "stderr",
       "text": [
        " 53% |##############################                            | ETA:  0:00:17\r",
        " 54% |###############################                           | ETA:  0:00:17\r"
       ]
      },
      {
       "output_type": "stream",
       "stream": "stderr",
       "text": [
        " 55% |################################                          | ETA:  0:00:17\r",
        " 56% |################################                          | ETA:  0:00:16\r"
       ]
      },
      {
       "output_type": "stream",
       "stream": "stderr",
       "text": [
        " 57% |#################################                         | ETA:  0:00:16\r",
        " 58% |#################################                         | ETA:  0:00:16\r"
       ]
      },
      {
       "output_type": "stream",
       "stream": "stderr",
       "text": [
        " 59% |##################################                        | ETA:  0:00:15\r",
        " 60% |##################################                        | ETA:  0:00:15\r"
       ]
      },
      {
       "output_type": "stream",
       "stream": "stderr",
       "text": [
        " 61% |###################################                       | ETA:  0:00:14\r",
        " 62% |####################################                      | ETA:  0:00:14\r"
       ]
      },
      {
       "output_type": "stream",
       "stream": "stderr",
       "text": [
        " 63% |####################################                      | ETA:  0:00:14\r",
        " 64% |#####################################                     | ETA:  0:00:13\r"
       ]
      },
      {
       "output_type": "stream",
       "stream": "stderr",
       "text": [
        " 65% |#####################################                     | ETA:  0:00:13\r",
        " 66% |######################################                    | ETA:  0:00:13\r"
       ]
      },
      {
       "output_type": "stream",
       "stream": "stderr",
       "text": [
        " 67% |######################################                    | ETA:  0:00:12\r",
        " 68% |#######################################                   | ETA:  0:00:12\r"
       ]
      },
      {
       "output_type": "stream",
       "stream": "stderr",
       "text": [
        " 69% |########################################                  | ETA:  0:00:11\r",
        " 70% |########################################                  | ETA:  0:00:11\r"
       ]
      },
      {
       "output_type": "stream",
       "stream": "stderr",
       "text": [
        " 71% |#########################################                 | ETA:  0:00:11\r",
        " 72% |#########################################                 | ETA:  0:00:10\r"
       ]
      },
      {
       "output_type": "stream",
       "stream": "stderr",
       "text": [
        " 73% |##########################################                | ETA:  0:00:10\r",
        " 74% |###########################################               | ETA:  0:00:09\r"
       ]
      },
      {
       "output_type": "stream",
       "stream": "stderr",
       "text": [
        " 75% |###########################################               | ETA:  0:00:09\r",
        " 76% |############################################              | ETA:  0:00:09\r"
       ]
      },
      {
       "output_type": "stream",
       "stream": "stderr",
       "text": [
        " 77% |############################################              | ETA:  0:00:08\r",
        " 78% |#############################################             | ETA:  0:00:08\r"
       ]
      },
      {
       "output_type": "stream",
       "stream": "stderr",
       "text": [
        " 79% |#############################################             | ETA:  0:00:08\r",
        " 80% |##############################################            | ETA:  0:00:07\r"
       ]
      },
      {
       "output_type": "stream",
       "stream": "stderr",
       "text": [
        " 81% |###############################################           | ETA:  0:00:07\r",
        " 82% |###############################################           | ETA:  0:00:06\r"
       ]
      },
      {
       "output_type": "stream",
       "stream": "stderr",
       "text": [
        " 83% |################################################          | ETA:  0:00:06\r",
        " 84% |################################################          | ETA:  0:00:06\r"
       ]
      },
      {
       "output_type": "stream",
       "stream": "stderr",
       "text": [
        " 85% |#################################################         | ETA:  0:00:05\r",
        " 86% |##################################################        | ETA:  0:00:05\r"
       ]
      },
      {
       "output_type": "stream",
       "stream": "stderr",
       "text": [
        " 87% |##################################################        | ETA:  0:00:04\r",
        " 88% |###################################################       | ETA:  0:00:04\r"
       ]
      },
      {
       "output_type": "stream",
       "stream": "stderr",
       "text": [
        " 89% |###################################################       | ETA:  0:00:04\r",
        " 90% |####################################################      | ETA:  0:00:03\r"
       ]
      },
      {
       "output_type": "stream",
       "stream": "stderr",
       "text": [
        " 91% |####################################################      | ETA:  0:00:03\r",
        " 92% |#####################################################     | ETA:  0:00:02\r"
       ]
      },
      {
       "output_type": "stream",
       "stream": "stderr",
       "text": [
        " 93% |######################################################    | ETA:  0:00:02\r",
        " 94% |######################################################    | ETA:  0:00:02\r"
       ]
      },
      {
       "output_type": "stream",
       "stream": "stderr",
       "text": [
        " 95% |#######################################################   | ETA:  0:00:01\r",
        " 96% |#######################################################   | ETA:  0:00:01\r"
       ]
      },
      {
       "output_type": "stream",
       "stream": "stderr",
       "text": [
        " 97% |########################################################  | ETA:  0:00:01\r",
        " 98% |######################################################### | ETA:  0:00:00\r"
       ]
      },
      {
       "output_type": "stream",
       "stream": "stderr",
       "text": [
        " 99% |######################################################### | ETA:  0:00:00\r",
        "100% |##########################################################| Time: 0:00:38\r"
       ]
      },
      {
       "output_type": "stream",
       "stream": "stdout",
       "text": [
        "\n",
        "23223 23223 23223 1677136 338469\n",
        "\n"
       ]
      },
      {
       "output_type": "stream",
       "stream": "stdout",
       "text": [
        "Time elapsed during integration: 38.7462670803\n",
        "Start filling matrices.\n",
        "Done filling matrices."
       ]
      },
      {
       "output_type": "stream",
       "stream": "stderr",
       "text": [
        "\n",
        "  0% |                                                         | ETA:  --:--:--\r"
       ]
      },
      {
       "output_type": "stream",
       "stream": "stderr",
       "text": [
        "  1% |                                                          | ETA:  0:00:36\r",
        "  2% |#                                                         | ETA:  0:00:35\r"
       ]
      },
      {
       "output_type": "stream",
       "stream": "stderr",
       "text": [
        "  3% |#                                                         | ETA:  0:00:34\r",
        "  4% |##                                                        | ETA:  0:00:33\r"
       ]
      },
      {
       "output_type": "stream",
       "stream": "stderr",
       "text": [
        "  5% |##                                                        | ETA:  0:00:32\r",
        "  6% |###                                                       | ETA:  0:00:32\r"
       ]
      },
      {
       "output_type": "stream",
       "stream": "stderr",
       "text": [
        "  7% |####                                                      | ETA:  0:00:31\r",
        "  8% |####                                                      | ETA:  0:00:31\r"
       ]
      },
      {
       "output_type": "stream",
       "stream": "stderr",
       "text": [
        "  9% |#####                                                     | ETA:  0:00:31\r",
        " 10% |#####                                                     | ETA:  0:00:31\r"
       ]
      },
      {
       "output_type": "stream",
       "stream": "stderr",
       "text": [
        " 11% |######                                                    | ETA:  0:00:31\r",
        " 12% |######                                                    | ETA:  0:00:31\r"
       ]
      },
      {
       "output_type": "stream",
       "stream": "stderr",
       "text": [
        " 13% |#######                                                   | ETA:  0:00:31\r",
        " 14% |########                                                  | ETA:  0:00:31\r"
       ]
      },
      {
       "output_type": "stream",
       "stream": "stderr",
       "text": [
        " 15% |########                                                  | ETA:  0:00:30\r",
        " 16% |#########                                                 | ETA:  0:00:30\r"
       ]
      },
      {
       "output_type": "stream",
       "stream": "stderr",
       "text": [
        " 17% |#########                                                 | ETA:  0:00:30\r",
        " 18% |##########                                                | ETA:  0:00:29\r"
       ]
      },
      {
       "output_type": "stream",
       "stream": "stderr",
       "text": [
        " 19% |###########                                               | ETA:  0:00:29\r",
        " 20% |###########                                               | ETA:  0:00:29\r"
       ]
      },
      {
       "output_type": "stream",
       "stream": "stderr",
       "text": [
        " 21% |############                                              | ETA:  0:00:28\r",
        " 22% |############                                              | ETA:  0:00:28\r"
       ]
      },
      {
       "output_type": "stream",
       "stream": "stderr",
       "text": [
        " 23% |#############                                             | ETA:  0:00:27\r",
        " 24% |#############                                             | ETA:  0:00:27\r"
       ]
      },
      {
       "output_type": "stream",
       "stream": "stderr",
       "text": [
        " 25% |##############                                            | ETA:  0:00:27\r",
        " 26% |###############                                           | ETA:  0:00:26\r"
       ]
      },
      {
       "output_type": "stream",
       "stream": "stderr",
       "text": [
        " 27% |###############                                           | ETA:  0:00:26\r",
        " 28% |################                                          | ETA:  0:00:26\r"
       ]
      },
      {
       "output_type": "stream",
       "stream": "stderr",
       "text": [
        " 29% |################                                          | ETA:  0:00:25\r",
        " 30% |#################                                         | ETA:  0:00:25\r"
       ]
      },
      {
       "output_type": "stream",
       "stream": "stderr",
       "text": [
        " 31% |##################                                        | ETA:  0:00:25\r",
        " 32% |##################                                        | ETA:  0:00:24\r"
       ]
      },
      {
       "output_type": "stream",
       "stream": "stderr",
       "text": [
        " 33% |###################                                       | ETA:  0:00:24\r",
        " 34% |###################                                       | ETA:  0:00:23\r"
       ]
      },
      {
       "output_type": "stream",
       "stream": "stderr",
       "text": [
        " 35% |####################                                      | ETA:  0:00:23\r",
        " 36% |####################                                      | ETA:  0:00:23\r"
       ]
      },
      {
       "output_type": "stream",
       "stream": "stderr",
       "text": [
        " 37% |#####################                                     | ETA:  0:00:22\r",
        " 38% |######################                                    | ETA:  0:00:22\r"
       ]
      },
      {
       "output_type": "stream",
       "stream": "stderr",
       "text": [
        " 39% |######################                                    | ETA:  0:00:21\r",
        " 40% |#######################                                   | ETA:  0:00:21\r"
       ]
      },
      {
       "output_type": "stream",
       "stream": "stderr",
       "text": [
        " 41% |#######################                                   | ETA:  0:00:21\r",
        " 42% |########################                                  | ETA:  0:00:20\r"
       ]
      },
      {
       "output_type": "stream",
       "stream": "stderr",
       "text": [
        " 43% |#########################                                 | ETA:  0:00:20\r",
        " 44% |#########################                                 | ETA:  0:00:20\r"
       ]
      },
      {
       "output_type": "stream",
       "stream": "stderr",
       "text": [
        " 45% |##########################                                | ETA:  0:00:19\r",
        " 46% |##########################                                | ETA:  0:00:19\r"
       ]
      },
      {
       "output_type": "stream",
       "stream": "stderr",
       "text": [
        " 47% |###########################                               | ETA:  0:00:19\r",
        " 48% |###########################                               | ETA:  0:00:18\r"
       ]
      },
      {
       "output_type": "stream",
       "stream": "stderr",
       "text": [
        " 49% |############################                              | ETA:  0:00:18\r",
        " 50% |#############################                             | ETA:  0:00:17\r"
       ]
      },
      {
       "output_type": "stream",
       "stream": "stderr",
       "text": [
        " 51% |#############################                             | ETA:  0:00:17\r",
        " 52% |##############################                            | ETA:  0:00:17\r"
       ]
      },
      {
       "output_type": "stream",
       "stream": "stderr",
       "text": [
        " 53% |##############################                            | ETA:  0:00:16\r",
        " 54% |###############################                           | ETA:  0:00:16\r"
       ]
      },
      {
       "output_type": "stream",
       "stream": "stderr",
       "text": [
        " 55% |################################                          | ETA:  0:00:15\r",
        " 56% |################################                          | ETA:  0:00:15\r"
       ]
      },
      {
       "output_type": "stream",
       "stream": "stderr",
       "text": [
        " 57% |#################################                         | ETA:  0:00:15\r",
        " 58% |#################################                         | ETA:  0:00:14\r"
       ]
      },
      {
       "output_type": "stream",
       "stream": "stderr",
       "text": [
        " 59% |##################################                        | ETA:  0:00:14\r",
        " 60% |##################################                        | ETA:  0:00:14\r"
       ]
      },
      {
       "output_type": "stream",
       "stream": "stderr",
       "text": [
        " 61% |###################################                       | ETA:  0:00:13\r",
        " 62% |####################################                      | ETA:  0:00:13\r"
       ]
      },
      {
       "output_type": "stream",
       "stream": "stderr",
       "text": [
        " 63% |####################################                      | ETA:  0:00:13\r",
        " 64% |#####################################                     | ETA:  0:00:12\r"
       ]
      },
      {
       "output_type": "stream",
       "stream": "stderr",
       "text": [
        " 65% |#####################################                     | ETA:  0:00:12\r",
        " 66% |######################################                    | ETA:  0:00:11\r"
       ]
      },
      {
       "output_type": "stream",
       "stream": "stderr",
       "text": [
        " 67% |######################################                    | ETA:  0:00:11\r",
        " 68% |#######################################                   | ETA:  0:00:11\r"
       ]
      },
      {
       "output_type": "stream",
       "stream": "stderr",
       "text": [
        " 69% |########################################                  | ETA:  0:00:10\r",
        " 70% |########################################                  | ETA:  0:00:10\r"
       ]
      },
      {
       "output_type": "stream",
       "stream": "stderr",
       "text": [
        " 71% |#########################################                 | ETA:  0:00:10\r",
        " 72% |#########################################                 | ETA:  0:00:09\r"
       ]
      },
      {
       "output_type": "stream",
       "stream": "stderr",
       "text": [
        " 73% |##########################################                | ETA:  0:00:09\r",
        " 74% |###########################################               | ETA:  0:00:08\r"
       ]
      },
      {
       "output_type": "stream",
       "stream": "stderr",
       "text": [
        " 75% |###########################################               | ETA:  0:00:08\r",
        " 76% |############################################              | ETA:  0:00:08\r"
       ]
      },
      {
       "output_type": "stream",
       "stream": "stderr",
       "text": [
        " 77% |############################################              | ETA:  0:00:07\r",
        " 78% |#############################################             | ETA:  0:00:07\r"
       ]
      },
      {
       "output_type": "stream",
       "stream": "stderr",
       "text": [
        " 79% |#############################################             | ETA:  0:00:07\r",
        " 80% |##############################################            | ETA:  0:00:06\r"
       ]
      },
      {
       "output_type": "stream",
       "stream": "stderr",
       "text": [
        " 81% |###############################################           | ETA:  0:00:06\r",
        " 82% |###############################################           | ETA:  0:00:06\r"
       ]
      },
      {
       "output_type": "stream",
       "stream": "stderr",
       "text": [
        " 83% |################################################          | ETA:  0:00:05\r",
        " 84% |################################################          | ETA:  0:00:05\r"
       ]
      },
      {
       "output_type": "stream",
       "stream": "stderr",
       "text": [
        " 85% |#################################################         | ETA:  0:00:05\r",
        " 86% |##################################################        | ETA:  0:00:04\r"
       ]
      },
      {
       "output_type": "stream",
       "stream": "stderr",
       "text": [
        " 87% |##################################################        | ETA:  0:00:04\r",
        " 88% |###################################################       | ETA:  0:00:04\r"
       ]
      },
      {
       "output_type": "stream",
       "stream": "stderr",
       "text": [
        " 89% |###################################################       | ETA:  0:00:03\r",
        " 90% |####################################################      | ETA:  0:00:03\r"
       ]
      },
      {
       "output_type": "stream",
       "stream": "stderr",
       "text": [
        " 91% |####################################################      | ETA:  0:00:02\r",
        " 92% |#####################################################     | ETA:  0:00:02\r"
       ]
      },
      {
       "output_type": "stream",
       "stream": "stderr",
       "text": [
        " 93% |######################################################    | ETA:  0:00:02\r",
        " 94% |######################################################    | ETA:  0:00:01\r"
       ]
      },
      {
       "output_type": "stream",
       "stream": "stderr",
       "text": [
        " 95% |#######################################################   | ETA:  0:00:01\r",
        " 96% |#######################################################   | ETA:  0:00:01\r"
       ]
      },
      {
       "output_type": "stream",
       "stream": "stderr",
       "text": [
        " 97% |########################################################  | ETA:  0:00:00\r",
        " 98% |######################################################### | ETA:  0:00:00\r"
       ]
      },
      {
       "output_type": "stream",
       "stream": "stderr",
       "text": [
        " 99% |######################################################### | ETA:  0:00:00\r",
        "100% |##########################################################| Time: 0:00:34\r"
       ]
      },
      {
       "output_type": "stream",
       "stream": "stdout",
       "text": [
        "\n",
        "23223 23223 23223 1471304 326671\n",
        "\n"
       ]
      },
      {
       "output_type": "stream",
       "stream": "stdout",
       "text": [
        "Time elapsed during integration: 34.0426471233\n",
        "Start filling matrices.\n",
        "Done filling matrices."
       ]
      },
      {
       "output_type": "stream",
       "stream": "stderr",
       "text": [
        "\n",
        "  0% |                                                         | ETA:  --:--:--\r"
       ]
      },
      {
       "output_type": "stream",
       "stream": "stderr",
       "text": [
        "  1% |                                                          | ETA:  0:00:31\r",
        "  2% |#                                                         | ETA:  0:00:30\r"
       ]
      },
      {
       "output_type": "stream",
       "stream": "stderr",
       "text": [
        "  3% |#                                                         | ETA:  0:00:30\r",
        "  4% |##                                                        | ETA:  0:00:30\r"
       ]
      },
      {
       "output_type": "stream",
       "stream": "stderr",
       "text": [
        "  5% |##                                                        | ETA:  0:00:29\r",
        "  6% |###                                                       | ETA:  0:00:29\r"
       ]
      },
      {
       "output_type": "stream",
       "stream": "stderr",
       "text": [
        "  7% |####                                                      | ETA:  0:00:29\r",
        "  8% |####                                                      | ETA:  0:00:29\r"
       ]
      },
      {
       "output_type": "stream",
       "stream": "stderr",
       "text": [
        "  9% |#####                                                     | ETA:  0:00:28\r",
        " 10% |#####                                                     | ETA:  0:00:28\r"
       ]
      },
      {
       "output_type": "stream",
       "stream": "stderr",
       "text": [
        " 11% |######                                                    | ETA:  0:00:28\r",
        " 12% |######                                                    | ETA:  0:00:27\r"
       ]
      },
      {
       "output_type": "stream",
       "stream": "stderr",
       "text": [
        " 13% |#######                                                   | ETA:  0:00:27\r",
        " 14% |########                                                  | ETA:  0:00:27\r"
       ]
      },
      {
       "output_type": "stream",
       "stream": "stderr",
       "text": [
        " 15% |########                                                  | ETA:  0:00:26\r",
        " 16% |#########                                                 | ETA:  0:00:26\r"
       ]
      },
      {
       "output_type": "stream",
       "stream": "stderr",
       "text": [
        " 17% |#########                                                 | ETA:  0:00:26\r",
        " 18% |##########                                                | ETA:  0:00:25\r"
       ]
      },
      {
       "output_type": "stream",
       "stream": "stderr",
       "text": [
        " 19% |###########                                               | ETA:  0:00:25\r",
        " 20% |###########                                               | ETA:  0:00:25\r"
       ]
      },
      {
       "output_type": "stream",
       "stream": "stderr",
       "text": [
        " 21% |############                                              | ETA:  0:00:24\r",
        " 22% |############                                              | ETA:  0:00:24\r"
       ]
      },
      {
       "output_type": "stream",
       "stream": "stderr",
       "text": [
        " 23% |#############                                             | ETA:  0:00:24\r",
        " 24% |#############                                             | ETA:  0:00:24\r"
       ]
      },
      {
       "output_type": "stream",
       "stream": "stderr",
       "text": [
        " 25% |##############                                            | ETA:  0:00:23\r",
        " 26% |###############                                           | ETA:  0:00:23\r"
       ]
      },
      {
       "output_type": "stream",
       "stream": "stderr",
       "text": [
        " 27% |###############                                           | ETA:  0:00:23\r",
        " 28% |################                                          | ETA:  0:00:22\r"
       ]
      },
      {
       "output_type": "stream",
       "stream": "stderr",
       "text": [
        " 29% |################                                          | ETA:  0:00:22\r",
        " 30% |#################                                         | ETA:  0:00:22\r"
       ]
      },
      {
       "output_type": "stream",
       "stream": "stderr",
       "text": [
        " 31% |##################                                        | ETA:  0:00:21\r",
        " 32% |##################                                        | ETA:  0:00:21\r"
       ]
      },
      {
       "output_type": "stream",
       "stream": "stderr",
       "text": [
        " 33% |###################                                       | ETA:  0:00:21\r",
        " 34% |###################                                       | ETA:  0:00:20\r"
       ]
      },
      {
       "output_type": "stream",
       "stream": "stderr",
       "text": [
        " 35% |####################                                      | ETA:  0:00:20\r",
        " 36% |####################                                      | ETA:  0:00:20\r"
       ]
      },
      {
       "output_type": "stream",
       "stream": "stderr",
       "text": [
        " 37% |#####################                                     | ETA:  0:00:19\r",
        " 38% |######################                                    | ETA:  0:00:19\r"
       ]
      },
      {
       "output_type": "stream",
       "stream": "stderr",
       "text": [
        " 39% |######################                                    | ETA:  0:00:19\r",
        " 40% |#######################                                   | ETA:  0:00:18\r"
       ]
      },
      {
       "output_type": "stream",
       "stream": "stderr",
       "text": [
        " 41% |#######################                                   | ETA:  0:00:18\r",
        " 42% |########################                                  | ETA:  0:00:18\r"
       ]
      },
      {
       "output_type": "stream",
       "stream": "stderr",
       "text": [
        " 43% |#########################                                 | ETA:  0:00:18\r",
        " 44% |#########################                                 | ETA:  0:00:17\r"
       ]
      },
      {
       "output_type": "stream",
       "stream": "stderr",
       "text": [
        " 45% |##########################                                | ETA:  0:00:17\r",
        " 46% |##########################                                | ETA:  0:00:17\r"
       ]
      },
      {
       "output_type": "stream",
       "stream": "stderr",
       "text": [
        " 47% |###########################                               | ETA:  0:00:16\r",
        " 48% |###########################                               | ETA:  0:00:16\r"
       ]
      },
      {
       "output_type": "stream",
       "stream": "stderr",
       "text": [
        " 49% |############################                              | ETA:  0:00:16\r",
        " 50% |#############################                             | ETA:  0:00:15\r"
       ]
      },
      {
       "output_type": "stream",
       "stream": "stderr",
       "text": [
        " 51% |#############################                             | ETA:  0:00:15\r",
        " 52% |##############################                            | ETA:  0:00:15\r"
       ]
      },
      {
       "output_type": "stream",
       "stream": "stderr",
       "text": [
        " 53% |##############################                            | ETA:  0:00:14\r",
        " 54% |###############################                           | ETA:  0:00:14\r"
       ]
      },
      {
       "output_type": "stream",
       "stream": "stderr",
       "text": [
        " 55% |################################                          | ETA:  0:00:14\r",
        " 56% |################################                          | ETA:  0:00:13\r"
       ]
      },
      {
       "output_type": "stream",
       "stream": "stderr",
       "text": [
        " 57% |#################################                         | ETA:  0:00:13\r",
        " 58% |#################################                         | ETA:  0:00:13\r"
       ]
      },
      {
       "output_type": "stream",
       "stream": "stderr",
       "text": [
        " 59% |##################################                        | ETA:  0:00:12\r",
        " 60% |##################################                        | ETA:  0:00:12\r"
       ]
      },
      {
       "output_type": "stream",
       "stream": "stderr",
       "text": [
        " 61% |###################################                       | ETA:  0:00:12\r",
        " 62% |####################################                      | ETA:  0:00:11\r"
       ]
      },
      {
       "output_type": "stream",
       "stream": "stderr",
       "text": [
        " 63% |####################################                      | ETA:  0:00:11\r",
        " 64% |#####################################                     | ETA:  0:00:11\r"
       ]
      },
      {
       "output_type": "stream",
       "stream": "stderr",
       "text": [
        " 65% |#####################################                     | ETA:  0:00:11\r",
        " 66% |######################################                    | ETA:  0:00:10\r"
       ]
      },
      {
       "output_type": "stream",
       "stream": "stderr",
       "text": [
        " 67% |######################################                    | ETA:  0:00:10\r",
        " 68% |#######################################                   | ETA:  0:00:10\r"
       ]
      },
      {
       "output_type": "stream",
       "stream": "stderr",
       "text": [
        " 69% |########################################                  | ETA:  0:00:09\r",
        " 70% |########################################                  | ETA:  0:00:09\r"
       ]
      },
      {
       "output_type": "stream",
       "stream": "stderr",
       "text": [
        " 71% |#########################################                 | ETA:  0:00:09\r",
        " 72% |#########################################                 | ETA:  0:00:08\r"
       ]
      },
      {
       "output_type": "stream",
       "stream": "stderr",
       "text": [
        " 73% |##########################################                | ETA:  0:00:08\r",
        " 74% |###########################################               | ETA:  0:00:08\r"
       ]
      },
      {
       "output_type": "stream",
       "stream": "stderr",
       "text": [
        " 75% |###########################################               | ETA:  0:00:07\r",
        " 76% |############################################              | ETA:  0:00:07\r"
       ]
      },
      {
       "output_type": "stream",
       "stream": "stderr",
       "text": [
        " 77% |############################################              | ETA:  0:00:07\r",
        " 78% |#############################################             | ETA:  0:00:06\r"
       ]
      },
      {
       "output_type": "stream",
       "stream": "stderr",
       "text": [
        " 79% |#############################################             | ETA:  0:00:06\r",
        " 80% |##############################################            | ETA:  0:00:06\r"
       ]
      },
      {
       "output_type": "stream",
       "stream": "stderr",
       "text": [
        " 81% |###############################################           | ETA:  0:00:05\r",
        " 82% |###############################################           | ETA:  0:00:05\r"
       ]
      },
      {
       "output_type": "stream",
       "stream": "stderr",
       "text": [
        " 83% |################################################          | ETA:  0:00:05\r",
        " 84% |################################################          | ETA:  0:00:05\r"
       ]
      },
      {
       "output_type": "stream",
       "stream": "stderr",
       "text": [
        " 85% |#################################################         | ETA:  0:00:04\r",
        " 86% |##################################################        | ETA:  0:00:04\r"
       ]
      },
      {
       "output_type": "stream",
       "stream": "stderr",
       "text": [
        " 87% |##################################################        | ETA:  0:00:04\r",
        " 88% |###################################################       | ETA:  0:00:03\r"
       ]
      },
      {
       "output_type": "stream",
       "stream": "stderr",
       "text": [
        " 89% |###################################################       | ETA:  0:00:03\r",
        " 90% |####################################################      | ETA:  0:00:03\r"
       ]
      },
      {
       "output_type": "stream",
       "stream": "stderr",
       "text": [
        " 91% |####################################################      | ETA:  0:00:02\r",
        " 92% |#####################################################     | ETA:  0:00:02\r"
       ]
      },
      {
       "output_type": "stream",
       "stream": "stderr",
       "text": [
        " 93% |######################################################    | ETA:  0:00:02\r",
        " 94% |######################################################    | ETA:  0:00:01\r"
       ]
      },
      {
       "output_type": "stream",
       "stream": "stderr",
       "text": [
        " 95% |#######################################################   | ETA:  0:00:01\r",
        " 96% |#######################################################   | ETA:  0:00:01\r"
       ]
      },
      {
       "output_type": "stream",
       "stream": "stderr",
       "text": [
        " 97% |########################################################  | ETA:  0:00:00\r",
        " 98% |######################################################### | ETA:  0:00:00\r"
       ]
      },
      {
       "output_type": "stream",
       "stream": "stderr",
       "text": [
        " 99% |######################################################### | ETA:  0:00:00\r",
        "100% |##########################################################| Time: 0:00:31\r"
       ]
      },
      {
       "output_type": "stream",
       "stream": "stdout",
       "text": [
        "\n",
        "23223 23223 23223 1458912 334172\n",
        "\n"
       ]
      },
      {
       "output_type": "stream",
       "stream": "stdout",
       "text": [
        "Time elapsed during integration: 31.7639200687\n",
        "Start filling matrices.\n",
        "Done filling matrices."
       ]
      },
      {
       "output_type": "stream",
       "stream": "stderr",
       "text": [
        "\n",
        "  0% |                                                         | ETA:  --:--:--\r"
       ]
      },
      {
       "output_type": "stream",
       "stream": "stderr",
       "text": [
        "  1% |                                                          | ETA:  0:00:34\r",
        "  2% |#                                                         | ETA:  0:00:34\r"
       ]
      },
      {
       "output_type": "stream",
       "stream": "stderr",
       "text": [
        "  3% |#                                                         | ETA:  0:00:33\r",
        "  4% |##                                                        | ETA:  0:00:33\r"
       ]
      },
      {
       "output_type": "stream",
       "stream": "stderr",
       "text": [
        "  5% |##                                                        | ETA:  0:00:32\r",
        "  6% |###                                                       | ETA:  0:00:32\r"
       ]
      },
      {
       "output_type": "stream",
       "stream": "stderr",
       "text": [
        "  7% |####                                                      | ETA:  0:00:32\r",
        "  8% |####                                                      | ETA:  0:00:31\r"
       ]
      },
      {
       "output_type": "stream",
       "stream": "stderr",
       "text": [
        "  9% |#####                                                     | ETA:  0:00:31\r",
        " 10% |#####                                                     | ETA:  0:00:31\r"
       ]
      },
      {
       "output_type": "stream",
       "stream": "stderr",
       "text": [
        " 11% |######                                                    | ETA:  0:00:30\r",
        " 12% |######                                                    | ETA:  0:00:30\r"
       ]
      },
      {
       "output_type": "stream",
       "stream": "stderr",
       "text": [
        " 13% |#######                                                   | ETA:  0:00:30\r",
        " 14% |########                                                  | ETA:  0:00:29\r"
       ]
      },
      {
       "output_type": "stream",
       "stream": "stderr",
       "text": [
        " 15% |########                                                  | ETA:  0:00:29\r",
        " 16% |#########                                                 | ETA:  0:00:29\r"
       ]
      },
      {
       "output_type": "stream",
       "stream": "stderr",
       "text": [
        " 17% |#########                                                 | ETA:  0:00:28\r",
        " 18% |##########                                                | ETA:  0:00:28\r"
       ]
      },
      {
       "output_type": "stream",
       "stream": "stderr",
       "text": [
        " 19% |###########                                               | ETA:  0:00:28\r",
        " 20% |###########                                               | ETA:  0:00:27\r"
       ]
      },
      {
       "output_type": "stream",
       "stream": "stderr",
       "text": [
        " 21% |############                                              | ETA:  0:00:27\r",
        " 22% |############                                              | ETA:  0:00:26\r"
       ]
      },
      {
       "output_type": "stream",
       "stream": "stderr",
       "text": [
        " 23% |#############                                             | ETA:  0:00:26\r",
        " 24% |#############                                             | ETA:  0:00:26\r"
       ]
      },
      {
       "output_type": "stream",
       "stream": "stderr",
       "text": [
        " 25% |##############                                            | ETA:  0:00:25\r",
        " 26% |###############                                           | ETA:  0:00:25\r"
       ]
      },
      {
       "output_type": "stream",
       "stream": "stderr",
       "text": [
        " 27% |###############                                           | ETA:  0:00:25\r",
        " 28% |################                                          | ETA:  0:00:24\r"
       ]
      },
      {
       "output_type": "stream",
       "stream": "stderr",
       "text": [
        " 29% |################                                          | ETA:  0:00:24\r",
        " 30% |#################                                         | ETA:  0:00:24\r"
       ]
      },
      {
       "output_type": "stream",
       "stream": "stderr",
       "text": [
        " 31% |##################                                        | ETA:  0:00:23\r",
        " 32% |##################                                        | ETA:  0:00:23\r"
       ]
      },
      {
       "output_type": "stream",
       "stream": "stderr",
       "text": [
        " 33% |###################                                       | ETA:  0:00:23\r",
        " 34% |###################                                       | ETA:  0:00:22\r"
       ]
      },
      {
       "output_type": "stream",
       "stream": "stderr",
       "text": [
        " 35% |####################                                      | ETA:  0:00:22\r",
        " 36% |####################                                      | ETA:  0:00:22\r"
       ]
      },
      {
       "output_type": "stream",
       "stream": "stderr",
       "text": [
        " 37% |#####################                                     | ETA:  0:00:21\r",
        " 38% |######################                                    | ETA:  0:00:21\r"
       ]
      },
      {
       "output_type": "stream",
       "stream": "stderr",
       "text": [
        " 39% |######################                                    | ETA:  0:00:21\r",
        " 40% |#######################                                   | ETA:  0:00:20\r"
       ]
      },
      {
       "output_type": "stream",
       "stream": "stderr",
       "text": [
        " 41% |#######################                                   | ETA:  0:00:20\r",
        " 42% |########################                                  | ETA:  0:00:20\r"
       ]
      },
      {
       "output_type": "stream",
       "stream": "stderr",
       "text": [
        " 43% |#########################                                 | ETA:  0:00:19\r",
        " 44% |#########################                                 | ETA:  0:00:19\r"
       ]
      },
      {
       "output_type": "stream",
       "stream": "stderr",
       "text": [
        " 45% |##########################                                | ETA:  0:00:19\r",
        " 46% |##########################                                | ETA:  0:00:18\r"
       ]
      },
      {
       "output_type": "stream",
       "stream": "stderr",
       "text": [
        " 47% |###########################                               | ETA:  0:00:18\r",
        " 48% |###########################                               | ETA:  0:00:17\r"
       ]
      },
      {
       "output_type": "stream",
       "stream": "stderr",
       "text": [
        " 49% |############################                              | ETA:  0:00:17\r",
        " 50% |#############################                             | ETA:  0:00:17\r"
       ]
      },
      {
       "output_type": "stream",
       "stream": "stderr",
       "text": [
        " 51% |#############################                             | ETA:  0:00:16\r",
        " 52% |##############################                            | ETA:  0:00:16\r"
       ]
      },
      {
       "output_type": "stream",
       "stream": "stderr",
       "text": [
        " 53% |##############################                            | ETA:  0:00:16\r",
        " 54% |###############################                           | ETA:  0:00:15\r"
       ]
      },
      {
       "output_type": "stream",
       "stream": "stderr",
       "text": [
        " 55% |################################                          | ETA:  0:00:15\r",
        " 56% |################################                          | ETA:  0:00:15\r"
       ]
      },
      {
       "output_type": "stream",
       "stream": "stderr",
       "text": [
        " 57% |#################################                         | ETA:  0:00:14\r",
        " 58% |#################################                         | ETA:  0:00:14\r"
       ]
      },
      {
       "output_type": "stream",
       "stream": "stderr",
       "text": [
        " 59% |##################################                        | ETA:  0:00:14\r",
        " 60% |##################################                        | ETA:  0:00:13\r"
       ]
      },
      {
       "output_type": "stream",
       "stream": "stderr",
       "text": [
        " 61% |###################################                       | ETA:  0:00:13\r",
        " 62% |####################################                      | ETA:  0:00:13\r"
       ]
      },
      {
       "output_type": "stream",
       "stream": "stderr",
       "text": [
        " 63% |####################################                      | ETA:  0:00:12\r",
        " 64% |#####################################                     | ETA:  0:00:12\r"
       ]
      },
      {
       "output_type": "stream",
       "stream": "stderr",
       "text": [
        " 65% |#####################################                     | ETA:  0:00:12\r",
        " 66% |######################################                    | ETA:  0:00:11\r"
       ]
      },
      {
       "output_type": "stream",
       "stream": "stderr",
       "text": [
        " 67% |######################################                    | ETA:  0:00:11\r",
        " 68% |#######################################                   | ETA:  0:00:11\r"
       ]
      },
      {
       "output_type": "stream",
       "stream": "stderr",
       "text": [
        " 69% |########################################                  | ETA:  0:00:10\r",
        " 70% |########################################                  | ETA:  0:00:10\r"
       ]
      },
      {
       "output_type": "stream",
       "stream": "stderr",
       "text": [
        " 71% |#########################################                 | ETA:  0:00:09\r",
        " 72% |#########################################                 | ETA:  0:00:09\r"
       ]
      },
      {
       "output_type": "stream",
       "stream": "stderr",
       "text": [
        " 73% |##########################################                | ETA:  0:00:09\r",
        " 74% |###########################################               | ETA:  0:00:08\r"
       ]
      },
      {
       "output_type": "stream",
       "stream": "stderr",
       "text": [
        " 75% |###########################################               | ETA:  0:00:08\r",
        " 76% |############################################              | ETA:  0:00:08\r"
       ]
      },
      {
       "output_type": "stream",
       "stream": "stderr",
       "text": [
        " 77% |############################################              | ETA:  0:00:07\r",
        " 78% |#############################################             | ETA:  0:00:07\r"
       ]
      },
      {
       "output_type": "stream",
       "stream": "stderr",
       "text": [
        " 79% |#############################################             | ETA:  0:00:07\r",
        " 80% |##############################################            | ETA:  0:00:06\r"
       ]
      },
      {
       "output_type": "stream",
       "stream": "stderr",
       "text": [
        " 81% |###############################################           | ETA:  0:00:06\r",
        " 82% |###############################################           | ETA:  0:00:06\r"
       ]
      },
      {
       "output_type": "stream",
       "stream": "stderr",
       "text": [
        " 83% |################################################          | ETA:  0:00:05\r",
        " 84% |################################################          | ETA:  0:00:05\r"
       ]
      },
      {
       "output_type": "stream",
       "stream": "stderr",
       "text": [
        " 85% |#################################################         | ETA:  0:00:05\r",
        " 86% |##################################################        | ETA:  0:00:04\r"
       ]
      },
      {
       "output_type": "stream",
       "stream": "stderr",
       "text": [
        " 87% |##################################################        | ETA:  0:00:04\r",
        " 88% |###################################################       | ETA:  0:00:04\r"
       ]
      },
      {
       "output_type": "stream",
       "stream": "stderr",
       "text": [
        " 89% |###################################################       | ETA:  0:00:03\r",
        " 90% |####################################################      | ETA:  0:00:03\r"
       ]
      },
      {
       "output_type": "stream",
       "stream": "stderr",
       "text": [
        " 91% |####################################################      | ETA:  0:00:03\r",
        " 92% |#####################################################     | ETA:  0:00:02\r"
       ]
      },
      {
       "output_type": "stream",
       "stream": "stderr",
       "text": [
        " 93% |######################################################    | ETA:  0:00:02\r",
        " 94% |######################################################    | ETA:  0:00:01\r"
       ]
      },
      {
       "output_type": "stream",
       "stream": "stderr",
       "text": [
        " 95% |#######################################################   | ETA:  0:00:01\r",
        " 96% |#######################################################   | ETA:  0:00:01\r"
       ]
      },
      {
       "output_type": "stream",
       "stream": "stderr",
       "text": [
        " 97% |########################################################  | ETA:  0:00:00\r",
        " 98% |######################################################### | ETA:  0:00:00\r"
       ]
      },
      {
       "output_type": "stream",
       "stream": "stderr",
       "text": [
        " 99% |######################################################### | ETA:  0:00:00\r",
        "100% |##########################################################| Time: 0:00:34\r"
       ]
      },
      {
       "output_type": "stream",
       "stream": "stdout",
       "text": [
        "\n",
        "23223 23223 23223 1636708 333737\n",
        "\n"
       ]
      },
      {
       "output_type": "stream",
       "stream": "stdout",
       "text": [
        "Time elapsed during integration: 34.7326049805\n",
        "Start filling matrices.\n",
        "Done filling matrices."
       ]
      },
      {
       "output_type": "stream",
       "stream": "stderr",
       "text": [
        "\n",
        "  0% |                                                         | ETA:  --:--:--\r"
       ]
      },
      {
       "output_type": "stream",
       "stream": "stderr",
       "text": [
        "  1% |                                                          | ETA:  0:00:37\r",
        "  2% |#                                                         | ETA:  0:00:36\r"
       ]
      },
      {
       "output_type": "stream",
       "stream": "stderr",
       "text": [
        "  3% |#                                                         | ETA:  0:00:36\r",
        "  4% |##                                                        | ETA:  0:00:35\r"
       ]
      },
      {
       "output_type": "stream",
       "stream": "stderr",
       "text": [
        "  5% |##                                                        | ETA:  0:00:35\r",
        "  6% |###                                                       | ETA:  0:00:34\r"
       ]
      },
      {
       "output_type": "stream",
       "stream": "stderr",
       "text": [
        "  7% |####                                                      | ETA:  0:00:34\r",
        "  8% |####                                                      | ETA:  0:00:33\r"
       ]
      },
      {
       "output_type": "stream",
       "stream": "stderr",
       "text": [
        "  9% |#####                                                     | ETA:  0:00:33\r",
        " 10% |#####                                                     | ETA:  0:00:33\r"
       ]
      },
      {
       "output_type": "stream",
       "stream": "stderr",
       "text": [
        " 11% |######                                                    | ETA:  0:00:32\r",
        " 12% |######                                                    | ETA:  0:00:32\r"
       ]
      },
      {
       "output_type": "stream",
       "stream": "stderr",
       "text": [
        " 13% |#######                                                   | ETA:  0:00:32\r",
        " 14% |########                                                  | ETA:  0:00:31\r"
       ]
      },
      {
       "output_type": "stream",
       "stream": "stderr",
       "text": [
        " 15% |########                                                  | ETA:  0:00:31\r",
        " 16% |#########                                                 | ETA:  0:00:30\r"
       ]
      },
      {
       "output_type": "stream",
       "stream": "stderr",
       "text": [
        " 17% |#########                                                 | ETA:  0:00:30\r",
        " 18% |##########                                                | ETA:  0:00:30\r"
       ]
      },
      {
       "output_type": "stream",
       "stream": "stderr",
       "text": [
        " 19% |###########                                               | ETA:  0:00:29\r",
        " 20% |###########                                               | ETA:  0:00:29\r"
       ]
      },
      {
       "output_type": "stream",
       "stream": "stderr",
       "text": [
        " 21% |############                                              | ETA:  0:00:29\r",
        " 22% |############                                              | ETA:  0:00:28\r"
       ]
      },
      {
       "output_type": "stream",
       "stream": "stderr",
       "text": [
        " 23% |#############                                             | ETA:  0:00:28\r",
        " 24% |#############                                             | ETA:  0:00:27\r"
       ]
      },
      {
       "output_type": "stream",
       "stream": "stderr",
       "text": [
        " 25% |##############                                            | ETA:  0:00:27\r",
        " 26% |###############                                           | ETA:  0:00:27\r"
       ]
      },
      {
       "output_type": "stream",
       "stream": "stderr",
       "text": [
        " 27% |###############                                           | ETA:  0:00:26\r",
        " 28% |################                                          | ETA:  0:00:26\r"
       ]
      },
      {
       "output_type": "stream",
       "stream": "stderr",
       "text": [
        " 29% |################                                          | ETA:  0:00:26\r",
        " 30% |#################                                         | ETA:  0:00:25\r"
       ]
      },
      {
       "output_type": "stream",
       "stream": "stderr",
       "text": [
        " 31% |##################                                        | ETA:  0:00:25\r",
        " 32% |##################                                        | ETA:  0:00:25\r"
       ]
      },
      {
       "output_type": "stream",
       "stream": "stderr",
       "text": [
        " 33% |###################                                       | ETA:  0:00:24\r",
        " 34% |###################                                       | ETA:  0:00:24\r"
       ]
      },
      {
       "output_type": "stream",
       "stream": "stderr",
       "text": [
        " 35% |####################                                      | ETA:  0:00:23\r",
        " 36% |####################                                      | ETA:  0:00:23\r"
       ]
      },
      {
       "output_type": "stream",
       "stream": "stderr",
       "text": [
        " 37% |#####################                                     | ETA:  0:00:23\r",
        " 38% |######################                                    | ETA:  0:00:22\r"
       ]
      },
      {
       "output_type": "stream",
       "stream": "stderr",
       "text": [
        " 39% |######################                                    | ETA:  0:00:22\r",
        " 40% |#######################                                   | ETA:  0:00:22\r"
       ]
      },
      {
       "output_type": "stream",
       "stream": "stderr",
       "text": [
        " 41% |#######################                                   | ETA:  0:00:21\r",
        " 42% |########################                                  | ETA:  0:00:21\r"
       ]
      },
      {
       "output_type": "stream",
       "stream": "stderr",
       "text": [
        " 43% |#########################                                 | ETA:  0:00:20\r",
        " 44% |#########################                                 | ETA:  0:00:20\r"
       ]
      },
      {
       "output_type": "stream",
       "stream": "stderr",
       "text": [
        " 45% |##########################                                | ETA:  0:00:20\r",
        " 46% |##########################                                | ETA:  0:00:19\r"
       ]
      },
      {
       "output_type": "stream",
       "stream": "stderr",
       "text": [
        " 47% |###########################                               | ETA:  0:00:19\r",
        " 48% |###########################                               | ETA:  0:00:19\r"
       ]
      },
      {
       "output_type": "stream",
       "stream": "stderr",
       "text": [
        " 49% |############################                              | ETA:  0:00:18\r",
        " 50% |#############################                             | ETA:  0:00:18\r"
       ]
      },
      {
       "output_type": "stream",
       "stream": "stderr",
       "text": [
        " 51% |#############################                             | ETA:  0:00:18\r",
        " 52% |##############################                            | ETA:  0:00:17\r"
       ]
      },
      {
       "output_type": "stream",
       "stream": "stderr",
       "text": [
        " 53% |##############################                            | ETA:  0:00:17\r",
        " 54% |###############################                           | ETA:  0:00:16\r"
       ]
      },
      {
       "output_type": "stream",
       "stream": "stderr",
       "text": [
        " 55% |################################                          | ETA:  0:00:16\r",
        " 56% |################################                          | ETA:  0:00:16\r"
       ]
      },
      {
       "output_type": "stream",
       "stream": "stderr",
       "text": [
        " 57% |#################################                         | ETA:  0:00:15\r",
        " 58% |#################################                         | ETA:  0:00:15\r"
       ]
      },
      {
       "output_type": "stream",
       "stream": "stderr",
       "text": [
        " 59% |##################################                        | ETA:  0:00:15\r",
        " 60% |##################################                        | ETA:  0:00:14\r"
       ]
      },
      {
       "output_type": "stream",
       "stream": "stderr",
       "text": [
        " 61% |###################################                       | ETA:  0:00:14\r",
        " 62% |####################################                      | ETA:  0:00:13\r"
       ]
      },
      {
       "output_type": "stream",
       "stream": "stderr",
       "text": [
        " 63% |####################################                      | ETA:  0:00:13\r",
        " 64% |#####################################                     | ETA:  0:00:13\r"
       ]
      },
      {
       "output_type": "stream",
       "stream": "stderr",
       "text": [
        " 65% |#####################################                     | ETA:  0:00:12\r",
        " 66% |######################################                    | ETA:  0:00:12\r"
       ]
      },
      {
       "output_type": "stream",
       "stream": "stderr",
       "text": [
        " 67% |######################################                    | ETA:  0:00:12\r",
        " 68% |#######################################                   | ETA:  0:00:11\r"
       ]
      },
      {
       "output_type": "stream",
       "stream": "stderr",
       "text": [
        " 69% |########################################                  | ETA:  0:00:11\r",
        " 70% |########################################                  | ETA:  0:00:10\r"
       ]
      },
      {
       "output_type": "stream",
       "stream": "stderr",
       "text": [
        " 71% |#########################################                 | ETA:  0:00:10\r",
        " 72% |#########################################                 | ETA:  0:00:10\r"
       ]
      },
      {
       "output_type": "stream",
       "stream": "stderr",
       "text": [
        " 73% |##########################################                | ETA:  0:00:09\r",
        " 74% |###########################################               | ETA:  0:00:09\r"
       ]
      },
      {
       "output_type": "stream",
       "stream": "stderr",
       "text": [
        " 75% |###########################################               | ETA:  0:00:09\r",
        " 76% |############################################              | ETA:  0:00:08\r"
       ]
      },
      {
       "output_type": "stream",
       "stream": "stderr",
       "text": [
        " 77% |############################################              | ETA:  0:00:08\r",
        " 78% |#############################################             | ETA:  0:00:08\r"
       ]
      },
      {
       "output_type": "stream",
       "stream": "stderr",
       "text": [
        " 79% |#############################################             | ETA:  0:00:07\r",
        " 80% |##############################################            | ETA:  0:00:07\r"
       ]
      },
      {
       "output_type": "stream",
       "stream": "stderr",
       "text": [
        " 81% |###############################################           | ETA:  0:00:06\r",
        " 82% |###############################################           | ETA:  0:00:06\r"
       ]
      },
      {
       "output_type": "stream",
       "stream": "stderr",
       "text": [
        " 83% |################################################          | ETA:  0:00:06\r",
        " 84% |################################################          | ETA:  0:00:05\r"
       ]
      },
      {
       "output_type": "stream",
       "stream": "stderr",
       "text": [
        " 85% |#################################################         | ETA:  0:00:05\r",
        " 86% |##################################################        | ETA:  0:00:05\r"
       ]
      },
      {
       "output_type": "stream",
       "stream": "stderr",
       "text": [
        " 87% |##################################################        | ETA:  0:00:04\r",
        " 88% |###################################################       | ETA:  0:00:04\r"
       ]
      },
      {
       "output_type": "stream",
       "stream": "stderr",
       "text": [
        " 89% |###################################################       | ETA:  0:00:03\r",
        " 90% |####################################################      | ETA:  0:00:03\r"
       ]
      },
      {
       "output_type": "stream",
       "stream": "stderr",
       "text": [
        " 91% |####################################################      | ETA:  0:00:03\r",
        " 92% |#####################################################     | ETA:  0:00:02\r"
       ]
      },
      {
       "output_type": "stream",
       "stream": "stderr",
       "text": [
        " 93% |######################################################    | ETA:  0:00:02\r",
        " 94% |######################################################    | ETA:  0:00:02\r"
       ]
      },
      {
       "output_type": "stream",
       "stream": "stderr",
       "text": [
        " 95% |#######################################################   | ETA:  0:00:01\r",
        " 96% |#######################################################   | ETA:  0:00:01\r"
       ]
      },
      {
       "output_type": "stream",
       "stream": "stderr",
       "text": [
        " 97% |########################################################  | ETA:  0:00:00\r",
        " 98% |######################################################### | ETA:  0:00:00\r"
       ]
      },
      {
       "output_type": "stream",
       "stream": "stderr",
       "text": [
        " 99% |######################################################### | ETA:  0:00:00\r",
        "100% |##########################################################| Time: 0:00:36\r"
       ]
      },
      {
       "output_type": "stream",
       "stream": "stdout",
       "text": [
        "\n",
        "23223 23223 23223 1714300 376497\n",
        "\n"
       ]
      },
      {
       "output_type": "stream",
       "stream": "stdout",
       "text": [
        "Time elapsed during integration: 36.8905320168\n",
        "Start filling matrices.\n",
        "Done filling matrices."
       ]
      },
      {
       "output_type": "stream",
       "stream": "stderr",
       "text": [
        "\n",
        "  0% |                                                         | ETA:  --:--:--\r"
       ]
      },
      {
       "output_type": "stream",
       "stream": "stderr",
       "text": [
        "  1% |                                                          | ETA:  0:00:33\r",
        "  2% |#                                                         | ETA:  0:00:33\r"
       ]
      },
      {
       "output_type": "stream",
       "stream": "stderr",
       "text": [
        "  3% |#                                                         | ETA:  0:00:32\r",
        "  4% |##                                                        | ETA:  0:00:32\r"
       ]
      },
      {
       "output_type": "stream",
       "stream": "stderr",
       "text": [
        "  5% |##                                                        | ETA:  0:00:32\r",
        "  6% |###                                                       | ETA:  0:00:31\r"
       ]
      },
      {
       "output_type": "stream",
       "stream": "stderr",
       "text": [
        "  7% |####                                                      | ETA:  0:00:31\r",
        "  8% |####                                                      | ETA:  0:00:31\r"
       ]
      },
      {
       "output_type": "stream",
       "stream": "stderr",
       "text": [
        "  9% |#####                                                     | ETA:  0:00:30\r",
        " 10% |#####                                                     | ETA:  0:00:30\r"
       ]
      },
      {
       "output_type": "stream",
       "stream": "stderr",
       "text": [
        " 11% |######                                                    | ETA:  0:00:30\r",
        " 12% |######                                                    | ETA:  0:00:29\r"
       ]
      },
      {
       "output_type": "stream",
       "stream": "stderr",
       "text": [
        " 13% |#######                                                   | ETA:  0:00:29\r",
        " 14% |########                                                  | ETA:  0:00:29\r"
       ]
      },
      {
       "output_type": "stream",
       "stream": "stderr",
       "text": [
        " 15% |########                                                  | ETA:  0:00:28\r",
        " 16% |#########                                                 | ETA:  0:00:28\r"
       ]
      },
      {
       "output_type": "stream",
       "stream": "stderr",
       "text": [
        " 17% |#########                                                 | ETA:  0:00:28\r",
        " 18% |##########                                                | ETA:  0:00:27\r"
       ]
      },
      {
       "output_type": "stream",
       "stream": "stderr",
       "text": [
        " 19% |###########                                               | ETA:  0:00:27\r",
        " 20% |###########                                               | ETA:  0:00:27\r"
       ]
      },
      {
       "output_type": "stream",
       "stream": "stderr",
       "text": [
        " 21% |############                                              | ETA:  0:00:26\r",
        " 22% |############                                              | ETA:  0:00:26\r"
       ]
      },
      {
       "output_type": "stream",
       "stream": "stderr",
       "text": [
        " 23% |#############                                             | ETA:  0:00:26\r",
        " 24% |#############                                             | ETA:  0:00:25\r"
       ]
      },
      {
       "output_type": "stream",
       "stream": "stderr",
       "text": [
        " 25% |##############                                            | ETA:  0:00:25\r",
        " 26% |###############                                           | ETA:  0:00:25\r"
       ]
      },
      {
       "output_type": "stream",
       "stream": "stderr",
       "text": [
        " 27% |###############                                           | ETA:  0:00:24\r",
        " 28% |################                                          | ETA:  0:00:24\r"
       ]
      },
      {
       "output_type": "stream",
       "stream": "stderr",
       "text": [
        " 29% |################                                          | ETA:  0:00:23\r",
        " 30% |#################                                         | ETA:  0:00:23\r"
       ]
      },
      {
       "output_type": "stream",
       "stream": "stderr",
       "text": [
        " 31% |##################                                        | ETA:  0:00:23\r",
        " 32% |##################                                        | ETA:  0:00:22\r"
       ]
      },
      {
       "output_type": "stream",
       "stream": "stderr",
       "text": [
        " 33% |###################                                       | ETA:  0:00:22\r",
        " 34% |###################                                       | ETA:  0:00:22\r"
       ]
      },
      {
       "output_type": "stream",
       "stream": "stderr",
       "text": [
        " 35% |####################                                      | ETA:  0:00:21\r",
        " 36% |####################                                      | ETA:  0:00:21\r"
       ]
      },
      {
       "output_type": "stream",
       "stream": "stderr",
       "text": [
        " 37% |#####################                                     | ETA:  0:00:21\r",
        " 38% |######################                                    | ETA:  0:00:21\r"
       ]
      },
      {
       "output_type": "stream",
       "stream": "stderr",
       "text": [
        " 39% |######################                                    | ETA:  0:00:20\r",
        " 40% |#######################                                   | ETA:  0:00:20\r"
       ]
      },
      {
       "output_type": "stream",
       "stream": "stderr",
       "text": [
        " 41% |#######################                                   | ETA:  0:00:19\r",
        " 42% |########################                                  | ETA:  0:00:19\r"
       ]
      },
      {
       "output_type": "stream",
       "stream": "stderr",
       "text": [
        " 43% |#########################                                 | ETA:  0:00:19\r",
        " 44% |#########################                                 | ETA:  0:00:18\r"
       ]
      },
      {
       "output_type": "stream",
       "stream": "stderr",
       "text": [
        " 45% |##########################                                | ETA:  0:00:18\r",
        " 46% |##########################                                | ETA:  0:00:18\r"
       ]
      },
      {
       "output_type": "stream",
       "stream": "stderr",
       "text": [
        " 47% |###########################                               | ETA:  0:00:17\r",
        " 48% |###########################                               | ETA:  0:00:17\r"
       ]
      },
      {
       "output_type": "stream",
       "stream": "stderr",
       "text": [
        " 49% |############################                              | ETA:  0:00:17\r",
        " 50% |#############################                             | ETA:  0:00:16\r"
       ]
      },
      {
       "output_type": "stream",
       "stream": "stderr",
       "text": [
        " 51% |#############################                             | ETA:  0:00:16\r",
        " 52% |##############################                            | ETA:  0:00:16\r"
       ]
      },
      {
       "output_type": "stream",
       "stream": "stderr",
       "text": [
        " 53% |##############################                            | ETA:  0:00:15\r",
        " 54% |###############################                           | ETA:  0:00:15\r"
       ]
      },
      {
       "output_type": "stream",
       "stream": "stderr",
       "text": [
        " 55% |################################                          | ETA:  0:00:15\r",
        " 56% |################################                          | ETA:  0:00:14\r"
       ]
      },
      {
       "output_type": "stream",
       "stream": "stderr",
       "text": [
        " 57% |#################################                         | ETA:  0:00:14\r",
        " 58% |#################################                         | ETA:  0:00:14\r"
       ]
      },
      {
       "output_type": "stream",
       "stream": "stderr",
       "text": [
        " 59% |##################################                        | ETA:  0:00:13\r",
        " 60% |##################################                        | ETA:  0:00:13\r"
       ]
      },
      {
       "output_type": "stream",
       "stream": "stderr",
       "text": [
        " 61% |###################################                       | ETA:  0:00:13\r",
        " 62% |####################################                      | ETA:  0:00:12\r"
       ]
      },
      {
       "output_type": "stream",
       "stream": "stderr",
       "text": [
        " 63% |####################################                      | ETA:  0:00:12\r",
        " 64% |#####################################                     | ETA:  0:00:12\r"
       ]
      },
      {
       "output_type": "stream",
       "stream": "stderr",
       "text": [
        " 65% |#####################################                     | ETA:  0:00:11\r",
        " 66% |######################################                    | ETA:  0:00:11\r"
       ]
      },
      {
       "output_type": "stream",
       "stream": "stderr",
       "text": [
        " 67% |######################################                    | ETA:  0:00:11\r",
        " 68% |#######################################                   | ETA:  0:00:10\r"
       ]
      },
      {
       "output_type": "stream",
       "stream": "stderr",
       "text": [
        " 69% |########################################                  | ETA:  0:00:10\r",
        " 70% |########################################                  | ETA:  0:00:10\r"
       ]
      },
      {
       "output_type": "stream",
       "stream": "stderr",
       "text": [
        " 71% |#########################################                 | ETA:  0:00:09\r",
        " 72% |#########################################                 | ETA:  0:00:09\r"
       ]
      },
      {
       "output_type": "stream",
       "stream": "stderr",
       "text": [
        " 73% |##########################################                | ETA:  0:00:09\r",
        " 74% |###########################################               | ETA:  0:00:08\r"
       ]
      },
      {
       "output_type": "stream",
       "stream": "stderr",
       "text": [
        " 75% |###########################################               | ETA:  0:00:08\r",
        " 76% |############################################              | ETA:  0:00:08\r"
       ]
      },
      {
       "output_type": "stream",
       "stream": "stderr",
       "text": [
        " 77% |############################################              | ETA:  0:00:07\r",
        " 78% |#############################################             | ETA:  0:00:07\r"
       ]
      },
      {
       "output_type": "stream",
       "stream": "stderr",
       "text": [
        " 79% |#############################################             | ETA:  0:00:07\r",
        " 80% |##############################################            | ETA:  0:00:06\r"
       ]
      },
      {
       "output_type": "stream",
       "stream": "stderr",
       "text": [
        " 81% |###############################################           | ETA:  0:00:06\r",
        " 82% |###############################################           | ETA:  0:00:06\r"
       ]
      },
      {
       "output_type": "stream",
       "stream": "stderr",
       "text": [
        " 83% |################################################          | ETA:  0:00:05\r",
        " 84% |################################################          | ETA:  0:00:05\r"
       ]
      },
      {
       "output_type": "stream",
       "stream": "stderr",
       "text": [
        " 85% |#################################################         | ETA:  0:00:04\r",
        " 86% |##################################################        | ETA:  0:00:04\r"
       ]
      },
      {
       "output_type": "stream",
       "stream": "stderr",
       "text": [
        " 87% |##################################################        | ETA:  0:00:04\r",
        " 88% |###################################################       | ETA:  0:00:03\r"
       ]
      },
      {
       "output_type": "stream",
       "stream": "stderr",
       "text": [
        " 89% |###################################################       | ETA:  0:00:03\r",
        " 90% |####################################################      | ETA:  0:00:03\r"
       ]
      },
      {
       "output_type": "stream",
       "stream": "stderr",
       "text": [
        " 91% |####################################################      | ETA:  0:00:02\r",
        " 92% |#####################################################     | ETA:  0:00:02\r"
       ]
      },
      {
       "output_type": "stream",
       "stream": "stderr",
       "text": [
        " 93% |######################################################    | ETA:  0:00:02\r",
        " 94% |######################################################    | ETA:  0:00:01\r"
       ]
      },
      {
       "output_type": "stream",
       "stream": "stderr",
       "text": [
        " 95% |#######################################################   | ETA:  0:00:01\r",
        " 96% |#######################################################   | ETA:  0:00:01\r"
       ]
      },
      {
       "output_type": "stream",
       "stream": "stderr",
       "text": [
        " 97% |########################################################  | ETA:  0:00:00\r",
        " 98% |######################################################### | ETA:  0:00:00\r"
       ]
      },
      {
       "output_type": "stream",
       "stream": "stderr",
       "text": [
        " 99% |######################################################### | ETA:  0:00:00\r",
        "100% |##########################################################| Time: 0:00:33\r"
       ]
      },
      {
       "output_type": "stream",
       "stream": "stdout",
       "text": [
        "\n",
        "23223 23223 23223 1533501 377790\n",
        "\n"
       ]
      },
      {
       "output_type": "stream",
       "stream": "stdout",
       "text": [
        "Time elapsed during integration: 33.8354251385\n",
        "Start filling matrices.\n",
        "Done filling matrices."
       ]
      },
      {
       "output_type": "stream",
       "stream": "stderr",
       "text": [
        "\n",
        "  0% |                                                         | ETA:  --:--:--\r"
       ]
      },
      {
       "output_type": "stream",
       "stream": "stderr",
       "text": [
        "  1% |                                                          | ETA:  0:00:35\r",
        "  2% |#                                                         | ETA:  0:00:35\r"
       ]
      },
      {
       "output_type": "stream",
       "stream": "stderr",
       "text": [
        "  3% |#                                                         | ETA:  0:00:34\r",
        "  4% |##                                                        | ETA:  0:00:33\r"
       ]
      },
      {
       "output_type": "stream",
       "stream": "stderr",
       "text": [
        "  5% |##                                                        | ETA:  0:00:33\r",
        "  6% |###                                                       | ETA:  0:00:33\r"
       ]
      },
      {
       "output_type": "stream",
       "stream": "stderr",
       "text": [
        "  7% |####                                                      | ETA:  0:00:33\r",
        "  8% |####                                                      | ETA:  0:00:32\r"
       ]
      },
      {
       "output_type": "stream",
       "stream": "stderr",
       "text": [
        "  9% |#####                                                     | ETA:  0:00:32\r",
        " 10% |#####                                                     | ETA:  0:00:32\r"
       ]
      },
      {
       "output_type": "stream",
       "stream": "stderr",
       "text": [
        " 11% |######                                                    | ETA:  0:00:31\r",
        " 12% |######                                                    | ETA:  0:00:31\r"
       ]
      },
      {
       "output_type": "stream",
       "stream": "stderr",
       "text": [
        " 13% |#######                                                   | ETA:  0:00:31\r",
        " 14% |########                                                  | ETA:  0:00:31\r"
       ]
      },
      {
       "output_type": "stream",
       "stream": "stderr",
       "text": [
        " 15% |########                                                  | ETA:  0:00:30\r",
        " 16% |#########                                                 | ETA:  0:00:30\r"
       ]
      },
      {
       "output_type": "stream",
       "stream": "stderr",
       "text": [
        " 17% |#########                                                 | ETA:  0:00:30\r",
        " 18% |##########                                                | ETA:  0:00:29\r"
       ]
      },
      {
       "output_type": "stream",
       "stream": "stderr",
       "text": [
        " 19% |###########                                               | ETA:  0:00:29\r",
        " 20% |###########                                               | ETA:  0:00:28\r"
       ]
      },
      {
       "output_type": "stream",
       "stream": "stderr",
       "text": [
        " 21% |############                                              | ETA:  0:00:28\r",
        " 22% |############                                              | ETA:  0:00:28\r"
       ]
      },
      {
       "output_type": "stream",
       "stream": "stderr",
       "text": [
        " 23% |#############                                             | ETA:  0:00:27\r",
        " 24% |#############                                             | ETA:  0:00:27\r"
       ]
      },
      {
       "output_type": "stream",
       "stream": "stderr",
       "text": [
        " 25% |##############                                            | ETA:  0:00:27\r",
        " 26% |###############                                           | ETA:  0:00:26\r"
       ]
      },
      {
       "output_type": "stream",
       "stream": "stderr",
       "text": [
        " 27% |###############                                           | ETA:  0:00:26\r",
        " 28% |################                                          | ETA:  0:00:25\r"
       ]
      },
      {
       "output_type": "stream",
       "stream": "stderr",
       "text": [
        " 29% |################                                          | ETA:  0:00:25\r",
        " 30% |#################                                         | ETA:  0:00:25\r"
       ]
      },
      {
       "output_type": "stream",
       "stream": "stderr",
       "text": [
        " 31% |##################                                        | ETA:  0:00:24\r",
        " 32% |##################                                        | ETA:  0:00:24\r"
       ]
      },
      {
       "output_type": "stream",
       "stream": "stderr",
       "text": [
        " 33% |###################                                       | ETA:  0:00:24\r",
        " 34% |###################                                       | ETA:  0:00:23\r"
       ]
      },
      {
       "output_type": "stream",
       "stream": "stderr",
       "text": [
        " 35% |####################                                      | ETA:  0:00:23\r",
        " 36% |####################                                      | ETA:  0:00:22\r"
       ]
      },
      {
       "output_type": "stream",
       "stream": "stderr",
       "text": [
        " 37% |#####################                                     | ETA:  0:00:22\r",
        " 38% |######################                                    | ETA:  0:00:22\r"
       ]
      },
      {
       "output_type": "stream",
       "stream": "stderr",
       "text": [
        " 39% |######################                                    | ETA:  0:00:21\r",
        " 40% |#######################                                   | ETA:  0:00:21\r"
       ]
      },
      {
       "output_type": "stream",
       "stream": "stderr",
       "text": [
        " 41% |#######################                                   | ETA:  0:00:21\r",
        " 42% |########################                                  | ETA:  0:00:20\r"
       ]
      },
      {
       "output_type": "stream",
       "stream": "stderr",
       "text": [
        " 43% |#########################                                 | ETA:  0:00:20\r",
        " 44% |#########################                                 | ETA:  0:00:20\r"
       ]
      },
      {
       "output_type": "stream",
       "stream": "stderr",
       "text": [
        " 45% |##########################                                | ETA:  0:00:19\r",
        " 46% |##########################                                | ETA:  0:00:19\r"
       ]
      },
      {
       "output_type": "stream",
       "stream": "stderr",
       "text": [
        " 47% |###########################                               | ETA:  0:00:18\r",
        " 48% |###########################                               | ETA:  0:00:18\r"
       ]
      },
      {
       "output_type": "stream",
       "stream": "stderr",
       "text": [
        " 49% |############################                              | ETA:  0:00:18\r",
        " 50% |#############################                             | ETA:  0:00:17\r"
       ]
      },
      {
       "output_type": "stream",
       "stream": "stderr",
       "text": [
        " 51% |#############################                             | ETA:  0:00:17\r",
        " 52% |##############################                            | ETA:  0:00:17\r"
       ]
      },
      {
       "output_type": "stream",
       "stream": "stderr",
       "text": [
        " 53% |##############################                            | ETA:  0:00:16\r",
        " 54% |###############################                           | ETA:  0:00:16\r"
       ]
      },
      {
       "output_type": "stream",
       "stream": "stderr",
       "text": [
        " 55% |################################                          | ETA:  0:00:16\r",
        " 56% |################################                          | ETA:  0:00:15\r"
       ]
      },
      {
       "output_type": "stream",
       "stream": "stderr",
       "text": [
        " 57% |#################################                         | ETA:  0:00:15\r",
        " 58% |#################################                         | ETA:  0:00:14\r"
       ]
      },
      {
       "output_type": "stream",
       "stream": "stderr",
       "text": [
        " 59% |##################################                        | ETA:  0:00:14\r",
        " 60% |##################################                        | ETA:  0:00:14\r"
       ]
      },
      {
       "output_type": "stream",
       "stream": "stderr",
       "text": [
        " 61% |###################################                       | ETA:  0:00:13\r",
        " 62% |####################################                      | ETA:  0:00:13\r"
       ]
      },
      {
       "output_type": "stream",
       "stream": "stderr",
       "text": [
        " 63% |####################################                      | ETA:  0:00:13\r",
        " 64% |#####################################                     | ETA:  0:00:12\r"
       ]
      },
      {
       "output_type": "stream",
       "stream": "stderr",
       "text": [
        " 65% |#####################################                     | ETA:  0:00:12\r",
        " 66% |######################################                    | ETA:  0:00:12\r"
       ]
      },
      {
       "output_type": "stream",
       "stream": "stderr",
       "text": [
        " 67% |######################################                    | ETA:  0:00:11\r",
        " 68% |#######################################                   | ETA:  0:00:11\r"
       ]
      },
      {
       "output_type": "stream",
       "stream": "stderr",
       "text": [
        " 69% |########################################                  | ETA:  0:00:10\r",
        " 70% |########################################                  | ETA:  0:00:10\r"
       ]
      },
      {
       "output_type": "stream",
       "stream": "stderr",
       "text": [
        " 71% |#########################################                 | ETA:  0:00:10\r",
        " 72% |#########################################                 | ETA:  0:00:09\r"
       ]
      },
      {
       "output_type": "stream",
       "stream": "stderr",
       "text": [
        " 73% |##########################################                | ETA:  0:00:09\r",
        " 74% |###########################################               | ETA:  0:00:09\r"
       ]
      },
      {
       "output_type": "stream",
       "stream": "stderr",
       "text": [
        " 75% |###########################################               | ETA:  0:00:08\r",
        " 76% |############################################              | ETA:  0:00:08\r"
       ]
      },
      {
       "output_type": "stream",
       "stream": "stderr",
       "text": [
        " 77% |############################################              | ETA:  0:00:08\r",
        " 78% |#############################################             | ETA:  0:00:07\r"
       ]
      },
      {
       "output_type": "stream",
       "stream": "stderr",
       "text": [
        " 79% |#############################################             | ETA:  0:00:07\r",
        " 80% |##############################################            | ETA:  0:00:07\r"
       ]
      },
      {
       "output_type": "stream",
       "stream": "stderr",
       "text": [
        " 81% |###############################################           | ETA:  0:00:06\r",
        " 82% |###############################################           | ETA:  0:00:06\r"
       ]
      },
      {
       "output_type": "stream",
       "stream": "stderr",
       "text": [
        " 83% |################################################          | ETA:  0:00:05\r",
        " 84% |################################################          | ETA:  0:00:05\r"
       ]
      },
      {
       "output_type": "stream",
       "stream": "stderr",
       "text": [
        " 85% |#################################################         | ETA:  0:00:05\r",
        " 86% |##################################################        | ETA:  0:00:04\r"
       ]
      },
      {
       "output_type": "stream",
       "stream": "stderr",
       "text": [
        " 87% |##################################################        | ETA:  0:00:04\r",
        " 88% |###################################################       | ETA:  0:00:04\r"
       ]
      },
      {
       "output_type": "stream",
       "stream": "stderr",
       "text": [
        " 89% |###################################################       | ETA:  0:00:03\r",
        " 90% |####################################################      | ETA:  0:00:03\r"
       ]
      },
      {
       "output_type": "stream",
       "stream": "stderr",
       "text": [
        " 91% |####################################################      | ETA:  0:00:03\r",
        " 92% |#####################################################     | ETA:  0:00:02\r"
       ]
      },
      {
       "output_type": "stream",
       "stream": "stderr",
       "text": [
        " 93% |######################################################    | ETA:  0:00:02\r",
        " 94% |######################################################    | ETA:  0:00:02\r"
       ]
      },
      {
       "output_type": "stream",
       "stream": "stderr",
       "text": [
        " 95% |#######################################################   | ETA:  0:00:01\r",
        " 96% |#######################################################   | ETA:  0:00:01\r"
       ]
      },
      {
       "output_type": "stream",
       "stream": "stderr",
       "text": [
        " 97% |########################################################  | ETA:  0:00:00\r",
        " 98% |######################################################### | ETA:  0:00:00\r"
       ]
      },
      {
       "output_type": "stream",
       "stream": "stderr",
       "text": [
        " 99% |######################################################### | ETA:  0:00:00\r",
        "100% |##########################################################| Time: 0:00:35\r"
       ]
      },
      {
       "output_type": "stream",
       "stream": "stdout",
       "text": [
        "\n",
        "23223 23223 23223 1625458 377790\n",
        "\n"
       ]
      },
      {
       "output_type": "stream",
       "stream": "stdout",
       "text": [
        "Time elapsed during integration: 35.8590269089\n",
        "Start filling matrices.\n",
        "Done filling matrices."
       ]
      },
      {
       "output_type": "stream",
       "stream": "stderr",
       "text": [
        "\n",
        "  0% |                                                         | ETA:  --:--:--\r"
       ]
      },
      {
       "output_type": "stream",
       "stream": "stderr",
       "text": [
        "  1% |                                                          | ETA:  0:00:34\r",
        "  2% |#                                                         | ETA:  0:00:34\r"
       ]
      },
      {
       "output_type": "stream",
       "stream": "stderr",
       "text": [
        "  3% |#                                                         | ETA:  0:00:33\r",
        "  4% |##                                                        | ETA:  0:00:33\r"
       ]
      },
      {
       "output_type": "stream",
       "stream": "stderr",
       "text": [
        "  5% |##                                                        | ETA:  0:00:33\r",
        "  6% |###                                                       | ETA:  0:00:32\r"
       ]
      },
      {
       "output_type": "stream",
       "stream": "stderr",
       "text": [
        "  7% |####                                                      | ETA:  0:00:32\r",
        "  8% |####                                                      | ETA:  0:00:32\r"
       ]
      },
      {
       "output_type": "stream",
       "stream": "stderr",
       "text": [
        "  9% |#####                                                     | ETA:  0:00:31\r",
        " 10% |#####                                                     | ETA:  0:00:31\r"
       ]
      },
      {
       "output_type": "stream",
       "stream": "stderr",
       "text": [
        " 11% |######                                                    | ETA:  0:00:31\r",
        " 12% |######                                                    | ETA:  0:00:30\r"
       ]
      },
      {
       "output_type": "stream",
       "stream": "stderr",
       "text": [
        " 13% |#######                                                   | ETA:  0:00:30\r",
        " 14% |########                                                  | ETA:  0:00:30\r"
       ]
      },
      {
       "output_type": "stream",
       "stream": "stderr",
       "text": [
        " 15% |########                                                  | ETA:  0:00:29\r",
        " 16% |#########                                                 | ETA:  0:00:29\r"
       ]
      },
      {
       "output_type": "stream",
       "stream": "stderr",
       "text": [
        " 17% |#########                                                 | ETA:  0:00:29\r",
        " 18% |##########                                                | ETA:  0:00:28\r"
       ]
      },
      {
       "output_type": "stream",
       "stream": "stderr",
       "text": [
        " 19% |###########                                               | ETA:  0:00:28\r",
        " 20% |###########                                               | ETA:  0:00:28\r"
       ]
      },
      {
       "output_type": "stream",
       "stream": "stderr",
       "text": [
        " 21% |############                                              | ETA:  0:00:27\r",
        " 22% |############                                              | ETA:  0:00:27\r"
       ]
      },
      {
       "output_type": "stream",
       "stream": "stderr",
       "text": [
        " 23% |#############                                             | ETA:  0:00:27\r",
        " 24% |#############                                             | ETA:  0:00:26\r"
       ]
      },
      {
       "output_type": "stream",
       "stream": "stderr",
       "text": [
        " 25% |##############                                            | ETA:  0:00:26\r",
        " 26% |###############                                           | ETA:  0:00:25\r"
       ]
      },
      {
       "output_type": "stream",
       "stream": "stderr",
       "text": [
        " 27% |###############                                           | ETA:  0:00:25\r",
        " 28% |################                                          | ETA:  0:00:25\r"
       ]
      },
      {
       "output_type": "stream",
       "stream": "stderr",
       "text": [
        " 29% |################                                          | ETA:  0:00:24\r",
        " 30% |#################                                         | ETA:  0:00:24\r"
       ]
      },
      {
       "output_type": "stream",
       "stream": "stderr",
       "text": [
        " 31% |##################                                        | ETA:  0:00:24\r",
        " 32% |##################                                        | ETA:  0:00:23\r"
       ]
      },
      {
       "output_type": "stream",
       "stream": "stderr",
       "text": [
        " 33% |###################                                       | ETA:  0:00:23\r",
        " 34% |###################                                       | ETA:  0:00:23\r"
       ]
      },
      {
       "output_type": "stream",
       "stream": "stderr",
       "text": [
        " 35% |####################                                      | ETA:  0:00:22\r",
        " 36% |####################                                      | ETA:  0:00:22\r"
       ]
      },
      {
       "output_type": "stream",
       "stream": "stderr",
       "text": [
        " 37% |#####################                                     | ETA:  0:00:22\r",
        " 38% |######################                                    | ETA:  0:00:21\r"
       ]
      },
      {
       "output_type": "stream",
       "stream": "stderr",
       "text": [
        " 39% |######################                                    | ETA:  0:00:21\r",
        " 40% |#######################                                   | ETA:  0:00:20\r"
       ]
      },
      {
       "output_type": "stream",
       "stream": "stderr",
       "text": [
        " 41% |#######################                                   | ETA:  0:00:20\r",
        " 42% |########################                                  | ETA:  0:00:20\r"
       ]
      },
      {
       "output_type": "stream",
       "stream": "stderr",
       "text": [
        " 43% |#########################                                 | ETA:  0:00:19\r",
        " 44% |#########################                                 | ETA:  0:00:19\r"
       ]
      },
      {
       "output_type": "stream",
       "stream": "stderr",
       "text": [
        " 45% |##########################                                | ETA:  0:00:19\r",
        " 46% |##########################                                | ETA:  0:00:18\r"
       ]
      },
      {
       "output_type": "stream",
       "stream": "stderr",
       "text": [
        " 47% |###########################                               | ETA:  0:00:18\r",
        " 48% |###########################                               | ETA:  0:00:18\r"
       ]
      },
      {
       "output_type": "stream",
       "stream": "stderr",
       "text": [
        " 49% |############################                              | ETA:  0:00:17\r",
        " 50% |#############################                             | ETA:  0:00:17\r"
       ]
      },
      {
       "output_type": "stream",
       "stream": "stderr",
       "text": [
        " 51% |#############################                             | ETA:  0:00:17\r",
        " 52% |##############################                            | ETA:  0:00:16\r"
       ]
      },
      {
       "output_type": "stream",
       "stream": "stderr",
       "text": [
        " 53% |##############################                            | ETA:  0:00:16\r",
        " 54% |###############################                           | ETA:  0:00:16\r"
       ]
      },
      {
       "output_type": "stream",
       "stream": "stderr",
       "text": [
        " 55% |################################                          | ETA:  0:00:15\r",
        " 56% |################################                          | ETA:  0:00:15\r"
       ]
      },
      {
       "output_type": "stream",
       "stream": "stderr",
       "text": [
        " 57% |#################################                         | ETA:  0:00:15\r",
        " 58% |#################################                         | ETA:  0:00:14\r"
       ]
      },
      {
       "output_type": "stream",
       "stream": "stderr",
       "text": [
        " 59% |##################################                        | ETA:  0:00:14\r",
        " 60% |##################################                        | ETA:  0:00:13\r"
       ]
      },
      {
       "output_type": "stream",
       "stream": "stderr",
       "text": [
        " 61% |###################################                       | ETA:  0:00:13\r",
        " 62% |####################################                      | ETA:  0:00:13\r"
       ]
      },
      {
       "output_type": "stream",
       "stream": "stderr",
       "text": [
        " 63% |####################################                      | ETA:  0:00:12\r",
        " 64% |#####################################                     | ETA:  0:00:12\r"
       ]
      },
      {
       "output_type": "stream",
       "stream": "stderr",
       "text": [
        " 65% |#####################################                     | ETA:  0:00:12\r",
        " 66% |######################################                    | ETA:  0:00:11\r"
       ]
      },
      {
       "output_type": "stream",
       "stream": "stderr",
       "text": [
        " 67% |######################################                    | ETA:  0:00:11\r",
        " 68% |#######################################                   | ETA:  0:00:11\r"
       ]
      },
      {
       "output_type": "stream",
       "stream": "stderr",
       "text": [
        " 69% |########################################                  | ETA:  0:00:10\r",
        " 70% |########################################                  | ETA:  0:00:10\r"
       ]
      },
      {
       "output_type": "stream",
       "stream": "stderr",
       "text": [
        " 71% |#########################################                 | ETA:  0:00:10\r",
        " 72% |#########################################                 | ETA:  0:00:09\r"
       ]
      },
      {
       "output_type": "stream",
       "stream": "stderr",
       "text": [
        " 73% |##########################################                | ETA:  0:00:09\r",
        " 74% |###########################################               | ETA:  0:00:09\r"
       ]
      },
      {
       "output_type": "stream",
       "stream": "stderr",
       "text": [
        " 75% |###########################################               | ETA:  0:00:08\r",
        " 76% |############################################              | ETA:  0:00:08\r"
       ]
      },
      {
       "output_type": "stream",
       "stream": "stderr",
       "text": [
        " 77% |############################################              | ETA:  0:00:07\r",
        " 78% |#############################################             | ETA:  0:00:07\r"
       ]
      },
      {
       "output_type": "stream",
       "stream": "stderr",
       "text": [
        " 79% |#############################################             | ETA:  0:00:07\r",
        " 80% |##############################################            | ETA:  0:00:06\r"
       ]
      },
      {
       "output_type": "stream",
       "stream": "stderr",
       "text": [
        " 81% |###############################################           | ETA:  0:00:06\r",
        " 82% |###############################################           | ETA:  0:00:06\r"
       ]
      },
      {
       "output_type": "stream",
       "stream": "stderr",
       "text": [
        " 83% |################################################          | ETA:  0:00:05\r",
        " 84% |################################################          | ETA:  0:00:05\r"
       ]
      },
      {
       "output_type": "stream",
       "stream": "stderr",
       "text": [
        " 85% |#################################################         | ETA:  0:00:05\r",
        " 86% |##################################################        | ETA:  0:00:04\r"
       ]
      },
      {
       "output_type": "stream",
       "stream": "stderr",
       "text": [
        " 87% |##################################################        | ETA:  0:00:04\r",
        " 88% |###################################################       | ETA:  0:00:04\r"
       ]
      },
      {
       "output_type": "stream",
       "stream": "stderr",
       "text": [
        " 89% |###################################################       | ETA:  0:00:03\r",
        " 90% |####################################################      | ETA:  0:00:03\r"
       ]
      },
      {
       "output_type": "stream",
       "stream": "stderr",
       "text": [
        " 91% |####################################################      | ETA:  0:00:03\r",
        " 92% |#####################################################     | ETA:  0:00:02\r"
       ]
      },
      {
       "output_type": "stream",
       "stream": "stderr",
       "text": [
        " 93% |######################################################    | ETA:  0:00:02\r",
        " 94% |######################################################    | ETA:  0:00:02\r"
       ]
      },
      {
       "output_type": "stream",
       "stream": "stderr",
       "text": [
        " 95% |#######################################################   | ETA:  0:00:01\r",
        " 96% |#######################################################   | ETA:  0:00:01\r"
       ]
      },
      {
       "output_type": "stream",
       "stream": "stderr",
       "text": [
        " 97% |########################################################  | ETA:  0:00:00\r",
        " 98% |######################################################### | ETA:  0:00:00\r"
       ]
      },
      {
       "output_type": "stream",
       "stream": "stderr",
       "text": [
        " 99% |######################################################### | ETA:  0:00:00\r",
        "100% |##########################################################| Time: 0:00:35\r"
       ]
      },
      {
       "output_type": "stream",
       "stream": "stdout",
       "text": [
        "\n",
        "23223 23223 23223 1624351 361903\n",
        "\n"
       ]
      },
      {
       "output_type": "stream",
       "stream": "stdout",
       "text": [
        "Time elapsed during integration: 35.8661551476\n",
        "Start filling matrices.\n",
        "Done filling matrices."
       ]
      },
      {
       "output_type": "stream",
       "stream": "stderr",
       "text": [
        "\n",
        "  0% |                                                         | ETA:  --:--:--\r"
       ]
      },
      {
       "output_type": "stream",
       "stream": "stderr",
       "text": [
        "  1% |                                                          | ETA:  0:00:35\r",
        "  2% |#                                                         | ETA:  0:00:34\r"
       ]
      },
      {
       "output_type": "stream",
       "stream": "stderr",
       "text": [
        "  3% |#                                                         | ETA:  0:00:33\r",
        "  4% |##                                                        | ETA:  0:00:33\r"
       ]
      },
      {
       "output_type": "stream",
       "stream": "stderr",
       "text": [
        "  5% |##                                                        | ETA:  0:00:33\r",
        "  6% |###                                                       | ETA:  0:00:32\r"
       ]
      },
      {
       "output_type": "stream",
       "stream": "stderr",
       "text": [
        "  7% |####                                                      | ETA:  0:00:32\r",
        "  8% |####                                                      | ETA:  0:00:32\r"
       ]
      },
      {
       "output_type": "stream",
       "stream": "stderr",
       "text": [
        "  9% |#####                                                     | ETA:  0:00:31\r",
        " 10% |#####                                                     | ETA:  0:00:31\r"
       ]
      },
      {
       "output_type": "stream",
       "stream": "stderr",
       "text": [
        " 11% |######                                                    | ETA:  0:00:31\r",
        " 12% |######                                                    | ETA:  0:00:30\r"
       ]
      },
      {
       "output_type": "stream",
       "stream": "stderr",
       "text": [
        " 13% |#######                                                   | ETA:  0:00:30\r",
        " 14% |########                                                  | ETA:  0:00:29\r"
       ]
      },
      {
       "output_type": "stream",
       "stream": "stderr",
       "text": [
        " 15% |########                                                  | ETA:  0:00:29\r",
        " 16% |#########                                                 | ETA:  0:00:29\r"
       ]
      },
      {
       "output_type": "stream",
       "stream": "stderr",
       "text": [
        " 17% |#########                                                 | ETA:  0:00:28\r",
        " 18% |##########                                                | ETA:  0:00:28\r"
       ]
      },
      {
       "output_type": "stream",
       "stream": "stderr",
       "text": [
        " 19% |###########                                               | ETA:  0:00:28\r",
        " 20% |###########                                               | ETA:  0:00:27\r"
       ]
      },
      {
       "output_type": "stream",
       "stream": "stderr",
       "text": [
        " 21% |############                                              | ETA:  0:00:27\r",
        " 22% |############                                              | ETA:  0:00:27\r"
       ]
      },
      {
       "output_type": "stream",
       "stream": "stderr",
       "text": [
        " 23% |#############                                             | ETA:  0:00:27\r",
        " 24% |#############                                             | ETA:  0:00:26\r"
       ]
      },
      {
       "output_type": "stream",
       "stream": "stderr",
       "text": [
        " 25% |##############                                            | ETA:  0:00:26\r",
        " 26% |###############                                           | ETA:  0:00:26\r"
       ]
      },
      {
       "output_type": "stream",
       "stream": "stderr",
       "text": [
        " 27% |###############                                           | ETA:  0:00:25\r",
        " 28% |################                                          | ETA:  0:00:25\r"
       ]
      },
      {
       "output_type": "stream",
       "stream": "stderr",
       "text": [
        " 29% |################                                          | ETA:  0:00:25\r",
        " 30% |#################                                         | ETA:  0:00:24\r"
       ]
      },
      {
       "output_type": "stream",
       "stream": "stderr",
       "text": [
        " 31% |##################                                        | ETA:  0:00:24\r",
        " 32% |##################                                        | ETA:  0:00:24\r"
       ]
      },
      {
       "output_type": "stream",
       "stream": "stderr",
       "text": [
        " 33% |###################                                       | ETA:  0:00:23\r",
        " 34% |###################                                       | ETA:  0:00:23\r"
       ]
      },
      {
       "output_type": "stream",
       "stream": "stderr",
       "text": [
        " 35% |####################                                      | ETA:  0:00:23\r",
        " 36% |####################                                      | ETA:  0:00:22\r"
       ]
      },
      {
       "output_type": "stream",
       "stream": "stderr",
       "text": [
        " 37% |#####################                                     | ETA:  0:00:22\r",
        " 38% |######################                                    | ETA:  0:00:22\r"
       ]
      },
      {
       "output_type": "stream",
       "stream": "stderr",
       "text": [
        " 39% |######################                                    | ETA:  0:00:21\r",
        " 40% |#######################                                   | ETA:  0:00:21\r"
       ]
      },
      {
       "output_type": "stream",
       "stream": "stderr",
       "text": [
        " 41% |#######################                                   | ETA:  0:00:21\r",
        " 42% |########################                                  | ETA:  0:00:20\r"
       ]
      },
      {
       "output_type": "stream",
       "stream": "stderr",
       "text": [
        " 43% |#########################                                 | ETA:  0:00:20\r",
        " 44% |#########################                                 | ETA:  0:00:20\r"
       ]
      },
      {
       "output_type": "stream",
       "stream": "stderr",
       "text": [
        " 45% |##########################                                | ETA:  0:00:19\r",
        " 46% |##########################                                | ETA:  0:00:19\r"
       ]
      },
      {
       "output_type": "stream",
       "stream": "stderr",
       "text": [
        " 47% |###########################                               | ETA:  0:00:18\r",
        " 48% |###########################                               | ETA:  0:00:18\r"
       ]
      },
      {
       "output_type": "stream",
       "stream": "stderr",
       "text": [
        " 49% |############################                              | ETA:  0:00:18\r",
        " 50% |#############################                             | ETA:  0:00:17\r"
       ]
      },
      {
       "output_type": "stream",
       "stream": "stderr",
       "text": [
        " 51% |#############################                             | ETA:  0:00:17\r",
        " 52% |##############################                            | ETA:  0:00:17\r"
       ]
      },
      {
       "output_type": "stream",
       "stream": "stderr",
       "text": [
        " 53% |##############################                            | ETA:  0:00:16\r",
        " 54% |###############################                           | ETA:  0:00:16\r"
       ]
      },
      {
       "output_type": "stream",
       "stream": "stderr",
       "text": [
        " 55% |################################                          | ETA:  0:00:15\r",
        " 56% |################################                          | ETA:  0:00:15\r"
       ]
      },
      {
       "output_type": "stream",
       "stream": "stderr",
       "text": [
        " 57% |#################################                         | ETA:  0:00:15\r",
        " 58% |#################################                         | ETA:  0:00:14\r"
       ]
      },
      {
       "output_type": "stream",
       "stream": "stderr",
       "text": [
        " 59% |##################################                        | ETA:  0:00:14\r",
        " 60% |##################################                        | ETA:  0:00:14\r"
       ]
      },
      {
       "output_type": "stream",
       "stream": "stderr",
       "text": [
        " 61% |###################################                       | ETA:  0:00:13\r",
        " 62% |####################################                      | ETA:  0:00:13\r"
       ]
      },
      {
       "output_type": "stream",
       "stream": "stderr",
       "text": [
        " 63% |####################################                      | ETA:  0:00:13\r",
        " 64% |#####################################                     | ETA:  0:00:12\r"
       ]
      },
      {
       "output_type": "stream",
       "stream": "stderr",
       "text": [
        " 65% |#####################################                     | ETA:  0:00:12\r",
        " 66% |######################################                    | ETA:  0:00:11\r"
       ]
      },
      {
       "output_type": "stream",
       "stream": "stderr",
       "text": [
        " 67% |######################################                    | ETA:  0:00:11\r",
        " 68% |#######################################                   | ETA:  0:00:11\r"
       ]
      },
      {
       "output_type": "stream",
       "stream": "stderr",
       "text": [
        " 69% |########################################                  | ETA:  0:00:10\r",
        " 70% |########################################                  | ETA:  0:00:10\r"
       ]
      },
      {
       "output_type": "stream",
       "stream": "stderr",
       "text": [
        " 71% |#########################################                 | ETA:  0:00:10\r",
        " 72% |#########################################                 | ETA:  0:00:09\r"
       ]
      },
      {
       "output_type": "stream",
       "stream": "stderr",
       "text": [
        " 73% |##########################################                | ETA:  0:00:09\r",
        " 74% |###########################################               | ETA:  0:00:09\r"
       ]
      },
      {
       "output_type": "stream",
       "stream": "stderr",
       "text": [
        " 75% |###########################################               | ETA:  0:00:08\r",
        " 76% |############################################              | ETA:  0:00:08\r"
       ]
      },
      {
       "output_type": "stream",
       "stream": "stderr",
       "text": [
        " 77% |############################################              | ETA:  0:00:08\r",
        " 78% |#############################################             | ETA:  0:00:07\r"
       ]
      },
      {
       "output_type": "stream",
       "stream": "stderr",
       "text": [
        " 79% |#############################################             | ETA:  0:00:07\r",
        " 80% |##############################################            | ETA:  0:00:06\r"
       ]
      },
      {
       "output_type": "stream",
       "stream": "stderr",
       "text": [
        " 81% |###############################################           | ETA:  0:00:06\r",
        " 82% |###############################################           | ETA:  0:00:06\r"
       ]
      },
      {
       "output_type": "stream",
       "stream": "stderr",
       "text": [
        " 83% |################################################          | ETA:  0:00:05\r",
        " 84% |################################################          | ETA:  0:00:05\r"
       ]
      },
      {
       "output_type": "stream",
       "stream": "stderr",
       "text": [
        " 85% |#################################################         | ETA:  0:00:05\r",
        " 86% |##################################################        | ETA:  0:00:04\r"
       ]
      },
      {
       "output_type": "stream",
       "stream": "stderr",
       "text": [
        " 87% |##################################################        | ETA:  0:00:04\r",
        " 88% |###################################################       | ETA:  0:00:04\r"
       ]
      },
      {
       "output_type": "stream",
       "stream": "stderr",
       "text": [
        " 89% |###################################################       | ETA:  0:00:03\r",
        " 90% |####################################################      | ETA:  0:00:03\r"
       ]
      },
      {
       "output_type": "stream",
       "stream": "stderr",
       "text": [
        " 91% |####################################################      | ETA:  0:00:03\r",
        " 92% |#####################################################     | ETA:  0:00:02\r"
       ]
      },
      {
       "output_type": "stream",
       "stream": "stderr",
       "text": [
        " 93% |######################################################    | ETA:  0:00:02\r",
        " 94% |######################################################    | ETA:  0:00:02\r"
       ]
      },
      {
       "output_type": "stream",
       "stream": "stderr",
       "text": [
        " 95% |#######################################################   | ETA:  0:00:01\r",
        " 96% |#######################################################   | ETA:  0:00:01\r"
       ]
      },
      {
       "output_type": "stream",
       "stream": "stderr",
       "text": [
        " 97% |########################################################  | ETA:  0:00:00\r",
        " 98% |######################################################### | ETA:  0:00:00\r"
       ]
      },
      {
       "output_type": "stream",
       "stream": "stderr",
       "text": [
        " 99% |######################################################### | ETA:  0:00:00\r",
        "100% |##########################################################| Time: 0:00:35\r"
       ]
      },
      {
       "output_type": "stream",
       "stream": "stdout",
       "text": [
        "\n",
        "23223 23223 23223 1606406 322478\n",
        "\n"
       ]
      },
      {
       "output_type": "stream",
       "stream": "stdout",
       "text": [
        "Time elapsed during integration: 35.2376711369\n",
        "Start filling matrices.\n",
        "Done filling matrices."
       ]
      },
      {
       "output_type": "stream",
       "stream": "stderr",
       "text": [
        "\n",
        "  0% |                                                         | ETA:  --:--:--\r"
       ]
      },
      {
       "output_type": "stream",
       "stream": "stderr",
       "text": [
        "  1% |                                                          | ETA:  0:00:36\r",
        "  2% |#                                                         | ETA:  0:00:36\r"
       ]
      },
      {
       "output_type": "stream",
       "stream": "stderr",
       "text": [
        "  3% |#                                                         | ETA:  0:00:35\r",
        "  4% |##                                                        | ETA:  0:00:35\r"
       ]
      },
      {
       "output_type": "stream",
       "stream": "stderr",
       "text": [
        "  5% |##                                                        | ETA:  0:00:34\r",
        "  6% |###                                                       | ETA:  0:00:34\r"
       ]
      },
      {
       "output_type": "stream",
       "stream": "stderr",
       "text": [
        "  7% |####                                                      | ETA:  0:00:34\r",
        "  8% |####                                                      | ETA:  0:00:33\r"
       ]
      },
      {
       "output_type": "stream",
       "stream": "stderr",
       "text": [
        "  9% |#####                                                     | ETA:  0:00:33\r",
        " 10% |#####                                                     | ETA:  0:00:33\r"
       ]
      },
      {
       "output_type": "stream",
       "stream": "stderr",
       "text": [
        " 11% |######                                                    | ETA:  0:00:32\r",
        " 12% |######                                                    | ETA:  0:00:32\r"
       ]
      },
      {
       "output_type": "stream",
       "stream": "stderr",
       "text": [
        " 13% |#######                                                   | ETA:  0:00:31\r",
        " 14% |########                                                  | ETA:  0:00:31\r"
       ]
      },
      {
       "output_type": "stream",
       "stream": "stderr",
       "text": [
        " 15% |########                                                  | ETA:  0:00:31\r",
        " 16% |#########                                                 | ETA:  0:00:30\r"
       ]
      },
      {
       "output_type": "stream",
       "stream": "stderr",
       "text": [
        " 17% |#########                                                 | ETA:  0:00:30\r",
        " 18% |##########                                                | ETA:  0:00:30\r"
       ]
      },
      {
       "output_type": "stream",
       "stream": "stderr",
       "text": [
        " 19% |###########                                               | ETA:  0:00:29\r",
        " 20% |###########                                               | ETA:  0:00:29\r"
       ]
      },
      {
       "output_type": "stream",
       "stream": "stderr",
       "text": [
        " 21% |############                                              | ETA:  0:00:29\r",
        " 22% |############                                              | ETA:  0:00:28\r"
       ]
      },
      {
       "output_type": "stream",
       "stream": "stderr",
       "text": [
        " 23% |#############                                             | ETA:  0:00:28\r",
        " 24% |#############                                             | ETA:  0:00:27\r"
       ]
      },
      {
       "output_type": "stream",
       "stream": "stderr",
       "text": [
        " 25% |##############                                            | ETA:  0:00:27\r",
        " 26% |###############                                           | ETA:  0:00:27\r"
       ]
      },
      {
       "output_type": "stream",
       "stream": "stderr",
       "text": [
        " 27% |###############                                           | ETA:  0:00:26\r",
        " 28% |################                                          | ETA:  0:00:26\r"
       ]
      },
      {
       "output_type": "stream",
       "stream": "stderr",
       "text": [
        " 29% |################                                          | ETA:  0:00:26\r",
        " 30% |#################                                         | ETA:  0:00:25\r"
       ]
      },
      {
       "output_type": "stream",
       "stream": "stderr",
       "text": [
        " 31% |##################                                        | ETA:  0:00:25\r",
        " 32% |##################                                        | ETA:  0:00:24\r"
       ]
      },
      {
       "output_type": "stream",
       "stream": "stderr",
       "text": [
        " 33% |###################                                       | ETA:  0:00:24\r",
        " 34% |###################                                       | ETA:  0:00:24\r"
       ]
      },
      {
       "output_type": "stream",
       "stream": "stderr",
       "text": [
        " 35% |####################                                      | ETA:  0:00:23\r",
        " 36% |####################                                      | ETA:  0:00:23\r"
       ]
      },
      {
       "output_type": "stream",
       "stream": "stderr",
       "text": [
        " 37% |#####################                                     | ETA:  0:00:23\r",
        " 38% |######################                                    | ETA:  0:00:22\r"
       ]
      },
      {
       "output_type": "stream",
       "stream": "stderr",
       "text": [
        " 39% |######################                                    | ETA:  0:00:22\r",
        " 40% |#######################                                   | ETA:  0:00:22\r"
       ]
      },
      {
       "output_type": "stream",
       "stream": "stderr",
       "text": [
        " 41% |#######################                                   | ETA:  0:00:21\r",
        " 42% |########################                                  | ETA:  0:00:21\r"
       ]
      },
      {
       "output_type": "stream",
       "stream": "stderr",
       "text": [
        " 43% |#########################                                 | ETA:  0:00:20\r",
        " 44% |#########################                                 | ETA:  0:00:20\r"
       ]
      },
      {
       "output_type": "stream",
       "stream": "stderr",
       "text": [
        " 45% |##########################                                | ETA:  0:00:20\r",
        " 46% |##########################                                | ETA:  0:00:19\r"
       ]
      },
      {
       "output_type": "stream",
       "stream": "stderr",
       "text": [
        " 47% |###########################                               | ETA:  0:00:19\r",
        " 48% |###########################                               | ETA:  0:00:19\r"
       ]
      },
      {
       "output_type": "stream",
       "stream": "stderr",
       "text": [
        " 49% |############################                              | ETA:  0:00:18\r",
        " 50% |#############################                             | ETA:  0:00:18\r"
       ]
      },
      {
       "output_type": "stream",
       "stream": "stderr",
       "text": [
        " 51% |#############################                             | ETA:  0:00:18\r",
        " 52% |##############################                            | ETA:  0:00:17\r"
       ]
      },
      {
       "output_type": "stream",
       "stream": "stderr",
       "text": [
        " 53% |##############################                            | ETA:  0:00:17\r",
        " 54% |###############################                           | ETA:  0:00:16\r"
       ]
      },
      {
       "output_type": "stream",
       "stream": "stderr",
       "text": [
        " 55% |################################                          | ETA:  0:00:16\r",
        " 56% |################################                          | ETA:  0:00:16\r"
       ]
      },
      {
       "output_type": "stream",
       "stream": "stderr",
       "text": [
        " 57% |#################################                         | ETA:  0:00:15\r",
        " 58% |#################################                         | ETA:  0:00:15\r"
       ]
      },
      {
       "output_type": "stream",
       "stream": "stderr",
       "text": [
        " 59% |##################################                        | ETA:  0:00:15\r",
        " 60% |##################################                        | ETA:  0:00:14\r"
       ]
      },
      {
       "output_type": "stream",
       "stream": "stderr",
       "text": [
        " 61% |###################################                       | ETA:  0:00:14\r",
        " 62% |####################################                      | ETA:  0:00:13\r"
       ]
      },
      {
       "output_type": "stream",
       "stream": "stderr",
       "text": [
        " 63% |####################################                      | ETA:  0:00:13\r",
        " 64% |#####################################                     | ETA:  0:00:13\r"
       ]
      },
      {
       "output_type": "stream",
       "stream": "stderr",
       "text": [
        " 65% |#####################################                     | ETA:  0:00:12\r",
        " 66% |######################################                    | ETA:  0:00:12\r"
       ]
      },
      {
       "output_type": "stream",
       "stream": "stderr",
       "text": [
        " 67% |######################################                    | ETA:  0:00:12\r",
        " 68% |#######################################                   | ETA:  0:00:11\r"
       ]
      },
      {
       "output_type": "stream",
       "stream": "stderr",
       "text": [
        " 69% |########################################                  | ETA:  0:00:11\r",
        " 70% |########################################                  | ETA:  0:00:10\r"
       ]
      },
      {
       "output_type": "stream",
       "stream": "stderr",
       "text": [
        " 71% |#########################################                 | ETA:  0:00:10\r",
        " 72% |#########################################                 | ETA:  0:00:10\r"
       ]
      },
      {
       "output_type": "stream",
       "stream": "stderr",
       "text": [
        " 73% |##########################################                | ETA:  0:00:09\r",
        " 74% |###########################################               | ETA:  0:00:09\r"
       ]
      },
      {
       "output_type": "stream",
       "stream": "stderr",
       "text": [
        " 75% |###########################################               | ETA:  0:00:09\r",
        " 76% |############################################              | ETA:  0:00:08\r"
       ]
      },
      {
       "output_type": "stream",
       "stream": "stderr",
       "text": [
        " 77% |############################################              | ETA:  0:00:08\r",
        " 78% |#############################################             | ETA:  0:00:08\r"
       ]
      },
      {
       "output_type": "stream",
       "stream": "stderr",
       "text": [
        " 79% |#############################################             | ETA:  0:00:07\r",
        " 80% |##############################################            | ETA:  0:00:07\r"
       ]
      },
      {
       "output_type": "stream",
       "stream": "stderr",
       "text": [
        " 81% |###############################################           | ETA:  0:00:06\r",
        " 82% |###############################################           | ETA:  0:00:06\r"
       ]
      },
      {
       "output_type": "stream",
       "stream": "stderr",
       "text": [
        " 83% |################################################          | ETA:  0:00:06\r",
        " 84% |################################################          | ETA:  0:00:05\r"
       ]
      },
      {
       "output_type": "stream",
       "stream": "stderr",
       "text": [
        " 85% |#################################################         | ETA:  0:00:05\r",
        " 86% |##################################################        | ETA:  0:00:05\r"
       ]
      },
      {
       "output_type": "stream",
       "stream": "stderr",
       "text": [
        " 87% |##################################################        | ETA:  0:00:04\r",
        " 88% |###################################################       | ETA:  0:00:04\r"
       ]
      },
      {
       "output_type": "stream",
       "stream": "stderr",
       "text": [
        " 89% |###################################################       | ETA:  0:00:03\r",
        " 90% |####################################################      | ETA:  0:00:03\r"
       ]
      },
      {
       "output_type": "stream",
       "stream": "stderr",
       "text": [
        " 91% |####################################################      | ETA:  0:00:03\r",
        " 92% |#####################################################     | ETA:  0:00:02\r"
       ]
      },
      {
       "output_type": "stream",
       "stream": "stderr",
       "text": [
        " 93% |######################################################    | ETA:  0:00:02\r",
        " 94% |######################################################    | ETA:  0:00:02\r"
       ]
      },
      {
       "output_type": "stream",
       "stream": "stderr",
       "text": [
        " 95% |#######################################################   | ETA:  0:00:01\r",
        " 96% |#######################################################   | ETA:  0:00:01\r"
       ]
      },
      {
       "output_type": "stream",
       "stream": "stderr",
       "text": [
        " 97% |########################################################  | ETA:  0:00:00\r",
        " 98% |######################################################### | ETA:  0:00:00\r"
       ]
      },
      {
       "output_type": "stream",
       "stream": "stderr",
       "text": [
        " 99% |######################################################### | ETA:  0:00:00\r",
        "100% |##########################################################| Time: 0:00:36\r"
       ]
      },
      {
       "output_type": "stream",
       "stream": "stdout",
       "text": [
        "\n",
        "23223 23223 23223 1694106 339541\n",
        "\n"
       ]
      },
      {
       "output_type": "stream",
       "stream": "stdout",
       "text": [
        "Time elapsed during integration: 36.7893178463\n",
        "Start filling matrices.\n",
        "Done filling matrices."
       ]
      },
      {
       "output_type": "stream",
       "stream": "stderr",
       "text": [
        "\n",
        "  0% |                                                         | ETA:  --:--:--\r"
       ]
      },
      {
       "output_type": "stream",
       "stream": "stderr",
       "text": [
        "  1% |                                                          | ETA:  0:00:32\r",
        "  2% |#                                                         | ETA:  0:00:32\r"
       ]
      },
      {
       "output_type": "stream",
       "stream": "stderr",
       "text": [
        "  3% |#                                                         | ETA:  0:00:31\r",
        "  4% |##                                                        | ETA:  0:00:31\r"
       ]
      },
      {
       "output_type": "stream",
       "stream": "stderr",
       "text": [
        "  5% |##                                                        | ETA:  0:00:31\r",
        "  6% |###                                                       | ETA:  0:00:31\r"
       ]
      },
      {
       "output_type": "stream",
       "stream": "stderr",
       "text": [
        "  7% |####                                                      | ETA:  0:00:30\r",
        "  8% |####                                                      | ETA:  0:00:30\r"
       ]
      },
      {
       "output_type": "stream",
       "stream": "stderr",
       "text": [
        "  9% |#####                                                     | ETA:  0:00:30\r",
        " 10% |#####                                                     | ETA:  0:00:29\r"
       ]
      },
      {
       "output_type": "stream",
       "stream": "stderr",
       "text": [
        " 11% |######                                                    | ETA:  0:00:29\r",
        " 12% |######                                                    | ETA:  0:00:29\r"
       ]
      },
      {
       "output_type": "stream",
       "stream": "stderr",
       "text": [
        " 13% |#######                                                   | ETA:  0:00:28\r",
        " 14% |########                                                  | ETA:  0:00:28\r"
       ]
      },
      {
       "output_type": "stream",
       "stream": "stderr",
       "text": [
        " 15% |########                                                  | ETA:  0:00:28\r",
        " 16% |#########                                                 | ETA:  0:00:27\r"
       ]
      },
      {
       "output_type": "stream",
       "stream": "stderr",
       "text": [
        " 17% |#########                                                 | ETA:  0:00:27\r",
        " 18% |##########                                                | ETA:  0:00:27\r"
       ]
      },
      {
       "output_type": "stream",
       "stream": "stderr",
       "text": [
        " 19% |###########                                               | ETA:  0:00:26\r",
        " 20% |###########                                               | ETA:  0:00:26\r"
       ]
      },
      {
       "output_type": "stream",
       "stream": "stderr",
       "text": [
        " 21% |############                                              | ETA:  0:00:26\r",
        " 22% |############                                              | ETA:  0:00:25\r"
       ]
      },
      {
       "output_type": "stream",
       "stream": "stderr",
       "text": [
        " 23% |#############                                             | ETA:  0:00:25\r",
        " 24% |#############                                             | ETA:  0:00:25\r"
       ]
      },
      {
       "output_type": "stream",
       "stream": "stderr",
       "text": [
        " 25% |##############                                            | ETA:  0:00:24\r",
        " 26% |###############                                           | ETA:  0:00:24\r"
       ]
      },
      {
       "output_type": "stream",
       "stream": "stderr",
       "text": [
        " 27% |###############                                           | ETA:  0:00:24\r",
        " 28% |################                                          | ETA:  0:00:23\r"
       ]
      },
      {
       "output_type": "stream",
       "stream": "stderr",
       "text": [
        " 29% |################                                          | ETA:  0:00:23\r",
        " 30% |#################                                         | ETA:  0:00:23\r"
       ]
      },
      {
       "output_type": "stream",
       "stream": "stderr",
       "text": [
        " 31% |##################                                        | ETA:  0:00:22\r",
        " 32% |##################                                        | ETA:  0:00:22\r"
       ]
      },
      {
       "output_type": "stream",
       "stream": "stderr",
       "text": [
        " 33% |###################                                       | ETA:  0:00:22\r",
        " 34% |###################                                       | ETA:  0:00:21\r"
       ]
      },
      {
       "output_type": "stream",
       "stream": "stderr",
       "text": [
        " 35% |####################                                      | ETA:  0:00:21\r",
        " 36% |####################                                      | ETA:  0:00:21\r"
       ]
      },
      {
       "output_type": "stream",
       "stream": "stderr",
       "text": [
        " 37% |#####################                                     | ETA:  0:00:20\r",
        " 38% |######################                                    | ETA:  0:00:20\r"
       ]
      },
      {
       "output_type": "stream",
       "stream": "stderr",
       "text": [
        " 39% |######################                                    | ETA:  0:00:20\r",
        " 40% |#######################                                   | ETA:  0:00:19\r"
       ]
      },
      {
       "output_type": "stream",
       "stream": "stderr",
       "text": [
        " 41% |#######################                                   | ETA:  0:00:19\r",
        " 42% |########################                                  | ETA:  0:00:19\r"
       ]
      },
      {
       "output_type": "stream",
       "stream": "stderr",
       "text": [
        " 43% |#########################                                 | ETA:  0:00:18\r",
        " 44% |#########################                                 | ETA:  0:00:18\r"
       ]
      },
      {
       "output_type": "stream",
       "stream": "stderr",
       "text": [
        " 45% |##########################                                | ETA:  0:00:18\r",
        " 46% |##########################                                | ETA:  0:00:17\r"
       ]
      },
      {
       "output_type": "stream",
       "stream": "stderr",
       "text": [
        " 47% |###########################                               | ETA:  0:00:17\r",
        " 48% |###########################                               | ETA:  0:00:17\r"
       ]
      },
      {
       "output_type": "stream",
       "stream": "stderr",
       "text": [
        " 49% |############################                              | ETA:  0:00:16\r",
        " 50% |#############################                             | ETA:  0:00:16\r"
       ]
      },
      {
       "output_type": "stream",
       "stream": "stderr",
       "text": [
        " 51% |#############################                             | ETA:  0:00:16\r",
        " 52% |##############################                            | ETA:  0:00:15\r"
       ]
      },
      {
       "output_type": "stream",
       "stream": "stderr",
       "text": [
        " 53% |##############################                            | ETA:  0:00:15\r",
        " 54% |###############################                           | ETA:  0:00:15\r"
       ]
      },
      {
       "output_type": "stream",
       "stream": "stderr",
       "text": [
        " 55% |################################                          | ETA:  0:00:14\r",
        " 56% |################################                          | ETA:  0:00:14\r"
       ]
      },
      {
       "output_type": "stream",
       "stream": "stderr",
       "text": [
        " 57% |#################################                         | ETA:  0:00:14\r",
        " 58% |#################################                         | ETA:  0:00:13\r"
       ]
      },
      {
       "output_type": "stream",
       "stream": "stderr",
       "text": [
        " 59% |##################################                        | ETA:  0:00:13\r",
        " 60% |##################################                        | ETA:  0:00:13\r"
       ]
      },
      {
       "output_type": "stream",
       "stream": "stderr",
       "text": [
        " 61% |###################################                       | ETA:  0:00:12\r",
        " 62% |####################################                      | ETA:  0:00:12\r"
       ]
      },
      {
       "output_type": "stream",
       "stream": "stderr",
       "text": [
        " 63% |####################################                      | ETA:  0:00:12\r",
        " 64% |#####################################                     | ETA:  0:00:11\r"
       ]
      },
      {
       "output_type": "stream",
       "stream": "stderr",
       "text": [
        " 65% |#####################################                     | ETA:  0:00:11\r",
        " 66% |######################################                    | ETA:  0:00:11\r"
       ]
      },
      {
       "output_type": "stream",
       "stream": "stderr",
       "text": [
        " 67% |######################################                    | ETA:  0:00:10\r",
        " 68% |#######################################                   | ETA:  0:00:10\r"
       ]
      },
      {
       "output_type": "stream",
       "stream": "stderr",
       "text": [
        " 69% |########################################                  | ETA:  0:00:10\r",
        " 70% |########################################                  | ETA:  0:00:09\r"
       ]
      },
      {
       "output_type": "stream",
       "stream": "stderr",
       "text": [
        " 71% |#########################################                 | ETA:  0:00:09\r",
        " 72% |#########################################                 | ETA:  0:00:09\r"
       ]
      },
      {
       "output_type": "stream",
       "stream": "stderr",
       "text": [
        " 73% |##########################################                | ETA:  0:00:08\r",
        " 74% |###########################################               | ETA:  0:00:08\r"
       ]
      },
      {
       "output_type": "stream",
       "stream": "stderr",
       "text": [
        " 75% |###########################################               | ETA:  0:00:08\r",
        " 76% |############################################              | ETA:  0:00:07\r"
       ]
      },
      {
       "output_type": "stream",
       "stream": "stderr",
       "text": [
        " 77% |############################################              | ETA:  0:00:07\r",
        " 78% |#############################################             | ETA:  0:00:07\r"
       ]
      },
      {
       "output_type": "stream",
       "stream": "stderr",
       "text": [
        " 79% |#############################################             | ETA:  0:00:06\r",
        " 80% |##############################################            | ETA:  0:00:06\r"
       ]
      },
      {
       "output_type": "stream",
       "stream": "stderr",
       "text": [
        " 81% |###############################################           | ETA:  0:00:06\r",
        " 82% |###############################################           | ETA:  0:00:05\r"
       ]
      },
      {
       "output_type": "stream",
       "stream": "stderr",
       "text": [
        " 83% |################################################          | ETA:  0:00:05\r",
        " 84% |################################################          | ETA:  0:00:05\r"
       ]
      },
      {
       "output_type": "stream",
       "stream": "stderr",
       "text": [
        " 85% |#################################################         | ETA:  0:00:04\r",
        " 86% |##################################################        | ETA:  0:00:04\r"
       ]
      },
      {
       "output_type": "stream",
       "stream": "stderr",
       "text": [
        " 87% |##################################################        | ETA:  0:00:04\r",
        " 88% |###################################################       | ETA:  0:00:03\r"
       ]
      },
      {
       "output_type": "stream",
       "stream": "stderr",
       "text": [
        " 89% |###################################################       | ETA:  0:00:03\r",
        " 90% |####################################################      | ETA:  0:00:03\r"
       ]
      },
      {
       "output_type": "stream",
       "stream": "stderr",
       "text": [
        " 91% |####################################################      | ETA:  0:00:02\r",
        " 92% |#####################################################     | ETA:  0:00:02\r"
       ]
      },
      {
       "output_type": "stream",
       "stream": "stderr",
       "text": [
        " 93% |######################################################    | ETA:  0:00:02\r",
        " 94% |######################################################    | ETA:  0:00:01\r"
       ]
      },
      {
       "output_type": "stream",
       "stream": "stderr",
       "text": [
        " 95% |#######################################################   | ETA:  0:00:01\r",
        " 96% |#######################################################   | ETA:  0:00:01\r"
       ]
      },
      {
       "output_type": "stream",
       "stream": "stderr",
       "text": [
        " 97% |########################################################  | ETA:  0:00:00\r",
        " 98% |######################################################### | ETA:  0:00:00\r"
       ]
      },
      {
       "output_type": "stream",
       "stream": "stderr",
       "text": [
        " 99% |######################################################### | ETA:  0:00:00\r",
        "100% |##########################################################| Time: 0:00:33\r"
       ]
      },
      {
       "output_type": "stream",
       "stream": "stdout",
       "text": [
        "\n",
        "23223 23223 23223 1458912 364314\n",
        "\n"
       ]
      },
      {
       "output_type": "stream",
       "stream": "stdout",
       "text": [
        "Time elapsed during integration: 33.1338980198\n"
       ]
      },
      {
       "output_type": "stream",
       "stream": "stderr",
       "text": [
        "\n"
       ]
      }
     ],
     "prompt_number": 6
    },
    {
     "cell_type": "code",
     "collapsed": false,
     "input": [
      "mu_conv = nce_run.get_lepton_flux('conv_mu+', mag) + \\\n",
      "          nce_run.get_lepton_flux('conv_mu-', mag)\n",
      "\n",
      "numu_conv = nce_run.get_lepton_flux('conv_numu', mag) + \\\n",
      "            nce_run.get_lepton_flux('conv_antinumu', mag)\n",
      "\n",
      "nue_conv = nce_run.get_lepton_flux('conv_nue', mag) + \\\n",
      "           nce_run.get_lepton_flux('conv_antinue', mag)\n",
      "\n",
      "mu_prompt = nce_run.get_lepton_flux('pr_mu+', mag) + \\\n",
      "          nce_run.get_lepton_flux('pr_mu-', mag)\n",
      "\n",
      "numu_prompt = nce_run.get_lepton_flux('pr_numu', mag) + \\\n",
      "            nce_run.get_lepton_flux('pr_antinumu', mag)\n",
      "\n",
      "nue_prompt = nce_run.get_lepton_flux('pr_nue', mag) + \\\n",
      "           nce_run.get_lepton_flux('pr_antinue', mag)\n",
      "\n",
      "\n",
      "mu_total = nce_run.get_lepton_flux('total_mu+', mag) + \\\n",
      "           nce_run.get_lepton_flux('total_mu-', mag)\n",
      "\n",
      "numu_total = nce_run.get_lepton_flux('total_numu', mag) + \\\n",
      "            nce_run.get_lepton_flux('total_antinumu', mag)\n",
      "\n",
      "nue_total = nce_run.get_lepton_flux('total_nue', mag) + \\\n",
      "            nce_run.get_lepton_flux('total_antinue', mag)\n",
      "\n",
      "nutau_total = nce_run.get_lepton_flux('total_nutau', mag) + \\\n",
      "              nce_run.get_lepton_flux('total_antinutau', mag)\n",
      "\n",
      "mu_pi = nce_run.get_lepton_flux('pi_mu+', mag) + \\\n",
      "           nce_run.get_lepton_flux('pi_mu-', mag)\n",
      "\n",
      "numu_pi = nce_run.get_lepton_flux('pi_numu', mag) + \\\n",
      "            nce_run.get_lepton_flux('pi_antinumu', mag)\n",
      "\n",
      "nue_pi = nce_run.get_lepton_flux('pi_nue', mag) + \\\n",
      "            nce_run.get_lepton_flux('pi_antinue', mag)\n",
      "\n",
      "mu_k = nce_run.get_lepton_flux('k_mu+', mag) + \\\n",
      "           nce_run.get_lepton_flux('k_mu-', mag)\n",
      "\n",
      "numu_k = nce_run.get_lepton_flux('k_numu', mag) + \\\n",
      "            nce_run.get_lepton_flux('k_antinumu', mag)\n",
      "\n",
      "nue_k = nce_run.get_lepton_flux('k_nue', mag) + \\\n",
      "            nce_run.get_lepton_flux('k_antinue', mag)"
     ],
     "language": "python",
     "metadata": {},
     "outputs": [],
     "prompt_number": 7
    },
    {
     "cell_type": "code",
     "collapsed": false,
     "input": [
      "color_spectrum = ['b', 'r', 'g', 'orange', 'cyan', 'violet',\n",
      "                  'brown', 'pink', 'yellow', 'lightblue']\n",
      "fig = plt.figure(figsize=(11, 7.5))\n",
      "fig.set_tight_layout(dict(rect=[0.01, 0.01, 0.97, 0.95]))\n",
      "e_grid = nce_run.e_grid\n",
      "plt.suptitle('{0} atmospheric lepton fluxes, {1} primary flux model.'.format(nce_run.iamodel_name,\n",
      "                                                                             nce_run.pmodel.sname))\n",
      "plt.subplot(221)        \n",
      "plt.plot(e_grid, mu_total, ls='-', lw=2, color='black', label='total')\n",
      "plt.plot(e_grid, mu_conv, ls='dotted', lw=2, color='black', label=r'total conv.')\n",
      "plt.plot(e_grid, mu_prompt, ls='--', lw=2, color='black', label='total prompt')\n",
      "plt.plot(e_grid, mu_obs['other prompt'], ls='--', lw=1.5, color='lightblue', label=r'other prompt')\n",
      "plt.plot(e_grid, mu_obs['other conv. mu'], ls='--', lw=1.5, color='grey', label=r'other conv.')\n",
      "plt.plot(e_grid, mu_pi, ls='-', lw=1.5, color='red', label=r'$\\pi$')\n",
      "plt.plot(e_grid, mu_k, ls='-', lw=1.5, color='green', label=r'$K$')\n",
      "plt.plot(e_grid, mu_obs['$D^\\\\pm + D^0$'], ls='-', lw=1.5, color='orange', label=r'$D^\\pm, D^0$')\n",
      "plt.plot(e_grid, mu_obs['$D_s$'], ls='-', lw=1.5, color='cyan', label=r'$D_s$')\n",
      "plt.plot(e_grid, mu_obs['$\\\\Lambda_C$'], ls='-', lw=1.5, color='violet', label=r'$\\Lambda_C$')\n",
      "plt.plot(e_grid, mu_obs['unflavored'], ls='-', lw=1.5, color='pink', label=r'unflavored')\n",
      "\n",
      "plt.loglog()\n",
      "plt.xlabel(r\"$E_{\\mu}$ [GeV]\")\n",
      "plt.ylabel(r\"$\\Phi_{\\mu}$ (E/GeV)$^{\" + str(mag) + \"}$ (cm$^{2}$ s sr GeV)$^{-1}$\")\n",
      "plt.xlim([50, 1e9])\n",
      "plt.ylim([1e-6, 1e3])\n",
      "plt.legend(loc='upper right', frameon=False, numpoints=1, ncol=2)\n",
      "\n",
      "plt.subplot(222)\n",
      "plt.plot(e_grid, numu_total, ls='-', lw=2, color='black', label='total')\n",
      "plt.plot(e_grid, numu_conv, ls='dotted', lw=2, color='black', label=r'total conv.')\n",
      "plt.plot(e_grid, numu_prompt, ls='--', lw=2, color='black', label='total prompt')\n",
      "plt.plot(e_grid, numu_obs['other conv. numu'], ls='--', lw=1.5, color='grey', label=r'other conv.')\n",
      "plt.plot(e_grid, numu_obs['other prompt'], ls='--', lw=1.5, color='lightblue', label=r'other prompt')\n",
      "plt.plot(e_grid, numu_pi, ls='-', lw=1.5, color='red', label=r'$\\pi$')\n",
      "plt.plot(e_grid, numu_k, ls='-', lw=1.5, color='green', label=r'$K$')\n",
      "plt.plot(e_grid, numu_obs['$D^\\\\pm + D^0$'], ls='-', lw=1.5, color='orange', label=r'$D^\\pm, D^0$')\n",
      "plt.plot(e_grid, numu_obs['$D_s$'], ls='-', lw=1.5, color='cyan', label=r'$D_s$')\n",
      "plt.plot(e_grid, numu_obs['$\\\\Lambda_C$'], ls='-', lw=1.5, color='violet', label=r'$\\Lambda_C$')\n",
      "plt.loglog()\n",
      "plt.xlabel(r\"$E_{\\nu_{\\mu}}$ [GeV]\")\n",
      "plt.ylabel(r\"$\\Phi_{\\nu_{\\mu}}$ (E/GeV)$^{\" + str(mag) + \"}$ (cm$^{2}$ s sr GeV)$^{-1}$\")\n",
      "plt.xlim([50, 1e9])\n",
      "plt.ylim([1e-7, 1e1])\n",
      "plt.legend(loc='upper right', frameon=False, numpoints=1, ncol=2)\n",
      "\n",
      "plt.subplot(223)\n",
      "plt.plot(e_grid, nue_total, ls='-', lw=2, color='black', label='total')\n",
      "plt.plot(e_grid, nue_conv, ls='dotted', lw=2, color='black', label=r'total conv.')\n",
      "plt.plot(e_grid, nue_prompt, ls='--', lw=2, color='black', label='total prompt')\n",
      "plt.plot(e_grid, nue_obs['other conv. nue'], ls='--', lw=1.5, color='grey', label=r'other conv.')\n",
      "plt.plot(e_grid, nue_obs['other prompt'], ls='--', lw=1.5, color='lightblue', label=r'other prompt')\n",
      "plt.plot(e_grid, nue_pi, ls='-', lw=1.5, color='red', label=r'$\\pi$')\n",
      "plt.plot(e_grid, nue_k, ls='-', lw=1.5, color='green', label=r'$K$')\n",
      "plt.plot(e_grid, nue_obs['$K^0_s$'], ls='-', lw=1.5, color='brown', label=r'$K^0_S$')\n",
      "plt.plot(e_grid, nue_obs['$K^0_L$'], ls='-', lw=1.5, color='blue', label=r'$K^0_L$')\n",
      "# plt.plot(e_grid, nue_obs['$\\\\mu$ decay'], ls='-', lw=1.5, color='pink', label=r'$\\mu$ decay')\n",
      "plt.plot(e_grid, nue_obs['$D^\\\\pm + D^0$'], ls='-', lw=1.5, color='orange', label=r'$D^\\pm, D^0$')\n",
      "plt.plot(e_grid, nue_obs['$D_s$'], ls='-', lw=1.5, color='cyan', label=r'$D_s$')\n",
      "plt.plot(e_grid, nue_obs['$\\\\Lambda_C$'], ls='-', lw=1.5, color='violet', label=r'$\\Lambda_C$')\n",
      "plt.plot(e_grid, nue_obs[\"tau decay\"], ls='-', lw=1.5, color='darkblue', label=r'$\\tau$')\n",
      "\n",
      "plt.loglog()\n",
      "plt.xlabel(r\"$E_{\\nu_{e}}$ [GeV]\")\n",
      "plt.ylabel(r\"$\\Phi_{\\nu_{e}}$ (E/GeV)$^{\" + str(mag) + \"}$ (cm$^{2}$ s sr GeV)$^{-1}$\")\n",
      "plt.xlim([50, 1e9])\n",
      "plt.ylim([1e-7, 1e1])\n",
      "plt.legend(loc=1, frameon=False, numpoints=1, ncol=3)\n",
      "\n",
      "plt.subplot(224)\n",
      "plt.plot(e_grid, nutau_total, ls='-', lw=2, color='black', alpha=0.6, label='total')\n",
      "plt.plot(e_grid, nutau_obs[\"tau decay\"], ls='-', lw=1.5, color='darkblue', label=r'$\\tau$')\n",
      "plt.plot(e_grid, nutau_obs['$D^\\\\pm + D^0$'], ls='-', lw=1.5, color='orange', label=r'$D^\\pm, D^0$')\n",
      "plt.plot(e_grid, nutau_obs['$D_s$'], ls='-', lw=1.5, color='cyan', label=r'$D_s$')\n",
      "\n",
      "\n",
      "plt.loglog()\n",
      "plt.xlabel(r\"$E_{\\nu_{\\tau}}$ [GeV]\")\n",
      "plt.ylabel(r\"$\\Phi_{\\nu_{\\tau}}$ (E/GeV)$^{\" + str(mag) + \"}$ (cm$^{2}$ s sr GeV)$^{-1}$\")\n",
      "plt.xlim([50, 1e9])\n",
      "plt.ylim([1e-9, 1e-2])\n",
      "plt.legend(loc=1, frameon=False, numpoints=1, ncol=2)\n",
      "\n",
      "plt.savefig('detailed_flux.pdf')\n"
     ],
     "language": "python",
     "metadata": {},
     "outputs": [
      {
       "output_type": "stream",
       "stream": "stderr",
       "text": [
        "/Users/afedynitch/anaconda/lib/python2.7/site-packages/matplotlib/figure.py:1644: UserWarning: This figure includes Axes that are not compatible with tight_layout, so its results might be incorrect.\n",
        "  warnings.warn(\"This figure includes Axes that are not \"\n"
       ]
      },
      {
       "metadata": {},
       "output_type": "display_data",
       "png": "[encoded data removed]",
       "text": [
        "<matplotlib.figure.Figure at 0x18cf32e50>"
       ]
      }
     ],
     "prompt_number": 8
    },
    {
     "cell_type": "code",
     "collapsed": false,
     "input": [],
     "language": "python",
     "metadata": {},
     "outputs": [],
     "prompt_number": 8
    }
   ],
   "metadata": {}
  }
 ]
}