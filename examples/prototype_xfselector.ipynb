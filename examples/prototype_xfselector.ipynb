{
 "metadata": {
  "name": "",
  "signature": "sha256:3646a3659b45834827491e2d738606aa0acb3bad0985e2a55847bc045ebd9e53"
 },
 "nbformat": 3,
 "nbformat_minor": 0,
 "worksheets": [
  {
   "cells": [
    {
     "cell_type": "code",
     "collapsed": false,
     "input": [
      "#basic imports and ipython setup\n",
      "%load_ext autoreload\n",
      "%matplotlib inline\n",
      "%autoreload 2\n",
      "import os\n",
      "\n",
      "\n",
      "import matplotlib.pyplot as plt\n",
      "import numpy as np\n",
      "os.chdir('..')\n",
      "\n",
      "#import solver related modules\n",
      "from MCEq.core import MCEqRun\n",
      "from mceq_config import config\n",
      "#import primary model choices\n",
      "import CRFluxModels as pm"
     ],
     "language": "python",
     "metadata": {},
     "outputs": [],
     "prompt_number": 1
    },
    {
     "cell_type": "code",
     "collapsed": false,
     "input": [
      "mceq_run = MCEqRun(\n",
      "#provide the string of the interaction model\n",
      "interaction_model='SIBYLL2.3_rc1',\n",
      "#primary cosmic ray flux model\n",
      "#support a tuple (primary model class (not instance!), arguments)\n",
      "primary_model=(pm.HillasGaisser2012, \"H3a\"),\n",
      "# Zenith angle in degrees. 0=vertical, 90=horizontal\n",
      "theta_deg=0.0,\n",
      "#expand the rest of the options from mceq_config.py\n",
      "**config\n",
      ")"
     ],
     "language": "python",
     "metadata": {},
     "outputs": [
      {
       "output_type": "stream",
       "stream": "stdout",
       "text": [
        "\n",
        "Hadrons:\n",
        "\n",
        "\"p-bar\", \"p\", \"n-bar\", \"n\", \"pi+\", \"pi-\", \"K0L\", \"K+\", \n",
        "\"K-\"\n",
        "\n",
        "Mixed:\n",
        "\n",
        "\"Lambda0-bar\", \"Lambda0\", \"Xi0-bar\", \"Xi0\", \"K0S\", \"Xi--bar\", \"Xi-\", \"Sigma--bar\", \n",
        "\"Sigma-\", \"Sigma+-bar\", \"Sigma+\", \"Omega--bar\", \"Omega-\", \"D+\", \"D-\", \"Ds+\", \n",
        "\"Ds-\", \"D0\", \"D0-bar\", \"XiC+-bar\", \"XiC+\", \"tau+\", \"tau-\", \"LambdaC+-bar\", \n",
        "\"LambdaC+\", \"XiC0-bar\", \"XiC0\", \"OmegaC0-bar\", \"OmegaC0\", \"pi0\"\n",
        "\n",
        "Resonances:\n",
        "\n",
        "\"eta\", \"Sigma0-bar\", \"Sigma0\", \"D*+\", \"D*-\", \"eta*\", \"jpsi\", \"phi\", \n",
        "\"SigmaC0-bar\", \"SigmaC0\", \"SigmaC+-bar\", \"SigmaC+\", \"SigmaC++-bar\", \"SigmaC++\", \"omega\", \"Xi*0-bar\", \n",
        "\"Xi*0\", \"Xi*--bar\", \"Xi*-\", \"SigmaC*0-bar\", \"SigmaC*0\", \"SigmaC*++-bar\", \"SigmaC*++\", \"SigmaC*+-bar\", \n",
        "\"SigmaC*+\", \"K*0\", \"K*0-bar\", \"K*+\", \"K*-\", \"Sigma*+-bar\", \"Sigma*+\", \"Sigma*0-bar\", \n",
        "\"Sigma*0\", \"Sigma*--bar\", \"Sigma*-\", \"etaC\", \"rho+\", \"rho-\", \"rho0\", \"Delta--bar\", \n",
        "\"Delta0-bar\", \"Delta+-bar\", \"Delta++-bar\", \"Delta++\", \"Delta+\", \"Delta0\", \"Delta-\", \"D*0\", \n",
        "\"D*0-bar\", \"XiC*0-bar\", \"XiC*+-bar\", \"XiC*+\", \"XiC*0\", \"Ds*+\", \"Ds*-\"\n",
        "\n",
        "Leptons:\n",
        "\n",
        "\"nue\", \"numu\", \"nutau\", \"antinue\", \"antinumu\", \"antinutau\", \"nue\", \"numu\", \n",
        "\"nutau\", \"antinue\", \"antinumu\", \"antinutau\", \"mu-\", \"mu+\", \"mu-\", \"mu+\"\n",
        "\n",
        "Aliases:\n",
        "\"pr_nue\", \"pr_numu\", \"pr_nutau\", \"pi_nue\", \"pi_numu\", \"pi_nutau\", \"k_nue\", \"k_numu\", \n",
        "\"k_nutau\", \"obs_nue\", \"obs_numu\", \"obs_nutau\", \"pr_antinue\", \"pr_antinumu\", \"pr_antinutau\", \"pi_antinue\", \n",
        "\"pi_antinumu\", \"pi_antinutau\", \"k_antinue\", \"k_antinumu\", \"k_antinutau\", \"obs_antinue\", \"obs_antinumu\", \"obs_antinutau\", \n",
        "\"pr_mu-\", \"pi_mu-\", \"k_mu-\", \"obs_mu-\", \"pr_mu+\", \"pi_mu+\", \"k_mu+\", \"obs_mu+\"\n",
        "\n",
        "Total number of species: 87\n",
        "MCEqRun::set_interaction_model():  SIBYLL2.3_rc1\n",
        "InteractionYields:set_interaction_model():: Model SIBYLL2.3_rc1 already loaded.\n",
        "MCEqRun::_init_default_matrices():Start filling matrices.\n",
        "MCEqRun::_convert_to_sparse():Converting to sparse (CSR) matrix format."
       ]
      },
      {
       "output_type": "stream",
       "stream": "stdout",
       "text": [
        "\n",
        "C Matrix info:"
       ]
      },
      {
       "output_type": "stream",
       "stream": "stdout",
       "text": [
        "\n",
        "    density    : 7.3207942769e-07\n",
        "    shape      : (6264, 6264)\n",
        "    nnz        : 1365972\n",
        "D Matrix info:\n",
        "    density    : 3.44531764106e-06\n",
        "    shape      : (6264, 6264)\n",
        "    nnz        : 290249\n",
        "MCEqRun::_init_default_matrices():Done filling matrices.\n",
        "MCEqRun::set_atm_model(): "
       ]
      },
      {
       "output_type": "stream",
       "stream": "stdout",
       "text": [
        " CORSIKA BK_USStd None\n",
        "MCEqRun::set_theta_deg():  0.0\n",
        "atmospheres::_load_cache(): loading cache.\n",
        "MCEqRun::set_primary_model(): "
       ]
      },
      {
       "output_type": "stream",
       "stream": "stdout",
       "text": [
        " HillasGaisser2012 H3a\n"
       ]
      }
     ],
     "prompt_number": 3
    },
    {
     "cell_type": "markdown",
     "metadata": {},
     "source": [
      "Select xf ranges by combining indices to tuples\n",
      "-----------------------------------------------"
     ]
    },
    {
     "cell_type": "code",
     "collapsed": false,
     "input": [
      "print '\\nindex | xf value'\n",
      "xf_bins = mceq_run.y.e_bins/mceq_run.y.e_bins[-1]\n",
      "for i, e in enumerate(xf_bins[-15:]):\n",
      "    print '{0:5}       {1:3.2f}'.format(i-15, e) \n",
      "\n",
      "range_tups = [None, (-2,-1), (-3,-2), (-4,-3), (-5,-4), (0, -5)]\n",
      "\n",
      "print \"\\nFollowing xf ranges are configured\"\n",
      "\n",
      "for t in range_tups:\n",
      "    if t: print '{0:5.2f} - {1:5.2f}'.format(xf_bins[t[0]], xf_bins[t[1]])"
     ],
     "language": "python",
     "metadata": {},
     "outputs": [
      {
       "output_type": "stream",
       "stream": "stdout",
       "text": [
        "\n",
        "index | xf value\n",
        "  -15       0.02\n",
        "  -14       0.03\n",
        "  -13       0.04\n",
        "  -12       0.05\n",
        "  -11       0.07\n",
        "  -10       0.09\n",
        "   -9       0.12\n",
        "   -8       0.16\n",
        "   -7       0.20\n",
        "   -6       0.27\n",
        "   -5       0.35\n",
        "   -4       0.45\n",
        "   -3       0.59\n",
        "   -2       0.77\n",
        "   -1       1.00\n",
        "\n",
        "Following xf ranges are configured\n",
        " 0.77 -  1.00\n",
        " 0.59 -  0.77\n",
        " 0.45 -  0.59\n",
        " 0.35 -  0.45\n",
        " 0.00 -  0.35\n"
       ]
      }
     ],
     "prompt_number": 9
    },
    {
     "cell_type": "code",
     "collapsed": false,
     "input": [
      "flux_ranges = []\n",
      "mag = 3\n",
      "for t in range_tups:\n",
      "    if not t:\n",
      "        mceq_run.y.band = None\n",
      "    else:\n",
      "        mceq_run.y.set_xf_band(*t)\n",
      "    mceq_run._init_default_matrices()\n",
      "    mceq_run.solve()\n",
      "    #Retrieve the flux at the surface by using the aliases which were listed in the\n",
      "    #output during the MCEqRun initialization. \n",
      "    flux = {}\n",
      "    #_conv means conventional (mostly pions and kaons)\n",
      "    flux['mu_conv'] = (mceq_run.get_solution('conv_mu+', mag)\n",
      "                       + mceq_run.get_solution('conv_mu-', mag))\n",
      "\n",
      "    # _pr means prompt (the mother of the muon had a critical energy\n",
      "    # higher than a D meson. Includes all charm and direct resonance\n",
      "    # contribution)\n",
      "    flux['mu_pr'] = (mceq_run.get_solution('pr_mu+', mag)\n",
      "                     + mceq_run.get_solution('pr_mu-', mag))\n",
      "\n",
      "    # total means conventional + prompt\n",
      "    flux['mu_total'] = (mceq_run.get_solution('total_mu+', mag)\n",
      "                        + mceq_run.get_solution('total_mu-', mag))\n",
      "\n",
      "    # same meaning of prefixes for muon neutrinos as for muons\n",
      "    flux['numu_conv'] = (mceq_run.get_solution('conv_numu', mag)\n",
      "                         + mceq_run.get_solution('conv_antinumu', mag))\n",
      "\n",
      "    flux['numu_pr'] = (mceq_run.get_solution('pr_numu', mag)\n",
      "                       + mceq_run.get_solution('pr_antinumu', mag))\n",
      "\n",
      "    flux['numu_total'] = (mceq_run.get_solution('total_numu', mag)\n",
      "                          + mceq_run.get_solution('total_antinumu', mag))\n",
      "\n",
      "    # same meaning of prefixes for electron neutrinos as for muons\n",
      "    flux['nue_conv'] = (mceq_run.get_solution('conv_nue', mag)\n",
      "                        + mceq_run.get_solution('conv_antinue', mag))\n",
      "\n",
      "    flux['nue_pr'] = (mceq_run.get_solution('pr_nue', mag)\n",
      "                      + mceq_run.get_solution('pr_antinue', mag))\n",
      "\n",
      "    flux['nue_total'] = (mceq_run.get_solution('total_nue', mag)\n",
      "                         + mceq_run.get_solution('total_antinue', mag))\n",
      "\n",
      "\n",
      "    # since there are no conventional tau neutrinos, prompt=total\n",
      "    flux['nutau_pr'] = (mceq_run.get_solution('total_nutau', mag)\n",
      "                        + mceq_run.get_solution('total_antinutau', mag))\n",
      "    flux_ranges.append(flux)"
     ],
     "language": "python",
     "metadata": {},
     "outputs": [
      {
       "output_type": "stream",
       "stream": "stdout",
       "text": [
        "MCEqRun::_init_default_matrices():Start filling matrices.\n",
        "MCEqRun::_convert_to_sparse():Converting to sparse (CSR) matrix format."
       ]
      },
      {
       "output_type": "stream",
       "stream": "stdout",
       "text": [
        "\n",
        "C Matrix info:"
       ]
      },
      {
       "output_type": "stream",
       "stream": "stderr",
       "text": [
        "  0% |                                                         | ETA:  --:--:--\r",
        "  1% |                                                          | ETA:  0:00:21\r"
       ]
      },
      {
       "output_type": "stream",
       "stream": "stderr",
       "text": [
        "  2% |#                                                         | ETA:  0:00:20\r",
        "  3% |#                                                         | ETA:  0:00:19\r"
       ]
      },
      {
       "output_type": "stream",
       "stream": "stderr",
       "text": [
        "  4% |##                                                        | ETA:  0:00:19\r",
        "  5% |##                                                        | ETA:  0:00:18\r"
       ]
      },
      {
       "output_type": "stream",
       "stream": "stderr",
       "text": [
        "  6% |###                                                       | ETA:  0:00:18\r",
        "  7% |####                                                      | ETA:  0:00:17\r"
       ]
      },
      {
       "output_type": "stream",
       "stream": "stderr",
       "text": [
        "  8% |####                                                      | ETA:  0:00:17\r",
        "  9% |#####                                                     | ETA:  0:00:17\r"
       ]
      },
      {
       "output_type": "stream",
       "stream": "stderr",
       "text": [
        " 10% |#####                                                     | ETA:  0:00:17\r",
        " 11% |######                                                    | ETA:  0:00:16\r"
       ]
      },
      {
       "output_type": "stream",
       "stream": "stderr",
       "text": [
        " 12% |#######                                                   | ETA:  0:00:16\r",
        " 13% |#######                                                   | ETA:  0:00:16\r"
       ]
      },
      {
       "output_type": "stream",
       "stream": "stderr",
       "text": [
        " 14% |########                                                  | ETA:  0:00:16\r",
        " 15% |########                                                  | ETA:  0:00:15\r"
       ]
      },
      {
       "output_type": "stream",
       "stream": "stderr",
       "text": [
        " 16% |#########                                                 | ETA:  0:00:15\r",
        " 17% |##########                                                | ETA:  0:00:15\r"
       ]
      },
      {
       "output_type": "stream",
       "stream": "stderr",
       "text": [
        " 18% |##########                                                | ETA:  0:00:15\r",
        " 19% |###########                                               | ETA:  0:00:15\r"
       ]
      },
      {
       "output_type": "stream",
       "stream": "stderr",
       "text": [
        " 20% |###########                                               | ETA:  0:00:14\r",
        " 21% |############                                              | ETA:  0:00:14\r"
       ]
      },
      {
       "output_type": "stream",
       "stream": "stderr",
       "text": [
        " 22% |############                                              | ETA:  0:00:14\r",
        " 23% |#############                                             | ETA:  0:00:14\r"
       ]
      },
      {
       "output_type": "stream",
       "stream": "stderr",
       "text": [
        " 24% |##############                                            | ETA:  0:00:14\r",
        " 25% |##############                                            | ETA:  0:00:13\r"
       ]
      },
      {
       "output_type": "stream",
       "stream": "stderr",
       "text": [
        " 26% |###############                                           | ETA:  0:00:13\r",
        " 27% |###############                                           | ETA:  0:00:13\r"
       ]
      },
      {
       "output_type": "stream",
       "stream": "stderr",
       "text": [
        " 28% |################                                          | ETA:  0:00:13\r",
        " 29% |#################                                         | ETA:  0:00:13\r"
       ]
      },
      {
       "output_type": "stream",
       "stream": "stderr",
       "text": [
        " 30% |#################                                         | ETA:  0:00:13\r",
        " 31% |##################                                        | ETA:  0:00:12\r"
       ]
      },
      {
       "output_type": "stream",
       "stream": "stderr",
       "text": [
        " 32% |##################                                        | ETA:  0:00:12\r",
        " 33% |###################                                       | ETA:  0:00:12\r"
       ]
      },
      {
       "output_type": "stream",
       "stream": "stderr",
       "text": [
        " 34% |####################                                      | ETA:  0:00:12\r",
        " 35% |####################                                      | ETA:  0:00:12\r"
       ]
      },
      {
       "output_type": "stream",
       "stream": "stderr",
       "text": [
        " 36% |#####################                                     | ETA:  0:00:11\r",
        " 37% |#####################                                     | ETA:  0:00:11\r"
       ]
      },
      {
       "output_type": "stream",
       "stream": "stderr",
       "text": [
        " 38% |######################                                    | ETA:  0:00:11\r",
        " 39% |######################                                    | ETA:  0:00:11\r"
       ]
      },
      {
       "output_type": "stream",
       "stream": "stderr",
       "text": [
        " 40% |#######################                                   | ETA:  0:00:11\r",
        " 41% |########################                                  | ETA:  0:00:10\r"
       ]
      },
      {
       "output_type": "stream",
       "stream": "stderr",
       "text": [
        " 42% |########################                                  | ETA:  0:00:10\r",
        " 43% |#########################                                 | ETA:  0:00:10\r"
       ]
      },
      {
       "output_type": "stream",
       "stream": "stderr",
       "text": [
        " 44% |#########################                                 | ETA:  0:00:10\r",
        " 45% |##########################                                | ETA:  0:00:10\r"
       ]
      },
      {
       "output_type": "stream",
       "stream": "stderr",
       "text": [
        " 46% |###########################                               | ETA:  0:00:09\r",
        " 47% |###########################                               | ETA:  0:00:09\r"
       ]
      },
      {
       "output_type": "stream",
       "stream": "stderr",
       "text": [
        " 48% |############################                              | ETA:  0:00:09\r",
        " 49% |############################                              | ETA:  0:00:09\r"
       ]
      },
      {
       "output_type": "stream",
       "stream": "stderr",
       "text": [
        " 50% |#############################                             | ETA:  0:00:09\r",
        " 51% |##############################                            | ETA:  0:00:09\r"
       ]
      },
      {
       "output_type": "stream",
       "stream": "stderr",
       "text": [
        " 52% |##############################                            | ETA:  0:00:08\r",
        " 53% |###############################                           | ETA:  0:00:08\r"
       ]
      },
      {
       "output_type": "stream",
       "stream": "stderr",
       "text": [
        " 54% |###############################                           | ETA:  0:00:08\r",
        " 55% |################################                          | ETA:  0:00:08\r"
       ]
      },
      {
       "output_type": "stream",
       "stream": "stderr",
       "text": [
        " 56% |################################                          | ETA:  0:00:08\r",
        " 57% |#################################                         | ETA:  0:00:07\r"
       ]
      },
      {
       "output_type": "stream",
       "stream": "stderr",
       "text": [
        " 58% |##################################                        | ETA:  0:00:07\r",
        " 59% |##################################                        | ETA:  0:00:07\r"
       ]
      },
      {
       "output_type": "stream",
       "stream": "stderr",
       "text": [
        " 60% |###################################                       | ETA:  0:00:07\r",
        " 61% |###################################                       | ETA:  0:00:07\r"
       ]
      },
      {
       "output_type": "stream",
       "stream": "stderr",
       "text": [
        " 62% |####################################                      | ETA:  0:00:06\r",
        " 63% |#####################################                     | ETA:  0:00:06\r"
       ]
      },
      {
       "output_type": "stream",
       "stream": "stderr",
       "text": [
        " 64% |#####################################                     | ETA:  0:00:06\r",
        " 65% |######################################                    | ETA:  0:00:06\r"
       ]
      },
      {
       "output_type": "stream",
       "stream": "stderr",
       "text": [
        " 66% |######################################                    | ETA:  0:00:06\r",
        " 68% |#######################################                   | ETA:  0:00:05\r"
       ]
      },
      {
       "output_type": "stream",
       "stream": "stderr",
       "text": [
        " 69% |########################################                  | ETA:  0:00:05\r",
        " 70% |########################################                  | ETA:  0:00:05\r"
       ]
      },
      {
       "output_type": "stream",
       "stream": "stderr",
       "text": [
        " 71% |#########################################                 | ETA:  0:00:05\r",
        " 72% |#########################################                 | ETA:  0:00:05\r"
       ]
      },
      {
       "output_type": "stream",
       "stream": "stderr",
       "text": [
        " 73% |##########################################                | ETA:  0:00:05\r",
        " 74% |##########################################                | ETA:  0:00:04\r"
       ]
      },
      {
       "output_type": "stream",
       "stream": "stderr",
       "text": [
        " 75% |###########################################               | ETA:  0:00:04\r",
        " 76% |############################################              | ETA:  0:00:04\r"
       ]
      },
      {
       "output_type": "stream",
       "stream": "stderr",
       "text": [
        " 77% |############################################              | ETA:  0:00:04\r",
        " 78% |#############################################             | ETA:  0:00:04\r"
       ]
      },
      {
       "output_type": "stream",
       "stream": "stderr",
       "text": [
        " 79% |#############################################             | ETA:  0:00:03\r",
        " 80% |##############################################            | ETA:  0:00:03\r"
       ]
      },
      {
       "output_type": "stream",
       "stream": "stderr",
       "text": [
        " 81% |###############################################           | ETA:  0:00:03\r",
        " 82% |###############################################           | ETA:  0:00:03\r"
       ]
      },
      {
       "output_type": "stream",
       "stream": "stderr",
       "text": [
        " 83% |################################################          | ETA:  0:00:03\r",
        " 84% |################################################          | ETA:  0:00:02\r"
       ]
      },
      {
       "output_type": "stream",
       "stream": "stderr",
       "text": [
        " 85% |#################################################         | ETA:  0:00:02\r",
        " 86% |##################################################        | ETA:  0:00:02\r"
       ]
      },
      {
       "output_type": "stream",
       "stream": "stderr",
       "text": [
        " 87% |##################################################        | ETA:  0:00:02\r",
        " 88% |###################################################       | ETA:  0:00:02\r"
       ]
      },
      {
       "output_type": "stream",
       "stream": "stderr",
       "text": [
        " 89% |###################################################       | ETA:  0:00:01\r",
        " 90% |####################################################      | ETA:  0:00:01\r"
       ]
      },
      {
       "output_type": "stream",
       "stream": "stderr",
       "text": [
        " 91% |####################################################      | ETA:  0:00:01\r",
        " 92% |#####################################################     | ETA:  0:00:01\r"
       ]
      },
      {
       "output_type": "stream",
       "stream": "stderr",
       "text": [
        " 93% |######################################################    | ETA:  0:00:01\r",
        " 94% |######################################################    | ETA:  0:00:01\r"
       ]
      },
      {
       "output_type": "stream",
       "stream": "stderr",
       "text": [
        " 95% |#######################################################   | ETA:  0:00:00\r",
        " 96% |#######################################################   | ETA:  0:00:00\r"
       ]
      },
      {
       "output_type": "stream",
       "stream": "stderr",
       "text": [
        " 97% |########################################################  | ETA:  0:00:00\r",
        " 98% |######################################################### | ETA:  0:00:00\r"
       ]
      },
      {
       "output_type": "stream",
       "stream": "stderr",
       "text": [
        " 99% |######################################################### | ETA:  0:00:00\r",
        "100% |##########################################################| Time: 0:00:18\r"
       ]
      },
      {
       "output_type": "stream",
       "stream": "stdout",
       "text": [
        "\n",
        "    density    : 7.3207942769e-07\n",
        "    shape      : (6264, 6264)\n",
        "    nnz        : 1365972\n",
        "D Matrix info:\n",
        "    density    : 3.44531764106e-06\n",
        "    shape      : (6264, 6264)\n",
        "    nnz        : 290249\n",
        "MCEqRun::_init_default_matrices():Done filling matrices.\n",
        "MCEqRun::_calculate_integration_path():\n",
        "MCEqRun::_forward_euler(): Solver will perform 4729 integration steps.\n",
        "\n",
        "MCEqRun::_forward_euler(): time elapsed during integration: 18.6152172089 sec"
       ]
      },
      {
       "output_type": "stream",
       "stream": "stdout",
       "text": [
        "\n",
        "InteractionYields::set_xf_band(): limiting Feynman x range to:  0.77 -  1.00\n",
        "MCEqRun::_init_default_matrices():Start filling matrices.\n",
        "MCEqRun::_convert_to_sparse():Converting to sparse (CSR) matrix format."
       ]
      },
      {
       "output_type": "stream",
       "stream": "stdout",
       "text": [
        "\n",
        "C Matrix info:"
       ]
      },
      {
       "output_type": "stream",
       "stream": "stderr",
       "text": [
        "\n",
        "  0% |                                                         | ETA:  --:--:--\r"
       ]
      },
      {
       "output_type": "stream",
       "stream": "stderr",
       "text": [
        "  1% |                                                          | ETA:  0:00:08\r",
        "  2% |#                                                         | ETA:  0:00:07\r"
       ]
      },
      {
       "output_type": "stream",
       "stream": "stderr",
       "text": [
        "  3% |#                                                         | ETA:  0:00:06\r",
        "  4% |##                                                        | ETA:  0:00:06\r"
       ]
      },
      {
       "output_type": "stream",
       "stream": "stderr",
       "text": [
        "  5% |##                                                        | ETA:  0:00:06\r",
        "  6% |###                                                       | ETA:  0:00:06\r"
       ]
      },
      {
       "output_type": "stream",
       "stream": "stderr",
       "text": [
        "  7% |####                                                      | ETA:  0:00:05\r",
        "  8% |####                                                      | ETA:  0:00:05\r"
       ]
      },
      {
       "output_type": "stream",
       "stream": "stderr",
       "text": [
        "  9% |#####                                                     | ETA:  0:00:05\r",
        " 10% |#####                                                     | ETA:  0:00:05\r"
       ]
      },
      {
       "output_type": "stream",
       "stream": "stderr",
       "text": [
        " 11% |######                                                    | ETA:  0:00:05\r",
        " 12% |#######                                                   | ETA:  0:00:05\r"
       ]
      },
      {
       "output_type": "stream",
       "stream": "stderr",
       "text": [
        " 13% |#######                                                   | ETA:  0:00:05\r",
        " 14% |########                                                  | ETA:  0:00:05\r"
       ]
      },
      {
       "output_type": "stream",
       "stream": "stderr",
       "text": [
        " 15% |########                                                  | ETA:  0:00:05\r",
        " 16% |#########                                                 | ETA:  0:00:05\r"
       ]
      },
      {
       "output_type": "stream",
       "stream": "stderr",
       "text": [
        " 17% |##########                                                | ETA:  0:00:04\r",
        " 18% |##########                                                | ETA:  0:00:04\r"
       ]
      },
      {
       "output_type": "stream",
       "stream": "stderr",
       "text": [
        " 19% |###########                                               | ETA:  0:00:04\r",
        " 20% |###########                                               | ETA:  0:00:04\r"
       ]
      },
      {
       "output_type": "stream",
       "stream": "stderr",
       "text": [
        " 21% |############                                              | ETA:  0:00:04\r",
        " 22% |############                                              | ETA:  0:00:04\r"
       ]
      },
      {
       "output_type": "stream",
       "stream": "stderr",
       "text": [
        " 23% |#############                                             | ETA:  0:00:04\r",
        " 24% |##############                                            | ETA:  0:00:04\r"
       ]
      },
      {
       "output_type": "stream",
       "stream": "stderr",
       "text": [
        " 25% |##############                                            | ETA:  0:00:04\r",
        " 26% |###############                                           | ETA:  0:00:04\r"
       ]
      },
      {
       "output_type": "stream",
       "stream": "stderr",
       "text": [
        " 27% |###############                                           | ETA:  0:00:04\r",
        " 28% |################                                          | ETA:  0:00:04\r"
       ]
      },
      {
       "output_type": "stream",
       "stream": "stderr",
       "text": [
        " 29% |#################                                         | ETA:  0:00:04\r",
        " 30% |#################                                         | ETA:  0:00:04\r"
       ]
      },
      {
       "output_type": "stream",
       "stream": "stderr",
       "text": [
        " 31% |##################                                        | ETA:  0:00:04\r",
        " 32% |##################                                        | ETA:  0:00:03\r"
       ]
      },
      {
       "output_type": "stream",
       "stream": "stderr",
       "text": [
        " 33% |###################                                       | ETA:  0:00:03\r",
        " 34% |####################                                      | ETA:  0:00:03\r"
       ]
      },
      {
       "output_type": "stream",
       "stream": "stderr",
       "text": [
        " 35% |####################                                      | ETA:  0:00:03\r",
        " 36% |#####################                                     | ETA:  0:00:03\r"
       ]
      },
      {
       "output_type": "stream",
       "stream": "stderr",
       "text": [
        " 37% |#####################                                     | ETA:  0:00:03\r",
        " 38% |######################                                    | ETA:  0:00:03\r"
       ]
      },
      {
       "output_type": "stream",
       "stream": "stderr",
       "text": [
        " 39% |######################                                    | ETA:  0:00:03\r",
        " 40% |#######################                                   | ETA:  0:00:03\r"
       ]
      },
      {
       "output_type": "stream",
       "stream": "stderr",
       "text": [
        " 41% |########################                                  | ETA:  0:00:03\r",
        " 42% |########################                                  | ETA:  0:00:03\r"
       ]
      },
      {
       "output_type": "stream",
       "stream": "stderr",
       "text": [
        " 43% |#########################                                 | ETA:  0:00:03\r",
        " 44% |#########################                                 | ETA:  0:00:03\r"
       ]
      },
      {
       "output_type": "stream",
       "stream": "stderr",
       "text": [
        " 45% |##########################                                | ETA:  0:00:03\r",
        " 46% |###########################                               | ETA:  0:00:03\r"
       ]
      },
      {
       "output_type": "stream",
       "stream": "stderr",
       "text": [
        " 47% |###########################                               | ETA:  0:00:03\r",
        " 48% |############################                              | ETA:  0:00:03\r"
       ]
      },
      {
       "output_type": "stream",
       "stream": "stderr",
       "text": [
        " 49% |############################                              | ETA:  0:00:02\r",
        " 50% |#############################                             | ETA:  0:00:02\r"
       ]
      },
      {
       "output_type": "stream",
       "stream": "stderr",
       "text": [
        " 51% |##############################                            | ETA:  0:00:02\r",
        " 52% |##############################                            | ETA:  0:00:02\r"
       ]
      },
      {
       "output_type": "stream",
       "stream": "stderr",
       "text": [
        " 53% |###############################                           | ETA:  0:00:02\r",
        " 54% |###############################                           | ETA:  0:00:02\r"
       ]
      },
      {
       "output_type": "stream",
       "stream": "stderr",
       "text": [
        " 55% |################################                          | ETA:  0:00:02\r",
        " 56% |################################                          | ETA:  0:00:02\r"
       ]
      },
      {
       "output_type": "stream",
       "stream": "stderr",
       "text": [
        " 57% |#################################                         | ETA:  0:00:02\r",
        " 58% |##################################                        | ETA:  0:00:02\r"
       ]
      },
      {
       "output_type": "stream",
       "stream": "stderr",
       "text": [
        " 59% |##################################                        | ETA:  0:00:02\r",
        " 60% |###################################                       | ETA:  0:00:02\r"
       ]
      },
      {
       "output_type": "stream",
       "stream": "stderr",
       "text": [
        " 61% |###################################                       | ETA:  0:00:02\r",
        " 62% |####################################                      | ETA:  0:00:02\r"
       ]
      },
      {
       "output_type": "stream",
       "stream": "stderr",
       "text": [
        " 63% |#####################################                     | ETA:  0:00:02\r",
        " 64% |#####################################                     | ETA:  0:00:02\r"
       ]
      },
      {
       "output_type": "stream",
       "stream": "stderr",
       "text": [
        " 65% |######################################                    | ETA:  0:00:01\r",
        " 66% |######################################                    | ETA:  0:00:01\r"
       ]
      },
      {
       "output_type": "stream",
       "stream": "stderr",
       "text": [
        " 68% |#######################################                   | ETA:  0:00:01\r",
        " 69% |########################################                  | ETA:  0:00:01\r"
       ]
      },
      {
       "output_type": "stream",
       "stream": "stderr",
       "text": [
        " 70% |########################################                  | ETA:  0:00:01\r",
        " 71% |#########################################                 | ETA:  0:00:01\r"
       ]
      },
      {
       "output_type": "stream",
       "stream": "stderr",
       "text": [
        " 72% |#########################################                 | ETA:  0:00:01\r",
        " 73% |##########################################                | ETA:  0:00:01\r"
       ]
      },
      {
       "output_type": "stream",
       "stream": "stderr",
       "text": [
        " 74% |##########################################                | ETA:  0:00:01\r",
        " 75% |###########################################               | ETA:  0:00:01\r"
       ]
      },
      {
       "output_type": "stream",
       "stream": "stderr",
       "text": [
        " 76% |############################################              | ETA:  0:00:01\r",
        " 77% |############################################              | ETA:  0:00:01\r"
       ]
      },
      {
       "output_type": "stream",
       "stream": "stderr",
       "text": [
        " 78% |#############################################             | ETA:  0:00:01\r",
        " 79% |#############################################             | ETA:  0:00:01\r"
       ]
      },
      {
       "output_type": "stream",
       "stream": "stderr",
       "text": [
        " 80% |##############################################            | ETA:  0:00:01\r",
        " 81% |###############################################           | ETA:  0:00:01\r"
       ]
      },
      {
       "output_type": "stream",
       "stream": "stderr",
       "text": [
        " 82% |###############################################           | ETA:  0:00:01\r",
        " 83% |################################################          | ETA:  0:00:00\r"
       ]
      },
      {
       "output_type": "stream",
       "stream": "stderr",
       "text": [
        " 84% |################################################          | ETA:  0:00:00\r",
        " 85% |#################################################         | ETA:  0:00:00\r"
       ]
      },
      {
       "output_type": "stream",
       "stream": "stderr",
       "text": [
        " 86% |##################################################        | ETA:  0:00:00\r",
        " 87% |##################################################        | ETA:  0:00:00\r"
       ]
      },
      {
       "output_type": "stream",
       "stream": "stderr",
       "text": [
        " 88% |###################################################       | ETA:  0:00:00\r",
        " 89% |###################################################       | ETA:  0:00:00\r"
       ]
      },
      {
       "output_type": "stream",
       "stream": "stderr",
       "text": [
        " 90% |####################################################      | ETA:  0:00:00\r",
        " 91% |####################################################      | ETA:  0:00:00\r"
       ]
      },
      {
       "output_type": "stream",
       "stream": "stderr",
       "text": [
        " 92% |#####################################################     | ETA:  0:00:00\r",
        " 93% |######################################################    | ETA:  0:00:00\r"
       ]
      },
      {
       "output_type": "stream",
       "stream": "stderr",
       "text": [
        " 94% |######################################################    | ETA:  0:00:00\r",
        " 95% |#######################################################   | ETA:  0:00:00\r"
       ]
      },
      {
       "output_type": "stream",
       "stream": "stderr",
       "text": [
        " 96% |#######################################################   | ETA:  0:00:00\r",
        " 97% |########################################################  | ETA:  0:00:00\r"
       ]
      },
      {
       "output_type": "stream",
       "stream": "stderr",
       "text": [
        " 98% |######################################################### | ETA:  0:00:00\r",
        " 99% |######################################################### | ETA:  0:00:00\r"
       ]
      },
      {
       "output_type": "stream",
       "stream": "stdout",
       "text": [
        "\n",
        "    density    : 3.37060094444e-06\n",
        "    shape      : (6264, 6264)\n",
        "    nnz        : 296683\n",
        "D Matrix info:\n",
        "    density    : 3.44531764106e-06\n",
        "    shape      : (6264, 6264)\n",
        "    nnz        : 290249\n",
        "MCEqRun::_init_default_matrices():Done filling matrices.\n",
        "MCEqRun::_calculate_integration_path():\n",
        "MCEqRun::_forward_euler(): Solver will perform 4729 integration steps.\n",
        "\n",
        "MCEqRun::_forward_euler(): time elapsed during integration: 5.84932398796 sec"
       ]
      },
      {
       "output_type": "stream",
       "stream": "stdout",
       "text": [
        "\n",
        "InteractionYields::set_xf_band(): limiting Feynman x range to:  0.59 -  0.77\n",
        "MCEqRun::_init_default_matrices():Start filling matrices.\n",
        "MCEqRun::_convert_to_sparse():Converting to sparse (CSR) matrix format."
       ]
      },
      {
       "output_type": "stream",
       "stream": "stdout",
       "text": [
        "\n",
        "C Matrix info:"
       ]
      },
      {
       "output_type": "stream",
       "stream": "stderr",
       "text": [
        "100% |##########################################################| Time: 0:00:05\r\n",
        "  0% |                                                         | ETA:  --:--:--\r"
       ]
      },
      {
       "output_type": "stream",
       "stream": "stderr",
       "text": [
        "  1% |                                                          | ETA:  0:00:08\r",
        "  2% |#                                                         | ETA:  0:00:07\r"
       ]
      },
      {
       "output_type": "stream",
       "stream": "stderr",
       "text": [
        "  3% |#                                                         | ETA:  0:00:07\r",
        "  4% |##                                                        | ETA:  0:00:07\r"
       ]
      },
      {
       "output_type": "stream",
       "stream": "stderr",
       "text": [
        "  5% |##                                                        | ETA:  0:00:07\r",
        "  6% |###                                                       | ETA:  0:00:06\r"
       ]
      },
      {
       "output_type": "stream",
       "stream": "stderr",
       "text": [
        "  7% |####                                                      | ETA:  0:00:06\r",
        "  8% |####                                                      | ETA:  0:00:06\r"
       ]
      },
      {
       "output_type": "stream",
       "stream": "stderr",
       "text": [
        "  9% |#####                                                     | ETA:  0:00:06\r",
        " 10% |#####                                                     | ETA:  0:00:06\r"
       ]
      },
      {
       "output_type": "stream",
       "stream": "stderr",
       "text": [
        " 11% |######                                                    | ETA:  0:00:06\r",
        " 12% |#######                                                   | ETA:  0:00:06\r"
       ]
      },
      {
       "output_type": "stream",
       "stream": "stderr",
       "text": [
        " 13% |#######                                                   | ETA:  0:00:06\r",
        " 14% |########                                                  | ETA:  0:00:05\r"
       ]
      },
      {
       "output_type": "stream",
       "stream": "stderr",
       "text": [
        " 15% |########                                                  | ETA:  0:00:05\r",
        " 16% |#########                                                 | ETA:  0:00:05\r"
       ]
      },
      {
       "output_type": "stream",
       "stream": "stderr",
       "text": [
        " 17% |##########                                                | ETA:  0:00:05\r",
        " 18% |##########                                                | ETA:  0:00:05\r"
       ]
      },
      {
       "output_type": "stream",
       "stream": "stderr",
       "text": [
        " 19% |###########                                               | ETA:  0:00:05\r",
        " 20% |###########                                               | ETA:  0:00:05\r"
       ]
      },
      {
       "output_type": "stream",
       "stream": "stderr",
       "text": [
        " 21% |############                                              | ETA:  0:00:05\r",
        " 22% |############                                              | ETA:  0:00:05\r"
       ]
      },
      {
       "output_type": "stream",
       "stream": "stderr",
       "text": [
        " 23% |#############                                             | ETA:  0:00:05\r",
        " 24% |##############                                            | ETA:  0:00:05\r"
       ]
      },
      {
       "output_type": "stream",
       "stream": "stderr",
       "text": [
        " 25% |##############                                            | ETA:  0:00:05\r",
        " 26% |###############                                           | ETA:  0:00:05\r"
       ]
      },
      {
       "output_type": "stream",
       "stream": "stderr",
       "text": [
        " 27% |###############                                           | ETA:  0:00:04\r",
        " 28% |################                                          | ETA:  0:00:04\r"
       ]
      },
      {
       "output_type": "stream",
       "stream": "stderr",
       "text": [
        " 29% |#################                                         | ETA:  0:00:04\r",
        " 30% |#################                                         | ETA:  0:00:04\r"
       ]
      },
      {
       "output_type": "stream",
       "stream": "stderr",
       "text": [
        " 31% |##################                                        | ETA:  0:00:04\r",
        " 32% |##################                                        | ETA:  0:00:04\r"
       ]
      },
      {
       "output_type": "stream",
       "stream": "stderr",
       "text": [
        " 33% |###################                                       | ETA:  0:00:04\r",
        " 34% |####################                                      | ETA:  0:00:04\r"
       ]
      },
      {
       "output_type": "stream",
       "stream": "stderr",
       "text": [
        " 35% |####################                                      | ETA:  0:00:04\r",
        " 36% |#####################                                     | ETA:  0:00:04\r"
       ]
      },
      {
       "output_type": "stream",
       "stream": "stderr",
       "text": [
        " 37% |#####################                                     | ETA:  0:00:04\r",
        " 38% |######################                                    | ETA:  0:00:04\r"
       ]
      },
      {
       "output_type": "stream",
       "stream": "stderr",
       "text": [
        " 39% |######################                                    | ETA:  0:00:04\r",
        " 40% |#######################                                   | ETA:  0:00:04\r"
       ]
      },
      {
       "output_type": "stream",
       "stream": "stderr",
       "text": [
        " 41% |########################                                  | ETA:  0:00:03\r",
        " 42% |########################                                  | ETA:  0:00:03\r"
       ]
      },
      {
       "output_type": "stream",
       "stream": "stderr",
       "text": [
        " 43% |#########################                                 | ETA:  0:00:03\r",
        " 44% |#########################                                 | ETA:  0:00:03\r"
       ]
      },
      {
       "output_type": "stream",
       "stream": "stderr",
       "text": [
        " 45% |##########################                                | ETA:  0:00:03\r",
        " 46% |###########################                               | ETA:  0:00:03\r"
       ]
      },
      {
       "output_type": "stream",
       "stream": "stderr",
       "text": [
        " 47% |###########################                               | ETA:  0:00:03\r",
        " 48% |############################                              | ETA:  0:00:03\r"
       ]
      },
      {
       "output_type": "stream",
       "stream": "stderr",
       "text": [
        " 49% |############################                              | ETA:  0:00:03\r",
        " 50% |#############################                             | ETA:  0:00:03\r"
       ]
      },
      {
       "output_type": "stream",
       "stream": "stderr",
       "text": [
        " 51% |##############################                            | ETA:  0:00:03\r",
        " 52% |##############################                            | ETA:  0:00:03\r"
       ]
      },
      {
       "output_type": "stream",
       "stream": "stderr",
       "text": [
        " 53% |###############################                           | ETA:  0:00:03\r",
        " 54% |###############################                           | ETA:  0:00:03\r"
       ]
      },
      {
       "output_type": "stream",
       "stream": "stderr",
       "text": [
        " 55% |################################                          | ETA:  0:00:02\r",
        " 56% |################################                          | ETA:  0:00:02\r"
       ]
      },
      {
       "output_type": "stream",
       "stream": "stderr",
       "text": [
        " 57% |#################################                         | ETA:  0:00:02\r",
        " 58% |##################################                        | ETA:  0:00:02\r"
       ]
      },
      {
       "output_type": "stream",
       "stream": "stderr",
       "text": [
        " 59% |##################################                        | ETA:  0:00:02\r",
        " 60% |###################################                       | ETA:  0:00:02\r"
       ]
      },
      {
       "output_type": "stream",
       "stream": "stderr",
       "text": [
        " 61% |###################################                       | ETA:  0:00:02\r",
        " 62% |####################################                      | ETA:  0:00:02\r"
       ]
      },
      {
       "output_type": "stream",
       "stream": "stderr",
       "text": [
        " 63% |#####################################                     | ETA:  0:00:02\r",
        " 64% |#####################################                     | ETA:  0:00:02\r"
       ]
      },
      {
       "output_type": "stream",
       "stream": "stderr",
       "text": [
        " 65% |######################################                    | ETA:  0:00:02\r",
        " 66% |######################################                    | ETA:  0:00:02\r"
       ]
      },
      {
       "output_type": "stream",
       "stream": "stderr",
       "text": [
        " 68% |#######################################                   | ETA:  0:00:02\r",
        " 69% |########################################                  | ETA:  0:00:02\r"
       ]
      },
      {
       "output_type": "stream",
       "stream": "stderr",
       "text": [
        " 70% |########################################                  | ETA:  0:00:02\r",
        " 71% |#########################################                 | ETA:  0:00:01\r"
       ]
      },
      {
       "output_type": "stream",
       "stream": "stderr",
       "text": [
        " 72% |#########################################                 | ETA:  0:00:01\r",
        " 73% |##########################################                | ETA:  0:00:01\r"
       ]
      },
      {
       "output_type": "stream",
       "stream": "stderr",
       "text": [
        " 74% |##########################################                | ETA:  0:00:01\r",
        " 75% |###########################################               | ETA:  0:00:01\r"
       ]
      },
      {
       "output_type": "stream",
       "stream": "stderr",
       "text": [
        " 76% |############################################              | ETA:  0:00:01\r",
        " 77% |############################################              | ETA:  0:00:01\r"
       ]
      },
      {
       "output_type": "stream",
       "stream": "stderr",
       "text": [
        " 78% |#############################################             | ETA:  0:00:01\r",
        " 79% |#############################################             | ETA:  0:00:01\r"
       ]
      },
      {
       "output_type": "stream",
       "stream": "stderr",
       "text": [
        " 80% |##############################################            | ETA:  0:00:01\r",
        " 81% |###############################################           | ETA:  0:00:01\r"
       ]
      },
      {
       "output_type": "stream",
       "stream": "stderr",
       "text": [
        " 82% |###############################################           | ETA:  0:00:01\r",
        " 83% |################################################          | ETA:  0:00:01\r"
       ]
      },
      {
       "output_type": "stream",
       "stream": "stderr",
       "text": [
        " 84% |################################################          | ETA:  0:00:01\r",
        " 85% |#################################################         | ETA:  0:00:00\r"
       ]
      },
      {
       "output_type": "stream",
       "stream": "stderr",
       "text": [
        " 86% |##################################################        | ETA:  0:00:00\r",
        " 87% |##################################################        | ETA:  0:00:00\r"
       ]
      },
      {
       "output_type": "stream",
       "stream": "stderr",
       "text": [
        " 88% |###################################################       | ETA:  0:00:00\r",
        " 89% |###################################################       | ETA:  0:00:00\r"
       ]
      },
      {
       "output_type": "stream",
       "stream": "stderr",
       "text": [
        " 90% |####################################################      | ETA:  0:00:00\r",
        " 91% |####################################################      | ETA:  0:00:00\r"
       ]
      },
      {
       "output_type": "stream",
       "stream": "stderr",
       "text": [
        " 92% |#####################################################     | ETA:  0:00:00\r",
        " 93% |######################################################    | ETA:  0:00:00\r"
       ]
      },
      {
       "output_type": "stream",
       "stream": "stderr",
       "text": [
        " 94% |######################################################    | ETA:  0:00:00\r",
        " 95% |#######################################################   | ETA:  0:00:00\r"
       ]
      },
      {
       "output_type": "stream",
       "stream": "stderr",
       "text": [
        " 96% |#######################################################   | ETA:  0:00:00\r",
        " 97% |########################################################  | ETA:  0:00:00\r"
       ]
      },
      {
       "output_type": "stream",
       "stream": "stderr",
       "text": [
        " 98% |######################################################### | ETA:  0:00:00\r",
        " 99% |######################################################### | ETA:  0:00:00\r"
       ]
      },
      {
       "output_type": "stream",
       "stream": "stdout",
       "text": [
        "\n",
        "    density    : 2.89188681155e-06\n",
        "    shape      : (6264, 6264)\n",
        "    nnz        : 345795\n",
        "D Matrix info:\n",
        "    density    : 3.44531764106e-06\n",
        "    shape      : (6264, 6264)\n",
        "    nnz        : 290249\n",
        "MCEqRun::_init_default_matrices():Done filling matrices.\n",
        "MCEqRun::_calculate_integration_path():\n",
        "MCEqRun::_forward_euler(): Solver will perform 4729 integration steps.\n",
        "\n",
        "MCEqRun::_forward_euler(): time elapsed during integration: 6.71603703499 sec"
       ]
      },
      {
       "output_type": "stream",
       "stream": "stdout",
       "text": [
        "\n",
        "InteractionYields::set_xf_band(): limiting Feynman x range to:  0.45 -  0.59\n",
        "MCEqRun::_init_default_matrices():Start filling matrices.\n",
        "MCEqRun::_convert_to_sparse():Converting to sparse (CSR) matrix format."
       ]
      },
      {
       "output_type": "stream",
       "stream": "stdout",
       "text": [
        "\n",
        "C Matrix info:"
       ]
      },
      {
       "output_type": "stream",
       "stream": "stderr",
       "text": [
        "100% |##########################################################| Time: 0:00:06\r\n",
        "  0% |                                                         | ETA:  --:--:--\r"
       ]
      },
      {
       "output_type": "stream",
       "stream": "stderr",
       "text": [
        "  1% |                                                          | ETA:  0:00:09\r",
        "  2% |#                                                         | ETA:  0:00:08\r"
       ]
      },
      {
       "output_type": "stream",
       "stream": "stderr",
       "text": [
        "  3% |#                                                         | ETA:  0:00:08\r",
        "  4% |##                                                        | ETA:  0:00:07\r"
       ]
      },
      {
       "output_type": "stream",
       "stream": "stderr",
       "text": [
        "  5% |##                                                        | ETA:  0:00:07\r",
        "  6% |###                                                       | ETA:  0:00:07\r"
       ]
      },
      {
       "output_type": "stream",
       "stream": "stderr",
       "text": [
        "  7% |####                                                      | ETA:  0:00:07\r",
        "  8% |####                                                      | ETA:  0:00:07\r"
       ]
      },
      {
       "output_type": "stream",
       "stream": "stderr",
       "text": [
        "  9% |#####                                                     | ETA:  0:00:07\r",
        " 10% |#####                                                     | ETA:  0:00:06\r"
       ]
      },
      {
       "output_type": "stream",
       "stream": "stderr",
       "text": [
        " 11% |######                                                    | ETA:  0:00:06\r",
        " 12% |#######                                                   | ETA:  0:00:06\r"
       ]
      },
      {
       "output_type": "stream",
       "stream": "stderr",
       "text": [
        " 13% |#######                                                   | ETA:  0:00:06\r",
        " 14% |########                                                  | ETA:  0:00:06\r"
       ]
      },
      {
       "output_type": "stream",
       "stream": "stderr",
       "text": [
        " 15% |########                                                  | ETA:  0:00:06\r",
        " 16% |#########                                                 | ETA:  0:00:06\r"
       ]
      },
      {
       "output_type": "stream",
       "stream": "stderr",
       "text": [
        " 17% |##########                                                | ETA:  0:00:06\r",
        " 18% |##########                                                | ETA:  0:00:06\r"
       ]
      },
      {
       "output_type": "stream",
       "stream": "stderr",
       "text": [
        " 19% |###########                                               | ETA:  0:00:06\r",
        " 20% |###########                                               | ETA:  0:00:05\r"
       ]
      },
      {
       "output_type": "stream",
       "stream": "stderr",
       "text": [
        " 21% |############                                              | ETA:  0:00:06\r",
        " 22% |############                                              | ETA:  0:00:06\r"
       ]
      },
      {
       "output_type": "stream",
       "stream": "stderr",
       "text": [
        " 23% |#############                                             | ETA:  0:00:06\r",
        " 24% |##############                                            | ETA:  0:00:06\r"
       ]
      },
      {
       "output_type": "stream",
       "stream": "stderr",
       "text": [
        " 25% |##############                                            | ETA:  0:00:06\r",
        " 26% |###############                                           | ETA:  0:00:06\r"
       ]
      },
      {
       "output_type": "stream",
       "stream": "stderr",
       "text": [
        " 27% |###############                                           | ETA:  0:00:06\r",
        " 28% |################                                          | ETA:  0:00:06\r"
       ]
      },
      {
       "output_type": "stream",
       "stream": "stderr",
       "text": [
        " 29% |#################                                         | ETA:  0:00:06\r",
        " 30% |#################                                         | ETA:  0:00:06\r"
       ]
      },
      {
       "output_type": "stream",
       "stream": "stderr",
       "text": [
        " 31% |##################                                        | ETA:  0:00:06\r",
        " 32% |##################                                        | ETA:  0:00:06\r"
       ]
      },
      {
       "output_type": "stream",
       "stream": "stderr",
       "text": [
        " 33% |###################                                       | ETA:  0:00:06\r",
        " 34% |####################                                      | ETA:  0:00:06\r"
       ]
      },
      {
       "output_type": "stream",
       "stream": "stderr",
       "text": [
        " 35% |####################                                      | ETA:  0:00:05\r",
        " 36% |#####################                                     | ETA:  0:00:05\r"
       ]
      },
      {
       "output_type": "stream",
       "stream": "stderr",
       "text": [
        " 37% |#####################                                     | ETA:  0:00:05\r",
        " 38% |######################                                    | ETA:  0:00:05\r"
       ]
      },
      {
       "output_type": "stream",
       "stream": "stderr",
       "text": [
        " 39% |######################                                    | ETA:  0:00:05\r",
        " 40% |#######################                                   | ETA:  0:00:05\r"
       ]
      },
      {
       "output_type": "stream",
       "stream": "stderr",
       "text": [
        " 41% |########################                                  | ETA:  0:00:05\r",
        " 42% |########################                                  | ETA:  0:00:05\r"
       ]
      },
      {
       "output_type": "stream",
       "stream": "stderr",
       "text": [
        " 43% |#########################                                 | ETA:  0:00:05\r",
        " 44% |#########################                                 | ETA:  0:00:05\r"
       ]
      },
      {
       "output_type": "stream",
       "stream": "stderr",
       "text": [
        " 45% |##########################                                | ETA:  0:00:05\r",
        " 46% |###########################                               | ETA:  0:00:05\r"
       ]
      },
      {
       "output_type": "stream",
       "stream": "stderr",
       "text": [
        " 47% |###########################                               | ETA:  0:00:05\r",
        " 48% |############################                              | ETA:  0:00:05\r"
       ]
      },
      {
       "output_type": "stream",
       "stream": "stderr",
       "text": [
        " 49% |############################                              | ETA:  0:00:05\r",
        " 50% |#############################                             | ETA:  0:00:05\r"
       ]
      },
      {
       "output_type": "stream",
       "stream": "stderr",
       "text": [
        " 51% |##############################                            | ETA:  0:00:05\r",
        " 52% |##############################                            | ETA:  0:00:05\r"
       ]
      },
      {
       "output_type": "stream",
       "stream": "stderr",
       "text": [
        " 53% |###############################                           | ETA:  0:00:05\r",
        " 54% |###############################                           | ETA:  0:00:04\r"
       ]
      },
      {
       "output_type": "stream",
       "stream": "stderr",
       "text": [
        " 55% |################################                          | ETA:  0:00:04\r",
        " 56% |################################                          | ETA:  0:00:04\r"
       ]
      },
      {
       "output_type": "stream",
       "stream": "stderr",
       "text": [
        " 57% |#################################                         | ETA:  0:00:04\r",
        " 58% |##################################                        | ETA:  0:00:04\r"
       ]
      },
      {
       "output_type": "stream",
       "stream": "stderr",
       "text": [
        " 59% |##################################                        | ETA:  0:00:05\r",
        " 60% |###################################                       | ETA:  0:00:05\r"
       ]
      },
      {
       "output_type": "stream",
       "stream": "stderr",
       "text": [
        " 61% |###################################                       | ETA:  0:00:04\r",
        " 62% |####################################                      | ETA:  0:00:04\r"
       ]
      },
      {
       "output_type": "stream",
       "stream": "stderr",
       "text": [
        " 63% |####################################                      | ETA:  0:00:04\r",
        " 64% |#####################################                     | ETA:  0:00:04\r"
       ]
      },
      {
       "output_type": "stream",
       "stream": "stderr",
       "text": [
        " 65% |######################################                    | ETA:  0:00:04\r",
        " 66% |######################################                    | ETA:  0:00:04\r"
       ]
      },
      {
       "output_type": "stream",
       "stream": "stderr",
       "text": [
        " 67% |#######################################                   | ETA:  0:00:04\r",
        " 68% |#######################################                   | ETA:  0:00:04\r"
       ]
      },
      {
       "output_type": "stream",
       "stream": "stderr",
       "text": [
        " 69% |########################################                  | ETA:  0:00:03\r",
        " 70% |#########################################                 | ETA:  0:00:03\r"
       ]
      },
      {
       "output_type": "stream",
       "stream": "stderr",
       "text": [
        " 71% |#########################################                 | ETA:  0:00:03\r",
        " 72% |##########################################                | ETA:  0:00:03\r"
       ]
      },
      {
       "output_type": "stream",
       "stream": "stderr",
       "text": [
        " 73% |##########################################                | ETA:  0:00:03\r",
        " 74% |###########################################               | ETA:  0:00:03\r"
       ]
      },
      {
       "output_type": "stream",
       "stream": "stderr",
       "text": [
        " 75% |############################################              | ETA:  0:00:03\r",
        " 76% |############################################              | ETA:  0:00:03\r"
       ]
      },
      {
       "output_type": "stream",
       "stream": "stderr",
       "text": [
        " 77% |#############################################             | ETA:  0:00:03\r",
        " 78% |#############################################             | ETA:  0:00:02\r"
       ]
      },
      {
       "output_type": "stream",
       "stream": "stderr",
       "text": [
        " 79% |##############################################            | ETA:  0:00:02\r",
        " 80% |##############################################            | ETA:  0:00:02\r"
       ]
      },
      {
       "output_type": "stream",
       "stream": "stderr",
       "text": [
        " 82% |###############################################           | ETA:  0:00:02\r",
        " 83% |################################################          | ETA:  0:00:02\r"
       ]
      },
      {
       "output_type": "stream",
       "stream": "stderr",
       "text": [
        " 84% |################################################          | ETA:  0:00:02\r",
        " 85% |#################################################         | ETA:  0:00:02\r"
       ]
      },
      {
       "output_type": "stream",
       "stream": "stderr",
       "text": [
        " 86% |#################################################         | ETA:  0:00:01\r",
        " 87% |##################################################        | ETA:  0:00:01\r"
       ]
      },
      {
       "output_type": "stream",
       "stream": "stderr",
       "text": [
        " 88% |###################################################       | ETA:  0:00:01\r",
        " 89% |###################################################       | ETA:  0:00:01\r"
       ]
      },
      {
       "output_type": "stream",
       "stream": "stderr",
       "text": [
        " 90% |####################################################      | ETA:  0:00:01\r",
        " 91% |####################################################      | ETA:  0:00:01\r"
       ]
      },
      {
       "output_type": "stream",
       "stream": "stderr",
       "text": [
        " 92% |#####################################################     | ETA:  0:00:01\r",
        " 93% |######################################################    | ETA:  0:00:00\r"
       ]
      },
      {
       "output_type": "stream",
       "stream": "stderr",
       "text": [
        " 94% |######################################################    | ETA:  0:00:00\r",
        " 95% |#######################################################   | ETA:  0:00:00\r"
       ]
      },
      {
       "output_type": "stream",
       "stream": "stderr",
       "text": [
        " 96% |#######################################################   | ETA:  0:00:00\r",
        " 97% |########################################################  | ETA:  0:00:00\r"
       ]
      },
      {
       "output_type": "stream",
       "stream": "stderr",
       "text": [
        " 98% |########################################################  | ETA:  0:00:00\r",
        " 99% |######################################################### | ETA:  0:00:00\r"
       ]
      },
      {
       "output_type": "stream",
       "stream": "stdout",
       "text": [
        "\n",
        "    density    : 2.68907563025e-06\n",
        "    shape      : (6264, 6264)\n",
        "    nnz        : 371875\n",
        "D Matrix info:\n",
        "    density    : 3.44531764106e-06\n",
        "    shape      : (6264, 6264)\n",
        "    nnz        : 290249\n",
        "MCEqRun::_init_default_matrices():Done filling matrices.\n",
        "MCEqRun::_calculate_integration_path():\n",
        "MCEqRun::_forward_euler(): Solver will perform 4729 integration steps.\n",
        "\n",
        "MCEqRun::_forward_euler(): time elapsed during integration: 12.7109510899 sec"
       ]
      },
      {
       "output_type": "stream",
       "stream": "stdout",
       "text": [
        "\n",
        "InteractionYields::set_xf_band(): limiting Feynman x range to:  0.35 -  0.45\n",
        "MCEqRun::_init_default_matrices():Start filling matrices.\n",
        "MCEqRun::_convert_to_sparse():Converting to sparse (CSR) matrix format."
       ]
      },
      {
       "output_type": "stream",
       "stream": "stdout",
       "text": [
        "\n",
        "C Matrix info:"
       ]
      },
      {
       "output_type": "stream",
       "stream": "stderr",
       "text": [
        "100% |##########################################################| Time: 0:00:12\r\n",
        "  0% |                                                         | ETA:  --:--:--\r"
       ]
      },
      {
       "output_type": "stream",
       "stream": "stderr",
       "text": [
        "  1% |                                                          | ETA:  0:00:09\r",
        "  2% |#                                                         | ETA:  0:00:08\r"
       ]
      },
      {
       "output_type": "stream",
       "stream": "stderr",
       "text": [
        "  3% |#                                                         | ETA:  0:00:08\r",
        "  4% |##                                                        | ETA:  0:00:07\r"
       ]
      },
      {
       "output_type": "stream",
       "stream": "stderr",
       "text": [
        "  5% |##                                                        | ETA:  0:00:07\r",
        "  6% |###                                                       | ETA:  0:00:07\r"
       ]
      },
      {
       "output_type": "stream",
       "stream": "stderr",
       "text": [
        "  7% |####                                                      | ETA:  0:00:07\r",
        "  8% |####                                                      | ETA:  0:00:07\r"
       ]
      },
      {
       "output_type": "stream",
       "stream": "stderr",
       "text": [
        "  9% |#####                                                     | ETA:  0:00:07\r",
        " 10% |#####                                                     | ETA:  0:00:07\r"
       ]
      },
      {
       "output_type": "stream",
       "stream": "stderr",
       "text": [
        " 11% |######                                                    | ETA:  0:00:06\r",
        " 12% |#######                                                   | ETA:  0:00:06\r"
       ]
      },
      {
       "output_type": "stream",
       "stream": "stderr",
       "text": [
        " 13% |#######                                                   | ETA:  0:00:06\r",
        " 14% |########                                                  | ETA:  0:00:06\r"
       ]
      },
      {
       "output_type": "stream",
       "stream": "stderr",
       "text": [
        " 15% |########                                                  | ETA:  0:00:06\r",
        " 16% |#########                                                 | ETA:  0:00:06\r"
       ]
      },
      {
       "output_type": "stream",
       "stream": "stderr",
       "text": [
        " 17% |##########                                                | ETA:  0:00:06\r",
        " 18% |##########                                                | ETA:  0:00:06\r"
       ]
      },
      {
       "output_type": "stream",
       "stream": "stderr",
       "text": [
        " 19% |###########                                               | ETA:  0:00:06\r",
        " 20% |###########                                               | ETA:  0:00:06\r"
       ]
      },
      {
       "output_type": "stream",
       "stream": "stderr",
       "text": [
        " 21% |############                                              | ETA:  0:00:06\r",
        " 22% |############                                              | ETA:  0:00:05\r"
       ]
      },
      {
       "output_type": "stream",
       "stream": "stderr",
       "text": [
        " 23% |#############                                             | ETA:  0:00:05\r",
        " 24% |##############                                            | ETA:  0:00:05\r"
       ]
      },
      {
       "output_type": "stream",
       "stream": "stderr",
       "text": [
        " 25% |##############                                            | ETA:  0:00:05\r",
        " 26% |###############                                           | ETA:  0:00:05\r"
       ]
      },
      {
       "output_type": "stream",
       "stream": "stderr",
       "text": [
        " 27% |###############                                           | ETA:  0:00:05\r",
        " 28% |################                                          | ETA:  0:00:05\r"
       ]
      },
      {
       "output_type": "stream",
       "stream": "stderr",
       "text": [
        " 29% |#################                                         | ETA:  0:00:05\r",
        " 30% |#################                                         | ETA:  0:00:05\r"
       ]
      },
      {
       "output_type": "stream",
       "stream": "stderr",
       "text": [
        " 31% |##################                                        | ETA:  0:00:05\r",
        " 32% |##################                                        | ETA:  0:00:05\r"
       ]
      },
      {
       "output_type": "stream",
       "stream": "stderr",
       "text": [
        " 33% |###################                                       | ETA:  0:00:05\r",
        " 34% |####################                                      | ETA:  0:00:04\r"
       ]
      },
      {
       "output_type": "stream",
       "stream": "stderr",
       "text": [
        " 35% |####################                                      | ETA:  0:00:04\r",
        " 36% |#####################                                     | ETA:  0:00:04\r"
       ]
      },
      {
       "output_type": "stream",
       "stream": "stderr",
       "text": [
        " 37% |#####################                                     | ETA:  0:00:04\r",
        " 38% |######################                                    | ETA:  0:00:04\r"
       ]
      },
      {
       "output_type": "stream",
       "stream": "stderr",
       "text": [
        " 39% |######################                                    | ETA:  0:00:04\r",
        " 40% |#######################                                   | ETA:  0:00:04\r"
       ]
      },
      {
       "output_type": "stream",
       "stream": "stderr",
       "text": [
        " 41% |########################                                  | ETA:  0:00:04\r",
        " 42% |########################                                  | ETA:  0:00:04\r"
       ]
      },
      {
       "output_type": "stream",
       "stream": "stderr",
       "text": [
        " 43% |#########################                                 | ETA:  0:00:04\r",
        " 44% |#########################                                 | ETA:  0:00:04\r"
       ]
      },
      {
       "output_type": "stream",
       "stream": "stderr",
       "text": [
        " 45% |##########################                                | ETA:  0:00:04\r",
        " 46% |###########################                               | ETA:  0:00:04\r"
       ]
      },
      {
       "output_type": "stream",
       "stream": "stderr",
       "text": [
        " 47% |###########################                               | ETA:  0:00:03\r",
        " 48% |############################                              | ETA:  0:00:03\r"
       ]
      },
      {
       "output_type": "stream",
       "stream": "stderr",
       "text": [
        " 49% |############################                              | ETA:  0:00:03\r",
        " 50% |#############################                             | ETA:  0:00:03\r"
       ]
      },
      {
       "output_type": "stream",
       "stream": "stderr",
       "text": [
        " 51% |##############################                            | ETA:  0:00:03\r",
        " 52% |##############################                            | ETA:  0:00:03\r"
       ]
      },
      {
       "output_type": "stream",
       "stream": "stderr",
       "text": [
        " 53% |###############################                           | ETA:  0:00:03\r",
        " 54% |###############################                           | ETA:  0:00:03\r"
       ]
      },
      {
       "output_type": "stream",
       "stream": "stderr",
       "text": [
        " 55% |################################                          | ETA:  0:00:03\r",
        " 56% |################################                          | ETA:  0:00:03\r"
       ]
      },
      {
       "output_type": "stream",
       "stream": "stderr",
       "text": [
        " 57% |#################################                         | ETA:  0:00:03\r",
        " 58% |##################################                        | ETA:  0:00:03\r"
       ]
      },
      {
       "output_type": "stream",
       "stream": "stderr",
       "text": [
        " 59% |##################################                        | ETA:  0:00:03\r",
        " 60% |###################################                       | ETA:  0:00:02\r"
       ]
      },
      {
       "output_type": "stream",
       "stream": "stderr",
       "text": [
        " 61% |###################################                       | ETA:  0:00:02\r",
        " 62% |####################################                      | ETA:  0:00:02\r"
       ]
      },
      {
       "output_type": "stream",
       "stream": "stderr",
       "text": [
        " 63% |#####################################                     | ETA:  0:00:02\r",
        " 64% |#####################################                     | ETA:  0:00:02\r"
       ]
      },
      {
       "output_type": "stream",
       "stream": "stderr",
       "text": [
        " 65% |######################################                    | ETA:  0:00:02\r",
        " 66% |######################################                    | ETA:  0:00:02\r"
       ]
      },
      {
       "output_type": "stream",
       "stream": "stderr",
       "text": [
        " 68% |#######################################                   | ETA:  0:00:02\r",
        " 69% |########################################                  | ETA:  0:00:02\r"
       ]
      },
      {
       "output_type": "stream",
       "stream": "stderr",
       "text": [
        " 70% |########################################                  | ETA:  0:00:02\r",
        " 71% |#########################################                 | ETA:  0:00:02\r"
       ]
      },
      {
       "output_type": "stream",
       "stream": "stderr",
       "text": [
        " 72% |#########################################                 | ETA:  0:00:02\r",
        " 73% |##########################################                | ETA:  0:00:02\r"
       ]
      },
      {
       "output_type": "stream",
       "stream": "stderr",
       "text": [
        " 74% |##########################################                | ETA:  0:00:01\r",
        " 75% |###########################################               | ETA:  0:00:01\r"
       ]
      },
      {
       "output_type": "stream",
       "stream": "stderr",
       "text": [
        " 76% |############################################              | ETA:  0:00:01\r",
        " 77% |############################################              | ETA:  0:00:01\r"
       ]
      },
      {
       "output_type": "stream",
       "stream": "stderr",
       "text": [
        " 78% |#############################################             | ETA:  0:00:01\r",
        " 79% |#############################################             | ETA:  0:00:01\r"
       ]
      },
      {
       "output_type": "stream",
       "stream": "stderr",
       "text": [
        " 80% |##############################################            | ETA:  0:00:01\r",
        " 81% |###############################################           | ETA:  0:00:01\r"
       ]
      },
      {
       "output_type": "stream",
       "stream": "stderr",
       "text": [
        " 82% |###############################################           | ETA:  0:00:01\r",
        " 83% |################################################          | ETA:  0:00:01\r"
       ]
      },
      {
       "output_type": "stream",
       "stream": "stderr",
       "text": [
        " 84% |################################################          | ETA:  0:00:01\r",
        " 85% |#################################################         | ETA:  0:00:01\r"
       ]
      },
      {
       "output_type": "stream",
       "stream": "stderr",
       "text": [
        " 86% |##################################################        | ETA:  0:00:01\r",
        " 87% |##################################################        | ETA:  0:00:00\r"
       ]
      },
      {
       "output_type": "stream",
       "stream": "stderr",
       "text": [
        " 88% |###################################################       | ETA:  0:00:00\r",
        " 89% |###################################################       | ETA:  0:00:00\r"
       ]
      },
      {
       "output_type": "stream",
       "stream": "stderr",
       "text": [
        " 90% |####################################################      | ETA:  0:00:00\r",
        " 91% |####################################################      | ETA:  0:00:00\r"
       ]
      },
      {
       "output_type": "stream",
       "stream": "stderr",
       "text": [
        " 92% |#####################################################     | ETA:  0:00:00\r",
        " 93% |######################################################    | ETA:  0:00:00\r"
       ]
      },
      {
       "output_type": "stream",
       "stream": "stderr",
       "text": [
        " 94% |######################################################    | ETA:  0:00:00\r",
        " 95% |#######################################################   | ETA:  0:00:00\r"
       ]
      },
      {
       "output_type": "stream",
       "stream": "stderr",
       "text": [
        " 96% |#######################################################   | ETA:  0:00:00\r",
        " 97% |########################################################  | ETA:  0:00:00\r"
       ]
      },
      {
       "output_type": "stream",
       "stream": "stderr",
       "text": [
        " 98% |######################################################### | ETA:  0:00:00\r",
        " 99% |######################################################### | ETA:  0:00:00\r"
       ]
      },
      {
       "output_type": "stream",
       "stream": "stdout",
       "text": [
        "\n",
        "    density    : 2.55371744649e-06\n",
        "    shape      : (6264, 6264)\n",
        "    nnz        : 391586\n",
        "D Matrix info:\n",
        "    density    : 3.44531764106e-06\n",
        "    shape      : (6264, 6264)\n",
        "    nnz        : 290249\n",
        "MCEqRun::_init_default_matrices():Done filling matrices.\n",
        "MCEqRun::_calculate_integration_path():\n",
        "MCEqRun::_forward_euler(): Solver will perform 4729 integration steps.\n",
        "\n",
        "MCEqRun::_forward_euler(): time elapsed during integration: 7.65000700951 sec"
       ]
      },
      {
       "output_type": "stream",
       "stream": "stdout",
       "text": [
        "\n",
        "InteractionYields::set_xf_band(): limiting Feynman x range to:  0.00 -  0.35\n",
        "MCEqRun::_init_default_matrices():Start filling matrices.\n",
        "MCEqRun::_convert_to_sparse():Converting to sparse (CSR) matrix format."
       ]
      },
      {
       "output_type": "stream",
       "stream": "stdout",
       "text": [
        "\n",
        "C Matrix info:"
       ]
      },
      {
       "output_type": "stream",
       "stream": "stderr",
       "text": [
        "100% |##########################################################| Time: 0:00:07\r\n",
        "  0% |                                                         | ETA:  --:--:--\r"
       ]
      },
      {
       "output_type": "stream",
       "stream": "stderr",
       "text": [
        "  1% |                                                          | ETA:  0:00:19\r",
        "  2% |#                                                         | ETA:  0:00:18\r"
       ]
      },
      {
       "output_type": "stream",
       "stream": "stderr",
       "text": [
        "  3% |#                                                         | ETA:  0:00:17\r",
        "  4% |##                                                        | ETA:  0:00:17\r"
       ]
      },
      {
       "output_type": "stream",
       "stream": "stderr",
       "text": [
        "  5% |##                                                        | ETA:  0:00:17\r",
        "  6% |###                                                       | ETA:  0:00:16\r"
       ]
      },
      {
       "output_type": "stream",
       "stream": "stderr",
       "text": [
        "  7% |####                                                      | ETA:  0:00:16\r",
        "  8% |####                                                      | ETA:  0:00:16\r"
       ]
      },
      {
       "output_type": "stream",
       "stream": "stderr",
       "text": [
        "  9% |#####                                                     | ETA:  0:00:16\r",
        " 10% |#####                                                     | ETA:  0:00:15\r"
       ]
      },
      {
       "output_type": "stream",
       "stream": "stderr",
       "text": [
        " 11% |######                                                    | ETA:  0:00:15\r",
        " 12% |#######                                                   | ETA:  0:00:15\r"
       ]
      },
      {
       "output_type": "stream",
       "stream": "stderr",
       "text": [
        " 13% |#######                                                   | ETA:  0:00:15\r",
        " 14% |########                                                  | ETA:  0:00:15\r"
       ]
      },
      {
       "output_type": "stream",
       "stream": "stderr",
       "text": [
        " 15% |########                                                  | ETA:  0:00:15\r",
        " 16% |#########                                                 | ETA:  0:00:14\r"
       ]
      },
      {
       "output_type": "stream",
       "stream": "stderr",
       "text": [
        " 17% |##########                                                | ETA:  0:00:14\r",
        " 18% |##########                                                | ETA:  0:00:14\r"
       ]
      },
      {
       "output_type": "stream",
       "stream": "stderr",
       "text": [
        " 19% |###########                                               | ETA:  0:00:14\r",
        " 20% |###########                                               | ETA:  0:00:14\r"
       ]
      },
      {
       "output_type": "stream",
       "stream": "stderr",
       "text": [
        " 21% |############                                              | ETA:  0:00:13\r",
        " 22% |############                                              | ETA:  0:00:13\r"
       ]
      },
      {
       "output_type": "stream",
       "stream": "stderr",
       "text": [
        " 23% |#############                                             | ETA:  0:00:13\r",
        " 24% |##############                                            | ETA:  0:00:13\r"
       ]
      },
      {
       "output_type": "stream",
       "stream": "stderr",
       "text": [
        " 25% |##############                                            | ETA:  0:00:13\r",
        " 26% |###############                                           | ETA:  0:00:12\r"
       ]
      },
      {
       "output_type": "stream",
       "stream": "stderr",
       "text": [
        " 27% |###############                                           | ETA:  0:00:12\r",
        " 28% |################                                          | ETA:  0:00:12\r"
       ]
      },
      {
       "output_type": "stream",
       "stream": "stderr",
       "text": [
        " 29% |#################                                         | ETA:  0:00:12\r",
        " 30% |#################                                         | ETA:  0:00:12\r"
       ]
      },
      {
       "output_type": "stream",
       "stream": "stderr",
       "text": [
        " 31% |##################                                        | ETA:  0:00:12\r",
        " 32% |##################                                        | ETA:  0:00:11\r"
       ]
      },
      {
       "output_type": "stream",
       "stream": "stderr",
       "text": [
        " 33% |###################                                       | ETA:  0:00:11\r",
        " 34% |####################                                      | ETA:  0:00:11\r"
       ]
      },
      {
       "output_type": "stream",
       "stream": "stderr",
       "text": [
        " 35% |####################                                      | ETA:  0:00:11\r",
        " 36% |#####################                                     | ETA:  0:00:11\r"
       ]
      },
      {
       "output_type": "stream",
       "stream": "stderr",
       "text": [
        " 37% |#####################                                     | ETA:  0:00:11\r",
        " 38% |######################                                    | ETA:  0:00:10\r"
       ]
      },
      {
       "output_type": "stream",
       "stream": "stderr",
       "text": [
        " 39% |######################                                    | ETA:  0:00:10\r",
        " 40% |#######################                                   | ETA:  0:00:10\r"
       ]
      },
      {
       "output_type": "stream",
       "stream": "stderr",
       "text": [
        " 41% |########################                                  | ETA:  0:00:10\r",
        " 42% |########################                                  | ETA:  0:00:10\r"
       ]
      },
      {
       "output_type": "stream",
       "stream": "stderr",
       "text": [
        " 43% |#########################                                 | ETA:  0:00:09\r",
        " 44% |#########################                                 | ETA:  0:00:09\r"
       ]
      },
      {
       "output_type": "stream",
       "stream": "stderr",
       "text": [
        " 45% |##########################                                | ETA:  0:00:09\r",
        " 46% |###########################                               | ETA:  0:00:09\r"
       ]
      },
      {
       "output_type": "stream",
       "stream": "stderr",
       "text": [
        " 47% |###########################                               | ETA:  0:00:09\r",
        " 48% |############################                              | ETA:  0:00:09\r"
       ]
      },
      {
       "output_type": "stream",
       "stream": "stderr",
       "text": [
        " 49% |############################                              | ETA:  0:00:08\r",
        " 50% |#############################                             | ETA:  0:00:08\r"
       ]
      },
      {
       "output_type": "stream",
       "stream": "stderr",
       "text": [
        " 51% |##############################                            | ETA:  0:00:08\r",
        " 52% |##############################                            | ETA:  0:00:08\r"
       ]
      },
      {
       "output_type": "stream",
       "stream": "stderr",
       "text": [
        " 53% |###############################                           | ETA:  0:00:08\r",
        " 54% |###############################                           | ETA:  0:00:07\r"
       ]
      },
      {
       "output_type": "stream",
       "stream": "stderr",
       "text": [
        " 55% |################################                          | ETA:  0:00:07\r",
        " 56% |################################                          | ETA:  0:00:07\r"
       ]
      },
      {
       "output_type": "stream",
       "stream": "stderr",
       "text": [
        " 57% |#################################                         | ETA:  0:00:07\r",
        " 58% |##################################                        | ETA:  0:00:07\r"
       ]
      },
      {
       "output_type": "stream",
       "stream": "stderr",
       "text": [
        " 59% |##################################                        | ETA:  0:00:07\r",
        " 60% |###################################                       | ETA:  0:00:06\r"
       ]
      },
      {
       "output_type": "stream",
       "stream": "stderr",
       "text": [
        " 61% |###################################                       | ETA:  0:00:06\r",
        " 62% |####################################                      | ETA:  0:00:06\r"
       ]
      },
      {
       "output_type": "stream",
       "stream": "stderr",
       "text": [
        " 63% |#####################################                     | ETA:  0:00:06\r",
        " 64% |#####################################                     | ETA:  0:00:06\r"
       ]
      },
      {
       "output_type": "stream",
       "stream": "stderr",
       "text": [
        " 65% |######################################                    | ETA:  0:00:06\r",
        " 66% |######################################                    | ETA:  0:00:05\r"
       ]
      },
      {
       "output_type": "stream",
       "stream": "stderr",
       "text": [
        " 68% |#######################################                   | ETA:  0:00:05\r",
        " 69% |########################################                  | ETA:  0:00:05\r"
       ]
      },
      {
       "output_type": "stream",
       "stream": "stderr",
       "text": [
        " 70% |########################################                  | ETA:  0:00:05\r",
        " 71% |#########################################                 | ETA:  0:00:05\r"
       ]
      },
      {
       "output_type": "stream",
       "stream": "stderr",
       "text": [
        " 72% |#########################################                 | ETA:  0:00:04\r",
        " 73% |##########################################                | ETA:  0:00:04\r"
       ]
      },
      {
       "output_type": "stream",
       "stream": "stderr",
       "text": [
        " 74% |##########################################                | ETA:  0:00:04\r",
        " 75% |###########################################               | ETA:  0:00:04\r"
       ]
      },
      {
       "output_type": "stream",
       "stream": "stderr",
       "text": [
        " 76% |############################################              | ETA:  0:00:04\r",
        " 77% |############################################              | ETA:  0:00:04\r"
       ]
      },
      {
       "output_type": "stream",
       "stream": "stderr",
       "text": [
        " 78% |#############################################             | ETA:  0:00:03\r",
        " 79% |#############################################             | ETA:  0:00:03\r"
       ]
      },
      {
       "output_type": "stream",
       "stream": "stderr",
       "text": [
        " 80% |##############################################            | ETA:  0:00:03\r",
        " 81% |###############################################           | ETA:  0:00:03\r"
       ]
      },
      {
       "output_type": "stream",
       "stream": "stderr",
       "text": [
        " 82% |###############################################           | ETA:  0:00:03\r",
        " 83% |################################################          | ETA:  0:00:02\r"
       ]
      },
      {
       "output_type": "stream",
       "stream": "stderr",
       "text": [
        " 84% |################################################          | ETA:  0:00:02\r",
        " 85% |#################################################         | ETA:  0:00:02\r"
       ]
      },
      {
       "output_type": "stream",
       "stream": "stderr",
       "text": [
        " 86% |##################################################        | ETA:  0:00:02\r",
        " 87% |##################################################        | ETA:  0:00:02\r"
       ]
      },
      {
       "output_type": "stream",
       "stream": "stderr",
       "text": [
        " 88% |###################################################       | ETA:  0:00:02\r",
        " 89% |###################################################       | ETA:  0:00:01\r"
       ]
      },
      {
       "output_type": "stream",
       "stream": "stderr",
       "text": [
        " 90% |####################################################      | ETA:  0:00:01\r",
        " 91% |####################################################      | ETA:  0:00:01\r"
       ]
      },
      {
       "output_type": "stream",
       "stream": "stderr",
       "text": [
        " 92% |#####################################################     | ETA:  0:00:01\r",
        " 93% |######################################################    | ETA:  0:00:01\r"
       ]
      },
      {
       "output_type": "stream",
       "stream": "stderr",
       "text": [
        " 94% |######################################################    | ETA:  0:00:00\r",
        " 95% |#######################################################   | ETA:  0:00:00\r"
       ]
      },
      {
       "output_type": "stream",
       "stream": "stderr",
       "text": [
        " 96% |#######################################################   | ETA:  0:00:00\r",
        " 97% |########################################################  | ETA:  0:00:00\r"
       ]
      },
      {
       "output_type": "stream",
       "stream": "stderr",
       "text": [
        " 98% |######################################################### | ETA:  0:00:00\r",
        " 99% |######################################################### | ETA:  0:00:00\r"
       ]
      },
      {
       "output_type": "stream",
       "stream": "stdout",
       "text": [
        "\n",
        "    density    : 8.0491059858e-07\n",
        "    shape      : (6264, 6264)\n",
        "    nnz        : 1242374\n",
        "D Matrix info:\n",
        "    density    : 3.44531764106e-06\n",
        "    shape      : (6264, 6264)\n",
        "    nnz        : 290249\n",
        "MCEqRun::_init_default_matrices():Done filling matrices.\n",
        "MCEqRun::_calculate_integration_path():\n",
        "MCEqRun::_forward_euler(): Solver will perform 4729 integration steps.\n",
        "\n",
        "MCEqRun::_forward_euler(): time elapsed during integration: 17.6566960812 sec"
       ]
      },
      {
       "output_type": "stream",
       "stream": "stdout",
       "text": [
        "\n"
       ]
      },
      {
       "output_type": "stream",
       "stream": "stderr",
       "text": [
        "100% |##########################################################| Time: 0:00:17\r\n"
       ]
      }
     ],
     "prompt_number": 12
    },
    {
     "cell_type": "code",
     "collapsed": false,
     "input": [
      "#Power of energy to scale the flux\n",
      "mag = 3\n",
      "\n",
      "#obtain energy grid (nver changes) of the solution for the x-axis of the plots\n",
      "e_grid = mceq_run.e_grid"
     ],
     "language": "python",
     "metadata": {},
     "outputs": [],
     "prompt_number": 13
    },
    {
     "cell_type": "code",
     "collapsed": false,
     "input": [
      "#get path of the home directory + Desktop\n",
      "save_pdf = False\n",
      "desktop = os.path.join(os.path.expanduser(\"~\"),'Desktop')\n",
      "\n",
      "for pref, lab in [('mu_',r'\\mu'), ('numu_',r'\\nu_\\mu'), ('nue_',r'\\nu_e')]:\n",
      "    plt.figure(figsize=(4., 3))\n",
      "    ref = flux_ranges[0][pref + 'total']\n",
      "    for i, t in enumerate(range_tups[1:]):\n",
      "        r_str = '{0:5.2f} - {1:5.2f}'.format(xf_bins[t[0]], xf_bins[t[1]])\n",
      "        flux = flux_ranges[i]\n",
      "\n",
      "        plt.plot(e_grid, flux[pref + 'total']/ref, ls='-', lw=1.5, label =r_str)\n",
      "#         plt.loglog(e_grid, flux[pref + 'conv'], color='b', ls='-.', lw=1.5,\n",
      "#                    label=r'conventional ${0}$'.format(lab))\n",
      "#         plt.loglog(e_grid, flux[pref + 'pr'], color='r',ls='--', lw=1.5, \n",
      "#                    label='prompt ${0}$'.format(lab))\n",
      "#         plt.xlim(50,1e9)\n",
      "        plt.ylim(0,2)\n",
      "        plt.xlabel(r\"$E_{{{0}}}$ [GeV]\".format(lab))\n",
      "#         plt.ylabel(r\"$\\Phi_{\" + lab + \"}$ (E/GeV)$^{\" + str(mag) +\" }$\" + \n",
      "#                    \"(cm$^{2}$ s sr GeV)$^{-1}$\")\n",
      "        plt.legend(loc='upper right')\n",
      "        plt.tight_layout()\n",
      "        if save_pdf: plt.savefig(os.path.join(desktop, pref + 'flux.pdf'))"
     ],
     "language": "python",
     "metadata": {},
     "outputs": [
      {
       "metadata": {},
       "output_type": "display_data",
       "png": "[encoded data removed]",
       "text": [
        "<matplotlib.figure.Figure at 0x11a266690>"
       ]
      },
      {
       "metadata": {},
       "output_type": "display_data",
       "png": "[encoded data removed]",
       "text": [
        "<matplotlib.figure.Figure at 0x1260618d0>"
       ]
      },
      {
       "metadata": {},
       "output_type": "display_data",
       "png": "[encoded data removed]",
       "text": [
        "<matplotlib.figure.Figure at 0x11a1d90d0>"
       ]
      }
     ],
     "prompt_number": 19
    },
    {
     "cell_type": "code",
     "collapsed": false,
     "input": [
      "mat = np.zeros((y.dim,y.dim))\n",
      "y.assign_yield_idx(2212,(0,y.dim),211,(0,y.dim),mat)\n",
      "plt.spy(mat)"
     ],
     "language": "python",
     "metadata": {},
     "outputs": [
      {
       "metadata": {},
       "output_type": "pyout",
       "prompt_number": 45,
       "text": [
        "<matplotlib.image.AxesImage at 0x1414e8350>"
       ]
      },
      {
       "metadata": {},
       "output_type": "display_data",
       "png": "[encoded data removed]",
       "text": [
        "<matplotlib.figure.Figure at 0x1411ad1d0>"
       ]
      }
     ],
     "prompt_number": 45
    },
    {
     "cell_type": "code",
     "collapsed": false,
     "input": [],
     "language": "python",
     "metadata": {},
     "outputs": []
    },
    {
     "cell_type": "code",
     "collapsed": false,
     "input": [],
     "language": "python",
     "metadata": {},
     "outputs": [],
     "prompt_number": 98
    },
    {
     "cell_type": "code",
     "collapsed": false,
     "input": [
      "\n",
      "    "
     ],
     "language": "python",
     "metadata": {},
     "outputs": [
      {
       "output_type": "stream",
       "stream": "stdout",
       "text": [
        "Following xf ranges are configured\n",
        " 0.59 -  1.00\n",
        " 0.35 -  0.59\n",
        " 0.02 -  0.35\n"
       ]
      }
     ],
     "prompt_number": 99
    }
   ],
   "metadata": {}
  }
 ]
}