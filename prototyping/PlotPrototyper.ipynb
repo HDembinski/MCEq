{
 "metadata": {
  "name": "",
  "signature": "sha256:362a0b98d74a8a13ed95134968e9e007be0356971accc5a95fd6018988c168e8"
 },
 "nbformat": 3,
 "nbformat_minor": 0,
 "worksheets": [
  {
   "cells": [
    {
     "cell_type": "markdown",
     "metadata": {},
     "source": [
      "Pion/Kaon fraction and muon charge ratio\n",
      "----------------------------------------"
     ]
    },
    {
     "cell_type": "code",
     "collapsed": false,
     "input": [
      "#import the usual modules\n",
      "%load_ext autoreload\n",
      "%matplotlib inline\n",
      "%autoreload 2\n",
      "import os\n",
      "from os.path import join\n",
      "os.chdir('..')\n",
      "import matplotlib.pyplot as plt\n",
      "import numpy as np\n",
      "\n",
      "from MCEq.core import MCEqRun\n",
      "import CRFluxModels as pm\n",
      "from mceq_config import config, mceq_config_without"
     ],
     "language": "python",
     "metadata": {},
     "outputs": [],
     "prompt_number": 1
    },
    {
     "cell_type": "code",
     "collapsed": false,
     "input": [
      "mceq_run = MCEqRun(\n",
      "\n",
      "interaction_model='SIBYLL2.1',\n",
      "\n",
      "primary_model=(pm.HillasGaisser2012,'H3a'),\n",
      "#Do not provide any default values to avoid unnecessary initilizations\n",
      "theta_deg=0.,\n",
      "# Expand the rest of parameters\n",
      "**config\n",
      "\n",
      ")"
     ],
     "language": "python",
     "metadata": {},
     "outputs": [
      {
       "output_type": "stream",
       "stream": "stdout",
       "text": [
        "\n",
        "Hadrons:\n",
        "\n",
        "\"p-bar\", \"p\", \"n-bar\", \"n\", \"pi+\", \"pi-\", \"K0L\", \"K+\", \n",
        "\"K-\"\n",
        "\n",
        "Mixed:\n",
        "\n",
        "\"Lambda0-bar\", \"Lambda0\", \"Xi0-bar\", \"Xi0\", \"K0S\", \"Xi--bar\", \"Xi-\", \"Sigma--bar\", \n",
        "\"Sigma-\", \"Sigma+-bar\", \"Sigma+\", \"Omega--bar\", \"Omega-\", \"D+\", \"D-\", \"Ds+\", \n",
        "\"Ds-\", \"D0\", \"D0-bar\", \"XiC+-bar\", \"XiC+\", \"tau+\", \"tau-\", \"LambdaC+-bar\", \n",
        "\"LambdaC+\", \"XiC0-bar\", \"XiC0\", \"OmegaC0-bar\", \"OmegaC0\", \"pi0\"\n",
        "\n",
        "Resonances:\n",
        "\n",
        "\"eta\", \"Sigma0-bar\", \"Sigma0\", \"D*+\", \"D*-\", \"eta*\", \"jpsi\", \"phi\", \n",
        "\"SigmaC0-bar\", \"SigmaC0\", \"SigmaC+-bar\", \"SigmaC+\", \"SigmaC++-bar\", \"SigmaC++\", \"omega\", \"Xi*0-bar\", \n",
        "\"Xi*0\", \"Xi*--bar\", \"Xi*-\", \"SigmaC*0-bar\", \"SigmaC*0\", \"SigmaC*++-bar\", \"SigmaC*++\", \"SigmaC*+-bar\", \n",
        "\"SigmaC*+\", \"K*0\", \"K*0-bar\", \"K*+\", \"K*-\", \"Sigma*+-bar\", \"Sigma*+\", \"Sigma*0-bar\", \n",
        "\"Sigma*0\", \"Sigma*--bar\", \"Sigma*-\", \"etaC\", \"rho+\", \"rho-\", \"rho0\", \"Delta--bar\", \n",
        "\"Delta0-bar\", \"Delta+-bar\", \"Delta++-bar\", \"Delta++\", \"Delta+\", \"Delta0\", \"Delta-\", \"D*0\", \n",
        "\"D*0-bar\", \"XiC*0-bar\", \"XiC*+-bar\", \"XiC*+\", \"XiC*0\", \"Ds*+\", \"Ds*-\"\n",
        "\n",
        "Leptons:\n",
        "\n",
        "\"nue\", \"numu\", \"nutau\", \"antinue\", \"antinumu\", \"antinutau\", \"nue\", \"numu\", \n",
        "\"nutau\", \"antinue\", \"antinumu\", \"antinutau\", \"mu-\", \"mu+\", \"mu-\", \"mu+\"\n",
        "\n",
        "Aliases:\n",
        "\"pr_nue\", \"pr_numu\", \"pr_nutau\", \"pi_nue\", \"pi_numu\", \"pi_nutau\", \"k_nue\", \"k_numu\", \n",
        "\"k_nutau\", \"obs_nue\", \"obs_numu\", \"obs_nutau\", \"pr_antinue\", \"pr_antinumu\", \"pr_antinutau\", \"pi_antinue\", \n",
        "\"pi_antinumu\", \"pi_antinutau\", \"k_antinue\", \"k_antinumu\", \"k_antinutau\", \"obs_antinue\", \"obs_antinumu\", \"obs_antinutau\", \n",
        "\"pr_mu-\", \"pi_mu-\", \"k_mu-\", \"obs_mu-\", \"pr_mu+\", \"pi_mu+\", \"k_mu+\", \"obs_mu+\"\n",
        "\n",
        "Total number of species: 87\n",
        "MCEqRun::set_interaction_model():  SIBYLL2.1\n",
        "InteractionYields:set_interaction_model():: Model SIBYLL2.1 already loaded.\n",
        "InteractionYields:set_interaction_model():: Model SIBYLL2.1 already loaded.\n",
        "MCEqRun::_init_default_matrices():Start filling matrices.\n",
        "MCEqRun::_convert_to_sparse():Converting to sparse (CSR) matrix format."
       ]
      },
      {
       "output_type": "stream",
       "stream": "stdout",
       "text": [
        "\n",
        "C Matrix info:"
       ]
      },
      {
       "output_type": "stream",
       "stream": "stdout",
       "text": [
        "\n",
        "    density    : 2.18424070333e-06\n",
        "    shape      : (6264, 6264)\n",
        "    nnz        : 457825\n",
        "D Matrix info:\n",
        "    density    : 3.42760386497e-06\n",
        "    shape      : (6264, 6264)\n",
        "    nnz        : 291749\n",
        "MCEqRun::_init_default_matrices():Done filling matrices.\n",
        "MCEqRun::set_atm_model():  CORSIKA BK_USStd None\n",
        "MCEqRun::set_theta_deg():  0.0\n",
        "atmospheres::_load_cache(): loading cache.\n",
        "MCEqRun::set_primary_model():  HillasGaisser2012 H3a\n"
       ]
      }
     ],
     "prompt_number": 31
    },
    {
     "cell_type": "code",
     "collapsed": false,
     "input": [
      "mag=0\n",
      "mceq_run.set_primary_model(pm.HillasGaisser2012,'H3a')\n",
      "# mceq_run.set_primary_model(pm.GaisserHonda, None)\n",
      "mceq_run.solve()\n",
      "\n",
      "mu_pl_conv = mceq_run.get_solution('conv_mu+', mag)\n",
      "mu_mi_conv = mceq_run.get_solution('conv_mu-', mag)\n",
      "\n",
      "mu_pl_pi = mceq_run.get_solution('pi_mu+', mag)\n",
      "mu_mi_pi = mceq_run.get_solution('pi_mu-', mag)\n",
      "\n",
      "mu_pl_K = mceq_run.get_solution('k_mu+', mag)\n",
      "mu_mi_K = mceq_run.get_solution('k_mu-', mag)\n",
      "\n",
      "mu_pl_pr = mceq_run.get_solution('pr_mu+', mag)\n",
      "mu_mi_pr = mceq_run.get_solution('pr_mu-', mag)\n",
      "\n",
      "#     mu_pl_obs = nce_run.get_lepton_flux('obs_mu+', mag)\n",
      "#     mu_mi_obs = nce_run.get_lepton_flux('obs_mu-', mag)\n",
      "\n",
      "mu_pl_total = mceq_run.get_solution('total_mu+', mag)\n",
      "mu_mi_total = mceq_run.get_solution('total_mu-', mag)\n",
      "    "
     ],
     "language": "python",
     "metadata": {},
     "outputs": [
      {
       "output_type": "stream",
       "stream": "stderr",
       "text": [
        "  0% |                                                         | ETA:  --:--:--\r",
        "  1% |                                                          | ETA:  0:00:01\r",
        "  2% |#                                                         | ETA:  0:00:01\r",
        "  3% |#                                                         | ETA:  0:00:01\r",
        "  4% |##                                                        | ETA:  0:00:01\r"
       ]
      },
      {
       "output_type": "stream",
       "stream": "stderr",
       "text": [
        "  5% |##                                                        | ETA:  0:00:01\r",
        "  6% |###                                                       | ETA:  0:00:01\r",
        "  7% |####                                                      | ETA:  0:00:01\r",
        "  8% |####                                                      | ETA:  0:00:01\r",
        "  9% |#####                                                     | ETA:  0:00:01\r",
        " 10% |#####                                                     | ETA:  0:00:01\r"
       ]
      },
      {
       "output_type": "stream",
       "stream": "stderr",
       "text": [
        " 11% |######                                                    | ETA:  0:00:01\r",
        " 12% |#######                                                   | ETA:  0:00:01\r",
        " 13% |#######                                                   | ETA:  0:00:01\r",
        " 14% |########                                                  | ETA:  0:00:01\r",
        " 15% |########                                                  | ETA:  0:00:01\r",
        " 16% |#########                                                 | ETA:  0:00:01\r"
       ]
      },
      {
       "output_type": "stream",
       "stream": "stderr",
       "text": [
        " 17% |##########                                                | ETA:  0:00:01\r",
        " 18% |##########                                                | ETA:  0:00:01\r",
        " 19% |###########                                               | ETA:  0:00:01\r",
        " 20% |###########                                               | ETA:  0:00:00\r",
        " 21% |############                                              | ETA:  0:00:00\r",
        " 22% |############                                              | ETA:  0:00:00\r"
       ]
      },
      {
       "output_type": "stream",
       "stream": "stderr",
       "text": [
        " 23% |#############                                             | ETA:  0:00:00\r",
        " 24% |##############                                            | ETA:  0:00:00\r",
        " 25% |##############                                            | ETA:  0:00:00\r",
        " 26% |###############                                           | ETA:  0:00:00\r",
        " 27% |###############                                           | ETA:  0:00:00\r",
        " 28% |################                                          | ETA:  0:00:00\r"
       ]
      },
      {
       "output_type": "stream",
       "stream": "stderr",
       "text": [
        " 29% |#################                                         | ETA:  0:00:00\r",
        " 30% |#################                                         | ETA:  0:00:00\r",
        " 31% |##################                                        | ETA:  0:00:00\r",
        " 32% |##################                                        | ETA:  0:00:00\r",
        " 33% |###################                                       | ETA:  0:00:00\r",
        " 34% |####################                                      | ETA:  0:00:00\r"
       ]
      },
      {
       "output_type": "stream",
       "stream": "stderr",
       "text": [
        " 35% |####################                                      | ETA:  0:00:00\r",
        " 36% |#####################                                     | ETA:  0:00:00\r",
        " 37% |#####################                                     | ETA:  0:00:00\r",
        " 38% |######################                                    | ETA:  0:00:00\r",
        " 39% |######################                                    | ETA:  0:00:00\r",
        " 40% |#######################                                   | ETA:  0:00:00\r"
       ]
      },
      {
       "output_type": "stream",
       "stream": "stderr",
       "text": [
        " 41% |########################                                  | ETA:  0:00:00\r",
        " 42% |########################                                  | ETA:  0:00:00\r",
        " 43% |#########################                                 | ETA:  0:00:00\r",
        " 44% |#########################                                 | ETA:  0:00:00\r",
        " 45% |##########################                                | ETA:  0:00:00\r"
       ]
      },
      {
       "output_type": "stream",
       "stream": "stderr",
       "text": [
        " 46% |###########################                               | ETA:  0:00:00\r",
        " 47% |###########################                               | ETA:  0:00:00\r",
        " 48% |############################                              | ETA:  0:00:00\r",
        " 49% |############################                              | ETA:  0:00:00\r",
        " 50% |#############################                             | ETA:  0:00:00\r",
        " 51% |##############################                            | ETA:  0:00:00\r"
       ]
      },
      {
       "output_type": "stream",
       "stream": "stderr",
       "text": [
        " 52% |##############################                            | ETA:  0:00:00\r",
        " 53% |###############################                           | ETA:  0:00:00\r",
        " 54% |###############################                           | ETA:  0:00:00\r",
        " 55% |################################                          | ETA:  0:00:00\r",
        " 56% |################################                          | ETA:  0:00:00\r",
        " 57% |#################################                         | ETA:  0:00:00\r"
       ]
      },
      {
       "output_type": "stream",
       "stream": "stderr",
       "text": [
        " 58% |##################################                        | ETA:  0:00:00\r",
        " 59% |##################################                        | ETA:  0:00:00\r",
        " 60% |###################################                       | ETA:  0:00:00\r",
        " 61% |###################################                       | ETA:  0:00:00\r",
        " 62% |####################################                      | ETA:  0:00:00\r",
        " 63% |#####################################                     | ETA:  0:00:00\r"
       ]
      },
      {
       "output_type": "stream",
       "stream": "stderr",
       "text": [
        " 64% |#####################################                     | ETA:  0:00:00\r",
        " 65% |######################################                    | ETA:  0:00:00\r",
        " 66% |######################################                    | ETA:  0:00:00\r",
        " 68% |#######################################                   | ETA:  0:00:00\r",
        " 69% |########################################                  | ETA:  0:00:00\r",
        " 70% |########################################                  | ETA:  0:00:00\r"
       ]
      },
      {
       "output_type": "stream",
       "stream": "stderr",
       "text": [
        " 71% |#########################################                 | ETA:  0:00:00\r",
        " 72% |#########################################                 | ETA:  0:00:00\r",
        " 73% |##########################################                | ETA:  0:00:00\r",
        " 74% |##########################################                | ETA:  0:00:00\r",
        " 75% |###########################################               | ETA:  0:00:00\r"
       ]
      },
      {
       "output_type": "stream",
       "stream": "stderr",
       "text": [
        " 76% |############################################              | ETA:  0:00:00\r",
        " 77% |############################################              | ETA:  0:00:00\r",
        " 78% |#############################################             | ETA:  0:00:00\r",
        " 79% |#############################################             | ETA:  0:00:00\r",
        " 80% |##############################################            | ETA:  0:00:00\r"
       ]
      },
      {
       "output_type": "stream",
       "stream": "stderr",
       "text": [
        " 81% |###############################################           | ETA:  0:00:00\r",
        " 82% |###############################################           | ETA:  0:00:00\r",
        " 83% |################################################          | ETA:  0:00:00\r",
        " 84% |################################################          | ETA:  0:00:00\r",
        " 85% |#################################################         | ETA:  0:00:00\r"
       ]
      },
      {
       "output_type": "stream",
       "stream": "stderr",
       "text": [
        " 86% |##################################################        | ETA:  0:00:00\r",
        " 87% |##################################################        | ETA:  0:00:00\r",
        " 88% |###################################################       | ETA:  0:00:00\r",
        " 89% |###################################################       | ETA:  0:00:00\r",
        " 90% |####################################################      | ETA:  0:00:00\r"
       ]
      },
      {
       "output_type": "stream",
       "stream": "stderr",
       "text": [
        " 91% |####################################################      | ETA:  0:00:00\r",
        " 92% |#####################################################     | ETA:  0:00:00\r",
        " 93% |######################################################    | ETA:  0:00:00\r",
        " 94% |######################################################    | ETA:  0:00:00\r",
        " 95% |#######################################################   | ETA:  0:00:00\r"
       ]
      },
      {
       "output_type": "stream",
       "stream": "stderr",
       "text": [
        " 96% |#######################################################   | ETA:  0:00:00\r",
        " 97% |########################################################  | ETA:  0:00:00\r",
        " 98% |######################################################### | ETA:  0:00:00\r",
        " 99% |######################################################### | ETA:  0:00:00\r",
        "100% |##########################################################| Time: 0:00:01\r"
       ]
      },
      {
       "output_type": "stream",
       "stream": "stdout",
       "text": [
        "MCEqRun::set_primary_model():  HillasGaisser2012 H3a\n",
        "MCEqRun::_calculate_integration_path():\n",
        "MCEqRun::_forward_euler(): Solver will perform 4729 integration steps.\n",
        "\n",
        "MCEqRun::_forward_euler(): time elapsed during integration: 1.29764103889 sec"
       ]
      },
      {
       "output_type": "stream",
       "stream": "stdout",
       "text": [
        "\n"
       ]
      },
      {
       "output_type": "stream",
       "stream": "stderr",
       "text": [
        "\n"
       ]
      }
     ],
     "prompt_number": 34
    },
    {
     "cell_type": "code",
     "collapsed": false,
     "input": [
      "import sys\n",
      "sys.path.append('references')\n",
      "from references import L3_C, MINOS2007\n",
      "from MCEq.geometry import cos_th_star\n",
      "l3_c = L3_C()\n",
      "minos = MINOS2007()"
     ],
     "language": "python",
     "metadata": {},
     "outputs": [],
     "prompt_number": 14
    },
    {
     "cell_type": "code",
     "collapsed": false,
     "input": [
      "from MCEq.misc import set_ticks_y\n",
      "plt.figure(figsize=(7, 6))\n",
      "\n",
      "#=======================================================================\n",
      "# Plotting\n",
      "#=======================================================================\n",
      "pf = 1.0\n",
      "k_fac = 1.0\n",
      "kpf = k_fac * 1.0\n",
      "kmf = k_fac * 1.0\n",
      "esc = mceq_run.y.e_grid# * cos_th_star(40.)\n",
      "\n",
      "wsum = (kpf * mu_pl_K + kmf * mu_mi_K + \\\n",
      "        pf * mu_pl_pi + pf * mu_mi_pi)\n",
      "kpi = (kpf * mu_pl_K + kmf * mu_mi_K) / \\\n",
      "      (pf * mu_pl_pi + pf * mu_mi_pi)# - \\\n",
      "       #kpf * mu_pl_K - kmf * mu_mi_K)\n",
      "kch = kpf * mu_pl_K / (kmf * mu_mi_K)\n",
      "pich = pf * mu_pl_pi / (pf * mu_mi_pi)\n",
      "frac_pi = (pf * mu_pl_pi + pf * mu_mi_pi) / wsum\n",
      "frac_K = (kpf * mu_pl_K + kmf * mu_mi_K) / wsum\n",
      "much_ratio = (kpf * mu_pl_K + pf * mu_pl_pi) / (pf * mu_mi_pi + kmf * mu_mi_K)\n",
      "\n",
      "plt.suptitle(r\"Muon charge ratio for $\\theta=0^o$., SIBYLL2.1, H3a\")\n",
      "gs = plt.GridSpec(2,1,height_ratios=[3,1])\n",
      "ax = plt.subplot(gs[0])\n",
      "plt.plot(esc, pich, ls='--', color='red', label=r'$\\pi^\\pm$ charge ratio')\n",
      "\n",
      "plt.plot(esc, kch, ls='--', color='blue', label=r'$K^\\pm$ charge ratio')\n",
      "plt.plot(esc, much_ratio, ls='-', color='black', label=r'total')\n",
      "\n",
      "\n",
      "plt.semilogx()\n",
      "l3_c.draw(0,obs='ratio',plottext=False,label='L3+C',Ecosth_star=True)\n",
      "minos.draw()\n",
      "plt.ylabel(r\"Muon charge ratio\")\n",
      "plt.xlim([50,1e6])\n",
      "plt.ylim([1.0, 3.0])\n",
      "set_ticks_y()\n",
      "plt.setp(ax.get_xticklabels(), visible=False)\n",
      "box = ax.get_position()\n",
      "ax.legend(loc='center left', bbox_to_anchor=(1, 0.82),\n",
      "          fancybox=True, shadow=True, frameon=True)\n",
      "plt.grid(axis='both')\n",
      "plt.subplot(gs[1])\n",
      "gs.update(hspace=0.1,right=0.7)\n",
      "plt.plot(esc, (1 - kpi), ls='-', color='red',\n",
      "         label=r'$1- K/\\pi$')\n",
      "plt.plot(esc, kpi, ls='-', color='blue', label=r'$K/\\pi$')\n",
      "plt.semilogx()\n",
      "ax = plt.gca()\n",
      "box = ax.get_position()\n",
      "plt.legend(loc='upper left', bbox_to_anchor=(1, 1.),\n",
      "          fancybox=True, shadow=True, frameon=True)\n",
      "plt.xlim([50,1e6])\n",
      "plt.ylim([0,1])\n",
      "plt.ylabel(r\"K/$\\pi$ ratio\")\n",
      "plt.xlabel(r\"$E_{\\mu}\\cos{\\ \\theta^*}$ [GeV]\")\n",
      "\n",
      "desktop = join(os.path.expanduser(\"~\"),'Desktop/plots_new_sibyll')\n",
      "plt.savefig(join(desktop,'muon_charge_sib21_H3a.pdf'))"
     ],
     "language": "python",
     "metadata": {},
     "outputs": [
      {
       "output_type": "stream",
       "stream": "stdout",
       "text": [
        "MuonCharge_L3_C::draw(): Drawing ratio for cos(theta) range (0.975, 1.0)\n"
       ]
      },
      {
       "metadata": {},
       "output_type": "display_data",
       "png": "[encoded data removed]",
       "text": [
        "<matplotlib.figure.Figure at 0x14ae3e990>"
       ]
      }
     ],
     "prompt_number": 35
    },
    {
     "cell_type": "code",
     "collapsed": false,
     "input": [
      "plt.figure(figsize=(7, 5))\n",
      "plt.title(\"Ratio of kaons to pions derived from muons at the surface.\")\n",
      "plt.plot(e_grid, (mu_pl_K + mu_mi_K) / \n",
      "         (mu_pl_pi + mu_mi_pi - mu_pl_K - mu_mi_K), ls='-', color='black', label=r'k/pi')\n",
      "plt.plot(e_grid, frac_K, ls='-', color='green', label=r'k frac')\n",
      "plt.plot(e_grid, frac_pi, ls='-', color='red', label=r'pi frac')\n",
      "plt.semilogx()\n",
      "box = plt.gca().get_position()\n",
      "ax.set_position([box.x0, box.y0, box.width * 0.8, box.height])\n",
      "plt.legend(loc='upper left', bbox_to_anchor=(1, 0.5),\n",
      "          fancybox=True, shadow=True, frameon=True)\n",
      "plt.xlabel(r\"$E_{\\mu}$ [GeV]\")\n",
      "plt.ylabel(r\"pi/K ratio\")\n",
      "plt.xlim([50, 1e8])\n",
      "plt.ylim([0.0, 1.1])\n",
      "set_ticks_y()"
     ],
     "language": "python",
     "metadata": {},
     "outputs": [
      {
       "metadata": {},
       "output_type": "display_data",
       "png": "[encoded data removed]",
       "text": [
        "<matplotlib.figure.Figure at 0x1268ca850>"
       ]
      }
     ],
     "prompt_number": 12
    },
    {
     "cell_type": "code",
     "collapsed": false,
     "input": [],
     "language": "python",
     "metadata": {},
     "outputs": []
    }
   ],
   "metadata": {}
  }
 ]
}