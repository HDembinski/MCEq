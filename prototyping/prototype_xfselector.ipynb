{
 "metadata": {
  "name": "",
  "signature": "sha256:930b5e26624fdfb57dea41d952e2acb35c6398edbfb0da9555d18a898399c25c"
 },
 "nbformat": 3,
 "nbformat_minor": 0,
 "worksheets": [
  {
   "cells": [
    {
     "cell_type": "markdown",
     "metadata": {},
     "source": [
      "Calculates the contribution of Feynman-x ranges to atm. lepton flux\n",
      "-------------------------------------------------------------------"
     ]
    },
    {
     "cell_type": "code",
     "collapsed": false,
     "input": [
      "#basic imports and ipython setup\n",
      "%load_ext autoreload\n",
      "%matplotlib inline\n",
      "%autoreload 2\n",
      "import os\n",
      "\n",
      "\n",
      "import matplotlib.pyplot as plt\n",
      "import numpy as np\n",
      "os.chdir('..')\n",
      "\n",
      "#import solver related modules\n",
      "from MCEq.core import MCEqRun\n",
      "from mceq_config import config\n",
      "#import primary model choices\n",
      "import CRFluxModels as pm"
     ],
     "language": "python",
     "metadata": {},
     "outputs": [],
     "prompt_number": 1
    },
    {
     "cell_type": "code",
     "collapsed": false,
     "input": [
      "mceq_run = MCEqRun(\n",
      "#provide the string of the interaction model\n",
      "interaction_model='SIBYLL2.1',\n",
      "#primary cosmic ray flux model\n",
      "#support a tuple (primary model class (not instance!), arguments)\n",
      "primary_model=(pm.Thunman, None),\n",
      "# Zenith angle in degrees. 0=vertical, 90=horizontal\n",
      "theta_deg=0.0,\n",
      "#expand the rest of the options from mceq_config.py\n",
      "**config\n",
      ")"
     ],
     "language": "python",
     "metadata": {},
     "outputs": [
      {
       "output_type": "stream",
       "stream": "stdout",
       "text": [
        "\n",
        "Hadrons:\n",
        "\n",
        "\"p-bar\", \"p\", \"n-bar\", \"n\", \"pi+\", \"pi-\", \"K0L\", \"K+\", \n",
        "\"K-\"\n",
        "\n",
        "Mixed:\n",
        "\n",
        "\"Lambda0-bar\", \"Lambda0\", \"Xi0-bar\", \"Xi0\", \"K0S\", \"Xi--bar\", \"Xi-\", \"Sigma--bar\", \n",
        "\"Sigma-\", \"Sigma+-bar\", \"Sigma+\", \"Omega--bar\", \"Omega-\", \"D+\", \"D-\", \"Ds+\", \n",
        "\"Ds-\", \"D0\", \"D0-bar\", \"XiC+-bar\", \"XiC+\", \"tau+\", \"tau-\", \"LambdaC+-bar\", \n",
        "\"LambdaC+\", \"XiC0-bar\", \"XiC0\", \"OmegaC0-bar\", \"OmegaC0\", \"pi0\"\n",
        "\n",
        "Resonances:\n",
        "\n",
        "\"eta\", \"Sigma0-bar\", \"Sigma0\", \"D*+\", \"D*-\", \"eta*\", \"jpsi\", \"phi\", \n",
        "\"SigmaC0-bar\", \"SigmaC0\", \"SigmaC+-bar\", \"SigmaC+\", \"SigmaC++-bar\", \"SigmaC++\", \"omega\", \"Xi*0-bar\", \n",
        "\"Xi*0\", \"Xi*--bar\", \"Xi*-\", \"SigmaC*0-bar\", \"SigmaC*0\", \"SigmaC*++-bar\", \"SigmaC*++\", \"SigmaC*+-bar\", \n",
        "\"SigmaC*+\", \"K*0\", \"K*0-bar\", \"K*+\", \"K*-\", \"Sigma*+-bar\", \"Sigma*+\", \"Sigma*0-bar\", \n",
        "\"Sigma*0\", \"Sigma*--bar\", \"Sigma*-\", \"etaC\", \"rho+\", \"rho-\", \"rho0\", \"Delta--bar\", \n",
        "\"Delta0-bar\", \"Delta+-bar\", \"Delta++-bar\", \"Delta++\", \"Delta+\", \"Delta0\", \"Delta-\", \"D*0\", \n",
        "\"D*0-bar\", \"XiC*0-bar\", \"XiC*+-bar\", \"XiC*+\", \"XiC*0\", \"Ds*+\", \"Ds*-\"\n",
        "\n",
        "Leptons:\n",
        "\n",
        "\"nue\", \"numu\", \"nutau\", \"antinue\", \"antinumu\", \"antinutau\", \"nue\", \"numu\", \n",
        "\"nutau\", \"antinue\", \"antinumu\", \"antinutau\", \"mu-\", \"mu+\", \"mu-\", \"mu+\"\n",
        "\n",
        "Aliases:\n",
        "\"pr_nue\", \"pr_numu\", \"pr_nutau\", \"pi_nue\", \"pi_numu\", \"pi_nutau\", \"k_nue\", \"k_numu\", \n",
        "\"k_nutau\", \"obs_nue\", \"obs_numu\", \"obs_nutau\", \"pr_antinue\", \"pr_antinumu\", \"pr_antinutau\", \"pi_antinue\", \n",
        "\"pi_antinumu\", \"pi_antinutau\", \"k_antinue\", \"k_antinumu\", \"k_antinutau\", \"obs_antinue\", \"obs_antinumu\", \"obs_antinutau\", \n",
        "\"pr_mu-\", \"pi_mu-\", \"k_mu-\", \"obs_mu-\", \"pr_mu+\", \"pi_mu+\", \"k_mu+\", \"obs_mu+\"\n",
        "\n",
        "Total number of species: 87\n",
        "MCEqRun::set_interaction_model():  SIBYLL2.1\n",
        "InteractionYields:set_interaction_model():: Model SIBYLL2.1 already loaded.\n",
        "InteractionYields:set_interaction_model():: Model SIBYLL2.1 already loaded.\n",
        "MCEqRun::_init_default_matrices():Start filling matrices.\n",
        "MCEqRun::_convert_to_sparse():Converting to sparse (CSR) matrix format."
       ]
      },
      {
       "output_type": "stream",
       "stream": "stdout",
       "text": [
        "\n",
        "C Matrix info:"
       ]
      },
      {
       "output_type": "stream",
       "stream": "stdout",
       "text": [
        "\n",
        "    density    : 2.18424070333e-06\n",
        "    shape      : (6264, 6264)\n",
        "    nnz        : 457825\n",
        "D Matrix info:\n",
        "    density    : 3.42760386497e-06\n",
        "    shape      : (6264, 6264)\n",
        "    nnz        : 291749\n",
        "MCEqRun::_init_default_matrices():Done filling matrices.\n",
        "MCEqRun::set_atm_model(): "
       ]
      },
      {
       "output_type": "stream",
       "stream": "stdout",
       "text": [
        " CORSIKA BK_USStd None\n",
        "MCEqRun::set_theta_deg():  0.0\n",
        "atmospheres::_load_cache(): loading cache.\n",
        "MCEqRun::set_primary_model():  Thunman None\n"
       ]
      }
     ],
     "prompt_number": 2
    },
    {
     "cell_type": "markdown",
     "metadata": {},
     "source": [
      "Select xf ranges by combining indices to tuples\n",
      "-----------------------------------------------"
     ]
    },
    {
     "cell_type": "code",
     "collapsed": false,
     "input": [
      "print '\\nindex | xf value'\n",
      "xf_bins = mceq_run.y.e_bins/mceq_run.y.e_bins[-1]\n",
      "for i, e in enumerate(xf_bins[-15:]):\n",
      "    print '{0:5}       {1:3.2f}'.format(i-15, e) \n",
      "\n",
      "range_tups = [(0, -11), (-10,-8), (-7,-6), (-5,-4), (-3,-1), (0,-1)]\n",
      "\n",
      "print \"\\nFollowing xf ranges are configured\"\n",
      "\n",
      "for t in range_tups:\n",
      "    if t: print '{0:5.2f} - {1:5.2f}'.format(xf_bins[t[0]], \n",
      "                                             xf_bins[t[1] + 1 if t[1] != -1 else t[1]])"
     ],
     "language": "python",
     "metadata": {},
     "outputs": [
      {
       "output_type": "stream",
       "stream": "stdout",
       "text": [
        "\n",
        "index | xf value\n",
        "  -15       0.02\n",
        "  -14       0.03\n",
        "  -13       0.04\n",
        "  -12       0.05\n",
        "  -11       0.07\n",
        "  -10       0.09\n",
        "   -9       0.12\n",
        "   -8       0.16\n",
        "   -7       0.20\n",
        "   -6       0.27\n",
        "   -5       0.35\n",
        "   -4       0.45\n",
        "   -3       0.59\n",
        "   -2       0.77\n",
        "   -1       1.00\n",
        "\n",
        "Following xf ranges are configured\n",
        " 0.00 -  0.09\n",
        " 0.09 -  0.20\n",
        " 0.20 -  0.35\n",
        " 0.35 -  0.59\n",
        " 0.59 -  1.00\n",
        " 0.00 -  1.00\n"
       ]
      }
     ],
     "prompt_number": 3
    },
    {
     "cell_type": "code",
     "collapsed": false,
     "input": [
      "flux_ranges = []\n",
      "mag = 0\n",
      "for t in range_tups:\n",
      "    if t == None:\n",
      "        mceq_run.y.band = None\n",
      "    else:\n",
      "        mceq_run.y.set_xf_band(*t)\n",
      "        \n",
      "    mceq_run._init_default_matrices()\n",
      "    mceq_run.solve()\n",
      "    #Retrieve the flux at the surface by using the aliases which were listed in the\n",
      "    #output during the MCEqRun initialization. \n",
      "    flux = {}\n",
      "    #_conv means conventional (mostly pions and kaons)\n",
      "    flux['mu_conv'] = (mceq_run.get_solution('conv_mu+', mag)\n",
      "                       + mceq_run.get_solution('conv_mu-', mag))\n",
      "\n",
      "    # _pr means prompt (the mother of the muon had a critical energy\n",
      "    # higher than a D meson. Includes all charm and direct resonance\n",
      "    # contribution)\n",
      "    flux['mu_pr'] = (mceq_run.get_solution('pr_mu+', mag)\n",
      "                     + mceq_run.get_solution('pr_mu-', mag))\n",
      "\n",
      "    # total means conventional + prompt\n",
      "    flux['mu_total'] = (mceq_run.get_solution('total_mu+', mag)\n",
      "                        + mceq_run.get_solution('total_mu-', mag))\n",
      "\n",
      "    # same meaning of prefixes for muon neutrinos as for muons\n",
      "    flux['numu_conv'] = (mceq_run.get_solution('conv_numu', mag)\n",
      "                         + mceq_run.get_solution('conv_antinumu', mag))\n",
      "\n",
      "    flux['numu_pr'] = (mceq_run.get_solution('pr_numu', mag)\n",
      "                       + mceq_run.get_solution('pr_antinumu', mag))\n",
      "\n",
      "    flux['numu_total'] = (mceq_run.get_solution('total_numu', mag)\n",
      "                          + mceq_run.get_solution('total_antinumu', mag))\n",
      "\n",
      "    # same meaning of prefixes for electron neutrinos as for muons\n",
      "    flux['nue_conv'] = (mceq_run.get_solution('conv_nue', mag)\n",
      "                        + mceq_run.get_solution('conv_antinue', mag))\n",
      "\n",
      "    flux['nue_pr'] = (mceq_run.get_solution('pr_nue', mag)\n",
      "                      + mceq_run.get_solution('pr_antinue', mag))\n",
      "\n",
      "    flux['nue_total'] = (mceq_run.get_solution('total_nue', mag)\n",
      "                         + mceq_run.get_solution('total_antinue', mag))\n",
      "\n",
      "\n",
      "    # since there are no conventional tau neutrinos, prompt=total\n",
      "    flux['nutau_pr'] = (mceq_run.get_solution('total_nutau', mag)\n",
      "                        + mceq_run.get_solution('total_antinutau', mag))\n",
      "    flux_ranges.append(flux)"
     ],
     "language": "python",
     "metadata": {},
     "outputs": [
      {
       "output_type": "stream",
       "stream": "stdout",
       "text": [
        "InteractionYields::set_xf_band(): limiting Feynman x range to:  0.00 -  0.07\n",
        "MCEqRun::_init_default_matrices():Start filling matrices.\n",
        "MCEqRun::_convert_to_sparse():Converting to sparse (CSR) matrix format."
       ]
      },
      {
       "output_type": "stream",
       "stream": "stdout",
       "text": [
        "\n",
        "C Matrix info:"
       ]
      },
      {
       "output_type": "stream",
       "stream": "stderr",
       "text": [
        "  0% |                                                         | ETA:  --:--:--\r",
        "  1% |                                                          | ETA:  0:00:12\r"
       ]
      },
      {
       "output_type": "stream",
       "stream": "stdout",
       "text": [
        "\n",
        "    density    : 2.92076547422e-06\n",
        "    shape      : (6264, 6264)\n",
        "    nnz        : 342376\n",
        "D Matrix info:\n",
        "    density    : 3.42760386497e-06\n",
        "    shape      : (6264, 6264)\n",
        "    nnz        : 291749\n",
        "MCEqRun::_init_default_matrices():Done filling matrices.\n",
        "MCEqRun::_calculate_integration_path():\n",
        "MCEqRun::_forward_euler(): Solver will perform 4729 integration steps."
       ]
      },
      {
       "output_type": "stream",
       "stream": "stderr",
       "text": [
        "  2% |#                                                         | ETA:  0:00:06\r",
        "  3% |#                                                         | ETA:  0:00:04\r",
        "  4% |##                                                        | ETA:  0:00:03\r",
        "  5% |##                                                        | ETA:  0:00:02\r",
        "  6% |###                                                       | ETA:  0:00:02\r",
        "  7% |####                                                      | ETA:  0:00:01\r",
        "  8% |####                                                      | ETA:  0:00:01\r",
        "  9% |#####                                                     | ETA:  0:00:01\r",
        " 10% |#####                                                     | ETA:  0:00:01\r",
        " 11% |######                                                    | ETA:  0:00:01\r",
        " 12% |#######                                                   | ETA:  0:00:01\r",
        " 13% |#######                                                   | ETA:  0:00:00\r",
        " 14% |########                                                  | ETA:  0:00:00\r",
        " 15% |########                                                  | ETA:  0:00:00\r",
        " 16% |#########                                                 | ETA:  0:00:00\r",
        " 17% |##########                                                | ETA:  0:00:00\r",
        " 18% |##########                                                | ETA:  0:00:00\r",
        " 19% |###########                                               | ETA:  0:00:00\r",
        " 20% |###########                                               | ETA:  0:00:00\r",
        " 21% |############                                              | ETA:  0:00:00\r",
        " 22% |#############                                             | ETA:  0:00:00\r",
        " 23% |#############                                             | ETA:  0:00:00\r",
        " 24% |##############                                            | ETA:  0:00:00\r",
        " 25% |##############                                            | ETA:  0:00:00\r",
        " 26% |###############                                           | ETA:  0:00:00\r",
        " 27% |################                                          | ETA:  0:00:00\r",
        " 28% |################                                          | ETA:  0:00:00\r",
        " 29% |#################                                         | ETA:  0:00:00\r",
        " 30% |#################                                         | ETA:  0:00:00\r",
        " 31% |##################                                        | ETA:  0:00:00\r",
        " 32% |###################                                       | ETA:  0:00:00\r",
        " 34% |###################                                       | ETA:  0:00:00\r",
        " 35% |####################                                      | ETA:  0:00:00\r",
        " 36% |####################                                      | ETA:  0:00:00\r",
        " 37% |#####################                                     | ETA:  0:00:00\r",
        " 38% |######################                                    | ETA:  0:00:00\r",
        " 39% |######################                                    | ETA:  0:00:00\r",
        " 40% |#######################                                   | ETA:  0:00:00\r",
        " 41% |########################                                  | ETA:  0:00:00\r",
        " 42% |########################                                  | ETA:  0:00:00\r",
        " 43% |#########################                                 | ETA:  0:00:00\r",
        " 44% |#########################                                 | ETA:  0:00:00\r",
        " 45% |##########################                                | ETA:  0:00:00\r",
        " 46% |###########################                               | ETA:  0:00:00\r",
        " 47% |###########################                               | ETA:  0:00:00\r",
        " 48% |############################                              | ETA:  0:00:00\r",
        " 50% |#############################                             | ETA:  0:00:00\r",
        " 51% |#############################                             | ETA:  0:00:00\r",
        " 52% |##############################                            | ETA:  0:00:00\r",
        " 53% |##############################                            | ETA:  0:00:00\r",
        " 54% |###############################                           | ETA:  0:00:00\r",
        " 55% |################################                          | ETA:  0:00:00\r",
        " 56% |################################                          | ETA:  0:00:00\r",
        " 57% |#################################                         | ETA:  0:00:00\r",
        " 58% |##################################                        | ETA:  0:00:00\r",
        " 59% |##################################                        | ETA:  0:00:00\r",
        " 60% |###################################                       | ETA:  0:00:00\r",
        " 62% |###################################                       | ETA:  0:00:00\r",
        " 63% |####################################                      | ETA:  0:00:00\r",
        " 64% |#####################################                     | ETA:  0:00:00\r",
        " 65% |######################################                    | ETA:  0:00:00\r",
        " 66% |######################################                    | ETA:  0:00:00\r",
        " 67% |#######################################                   | ETA:  0:00:00\r",
        " 68% |#######################################                   | ETA:  0:00:00\r",
        " 69% |########################################                  | ETA:  0:00:00\r",
        " 70% |#########################################                 | ETA:  0:00:00\r",
        " 71% |#########################################                 | ETA:  0:00:00\r",
        " 72% |##########################################                | ETA:  0:00:00\r",
        " 73% |##########################################                | ETA:  0:00:00\r",
        " 75% |###########################################               | ETA:  0:00:00\r",
        " 76% |############################################              | ETA:  0:00:00\r",
        " 77% |############################################              | ETA:  0:00:00\r",
        " 78% |#############################################             | ETA:  0:00:00\r",
        " 79% |##############################################            | ETA:  0:00:00\r",
        " 80% |##############################################            | ETA:  0:00:00\r",
        " 82% |###############################################           | ETA:  0:00:00\r",
        " 83% |################################################          | ETA:  0:00:00\r",
        " 84% |#################################################         | ETA:  0:00:00\r",
        " 85% |#################################################         | ETA:  0:00:00\r",
        " 86% |##################################################        | ETA:  0:00:00\r",
        " 87% |##################################################        | ETA:  0:00:00\r",
        " 88% |###################################################       | ETA:  0:00:00\r",
        " 89% |####################################################      | ETA:  0:00:00\r",
        " 90% |####################################################      | ETA:  0:00:00\r",
        " 91% |#####################################################     | ETA:  0:00:00\r",
        " 93% |#####################################################     | ETA:  0:00:00\r",
        " 94% |######################################################    | ETA:  0:00:00\r",
        " 95% |#######################################################   | ETA:  0:00:00\r",
        " 96% |#######################################################   | ETA:  0:00:00\r",
        " 97% |########################################################  | ETA:  0:00:00\r",
        " 98% |######################################################### | ETA:  0:00:00\r",
        " 99% |######################################################### | ETA:  0:00:00\r",
        "100% |##########################################################| Time: 0:00:00\r\n",
        "  0% |                                                         | ETA:  --:--:--\r",
        "  1% |                                                          | ETA:  0:00:02\r"
       ]
      },
      {
       "output_type": "stream",
       "stream": "stderr",
       "text": [
        "  2% |#                                                         | ETA:  0:00:02\r",
        "  3% |#                                                         | ETA:  0:00:02\r",
        "  4% |##                                                        | ETA:  0:00:02\r",
        "  5% |##                                                        | ETA:  0:00:02\r"
       ]
      },
      {
       "output_type": "stream",
       "stream": "stderr",
       "text": [
        "  6% |###                                                       | ETA:  0:00:02\r",
        "  7% |####                                                      | ETA:  0:00:02\r",
        "  8% |####                                                      | ETA:  0:00:02\r"
       ]
      },
      {
       "output_type": "stream",
       "stream": "stderr",
       "text": [
        "  9% |#####                                                     | ETA:  0:00:02\r",
        " 10% |#####                                                     | ETA:  0:00:02\r",
        " 11% |######                                                    | ETA:  0:00:02\r",
        " 12% |#######                                                   | ETA:  0:00:02\r"
       ]
      },
      {
       "output_type": "stream",
       "stream": "stderr",
       "text": [
        " 13% |#######                                                   | ETA:  0:00:02\r",
        " 14% |########                                                  | ETA:  0:00:02\r",
        " 15% |########                                                  | ETA:  0:00:02\r"
       ]
      },
      {
       "output_type": "stream",
       "stream": "stderr",
       "text": [
        " 16% |#########                                                 | ETA:  0:00:02\r",
        " 17% |##########                                                | ETA:  0:00:02\r",
        " 18% |##########                                                | ETA:  0:00:02\r"
       ]
      },
      {
       "output_type": "stream",
       "stream": "stderr",
       "text": [
        " 19% |###########                                               | ETA:  0:00:02\r",
        " 20% |###########                                               | ETA:  0:00:02\r",
        " 21% |############                                              | ETA:  0:00:02\r"
       ]
      },
      {
       "output_type": "stream",
       "stream": "stderr",
       "text": [
        " 22% |############                                              | ETA:  0:00:01\r",
        " 23% |#############                                             | ETA:  0:00:01\r",
        " 24% |##############                                            | ETA:  0:00:01\r"
       ]
      },
      {
       "output_type": "stream",
       "stream": "stderr",
       "text": [
        " 25% |##############                                            | ETA:  0:00:01\r",
        " 26% |###############                                           | ETA:  0:00:01\r",
        " 27% |###############                                           | ETA:  0:00:01\r",
        " 28% |################                                          | ETA:  0:00:01\r"
       ]
      },
      {
       "output_type": "stream",
       "stream": "stderr",
       "text": [
        " 29% |#################                                         | ETA:  0:00:01\r",
        " 30% |#################                                         | ETA:  0:00:01\r",
        " 31% |##################                                        | ETA:  0:00:01\r",
        " 32% |##################                                        | ETA:  0:00:01\r"
       ]
      },
      {
       "output_type": "stream",
       "stream": "stderr",
       "text": [
        " 33% |###################                                       | ETA:  0:00:01\r",
        " 34% |####################                                      | ETA:  0:00:01\r",
        " 35% |####################                                      | ETA:  0:00:01\r"
       ]
      },
      {
       "output_type": "stream",
       "stream": "stderr",
       "text": [
        " 36% |#####################                                     | ETA:  0:00:01\r",
        " 37% |#####################                                     | ETA:  0:00:01\r",
        " 38% |######################                                    | ETA:  0:00:01\r"
       ]
      },
      {
       "output_type": "stream",
       "stream": "stderr",
       "text": [
        " 39% |######################                                    | ETA:  0:00:01\r",
        " 40% |#######################                                   | ETA:  0:00:01\r",
        " 41% |########################                                  | ETA:  0:00:01\r"
       ]
      },
      {
       "output_type": "stream",
       "stream": "stderr",
       "text": [
        " 42% |########################                                  | ETA:  0:00:01\r",
        " 43% |#########################                                 | ETA:  0:00:01\r",
        " 44% |#########################                                 | ETA:  0:00:01\r"
       ]
      },
      {
       "output_type": "stream",
       "stream": "stderr",
       "text": [
        " 45% |##########################                                | ETA:  0:00:01\r",
        " 46% |###########################                               | ETA:  0:00:01\r",
        " 47% |###########################                               | ETA:  0:00:01\r",
        " 48% |############################                              | ETA:  0:00:01\r"
       ]
      },
      {
       "output_type": "stream",
       "stream": "stderr",
       "text": [
        " 49% |############################                              | ETA:  0:00:01\r",
        " 50% |#############################                             | ETA:  0:00:01\r",
        " 51% |##############################                            | ETA:  0:00:01\r",
        " 52% |##############################                            | ETA:  0:00:01\r"
       ]
      },
      {
       "output_type": "stream",
       "stream": "stderr",
       "text": [
        " 53% |###############################                           | ETA:  0:00:01\r",
        " 54% |###############################                           | ETA:  0:00:01\r",
        " 55% |################################                          | ETA:  0:00:01\r"
       ]
      },
      {
       "output_type": "stream",
       "stream": "stderr",
       "text": [
        " 56% |################################                          | ETA:  0:00:01\r",
        " 57% |#################################                         | ETA:  0:00:01\r",
        " 58% |##################################                        | ETA:  0:00:01\r"
       ]
      },
      {
       "output_type": "stream",
       "stream": "stderr",
       "text": [
        " 59% |##################################                        | ETA:  0:00:01\r",
        " 60% |###################################                       | ETA:  0:00:00\r",
        " 61% |###################################                       | ETA:  0:00:00\r",
        " 62% |####################################                      | ETA:  0:00:00\r"
       ]
      },
      {
       "output_type": "stream",
       "stream": "stderr",
       "text": [
        " 63% |#####################################                     | ETA:  0:00:00\r",
        " 64% |#####################################                     | ETA:  0:00:00\r",
        " 65% |######################################                    | ETA:  0:00:00\r",
        " 66% |######################################                    | ETA:  0:00:00\r"
       ]
      },
      {
       "output_type": "stream",
       "stream": "stderr",
       "text": [
        " 68% |#######################################                   | ETA:  0:00:00\r",
        " 69% |########################################                  | ETA:  0:00:00\r",
        " 70% |########################################                  | ETA:  0:00:00\r",
        " 71% |#########################################                 | ETA:  0:00:00\r"
       ]
      },
      {
       "output_type": "stream",
       "stream": "stderr",
       "text": [
        " 72% |#########################################                 | ETA:  0:00:00\r",
        " 73% |##########################################                | ETA:  0:00:00\r",
        " 74% |##########################################                | ETA:  0:00:00\r"
       ]
      },
      {
       "output_type": "stream",
       "stream": "stderr",
       "text": [
        " 75% |###########################################               | ETA:  0:00:00\r",
        " 76% |############################################              | ETA:  0:00:00\r",
        " 77% |############################################              | ETA:  0:00:00\r"
       ]
      },
      {
       "output_type": "stream",
       "stream": "stderr",
       "text": [
        " 78% |#############################################             | ETA:  0:00:00\r",
        " 79% |#############################################             | ETA:  0:00:00\r",
        " 80% |##############################################            | ETA:  0:00:00\r"
       ]
      },
      {
       "output_type": "stream",
       "stream": "stderr",
       "text": [
        " 81% |###############################################           | ETA:  0:00:00\r",
        " 82% |###############################################           | ETA:  0:00:00\r",
        " 83% |################################################          | ETA:  0:00:00\r"
       ]
      },
      {
       "output_type": "stream",
       "stream": "stderr",
       "text": [
        " 84% |################################################          | ETA:  0:00:00\r",
        " 85% |#################################################         | ETA:  0:00:00\r",
        " 86% |##################################################        | ETA:  0:00:00\r"
       ]
      },
      {
       "output_type": "stream",
       "stream": "stderr",
       "text": [
        " 87% |##################################################        | ETA:  0:00:00\r",
        " 88% |###################################################       | ETA:  0:00:00\r",
        " 89% |###################################################       | ETA:  0:00:00\r"
       ]
      },
      {
       "output_type": "stream",
       "stream": "stderr",
       "text": [
        " 90% |####################################################      | ETA:  0:00:00\r",
        " 91% |####################################################      | ETA:  0:00:00\r",
        " 92% |#####################################################     | ETA:  0:00:00\r",
        " 93% |######################################################    | ETA:  0:00:00\r"
       ]
      },
      {
       "output_type": "stream",
       "stream": "stderr",
       "text": [
        " 94% |######################################################    | ETA:  0:00:00\r",
        " 95% |#######################################################   | ETA:  0:00:00\r",
        " 96% |#######################################################   | ETA:  0:00:00\r"
       ]
      },
      {
       "output_type": "stream",
       "stream": "stderr",
       "text": [
        " 97% |########################################################  | ETA:  0:00:00\r",
        " 98% |######################################################### | ETA:  0:00:00\r",
        " 99% |######################################################### | ETA:  0:00:00\r",
        "100% |##########################################################| Time: 0:00:02\r"
       ]
      },
      {
       "output_type": "stream",
       "stream": "stdout",
       "text": [
        "\n",
        "\n",
        "MCEqRun::_forward_euler(): time elapsed during integration: 2.59372186661 sec"
       ]
      },
      {
       "output_type": "stream",
       "stream": "stdout",
       "text": [
        "\n",
        "InteractionYields::set_xf_band(): limiting Feynman x range to:  0.09 -  0.16\n",
        "MCEqRun::_init_default_matrices():Start filling matrices.\n",
        "MCEqRun::_convert_to_sparse():Converting to sparse (CSR) matrix format."
       ]
      },
      {
       "output_type": "stream",
       "stream": "stdout",
       "text": [
        "\n",
        "C Matrix info:"
       ]
      },
      {
       "output_type": "stream",
       "stream": "stderr",
       "text": [
        "\n",
        "  0% |                                                         | ETA:  --:--:--\r"
       ]
      },
      {
       "output_type": "stream",
       "stream": "stderr",
       "text": [
        "  1% |                                                          | ETA:  0:00:01\r",
        "  2% |#                                                         | ETA:  0:00:01\r",
        "  3% |#                                                         | ETA:  0:00:01\r",
        "  4% |##                                                        | ETA:  0:00:01\r",
        "  5% |##                                                        | ETA:  0:00:01\r"
       ]
      },
      {
       "output_type": "stream",
       "stream": "stderr",
       "text": [
        "  6% |###                                                       | ETA:  0:00:01\r",
        "  7% |####                                                      | ETA:  0:00:01\r",
        "  8% |####                                                      | ETA:  0:00:01\r",
        "  9% |#####                                                     | ETA:  0:00:01\r",
        " 10% |#####                                                     | ETA:  0:00:01\r"
       ]
      },
      {
       "output_type": "stream",
       "stream": "stderr",
       "text": [
        " 11% |######                                                    | ETA:  0:00:01\r",
        " 12% |#######                                                   | ETA:  0:00:01\r",
        " 13% |#######                                                   | ETA:  0:00:01\r",
        " 14% |########                                                  | ETA:  0:00:01\r",
        " 15% |########                                                  | ETA:  0:00:01\r"
       ]
      },
      {
       "output_type": "stream",
       "stream": "stderr",
       "text": [
        " 16% |#########                                                 | ETA:  0:00:01\r",
        " 17% |##########                                                | ETA:  0:00:01\r",
        " 18% |##########                                                | ETA:  0:00:01\r",
        " 19% |###########                                               | ETA:  0:00:01\r"
       ]
      },
      {
       "output_type": "stream",
       "stream": "stderr",
       "text": [
        " 20% |###########                                               | ETA:  0:00:01\r",
        " 21% |############                                              | ETA:  0:00:01\r",
        " 22% |############                                              | ETA:  0:00:01\r",
        " 23% |#############                                             | ETA:  0:00:01\r",
        " 24% |##############                                            | ETA:  0:00:01\r"
       ]
      },
      {
       "output_type": "stream",
       "stream": "stderr",
       "text": [
        " 25% |##############                                            | ETA:  0:00:01\r",
        " 26% |###############                                           | ETA:  0:00:01\r",
        " 27% |###############                                           | ETA:  0:00:01\r",
        " 28% |################                                          | ETA:  0:00:00\r",
        " 29% |#################                                         | ETA:  0:00:00\r"
       ]
      },
      {
       "output_type": "stream",
       "stream": "stderr",
       "text": [
        " 30% |#################                                         | ETA:  0:00:00\r",
        " 31% |##################                                        | ETA:  0:00:00\r",
        " 32% |##################                                        | ETA:  0:00:00\r",
        " 33% |###################                                       | ETA:  0:00:00\r",
        " 34% |####################                                      | ETA:  0:00:00\r"
       ]
      },
      {
       "output_type": "stream",
       "stream": "stderr",
       "text": [
        " 35% |####################                                      | ETA:  0:00:00\r",
        " 36% |#####################                                     | ETA:  0:00:00\r",
        " 37% |#####################                                     | ETA:  0:00:00\r",
        " 38% |######################                                    | ETA:  0:00:00\r",
        " 39% |######################                                    | ETA:  0:00:00\r"
       ]
      },
      {
       "output_type": "stream",
       "stream": "stderr",
       "text": [
        " 40% |#######################                                   | ETA:  0:00:00\r",
        " 41% |########################                                  | ETA:  0:00:00\r",
        " 42% |########################                                  | ETA:  0:00:00\r",
        " 43% |#########################                                 | ETA:  0:00:00\r",
        " 44% |#########################                                 | ETA:  0:00:00\r"
       ]
      },
      {
       "output_type": "stream",
       "stream": "stderr",
       "text": [
        " 45% |##########################                                | ETA:  0:00:00\r",
        " 46% |###########################                               | ETA:  0:00:00\r",
        " 47% |###########################                               | ETA:  0:00:00\r",
        " 48% |############################                              | ETA:  0:00:00\r",
        " 49% |############################                              | ETA:  0:00:00\r"
       ]
      },
      {
       "output_type": "stream",
       "stream": "stderr",
       "text": [
        " 50% |#############################                             | ETA:  0:00:00\r",
        " 51% |##############################                            | ETA:  0:00:00\r",
        " 52% |##############################                            | ETA:  0:00:00\r",
        " 53% |###############################                           | ETA:  0:00:00\r",
        " 54% |###############################                           | ETA:  0:00:00\r"
       ]
      },
      {
       "output_type": "stream",
       "stream": "stderr",
       "text": [
        " 55% |################################                          | ETA:  0:00:00\r",
        " 56% |################################                          | ETA:  0:00:00\r",
        " 57% |#################################                         | ETA:  0:00:00\r",
        " 58% |##################################                        | ETA:  0:00:00\r",
        " 59% |##################################                        | ETA:  0:00:00\r",
        " 60% |###################################                       | ETA:  0:00:00\r",
        " 61% |###################################                       | ETA:  0:00:00\r"
       ]
      },
      {
       "output_type": "stream",
       "stream": "stderr",
       "text": [
        " 62% |####################################                      | ETA:  0:00:00\r",
        " 63% |#####################################                     | ETA:  0:00:00\r",
        " 64% |#####################################                     | ETA:  0:00:00\r",
        " 65% |######################################                    | ETA:  0:00:00\r",
        " 66% |######################################                    | ETA:  0:00:00\r",
        " 68% |#######################################                   | ETA:  0:00:00\r",
        " 69% |########################################                  | ETA:  0:00:00\r"
       ]
      },
      {
       "output_type": "stream",
       "stream": "stderr",
       "text": [
        " 70% |########################################                  | ETA:  0:00:00\r",
        " 71% |#########################################                 | ETA:  0:00:00\r",
        " 72% |#########################################                 | ETA:  0:00:00\r",
        " 73% |##########################################                | ETA:  0:00:00\r",
        " 74% |##########################################                | ETA:  0:00:00\r"
       ]
      },
      {
       "output_type": "stream",
       "stream": "stderr",
       "text": [
        " 75% |###########################################               | ETA:  0:00:00\r",
        " 76% |############################################              | ETA:  0:00:00\r",
        " 77% |############################################              | ETA:  0:00:00\r",
        " 78% |#############################################             | ETA:  0:00:00\r",
        " 79% |#############################################             | ETA:  0:00:00\r"
       ]
      },
      {
       "output_type": "stream",
       "stream": "stderr",
       "text": [
        " 80% |##############################################            | ETA:  0:00:00\r",
        " 81% |###############################################           | ETA:  0:00:00\r",
        " 82% |###############################################           | ETA:  0:00:00\r",
        " 83% |################################################          | ETA:  0:00:00\r",
        " 84% |################################################          | ETA:  0:00:00\r"
       ]
      },
      {
       "output_type": "stream",
       "stream": "stderr",
       "text": [
        " 85% |#################################################         | ETA:  0:00:00\r",
        " 86% |##################################################        | ETA:  0:00:00\r",
        " 87% |##################################################        | ETA:  0:00:00\r",
        " 88% |###################################################       | ETA:  0:00:00\r",
        " 89% |###################################################       | ETA:  0:00:00\r",
        " 90% |####################################################      | ETA:  0:00:00\r"
       ]
      },
      {
       "output_type": "stream",
       "stream": "stderr",
       "text": [
        " 91% |####################################################      | ETA:  0:00:00\r",
        " 92% |#####################################################     | ETA:  0:00:00\r",
        " 93% |######################################################    | ETA:  0:00:00\r",
        " 94% |######################################################    | ETA:  0:00:00\r",
        " 95% |#######################################################   | ETA:  0:00:00\r"
       ]
      },
      {
       "output_type": "stream",
       "stream": "stdout",
       "text": [
        "\n",
        "    density    : 9.90216659405e-06\n",
        "    shape      : (6264, 6264)\n",
        "    nnz        : 100988\n",
        "D Matrix info:\n",
        "    density    : 3.42760386497e-06\n",
        "    shape      : (6264, 6264)\n",
        "    nnz        : 291749\n",
        "MCEqRun::_init_default_matrices():Done filling matrices.\n",
        "MCEqRun::_calculate_integration_path():\n",
        "MCEqRun::_forward_euler(): Solver will perform 4729 integration steps.\n",
        "\n",
        "MCEqRun::_forward_euler(): time elapsed during integration: 1.32094717026 sec"
       ]
      },
      {
       "output_type": "stream",
       "stream": "stdout",
       "text": [
        "\n",
        "InteractionYields::set_xf_band(): limiting Feynman x range to:  0.20 -  0.27\n",
        "MCEqRun::_init_default_matrices():Start filling matrices.\n",
        "MCEqRun::_convert_to_sparse():Converting to sparse (CSR) matrix format."
       ]
      },
      {
       "output_type": "stream",
       "stream": "stdout",
       "text": [
        "\n",
        "C Matrix info:"
       ]
      },
      {
       "output_type": "stream",
       "stream": "stderr",
       "text": [
        " 96% |#######################################################   | ETA:  0:00:00\r",
        " 97% |########################################################  | ETA:  0:00:00\r",
        " 98% |######################################################### | ETA:  0:00:00\r",
        " 99% |######################################################### | ETA:  0:00:00\r",
        "100% |##########################################################| Time: 0:00:01\r\n",
        "  0% |                                                         | ETA:  --:--:--\r"
       ]
      },
      {
       "output_type": "stream",
       "stream": "stderr",
       "text": [
        "  1% |                                                          | ETA:  0:00:01\r",
        "  2% |#                                                         | ETA:  0:00:01\r",
        "  3% |#                                                         | ETA:  0:00:01\r",
        "  4% |##                                                        | ETA:  0:00:01\r",
        "  5% |##                                                        | ETA:  0:00:01\r"
       ]
      },
      {
       "output_type": "stream",
       "stream": "stderr",
       "text": [
        "  6% |###                                                       | ETA:  0:00:01\r",
        "  7% |####                                                      | ETA:  0:00:01\r",
        "  8% |####                                                      | ETA:  0:00:01\r",
        "  9% |#####                                                     | ETA:  0:00:01\r",
        " 10% |#####                                                     | ETA:  0:00:01\r"
       ]
      },
      {
       "output_type": "stream",
       "stream": "stderr",
       "text": [
        " 11% |######                                                    | ETA:  0:00:01\r",
        " 12% |#######                                                   | ETA:  0:00:01\r",
        " 13% |#######                                                   | ETA:  0:00:01\r",
        " 14% |########                                                  | ETA:  0:00:01\r",
        " 15% |########                                                  | ETA:  0:00:01\r"
       ]
      },
      {
       "output_type": "stream",
       "stream": "stderr",
       "text": [
        " 16% |#########                                                 | ETA:  0:00:01\r",
        " 17% |##########                                                | ETA:  0:00:01\r",
        " 18% |##########                                                | ETA:  0:00:01\r",
        " 19% |###########                                               | ETA:  0:00:01\r",
        " 20% |###########                                               | ETA:  0:00:01\r",
        " 21% |############                                              | ETA:  0:00:01\r"
       ]
      },
      {
       "output_type": "stream",
       "stream": "stderr",
       "text": [
        " 22% |############                                              | ETA:  0:00:01\r",
        " 23% |#############                                             | ETA:  0:00:01\r",
        " 24% |##############                                            | ETA:  0:00:01\r",
        " 25% |##############                                            | ETA:  0:00:01\r",
        " 26% |###############                                           | ETA:  0:00:01\r",
        " 27% |###############                                           | ETA:  0:00:01\r"
       ]
      },
      {
       "output_type": "stream",
       "stream": "stderr",
       "text": [
        " 28% |################                                          | ETA:  0:00:01\r",
        " 29% |#################                                         | ETA:  0:00:01\r",
        " 30% |#################                                         | ETA:  0:00:00\r",
        " 31% |##################                                        | ETA:  0:00:00\r",
        " 32% |##################                                        | ETA:  0:00:00\r"
       ]
      },
      {
       "output_type": "stream",
       "stream": "stderr",
       "text": [
        " 33% |###################                                       | ETA:  0:00:00\r",
        " 34% |####################                                      | ETA:  0:00:00\r",
        " 35% |####################                                      | ETA:  0:00:00\r",
        " 36% |#####################                                     | ETA:  0:00:00\r",
        " 37% |#####################                                     | ETA:  0:00:00\r"
       ]
      },
      {
       "output_type": "stream",
       "stream": "stderr",
       "text": [
        " 38% |######################                                    | ETA:  0:00:00\r",
        " 39% |######################                                    | ETA:  0:00:00\r",
        " 40% |#######################                                   | ETA:  0:00:00\r",
        " 41% |########################                                  | ETA:  0:00:00\r",
        " 42% |########################                                  | ETA:  0:00:00\r",
        " 43% |#########################                                 | ETA:  0:00:00\r"
       ]
      },
      {
       "output_type": "stream",
       "stream": "stderr",
       "text": [
        " 44% |#########################                                 | ETA:  0:00:00\r",
        " 45% |##########################                                | ETA:  0:00:00\r",
        " 46% |###########################                               | ETA:  0:00:00\r",
        " 47% |###########################                               | ETA:  0:00:00\r",
        " 48% |############################                              | ETA:  0:00:00\r"
       ]
      },
      {
       "output_type": "stream",
       "stream": "stderr",
       "text": [
        " 49% |############################                              | ETA:  0:00:00\r",
        " 50% |#############################                             | ETA:  0:00:00\r",
        " 51% |##############################                            | ETA:  0:00:00\r",
        " 52% |##############################                            | ETA:  0:00:00\r",
        " 53% |###############################                           | ETA:  0:00:00\r"
       ]
      },
      {
       "output_type": "stream",
       "stream": "stderr",
       "text": [
        " 54% |###############################                           | ETA:  0:00:00\r",
        " 55% |################################                          | ETA:  0:00:00\r",
        " 56% |################################                          | ETA:  0:00:00\r",
        " 57% |#################################                         | ETA:  0:00:00\r",
        " 58% |##################################                        | ETA:  0:00:00\r"
       ]
      },
      {
       "output_type": "stream",
       "stream": "stderr",
       "text": [
        " 59% |##################################                        | ETA:  0:00:00\r",
        " 60% |###################################                       | ETA:  0:00:00\r",
        " 61% |###################################                       | ETA:  0:00:00\r",
        " 62% |####################################                      | ETA:  0:00:00\r",
        " 63% |#####################################                     | ETA:  0:00:00\r"
       ]
      },
      {
       "output_type": "stream",
       "stream": "stderr",
       "text": [
        " 64% |#####################################                     | ETA:  0:00:00\r",
        " 65% |######################################                    | ETA:  0:00:00\r",
        " 66% |######################################                    | ETA:  0:00:00\r",
        " 68% |#######################################                   | ETA:  0:00:00\r",
        " 69% |########################################                  | ETA:  0:00:00\r"
       ]
      },
      {
       "output_type": "stream",
       "stream": "stderr",
       "text": [
        " 70% |########################################                  | ETA:  0:00:00\r",
        " 71% |#########################################                 | ETA:  0:00:00\r",
        " 72% |#########################################                 | ETA:  0:00:00\r",
        " 73% |##########################################                | ETA:  0:00:00\r",
        " 74% |##########################################                | ETA:  0:00:00\r"
       ]
      },
      {
       "output_type": "stream",
       "stream": "stderr",
       "text": [
        " 75% |###########################################               | ETA:  0:00:00\r",
        " 76% |############################################              | ETA:  0:00:00\r",
        " 77% |############################################              | ETA:  0:00:00\r",
        " 78% |#############################################             | ETA:  0:00:00\r",
        " 79% |#############################################             | ETA:  0:00:00\r"
       ]
      },
      {
       "output_type": "stream",
       "stream": "stderr",
       "text": [
        " 80% |##############################################            | ETA:  0:00:00\r",
        " 81% |###############################################           | ETA:  0:00:00\r",
        " 82% |###############################################           | ETA:  0:00:00\r",
        " 83% |################################################          | ETA:  0:00:00\r",
        " 84% |################################################          | ETA:  0:00:00\r"
       ]
      },
      {
       "output_type": "stream",
       "stream": "stderr",
       "text": [
        " 85% |#################################################         | ETA:  0:00:00\r",
        " 86% |##################################################        | ETA:  0:00:00\r",
        " 87% |##################################################        | ETA:  0:00:00\r",
        " 88% |###################################################       | ETA:  0:00:00\r",
        " 89% |###################################################       | ETA:  0:00:00\r"
       ]
      },
      {
       "output_type": "stream",
       "stream": "stderr",
       "text": [
        " 90% |####################################################      | ETA:  0:00:00\r",
        " 91% |####################################################      | ETA:  0:00:00\r",
        " 92% |#####################################################     | ETA:  0:00:00\r",
        " 93% |######################################################    | ETA:  0:00:00\r",
        " 94% |######################################################    | ETA:  0:00:00\r"
       ]
      },
      {
       "output_type": "stream",
       "stream": "stderr",
       "text": [
        " 95% |#######################################################   | ETA:  0:00:00\r",
        " 96% |#######################################################   | ETA:  0:00:00\r",
        " 97% |########################################################  | ETA:  0:00:00\r",
        " 98% |######################################################### | ETA:  0:00:00\r",
        " 99% |######################################################### | ETA:  0:00:00\r"
       ]
      },
      {
       "output_type": "stream",
       "stream": "stdout",
       "text": [
        "\n",
        "    density    : 1.08609472918e-05\n",
        "    shape      : (6264, 6264)\n",
        "    nnz        : 92073\n",
        "D Matrix info:\n",
        "    density    : 3.42760386497e-06\n",
        "    shape      : (6264, 6264)\n",
        "    nnz        : 291749\n",
        "MCEqRun::_init_default_matrices():Done filling matrices.\n",
        "MCEqRun::_calculate_integration_path():\n",
        "MCEqRun::_forward_euler(): Solver will perform 4729 integration steps.\n",
        "\n",
        "MCEqRun::_forward_euler(): time elapsed during integration: 1.39992403984 sec"
       ]
      },
      {
       "output_type": "stream",
       "stream": "stdout",
       "text": [
        "\n",
        "InteractionYields::set_xf_band(): limiting Feynman x range to:  0.35 -  0.45\n",
        "MCEqRun::_init_default_matrices():Start filling matrices.\n",
        "MCEqRun::_convert_to_sparse():Converting to sparse (CSR) matrix format."
       ]
      },
      {
       "output_type": "stream",
       "stream": "stdout",
       "text": [
        "\n",
        "C Matrix info:"
       ]
      },
      {
       "output_type": "stream",
       "stream": "stderr",
       "text": [
        "100% |##########################################################| Time: 0:00:01\r\n",
        "  0% |                                                         | ETA:  --:--:--\r"
       ]
      },
      {
       "output_type": "stream",
       "stream": "stderr",
       "text": [
        "  1% |                                                          | ETA:  0:00:01\r",
        "  2% |#                                                         | ETA:  0:00:01\r",
        "  3% |#                                                         | ETA:  0:00:01\r",
        "  4% |##                                                        | ETA:  0:00:01\r",
        "  5% |##                                                        | ETA:  0:00:01\r"
       ]
      },
      {
       "output_type": "stream",
       "stream": "stderr",
       "text": [
        "  6% |###                                                       | ETA:  0:00:01\r",
        "  7% |####                                                      | ETA:  0:00:01\r",
        "  8% |####                                                      | ETA:  0:00:01\r",
        "  9% |#####                                                     | ETA:  0:00:01\r",
        " 10% |#####                                                     | ETA:  0:00:01\r"
       ]
      },
      {
       "output_type": "stream",
       "stream": "stderr",
       "text": [
        " 11% |######                                                    | ETA:  0:00:01\r",
        " 12% |#######                                                   | ETA:  0:00:01\r",
        " 13% |#######                                                   | ETA:  0:00:01\r",
        " 14% |########                                                  | ETA:  0:00:01\r",
        " 15% |########                                                  | ETA:  0:00:01\r"
       ]
      },
      {
       "output_type": "stream",
       "stream": "stderr",
       "text": [
        " 16% |#########                                                 | ETA:  0:00:01\r",
        " 17% |##########                                                | ETA:  0:00:01\r",
        " 18% |##########                                                | ETA:  0:00:01\r",
        " 19% |###########                                               | ETA:  0:00:01\r",
        " 20% |###########                                               | ETA:  0:00:01\r",
        " 21% |############                                              | ETA:  0:00:01\r"
       ]
      },
      {
       "output_type": "stream",
       "stream": "stderr",
       "text": [
        " 22% |############                                              | ETA:  0:00:01\r",
        " 23% |#############                                             | ETA:  0:00:01\r",
        " 24% |##############                                            | ETA:  0:00:00\r",
        " 25% |##############                                            | ETA:  0:00:00\r",
        " 26% |###############                                           | ETA:  0:00:00\r",
        " 27% |###############                                           | ETA:  0:00:00\r"
       ]
      },
      {
       "output_type": "stream",
       "stream": "stderr",
       "text": [
        " 28% |################                                          | ETA:  0:00:00\r",
        " 29% |#################                                         | ETA:  0:00:00\r",
        " 30% |#################                                         | ETA:  0:00:00\r",
        " 31% |##################                                        | ETA:  0:00:00\r",
        " 32% |##################                                        | ETA:  0:00:00\r",
        " 33% |###################                                       | ETA:  0:00:00\r"
       ]
      },
      {
       "output_type": "stream",
       "stream": "stderr",
       "text": [
        " 34% |####################                                      | ETA:  0:00:00\r",
        " 35% |####################                                      | ETA:  0:00:00\r",
        " 36% |#####################                                     | ETA:  0:00:00\r",
        " 37% |#####################                                     | ETA:  0:00:00\r",
        " 38% |######################                                    | ETA:  0:00:00\r"
       ]
      },
      {
       "output_type": "stream",
       "stream": "stderr",
       "text": [
        " 39% |######################                                    | ETA:  0:00:00\r",
        " 40% |#######################                                   | ETA:  0:00:00\r",
        " 41% |########################                                  | ETA:  0:00:00\r",
        " 42% |########################                                  | ETA:  0:00:00\r",
        " 43% |#########################                                 | ETA:  0:00:00\r"
       ]
      },
      {
       "output_type": "stream",
       "stream": "stderr",
       "text": [
        " 44% |#########################                                 | ETA:  0:00:00\r",
        " 45% |##########################                                | ETA:  0:00:00\r",
        " 46% |###########################                               | ETA:  0:00:00\r",
        " 47% |###########################                               | ETA:  0:00:00\r",
        " 48% |############################                              | ETA:  0:00:00\r"
       ]
      },
      {
       "output_type": "stream",
       "stream": "stderr",
       "text": [
        " 49% |############################                              | ETA:  0:00:00\r",
        " 50% |#############################                             | ETA:  0:00:00\r",
        " 51% |##############################                            | ETA:  0:00:00\r",
        " 52% |##############################                            | ETA:  0:00:00\r",
        " 53% |###############################                           | ETA:  0:00:00\r"
       ]
      },
      {
       "output_type": "stream",
       "stream": "stderr",
       "text": [
        " 54% |###############################                           | ETA:  0:00:00\r",
        " 55% |################################                          | ETA:  0:00:00\r",
        " 56% |################################                          | ETA:  0:00:00\r",
        " 57% |#################################                         | ETA:  0:00:00\r"
       ]
      },
      {
       "output_type": "stream",
       "stream": "stderr",
       "text": [
        " 58% |##################################                        | ETA:  0:00:00\r",
        " 59% |##################################                        | ETA:  0:00:00\r",
        " 60% |###################################                       | ETA:  0:00:00\r",
        " 61% |###################################                       | ETA:  0:00:00\r"
       ]
      },
      {
       "output_type": "stream",
       "stream": "stderr",
       "text": [
        " 62% |####################################                      | ETA:  0:00:00\r",
        " 63% |#####################################                     | ETA:  0:00:00\r",
        " 64% |#####################################                     | ETA:  0:00:00\r",
        " 65% |######################################                    | ETA:  0:00:00\r",
        " 66% |######################################                    | ETA:  0:00:00\r"
       ]
      },
      {
       "output_type": "stream",
       "stream": "stderr",
       "text": [
        " 68% |#######################################                   | ETA:  0:00:00\r",
        " 69% |########################################                  | ETA:  0:00:00\r",
        " 70% |########################################                  | ETA:  0:00:00\r",
        " 71% |#########################################                 | ETA:  0:00:00\r",
        " 72% |#########################################                 | ETA:  0:00:00\r"
       ]
      },
      {
       "output_type": "stream",
       "stream": "stderr",
       "text": [
        " 73% |##########################################                | ETA:  0:00:00\r",
        " 74% |##########################################                | ETA:  0:00:00\r",
        " 75% |###########################################               | ETA:  0:00:00\r",
        " 76% |############################################              | ETA:  0:00:00\r",
        " 77% |############################################              | ETA:  0:00:00\r"
       ]
      },
      {
       "output_type": "stream",
       "stream": "stderr",
       "text": [
        " 78% |#############################################             | ETA:  0:00:00\r",
        " 79% |#############################################             | ETA:  0:00:00\r",
        " 80% |##############################################            | ETA:  0:00:00\r",
        " 81% |###############################################           | ETA:  0:00:00\r",
        " 82% |###############################################           | ETA:  0:00:00\r"
       ]
      },
      {
       "output_type": "stream",
       "stream": "stderr",
       "text": [
        " 83% |################################################          | ETA:  0:00:00\r",
        " 84% |################################################          | ETA:  0:00:00\r",
        " 85% |#################################################         | ETA:  0:00:00\r",
        " 86% |##################################################        | ETA:  0:00:00\r",
        " 87% |##################################################        | ETA:  0:00:00\r"
       ]
      },
      {
       "output_type": "stream",
       "stream": "stderr",
       "text": [
        " 88% |###################################################       | ETA:  0:00:00\r",
        " 89% |###################################################       | ETA:  0:00:00\r",
        " 90% |####################################################      | ETA:  0:00:00\r",
        " 91% |####################################################      | ETA:  0:00:00\r",
        " 92% |#####################################################     | ETA:  0:00:00\r"
       ]
      },
      {
       "output_type": "stream",
       "stream": "stderr",
       "text": [
        " 93% |######################################################    | ETA:  0:00:00\r",
        " 94% |######################################################    | ETA:  0:00:00\r",
        " 95% |#######################################################   | ETA:  0:00:00\r",
        " 96% |#######################################################   | ETA:  0:00:00\r",
        " 97% |########################################################  | ETA:  0:00:00\r"
       ]
      },
      {
       "output_type": "stream",
       "stream": "stdout",
       "text": [
        "\n",
        "    density    : 1.06523499084e-05\n",
        "    shape      : (6264, 6264)\n",
        "    nnz        : 93876\n",
        "D Matrix info:\n",
        "    density    : 3.42760386497e-06\n",
        "    shape      : (6264, 6264)\n",
        "    nnz        : 291749\n",
        "MCEqRun::_init_default_matrices():Done filling matrices.\n",
        "MCEqRun::_calculate_integration_path():\n",
        "MCEqRun::_forward_euler(): Solver will perform 4729 integration steps.\n",
        "\n",
        "MCEqRun::_forward_euler(): time elapsed during integration: 1.39230108261 sec"
       ]
      },
      {
       "output_type": "stream",
       "stream": "stdout",
       "text": [
        "\n",
        "InteractionYields::set_xf_band(): limiting Feynman x range to:  0.59 -  1.00\n",
        "MCEqRun::_init_default_matrices():Start filling matrices.\n",
        "MCEqRun::_convert_to_sparse():Converting to sparse (CSR) matrix format."
       ]
      },
      {
       "output_type": "stream",
       "stream": "stdout",
       "text": [
        "\n",
        "C Matrix info:"
       ]
      },
      {
       "output_type": "stream",
       "stream": "stderr",
       "text": [
        " 98% |######################################################### | ETA:  0:00:00\r",
        " 99% |######################################################### | ETA:  0:00:00\r",
        "100% |##########################################################| Time: 0:00:01\r\n",
        "  0% |                                                         | ETA:  --:--:--\r"
       ]
      },
      {
       "output_type": "stream",
       "stream": "stderr",
       "text": [
        "  1% |                                                          | ETA:  0:00:01\r",
        "  2% |#                                                         | ETA:  0:00:01\r",
        "  3% |#                                                         | ETA:  0:00:00\r",
        "  4% |##                                                        | ETA:  0:00:00\r",
        "  5% |##                                                        | ETA:  0:00:00\r",
        "  6% |###                                                       | ETA:  0:00:00\r",
        "  7% |####                                                      | ETA:  0:00:00\r"
       ]
      },
      {
       "output_type": "stream",
       "stream": "stderr",
       "text": [
        "  8% |####                                                      | ETA:  0:00:00\r",
        "  9% |#####                                                     | ETA:  0:00:00\r",
        " 10% |#####                                                     | ETA:  0:00:00\r",
        " 11% |######                                                    | ETA:  0:00:00\r",
        " 12% |#######                                                   | ETA:  0:00:00\r",
        " 13% |#######                                                   | ETA:  0:00:00\r",
        " 14% |########                                                  | ETA:  0:00:00\r"
       ]
      },
      {
       "output_type": "stream",
       "stream": "stderr",
       "text": [
        " 15% |########                                                  | ETA:  0:00:00\r",
        " 16% |#########                                                 | ETA:  0:00:00\r",
        " 17% |##########                                                | ETA:  0:00:00\r",
        " 18% |##########                                                | ETA:  0:00:00\r",
        " 19% |###########                                               | ETA:  0:00:00\r",
        " 20% |###########                                               | ETA:  0:00:00\r",
        " 21% |############                                              | ETA:  0:00:00\r"
       ]
      },
      {
       "output_type": "stream",
       "stream": "stderr",
       "text": [
        " 22% |############                                              | ETA:  0:00:00\r",
        " 23% |#############                                             | ETA:  0:00:00\r",
        " 24% |##############                                            | ETA:  0:00:00\r",
        " 25% |##############                                            | ETA:  0:00:00\r",
        " 26% |###############                                           | ETA:  0:00:00\r",
        " 27% |###############                                           | ETA:  0:00:00\r",
        " 28% |################                                          | ETA:  0:00:00\r"
       ]
      },
      {
       "output_type": "stream",
       "stream": "stderr",
       "text": [
        " 29% |#################                                         | ETA:  0:00:00\r",
        " 30% |#################                                         | ETA:  0:00:00\r",
        " 31% |##################                                        | ETA:  0:00:00\r",
        " 32% |##################                                        | ETA:  0:00:00\r",
        " 33% |###################                                       | ETA:  0:00:00\r",
        " 34% |####################                                      | ETA:  0:00:00\r",
        " 35% |####################                                      | ETA:  0:00:00\r"
       ]
      },
      {
       "output_type": "stream",
       "stream": "stderr",
       "text": [
        " 36% |#####################                                     | ETA:  0:00:00\r",
        " 37% |#####################                                     | ETA:  0:00:00\r",
        " 38% |######################                                    | ETA:  0:00:00\r",
        " 39% |######################                                    | ETA:  0:00:00\r",
        " 40% |#######################                                   | ETA:  0:00:00\r",
        " 41% |########################                                  | ETA:  0:00:00\r",
        " 42% |########################                                  | ETA:  0:00:00\r"
       ]
      },
      {
       "output_type": "stream",
       "stream": "stderr",
       "text": [
        " 43% |#########################                                 | ETA:  0:00:00\r",
        " 44% |#########################                                 | ETA:  0:00:00\r",
        " 45% |##########################                                | ETA:  0:00:00\r",
        " 46% |###########################                               | ETA:  0:00:00\r",
        " 47% |###########################                               | ETA:  0:00:00\r",
        " 48% |############################                              | ETA:  0:00:00\r",
        " 49% |############################                              | ETA:  0:00:00\r"
       ]
      },
      {
       "output_type": "stream",
       "stream": "stderr",
       "text": [
        " 50% |#############################                             | ETA:  0:00:00\r",
        " 51% |##############################                            | ETA:  0:00:00\r",
        " 52% |##############################                            | ETA:  0:00:00\r",
        " 53% |###############################                           | ETA:  0:00:00\r",
        " 54% |###############################                           | ETA:  0:00:00\r",
        " 55% |################################                          | ETA:  0:00:00\r",
        " 56% |################################                          | ETA:  0:00:00\r"
       ]
      },
      {
       "output_type": "stream",
       "stream": "stderr",
       "text": [
        " 57% |#################################                         | ETA:  0:00:00\r",
        " 58% |##################################                        | ETA:  0:00:00\r",
        " 59% |##################################                        | ETA:  0:00:00\r",
        " 60% |###################################                       | ETA:  0:00:00\r",
        " 61% |###################################                       | ETA:  0:00:00\r",
        " 62% |####################################                      | ETA:  0:00:00\r",
        " 63% |#####################################                     | ETA:  0:00:00\r"
       ]
      },
      {
       "output_type": "stream",
       "stream": "stderr",
       "text": [
        " 64% |#####################################                     | ETA:  0:00:00\r",
        " 65% |######################################                    | ETA:  0:00:00\r",
        " 66% |######################################                    | ETA:  0:00:00\r",
        " 68% |#######################################                   | ETA:  0:00:00\r",
        " 69% |########################################                  | ETA:  0:00:00\r",
        " 70% |########################################                  | ETA:  0:00:00\r",
        " 71% |#########################################                 | ETA:  0:00:00\r"
       ]
      },
      {
       "output_type": "stream",
       "stream": "stderr",
       "text": [
        " 72% |#########################################                 | ETA:  0:00:00\r",
        " 73% |##########################################                | ETA:  0:00:00\r",
        " 74% |##########################################                | ETA:  0:00:00\r",
        " 75% |###########################################               | ETA:  0:00:00\r",
        " 76% |############################################              | ETA:  0:00:00\r",
        " 77% |############################################              | ETA:  0:00:00\r",
        " 78% |#############################################             | ETA:  0:00:00\r",
        " 79% |#############################################             | ETA:  0:00:00\r"
       ]
      },
      {
       "output_type": "stream",
       "stream": "stderr",
       "text": [
        " 80% |##############################################            | ETA:  0:00:00\r",
        " 81% |###############################################           | ETA:  0:00:00\r",
        " 82% |###############################################           | ETA:  0:00:00\r",
        " 83% |################################################          | ETA:  0:00:00\r",
        " 84% |################################################          | ETA:  0:00:00\r",
        " 85% |#################################################         | ETA:  0:00:00\r",
        " 86% |##################################################        | ETA:  0:00:00\r"
       ]
      },
      {
       "output_type": "stream",
       "stream": "stderr",
       "text": [
        " 87% |##################################################        | ETA:  0:00:00\r",
        " 88% |###################################################       | ETA:  0:00:00\r",
        " 89% |###################################################       | ETA:  0:00:00\r",
        " 90% |####################################################      | ETA:  0:00:00\r",
        " 91% |####################################################      | ETA:  0:00:00\r",
        " 92% |#####################################################     | ETA:  0:00:00\r",
        " 93% |######################################################    | ETA:  0:00:00\r"
       ]
      },
      {
       "output_type": "stream",
       "stream": "stderr",
       "text": [
        " 94% |######################################################    | ETA:  0:00:00\r",
        " 95% |#######################################################   | ETA:  0:00:00\r",
        " 96% |#######################################################   | ETA:  0:00:00\r",
        " 97% |########################################################  | ETA:  0:00:00\r",
        " 98% |######################################################### | ETA:  0:00:00\r",
        " 99% |######################################################### | ETA:  0:00:00\r",
        "100% |##########################################################| Time: 0:00:00\r"
       ]
      },
      {
       "output_type": "stream",
       "stream": "stdout",
       "text": [
        "\n",
        "    density    : 9.84940263373e-06\n",
        "    shape      : (6264, 6264)\n",
        "    nnz        : 101529\n",
        "D Matrix info:\n",
        "    density    : 3.42760386497e-06\n",
        "    shape      : (6264, 6264)\n",
        "    nnz        : 291749\n",
        "MCEqRun::_init_default_matrices():Done filling matrices.\n",
        "MCEqRun::_calculate_integration_path():\n",
        "MCEqRun::_forward_euler(): Solver will perform 4729 integration steps.\n",
        "\n",
        "MCEqRun::_forward_euler(): time elapsed during integration: 0.872236013412 sec"
       ]
      },
      {
       "output_type": "stream",
       "stream": "stdout",
       "text": [
        "\n",
        "InteractionYields::set_xf_band(): limiting Feynman x range to:  0.00 -  1.00\n",
        "MCEqRun::_init_default_matrices():Start filling matrices.\n",
        "MCEqRun::_convert_to_sparse():Converting to sparse (CSR) matrix format."
       ]
      },
      {
       "output_type": "stream",
       "stream": "stdout",
       "text": [
        "\n",
        "C Matrix info:"
       ]
      },
      {
       "output_type": "stream",
       "stream": "stderr",
       "text": [
        "\n",
        "  0% |                                                         | ETA:  --:--:--\r"
       ]
      },
      {
       "output_type": "stream",
       "stream": "stderr",
       "text": [
        "  1% |                                                          | ETA:  0:00:01\r",
        "  2% |#                                                         | ETA:  0:00:01\r",
        "  3% |#                                                         | ETA:  0:00:01\r",
        "  4% |##                                                        | ETA:  0:00:01\r",
        "  5% |##                                                        | ETA:  0:00:01\r",
        "  6% |###                                                       | ETA:  0:00:01\r"
       ]
      },
      {
       "output_type": "stream",
       "stream": "stderr",
       "text": [
        "  7% |####                                                      | ETA:  0:00:01\r",
        "  8% |####                                                      | ETA:  0:00:01\r",
        "  9% |#####                                                     | ETA:  0:00:01\r",
        " 10% |#####                                                     | ETA:  0:00:01\r",
        " 11% |######                                                    | ETA:  0:00:01\r",
        " 12% |#######                                                   | ETA:  0:00:01\r"
       ]
      },
      {
       "output_type": "stream",
       "stream": "stderr",
       "text": [
        " 13% |#######                                                   | ETA:  0:00:01\r",
        " 14% |########                                                  | ETA:  0:00:01\r",
        " 15% |########                                                  | ETA:  0:00:01\r",
        " 16% |#########                                                 | ETA:  0:00:00\r",
        " 17% |##########                                                | ETA:  0:00:00\r",
        " 18% |##########                                                | ETA:  0:00:00\r"
       ]
      },
      {
       "output_type": "stream",
       "stream": "stderr",
       "text": [
        " 19% |###########                                               | ETA:  0:00:00\r",
        " 20% |###########                                               | ETA:  0:00:00\r",
        " 21% |############                                              | ETA:  0:00:00\r",
        " 22% |############                                              | ETA:  0:00:00\r",
        " 23% |#############                                             | ETA:  0:00:00\r",
        " 24% |##############                                            | ETA:  0:00:00\r"
       ]
      },
      {
       "output_type": "stream",
       "stream": "stderr",
       "text": [
        " 25% |##############                                            | ETA:  0:00:00\r",
        " 26% |###############                                           | ETA:  0:00:00\r",
        " 27% |###############                                           | ETA:  0:00:00\r",
        " 28% |################                                          | ETA:  0:00:00\r",
        " 29% |#################                                         | ETA:  0:00:00\r",
        " 30% |#################                                         | ETA:  0:00:00\r"
       ]
      },
      {
       "output_type": "stream",
       "stream": "stderr",
       "text": [
        " 31% |##################                                        | ETA:  0:00:00\r",
        " 32% |##################                                        | ETA:  0:00:00\r",
        " 33% |###################                                       | ETA:  0:00:00\r",
        " 34% |####################                                      | ETA:  0:00:00\r",
        " 35% |####################                                      | ETA:  0:00:00\r",
        " 36% |#####################                                     | ETA:  0:00:00\r"
       ]
      },
      {
       "output_type": "stream",
       "stream": "stderr",
       "text": [
        " 37% |#####################                                     | ETA:  0:00:00\r",
        " 38% |######################                                    | ETA:  0:00:00\r",
        " 39% |######################                                    | ETA:  0:00:00\r",
        " 40% |#######################                                   | ETA:  0:00:00\r",
        " 41% |########################                                  | ETA:  0:00:00\r",
        " 42% |########################                                  | ETA:  0:00:00\r"
       ]
      },
      {
       "output_type": "stream",
       "stream": "stderr",
       "text": [
        " 43% |#########################                                 | ETA:  0:00:00\r",
        " 44% |#########################                                 | ETA:  0:00:00\r",
        " 45% |##########################                                | ETA:  0:00:00\r",
        " 46% |###########################                               | ETA:  0:00:00\r",
        " 47% |###########################                               | ETA:  0:00:00\r",
        " 48% |############################                              | ETA:  0:00:00\r"
       ]
      },
      {
       "output_type": "stream",
       "stream": "stderr",
       "text": [
        " 49% |############################                              | ETA:  0:00:00\r",
        " 50% |#############################                             | ETA:  0:00:00\r",
        " 51% |##############################                            | ETA:  0:00:00\r",
        " 52% |##############################                            | ETA:  0:00:00\r",
        " 53% |###############################                           | ETA:  0:00:00\r",
        " 54% |###############################                           | ETA:  0:00:00\r"
       ]
      },
      {
       "output_type": "stream",
       "stream": "stderr",
       "text": [
        " 55% |################################                          | ETA:  0:00:00\r",
        " 56% |################################                          | ETA:  0:00:00\r",
        " 57% |#################################                         | ETA:  0:00:00\r",
        " 58% |##################################                        | ETA:  0:00:00\r",
        " 59% |##################################                        | ETA:  0:00:00\r",
        " 60% |###################################                       | ETA:  0:00:00\r"
       ]
      },
      {
       "output_type": "stream",
       "stream": "stderr",
       "text": [
        " 61% |###################################                       | ETA:  0:00:00\r",
        " 62% |####################################                      | ETA:  0:00:00\r",
        " 63% |#####################################                     | ETA:  0:00:00\r",
        " 64% |#####################################                     | ETA:  0:00:00\r",
        " 65% |######################################                    | ETA:  0:00:00\r",
        " 66% |######################################                    | ETA:  0:00:00\r"
       ]
      },
      {
       "output_type": "stream",
       "stream": "stderr",
       "text": [
        " 68% |#######################################                   | ETA:  0:00:00\r",
        " 69% |########################################                  | ETA:  0:00:00\r",
        " 70% |########################################                  | ETA:  0:00:00\r",
        " 71% |#########################################                 | ETA:  0:00:00\r",
        " 72% |#########################################                 | ETA:  0:00:00\r",
        " 73% |##########################################                | ETA:  0:00:00\r"
       ]
      },
      {
       "output_type": "stream",
       "stream": "stderr",
       "text": [
        " 74% |##########################################                | ETA:  0:00:00\r",
        " 75% |###########################################               | ETA:  0:00:00\r",
        " 76% |############################################              | ETA:  0:00:00\r",
        " 77% |############################################              | ETA:  0:00:00\r",
        " 78% |#############################################             | ETA:  0:00:00\r",
        " 79% |#############################################             | ETA:  0:00:00\r"
       ]
      },
      {
       "output_type": "stream",
       "stream": "stderr",
       "text": [
        " 80% |##############################################            | ETA:  0:00:00\r",
        " 81% |###############################################           | ETA:  0:00:00\r",
        " 82% |###############################################           | ETA:  0:00:00\r",
        " 83% |################################################          | ETA:  0:00:00\r",
        " 84% |################################################          | ETA:  0:00:00\r",
        " 85% |#################################################         | ETA:  0:00:00\r"
       ]
      },
      {
       "output_type": "stream",
       "stream": "stderr",
       "text": [
        " 86% |##################################################        | ETA:  0:00:00\r",
        " 87% |##################################################        | ETA:  0:00:00\r",
        " 88% |###################################################       | ETA:  0:00:00\r",
        " 89% |###################################################       | ETA:  0:00:00\r",
        " 90% |####################################################      | ETA:  0:00:00\r",
        " 91% |####################################################      | ETA:  0:00:00\r"
       ]
      },
      {
       "output_type": "stream",
       "stream": "stderr",
       "text": [
        " 92% |#####################################################     | ETA:  0:00:00\r",
        " 93% |######################################################    | ETA:  0:00:00\r",
        " 94% |######################################################    | ETA:  0:00:00\r",
        " 95% |#######################################################   | ETA:  0:00:00\r",
        " 96% |#######################################################   | ETA:  0:00:00\r",
        " 97% |########################################################  | ETA:  0:00:00\r"
       ]
      },
      {
       "output_type": "stream",
       "stream": "stdout",
       "text": [
        "\n",
        "    density    : 2.18424070333e-06\n",
        "    shape      : (6264, 6264)\n",
        "    nnz        : 457825\n",
        "D Matrix info:\n",
        "    density    : 3.42760386497e-06\n",
        "    shape      : (6264, 6264)\n",
        "    nnz        : 291749\n",
        "MCEqRun::_init_default_matrices():Done filling matrices.\n",
        "MCEqRun::_calculate_integration_path():\n",
        "MCEqRun::_forward_euler(): Solver will perform 4729 integration steps.\n",
        "\n",
        "MCEqRun::_forward_euler(): time elapsed during integration: 1.15444993973 sec"
       ]
      },
      {
       "output_type": "stream",
       "stream": "stdout",
       "text": [
        "\n"
       ]
      },
      {
       "output_type": "stream",
       "stream": "stderr",
       "text": [
        " 98% |######################################################### | ETA:  0:00:00\r",
        " 99% |######################################################### | ETA:  0:00:00\r",
        "100% |##########################################################| Time: 0:00:01\r\n"
       ]
      }
     ],
     "prompt_number": 4
    },
    {
     "cell_type": "code",
     "collapsed": false,
     "input": [
      "from matplotlib import cm\n",
      "e_grid = mceq_run.e_grid\n",
      "colors = np.linspace(0,1,len(flux_ranges) - 1)\n",
      "#get path of the home directory + Desktop\n",
      "part = 'conv'\n",
      "save_pdf = True\n",
      "desktop = os.path.join(os.path.expanduser(\"~\"),'Desktop/plots_new_sibyll')\n",
      "\n",
      "for pref, lab in [('mu_',r'\\mu'), ('numu_',r'\\nu_\\mu'), ('nue_',r'\\nu_e')]:\n",
      "    plt.figure(figsize=(4., 3))\n",
      "    ref = sum([flux[pref + part] for flux in flux_ranges[:-1]])\n",
      "#    ref = flux_ranges[-1][pref + 'total']#sum([flux[pref + 'total'] for flux in flux_ranges[:-1]])\n",
      "    between = None\n",
      "    for i, t in enumerate(range_tups[:-1]):#\n",
      "        \n",
      "        r_str = '{0:5.2f} - {1:5.2f}'.format(xf_bins[t[0]], \n",
      "                                             xf_bins[t[1] + 1 if t[1] != -1 else t[1]])\n",
      "        flux = flux_ranges[i]\n",
      "        print r_str\n",
      "        if i == 0:\n",
      "            between = np.zeros_like(ref)\n",
      "        else:\n",
      "            between += flux_ranges[i - 1][pref + part]/ref\n",
      "        plt.fill_between(e_grid,between, flux[pref + part]/ref+between,\n",
      "                         color=cm.jet(float(i)/(len(flux_ranges)-1.),1. ), \n",
      "                         label=r_str)\n",
      "        plt.semilogx(e_grid,  flux[pref + part]/ref+between, \n",
      "                     color=cm.jet(float(i)/(len(flux_ranges)-1.),1. ), \n",
      "                     ls='-', lw=1.5,label=r_str)\n",
      "#         plt.loglog(e_grid, flux[pref + 'pr'], color='r',ls='--', lw=1.5, \n",
      "#                    label='prompt ${0}$'.format(lab))\n",
      "        plt.semilogx()    \n",
      "        plt.xlim(55,1e9)\n",
      "        plt.ylim(0,1.5)\n",
      "        plt.xlabel(r\"$E_{{{0}}}$ [GeV]\".format(lab))\n",
      "        plt.ylabel(r'${0}$ fraction'.format(lab))\n",
      "#         plt.ylabel(r\"$\\Phi_{\" + lab + \"}$ (E/GeV)$^{\" + str(mag) +\" }$\" + \n",
      "#                    \"(cm$^{2}$ s sr GeV)$^{-1}$\")\n",
      "        plt.legend(loc='upper right',ncol=2)\n",
      "        plt.tight_layout()\n",
      "        if save_pdf: plt.savefig(os.path.join(desktop, 'xf-range-fractions/' +\n",
      "                                              pref + part + '_sib21.pdf'))"
     ],
     "language": "python",
     "metadata": {},
     "outputs": [
      {
       "output_type": "stream",
       "stream": "stdout",
       "text": [
        " 0.00 -  0.09\n",
        " 0.09 -  0.20"
       ]
      },
      {
       "output_type": "stream",
       "stream": "stdout",
       "text": [
        "\n",
        " 0.20 -  0.35"
       ]
      },
      {
       "output_type": "stream",
       "stream": "stdout",
       "text": [
        "\n",
        " 0.35 -  0.59"
       ]
      },
      {
       "output_type": "stream",
       "stream": "stdout",
       "text": [
        "\n",
        " 0.59 -  1.00"
       ]
      },
      {
       "output_type": "stream",
       "stream": "stdout",
       "text": [
        "\n",
        " 0.00 -  0.09"
       ]
      },
      {
       "output_type": "stream",
       "stream": "stdout",
       "text": [
        "\n",
        " 0.09 -  0.20"
       ]
      },
      {
       "output_type": "stream",
       "stream": "stdout",
       "text": [
        "\n",
        " 0.20 -  0.35"
       ]
      },
      {
       "output_type": "stream",
       "stream": "stdout",
       "text": [
        "\n",
        " 0.35 -  0.59"
       ]
      },
      {
       "output_type": "stream",
       "stream": "stdout",
       "text": [
        "\n",
        " 0.59 -  1.00"
       ]
      },
      {
       "output_type": "stream",
       "stream": "stdout",
       "text": [
        "\n",
        " 0.00 -  0.09"
       ]
      },
      {
       "output_type": "stream",
       "stream": "stdout",
       "text": [
        "\n",
        " 0.09 -  0.20"
       ]
      },
      {
       "output_type": "stream",
       "stream": "stdout",
       "text": [
        "\n",
        " 0.20 -  0.35"
       ]
      },
      {
       "output_type": "stream",
       "stream": "stdout",
       "text": [
        "\n",
        " 0.35 -  0.59"
       ]
      },
      {
       "output_type": "stream",
       "stream": "stdout",
       "text": [
        "\n",
        " 0.59 -  1.00"
       ]
      },
      {
       "output_type": "stream",
       "stream": "stdout",
       "text": [
        "\n"
       ]
      },
      {
       "metadata": {},
       "output_type": "display_data",
       "png": "[encoded data removed]",
       "text": [
        "<matplotlib.figure.Figure at 0x1443e9dd0>"
       ]
      },
      {
       "metadata": {},
       "output_type": "display_data",
       "png": "[encoded data removed]",
       "text": [
        "<matplotlib.figure.Figure at 0x144198690>"
       ]
      },
      {
       "metadata": {},
       "output_type": "display_data",
       "png": "[encoded data removed]",
       "text": [
        "<matplotlib.figure.Figure at 0x14496e810>"
       ]
      }
     ],
     "prompt_number": 7
    },
    {
     "cell_type": "code",
     "collapsed": false,
     "input": [
      "mat3 = np.zeros((mceq_run.y.dim,mceq_run.y.dim))\n",
      "mceq_run.y.band = None\n",
      "mceq_run.y.assign_yield_idx(2212,(0,mceq_run.y.dim),211,(0,mceq_run.y.dim),mat3)\n",
      "plt.spy(mat3)"
     ],
     "language": "python",
     "metadata": {},
     "outputs": [
      {
       "metadata": {},
       "output_type": "pyout",
       "prompt_number": 123,
       "text": [
        "<matplotlib.image.AxesImage at 0x140eb6ed0>"
       ]
      },
      {
       "metadata": {},
       "output_type": "display_data",
       "png": "[encoded data removed]",
       "text": [
        "<matplotlib.figure.Figure at 0x13af2af10>"
       ]
      }
     ],
     "prompt_number": 123
    }
   ],
   "metadata": {}
  }
 ]
}