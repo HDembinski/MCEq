{
 "cells": [
  {
   "cell_type": "markdown",
   "metadata": {},
   "source": [
    "Calculates the contribution of Feynman-x ranges to atm. lepton flux\n",
    "-------------------------------------------------------------------"
   ]
  },
  {
   "cell_type": "code",
   "execution_count": 1,
   "metadata": {
    "collapsed": false
   },
   "outputs": [],
   "source": [
    "#basic imports and ipython setup\n",
    "%load_ext autoreload\n",
    "%matplotlib inline\n",
    "%autoreload 2\n",
    "import os\n",
    "\n",
    "\n",
    "import matplotlib.pyplot as plt\n",
    "import numpy as np\n",
    "os.chdir('..')\n",
    "\n",
    "#import solver related modules\n",
    "from MCEq.core import MCEqRun\n",
    "from mceq_config import config\n",
    "#import primary model choices\n",
    "import CRFluxModels as pm"
   ]
  },
  {
   "cell_type": "code",
   "execution_count": 51,
   "metadata": {
    "collapsed": false
   },
   "outputs": [
    {
     "name": "stdout",
     "output_type": "stream",
     "text": [
      "\n",
      "Hadrons:\n",
      "\n",
      "\"p-bar\", \"p\", \"n-bar\", \"n\", \"pi+\", \"pi-\", \"K0L\", \"K+\", \n",
      "\"K-\"\n",
      "\n",
      "Mixed:\n",
      "\n",
      "\"Lambda0-bar\", \"Lambda0\", \"Xi0-bar\", \"Xi0\", \"K0S\", \"Xi--bar\", \"Xi-\", \"Sigma--bar\", \n",
      "\"Sigma-\", \"Sigma+-bar\", \"Sigma+\", \"Omega--bar\", \"Omega-\", \"D+\", \"D-\", \"Ds+\", \n",
      "\"Ds-\", \"D0\", \"D0-bar\", \"XiC+-bar\", \"XiC+\", \"tau+\", \"tau-\", \"LambdaC+-bar\", \n",
      "\"LambdaC+\", \"XiC0-bar\", \"XiC0\", \"OmegaC0-bar\", \"OmegaC0\", \"pi0\"\n",
      "\n",
      "Resonances:\n",
      "\n",
      "\"eta\", \"Sigma0-bar\", \"Sigma0\", \"D*+\", \"D*-\", \"eta*\", \"jpsi\", \"phi\", \n",
      "\"SigmaC0-bar\", \"SigmaC0\", \"SigmaC+-bar\", \"SigmaC+\", \"SigmaC++-bar\", \"SigmaC++\", \"omega\", \"Xi*0-bar\", \n",
      "\"Xi*0\", \"Xi*--bar\", \"Xi*-\", \"SigmaC*0-bar\", \"SigmaC*0\", \"SigmaC*++-bar\", \"SigmaC*++\", \"SigmaC*+-bar\", \n",
      "\"SigmaC*+\", \"K*0\", \"K*0-bar\", \"K*+\", \"K*-\", \"Sigma*+-bar\", \"Sigma*+\", \"Sigma*0-bar\", \n",
      "\"Sigma*0\", \"Sigma*--bar\", \"Sigma*-\", \"etaC\", \"rho+\", \"rho-\", \"rho0\", \"Delta--bar\", \n",
      "\"Delta0-bar\", \"Delta+-bar\", \"Delta++-bar\", \"Delta++\", \"Delta+\", \"Delta0\", \"Delta-\", \"D*0\", \n",
      "\"D*0-bar\", \"XiC*0-bar\", \"XiC*+-bar\", \"XiC*+\", \"XiC*0\", \"Ds*+\", \"Ds*-\"\n",
      "\n",
      "Leptons:\n",
      "\n",
      "\"nue\", \"numu\", \"nutau\", \"antinue\", \"antinumu\", \"antinutau\", \"nue\", \"numu\", \n",
      "\"nutau\", \"antinue\", \"antinumu\", \"antinutau\", \"mu-\", \"mu+\", \"mu-\", \"mu+\"\n",
      "\n",
      "Aliases:\n",
      "\"pr_nue\", \"pr_numu\", \"pr_nutau\", \"pi_nue\", \"pi_numu\", \"pi_nutau\", \"k_nue\", \"k_numu\", \n",
      "\"k_nutau\", \"obs_nue\", \"obs_numu\", \"obs_nutau\", \"pr_antinue\", \"pr_antinumu\", \"pr_antinutau\", \"pi_antinue\", \n",
      "\"pi_antinumu\", \"pi_antinutau\", \"k_antinue\", \"k_antinumu\", \"k_antinutau\", \"obs_antinue\", \"obs_antinumu\", \"obs_antinutau\", \n",
      "\"pr_mu-\", \"pi_mu-\", \"k_mu-\", \"obs_mu-\", \"pr_mu+\", \"pi_mu+\", \"k_mu+\", \"obs_mu+\"\n",
      "\n",
      "Total number of species: 87\n",
      "MCEqRun::set_interaction_model():  SIBYLL2.3_rc2\n",
      "InteractionYields:set_interaction_model():: Model SIBYLL2.3_rc2 already loaded.\n",
      "MCEqRun::_init_default_matrices():Start filling matrices.\n",
      "MCEqRun::_convert_to_sparse():Converting to sparse (CSR) matrix format.\n",
      "C Matrix info:\n",
      "    density    : 7.48871263788e-07\n",
      "    shape      : (6264, 6264)\n",
      "    nnz        : 1335343\n",
      "D Matrix info:\n",
      "    density    : 3.44531764106e-06\n",
      "    shape      : (6264, 6264)\n",
      "    nnz        : 290249\n",
      "MCEqRun::_init_default_matrices():Done filling matrices.\n",
      "MCEqRun::set_density_model():  CORSIKA BK_USStd None\n",
      "MCEqRun::set_theta_deg():  90.0\n",
      "atmospheres::_load_cache(): loading cache.\n",
      "MCEqRun::set_primary_model():  Thunman None\n"
     ]
    }
   ],
   "source": [
    "mceq_run = MCEqRun(\n",
    "#provide the string of the interaction model\n",
    "interaction_model='SIBYLL2.3_rc2',\n",
    "#primary cosmic ray flux model\n",
    "#support a tuple (primary model class (not instance!), arguments)\n",
    "primary_model=(pm.Thunman, None),\n",
    "# Zenith angle in degrees. 0=vertical, 90=horizontal\n",
    "theta_deg=90.0,\n",
    "#expand the rest of the options from mceq_config.py\n",
    "**config\n",
    ")"
   ]
  },
  {
   "cell_type": "markdown",
   "metadata": {},
   "source": [
    "Select xf ranges by combining indices to tuples\n",
    "-----------------------------------------------"
   ]
  },
  {
   "cell_type": "code",
   "execution_count": 45,
   "metadata": {
    "collapsed": false
   },
   "outputs": [
    {
     "name": "stdout",
     "output_type": "stream",
     "text": [
      "\n",
      "index | xf value\n",
      "  -15       0.02\n",
      "  -14       0.03\n",
      "  -13       0.04\n",
      "  -12       0.05\n",
      "  -11       0.07\n",
      "  -10       0.09\n",
      "   -9       0.12\n",
      "   -8       0.16\n",
      "   -7       0.20\n",
      "   -6       0.27\n",
      "   -5       0.35\n",
      "   -4       0.45\n",
      "   -3       0.59\n",
      "   -2       0.77\n",
      "   -1       1.00\n",
      "\n",
      "Following xf ranges are configured\n",
      " 0.00 -  0.09\n",
      " 0.09 -  0.20\n",
      " 0.20 -  0.35\n",
      " 0.35 -  0.59\n",
      " 0.59 -  1.00\n",
      " 0.00 -  1.00\n"
     ]
    }
   ],
   "source": [
    "print '\\nindex | xf value'\n",
    "xf_bins = mceq_run.y.e_bins/mceq_run.y.e_bins[-1]\n",
    "for i, e in enumerate(xf_bins[-15:]):\n",
    "    print '{0:5}       {1:3.2f}'.format(i-15, e) \n",
    "\n",
    "range_tups = [(0, -11), (-10,-8), (-7,-6), (-5,-4), (-3,-1), (0,-1)]\n",
    "\n",
    "print \"\\nFollowing xf ranges are configured\"\n",
    "\n",
    "for t in range_tups:\n",
    "    if t: print '{0:5.2f} - {1:5.2f}'.format(xf_bins[t[0]], \n",
    "                                             xf_bins[t[1] + 1 if t[1] != -1 else t[1]])"
   ]
  },
  {
   "cell_type": "code",
   "execution_count": 52,
   "metadata": {
    "collapsed": false
   },
   "outputs": [
    {
     "name": "stdout",
     "output_type": "stream",
     "text": [
      "InteractionYields::set_xf_band(): limiting Feynman x range to:  0.00 -  0.07\n",
      "MCEqRun::_init_default_matrices():Start filling matrices.\n",
      "MCEqRun::_convert_to_sparse():Converting to sparse (CSR) matrix format.\n",
      "C Matrix info:"
     ]
    },
    {
     "name": "stderr",
     "output_type": "stream",
     "text": []
    },
    {
     "name": "stdout",
     "output_type": "stream",
     "text": [
      "\n",
      "    density    : 9.87084005784e-07\n",
      "    shape      : (6264, 6264)\n",
      "    nnz        : 1013085\n",
      "D Matrix info:\n",
      "    density    : 3.44531764106e-06\n",
      "    shape      : (6264, 6264)\n",
      "    nnz        : 290249\n",
      "MCEqRun::_init_default_matrices():Done filling matrices.\n",
      "MCEqRun::_calculate_integration_path():\n",
      "MCEqRun::_forward_euler(): Solver will perform 50480 integration steps."
     ]
    },
    {
     "name": "stderr",
     "output_type": "stream",
     "text": [
      "100% |##########################################################| Time: 0:00:00\n"
     ]
    },
    {
     "name": "stdout",
     "output_type": "stream",
     "text": [
      "\n",
      "\n",
      "MCEqRun::_forward_euler(): time elapsed during integration: 26.3393108845 sec\n",
      "InteractionYields::set_xf_band(): limiting Feynman x range to:  0.09 -  0.16\n",
      "MCEqRun::_init_default_matrices():Start filling matrices.\n",
      "MCEqRun::_convert_to_sparse():Converting to sparse (CSR) matrix format.\n",
      "C Matrix info:"
     ]
    },
    {
     "name": "stderr",
     "output_type": "stream",
     "text": [
      "\n"
     ]
    },
    {
     "name": "stdout",
     "output_type": "stream",
     "text": [
      "\n",
      "    density    : 2.29173303144e-06\n",
      "    shape      : (6264, 6264)\n",
      "    nnz        : 436351\n",
      "D Matrix info:\n",
      "    density    : 3.44531764106e-06\n",
      "    shape      : (6264, 6264)\n",
      "    nnz        : 290249\n",
      "MCEqRun::_init_default_matrices():Done filling matrices.\n",
      "MCEqRun::_calculate_integration_path():\n",
      "MCEqRun::_forward_euler(): Solver will perform 50480 integration steps.\n",
      "\n",
      "MCEqRun::_forward_euler(): time elapsed during integration: 14.000025034 sec\n",
      "InteractionYields::set_xf_band(): limiting Feynman x range to:  0.20 -  0.27\n",
      "MCEqRun::_init_default_matrices():Start filling matrices.\n",
      "MCEqRun::_convert_to_sparse():Converting to sparse (CSR) matrix format.\n",
      "C Matrix info:"
     ]
    },
    {
     "name": "stderr",
     "output_type": "stream",
     "text": [
      "\n"
     ]
    },
    {
     "name": "stdout",
     "output_type": "stream",
     "text": [
      "\n",
      "    density    : 2.62147935323e-06\n",
      "    shape      : (6264, 6264)\n",
      "    nnz        : 381464\n",
      "D Matrix info:\n",
      "    density    : 3.44531764106e-06\n",
      "    shape      : (6264, 6264)\n",
      "    nnz        : 290249\n",
      "MCEqRun::_init_default_matrices():Done filling matrices.\n",
      "MCEqRun::_calculate_integration_path():\n",
      "MCEqRun::_forward_euler(): Solver will perform 50480 integration steps.\n",
      "\n",
      "MCEqRun::_forward_euler(): time elapsed during integration: 13.3425412178 sec\n",
      "InteractionYields::set_xf_band(): limiting Feynman x range to:  0.35 -  0.45\n",
      "MCEqRun::_init_default_matrices():Start filling matrices.\n",
      "MCEqRun::_convert_to_sparse():Converting to sparse (CSR) matrix format.\n",
      "C Matrix info:"
     ]
    },
    {
     "name": "stderr",
     "output_type": "stream",
     "text": [
      "\n"
     ]
    },
    {
     "name": "stdout",
     "output_type": "stream",
     "text": [
      "\n",
      "    density    : 2.78642343048e-06\n",
      "    shape      : (6264, 6264)\n",
      "    nnz        : 358883\n",
      "D Matrix info:\n",
      "    density    : 3.44531764106e-06\n",
      "    shape      : (6264, 6264)\n",
      "    nnz        : 290249\n",
      "MCEqRun::_init_default_matrices():Done filling matrices.\n",
      "MCEqRun::_calculate_integration_path():\n",
      "MCEqRun::_forward_euler(): Solver will perform 50480 integration steps.\n",
      "\n",
      "MCEqRun::_forward_euler(): time elapsed during integration: 12.5321269035 sec\n",
      "InteractionYields::set_xf_band(): limiting Feynman x range to:  0.59 -  1.00\n",
      "MCEqRun::_init_default_matrices():Start filling matrices.\n",
      "MCEqRun::_convert_to_sparse():Converting to sparse (CSR) matrix format.\n",
      "C Matrix info:"
     ]
    },
    {
     "name": "stderr",
     "output_type": "stream",
     "text": [
      "\n"
     ]
    },
    {
     "name": "stdout",
     "output_type": "stream",
     "text": [
      "\n",
      "    density    : 3.23292932493e-06\n",
      "    shape      : (6264, 6264)\n",
      "    nnz        : 309317\n",
      "D Matrix info:\n",
      "    density    : 3.44531764106e-06\n",
      "    shape      : (6264, 6264)\n",
      "    nnz        : 290249\n",
      "MCEqRun::_init_default_matrices():Done filling matrices.\n",
      "MCEqRun::_calculate_integration_path():\n",
      "MCEqRun::_forward_euler(): Solver will perform 50480 integration steps.\n",
      "\n",
      "MCEqRun::_forward_euler(): time elapsed during integration: 11.0777420998 sec\n",
      "InteractionYields::set_xf_band(): limiting Feynman x range to:  0.00 -  1.00\n",
      "MCEqRun::_init_default_matrices():Start filling matrices.\n",
      "MCEqRun::_convert_to_sparse():Converting to sparse (CSR) matrix format.\n",
      "C Matrix info:"
     ]
    },
    {
     "name": "stderr",
     "output_type": "stream",
     "text": [
      "\n"
     ]
    },
    {
     "name": "stdout",
     "output_type": "stream",
     "text": [
      "\n",
      "    density    : 7.48871263788e-07\n",
      "    shape      : (6264, 6264)\n",
      "    nnz        : 1335343\n",
      "D Matrix info:\n",
      "    density    : 3.44531764106e-06\n",
      "    shape      : (6264, 6264)\n",
      "    nnz        : 290249\n",
      "MCEqRun::_init_default_matrices():Done filling matrices.\n",
      "MCEqRun::_calculate_integration_path():\n",
      "MCEqRun::_forward_euler(): Solver will perform 50480 integration steps.\n",
      "\n",
      "MCEqRun::_forward_euler(): time elapsed during integration: 34.9784879684 sec\n"
     ]
    },
    {
     "name": "stderr",
     "output_type": "stream",
     "text": [
      "100% |##########################################################| Time: 0:00:34\r\n"
     ]
    }
   ],
   "source": [
    "flux_ranges = []\n",
    "mag = 0\n",
    "for t in range_tups:\n",
    "    if t == None:\n",
    "        mceq_run.y.band = None\n",
    "    else:\n",
    "        mceq_run.y.set_xf_band(*t)\n",
    "        \n",
    "    mceq_run._init_default_matrices()\n",
    "    mceq_run.solve()\n",
    "    #Retrieve the flux at the surface by using the aliases which were listed in the\n",
    "    #output during the MCEqRun initialization. \n",
    "    flux = {}\n",
    "    #_conv means conventional (mostly pions and kaons)\n",
    "    flux['mu_conv'] = (mceq_run.get_solution('conv_mu+', mag)\n",
    "                       + mceq_run.get_solution('conv_mu-', mag))\n",
    "\n",
    "    # _pr means prompt (the mother of the muon had a critical energy\n",
    "    # higher than a D meson. Includes all charm and direct resonance\n",
    "    # contribution)\n",
    "    flux['mu_pr'] = (mceq_run.get_solution('pr_mu+', mag)\n",
    "                     + mceq_run.get_solution('pr_mu-', mag))\n",
    "\n",
    "    # total means conventional + prompt\n",
    "    flux['mu_total'] = (mceq_run.get_solution('total_mu+', mag)\n",
    "                        + mceq_run.get_solution('total_mu-', mag))\n",
    "    \n",
    "    # pi\n",
    "    flux['mu_pi'] = (mceq_run.get_solution('pi_mu+', mag)\n",
    "                        + mceq_run.get_solution('pi_mu-', mag))\n",
    "\n",
    "    # k\n",
    "    flux['mu_k'] = (mceq_run.get_solution('k_mu+', mag)\n",
    "                        + mceq_run.get_solution('k_mu-', mag))\n",
    "    \n",
    "    # same meaning of prefixes for muon neutrinos as for muons\n",
    "    flux['numu_conv'] = (mceq_run.get_solution('conv_numu', mag)\n",
    "                         + mceq_run.get_solution('conv_antinumu', mag))\n",
    "\n",
    "    flux['numu_pr'] = (mceq_run.get_solution('pr_numu', mag)\n",
    "                       + mceq_run.get_solution('pr_antinumu', mag))\n",
    "\n",
    "    flux['numu_total'] = (mceq_run.get_solution('total_numu', mag)\n",
    "                          + mceq_run.get_solution('total_antinumu', mag))\n",
    "    \n",
    "    # pi\n",
    "    flux['numu_pi'] = (mceq_run.get_solution('pi_numu', mag)\n",
    "                        + mceq_run.get_solution('pi_antinumu', mag))\n",
    "\n",
    "    # k\n",
    "    flux['numu_k'] = (mceq_run.get_solution('k_numu', mag)\n",
    "                        + mceq_run.get_solution('k_antinumu', mag))\n",
    "    \n",
    "    # same meaning of prefixes for electron neutrinos as for muons\n",
    "    flux['nue_conv'] = (mceq_run.get_solution('conv_nue', mag)\n",
    "                        + mceq_run.get_solution('conv_antinue', mag))\n",
    "\n",
    "    flux['nue_pr'] = (mceq_run.get_solution('pr_nue', mag)\n",
    "                      + mceq_run.get_solution('pr_antinue', mag))\n",
    "\n",
    "    flux['nue_total'] = (mceq_run.get_solution('total_nue', mag)\n",
    "                         + mceq_run.get_solution('total_antinue', mag))\n",
    "\n",
    "    # pi\n",
    "    flux['nue_pi'] = (mceq_run.get_solution('pi_nue', mag)\n",
    "                        + mceq_run.get_solution('pi_antinue', mag))\n",
    "\n",
    "    # k\n",
    "    flux['nue_k'] = (mceq_run.get_solution('k_nue', mag)\n",
    "                        + mceq_run.get_solution('k_antinue', mag))\n",
    "\n",
    "    # since there are no conventional tau neutrinos, prompt=total\n",
    "    flux['nutau_pr'] = (mceq_run.get_solution('total_nutau', mag)\n",
    "                        + mceq_run.get_solution('total_antinutau', mag))\n",
    "    flux_ranges.append(flux)"
   ]
  },
  {
   "cell_type": "code",
   "execution_count": 1,
   "metadata": {
    "collapsed": false
   },
   "outputs": [
    {
     "ename": "NameError",
     "evalue": "name 'mceq_run' is not defined",
     "output_type": "error",
     "traceback": [
      "\u001b[0;31m---------------------------------------------------------------------------\u001b[0m",
      "\u001b[0;31mNameError\u001b[0m                                 Traceback (most recent call last)",
      "\u001b[0;32m<ipython-input-1-003b29f7edfc>\u001b[0m in \u001b[0;36m<module>\u001b[0;34m()\u001b[0m\n\u001b[1;32m      1\u001b[0m \u001b[0;32mfrom\u001b[0m \u001b[0mmatplotlib\u001b[0m \u001b[0;32mimport\u001b[0m \u001b[0mcm\u001b[0m\u001b[0;34m\u001b[0m\u001b[0m\n\u001b[0;32m----> 2\u001b[0;31m \u001b[0me_grid\u001b[0m \u001b[0;34m=\u001b[0m \u001b[0mmceq_run\u001b[0m\u001b[0;34m.\u001b[0m\u001b[0me_grid\u001b[0m\u001b[0;34m\u001b[0m\u001b[0m\n\u001b[0m\u001b[1;32m      3\u001b[0m \u001b[0mcolors\u001b[0m \u001b[0;34m=\u001b[0m \u001b[0mnp\u001b[0m\u001b[0;34m.\u001b[0m\u001b[0mlinspace\u001b[0m\u001b[0;34m(\u001b[0m\u001b[0;36m0\u001b[0m\u001b[0;34m,\u001b[0m\u001b[0;36m1\u001b[0m\u001b[0;34m,\u001b[0m\u001b[0mlen\u001b[0m\u001b[0;34m(\u001b[0m\u001b[0mflux_ranges\u001b[0m\u001b[0;34m)\u001b[0m \u001b[0;34m-\u001b[0m \u001b[0;36m1\u001b[0m\u001b[0;34m)\u001b[0m\u001b[0;34m\u001b[0m\u001b[0m\n\u001b[1;32m      4\u001b[0m \u001b[0;31m#get path of the home directory + Desktop\u001b[0m\u001b[0;34m\u001b[0m\u001b[0;34m\u001b[0m\u001b[0m\n\u001b[1;32m      5\u001b[0m \u001b[0mparts\u001b[0m \u001b[0;34m=\u001b[0m \u001b[0;34m[\u001b[0m\u001b[0;34m'conv'\u001b[0m\u001b[0;34m,\u001b[0m\u001b[0;34m'pr'\u001b[0m\u001b[0;34m,\u001b[0m\u001b[0;34m'total'\u001b[0m\u001b[0;34m,\u001b[0m\u001b[0;34m'pi'\u001b[0m\u001b[0;34m,\u001b[0m\u001b[0;34m'k'\u001b[0m\u001b[0;34m]\u001b[0m\u001b[0;34m\u001b[0m\u001b[0m\n",
      "\u001b[0;31mNameError\u001b[0m: name 'mceq_run' is not defined"
     ]
    }
   ],
   "source": [
    "from matplotlib import cm\n",
    "e_grid = mceq_run.e_grid\n",
    "colors = np.linspace(0,1,len(flux_ranges) - 1)\n",
    "#get path of the home directory + Desktop\n",
    "parts = ['conv','pr','total','pi','k']\n",
    "save_pdf = True\n",
    "desktop = os.path.join(os.path.expanduser(\"~\"),'Google Drive/plots_new_sibyll')\n",
    "\n",
    "for part in parts:\n",
    "    plt.figure(figsize=(12., 4))\n",
    "    gs = plt.GridSpec(1,3)\n",
    "    pl = 0\n",
    "    for pref, lab in [('mu_',r'\\mu'), ('numu_',r'\\nu_\\mu'), ('nue_',r'\\nu_e')]:\n",
    "        ax1 = plt.subplot(gs[pl])\n",
    "        ax1.set_title(r'${0}$ $x_F$ fractions'.format(lab))\n",
    "        pl += 1\n",
    "        ref = sum([flux[pref + part] for flux in flux_ranges[:-1]])\n",
    "        between = None\n",
    "        for i, t in enumerate(range_tups[:-1]):#\n",
    "\n",
    "            r_str = '{0:5.2f} - {1:5.2f}'.format(xf_bins[t[0]], \n",
    "                                                 xf_bins[t[1] + 1 if t[1] != -1 else t[1]])\n",
    "            flux = flux_ranges[i]\n",
    "            if i == 0:\n",
    "                between = np.zeros_like(ref)\n",
    "            else:\n",
    "                between += flux_ranges[i - 1][pref + part]/ref\n",
    "            ax1.fill_between(e_grid,between, flux[pref + part]/ref+between,\n",
    "                             color=cm.hot(float(i)/(len(flux_ranges)-1.),1. ), \n",
    "                             label=r_str, alpha=0.5)\n",
    "            ax1.semilogx(e_grid,  flux[pref + part]/ref+between, \n",
    "                         color=cm.hot(float(i)/(len(flux_ranges)-1.),1. ), \n",
    "                         ls='-', lw=1.5,label=r_str)\n",
    "            ax1.set_xlim(55,1e9)\n",
    "            ax1.set_ylim(0,1.5)\n",
    "            ax1.set_xlabel(r\"$E_{{{0}}}$ [GeV]\".format(lab))\n",
    "            ax1.set_ylabel(r'${0}$ fraction'.format(lab))\n",
    "    #         plt.ylabel(r\"$\\Phi_{\" + lab + \"}$ (E/GeV)$^{\" + str(mag) +\" }$\" + \n",
    "    #                    \"(cm$^{2}$ s sr GeV)$^{-1}$\")\n",
    "            ax1.legend(loc='upper right',ncol=2)\n",
    "        plt.tight_layout()\n",
    "        if save_pdf: plt.savefig(os.path.join(desktop, 'xf-range-fractions_hor/' +\n",
    "                                              part + '_sib21.pdf'))"
   ]
  },
  {
   "cell_type": "code",
   "execution_count": 123,
   "metadata": {
    "collapsed": false
   },
   "outputs": [
    {
     "data": {
      "text/plain": [
       "<matplotlib.image.AxesImage at 0x140eb6ed0>"
      ]
     },
     "execution_count": 123,
     "metadata": {},
     "output_type": "execute_result"
    },
    {
     "data": {
      "image/png": "[encoded data removed]",
      "text/plain": [
       "<matplotlib.figure.Figure at 0x13af2af10>"
      ]
     },
     "metadata": {},
     "output_type": "display_data"
    }
   ],
   "source": [
    "mat3 = np.zeros((mceq_run.y.dim,mceq_run.y.dim))\n",
    "mceq_run.y.band = None\n",
    "mceq_run.y.assign_yield_idx(2212,(0,mceq_run.y.dim),211,(0,mceq_run.y.dim),mat3)\n",
    "plt.spy(mat3)"
   ]
  }
 ],
 "metadata": {
  "kernelspec": {
   "display_name": "Python 2",
   "language": "python",
   "name": "python2"
  },
  "language_info": {
   "codemirror_mode": {
    "name": "ipython",
    "version": 2
   },
   "file_extension": ".py",
   "mimetype": "text/x-python",
   "name": "python",
   "nbconvert_exporter": "python",
   "pygments_lexer": "ipython2",
   "version": "2.7.9"
  }
 },
 "nbformat": 4,
 "nbformat_minor": 0
}
